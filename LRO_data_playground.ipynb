{
 "cells": [
  {
   "cell_type": "markdown",
   "id": "41a12adc-161c-4f98-8f5f-163b09885a9a",
   "metadata": {},
   "source": [
    "# Recursive downloader for fileservers (sync local storage)\n",
    "Mounting HDD: `sudo mount -o uid=$(id -u),gid=$(id -g),umask=0000 /dev/sda /media/mglos/HDD1_8TB/`"
   ]
  },
  {
   "cell_type": "code",
   "execution_count": 1,
   "id": "4b114c76-fac2-40be-a4fa-702dfcc54312",
   "metadata": {},
   "outputs": [],
   "source": [
    "import logging\n",
    "logging.basicConfig(level=logging.INFO)\n",
    "from src.celery.initiators.diviner_initiator import DivinerInitiator\n",
    "d = DivinerInitiator()\n",
    "d.sweep()"
   ]
  }
 ],
 "metadata": {
  "kernelspec": {
   "display_name": "lts-dev",
   "language": "python",
   "name": "python3"
  },
  "language_info": {
   "codemirror_mode": {
    "name": "ipython",
    "version": 3
   },
   "file_extension": ".py",
   "mimetype": "text/x-python",
   "name": "python",
   "nbconvert_exporter": "python",
   "pygments_lexer": "ipython3",
   "version": "3.12.7"
  }
 },
 "nbformat": 4,
 "nbformat_minor": 5
}
