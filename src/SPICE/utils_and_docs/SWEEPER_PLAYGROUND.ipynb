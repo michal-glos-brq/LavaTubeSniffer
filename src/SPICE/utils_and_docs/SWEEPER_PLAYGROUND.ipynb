{
 "cells": [
  {
   "cell_type": "markdown",
   "metadata": {},
   "source": [
    "## Here we try to run the simulation with more wiggle space"
   ]
  },
  {
   "cell_type": "code",
   "execution_count": 1,
   "metadata": {
    "editable": true,
    "slideshow": {
     "slide_type": ""
    },
    "tags": []
   },
   "outputs": [],
   "source": [
    "import sys\n",
    "\n",
    "import numpy as np\n",
    "from astropy.time import TimeDelta\n",
    "import spiceypy as spice\n",
    "\n",
    "# sys.path.insert(0, \"/\".join(__file__.split(\"/\")[:-4]))\n",
    "sys.path.insert(0, \"/home/mglos/skola/DIP/LavaTubeSniffer\")\n",
    "from src.SPICE.config import (\n",
    "    MOON_STR_ID,\n",
    "    MOON_REF_FRAME_STR_ID,\n",
    "    TIME_STEP,\n",
    "    ABBERRATION_CORRECTION,\n",
    "    LRO_STR_ID,\n",
    ")\n",
    "from src.SPICE.instruments import DIVINERInstrument\n",
    "from src.SPICE.sweep import SweepIterator, Sweeper\n",
    "from src.SPICE import instruments\n"
   ]
  },
  {
   "cell_type": "code",
   "execution_count": 2,
   "metadata": {},
   "outputs": [
    {
     "name": "stderr",
     "output_type": "stream",
     "text": [
      "Processing ck: 100%|████████████████████████████████████████████████████████████████████████████████████████████████████| 185/185 [00:00<00:00, 2045.41it/s]\n",
      "Processing ck: 100%|████████████████████████████████████████████████████████████████████████████████████████████████████| 719/719 [00:00<00:00, 2985.96it/s]\n",
      "Processing spk: 100%|█████████████████████████████████████████████████████████████████████████████████████████████████████| 60/60 [00:00<00:00, 2923.98it/s]\n",
      "Loading static SPICE kernels from folders: 100%|██████████████████████████████████████████████████████████████████████████| 140/140 [00:06<00:00, 21.64it/s]\n",
      "Loading lone SPICE kernels from files: 100%|█████████████████████████████████████████████████████████████████████████████████| 4/4 [00:00<00:00, 153.36it/s]\n",
      "2025-02-21 22:24:50,970 - INFO - Loading detailed model of the Moon\n"
     ]
    }
   ],
   "source": [
    "sweeper = Sweeper()"
   ]
  },
  {
   "cell_type": "code",
   "execution_count": null,
   "metadata": {},
   "outputs": [
    {
     "name": "stderr",
     "output_type": "stream",
     "text": [
      "Simulation step:0/2000; failed: 0; found: 0:   0%|                                                       | 1.024/479545778.789 [00:00<92:36:35, 1438.37it/s]"
     ]
    },
    {
     "name": "stdout",
     "output_type": "stream",
     "text": [
      "> \u001b[0;32m/home/mglos/skola/DIP/LavaTubeSniffer/src/SPICE/sweep.py\u001b[0m(151)\u001b[0;36mrun_simulation\u001b[0;34m()\u001b[0m\n",
      "\u001b[0;32m    149 \u001b[0;31m                        \u001b[0;32mif\u001b[0m \u001b[0;32mnot\u001b[0m \u001b[0mfeasible_points\u001b[0m\u001b[0;34m:\u001b[0m\u001b[0;34m\u001b[0m\u001b[0;34m\u001b[0m\u001b[0m\n",
      "\u001b[0m\u001b[0;32m    150 \u001b[0;31m                            \u001b[0;32mimport\u001b[0m \u001b[0mpdb\u001b[0m\u001b[0;34m;\u001b[0m \u001b[0mpdb\u001b[0m\u001b[0;34m.\u001b[0m\u001b[0mset_trace\u001b[0m\u001b[0;34m(\u001b[0m\u001b[0;34m)\u001b[0m\u001b[0;34m\u001b[0m\u001b[0;34m\u001b[0m\u001b[0m\n",
      "\u001b[0m\u001b[0;32m--> 151 \u001b[0;31m                        \u001b[0mnew_distances\u001b[0m \u001b[0;34m=\u001b[0m \u001b[0mself\u001b[0m\u001b[0;34m.\u001b[0m\u001b[0mcompute_distances_from_projected_vector\u001b[0m\u001b[0;34m(\u001b[0m\u001b[0mfeasible_points\u001b[0m\u001b[0;34m,\u001b[0m \u001b[0mboresight\u001b[0m\u001b[0;34m)\u001b[0m\u001b[0;34m\u001b[0m\u001b[0;34m\u001b[0m\u001b[0m\n",
      "\u001b[0m\u001b[0;32m    152 \u001b[0;31m                        \u001b[0mboresights\u001b[0m\u001b[0;34m.\u001b[0m\u001b[0mappend\u001b[0m\u001b[0;34m(\u001b[0m\u001b[0mboresight\u001b[0m\u001b[0;34m)\u001b[0m\u001b[0;34m\u001b[0m\u001b[0;34m\u001b[0m\u001b[0m\n",
      "\u001b[0m\u001b[0;32m    153 \u001b[0;31m                        \u001b[0;32mif\u001b[0m \u001b[0many\u001b[0m\u001b[0;34m(\u001b[0m\u001b[0mnew_distances\u001b[0m \u001b[0;34m<\u001b[0m \u001b[0minstrument\u001b[0m\u001b[0;34m.\u001b[0m\u001b[0mrough_treshold\u001b[0m\u001b[0;34m)\u001b[0m\u001b[0;34m:\u001b[0m\u001b[0;34m\u001b[0m\u001b[0;34m\u001b[0m\u001b[0m\n",
      "\u001b[0m\n"
     ]
    },
    {
     "name": "stdin",
     "output_type": "stream",
     "text": [
      "ipdb>  self.compute_distances_from_projected_vector(feasible_points, boresight)\n"
     ]
    },
    {
     "name": "stdout",
     "output_type": "stream",
     "text": [
      "array([], dtype=float64)\n"
     ]
    },
    {
     "name": "stdin",
     "output_type": "stream",
     "text": [
      "ipdb>  feasable_points\n"
     ]
    },
    {
     "name": "stdout",
     "output_type": "stream",
     "text": [
      "*** NameError: name 'feasable_points' is not defined\n"
     ]
    },
    {
     "name": "stdin",
     "output_type": "stream",
     "text": [
      "ipdb>  feasible_points\n"
     ]
    },
    {
     "name": "stdout",
     "output_type": "stream",
     "text": [
      "array([], shape=(0, 3), dtype=float64)\n"
     ]
    },
    {
     "name": "stdin",
     "output_type": "stream",
     "text": [
      "ipdb>  feasible_points - boresight\n"
     ]
    },
    {
     "name": "stdout",
     "output_type": "stream",
     "text": [
      "array([], shape=(0, 3), dtype=float64)\n"
     ]
    },
    {
     "name": "stdin",
     "output_type": "stream",
     "text": [
      "ipdb>  c\n"
     ]
    },
    {
     "name": "stderr",
     "output_type": "stream",
     "text": [
      "Simulation step:0/2000; failed: 0; found: 0:   0%|                                        | 428.00707537268676/479545778.789 [11:34<216050:00:18,  1.62s/it]"
     ]
    },
    {
     "name": "stdout",
     "output_type": "stream",
     "text": [
      "> \u001b[0;32m/home/mglos/skola/DIP/LavaTubeSniffer/src/SPICE/sweep.py\u001b[0m(150)\u001b[0;36mrun_simulation\u001b[0;34m()\u001b[0m\n",
      "\u001b[0;32m    148 \u001b[0;31m                        \u001b[0mfeasible_points\u001b[0m\u001b[0;34m,\u001b[0m \u001b[0mfeasible_ids\u001b[0m\u001b[0;34m,\u001b[0m \u001b[0mboresight\u001b[0m \u001b[0;34m=\u001b[0m \u001b[0mself\u001b[0m\u001b[0;34m.\u001b[0m\u001b[0mfind_nearby_pits\u001b[0m\u001b[0;34m(\u001b[0m\u001b[0minstrument\u001b[0m\u001b[0;34m)\u001b[0m\u001b[0;34m\u001b[0m\u001b[0;34m\u001b[0m\u001b[0m\n",
      "\u001b[0m\u001b[0;32m    149 \u001b[0;31m                        \u001b[0;32mif\u001b[0m \u001b[0;32mnot\u001b[0m \u001b[0mfeasible_points\u001b[0m\u001b[0;34m:\u001b[0m\u001b[0;34m\u001b[0m\u001b[0;34m\u001b[0m\u001b[0m\n",
      "\u001b[0m\u001b[0;32m--> 150 \u001b[0;31m                            \u001b[0;32mimport\u001b[0m \u001b[0mpdb\u001b[0m\u001b[0;34m;\u001b[0m \u001b[0mpdb\u001b[0m\u001b[0;34m.\u001b[0m\u001b[0mset_trace\u001b[0m\u001b[0;34m(\u001b[0m\u001b[0;34m)\u001b[0m\u001b[0;34m\u001b[0m\u001b[0;34m\u001b[0m\u001b[0m\n",
      "\u001b[0m\u001b[0;32m    151 \u001b[0;31m                        \u001b[0mnew_distances\u001b[0m \u001b[0;34m=\u001b[0m \u001b[0mself\u001b[0m\u001b[0;34m.\u001b[0m\u001b[0mcompute_distances_from_projected_vector\u001b[0m\u001b[0;34m(\u001b[0m\u001b[0mfeasible_points\u001b[0m\u001b[0;34m,\u001b[0m \u001b[0mboresight\u001b[0m\u001b[0;34m)\u001b[0m\u001b[0;34m\u001b[0m\u001b[0;34m\u001b[0m\u001b[0m\n",
      "\u001b[0m\u001b[0;32m    152 \u001b[0;31m                        \u001b[0mboresights\u001b[0m\u001b[0;34m.\u001b[0m\u001b[0mappend\u001b[0m\u001b[0;34m(\u001b[0m\u001b[0mboresight\u001b[0m\u001b[0;34m)\u001b[0m\u001b[0;34m\u001b[0m\u001b[0;34m\u001b[0m\u001b[0m\n",
      "\u001b[0m\n"
     ]
    }
   ],
   "source": [
    "import cProfile\n",
    "import pstats\n",
    "\n",
    "# Define the output profiling file\n",
    "prof_file = \"sweeper_profile.prof\"\n",
    "\n",
    "# Run profiling and save to file\n",
    "profiler = cProfile.Profile()\n",
    "profiler.enable()\n",
    "\n",
    "# Run the simulation with profilingstepstep\n",
    "sweeper.run_simulation(2000)\n",
    "\n",
    "profiler.disable()\n",
    "profiler.dump_stats(prof_file)  # Save results\n",
    "\n",
    "print(f\"✅ Profiling complete. Results saved to {prof_file}\")\n"
   ]
  },
  {
   "cell_type": "code",
   "execution_count": 17,
   "metadata": {},
   "outputs": [
    {
     "ename": "ValueError",
     "evalue": "operands could not be broadcast together with shapes (1000,3) (0,) ",
     "output_type": "error",
     "traceback": [
      "\u001b[0;31m---------------------------------------------------------------------------\u001b[0m",
      "\u001b[0;31mValueError\u001b[0m                                Traceback (most recent call last)",
      "Cell \u001b[0;32mIn[17], line 4\u001b[0m\n\u001b[1;32m      1\u001b[0m \u001b[38;5;66;03m#sweeper.kd_tree.query_ball_point(np.array([1700,0,0]), 500)\u001b[39;00m\n\u001b[1;32m      3\u001b[0m x \u001b[38;5;241m=\u001b[39m np\u001b[38;5;241m.\u001b[39mones((\u001b[38;5;241m1000\u001b[39m,\u001b[38;5;241m3\u001b[39m))\n\u001b[0;32m----> 4\u001b[0m \u001b[43mx\u001b[49m\u001b[43m \u001b[49m\u001b[38;5;241;43m-\u001b[39;49m\u001b[43m \u001b[49m\u001b[43mnp\u001b[49m\u001b[38;5;241;43m.\u001b[39;49m\u001b[43marray\u001b[49m\u001b[43m(\u001b[49m\u001b[43m[\u001b[49m\u001b[43m]\u001b[49m\u001b[43m)\u001b[49m\n",
      "\u001b[0;31mValueError\u001b[0m: operands could not be broadcast together with shapes (1000,3) (0,) "
     ]
    }
   ],
   "source": [
    "#sweeper.kd_tree.query_ball_point(np.array([1700,0,0]), 500)\n",
    "\n",
    "x = np.ones((1000,3))\n",
    "x - np.array([])"
   ]
  },
  {
   "cell_type": "code",
   "execution_count": 4,
   "metadata": {},
   "outputs": [],
   "source": [
    "import pickle\n",
    "import datetime\n",
    "\n",
    "filename = '/home/mglos/skola/' + datetime.datetime.now().isoformat() + \"simulation_DIVINER_data.pkl\"\n",
    "with open(filename, \"wb\") as f:\n",
    "    pickle.dump(sweeper.data,f)"
   ]
  },
  {
   "cell_type": "code",
   "execution_count": 7,
   "metadata": {},
   "outputs": [],
   "source": [
    "import pickle\n",
    "filename = \"/home/mglos/skola/2025-02-20T02:23:17.885779simulation_DIVINER_data.pkl\"\n",
    "with open(filename, \"rb\") as f:\n",
    "    data = pickle.load(f)"
   ]
  },
  {
   "cell_type": "code",
   "execution_count": 21,
   "metadata": {},
   "outputs": [],
   "source": [
    "data_found = np.array([sweep[0] for sweep in data['found']])\n",
    "data_boresight = np.array([sweep[0] for sweep in data['boresight_projections']])"
   ]
  },
  {
   "cell_type": "code",
   "execution_count": 37,
   "metadata": {},
   "outputs": [],
   "source": [
    "#x = data_found[::100, :]\n",
    "y = data_boresight[::400, :]\n",
    "x = data_found[(np.linalg.norm((data_found - np.array([1136.98541918,  477.90804725, 1221.38220844])), axis=1) < 20)]"
   ]
  },
  {
   "cell_type": "code",
   "execution_count": 38,
   "metadata": {},
   "outputs": [
    {
     "data": {
      "text/html": [
       "        <script type=\"text/javascript\">\n",
       "        window.PlotlyConfig = {MathJaxConfig: 'local'};\n",
       "        if (window.MathJax && window.MathJax.Hub && window.MathJax.Hub.Config) {window.MathJax.Hub.Config({SVG: {font: \"STIX-Web\"}});}\n",
       "        </script>\n",
       "        <script type=\"module\">import \"https://cdn.plot.ly/plotly-3.0.0.min\"</script>\n",
       "        "
      ]
     },
     "metadata": {},
     "output_type": "display_data"
    },
    {
     "data": {
      "application/vnd.plotly.v1+json": {
       "config": {
        "plotlyServerURL": "https://plot.ly"
       },
       "data": [
        {
         "marker": {
          "color": {
           "bdata": "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",
           "dtype": "f8"
          },
          "colorbar": {
           "title": {
            "text": "Elevation"
           },
           "x": 0.9
          },
          "colorscale": [
           [
            0,
            "#440154"
           ],
           [
            0.1111111111111111,
            "#482878"
           ],
           [
            0.2222222222222222,
            "#3e4989"
           ],
           [
            0.3333333333333333,
            "#31688e"
           ],
           [
            0.4444444444444444,
            "#26828e"
           ],
           [
            0.5555555555555556,
            "#1f9e89"
           ],
           [
            0.6666666666666666,
            "#35b779"
           ],
           [
            0.7777777777777778,
            "#6ece58"
           ],
           [
            0.8888888888888888,
            "#b5de2b"
           ],
           [
            1,
            "#fde725"
           ]
          ],
          "size": 2
         },
         "mode": "markers",
         "name": "Main Data (Elevation)",
         "type": "scatter3d",
         "x": {
          "bdata": "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",
          "dtype": "f8"
         },
         "y": {
          "bdata": "JoKMXIfefUAC1cQB2OR9QLcxU8zQ6n1AvmJtly/wfUCtlUgTZ/Z9QEbgpzrO+31ANUxIrawBfkBjZxMaNwh+QFHAzjxLDn5AbXv7YxQUfkC8dTmW5Rl+QBdWxpAgIH5AchxiH6ImfkAWmWg9jCx+QN3kJJoUOn5ARLthfEwzfkDTdjzNDyx+QCiXMtJhJX5AzOKcwcQefkA1knZnIhh+QDKk68A8EX5AjAzaAi8KfkB0jBH8owN+QFG2WgZi/X1AaFaWh5r2fUA37qofefB9QP0SJCvL6X1ADmSkD9LifUDittgFvNR+QIufHnYi235ASa2lf6vhfkC7Nf7/Xed+QD8DSN3a7H5AJl8OxoHyfkAstpOoYvh+QNgz5bGh/n5A7Sz9twuFfUAm4UAqKot9QMWK4wn6kH1Ayrh1m5mWfUCgHc7Jv5x9QBK9ysXDon1A9Wjz1ZOofUASMnOeda59QAmI1r9itH1AaiT9N/y6fUBjd+ALxMF9QI5MJBdRCn9A+Qiz4TgEf0DL44Ymlf1+QJFWkU+49X5AF3O4p7HufkBY4EhK/+d9QFwid84H7n1Av8jD1BX0fUAsWkiX0/l9QEgN7tp2/31AA2ASi0QFfkCnK7Tu0gp+QGRNl27PEH5ABtXE6GEXfkC7itwwMx1+QGi1C/c0I35AghUpLg0pfkD/zRf1Iy9+QFbf4o6vNX5AVlP6tWg7fkAnlKb4gbt+QDL1m7iqs35AsvromFisfkDvrFm1V6V+QGHUHq3Gnn5Az3mxpS6YfkBiSf+tB5F+QKuIqkeOiX5A/fz/OHSCfkBmrG9Y/Hp+QNWV3I/Vc35AKrF6rYhhfUCXBEirt1t9QP928QzvU31AxCjRhvhKfUDu92TojkN9QBTClTPQR35AYvPo9vVPfkAn97W0V1Z+QPJK5KNYXX5AtOhhfE5mfkBmFmUAp25+QB6yi4DtdH5AKbq0uQl8fkDjYzkYJIN+QOW9oje+iX5AFqeTEEeSfkDK53QYv5x+QN+U6nuvsX1A6UNStaO3fUDyS8V+wb59QFXTS0nTxH1Ab4dWbPHKfUDoU4WYpdF9QLdQ4m/f2H1AA/IgyKvffUBUxT0BOeZ9QEZooaq87X1A8PWyxN30fUC+z9AgojB9QF4/Vet8N31AwP68OX1ufUC3H6yzmGZ9QIfUArpvYH1A4+4XTZRYfUCOqBqblU99QP/445v7R31APepgPsDtfkAYJ40SufV+QAq78NCE/H5AzXfYDKACf0BEZouoXQl/QK/dS4nEp31AKvWP2tStfUAJghfKFrV9QP6Zw6khu31AIEaXXlzBfUBm6DVcVMh9QACRDfqDz31AMgD1PDvWfUBae+TdzNx9QC2p/3985H1AaYItKYfrfUBZObnYoHZ+QB9XuItFfX5ArGI0xOmDfkCge5Zpq4p+QBh231dbkX5AUNGKog+YfkAGehj+A55+QHnist3Eo35A7GrTskaqfkDePemxxrB+QDziFIjEt35AeGkUBaoLfkBeGqM5hxJ+QGskNfUBGX5Ag+hwgHwffkAKUh/D2CV+QIKQ1DJgLH5A30w+I/MyfkAJHuEuzDl+QHvAFTzpQH5AS+WUtPJHfkCo6uDwq05+QOYjskB1VX5AxhM3/3tcfkAZmRDZGNt+QMYFKY9/035AhFJHGJrLfkDAFsLzOsR+QHY6YwCuvX5A246osSm3fkCNJuM0069+QObWS4EtqH5Aky2nOhOhfkD2hPBI+Zh9QMyaHjQzkX1AAccMe3qJfUD6TQjA/oF9QF/XwWFven1A9LnE3HxyfUBNX2EdZGt9QOPYNtlYZH1AZdQ8zTmPfkDxkecsh4Z+QIW+sRv/fn5A1kk+j3d4fkDDLyIgx3F+QAjYH/49an5AaQDdO4pjfkDIlyYmG1x+QPo9ZpUrVH5AO3xXJFVNfkCaCU4rzEZ+QKuWmxg+P35AkCgjKRdtfkBt+g2b5HN+QDbRryuXen5ASjRvtUKBfkDyBD6qBIh+QGxKORkYj35Aupos3IKVfkA3YGI3Ept+QPYOLCsroX5AUUlsnoynfkDwZuL6aa5+QIajQq8Etn5AjDyz4OlLfUBQCgZe/lJ9QAz0R5ozW31Ap7i9njFifUCbi6YUtGd9QK0+DqFRMX5AOApMrbspfkDtoSNlkSF+QB/Uk+1mGn5AAmLB4RYTfkCdt/UztQt+QL5bx1utA35AcpFe13D8fUAkMYj5cPV9QOIXuuYP7n1A/rmfBArnfUATfHmZat99QMJlRlLU431AidiDpe3qfUDbPB/pifF9QNu+Wbgf+H1A+SvCnL/+fUCQWYYmPQV+QJQfNyGCDH5ALRjfZIoTfkDj4+1BRxp+QK8c+1XhIH5AxhDr9T0ofkBfihuBaC9+QFx6BbNI435ABErx7pXbfkDE48VL59N+QGCoQcitzH5AUe7PLyHGfkCoO9d/tb9+QPhba401uH5AMo3mfIiwfkAQxB6bf6l+QNUuwoqRqX1AP4AqdEaifUAEVfneYJp9QBSwPIywkn1A9a3bKj2LfUAS3J99BIR9QEAZcYQifH1AHqKScgF1fUB8JjZDBW59QBE3ws5kMH1AahbYmXE4fkDp4nJHlj9+QIs+vtm1RX5AfdB+sdlLfkBdKNMRAFN+QHTTlGbeWX5AfDcLsEFgfkCg+kU+Vmd+QP9r++GpbX5A0Zvf06FzfkBLczNuaXp+QJq9fVhkgn5ALrgRY2VMfkCjDiibr0R+QIEk58o2PX5Awe04/+s1fkCtj+t3XC5+QEQV58v4Jn5A+yIWMk4ffkAKE6qOvhd+QOCGec3UEH5Ap7XWTikKfkBz7Vka9gJ+QHTdobC3+31ArGGiUjX0fUD6uSbUMNZ9QF66nyxJ3X1AHz0NQqbjfUDuduiChOp9QHq8xpAL8X1A/dB3GOv3fUBOXuJbjv99QGUjC6gKBn5Auo5SOBQNfkCXdS6LHRR+QLVOQVrRG35AcAMrk5EifkDU9yVKGPh9QJFOlW1b8X1AIWtfPvLofUDDnyG8SuF9QDk9N8j82X1AFFxuAY/SfUBHZRVbhsp9QOq8tKxww31A4U0RL7K8fUDKcvlFqrV9QA5gOHflrX1ABRSq5kSnfUAyYPWAoaN+QBfvNM8nqn5ACaCzkl+xfkCFCvVsP7h+QBs61sNQvn5AQ4+6LVjEfkAqIflcKMt+QK52ytuI0n5AlxDy8bHZfkCNudtdc299QKZq4xZddn1AfP2+6uJ8fUAKq/wZQIR9QN8M0Vc0i31At08pSdqRfUDTjjx8DJl9QLkLdFhHoH1ARZtOydmnfUAmFB44D9F+QOhv7yyKyX5AZ5UQ2D7CfkB5CO4UZLp+QABXKMiIs35AlcCBWz2tfkBrZosOyqZ+QOudU3tvn35AzUkHTuKXfkCSRfmX7ZB+QNu1ZKmQhH1A8AyUuVp9fUAETEqyT3Z9QNNE3Yembn1AS0pzNpJmfUBA3q+CB199QPg1NjVeWH1A4Mc/v25/fkA3YQlZY3d+QLLR1mCMb35AcY6G22xofkCVKmCx02F+QEixgGbAWn5AAFbnCnxTfkCmgeFdaUx+QC1Ek9kBRX5AwmJvCOc9fkD0r6R3VTd+QLwZQgSrMH5ARVH1RCMpfkBdVNJvIgF/QNd1QdBUCX9AcdUnz1e5fUCX4Xy4OcB9QHR8WlUax31A0ZGkc9LNfUCgOnBoI9R9QP7SYhnz2n1AXCX7EnPifUAcJALdrel9QP2PKTfA8H1AOYQscFL4fUCI1q8qIgB+QHp1FJpbBn5ALEjgnacYfkAsexhjOhF+QKh3PQA+CX5AcpPfY8QBfkAgvOVai/p9QAD8Gacv831AS8iCdKXrfUAfoN43oeR9QGzCxNKF3X1A311kq9rWfUDKuvDZts99QOfxsho7yH1AXxzWP/ZpfkAGXiLk7XB+QGZvZlKLd35A2/0ruWJ+fkDOb5ha24V+QBMVl7AOjX5ADIfU1bWSfkDyysRYzph+QOxnbLs0n35AanmjZBSmfkBssCNWja1+QNTHp9AYRn1AtXQ7dFBNfUATyXm/7lV9QPZZcgL9XH1AUxwXYL1ifUA9lgeGWOx+QFYffR3Q5H5AceTsHKPdfkAh3NZ84tZ+QFFT2r3U0H5AJam8x4/JfkCk1NS388F+QI1n9ECyun5AEbhzoz23fUA4dba3Wa99QOtvPjO0p31AC9rdTjugfUAcPzXMTpl9QFuZBeaTkn1AuR+llpKKfUAGu84asYN9QOH/ZZK5fH1AvhzZZTXvfUAHyTU8X/Z9QHY1xCxN/X1A4elf6N8DfkCpZsmBvQp+QJOjkGqVEX5Avfu1Ls4YfkAzQbfrQSB+QN09Uu1NJ35Ar7S242IufkD44qGGojV+QBUQ9/AtPX5AM47klg6jfkC7rhki2Kl+QApiQcAxsX5Ak/nS/CW4fkDpmidlUL5+QCI+BjWRxH5A8Ol5B6LLfkA72yr0ONN+QD6H41522n5AhhmREeVRfkCrvkCDXUp+QGU4cuYwQ35AhlN5JxA8fkDqIGzBlzR+QEZd3bJVLX5AUfu04uMlfkDH1SNxmB5+QIuyIv32F35Ari3XHVURfkCN4kcjZAp+QP+eXTZOA35AwxQQefn7fUBk8YSZoEp+QI+HSjfQUX5Az/w5UatYfkDvcWGoCF9+QFahKCIdZn5AFSIKQ7VtfkBE6NV4b3R+QPpYLHClen5ARM5lpV6BfkBXDmNDsod+QFccaul1jn5AuJ6ftoWWfkBjaHrbNeh9QDoPcbOl4X1A4+2PgDrZfUCt8udqtNF9QMksmGLWyn1AVpw7IaDDfUDo7DLIF7x9QIMLCcXvtH1AbZmpz0OufUClH0xWSKd9QJmN/Or6n31AUY8o0U7/fkBnvUL6qgd/QJeb/dkND39A8+MxTWy5fUCTWtGcM8B9QHI7BlNsx31Ao6LwtCrOfUBVlKq7s9R9QP9iWdDN231AdA4O73bjfUAKi18m2up9QFoIlCAI8n1AeR6DhRj6fUBe6hHJsgF+QMDC/XWrrH5A5k9PvkKkfkCdHqNW8px+QDjjhd6Wln5AvU1Qq+mPfkCGBsCS3Il+QLDLx7pJhH5AE1itLzZ8fkAQ2WnU2nR+QL34iq0Pbn5AW8Wqv49nfkA9FHnxYGB+QN2UVS17S31APec8suhEfUAcDGt2ez19QMV3GOEeV35AvM1siGNefkDxZBRkrGR+QM8+xJqaa35AKN4+31JzfkBkgIBSvXp+QJA7ljGHgH5ARDBtVwmHfkBRKyakro1+QFNjNatFlH5ArXM37vabfkCKLjnJpKR+QK7xh8BHOX1AguxTS0dBfUBCgE9COUh9QE6fqXW2Tn1A8tu4t5QPfkCeVDNHRwl+QNXtYFOeAX5AO74lhMn5fUD/o9+/j/J9QK2BPfQs631A9KtgkM/jfUDIwK+rvNx9QI5heYJE1n1AGP6kg17PfUARUdnr08h9QEcd0EdnwX1AK3BfaujwfkAas4L4gvl+QBh8QFtzAH9Ajv1lYRkHf0AZI2Zliqt9QEKKGTZCsn1AI2odTt+5fUA0GwesYsB9QJaMXcIZx31A32fD84XOfUB5unh9NtZ9QDQfMJqH3X1Ay61R5YHkfUAo+OQY1Ox9QMiCZ+FD9H1AGhyntRDKfkBroHGnvcJ+QEF9ha+0u35An9+ZhRe0fkCMxNXnta1+QJWE/2qtp35AgDYVAU6hfkCZXZIJPJp+QBY7YAPVkn5Ay17s2wWMfkCukUrfIIB9QFF6vYcNeX1A5JXHtHtyfUABAnGLJGt9QKy7e4QSY31AbRP5FZhbfUAvNE/l/FR9QJoxq2jYYX5AUCymkv5ofkC7G8HJLHB+QKyawj7Ndn5A0E/TJiN+fkCOvbtnK4Z+QLwm+zmQjH5AFwj202mSfkCZ5W6sHpl+QE0DtoKjn35Aee0p1uCmfkCa5wCVIK9+QCKve/YxRH1AXvK8OlRMfUA04Sl7s1N9QNCGmYYAXX1AfSsIgQpmfUAg0bTLOEp+QCwArsbDQn5AMQrVRJQ7fkB8vd8alDR+QOh+kaBULX5AjaoHhC0mfkDRMTju1x5+QHtjh/iaF35Aor9WYvwQfkDQ4FqWmgp+QGhYxSm4A35AwTAFcLv8fUCumNbmivV9QEE6XA607H5ACd6QlET1fkATNEIHZfx+QCASd8wDA39AC1tjyPOofUCeExJn2699QG9tZRdxt31AJuqT9Qq+fUDZrpKY0sR9QCqW8xBrzH1Aa7/U7x/UfUA90M2Nb9t9QBFlNwmQ4n1AJqhnd/zqfUCwrh4OUvJ9QDMo5bdd4H5APIhP/y3ZfkBJzODgxNF+QKU8b8vTyn5A68977ZXEfkBy/NL2YL5+QNqGf//Ct35Awrzdf1ewfkARBrvQn6l+QCVnsIqEpH1AjxGSm2GdfUCnUqGf8JV9QAXPCEuijn1AuQHox5eHfUCjb+iBlIB9QO8vCecQeX1A7xIWKHhyfUBZQ4EntWt9QK+aDHepLX5APcKYcpI0fkBifY0JBjt+QHUm4EDUQX5AHCcCwlNJfkD+HIVsl1B+QB1N49GaV35Ae/XXffpefkAnufq/umV+QJJ9AWmEbH5A3Z7XeCF0fkDiF2Y5LXx+QLHYhpLQWX5AMLV0X5RSfkCZ7d7kqUt+QBAhOs21RH5AOW9V5UM9fkDfHpx3DDZ+QNDio+QKL35A8tWBKVIofkAzpyGNniF+QGnWjycAG35A0km7iUwUfkBNPn3geQ1+QJTEr15pBn5Aiu4gCSZ8fUBHOA+FxYN9QLtvKuOqin1AZqm3MC2SfUA7fyZKrZl9QKprHuGAoH1AyreEUbqnfUCPfNGOba99QL9yog6qt31AJRnE6sC+fUBkA/NuYdt+QBXMBgc31H5ALEU9GtLMfkA/9+Dm9sV+QNfMEfHev35AFrftM8q5fkC6Eawq/bJ+QCFYAtq5q35A+XJdBSalfkDK9TsthEp+QCyep21XQ35AW+Re6TI8fkDdcOXVYzV+QN16Me5VLn5A2Fk1jXsnfkCxs7CaPyB+QG0hcmAPGX5ADRoECa4SfkAv/gMnYAx+QEWPCx7BBX5AnyRhJxT/fUB0tc5o+/d9QEgddodrRH1ADn4IdkFMfUDwTgt/7VR9QIB+fuPkW31A57Yl2H9ifUAN/l4RjGJ9QBnNEf0aXX1AHKMssr9VfUBv+NfuVk19QEVvrb1kRn1AXD8CfLezfkB+h0rDErt+QO1rdwPcwn5A8H6W9jfKfkAh9DoGdNB+QFoEuIde135AVS6kXMbefkDzdIYFk+Z+QIlQQcdS7n5AxvvciCp/fUCX7Nwc4YZ9QC084pLhjX1AoPsacVCVfUBopGhd+Jx9QLT6Ncb4o31AbBoYPkGrfUAZzf+w5rJ9QINoNPxAu31Ax601lavCfUDKqxeILQp/QEUXgnpEA39AHtxqOi37fkAlhctQ8fB9QJ7PdKmY6n1AXXmTlGXifUAmuvK/T9t9QKQA/2+K1H1AsKQLt3fNfUAssSMzDsZ9QGKT0FJrv31An1UXDyK5fUCnQGGKWLJ9QDaZ+oJNq31AutY5QfKkfUAucVOr6DF+QJhLnwqgOX5A+FYIZGlAfkBBS6GxPUd+QPwCG4UCT35APHvAspRWfkCykYq2pl1+QPWf/rNuZX5AGdjKKV9sfkDXpbjGEHN+QMykkrC1en5AwQ8y/HGDfkC9zZDbTdB+QLo/s0NfyX5AacwXjFXCfkCza45EA7t+QHx4g+vXtH5ACQJ/fOyufkB9tjPu4ah+QF8OUWK6oX5A37ytg86afkAmkydXZ5R+QDPst1sEi31AxtKWgfyDfUDQAgNvQX19QHt1s5xEdn1AyR3HIthufUAbnCQaiGd9QNY1bEQqYX1AXwPR2DxIfkBtHNfSq09+QCDM77s1Vn5AJk2XtGNdfkBQZkTvT2V+QFQQQ6ywbH5AlgDna1lzfkA7bbrWqHp+QB1hCy9dgX5A3NkpajeIfkAllwLFWJB+QKQFbMNUmX5A+TyJwko5fUBQwHRZr0B9QKb7qHghH35A/R7zUmEZfkCB9RcF2xJ+QJw1sBp1DH5AmCCyhT4GfkAYSHjXbwB+QDmEVYNr+n1ArjWjy+vzfUBKKiRACu59QOLIoVtK6H1AxV34YErifUDjRC5M+tx9QP4zVfPh1n1A27vIU5jQfUDOtyYA+Ah+QNoeuy/gD35ArMcuE4AWfkC0X69kBR1+QBuViPGII35AWu1OzBwqfkCaYuIzrjB+QDrQaXo+N35AZst81hI+fkBN6WHfN0V+QJGRt9liTH5ABOJLCiJTfkAmuan71Vl+QHE1hifZYH5ADcWvTv7tfUC4ZyRvDuh9QG2AxZrw4H1AxwDwUM7afUCgsy6c8dR9QAJVk2Dnzn1Aqq86jFfIfUBxX1QLUsJ9QOhF33XDvH1A6E9Xcma3fUC2Fa9DELF9QEblg7hGq31APVw/caalfUDZ9l0QR8R9QA6Sah1Fy31AH7v0cs/RfUDIPvcjRdh9QIPcRIDr3n1AmXHvn1blfUDbR/RqMex9QA+9s1tn831A0HoF/yD6fUAFBjqmIwF+QNDsomsaCH5AKDER6fYPfkBcoHg+nhZ+QL515epc+X5A/h4kvBzzfkBxuIu1Lu1+QFaZ1T54535ActCjthPifkDnTem0sNx+QEVXF48h1n5AvlcibsHPfkAtURSd5rR9QIknAnkGr31AGJ/GImaofUDrA6L7LqJ9QEze7r4CnH1ANb1xJWmWfUCnAlEe4pB9QCH9NNYSin1AjDrjcF6EfUCZBPgf0H59QFIhUfZdeH1Ajyp1cOHQfkCbHcJqI9h+QJynB2CO335ABfhGfeLlfkAtfpGvMOx+QAKxnenG8n5A6/C/FIn5fkBrgagd/oF9QIMG1lDUiH1AtaJIfp2PfUCVE4C6GZZ9QCzQ4eTrnH1AuMgr/PKjfUAmEopWpap9QOMKbax3sX1AO5/5FxK4fUDaYcuHbr99QFIwNYlrx31AwpUuPaHNfUCtqGE6o41+QJCgAIl5aX1AyMuk8JtkfUCaozZjp159QFlS1DbbV31AhYtDRxVRfUBjmT9nLkt9QMAq2bQ/in5AbV7LNauQfkC2erkCbJd+QImD4eTAnn5Ak4RDWlKlfkDQXqh6cqt+QMNSrnBSsX5AmhtpA5O3fkDMrr3t3b5+QD7bzuTixX5AlHupb73MfkAeKUT6h1N9QLTBsdL2WX1AzKspUBhhfUDek1ur4mh9QG9XacgJcH1AKU4k9252fUAMVhKFBH19QBCrDAD0lX5ATUpnFumOfkAsQZLv9Ih+QIf3XbrQg35A59rJRkl+fkC6P+kI23h+QGyuR5XQc35A6fe+5htufkAGblkAwmd+QDdzSPTDYX5AC8gVeWlcfkCplRItB1d+QLR75z0MUX5A03vYfW00fkCM9b6CgDt+QAnP7kXDQX5AACQXkt9HfkDgfk2Dr05+QDXkIlTCVX5AdcMf1HVcfkC3tvtXAmN+QEo9MloCan5AseQPykpwfkCchEEsR3Z+QBZOXqnlfH5Ac2QRLcSEfkBorlh9wox+QMZ8l4qBZX5Ap4PCsnNffkCbDO4Wjll+QBb3W3SUU35ARe0DHIdNfkDHIb8/jEd+QJM5bwGlQX5A/rSXdxE8fkA4Oxc2SDZ+QMu4rQ1jMH5An4taJccqfkCj6SV8KiV+QNZNj2R7H35A12CvacIZfkC7sFfBm919QPhpbd+x5H1A+axG98HrfUAWLTL8V/J9QFg+TVwY+X1AepOJldX/fUD41fUnUQZ+QNNavUNUDX5An/CFFM0UfkB+KE6YiBt+QPkzYDNtIn5AFcd0mDEpfkAmdQK6nTB+QIp4m1DYN35ApmYVddwofkC2Wrau+iJ+QMBiMw51HH5ANZmb0HcWfkAw2X1TkBB+QF26v+HqCn5A83KPF8YEfkCaXIw7af59QOO17cm9+H1AK8j56EDzfUByWv6rQu19QG3uYRvi531Ask+91/DhfUAkPpIbstt9QFqyHZo1935AJJ8XmO7+fkAUjvJPoAZ/QLjTcMRoDX9AraXLe9yhfUAb1kgyF6h9QN6oKHuQr31AMO0vlRu2fUDC57h0irx9QHkI8TZNw31AKhJyPY/KfUBfWu2QztF9QCh+D7DA2H1AQCgTR33ffUCkdG70P+d9QPHYNlfW7n1AP8PfFQ31fUBhehAvRRF+QHrNbsfYC35A6/7yfP4EfkBbt5nqvP59QOT19M2w+H1ALWCgzZ/yfUDk1Ls+pux9QAUuwf+65n1A3DUaZiLhfUAWETIRg9t9QMDgGkbX1X1A6ix7BIDQfUBknwMBdcp9QJIk+al4xH1AmguGOmzIfkBzJiXrdM9+QBH1mNbZ1n5AsBIbfwPefkBKn98AUuR+QO4gdia36n5A6f0hpIXxfkCDegO8ivh+QD9A1uVO9X1Ak82ythvvfUDba93RN+h9QMgbi8mI4n1AOzTeroXcfUDyJmbDetZ9QHHMPU/az31A/I3+BWvKfUCzrosOHcV9QBN59+etv31AqPcNGVy5fUD48Y/aK7R9QAC/MeRSrn1ACzbQjqKafkBNEmfgF6F+QG8uvwIuqH5AL0CKknOvfkC6/2eB5rV+QDDU7YbZu35A9QYnWxnCfkCICCMmIMl+QON9UnqO0H5AEukJ9KnXfkCXcoVXwd5+QD3bR6oAYX1AW2CjxHJnfUBLmqgmg259QLKquzL4dX1AM59hNRR9fUAGteY6DIR9QL6SkKYdi31Acj+XPkCSfUCFCwXvAAR/QKoFGtKG/X5AHPvrcqf2fkASRemBUtl9QABZmX+2031AkXAFmsDMfUC1qTjficZ9QKZV1pQqwX1A18GsHyq7fUCq2xa7JbV9QH74dL0rr31ARuiSWo+pfUBAP1ExAKR9QFysirEvnn1AKpHqpGWYfUAEx1+KF2p+QCLdTM3scH5ANsMG3/t3fkAksqiskX5+QJOB5cOMhX5AwTUck9qMfkCrrGRHoJN+QGIofhOlmX5A+Pau9qOffkBUyuaLM6Z+QEFM5BUDrX5A01pvxDC0fkCMwcu35bt+QOtcCuB3BH9AkW2ie87+fkDr81vcLfl+QGed+CbZ835Aw+TxyBnufkAWo5MeVed+QJHI1JYb4X5AmB8nbdXIfUAqdqb3gcN9QHrug3RkvH1A9OtocSi2fUC8vX6wq7B9QEoigPrCqn1AQqa2LxqlfUDo4J5D9559QOie0+xQmX1AwjG8Z9GTfUAuHqWg8I19QF6vR2w3iH1AjNHFPnVRfkCDOkl0iFh+QDMdu3ckX35AJ+pBIZVlfkBlniUgh2x+QKGGG4kadH5ARIFfDTR7fkCldg396YB+QNDRPHg1h35AV5pWxeONfkBUU5VPBZR+QIt++Q32mn5AzM610v6ifkCa7rRL2wV/QAaZo+JWAH9AX57dlvf6fkAmba77zfR+QFYXBSz/7X5Ap8JAGTnPfUBFWQeMa8l9QCYuZkuXwn1AsF+ncYu8fUDr2F0KG7d9QGId0sYmsX1AnIv/vlurfUCkyG2KV6V9QJTGHnXan31AhsnYe0mafUDblnJFU5R9QCn4v+HPjn1AfR67SDQzfkCFi0qHUjp+QN7UIzm3QH5AzD5YjQVHfkDjZAg/Fk5+QKepxXk/VX5Ad85ORBJcfkDAlhnq3GJ+QOy1axfwaX5AIly+gGJwfkAFIzNUkHZ+QLd3vNtsfX5A32Fu8ISFfkAhUpuAo41+QGrQRUJm/H5AerYtLk32fkDeSvTsm/B+QDGM8zUy635AKvTAR/DlfkAsZw6AZ+B+QAmuUQUg2n5AEQ2I7AXUfkBFq5Rx77Z9QCPKbI2IsH1AyFG/1jOqfUAcCgOUAaR9QDIfYT9jnn1A8j3n4w6ZfUBIAjrQOJN9QDYlUiMXjX1A60H23rCHfUBppRDrB4J9QAdOwKgcfH1AE05BVRjofUBC0ibnYO99QHujw8py9n1AsFEYuAj9fUC2yMxmAwR+QDZ7JVW9Cn5AlbYVy7ERfkAs56PjBxl+QGglX3xaIH5A1JCrdGUnfkAVZWOqfS5+QCvj6faWNX5ACcr4tgE9fkBDC39YTER+QPw5C2BuyH5AKgy22mXCfkBc/ruWmrx+QBCSRurEtn5A1Rqnga+wfkAMmaOQpat+QGDAx+nhpn5ATRA4ebOhfkC7mB4tL5x+QC6l+G4Kln5A4t2pKlGQfkAMJmyb/4p+QL6Pfr6i8X5AQQ+Sgo7rfkBFmbmowOV+QGbgCF054H5A51VpWC/bfkDJF3asANZ+QIZTA16Xz35AhAIibHTJfkDDtQgECq59QNl3YMVwqH1AvWKexQmifUBId2GL85t9QGlmv+rqlX1A/37UcYSQfUBSDiIG5Yp9QECH3hZrhH1AN0+xIu1+fUBOAMb1gHl9QEZsSroZc31Ap06aRnm5fUAPRvw26MB9QDLa7Fp0x31AXl5swavOfUBfy/zYS9V9QOdznlgT3H1AJUHPOlHjfUBne9H7x+p9QDpl4Ogp8n1AFDXE3G/5fUDwIDclJgF+QCBig+wlCX5AkhrTqa8PfkBgxRLORMB+QM56aH4nun5AkEQGZHK0fkBUlpjnjq5+QFIDdNkEqX5A1EV/UROkfkAE40iHBJ9+QHPBbZ18mX5A5irwe+aTfkC7w6ctwo1+QGhfJ3kbiH5AqV9YOp+CfkAZZTPILV19QMfnWqjMWH1AjyGaJe1SfUC48lEkvEt9QDGjH6GmRX1AXN1TDmWufkCvLdbyZLV+QFBc95DXvH5AQ9oGEx7EfkCk/OFUOcp+QKh+IiGj0H5AfLhP76DXfkBIKe+q8t5+QI0a1Jub5n5AoPvKcXBufUDDvfkla3V9QM98WxQyfH1AP/fok8ODfUD1Xk7yFot9QAH0ey7OkX1AavoRsB+ZfUDix55miKB9QDv+gm0qqH1AEolScVSvfUCQJSd5KnV+QOqyEyEXb35ADCny0OVofkAZrunZBWN+QJxSuJS9XX5AOyN1Tj9YfkD6TGi0WFJ+QIEZdAHvTH5A3jb7xClHfkBteVHQO0F+QKsT0W7PO35A+RO347Q2fkCKzgI3gDF+QIT3ja6DK35Av9Yzn05HfkA6Wfv9nE5+QKyg6hc3VX5A3ZIwzbxbfkDYnEvzCWN+QBXjyXGTan5AI6FMcXNxfkDbftaf0nd+QJcTrsiYfn5Atk5oZTuFfkBfDEFrtYt+QDSlSFwUk35AeWkPc3abfkDJGy1Vni99QG+0z85I7H1AvNeJyqHzfUBtMSRkzPp9QJL+nEeFAX5A2yM0xoUIfkBZkQYlVg9+QLI7i5KDFn5A9a2lJPodfkAhIjL/UyV+QAChR92GLH5Ani3AxLwzfkDMHO2Q7Dp+QLrGKLd8Qn5AKGxPtNRJfkCyL6YFbwx/QJwebWQfBn9AdhyEJCj/fkD1WayctuF9QMAA6zcb3H1AfSNOS0LVfUAb4U55J899QPhEGRq4yX1AuBbEwunDfUCBjJx6w719QEHhU8jRt31Ad4tjom6yfUBQJKc5Oq19QDUv9koMp31ACb/Wk6KhfUBumfQqmPB+QOoX0mCl+H5AF7CmAZMAf0C6pPnidQd/QGtEqq6wnX1AI6isZ2+kfUDNDbvDNax9QI5hpEjdsn1AKDgF36O5fUDQoZL598B9QGPvWt6QyH1Aqgc6f+XPfUBaNssj8dZ9QMQduZZJ3n1AEzP6YYbmfUCERmi15e19QNDXGFjLrH5AJb0XPdClfkBsVYuzk59+QBIKT4cqmn5AYvOpph2VfkD6tATK7o9+QJLZGUN+i35AVvMPVMeGfkBl+xKoUoB+QOIobqFren5AWv23q/x0fkC7EUhewG9+QDbPw0QRan5AvJMT45s5fUAw9PrJrjN9QEK+XCM8/H1ALuQIurgDfkAp0E+Oxwp+QISFOFTOEX5AlsIPWo8YfkAN93o8Wh9+QHo1I7pvJn5A3aT0ttUtfkA2DAQWSzV+QFiW2XHDPH5AxiWbcxpEfkC4L5MFUEt+QAMu8tqCUn5AzL8wKfBZfkBPlD6BmwV/QMw5baZaAH9A2bqnlQD7fkDlMcy8f/R+QJvkQOII7n5AmANJRD3PfUAetvuL38h9QOgsMz53wn1A2MH1QuG8fUAxpBY4Vrd9QEPbkwB9sX1APQ8G8bCrfUBuKqWrE6Z9QAO7o4uyoH1AIO9MzR2bfUCB0OcTTJV9QEdN3FhjWn5AO1RsasxhfkAgk+qQdmh+QCfzpzZVb35AwqOJGrZ2fkCea3rYo35+QLJjgruOhX5AEKq4SG2LfkBD+ikOB5J+QPtpr6HDmH5AvIF+04uffkB5+VJ0Dad+QKTEAjh9r35ANsGKHiY2fUC+eX3dBj59QIZbp2MERX1AdYzIwsBLfUCmrV5YNrd+QFKTpv91vn5A9te62ffFfkApxSP1yc1+QKyuDQDr035AbUZYK4DafkAJNNCNo+F+QHBUkV8E6X5Amai9a7HwfkCLadiCnXR9QAI7OxM7fH1ASvSxKBaDfUBVDt9QQop9QMfinyw1kn1ANW9srfWYfUDVGg3n9J99QKQuG2Fkp31AsZCKs+mufUD8llsFJLd9QCtd+JO5tX5AV5RiOsavfkC7eOTGNqp+QH5fFKfxpH5A0RQW5+yffkD7EeULC5t+QH7QR97klX5Aactv7UiQfkA+S6HRuYp+QEyuIIIdhX5AU5DD6Hp/fkD3zOpMHHp+QPsIjYqgUH1AFT8ZkcxLfUCszHQCbkZ9QJTjnqGsP31AL6HZQmjBfUAN5EWr9Mh9QIAa91rdz31AO7CIVOXWfUCZlng92d19QMHAnTzf5H1AXC+KKD7sfUDyPeQ6pPN9QEwnq98l+31AmIQ596YCfkCkIWTAdwp+QG4iUTRYEn5AjjsfxCkZfkBme0UV5gt/QDyviJhX631AdtBdBUDmfUAbhbGKZt99QJ/xdBhK2X1AFBBCNunTfUAFrPf4Nc59QKafFjoQyH1AkMAX7THCfUCYgzt6Ar19QES+/PH+t31AQuPYhCKyfUDMtpHDl6x9QPlExVBtp31ARHxmNxxJfkASgha8xFF+QNVqFNC8WX5AA0ZS1UdjfkAmfaJg92x+QOd/h2C5dH5Am9SrlS59fkCjBGP5VoV+QFak1wWxjX5A+b6MA0OYfkCswmn+15V+QE5o2twPj35A8hp/Iv6IfkCxDIcE64N+QJXZ0L4Cf35Ab/GQ76Z5fkBijxpx2HR+QCaQVj3wb35AZqc2OPZpfkBo7uV8CmR+QMcI4ZjqXn5AevL++BdafkBWVYLgcVR+QCauum5Sx35AmNId8dPOfkDBE1+Yp9Z+QPi1AAHc3X5AaACwro3kfkD7duQjdut+QJxkXlOy8n5AffjSsDv6fkD46Cy2Rf9+QIY3czTi+X5AwoLyu5/0fkAe41Hiie9+QJlTSyPy6X5AEvwMtJnjfkDAwMl8jd1+QDDL4IrLv31AqVaaz/y4fUAMPrPW9LJ9QFKM2zyhrX1Ajrq36geofUBIgJUtsaJ9QFn25NrHnH1AVDm6WmCXfUCmMkWbJpJ9QIuL1WGAjH1Abu+iuw+HfUCZ/KrYVsl9QJ/2Fbri0H1AezxD4P3XfUDsWuuX2d59QHg9tHES5n1ALvn5tzTtfUDU9r1ryvR9QCL6XFms/H1AhMQpSo4DfkDXUmjAIAt+QIn+452OEn5AZ/6vM8UafkAC7/ZRByJ+QJmX55ZeOH5AyCLUA4oyfkALkVWLgCx+QPJyskYCJ35AaHk+smkhfkDxyrSz8xt+QIrljYHvFX5AxyoEXUcQfkDgD1lc7gp+QBBjtoOXBX5AgOWdlG4AfkDUJD3+JPt9QBHnT7Kj9X1AyiGtKPzvfUD8y9Xz+BN+QMQ8jN43G35AVl5lw20ifkAp5lxxeil+QPHlYhekMH5AIOB4PAQ4fkDnPH8sLj9+QHXwcSJhRn5AYxxMx8tNfkA2NwusLlV+QKgVdZKDXH5AWdQvevBjfkACMD3sXmt+QHI1LngQc35AK7wtEbSXfkDYi5AI75B+QB5yZ2jcin5Av8MmGsuFfkBmMoD89YB+QPd7rVTAe35A/NLdgw13fkBywCHYTnJ+QFFuSxFhbH5AHRhJvnlmfkDU+su/WmF+QJWVNBSuXH5AXOYUJB5XfkD+wraEoVF+QDxTQF3aXX5AvBkmnFFlfkCkSquERWx+QEhHT1Qyc35Ay4u79K56fkCLoT+VsoJ+QLo8tvMHin5A9OriMwCQfkAe50xLlJZ+QHAzg/F2nX5A14IQL4ukfkBc3X0ZHqx+QKOQTCiKtH5A0JRXlik6fUAooGZ/fUJ9QJV44JufSX1A3AdOM1xQfUBUSYdYUuV+QK2r4r2R335AZ+h+77nZfkCUTrnfOdR+QE9gQoYaz35A8spo4WjKfkArW19U18V+QAbnjVOxv35AsDkUHAy6fkB2bARye5h9QL29Xad+kn1AiKWz+cyMfUDjjaiiHYd9QFLZ8zGEgX1AnafX7N17fUB2osYw63V9QJEyk3SncH1A8IsZ3oBrfUDpsBK/56t+QKt1Vw8Es35AlzS3i5e6fkBcBUZYm8J+QByOJGXkyH5AGU0jKpLPfkBij+gHpNZ+QPuwaeAV3n5AnM/tUeTlfkDE3zxgle1+QPEsAHLg+31ACOIuRyP3fUAumhe3NPF9QJQSVo7h6n1A6f+jNHHlfUCg6Tcmw999QO0fxtQE2n1A6riVcfvTfUAJ8gbI3M59QHvY3Af9yX1ArOWLCMPEfUC04dFALL99QGpRTTgUun1AhBMUUH60fUAHrCIPVNh+QCL+kD1L4H5AoHX2LzDofkCWMjhvJe9+QAZLGygQ9n5A6YEGcFr9fkDAM8yIKYt9QGpgMfiXkn1AROEkNwmafUDzPpvwIKF9QIc8sOxtqH1AjusZxPevfUBcFlHtkrd9QCnPXj75vn1AmiLbEDDGfUDIRlW9PM59QKZnc2+N1n1AJEZTIl/dfUCxqc955vh9QF6TSrs49H1AQuSn4D/ufUCMzG1T5ud9QDy5RnCH4n1AKCmfJ+TcfUCdajVoINd9QLETlRIQ0X1AejVBkgXMfUAAb+AiJ8d9QGjJn+j8wX1AlQqijzu8fUC0TjRCWLd9QHMWElPnqX5ANSiuBAaxfkCB9gy2uLh+QPsf7O12wH5AKEM3N+TGfkAdXNW0ds1+QGo1DdGq1H5AxSHRnjncfkBZ2FByIeR+QHtPsPO/635AMOArgbxpfUADyCyoGHF9QJYi684leH1AN2drJr1/fUCrZjH7eod9QECq9uaSjn1A6rtSggyWfUD1815suZ19QFygIV5/pX1ASCUCu0etfUCmDkW5fwt/QBjdfliCBn9AOUcSHBQBf0BPld+Sffp+QFncdTh59H5AAPvaKpfXfUBe2m8TiNJ9QLM2eoLXy31A6TCEPu3FfUBFlpaN7sB9QEzYz2xPu31AQanDWau1fUByuBjYCbB9QBf794TLqn1Au+Rmv6SlfUBtneBxIqB9QAkduVG7mn1ABD7SUF5WfkAHSacfAF5+QF7MqLrRZH5AG9JslQBsfkAF+odNvnN+QBN9DIgOfH5AuRUni9CCfkD9dC1DGYl+QGgwbooUkH5Ae9/Ua/2WfkDczk/aFJ5+QBujAskgpn5AlHI8pt0zfUAg39kAqjt9QMJ6RikjQ31A4fWz44LwfkBKiObPs+p+QDtkfdPt5H5AyCcv03nffkA+/7ZTUNp+QEAuAdKz1X5AcdhsuO/QfkBw8CBQ2Mp+QEkLjtwWxX5AoujJ3KmifUDPujxQqZx9QGHSd2Pcln1AylrMGxqRfUBGEgQutot9QNXXbX92hn1AkyXQKICAfUDEnaj1KHt9QHLl8V8Xdn1AuxTaKk5wfUDNTifeVpN+QNopdOwajn5AbfLoQf2IfkB4cJds32N9QFx/bh4XX31AduUxpyFafUAx49FkzVN9QMsA2NxoTX1ADlWHrARIfUAKtyUobs59QHlu5i8s1n1A7CJmCHPdfUBLKc/tn+R9QK70gRoY7H1AeZgRklXzfUAQamnvLPt9QBsdCtc3A35AxRw8cGkKfkABzcZ2ERJ+QE7gXxePGX5ALZO4R+IhfkCkZw6Nail+QAFGb+FbjX5ANVvw8LyGfkCDKQ925IB+QF9z8CsPfH5AEOVo1Gl3fkAkmE+oCXJ+QH15CG0cbX5Al/HZhj1ofkB5wtElnGJ+QNb/fk7kXH5ApGs/zQdYfkBiWxiQW1N+QPO8ZKHeTX5AqDicLp/VfkB+g7bXsN1+QOlnK2mo5X5ANHkW57zsfkBzx6dBzfN+QHDw/uc4+35A52JAyrkCf0BYerRyp4l9QH8jF1VlkX1AJiiRTs2YfUCnnRTkBaB9QCerFceep31AVqv/dkGvfUD66n4XA7d9QCvoMAJbvn1AGtU+b/nFfUCR5tDJZs59QMRfvEdR1n1AypXvnsp4fkCQBY8ZGoB+QB0fB1uvh35AT2Zc+0WPfkAIkNmMxpZ+QEiUYdMPnn5AHjnapbCkfkCACGUvh6t+QOPXwx0is35Ajhz49se6fkA6uswKh8J+QNwYn5Rlyn5A50zkkClNfUD0a8K+9FR9QJ6kb/jMXX1AxhHtl7FlfUBZXW+GdGx9QLYeif/ec31AADKBLSgmfkD7reS/xiB+QD54Q5G3Gn5AskScaywVfkCW5/EysA9+QFEsLXaLCn5AUugAf9YEfkBshDrG+v59QIhcllfZ+X1AprEqdMT0fUBaQEwDWO99QGmEgQJV6n1A9FDfC9DkfUBalThWJ999QAlK/dFYMn1A+8rVlnAyfkAi7WwKrCx+QMTMuBjIJn5AcI+ObokhfkB4pBasFxx+QOm5uQfYFn5AkSonN9YQfkCKUuPjagt+QH6EkxthBn5AC6uxuRUBfkAwkvsDI/x9QLJs7pDk9n1AM/aaknXxfUATgzw+Aux9QHbaTwj+T31ACDUWxsNXfUBSbeQIZmB9QNYNvbeJaH1ALXZ+JspvfUC3rcIfBXd9QOpmL7GZm35AGt0VeESVfkBtqe7sAJB+QGcgS/d9i35AGcFbSGCGfkDQXmIH1YF+QJUvR83ZfX5AIXrf5fJ3fkBJ0PQkMHJ+QPNEDxzlbH5AM4T6lDxofkDjLFd6AWN+QB2cd42tXX5Ar+AdvG4sfUAYhUKEB9t+QB9sya8c435AeIN2nYLrfkCSZ82uEvN+QFN86Hk4+n5AeRWuOrIBf0CAzYM8cZF9QDsCdXEXmX1A624tCsGgfUAFRFZsIqh9QIzqxcOtr31AK380Q4m3fUCiLdZbUr99QId3tT/4xn1AaEkZ8HbOfUA5lidFztZ9QAAnH+s6331Aq409y0rmfUA/nh6Nfq99QJht1nZkqX1A5bupRbOjfUD35CM6+Z19QOr5xALTmH1AcPDD2eyTfUA8v/7YHI59QIn/eq+liH1AUKeCUaiDfUDxOcU+Gn59QNOR6Sl6431A50jCcG7rfUCu9ZG7AfN9QDFTRiE1+n1AXnGyfuEBfkCeX8hMDgl+QLLjN/m6EH5AOFumzvQYfkD/qXlvgyB+QAGTowJEKH5A/zJiauAvfkDavUvJuTd+QIKkpTHOP35AUYAESEtHfkDrywkgFyN+QFYwsXvXHX5AEMDuDusXfkDAYOlgURJ+QFz1RxbIDH5A51kKnL0HfkA0cks2KAJ+QL6CuLNP/H1AIHHweDH3fUBuCc/pLvJ9QF046CTJ7H1Avac/uOTnfUCylXjOcuJ9QCFWRXzN3H1AY8Wv3W09fkBpWCoKPEV+QNRWTOEwTH5AROtNAjdTfkCj5+fwFFt+QLcyvS3yYn5AcTrIvkNqfkCNMJ2LWXF+QIU7yAn+eH5A41E3udx/fkC0RX1704Z+QD4HY77Sjn5AvNEvma+XfkArjd+ZK45+QJVMqPqlh35AT9s9ieSBfkCh+D3mJn1+QLugcK6XeH5ARS7Vy0RzfkCuxlOEiW5+QHeeqlTJaX5Ap5dIPTZkfkDJQvwhol5+QLXpXUTfWX5AmbuH3UBVfkDOH0cq5U9+QLXw487QlX5A4Rb1BgmdfkAxdm1kwqR+QENR7zXorH5ASBgtcfmzfkAsNORIprp+QIkTBq+IwX5AMSYiR2vJfkCcIQTEodF+QKui4tRa2X5AoKGgKCmZfUAidMPtgJN9QPfMbIbRjX1ASx+Q+VCIfUCV0QQm8oJ9QCDNISl5fX1AqG6CoOR3fUBz2q9H83J9QCU6x+3RbX1A5CjdBcOhfUCrxPbdaal9QL2cZDhfsX1An8zhwIO4fUDEajjcxb99QIRV6JCyx31AysTVLOPPfUDbBAwWpdd9QFXbM1s+331AmNYA9yznfUAbDaxVIvB9QJuVGkiY931ACg8MzJULfkBA/+K13QZ+QDhq7Pm4AH5Ab5OtyND6fUCOnOwEW/V9QCodAfbN731AIoWaiFXqfUAj1UIZ9eR9QO+yaPrs331ApnGolOTafUA6DPGlwdV9QKOtnBn50H1A9yYCGYHLfUD17Y8Xr/Z9QPLwX6qo/n1A4UfUIjcGfkBUPnofug1+QIxHFLjNFH5ANrxcswMcfkD6XP7FBCR+QPeveob9K35A7RaxpcczfkAjkKsEvDt+QC/+gfF2Q35AmjEmgydLfkBZYUGy9FJ+QHVg4qLVWn5ATGXUyNOifkA67c+bBZx+QI5CZgnslX5Ag26R2taQfkAYZs5aT4x+QMkpNv1Zh35ALrtI+QWDfkDEqQwHGH9+QKGRy1LweH5AC2cMTFlzfkDlwCfiL25+QGcY+5LAaX5ACDuYbFJkfkAsIY/wI19+QIX2N5tRlH5AGGy4G66bfkBHJ341cKN+QGorC/maq35AycW7YbeyfkDVbtS5ibl+QBfoNRtqwH5AmEl4gG/IfkD19OyRvtB+QBH834Vw2H5AbMIeHGVcfUDKYDiarWN9QHpw7tAta31AOJVoQl5zfUA503v2Ynt9QDWXeHwyg31ADT/eZQSLfUA17H8f35J9QIjZWUzmmn1AMF4ogJT7fUDkRqa5HvZ9QM4ThOmp731AzpX8GnXqfUBks2e4++R9QBt7b9N1331AGThIuafZfUCWiG2CnNR9QGxdZfP4z31AWr49O+/KfUBTYUwx7sV9QPUKgYGtwH1AOxQWjFW7fUCoGVMOS91+QGLw+d6P5X5ARdt8HC3ufkCz44oMpPV+QNvCGGvm/H5AkjavILMEf0C+X7snPZN9QPsmlhLSmn1Ax6DpG9CifUAfgylbVqp9QPnVx6HasX1AaGTTydS5fUA0YDWm8sF9QIyewuDUyX1AoEmpOUjRfUBarDO3ktl9QEVFQWOd4n1AHrZyP/LpfUACIayhqgp/QNgfZbDGBH9AyC0vrsrpfUC6se87CeV9QGAwA8Z73n1ADrUxva/YfUAN9YI6o9N9QJz3NjRAzn1AF1IExV3IfUDz1Hp56sJ9QB5fnz8Jvn1AZ63ss1u5fUDrQSs3qbN9QCZbeiqkrn1AtAV5FpqpfUBoBkfeqIl9QLL4/piykX1A2jkT3zaZfUCvlU5axKB9QE8qb5fiqH1Ad1XJKLOwfUD42oHvr7h9QCqLeqkXwH1An7p5gF/IfUDyy4d5fNF9QK52pwTD2H1A6vHvnewDf0D9M5v6Wvx+QA8zPOyB+X5AVBWWSqr0fkA26rWl6ud+QFEpiROA3H5AbqJQ63j5fUBHpy/Cl+19QDxxExx52X1AAq70uHDKfUD4pslrL8R9QOLAYMPYt31A0zhN2BCsfUDYdxAyX599QGJ6M5Zal31Ahzgkt0CQfUAjFpVLEIR9QCTyrIv+f35AzAy63IiGfkC2JCuk+ox+QNvmr8M3jn5AdTxZoraUfkBbZ7P5K5p+QEVniDrnpH5ARrztpkG2fkBW4fnBmbd+QEAbAN/EuX5AVTYmZ6a+fkBK/dTC2cB+QM5BoqtoDn9AVm1neQ4Jf0D6AjXEzwJ/QMkTQfXh/H5ALg2TkzHhfUA9II/J+dt9QO7V3JCc1X1AdMTd2gTQfUDGDjP/98p9QCydSXWixX1AmVU68+e/fUCIAwsYcrp9QDGYECGdtX1A+X+wVeGwfUAiR4eM9ap9QHBp0+tTpn1AUWGE3kpofUCDR//+vm99QBbubhNPd31AKK8OiYx/fUDS336gcId9QO+5bXBDj31AOhsMPVSXfUA/zWl0eZ99QHjb2GTYp31AvGCxs6UMf0DvDveozwd/QPgEIOClAn9ALObN80v8fkA3ulMYVPZ+QET19YZc2n1AyvgpAQjVfUCIi9srxM59QFfsNzRDyX1AgKiR7UHEfUBFV/jS5L59QAOHi+ZFuX1APoArY92zfUDoRSR69659QAaZmF40qn1AGzFZo1ikfUD6vNzNu599QFLhL4sien5AmFQnsbKBfkBj9ew5m4l+QEz1NI+LkX5A2zN4d1SZfkCgleQU26B+QGomt1yap35AMPOXIr+ufkAhb68B+LZ+QEySvJ7Vvn5A6Ca2/OXGfkBNs27xx019QOI2R7JFVX1ALIP+XYJdfUC0DFXPX2Z9QDn8WuGNbn1AiqnLJNl1fUAvm0XifH19QPJZl9lkA39AFrmnPz/+fkAhagZNGfl+QBWhFMNh9H5A3ptyK3DvfkDIYb1+JOl+QFiV2/Zn435A6tYds1vGfUCQzxhsZsB9QMz0sOtkun1An+7J1ju1fUAuUdsJE7B9QG2FCGGrqn1AI9EA0UmlfUDW2CGNJKB9QFGUoAU3m31AtF199PKVfUDeJHaJsZB9QBTP1c4HjH5A764hkU+SfkDflIeh2Jt+QCoSwoDsqX5AVm0GwjexfkC1PEgqLLR+QOUZOyv6tX5AEPuAZlbAfkCyqeUOxM9+QI4kzv/+235AKKNTCIcDf0C4GQx6RwF/QJTW5tm6+X5AwmnGNs/0fkCM5Ls3yAd/QMUGF1zFmX1A82ylf0WifUDZQTrVwah9QIWwRmoHq31AskKFdtiqfUBIUz42J6x9QPfSzpAxrX1A+aAkb36tfUDd54baCKt9QLDCaKxqqH1APk9rutGrfUAkMWwPr6V9QOGNhLW2s31AK9NRJAO7fUDMhZ6OPMN9QKmmBzvoyn1AbNh1ZCvSfUCUUAA+0Nl9QL9HQAgS4n1A6vh9WUvqfUBR7IGRW/J9QLq+E6hW+n1AfE2n8mMDfkB2n0/ZTgt+QMu4PaVYEn5Af13hqmVgfkAHvrUS8Fp+QK5RAfzFVX5AxzwYFYRQfkCAEL1z80p+QPRu5mWZRX5AgyIzVmdAfkA51TGnfjt+QBoRtSNwNn5AWD2FqzoxfkBwrknARix+QMMJMYNbJ35ApE1ka3cifkBdOzNigB1+QAuwa/mmiX5AMdLeaiqRfkCt28UcF5l+QFCy+7NwoX5A4VVJmumofkB6ooj4EbB+QP6ST2Wwtn5A1GJq/8G+fkDXXDxwRcd+QIgM8loaz35AVdLf2EXXfkCzJ1muF1l9QDLxedBsYH1ABOV1MmhofUDEToeU2HB9QASfsjMdeX1AXYw7qv+AfUB5HiUA34h9QFxi4coHkX1AWTpMtZP8fUBshKp56Pd9QL0GWZjy8X1AtTAdrSjsfUD3c0/05+Z9QDztwj964X1A3T6e3szbfUB4U/vvb9Z9QMMVF8Gn0X1AllWcpwzNfUAy9uaExcd9QIOv1KY0w31AWf705LG9fUDXyYzcmRh+QG6hKzhdIH5AWIyx/hEofkCIJ8Z/qS9+QF1E6DWMN35AJOUzq38/fkCjIdnyKUd+QKp1xS8bT35A9uETmw5XfkAZPkywg15+QHEYqidoZn5AB6jFY7RufkBArT016HZ+QA1z7ppf3n5AoQikFzDZfkAoAz37i9N+QABX7tQUzn5A5WOcuiLJfkBm245pvsR+QNQ9roBIwH5AtRovPlu7fkDlEbrUxbV+QMI3hxamsH5AKQg3+LGRfUARqHcZCox9QM0t5Dq7hn1AIAn7E3OBfUAeOLewF3x9QCu0dQ2Adn1ANJ9QMeVwfUD/DEIMJ2x9QMTV2N1MZ31AnGSxt28/fkDrGHh0WUt+QJO8eKMJT35A5138+6FUfkCboyYolWN+QGud7XoIdn5A8gZapaN+fkDV89OgnH1+QNrZVXBehH5AomceaDeKfkB3+/1eG5F+QC2TR3mWn35AXsr3qVm1fkC7g/UOH0h9QGgb0UTxWn1Aj4OvxCJsfUAkx5S0tHh9QOr7Dpcig31AIgdiCEePfUCT7BJOnZ99QOJOQDSRBX9AiBo3VAIDf0B0HChiLPx+QO5Q2Nw0935AdrCB6z0Jf0A11pTmQZp9QIN+L2lpn31AB4YJG4SofUAzoUlAKa19QE6JJj3eq31APjW36gGtfUBmOFjqYq59QP6D687Ir31AoKN96tesfUBEdPB2xqh9QEHRzTmErX1AK6XNxk6ofUCX8FveN919QGFP1Ez93X1AWqbQ3pnhfUCQ+Nm07el9QBYsefKM7H1Ayvnru/PzfUBM4zm/NvZ9QPgskrwt9X1AZUCNWtn6fUDw15uwxvt9QDoR1Ith/X1AEI91rAH4fUAUbuW+Tvd9QLK2V59WAH5AK6qX1KunfkD0Kcrr2Zp+QJkkiPjDln5AttlRBt+SfkBPk6tykJB+QDhLvS/Qk35AxGjOn/WNfkAbQV+dy4F+QDEHXqjBd35AI1Kg4w10fkBY8TKUKW1+QOqxyfciZX5AZF1SOxTYfkApRH+Wj+B+QHIQF7gu6X5AHrOcge7wfkAcAof/b/h+QC24vStQAH9A97ilNcaPfUDNi3XrkJd9QCboFFS4n31AqfU7n3ynfUAkHWk4SK99QMCIfqd1t31AVrHn8q+/fUA50ZXyxsd9QNxOrnF7z31ALV6gIAnYfUDkkBIoMeF9QPtLVr+i6H1AYx83VWuQfkA4uwSvFYp+QCDASqjNg35AUI/BNOh+fkBuWT7YrXp+QJH5BswAdn5Ail/DBwdxfkCjjvBTv2x+QDbXRG2OZ35A6Az0hwxifkBlN7CVLV1+QPXG5qXOWH5AfNIiRe1TfkAyneQNvk5+QAx6skOeT35AC8urd7pXfkCNobonO19+QG4eygvLZn5ALJvF6AhvfkB4Wv3HwHd+QIzsK2JXf35Av+s6RR6GfkCnX749mI1+QCqhn8cNlX5AKh5iJpucfkC0ErmRIqV+QKS0D+l7rn5Aggso8bo3fUCK8AzQO0B9QKfP6GwLSH1ALsQdjAMYfkB5pzlQGxN+QI2wY4UUDX5AUPkKcakHfkDorcNBTAJ+QIME56Gj/X1ADKtKnwT4fUDZBz7rnfJ9QDIXSQXg7X1ASqrDPNbofUBEEftzBuR9QIwmirEo331AKNGlDM/ZfUA09/rNEuF+QCSb7rrT235Aarf9XHzWfkCOx2iWAdF+QAAebVXry35AlLc5sWLHfkA9vIxbCcN+QJcQ0iW9vn5A3kxy/Ra5fkChbfPM7bN+QAM3kI7qkH1AmdDrNomLfUBr9mQQMoZ9QOjQoUP2gH1AgKzIsL97fUB+ykJlNHZ9QGCF7yz3cH1AqUQNiztsfUCOcaEZXmd9QBIR9wI9gH1A0CIJSmWMfUBMvygMgJh9QEIA5GFXpH1AxADHu1awfUDtvmJnn7x9QH5eq1HcyH1AaPHtWuvUfUAoSAsv3+B9QNSe4Bxh7X1AYtIAAS/6fUBPtVCf0wV+QNYCxJbkaX5AMcoDSXZkfkA1RIJ1Tl9+QORvW5YoWn5AfCAwWgJVfkDxtEYv/09+QDWPyY/uSn5A1FnlyQxGfkDiymw+HEF+QKcNUP8BPH5AxHNEDwM3fkBIAf6SbTJ+QPz0qQf0LX5AVIb9cQspfkAIic+MfN19QEXgzAdM2H1ABcwTRjrSfUAYomas78x9QAoPD2UQyH1AhwLUQuzCfUDpyzjObb19QBONgJAruH1AFu0on4uzfUD36xy8+659QNCGBvQ+qX1A/k2Nk9qkfUButfaGir1+QEVo2hThxX5AYPhNcrDOfkA1M9F07tV+QCMXukpO3X5AaKncNUXlfkCBVZrmfe1+QP5Z/b7/9X5AGWHpLSx9fUAr4Yt7c4V9QKEVki47jX1ALypc0pWVfUDu8/s/3Z19QE2TA86qpX1A5NakCsKtfUD11gM72rV9QL0/sHe+vn1A34DTeZjHfUAsH6MEsKl+QM54piQkpH5A/GJ1QCaffkBjIMppq5p+QK59qogxln5A2VfL8G+SfkBMz7r1w41+QM+ZlOxPiH5Ap2N8oR+DfkCET8WuUH5+QLIfHvkqeX5A+TpPn0x0fkA6rBksZEl9QCZEMw7LRH1ANYaTutM/fUDRMM6KCzp9QDW1zsyiJX5Aaoh3noctfkAfr83/HDV+QFTiGDXcPH5Avw6MBiJFfkBqj/JPXE1+QEPv/rNCVX5A/0yK8YddfkDicTGea2V+QI69AzXxbH5AeUUTCKp0fkCbPeP4VH1+QFlR9OWihn5AIPwhdBcofkAAohLOFCN+QMRHb4aHHX5AAJZvZRcYfkATBuanERN+QFyhiDcuDn5A4GeeSeoIfkCo8dx4TgN+QBtjWwdk/n1As9mCsr75fUBFxLIglPR9QIAYqtv4731AnJAmvtTqfUBp3LBFkOV9QIjpaCv9k31AD0glmW+cfUAU87BKbKR9QPwnjtNQrH1ACVr4Z6K0fUDiELElFb19QKqLeXJqxX1AOzadWjDNfUCC8i0K3tV9QGluLQlT331Am6suUQHnfUCE6/6UltZ+QF4LReqf0X5Aah8g+wrMfkCGznQCqsZ+QPrK1mvnwX5ADxRJoc29fkBEWWL6cbl+QHlIPp1/tH5AtL1BXRmvfkBmPFxORqp+QPFbC5wChn1AD+qx/f6AfUBnDFt2/Ht9QPoqp9+rdn1AJ6JzvxFxfUBIoIU7kGt9QKypHljaZn1AhH8BzyFifUCT3OxUwCd+QEHtgbt7MH5AZuvTkUE4fkBI3f8JsD9+QMbhieKIR35AhaggahtQfkBnzv7bVlh+QE7riKkeYH5ANGaxAqBofkDJ5YrkQHB+QItC7eKFd35A4xkImWZ/fkDb8HSHxIh+QBTYnn87kn5ASzwebSZEfkAMeWS5WUJ+QJ9lYc+LQH5AyoM6YYc9fkCMHF2/1Tp+QJWgNWbROH5Axu4Mf9Y2fkCZ8IZsEjN+QHJ5OwvuLn5AB3pgv2orfkA7niGYXyd+QPz5JJ8XI35AAvtGwBIffkCemtgYAxt+QILFR+fBgn5AksidmqWKfkAOWN7FYJR+QLY+BYbdnn5AfbwhQi6mfkAqNKahnKx+QLDTRSXUsH5A6O/V0n+6fkBOxOqaz8Z+QPqEcOWGz35ALnllxZNdfUDB5U74kmZ9QPGjCowkc31A6ZtVI5N+fUBcVUPCt4h9QO7ExES2k31AZTHoYU+ffUDtTsIiSat9QK7F/Okf9X5AcLewpqbvfkA6catccup+QHAQi6t45X5AwpOpwPTgfkCnbEXEl9x+QO5wAVJS135ApNltI7zRfkDfOtzGf8x+QG5s8gzprX1ACioGFP6nfUAO/6oQpaJ9QGHlG0ZAnX1AFvqb8IGYfUDb2F1zlSZ+QFcqO1eVLn5AO3lFrkY2fkCv8E7gFj5+QCoKBtuMRn5ARAZLiehOfkB+gx1u2lZ+QEEV9bRbX35AvMuNbkdnfkA6vq9ex25+QAmlTHDGdn5Al5jGac1/fkDXJF4fMol+QE3rIBsBan5AfdP4Ob9kfkDQWac6kV9+QAd9xLBuWn5A+6e/YmxVfkAKMg2RdVB+QLcRR+JbS35A++7IHpxGfkDW8DDZoEF+QOxOUuGEPH5AGcvwns43fkDdHbopYzN+QPrlnrDkLn5AzRGqOqkpfkBRz8ZEE4N9QEub3rw+i31A8A2u16OTfUC6XE9UnJt9QKA8ipjEo31Aa/RoazGsfUA5NdoWtbR9QN/C5lX5vH1ALfmthyTFfUD7xST0NM59QKrbwrQn131AerLbrAAVfkBmabPySA5+QDDCwtb6AX5ACCGIzjD6fUAw3d39SfJ9QLyt/nkN6n1AqqKFQmrhfUDQT0UA0dp9QIz0FlMu131ATmAVh8bQfUC3Dp75Psx9QDnaTNV3xH1AliwJEWG9fUC609dDpyl+QDvhZ8qFMX5AFW9Rfk46fkDWm4IekEJ+QA4fG1rzSH5AJMHnspVPfkD5rQ0cSFd+QCXJjj+ZXX5AmHyWvE9lfkArqFXRJW5+QBrE2RiydX5AA1EccDR6fkCqr9CVVH5+QH+Jo0q0pX5AxmJCif+ZfkBkmxcZoJN+QE7gKC8nkX5AlM6FljWMfkASMEWuLIp+QARmyIxcin5A2FuGaNyBfkCRaHJaWHl+QCDOkjhIc35ANnqJlExwfkCMt+nsd2l+QFR5Uhh7Y35AWh2H3qg6fUD/8a6qead+QCIvSU+nr35AGNi3su21fkB89m0WDL5+QLm6Kmmrx35AXGjQ2RvRfkDfUU6iqth+QEzlQGMv335A8iExjUvlfkDojTFZ5G59QC7qFL8adX1Aa9xoaml8fUB+Ot0rfYF9QOSJi+Duhn1AsbHKO6uNfUAcLcBM9JJ9QMzhmgvCl31A3DaoMD+cfUCo8VkRuOx+QFiYzDs/535AKCKTk/XhfkDawAUW/dx+QG2bdu1l2H5ArmizuFrUfkC8XrDdXc9+QDa+m/HJyX5AEjIsd4XEfkBUxgsZE8p9QON2zMyp0n1A/Mq7tMnafUABNmyru+J9QKTIrPAJ631A3dmuzDHzfUBu9TCu9/t9QBPlAOi3BH5A4S9qVcoMfkDtBzyxSxV+QEUq9NTIHX5A4NvJVrYmfkDpWqM+AC9+QKU/+8BbPH5AIFlc4cY2fkAd/ZZEbDF+QPf/RkhoLH5Anu4xCSsnfkB5KuEfJyJ+QBw2k9KiHH5AZcnhtFMXfkDWZn75rhJ+QAN76VsoDn5Ac2thN2sJfkBrsMVSnwR+QIx9YwZk/31A75BWELNEfkBgu96UQk1+QEzEiFUCVX5AzXmsddJcfkCoar9ShGV+QJpUpDBVbn5A2qLmDiV2fkBr+sqasX1+QNzoRLWthX5A9PHdDU+NfkD7MzOoXJV+QKwMpHN9nn5ABEeek6o0fUA8ieqpFT19QLbnXcXCu35ABRVETi+2fkAu2zFzDLF+QPwB2XtIrH5AZosEPlWnfkBHynyNyqJ+QIxYGDuann5Au7MXE92ZfkBlrHlL9JR+QG7nJWWjj35A17Y7r5uKfkABqn5V64V+QKopOBLeXX1A0nq8yMVZfUBa4AR6FVV9QG8R/3zMTn1AzkRdxDBJfUD1ItPDh7R+QMNBzpMGvH5A0k979tLBfkByUHIkfMt+QJBu8aiD1X5AIi48d9HdfkABxurNKOV+QCKZoEKW635ABIhSW9a3fkA46izk0q5+QBSnngNPqH5AgNxyrcyjfkDCu4DHSKB+QKR37U4mnX5AyA/5DGqZfkBitcb91JN+QNR3uGFLjn5AMBGpP6KHfkCVv6AWqYF+QJCCdlmDfH5AvSEy+EhkfUDyV6l9SmJ9QHLUbOcAW31Ae1NsGiZOfUCWu0ESKUN9QMM+VCRl6H1AOPqRx/7wfUDyb4H9dPl9QCzMFRl8AX5A0+dYip4JfkCV8avqoRF+QD8swa0bGn5A5Xr4EMkifkAwg7nOWCt+QAZGJmnfM35AQfa6NkU8fkAnExEdp0R+QPGEV8dXTX5ANBv3GdSAfkBkzYdK0Xp+QNBFzr4odX5AW+5lPWtwfkAHMeHwD2x+QDAZY0x0Z35AV79g1kRifkC0/ai5xl1+QOaCOEjEWH5A7WAR/lNTfkBQgcxR4k5+QPCNyp+7Sn5AqNuwtaNFfkCj3zfefFN+QJnOM1sGXH5AzVPH1b1jfkCuMf380Wt+QGonbpqJdH5AUaQKhdZ9fkBzeNxqMoV+QBXsZXp2jH5ANj3s12mUfkDOGGGFDZx+QMdoo7l3pH5AfsXjT7OtfkC6Gjgzpj59QH0O7ikeR31ASpU8+wBPfUAbEeVDKPd+QKQfbGnr8X5AqZttKwPtfkDrJTWSdeh+QFVaMA/t435AnICQP8nefkD+YTRiLNl+QPcmmO31x35AMGIwiKvQfkAmzrrQt9l+QFiZ3TyJ4X5AQc8Uu2HpfkA3xUUNnvF+QOze2/oH+n5Aif0PAruHfUBAbOmoQJB9QIBWpZJYmH1AxPDkY5ugfUB4gm+sQKl9QMgytKLHsX1AXp7o8ze6fUBO+X5RecJ9QKUAfmGhy31AqXRbqc/UfUAu9agXLjl+QBfYwNe/M35AOmDmHk0ufkCMdg9GUyl+QIE6E0olJH5Aus3CMSsffkD0HYOvphl+QB4BTTJ2FH5Axau/PMIPfkAdNwBKHAt+QAJDbv9+Bn5AeLigr60BfkCDd3QphPx9QJ36oK16q35AVoSiGdmlfkCzwkgk5KB+QJwJBqBwnH5AWw1a7gSYfkBWEXc0TZR+QKlRK7Ozj35A5X6UbmyKfkAFHrDWUoV+QOra1cx5gH5A8a9JN3F7fkCXXx3TnXZ+QMFIPqmuS31AFKz60UdHfUCD+ia6tkJ9QJeGTUO7PH1A/Y26Ytw2fUB0Ei3Wbj99QOYnsxRJR31AVJ20sokEf0DKz4Ez//9+QIRq1wA4+35AtddQ3Pz0fkAWmJwDV+9+QIhZybVX0X1AQ5DdgrbMfUDVv8dpecZ9QOvqR0kYwX1A90OuTom8fUARFom7Urd9QMYbJbUdsn1AuGdnVf6sfUA4tgZkVah9QCIDygWyo31AJOJK3TqefUAXYOTA05l9QI4qvIXBuH5AVKrPu0bBfkCaZZmNRMp+QO8BmXA10n5ABJJ5z7TZfkC0QPvA1eF+QN+fErxM6n5AdtW2uA7zfkDPWX7ny3l9QG9R8SNtgn1AarUBKHyKfUDdZI69IJN9QOU5j+XCm31ATJ+rksejfUAEJYG1K6x9QL9Zr1qdtH1AuNuWi8W9fUBXbFHv58Z9QD25+XmENX5AgB2WW/g8fkCsc4r9W0Z+QPwTcGseT35AR7ja3zFVfkAaljlfRVx+QGleOh2QZH5AzzNAnFtrfkDXESEQq3N+QC8bKcx2fX5ABiSQ4fOFfkDWbp0iqYp+QA4XW83mjX5AdpPHK8y2fkCKZnVDNLF+QJb+YkUhrH5AmNlczHGnfkCtWBS+yKJ+QL2Y9T+Pnn5A8L8MxEeafkAEkwMiYZV+QPcyg6FqkH5AGZeaXFmLfkC1IrKrU4Z+QJsD4smqgX5AQBV9v81WfUA82mlX+1J9QAcX4Lr8TX1A6BcMVKRHfUCLN/VKk0J9QDLi5cCw1H1AyE2YWj3gfUDQ13cCLup9QKPB3ftW8X1AQEuArFH8fUBcIFnuYgN+QIevMoqMDX5A5C0h6fMZfkAaOUhUfiN+QFZZ3QrmLX5ACqmy/6Y3fkAkL/yAp0F+QG6ueZXxTH5AkXFJ3jgSfkCqM1rMGQ9+QJuJl6wfD35AaIwdSK0MfkDI7d1pkwl+QGlYaoZmBX5AdjIDWagEfkCxEdJrtAF+QDMWicmk/H1AQ0pQ3Nj5fUDMGbsC8vR9QB6kozx18X1Aatv1knzufUCwMo08yml+QCmitV01c35A+jeAg7B7fkBccC90hYV+QBw3BYK3jX5AtnoJ9CeXfkAWyfK8vp5+QJc95AUNpH5ArDpi/KOqfkBBk+hHoLR+QGmR4yP3vX5AAjyS3BbJfkCgHxeYhKx+QFIMnTa3dX1ArJsJcgBzfUDrbGC63W59QJC9D7EVbX1AqbiEIG1tfUCH3umZemx9QNwlp9ecaX1ACNoNP8JlfUCXpuiTnll+QAh909UxYn5A0b2k89ZpfkADzRb1C3J+QODl5Ru4en5AAElPRgyEfkBdoVOEWIt+QA0wjROJkn5AdHEUs2yafkBEqFQiSKJ+QE/b0/3Cqn5A7wbx0dezfkAyKuc3jkJ9QGCodvObS31AVgazpjVTfUA1MezojFt9QEVNLh5wCn9AKvdyhM6ufUDqfUaRYrd9QJWVsEAqv31AuPPBq/vHfUBfmY5fENB9QGSS/C7f131A8TSEyTfgfUDdhXcD9Oh9QFvofRef8X1ACjNFCjP6fUBGHYrZAQN+QPlTXeqDDH5AooUyT4YUfkAesDI1ar1+QGcoax8+uH5Af7xjsHuzfkCakhgTO65+QKSs6hmiqX5Att569rWlfkDoU2B2PaF+QBf8YJyjnH5Af86eWXKXfkAdj4vpUZJ+QCU1F3S3jX5Aabxz8WBkfUCgxRBTVWB9QEYgdxaPW31AfS7RxJNVfUCnhdsJ9E99QEbpM4wpS31A8wvybNfjfkBuh+DcMe5+QHgOJg+Z+35AsGMnRD4Ef0D219wO6Ap/QHNOsu0Co31ALtLtANGpfUD09njonLZ9QGMrS/xhv31AspXqK+nGfUCSwhi7Es99QDvjNJPj231ACAQu5mTnfUBpIzyOffJ9QLaXYJk2/X1ARB7B2eMLfkAaTjAJnhZ+QCwm8t0JHn5As8z2tqAffkB1TndqnBp+QDgnYFzvFH5AwUu8lekPfkC0/NZNEAt+QCQmZ49GBn5AOmFTypMAfkDX8wmnnvt9QHNwPR9X931AK4+8PxzyfUDV2GFgye19QFQJPs3Z6H1AJcvwh6LjfUAoIQjlALF9QAVQ8KnRuH1AZI57QX3BfUALeVdxx8l9QBjfIbWV0X1ANvK7hLrZfUDdgxgkf+J9QPPyIBJG631AfTFIlunzfUCs7Ekddfx9QAQ/+a0LBn5Af4Sp62gOfkDjBDysSsp+QFci1GcGxX5AeaswakfAfkDpb1U8xbp+QC8eFJ6ctX5AWTXgp9uxfkAZJRidpK1+QLK2rFZTqX5Aj4ltNf+jfkA+6LXVEZ9+QN99N7eZmn5AoWh7fLhzfUB2wvd1Rm99QJ//9Yiran1AvgNGPh5lfUD//f+2O199QJyDcF4gWn1Aw8qLQsdVfUDTLFGRdkd+QFIZ+54BUH5ASANaWbZXfkAuFGAgql9+QNYMcLWCaH5AJBs1NHZxfkAs+bv0R3l+QFBnnsjLgH5AUuMPTdKIfkBhcg/XgZB+QDpOl86imH5ALDKMK9ChfkDmNX2FozV9QFEGZOpZPn1A5flOvjMTfkCmShUvmht+QMO2O9vSI35AFvo+xvcrfkAPC8BoXDR+QIXhgv/RPH5AVXwoifNEfkBng+N7dk1+QEqja9zlVX5AYokgFgZefkBUaoSMe2Z+QMWzlhFEb35APr944ht4fkDE5z62CQZ+QPjaR3ugDn5AaenIYREXfkB4T/32Oh9+QIsqiGpVJ35AjqVuX58vfkA2ee499zd+QL/7V9xEQH5A6P1WcN9IfkCcfGJbflF+QKjGxqACWn5ArT+cDX5ifkD2tCZN+mp+QFAqcG/Bc35APOVuel5gfkBOh1GfaFt+QLIrM6+RVn5A3/9oSXxRfkDw83zgckx+QCBDLDqGR35A6fwwWq9CfkC4PnWCKD5+QESHNHRiOX5A3q7krpk0fkABJviXKTB+QPqb9hXMK35AjekEEmEnfkDm1gKYMEF+QFOOGUHWO35AiNAf27Q2fkAKYIJV3jF+QAIMEDHSLH5A91wHx/EnfkBps2Br0CJ+QLHEWEqbHX5AbTiwmw4ZfkBnCk3k3hR+QKSlMxNGEH5Aod4RVqsLfkDNSMzg2AZ+QKZzP2XyAX5ANiyOTrICf0B25jGwrAt/QOWHO8Fv/H1A19KSUU/4fUBrxD7g6/J9QN6S6Fdf7X1A4Z4Ul4zofUAzY0jIguN9QDyFRMlH3n1AwPZb6k3ZfUBJW9SF3tR9QFWQiZ6d0H1A27i93O7LfUDSJw6Bf8d9QMIfXdZpwn1A+7V5N4CXfkDrknvov59+QFSvyXxqqH5AsQLM5yuxfkBbAYdH9Lh+QDWLG1hkwH5AM4ZAjbDIfkAlkE0Pg9F+QNNTJjZ+2n5ALAiFBhbjfkDxeY+zGGV9QMNJKHNNbX1AIxjy8dB1fUBD5XbbyX59QF4fLdNch31AMry96e6PfUBDXOL1qZh9QBjEiWaXoX1AxVpEbP6pfUAsmiEaX9V+QL8HNoFe0H5AfOTM65bLfkAaNLIUPsZ+QLH2meU3wX5AtjuQFSW9fkBscXclUbl+QCk/qZsNtX5AxPRPThawfkDPncX5Bat+QDV3nkCrpn5AlHz2UTSDfUDhRa2hN359QHDjJq7AeX1A2MckDMd0fUBuW2UXXW99QMINn1MQan1A7aC0MFZlfUC/jZan92B9QAZ+u7QYAH5AJAeI1soIfkBipTfZXxF+QC7m5AawGX5Ad565sQoifkDFc5aHZSp+QA9HmGPkMn5ARMM6ezM7fkCgJX7gxUN+QEt7U71/TH5A7NQr8kxVfkCPpONH0V1+QLG1Tk9kZn5AfvtxSTFvfkBKuKbRcTF+QO9v1gLFLH5AQoJVaV0nfkBC5b17aSJ+QLNZB8u8HX5Ac7RHD/EYfkCy76TD5xN+QI1NX/LJDn5AOHXE2iAKfkC632PMnwV+QHuRIoEMAX5AGgSZGJP8fUCvVI+/2/d9QMT3N3zn8n1AM22Cfd1ZfUAAMXHK32F9QAuGBB27an1ATVXZit5zfUBooey0mXx9QEC8YdgMhX1ATBfFB7CNfUDtsD40y5Z9QNA0FV8zpn5AhOLb+F6gfkBO7ssioZt+QDRigBWql35AGKDAgj2TfkDVWBrjfY9+QHCL/yTei35AXKLkrKyGfkCRaF7wloF+QB5JJKUUfX5AVHBOb2J4fkDBmUi2w3N+QKUWzkjjbn5A8GYlRqhBfUBQg1kQKD19QNZ3gWzYN31A5FXWqa+0fUC5OoLPkL19QJo7zH+cxX1AenS9FVbOfUDcek3sdtZ9QNwUhTzB3n1AwsmvYYrnfUDG+PjUaPB9QJQYMxtA+X1Ao8nFMhUCfkC2rzlZjAt+QPWckFtzFH5A4FvCIG4cfkAUejrubA1/QCgU9FG9B39AwHLoY1ACf0Bv4OeoK+J9QJqw93Hx3X1A+1dHmPvXfUB7JdfRuNJ9QDIpOElCzn1AoLIKs4fJfUBLp2pIRsR9QKwIM247v31A4IFR9eW6fUAA/5uFybZ9QIZmra+YsX1AXQCfTDqtfUA6prF8wjp+QIXn6UauQ35AcqrrOrBLfkBPcjaxs1N+QE8zeq6RXH5AVdRYwnllfkCMQW5Xzm1+QNgJs5DPdX5ALVLiJFx+fkAO5aJHPIZ+QBYTZ2Jwjn5A4pkypb+XfkByuTX336F+QIF3a/78L31A9C+yYpGdfkCpuJU9aJd+QPfCMKtFkn5ATv4PiQqOfkBS+BsJwIl+QPWAig2GhX5Auq6g9SOCfkCCRmSJrX1+QM7VInJHeH5AJJcVgGpzfkD+wrP6NG9+QGp88p6aan5Ar8zEhMtlfkCGkZpgSzR9QGsLX31yL31AVgiTDUYEf0Asr8Afhg1/QFfCdDJ9rn1ACbvrm0S3fUDqRr13Vb99QKnoeaxgyH1Adgb+3qXQfUBI3cGq09h9QH7idZqe4X1AekEWCLDqfUC8AuYkovN9QNXMGFx9/H1AghFGjdgFfkAu5kBoIQ9+QAI3WNklF35AjDMySf4gfkBL90bTNhx+QKKGZEd+Fn5ARyxQzscRfkDD10+cAg1+QPb39hmTCH5AgUdAbQsDfkA6tI9CKP59QOfIcJ8C+n1AhjTOQgv1fUBdSE/0wfB9QDLCVO0Q7H1AahZG/BfnfUAaA0zvsHd+QJgGhpklgH5APSSWVgyJfkBF526Qk5F+QANLc3I7mn5AhS1bbmeifkBXk32R7al+QCcMIqhjsn5AuprFtnO7fkAQEKsuJsR+QBvvXdw6zX5AmayN6TFPfUCSQacU31d9QFVIdSFmYX1A8LLDAsVqfUBHOTh7SnN9QPkVf5Cbe31AMBQ1XXKEfUDrOhU09vV+QBM2jC7d8H5AwHeKJRHsfkDeNGwZjed+QKaFRxRk435AfKSmFRrffkCtVWMTtNl+QFVMa6J31H5A4YMphwqzfUBhuzQSM659QJZV/m3IqH1ARSLQbJ+jfUByPdGg1559QLv5TBl4mn1AwiTezLaVfUB6l2rUfJB9QJQJlqkZjH1AxvQ5BHSHfUBSmdSoq4J9QG2cWC1yFn5AkCTrQwwffkAZHhqYlSd+QI4bRb0QMH5AC+hQUbM4fkBbn4jIgUF+QL50WaAaSn5AGRnzW9xSfkB8BuFDm1t+QG6nVyDIY35AUu53KFRsfkBxflDWaXV+QESsw2Lqfn5Aq3i5+6fYfkAL3p5Z0NN+QG4Jf73Jzn5AmetYM4zJfkBk1FbZ3sR+QPKsfmrRwH5AMe064Oq8fkBqWd2SnLh+QNQ60nt2s35AcQ2gF7SufkBfIRSDxId9QAdweo7Tgn1AiKS3GyV+fUALnVcvLXl9QE7FFuIEdH1AfRWlFsBufUCvVVGjGWp9QCW6PguyZX1AhvErY1XUfkAO8LsTTs9+QCedlvigyn5A0y5+h03FfkAQjNj9WcB+QPCkf5dRvH5AwPcVqYS4fkAbznLsR7R+QJKZLbdWr35A/1XRwlWqfkCoRnvMA6Z+QJQjaXRugH1ALELew697fUBRTgReKXd9QFJMP6Igcn1AqQAnq5xsfUC48twwY2d9QGwDTa34Yn1AzZBkYZ5efUDVQH9nQux+QGywxFLQ9X5AWdCRhx//fkA2cOJIdwd/QNcp6ktqn31AQowluyWofUBuypD5IbF9QFVoirpauX1AgYqJpbbBfUCcH1Cvscp9QJ2EAejw031AsYu268fcfUCJPIm0cOV9QALvFZe67n1Aipn9dk34fUCRKt4MdwB+QOet491VIX5AWPkyGu0cfkA++ar14Bd+QGT9VtqbEn5AhDXZPaUNfkCvq0/yJwl+QCt3kQlUBH5AoxiShQr/fUBLexync/p9QMNk7ZIj9n1A5rMp7FHxfUC8Jsb+AO19QGvnipYk6H1AX+3TujjjfUDNlKqA9PB9QKFzHdzz+X1Asp5rx6UCfkDjdvnvEgt+QB80QrtdE35Atou9rasbfkC3P06G0SR+QM0ANV7gLX5AgLaIBrk2fkDfvTggyD9+QPX8Xe+JSH5A3cmi+TtRfkCe/gs3M1p+QIwGX4NPeH5AkB4L2hRzfkCONvx3Cm5+QCk/K/zYaH5AKGmNuVJkfkDVKVb9GGB+QAGLrB54W35ARvVoxNFWfkC3JQCdV1J+QOcpFd+hTX5Asqr0y9tIfkDh8OWg60R+QCB6PA7aQH5AxK2zQeU7fkCnY5ckSiV+QLdQVpPXLX5A6xeEXw82fkDI6vpEbD5+QHolO7lKR35ALHiFZDxQfkC/a9O/v1h+QB2anJ6cYX5Ar1s69gxqfkCOMLDkFXJ+QIHLf/BQen5AiuBJGdiDfkAj5P0V2o1+QDUvXMZfNH1AWzxdxXAvfUDIUd0oDyh+QJwJAz7cMH5ALcn2JBQ5fkAj4K8RQUF+QMcg78MOSn5AAaHwMf9SfkAGUsBFjlt+QFB49vlWZH5A2atphvVsfkAQRNmhAXV+QGzWVCUdfX5AHjZZlV+GfkBa0RO2W5B+QP/eejgZm35AQeR5H+yUfkCgzrtijI9+QC7+Sv8ti35Ag2ICKQ6HfkA1hHcKvIJ+QNKxVyw2f35AbiNDfyd7fkDGg1vlrHV+QKFbaB7OcH5Av3MQZH1sfkAjK8IDOWh+QM7QbphlY35AmgplAKExfUCMj95ovix9QPqotActAH5AOTqyKTwJfkAb7vUDzBF+QPPZlltbGn5AGaWHsLsifkAAHte7bCt+QItNR/DqM35ASIDPapk8fkCu8CvPpUV+QMzqdpLETn5ApGsSq45XfkAWtlDcO2B+QOTgXJIwaX5AIWd2OfJmfkDul2ye6WF+QCwfo0ETXX5AcGudA0FYfkBksFRLY1N+QIcnK32yTn5AOJF6/vFJfkDFEjyQaUV+QA0SC7LeQH5AshUIGRw8fkAdsSVghzd+QLvKnP5UM35AUQpLqUQvfkCC2dTflCp+QEXqFmg+8n5AuBV2Qc/7fkCVKhv1VAV/QC6YKQrUDX9AF0whmyyifUDZeza1RKp9QEdW3rO0s31Au5nxwAq8fUB4Ahw5UMR9QJ1HlwzMzH1Ao+RaA1DWfUBNrlRuPd99QD20JOQr6H1Az7N1gOXwfUBaPshKGft9QGzzHAWsA35Ap3gJ37sOf0BGZ/GVNwl/QOLKfeSyA39AJg7utAm+fUBgUP4lzbl9QG8ptY+ttX1A0amMDm2wfUDRLvMRXax9QA9kOJQjUn5AtwoXhO1afkAG+LWuw2N+QL5BV7a8a35A3gnNAXp0fkDZlWVHsX1+QLJiSgQlh35ASqL9qniOfkCY9Xy0QZZ+QErUM0ONnn5A0RAjfPCmfkB/iROo769+QPhXGt+zuX5AJo+BvBo6fUDpzyQcuEN9QHBhYkUMTX1AfQA8se9UfUBKJued2l19QK/TCjaDbn1AeD3SUXxpfUCuYU2Q1WV9QAsKqx7GYH1AOb0m1dtafUDWkWZFuVV9QGQpMHJnUX1AIyyYJI0GfkDVDYxuhg9+QGTDAhsdGH5AJRArD6MgfkAYsjrOFSl+QMmaF8XUMX5AE/0u2Ew6fkBHzNlF/EJ+QMWzlAjiS35AbYTs/LxUfkCSRmqlkl1+QLb59UxUZn5AL7uWv1JvfkCk4YBrgZt+QNjNPOVnlX5AS5Czl1SQfkAxQmE/NYx+QAMbQwT3h35AS/JYJNmDfkDuOMEjmYB+QOfHbT/we35AzO5KjKd2fkBrg3vW8HF+QGbcKintbX5AUc97YTlpfkA5/jmPjmR+QPlEfQp2M31ADkVLio8ufUCyu20NUeJ9QEohKPBz631AnWunuxj0fUDpz01Xqvx9QAfXNPJHBX5AWkfLRcgNfkBeeC5frBZ+QNVZlcblH35AYQhicp0ofkCp9wYPhDF+QEvuBb88On5ADg0LtkxDfkAWJy5EUkx+QLvXisUlmn5A6iVTCgqUfkAYVvMH2Y5+QDY6i1Shin5Ae3Zt23eGfkBxlLZhS4J+QG//aZ3xfn5A6ARTepd6fkCg/8dwRXV+QAQKZCSIcH5Ap/fzwVxsfkBSRY+++Gd+QD3BzP1EY35AJWm5g0cxfUDoZ3UIJ5x+QJASevYBln5ApqcRptSQfkAJNViJoox+QEHIaS93iH5AhuODhlGEfkAsLmGUCYF+QDr7bEKvfH5A2cHhW153fkDbfCngpHJ+QFhDJl2Zbn5AIvVD1whqfkCnft55Y2V+QCW91Q8eNH1ADc7l90AvfUCUz+bWaNd9QDLGd+aP4H1AfTTe6k3pfUCbRDzMqPF9QLgw/4yd+n1AAg/KhNsCfkBCGlS5vwt+QJub30EwFX5A5wmFkc8dfkD4bh+VrSZ+QJWVMzJ0L35AH1qOZZY4fkAJxsLywEF+QJhRjGyiu35AKrOPMme2fkD5TLewobF+QGAWGE42rX5A2psxvZ+ofkAomWxzZqR+QBPshnapoH5A8sps6FmcfkDH0zXY2Zd+QOUoXJHEkn5ADI4uFSOOfkCQrtxD4Yl+QJjpSww+YH1Ae/ecLbVbfUCxUmYtF1h9QLLmsbykUn1A/dRU8OhMfUAAXV9SSEh9QBRd4ULP731AEIz3xFP2fUB0x1UiX/19QGOQ7rGdBH5Aj8u4hP4NfkCIrkdq8hZ+QHYt9xaCHn5AzoCG0JYjfkBgn6Lm8Ch+QIvd/N54L35ACDHOyIA1fkDoznKJMjx+QJnDyg0ZQX5AjFd3cQ9GfkAgyqkNykF+QBTdZr4iOX5AVv5DNWIvfkAalHhFJCh+QFaLx2DSIH5A2I/Crl8afkCxD6gNFBB+QMAVNrxXCH5AW1ckHLcDfkBwXxJE5f19QGfbLpHt+H1AxaQMcYDzfUBUbWliset9QLxvbZWIpX5Ag1HXCn6kfkBk3WVtlKF+QN6KK6cSnX5ADpYumeyafkD8bkMLFJh+QESkn1JQl35AI9VZ8guZfkBwq28GiJd+QJPd/eugl35Ad+nyJI2UfkBEMf44Oo1+QGAXUOoLh35AJ+v+84l6fkAgAGpcb3V+QHrnsxlTcH5A3k6YeUZrfkBGvxHQEGd+QJ4kfDPtYn5AWVWcDmBefkChAJTq61l+QHAuteCeVX5AOg5ittdQfkCcPXG9U0x+QNdNSx+OSH5Au+W/nWNEfkCoDnEAiz9+QEa+Wtm+9H5Af60/WTH+fkAP2ReX0Qd/QI3W09rRpX1As1u12PGtfUDAzRUSWbd9QOAyLzDcv31AyVYxMR/IfUAysTlIh9B9QHtFQY4A2n1AtyQfwxXjfUDdJol1G+x9QEoUJqDs9H1AMwMvNgn/fUA3xoe3xQd+QNg/LigeyX5AEN+uxS3EfkDXOgGEh79+QBWStmjOun5AoPPUEsC1fkD20Rsr27F+QLjeAcj8rX5Am4+QtC2qfkCb28K7jaV+QHst4rGyoH5A/UWYkD6cfkDozdYGE259QElLLbVHan1AkJK4wYhlfUAI0yEL+F99QLvrFBfIWn1AVWEXKWZWfUADNBbwONJ9QEZPUeNv231AiHpTjl7kfUCrmh6Yjux9QNjd7IbT9X1An5Ee9vj9fUCTD94U3gZ+QPp0nBpnEH5AGzusnxAZfkDwC9FX8SF+QFot7IyoKn5ABUVoldYzfkD8POXZMj1+QFoOHbDE8n5AHZWz6fftfkAEzhdmcul+QMFoTo9F5X5AoRUWG0bhfkD8oZBH39x+QG+cHG+q135AO7DTa7XSfkD5F5hOQeJ9QARdaitH631A0XwpSVL0fUDtjo/12/x9QFld0miBBX5Aw159CxMOfkBcZTNS1RZ+QHnYx6vjH35A1eGt1v4ofkAmiEFb6zF+QAbxPZXSOn5AZCt/HaZDfkA5CciCrEx+QG3rspSkVX5A2wEBCfj9fkD8jOj1c/l+QCabrbYT9X5Az7TK3wzxfkDNnRTh1Ox+QNxRMZ9L535An/ykbC/ifkBlb5teKL19QJYh2bfht31A1SvZFKWyfUBCCTeWHa59QAEnazqhqX1AR52zbTKlfUBnBvRsWKB9QCkCVAwJnH1AUxiwTNGXfUCXrOLXJZN9QD0sA47Mjn1AQpp5SPbUfUCewtX5Hd59QNaIIosm531AhxZuMorvfUA1qfl1mvh9QHhsVykAAX5AuA5wMskJfkBmkbU0JBN+QH2BBfcSHH5ATMJF2vQkfkDQfADSyC1+QJzWvITMNn5A1NN4FRdAfkBvQCec4Eh+QNanAkno635AGQJuYOzmfkDsdHdVKuJ+QOdFakW33X5AMG6YArLZfkCiz/VbGtZ+QJkjyL170X5AE01gxGPMfkCnBvWvqMd+QDQNK+47on1AS+Iu+x2dfUDfca9KM5h9QHFA1eFTk31Agac9MfyOfUDjcpSdwop9QFtDYf9yhX1AnW34ujiBfUC9GMwNJn19QHC2SL4OeH1Ash20eaDwfkAWIDbyOfp+QBR2rRTwA39AryxTTJoMf0DANTbgp6R9QLKFTaRjrX1Al2yfUq22fUB3Vozl/L59QDLMRnNvx31Addd91V3QfUABg5l14tl9QEmdPJTs4n1AD3l4gunrfUDx5g9sNvV9QBVBqncZ/31Ax8eim24HfkA2v+VIogB+QKFP+onp/H1AazYHr9L9fUCsku3A3vx9QFP0pF4O+31Ash7MsUP4fUD9cZZBzPV9QCpXFth99H1A5cq0M7DwfUDiDZB9dO19QB6Gy+JA6n1ATc0ieVjmfUAFOjvYKeR9QO4lJU6y4X1A5szx93ZYfkC4cWebnGN+QCy6HFXVaH5APl+BdXpxfkCwgcuzRX1+QLxU2LUOi35AgiMKTJWQfkB1TTD01pJ+QGwwDh1Omn5AuCVka+KgfkAGj85jaax+QHL15+uAvH5AbOFVe7ZGfUCak+//lVN9QJBswV9VZX1AAGHpQfxxfUBVyNagV3t9QMq0cQjFhX1A6fVRZiSUfUCsOT6p9Ad+QMem438hBH5AHPwjOtb+fUCIoDkAr/l9QAKrG24O9X1AooLqZlXwfUAq8zicuut9QMkloa83531APi5Ezf/ifUAqKTTLpd59QEb5ZaZ12n1Ayaj8FFTWfUB5ol79o9F9QJVuTzUuwn1AjMcxxkzLfUBc3t7qSdR9QLzRpe6l3H1AGGzJc4PlfUBdpMxuNe59QByfxrN0931AjgMgBfAAfkDhGY2Ghwl+QFjlzDqrEn5AZ1u6DZgbfkA/Mb8BNiV+QOvH7wMjLn5AGdutmqXofkBKIDz+8eN+QEcfnXsM335A9uaaJoTafkB6c/cTVtZ+QPjjTk230n5A8HDBDPLOfkBsNeAX1sl+QDkDpMIDxX5AoEWZIvuKfUAUswjPtoZ9QL5qkwrCgX1AWVSfbk99fUAAnQACO3l9QI8TH+phdH1AT7Abq1evfkAmXIdVKLh+QPBREhJuwX5AgH6FUrLKfkB8p+q5fdJ+QDPFFFPz2n5AwviqnuXjfkBxp2RXIu1+QG5pB0JlcX1An4V7evR6fUBSIMC2ZLp+QJpcb45ctX5ANk3E6M6wfkBJkV3qsqx+QPdkjR8/qH5Art5hfEKkfkAcrCE/u6B+QKoOBfuknH5A6dBmDFeYfkAb9S3rf5N+QP24m1cMj35AE7mtoPaKfkCXKYwbGFt9QGuLPf0dWH1AFeiXHC1TfUDDVAV2T019QPYibO++SH1Awzs2mM1afUCUmXSMvmN9QP4jG19LbX1AeVlHNNl2fUDWnBFQ2n99QBtn/L/ViH1ADJovWB2SfUAuovbcJKZ+QF2wcI3yoH5ApfqonZqcfkCTHXty15h+QCUM+MDblH5A9B1uVsCRfkCwWmwk441+QKjB+MoRiX5AfhPNe4GEfkCvj0ClRYB+QJMmjrfCe35A+qhPi4h3fkD7iind+UZ9QKYwm8YaQ31AIQuMTAQ/fUBwD9t77jl9QJJNUyDaaX5A99vvkslyfkBW8Wap6Ht+QB7aw7rFhH5A7a8HDeaNfkBmZEDi8JZ+QENpKE0pn35AvQfrE2KnfkBEYLY7Z7B+QOF53MFOuX5AGWBbI6PCfkBYV6F3mkl9QJ8b1OHLUn1A5BrR3SZdfUCyY5Y6nGZ9QHuGnt/4bn1AzP+kmsR3fUD42sK7Wop+QMUxzp9Jhn5AFlyDxAVZfUBdX09emlR9QPDFS+ROUX1A55gafDZMfUC0aSTdxkZ9QCoQe26qeX5AnCoKXLuCfkA0e+DHk4t+QD/ZyG/5lH5AxWtBBCOefkBJOTRGoqZ+QL/LbNfkrn5AN8+Pwxe3fkCJOsBCtcB+QFf8shAbyn5AYXhVs0zTfkBUzMa1KqZ9QMhmNGsNoX1AfPEv6zucfUDVojA+Y5d9QP4fSoc3k31AOYOOLTePfUBcu+N23ol9QKsJuWe8hX1AEqaPALeBfUDy8Zsvz3x9QNT7YSUbdX1A0v38bjt8fUBABItulYR9QOIib59fiH1AyQ8iF0OPfUDbWjsHBJh9QLbuxF3vnH1ACqz9rImhfUDxbINAU6R9QIlQCCi19n5Ao8Yz564Af0AF0NQgfwp/QKd1Q2xMqH1AjHw9r/WwfUAmgyBsqrp9QNCShdZVw31AuGjSxv/LfUDG6y9i99R9QCZl7hXQ3n1A6AgdeivofUD6j+uFb/F9QL6lZA4I+31APksVzUEFfkA1fxf9ww1+QEbDIqHZ/n1AWF6Uuyb7fUAUAh8NJPZ9QLPGSVLw8H1AmVH/KHvsfUAuqsMBzud9QGykSCf/4n1AdgEZIYHefUCIsBQZe9p9QMzST6tw1n1AD4r6NT/SfUCJccXaO859QN7sLkKkyX1Avbbf3DFpfUBrQdLm7XF9QMfn1kNpe31ABd1ks8KEfUBh1Apa2I19QDO9IF80l31AT2RUy5+gfUD75y3hbqp9QL46Iepn6n5Ajd7awJHlfkCJas+Z5+B+QCDv3LOa3H5AMaI+UanYfkCZRq3RP9V+QI2kgaa90H5A1wyIW9LLfkBYTAVjP8d+QD10glc+nX1Ain/08FOYfUAHe/KOk5N9QLd7M5v1jn1AEXbiHgGLfUAL70W4OYZ9QB3aI2aXgX1Av39lv5J9fUDa6iHLAXl9QKDeIrHLE35A5BWuEuccfkACdP5W8yV+QOo9rdfULn5Ag05GcPw3fkBoOPTOPUF+QLBeBj8rSn5ALSruRn5TfkCes2Jcjlx+QJn2vuIgZX5AsJZ2EFRufkDLzugODnh+QEF10EsUgn5AqJWAb4bFfkC5oHNXzM5+QCkYsxx+2H5ATUdmBuPhfkAXg+PAjup+QF7hxjlj835AY8cgBnj8fkAxbelxY4V9QN8DfDO2jn1AQ4k2RuSXfUA3fiDix6B9QJMI0fYDqn1AC/WqMXOzfUBGwNiu7Lx9QJovbI7SxX1ANvL5mFjPfUDGHxV+vNl9QH1qGFzB4n1Aw+xK/OQIf0AD2wHW8AR/QJeciyKLAH9A7BxJW9v6fkAT/cLLxs99QJwPWIRYy31AX39cSOzFfUD0bHW4YsF9QGxbUaBJvX1A9tuYzsG4fUD4Uj+lIbR9QNjjLDGzr31ATz1IDaOrfUAlr8pnlad9QJgas+vNon1AY19FpfeefUB45NEvsAB+QBVGK6cxCn5AmbvwtjETfkDjna3QOxx+QAnk6ZoUJX5A/FDK4D4ufkDU/B/1aDV9QGCFl8YfP31APxVqtTpIfUDW+yqWjZh+QHoTFvV5kX5ALdFS8beLfkB22Kak4od+QBbcCBhbhH5A4oFXiIKAfkDIO0SEFn5+QIt8iH+Pen5A2ufc4rN0fkCy/Bgv929+QM0N9BBFbH5ACHNNjFhofkBx15k4tmN+QKNEAm7ppX5ARviNn5WhfkALL4gEUp1+QLUwuC4rmX5ANyPk7vyUfkCyCRNf1pB+QBaybsG5jH5AaM/2hYqIfkAy/zoLQIR+QBj/yLsJgH5AsB+FXM57fkAQ25oSkHd+QIOqEaZVc35A+GLBRREFfkB+2K1x4gB+QHO0W1wZBX5AqetV7DQEfkCg90fUAgN+QPiUlmow/n1AijIUJHz+fUDsYGS7O/19QOJSo7z5931AAlUntaz1fUCcgBdoC/F9QAQ6lsCU7X1A2ApuiZHrfUDImpf12YB+QFOgaUDjiX5AdBS/EviSfkB1+9Mxjpx+QPgVbFHPpX5AzmquwDyufkBUiYIgfLZ+QDaM1lt9v35AGHhAAVbJfkBkKhjkydJ+QM0LYmQ63H5Ay89SqXZefUBLQZuZhmd9QNmnjtRTcX1Aje0cmfZ6fUDR5eHrOYR9QMtMKq6ljX1A0FzFUSmXfUDiYgQg2gR/QC+fGuSoAH9ArzME+2/8fkBWZVpHifh+QDpvBlrU835AKGHivDnufkCsfPeU98V9QFBO+VjqwX1AWLQKdUu8fUCw7hkIm7d9QJZnV9iXs31AiHI2SgivfUCQD7ezjKp9QMH6HXsVpn1AIGpLOP2hfUAKbohYxZ19QHswvkwlmX1AuW2uBBfqfUAjHY05nfN9QKbZNWvp/H1A1L54qLQFfkC6eAQIyQ5+QFQJHxbBF35AZh78lVEhfkDq2eI75yp+QJSHeA1FNH5AIPI2l709fkDrgOS3BEd+QNvDk2FBUH5A3rwL5bZZfkAeWGNplIF+QOmEHERwfX5Af9aSlQR5fkBuE+eev3R+QMzGcMavQH1A25FSHn88fUBOWIdqqzd9QDcgO/7l1H5A4fj77bLefkAQNVwFfeh+QFEDDFRa8X5A/JIheCz6fkCzAe8jagN/QEqA7XBOjX1AjoYB7pWWfUAvpeT62p99QK24ZIjUqH1AiSBxOxuyfUAOM+etsLt9QI3TyGMnxX1AyNNk/FDOfUDadQj/39d9QA5r4HtO4n1Aq16Zy6HrfUB7ulDSJmV+QCp2F1BmYH5A83zus+NbfkB4tAyCb1d+QO5k8hTdUn5Ao2cr5XpOfkCOkJAlHUp+QEWBMvrpRX5AEmL1fcFBfkACN0kbWj1+QOdFjy8GOX5AJfng7zU1fkBYiFAzjTF+QONJRScTLX5ACfY4MP50fkBE2ypURX5+QNM5zhthh35AXyC+iQGRfkBcG5y4Kpp+QFFWuXEOo35Az48JBWerfkDkkSutyrN+QMJ9r7OovX5AS5mCSxzHfkBo3QSZl9B+QEPN7nDDU31A60etyupcfUCcAndkvGZ9QNQEcNLCcH1AgA+65wx6fUACwIhmCYN9QFbuy1GSjH1ArFvSJ1AdfkBbQmfz6Bh+QI0W/ZmeE35AYkNYWRUPfkAijGffvgp+QPj+YFSOBn5A8Ca/FWkBfkAC+/kqD/19QGSAB1xG+X1Al/myEbn0fUCpG03j4/B9QM4BCT5p7H1AyH3EL/HnfUA/uy8g7Th+QNIPO6lhQn5AR4A9PdxKfkCR/2HuoVN+QGy3A/dqXX5A7n6fD/1mfkAfIwywtW9+QJmGMtt4eH5AAoAVgIKBfkCXV+0G4Yl+QIHB1BH7kn5AjU1xJkydfkArgkALvTN9QBllR2JvCn5A6AxdOogGfkDJxnF/sgB+QN5PXfgj/H1AA/jo8Yf3fUBrIvYOV/N9QDvpYlt97n1AUVN1hAfqfUAOMs37BOZ9QPgFlfKn4X1A7slWmhPefUCVrXjzodl9QG97KS7v1H1AznB0dB4zfUA2YnPq23R9QAopm1Yufn1AvFtNwTCHfUBnzUXnDJF9QIZx8ihBmn1Axu3Knz+jfUD3MYr0aax9QJ+9i3EWtn1A4P1hXHHAfUBMHN6dxMl9QG6tTpQu4H5AHvyPctfbfkDmFRz169Z+QJMp8+xj0n5AfSVfslbOfkB8fl8Iu8p+QAgWaRKdx35AeiDdUXrCfkDtcT/8371+QBsY+Ncmk31AfTCHd1aOfUA2g8h0vol9QH9Ku2QwhX1A9PgNm7KAfUCSvhSkDHx9QCbZ4pZzd31ACRXuVHtzfUDES6tePW99QEEMBWsby31AY4t3v7PUfUCWV14+wt19QMfW45LZ5n1AkvwjYSnwfUCBu9BINvl9QC+euWoEA35A1VVFE6oMfkAuermS2RV+QNGdY6UNH35AhBjFwYsofkAKFQXlkjJ+QEuAyXu4O35AJx4Nrjj/fUBsE8T1Pvt9QEHE9JK69X1AkGe9GCXxfUAXdo7kpex9QDjekw0B6H1AXBaeoW3jfUApQ/IQMd99QISdjvho231AO6oLcyXXfUAJYDQmcNN9QESkYBUOz31Aqd+eAYLKfUDQW0oZ6zZ+QJOaCU+eMn5AV0vGpbstfkD9NBaxXyl+QINkuQf9JH5AMt0EGakgfkAI1leJ6Bt+QH61obZlF35At1r7ezkTfkAaZJ4UXg9+QHtEtlN3C35AHOF/RGIHfkDW4MIjBgN+QN/t5fCs/n1A0CFxqMQOfkDoLG8LMRh+QI/WLpRaIX5A6vcnDWsqfkBe7AYyrTN+QFbtM60MPX5AT91nxhxGfkD3ZXrviU9+QGzezBrYWH5AxWio8cNhfkAZe/xSH2t+QBjRg/n0dH5ALDYamwh/fkBrcFLSv05+QHgqvIT8SX5AzdQs/6lFfkBTf/gcYUF+QIlu2N2ePH5ASz903wI4fkDuWV4suzN+QJKNXobLL35AUIGfPqErfkCrT/NQkCd+QNlFFdaWI35A/vshbJYffkAPTxUFhxt+QCBn8PxLBH5AWYagFd0NfkAcBn2HCBd+QDF/9gsfIH5AmC9MgSgpfkAntU1BgzJ+QFU8Al+eO35AdwJbSvlEfkDAkbgdeU5+QAkMKgTdV35AoNLk0DFhfkAX6yw1oWp+QDJNFxJXdH5ATPMDMPI2fkDeMk38HDJ+QKx7ITqhLX5AlyxXcVopfkBHdwe09iR+QL4svl2BIH5A9Yynz+8bfkA+J8gpcRd+QHj527abE35AfmVCqfYPfkBKlsn64wt+QONnM3DLB35AcRDx3GADfkADm3yJTdZ9QI4fhzMH4H1Ag8L51EfpfUB0+t1XWvJ9QGO8He3A+31A3pO4zakEfkBvHvzNMw5+QByMSVEdGH5AoDyoTlshfkAGCyAj1Sp+QKoig643NH5AX05ZTO49fkBNJco2k0d+QPbpOPAf8n1A1a61mU7ufUDSCCuYwOh9QKpJfIFy5H1A4u8JqgvgfUCSos1LmNt9QIKqpCS31n1AnjGyIbfSfUBIhofFJc99QAhriicpy31AnNOtF2THfUAVuD3M58J9QDtqZnyqvn1AZVsHsmh0fUCS9EqIXX59QJwEi9VWh31A7K5Y44SQfUAgBTVNgJp9QDnyvstuo31AS9dSSuqsfUDcY6MAD7Z9QAL8brUEwH1AoHNr557KfUAFl6hIZtN9QDk4xNmBxn5AazmfKPLBfkBax2oZtb1+QBk9VqZJuX5Alj6OWKO0fkC8Yio0ULF+QMf2yqPSrX5ADQRW6lOqfkB3MwGE56V+QB+aw4OaoX5AwLdKI56dfkCbTlnSB219QCKoViWaaX1As5nw1HdlfUDHdvFda2B9QLJGm2JiW31ApLrOOTFXfUDoVIa0jVN9QK2i93vQMX5AkbGZPqc7fkDB4d6To0R+QI6CfyY/TX5A5213vKpWfkBVpFPIemB+QMkty62vaX5A4HDtpoFyfkBheb6xvXt+QF7d8/d2hH5Avhwkoz6NfkCvTDdDE5d+QC9AFs3QoX5A3sHcjOExfUAsQt9QbYN+QFH0qOn0fX5AD3hYlnp5fkDfYzBC9HV+QO1oZFCBcn5APKYxSTNufkBmrvXIq2p+QASioZbFZn5AMu2J909ifkB3tVUKQF5+QEBiKmTJWn5ALNbM1uhWfkCeJY7FmlJ+QHV8WDsv9n1AecjRffn/fUAWQ2d7Sgl+QOd3wgmbEn5A2E4cNXcbfkBN2+dIoiR+QL4/llsZLn5Al1bIxHw3fkAWj/DqHUF+QLvGwv4JS35AgHASVG5UfkAjD2Eev11+QP0EKPdvZ35ArDK6GK7YfUABkFlTduJ9QHrRHCMe7H1Amit4HS/1fUDLG8mauf59QDw00qDiB35Akk0XnUcRfkDG8e+nMRt+QKlVAXHBJH5AjdDLalUufkB8ravb0zd+QNoPifZYQX5AmL9NrDRLfkBHuYAhsmt+QDtjWtcqZ35AdJkjKNlifkBCqH4Cgl5+QDB4AnNAWn5AP9VmyH9WfkCPpiE3RFJ+QH1tqEpaTn5AZaFWmlZKfkAZS7HcGEZ+QNTFC8o5Qn5AUGvXDvI+fkALD0QPVzt+QAm1tODUNn5AmqH//Hl1fkBoZO3S43B+QE5q9ANObH5AJeTosOJnfkDwHfEgM2R+QDnEP4h/YH5ACrv3ukNcfkCrSI9SfVh+QDwUacqJVH5AkQyoHxhQfkBFFzUHUkx+QIlP9fovSX5AH/8wOUBFfkBSmgNX8UB+QE4U3n+Y3n1ALrRfe4fofUCFKeja7vF9QHSuCmNF+31AK+PDTa4EfkBSP5Fz7w1+QM9pJLijF35AKOVFR5YhfkDlRAN6JCt+QI+SiGbRNH5AjxlbB1U+fkD41q6HJ0h+QM/xTBffUX5ACCWzr36yfkAyb8zbBq5+QJSYCo31qX5AJGL4MDamfkAoxEAGnKJ+QKelZUT5nn5ARTOeWWqbfkDk9uzyfZd+QGFRraKXk35A8utiqwqPfkC/VoO9Cot+QO+LZLwwh35AqQ/jaARXfUBXFwzKz1N9QBPXpcsoUH1ALvy5NcNKfUDHp+QnQ0Z9QHtqoFb0Mn5A3ADdw2M8fkDYQqFJMEV+QI8eGQZdTn5AjmlqCZ1YfkDOKG8ESWJ+QGxZNlVPa35Ao616ctp0fkAIT8hQ5n1+QNLBoaeKhn5A+uBr8xiQfkA3H4cl5pp+QIdV0iNj8H1AUb7Atc7sfUAS95nGded9QOFLK88n431AFYCrSv3efUCvb5YJrdp9QEM+y8bb1X1A6MWsSv/RfUAy00oyhs59QLRYFAGuyn1AsrLCD/vGfUC8AYKuvMJ9QCghng2cvn1ADcdUJ6STfkBvhLQ+25x+QI086pCZpn5Axm4qBZqwfkADG70/t7l+QMV4vWU8wn5ALzbzg3bLfkDv6YpGV9V+QD4ZNs2M335AllAc6UzpfkCQ9Osmv2J9QDm6ddcNbH1An1HVPkd1fUCH0zqyV399QN0O/rwXiX1Alfr0n4iSfUDjMlV9Y5x9QAjhUQ0ypn1A4c+e9qGwfUD9JHplGE5+QMJHeNiGSX5AtHHvL2VFfkCTAH+tT0F+QDl56zXWPH5AMYlermQ4fkCvUgQFPDR+QELgBQl+MH5AZzin15MsfkA2zJ/wqCh+QEOMx1ffJH5A5aO16BAhfkADJyl5NR1+QFFUCTlQGX5ADkXZgfbDfkDZ1rBt881+QETZON9A2H5ARCmy/iPhfkAa1HBhPup+QKk2A7rY835AFbdnkKb9fkDCKdavJYF9QKxkIV4+i31AG3pdMJ6UfUAmDyq5/Z19QOJRDTMFqH1APF45O6ixfUAv3KnNhLt9QFTRiNTmxH1AW3tPzELPfUD8siO+/9l9QOdq5Toc431Ay+3JJwpsfkBfe59ZoWd+QBG3uBNpY35AANWjcBpffkAdE0CT/Fp+QPGpAapUV35A2RtTdy9TfkA4IYfaW09+QEuSfgFkS35APMUMsT9HfkDnQlcscUN+QLFw5zhCQH5AEeZPBa08fkB8i+Z3Qzh+QIiZjbE8sH5ALZmH8Na5fkAakk9p98N+QASaQRGtzX5Aqds62VTWfkDhnwvlrd9+QHcaeVFj6X5AhgJJoG7zfkDZ9hBl93l9QJvgJXyIg31AUpw9RvaMfUDEkvUQT5d9QLiSVUjBoH1AzbcckG6qfUB7wrkY7LN9QJzW4eISvn1AvGP8chrJfUCTyWG1VdJ9QGbnoValaH5A2amoaEZkfkAa9B7TJGB+QC/0SVPmW35AVOPvO+lXfkAnFfclDFR+QDzzia7gT35AO/pyEDhMfkA2fG4YHkh+QBhAfiLnQ35Av3nIKVpAfkCu/+MuNz1+QNyfoTh2OX5AnIB2vdWTfkAQs9yHJJ1+QErRnooAp35ALsNSyh2xfkBCDbK7R7p+QCpC7o7lwn5Avc9LVEbMfkAtxZ5hVdZ+QD9JN2Ok4H5ATz9hRsNjfUCMmC5cKG19QGxrqUB8dn1A1Pf1pMmAfUB15n4mhYp9QABSTjkjlH1AqLQosSSefUCN1FYhK6h9QBV9YS2Csn1AWTZQgDRffkChMRKk41p+QPS02LPTVn5AF7OWPaFSfkC3M3VKZE5+QEKteidSSn5AhqtSg0tGfkBevjWDm0J+QDlQ0uCVPn5ATdkC1nM6fkDJAcJJ1TZ+QO+w4yWXM35Amn8hKgEwfkAILN5sMXZ+QC7BCzvOf35AEuG3ToiJfkDJq5iRfpN+QBLra6Q4nX5AIWIStm+mfkDvNFUZ8a5+QJxWRj52uH5AKmrvAOPCfkA2GugolMx+QAp21t+81n5Abr0QH5NXfUB5xGbDh2F9QC2GHrYcbH1Ak5pMIUF2fUDig8X96H99QJTidcOIiX1Ac+WSI9aTfUBcWiEbQ0R+QBHiXy5OTn5AGll6HxBYfkDu3UIXLWF+QPYitiLSan5AliRsYkV1fkB0C2tybX9+QDgCrn/Eh35AnCuX3dmQfkC53XNXIZp+QJQqKJGko35ANUT3i+utfkDMjWhO6D19QHwA2WbwR31AGlmQ9zBRfUAkyuAXZR9+QHSv5svgG35Aq7GGG5sXfkA2wqoX7RJ+QIXd86ilDn5Aftkho+AKfkARz39+wQZ+QBbLzrcVAn5AV13fbTP+fUDPscX8gvp9QNqT8pyC9n1AUh3H/9HyfUD0wLdate59QACBMpqT6n1AXIg7Ip8NfkA8fPNYlxd+QEiwAOo1IX5Av84tx8MqfkBJamxhmzR+QFquxRhjPn5AqWIBMABIfkBH0v2k81F+QIqUQoV4W35AiMNn2yJlfkBVXkQGKm9+QH8/K6+IeX5A3Lb5oocPfkCSND0RJwx+QMTd0shgB35AGJX9XrQCfkBn0w6uZP59QFqmotSV+n1Axt4zRUr2fUCek3nR5/F9QDq4CFxD7n1ABTBEi0jqfUAK9NlNoeZ9QFxjTGXE4n1Ao/Xt/nTefUBeh1HEJN5+QLlJ3qvG6H5Atrrba0HzfkAEtguqi/x+QH9+pzbbBX9AUQuz3nkAfkCGaLWufgp+QJKdfn8UFH5AI6m0zrcdfkDa6vT0QCd+QOLIevABMX5AOGyKdaY6fkByFW+YjkR+QJdi6TClTn5AW0X5V61YfkDuNNpRfmJ+QCVW2QN5bH5AGCJ+hc4UfkAqDAlFjxF+QCVd7YkzDX5A7oVbqloIfkAs9z23EwR+QLoLQ4osAH5AJiOhhhv8fUDkNZU4ivd9QC4FJ+3O831A9DGlsAPwfUBodD9eIOx9QNZOgDlu6H1AZJV2aDLkfUD0Pe6vF+B9QAU7hRI46n1ATODLT1X0fUDqn0eaFP59QCjz3/+NB35AI8FXTzYRfkC+nS4h/Rp+QOE5C/khJX5AVV1oRi4vfkAQKDaAOTl+QGXD7uwoQ35A7x5wagJNfkCiQTXC5VZ+QKatqiD/Cn5AGqOuopQHfkBIs5mLcAJ+QLGT4skI/n1AfrSen835fUD/C5719fV9QBgm/DaD8X1ARjXFmGDtfUBZuKAuvel9QMhFx4K55X1AulzNuVnifUA1+iNNV959QLw0c7rr2X1AKv3elpPEfUBWR9BItc59QG9yQLfN2H1A+l7klfPhfUAfPJd//+t9QEBeO2J39X1AbSzYvY7/fUCNXsmYMQp+QMDZU5vjE35AA3daHLQdfkCo00YEgid+QO120rcSMn5AGOf62h48fkB38r8T1fN9QO+TIOd5731A/lbUonbqfUDakjTQeuZ9QCuBgD404n1AfZXtP7rdfUCLCcRjmNl9QNMmJ3IH1n1A+5jHQ4TSfUARVUQNw859QDFAbEsLy31AzXI5JtfGfUB6h+tfHvV+QDxEMxfQ/35Aa3gnRVEKf0DykQVh/Kd9QCqq5riisX1AKp8p2fC7fUD8CJ3pQsV9QAFJ2ES2zn1AJPiL36HYfUCGClPVDeN9QA7WLjEz7X1A70pLRDj3fUCvwMGu+AF+QF8cuM1ODH5APCus62YVfkB/9nZgG+J9QD06EZu03n1AMlpcX9/ZfUA419OzLNV9QHtgNQRZ0X1AY5rAZFfNfUDzFGU9t8h9QFqxHPSaxH1ARGRRaSXBfUDRSaCxor19QNCoGtobuX1Apm9/9fK1fUA2TXBrVqJ9QB3jfn9VrH1Abxvo9me2fUC/tXZqwb99QKdImzs/yX1AEB8C/3vTfUAeJTiYzt19QGEoNQfk531AZw+cksXxfUCuSxtnt/x9QLtzt3vpBn5AEOCwZBEYfkDzId9OqxR+QNa4OJ8hEH5AxdhVnYcLfkBKy58qSQd+QEF9vwypA35AKiazwEz/fUCoR6KC6vp9QNF9Vp9l931AtHSMWWzzfUBhzDie0O99QOC9Dnj6631A5KpmHcnnfUAUJZ0g9sF9QJ1A9309zH1AF3m9YovVfUDBTIIXWN99QKmG/0jq6H1A+bRCtOnyfUBVYzAij/19QIPSik4jB35AY/NMWikRfkDqrYCy7xp+QHE39h6tJX5AG9FxWa0vfkDib/QHNE9+QHNykR7hSn5AF7XfK6lGfkDYwaPBrUJ+QLraW1B2Pn5AOeTVRRQ6fkBE0WDh5jV+QGZ2Y3AzMn5AV7120XQufkBT04YynCp+QGLcn8vxJn5A3ap6B0YjfkC6uLJ4jh9+QOgs75XpG35Af4qMqxTdfUA3UR2SSOd9QFRof5nv8H1Afsw0zNf6fUAX+/EgdgR+QJwKbFAhDn5A5KpPs0sYfkCP9s+leiJ+QOlQmC1nLH5Ay8eebVw2fkCAFSNyREB+QBSHGXWFSn5An7DgeH5+fkCPBei2nnl+QK48Dpf9dH5ABSVRP2pxfkDVSn+7NG5+QFUyDr+Zan5A2wZypctmfkC9AMtER2N+QDcH6QIvX35AuR5aay5bfkAX/Uxy+1d+QA2wK4V9VH5Axht803lQfkCdPzN7U/d9QOMYd+ltAX5ApxpZFDULfkAJ/l5G2BR+QM5TNmdLHn5AUmvtwtwnfkCcSyGj3DF+QHP8f2baO35ArTXvPhdGfkAulyCJSlB+QHlr5XceWn5AIxVnHQVkfkD7228jOW5+QKWjyXe3q35APUrLL9KmfkAeeo5f7qJ+QPBaVR18n35ADyFRNQycfkBaD9tMPZl+QJ9NtCHNlX5APDtSFc+RfkCBqYjT5o1+QMvtOYXmiX5AVSMwDvqFfkBtKYXwToJ+QL6Q2sQAS31A6Uixb+NHfUA+HFAeQUN9QJdcHDHFPn1ACrUH650SfkBEoJ2Wjhx+QMibFsA6Jn5AbyTYYtMvfkAzy5mF0Dl+QPEEMX3EQ35AR+8LOXRNfkA99tbNk1d+QI7VyA8oYX5AW8bjdnxqfkCIdm8ye3R+QLOaRLBFf35AFF/UzaPXfkC8Kwr1g9N+QJpHN5h4z35AAEWc4gXLfkC4mbSvFcd+QC2/IlbPw35AgeFYPrbAfkByEjbddr1+QDJMepUCuX5ATpm0GA21fkDv88a/WYN9QHx4G8Rhf31ALCZdeIZ7fUAJDG22Rnd9QJyaNoHOcn1AHsrIL3BufUBjTUjv82p9QJJDdQxyZ31AVhRlb3cvfkCBzTWXZjl+QKmYN4KmQn5AKytt8AlMfkB8tId4clZ+QAztgsOEYH5AwlpeFf5pfkAhYgasuHN+QJooMaM6fX5A9gSVtSaGfkCHJasE2Y9+QMTXDtXUmn5A2J21RNT8fkDlnXcUyvh+QOGM8WgS9X5AzhnNuafxfkCu2uHqK+5+QBIORQRT6X5AcjraOMTkfkBlQNWfSZR9QEBPUM2akH1ALa0PhU5MfkDmp27bYlZ+QP5OrxXWX35AZpQa9l5pfkAc9e8hlHN+QFVkNJZpfn5AwxgtfXmHfkD4shuCKZB+QAwIllSXmX5AUAk3Y/6ifkBOv56bEa1+QNiT7MPSt35AJ1vUqpA7fUC5qKEZwEZ9QJRWV8xnUH1ADwYgO6BZfUCzWxzrAgx/QCxfcWuJ3n1AfsGJj0bbfUA8w1gIXdZ9QLktkqbk0X1AU5pYcE/OfUBT5r8Xbcp9QK0z5Z7uxX1AxQTinv/BfUCvq+CssL59QJBKM3VKu31AWzqHfdW2fUAvr1NW0rN9QEZa78EeW35AP08FA0hlfkDR6Bq0cm5+QKXZ0thReH5AqD3GvZmCfkAi21cUII1+QFBmLdQUln5AWV9cINiefkBSDShcZ6h+QDdhBh09sn5AbGkEXou8fkBBxut8gkd9QBZz77APU31AwCu9OltdfUBqmmnK6WV9QGpO1uQ4cH1AhWFJCaPxfUBSzcgENu19QBjz+4aO6H1A8dLYkbLkfUBtT8OeluB9QKLi+1gt3H1Ax7qHtFPYfUDYmhbRAtV9QJg3Cl6R0X1Am/G+bAvOfUD+gdeNXMp9QAyAwQtdxn1AVWovNv9afkCYk1YmEmV+QP4wOC0/bn5AeUUQJ0l4fkDEv9N0p4J+QLkaO8TwjH5AQCzHfMyVfkCq8D8PuJ5+QO9yj1FTqH5Ac8wkokWyfkBPITCLtLx+QGPROYiRAX5AZjAwuhD+fUA45xiT0/h9QI8lpeHh9H1AqiW2kuHwfUCKOcSD7Ox9QER2JxTM6H1A1vOFbwTlfUAAWnJcnuF9QASjvGnK3X1AwmtkeMDafUCZfKLczNZ9QKhFtS630n1A",
          "dtype": "f8"
         },
         "z": {
          "bdata": "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",
          "dtype": "f8"
         }
        }
       ],
       "layout": {
        "scene": {
         "aspectmode": "cube",
         "xaxis": {
          "range": [
           -1345.092519912852,
           1345.092519912852
          ],
          "title": {
           "text": "X"
          }
         },
         "yaxis": {
          "range": [
           -1345.092519912852,
           1345.092519912852
          ],
          "title": {
           "text": "Y"
          }
         },
         "zaxis": {
          "range": [
           -1345.092519912852,
           1345.092519912852
          ],
          "title": {
           "text": "Z"
          }
         }
        },
        "template": {
         "data": {
          "bar": [
           {
            "error_x": {
             "color": "#2a3f5f"
            },
            "error_y": {
             "color": "#2a3f5f"
            },
            "marker": {
             "line": {
              "color": "#E5ECF6",
              "width": 0.5
             },
             "pattern": {
              "fillmode": "overlay",
              "size": 10,
              "solidity": 0.2
             }
            },
            "type": "bar"
           }
          ],
          "barpolar": [
           {
            "marker": {
             "line": {
              "color": "#E5ECF6",
              "width": 0.5
             },
             "pattern": {
              "fillmode": "overlay",
              "size": 10,
              "solidity": 0.2
             }
            },
            "type": "barpolar"
           }
          ],
          "carpet": [
           {
            "aaxis": {
             "endlinecolor": "#2a3f5f",
             "gridcolor": "white",
             "linecolor": "white",
             "minorgridcolor": "white",
             "startlinecolor": "#2a3f5f"
            },
            "baxis": {
             "endlinecolor": "#2a3f5f",
             "gridcolor": "white",
             "linecolor": "white",
             "minorgridcolor": "white",
             "startlinecolor": "#2a3f5f"
            },
            "type": "carpet"
           }
          ],
          "choropleth": [
           {
            "colorbar": {
             "outlinewidth": 0,
             "ticks": ""
            },
            "type": "choropleth"
           }
          ],
          "contour": [
           {
            "colorbar": {
             "outlinewidth": 0,
             "ticks": ""
            },
            "colorscale": [
             [
              0,
              "#0d0887"
             ],
             [
              0.1111111111111111,
              "#46039f"
             ],
             [
              0.2222222222222222,
              "#7201a8"
             ],
             [
              0.3333333333333333,
              "#9c179e"
             ],
             [
              0.4444444444444444,
              "#bd3786"
             ],
             [
              0.5555555555555556,
              "#d8576b"
             ],
             [
              0.6666666666666666,
              "#ed7953"
             ],
             [
              0.7777777777777778,
              "#fb9f3a"
             ],
             [
              0.8888888888888888,
              "#fdca26"
             ],
             [
              1,
              "#f0f921"
             ]
            ],
            "type": "contour"
           }
          ],
          "contourcarpet": [
           {
            "colorbar": {
             "outlinewidth": 0,
             "ticks": ""
            },
            "type": "contourcarpet"
           }
          ],
          "heatmap": [
           {
            "colorbar": {
             "outlinewidth": 0,
             "ticks": ""
            },
            "colorscale": [
             [
              0,
              "#0d0887"
             ],
             [
              0.1111111111111111,
              "#46039f"
             ],
             [
              0.2222222222222222,
              "#7201a8"
             ],
             [
              0.3333333333333333,
              "#9c179e"
             ],
             [
              0.4444444444444444,
              "#bd3786"
             ],
             [
              0.5555555555555556,
              "#d8576b"
             ],
             [
              0.6666666666666666,
              "#ed7953"
             ],
             [
              0.7777777777777778,
              "#fb9f3a"
             ],
             [
              0.8888888888888888,
              "#fdca26"
             ],
             [
              1,
              "#f0f921"
             ]
            ],
            "type": "heatmap"
           }
          ],
          "histogram": [
           {
            "marker": {
             "pattern": {
              "fillmode": "overlay",
              "size": 10,
              "solidity": 0.2
             }
            },
            "type": "histogram"
           }
          ],
          "histogram2d": [
           {
            "colorbar": {
             "outlinewidth": 0,
             "ticks": ""
            },
            "colorscale": [
             [
              0,
              "#0d0887"
             ],
             [
              0.1111111111111111,
              "#46039f"
             ],
             [
              0.2222222222222222,
              "#7201a8"
             ],
             [
              0.3333333333333333,
              "#9c179e"
             ],
             [
              0.4444444444444444,
              "#bd3786"
             ],
             [
              0.5555555555555556,
              "#d8576b"
             ],
             [
              0.6666666666666666,
              "#ed7953"
             ],
             [
              0.7777777777777778,
              "#fb9f3a"
             ],
             [
              0.8888888888888888,
              "#fdca26"
             ],
             [
              1,
              "#f0f921"
             ]
            ],
            "type": "histogram2d"
           }
          ],
          "histogram2dcontour": [
           {
            "colorbar": {
             "outlinewidth": 0,
             "ticks": ""
            },
            "colorscale": [
             [
              0,
              "#0d0887"
             ],
             [
              0.1111111111111111,
              "#46039f"
             ],
             [
              0.2222222222222222,
              "#7201a8"
             ],
             [
              0.3333333333333333,
              "#9c179e"
             ],
             [
              0.4444444444444444,
              "#bd3786"
             ],
             [
              0.5555555555555556,
              "#d8576b"
             ],
             [
              0.6666666666666666,
              "#ed7953"
             ],
             [
              0.7777777777777778,
              "#fb9f3a"
             ],
             [
              0.8888888888888888,
              "#fdca26"
             ],
             [
              1,
              "#f0f921"
             ]
            ],
            "type": "histogram2dcontour"
           }
          ],
          "mesh3d": [
           {
            "colorbar": {
             "outlinewidth": 0,
             "ticks": ""
            },
            "type": "mesh3d"
           }
          ],
          "parcoords": [
           {
            "line": {
             "colorbar": {
              "outlinewidth": 0,
              "ticks": ""
             }
            },
            "type": "parcoords"
           }
          ],
          "pie": [
           {
            "automargin": true,
            "type": "pie"
           }
          ],
          "scatter": [
           {
            "fillpattern": {
             "fillmode": "overlay",
             "size": 10,
             "solidity": 0.2
            },
            "type": "scatter"
           }
          ],
          "scatter3d": [
           {
            "line": {
             "colorbar": {
              "outlinewidth": 0,
              "ticks": ""
             }
            },
            "marker": {
             "colorbar": {
              "outlinewidth": 0,
              "ticks": ""
             }
            },
            "type": "scatter3d"
           }
          ],
          "scattercarpet": [
           {
            "marker": {
             "colorbar": {
              "outlinewidth": 0,
              "ticks": ""
             }
            },
            "type": "scattercarpet"
           }
          ],
          "scattergeo": [
           {
            "marker": {
             "colorbar": {
              "outlinewidth": 0,
              "ticks": ""
             }
            },
            "type": "scattergeo"
           }
          ],
          "scattergl": [
           {
            "marker": {
             "colorbar": {
              "outlinewidth": 0,
              "ticks": ""
             }
            },
            "type": "scattergl"
           }
          ],
          "scattermap": [
           {
            "marker": {
             "colorbar": {
              "outlinewidth": 0,
              "ticks": ""
             }
            },
            "type": "scattermap"
           }
          ],
          "scattermapbox": [
           {
            "marker": {
             "colorbar": {
              "outlinewidth": 0,
              "ticks": ""
             }
            },
            "type": "scattermapbox"
           }
          ],
          "scatterpolar": [
           {
            "marker": {
             "colorbar": {
              "outlinewidth": 0,
              "ticks": ""
             }
            },
            "type": "scatterpolar"
           }
          ],
          "scatterpolargl": [
           {
            "marker": {
             "colorbar": {
              "outlinewidth": 0,
              "ticks": ""
             }
            },
            "type": "scatterpolargl"
           }
          ],
          "scatterternary": [
           {
            "marker": {
             "colorbar": {
              "outlinewidth": 0,
              "ticks": ""
             }
            },
            "type": "scatterternary"
           }
          ],
          "surface": [
           {
            "colorbar": {
             "outlinewidth": 0,
             "ticks": ""
            },
            "colorscale": [
             [
              0,
              "#0d0887"
             ],
             [
              0.1111111111111111,
              "#46039f"
             ],
             [
              0.2222222222222222,
              "#7201a8"
             ],
             [
              0.3333333333333333,
              "#9c179e"
             ],
             [
              0.4444444444444444,
              "#bd3786"
             ],
             [
              0.5555555555555556,
              "#d8576b"
             ],
             [
              0.6666666666666666,
              "#ed7953"
             ],
             [
              0.7777777777777778,
              "#fb9f3a"
             ],
             [
              0.8888888888888888,
              "#fdca26"
             ],
             [
              1,
              "#f0f921"
             ]
            ],
            "type": "surface"
           }
          ],
          "table": [
           {
            "cells": {
             "fill": {
              "color": "#EBF0F8"
             },
             "line": {
              "color": "white"
             }
            },
            "header": {
             "fill": {
              "color": "#C8D4E3"
             },
             "line": {
              "color": "white"
             }
            },
            "type": "table"
           }
          ]
         },
         "layout": {
          "annotationdefaults": {
           "arrowcolor": "#2a3f5f",
           "arrowhead": 0,
           "arrowwidth": 1
          },
          "autotypenumbers": "strict",
          "coloraxis": {
           "colorbar": {
            "outlinewidth": 0,
            "ticks": ""
           }
          },
          "colorscale": {
           "diverging": [
            [
             0,
             "#8e0152"
            ],
            [
             0.1,
             "#c51b7d"
            ],
            [
             0.2,
             "#de77ae"
            ],
            [
             0.3,
             "#f1b6da"
            ],
            [
             0.4,
             "#fde0ef"
            ],
            [
             0.5,
             "#f7f7f7"
            ],
            [
             0.6,
             "#e6f5d0"
            ],
            [
             0.7,
             "#b8e186"
            ],
            [
             0.8,
             "#7fbc41"
            ],
            [
             0.9,
             "#4d9221"
            ],
            [
             1,
             "#276419"
            ]
           ],
           "sequential": [
            [
             0,
             "#0d0887"
            ],
            [
             0.1111111111111111,
             "#46039f"
            ],
            [
             0.2222222222222222,
             "#7201a8"
            ],
            [
             0.3333333333333333,
             "#9c179e"
            ],
            [
             0.4444444444444444,
             "#bd3786"
            ],
            [
             0.5555555555555556,
             "#d8576b"
            ],
            [
             0.6666666666666666,
             "#ed7953"
            ],
            [
             0.7777777777777778,
             "#fb9f3a"
            ],
            [
             0.8888888888888888,
             "#fdca26"
            ],
            [
             1,
             "#f0f921"
            ]
           ],
           "sequentialminus": [
            [
             0,
             "#0d0887"
            ],
            [
             0.1111111111111111,
             "#46039f"
            ],
            [
             0.2222222222222222,
             "#7201a8"
            ],
            [
             0.3333333333333333,
             "#9c179e"
            ],
            [
             0.4444444444444444,
             "#bd3786"
            ],
            [
             0.5555555555555556,
             "#d8576b"
            ],
            [
             0.6666666666666666,
             "#ed7953"
            ],
            [
             0.7777777777777778,
             "#fb9f3a"
            ],
            [
             0.8888888888888888,
             "#fdca26"
            ],
            [
             1,
             "#f0f921"
            ]
           ]
          },
          "colorway": [
           "#636efa",
           "#EF553B",
           "#00cc96",
           "#ab63fa",
           "#FFA15A",
           "#19d3f3",
           "#FF6692",
           "#B6E880",
           "#FF97FF",
           "#FECB52"
          ],
          "font": {
           "color": "#2a3f5f"
          },
          "geo": {
           "bgcolor": "white",
           "lakecolor": "white",
           "landcolor": "#E5ECF6",
           "showlakes": true,
           "showland": true,
           "subunitcolor": "white"
          },
          "hoverlabel": {
           "align": "left"
          },
          "hovermode": "closest",
          "mapbox": {
           "style": "light"
          },
          "paper_bgcolor": "white",
          "plot_bgcolor": "#E5ECF6",
          "polar": {
           "angularaxis": {
            "gridcolor": "white",
            "linecolor": "white",
            "ticks": ""
           },
           "bgcolor": "#E5ECF6",
           "radialaxis": {
            "gridcolor": "white",
            "linecolor": "white",
            "ticks": ""
           }
          },
          "scene": {
           "xaxis": {
            "backgroundcolor": "#E5ECF6",
            "gridcolor": "white",
            "gridwidth": 2,
            "linecolor": "white",
            "showbackground": true,
            "ticks": "",
            "zerolinecolor": "white"
           },
           "yaxis": {
            "backgroundcolor": "#E5ECF6",
            "gridcolor": "white",
            "gridwidth": 2,
            "linecolor": "white",
            "showbackground": true,
            "ticks": "",
            "zerolinecolor": "white"
           },
           "zaxis": {
            "backgroundcolor": "#E5ECF6",
            "gridcolor": "white",
            "gridwidth": 2,
            "linecolor": "white",
            "showbackground": true,
            "ticks": "",
            "zerolinecolor": "white"
           }
          },
          "shapedefaults": {
           "line": {
            "color": "#2a3f5f"
           }
          },
          "ternary": {
           "aaxis": {
            "gridcolor": "white",
            "linecolor": "white",
            "ticks": ""
           },
           "baxis": {
            "gridcolor": "white",
            "linecolor": "white",
            "ticks": ""
           },
           "bgcolor": "#E5ECF6",
           "caxis": {
            "gridcolor": "white",
            "linecolor": "white",
            "ticks": ""
           }
          },
          "title": {
           "x": 0.05
          },
          "xaxis": {
           "automargin": true,
           "gridcolor": "white",
           "linecolor": "white",
           "ticks": "",
           "title": {
            "standoff": 15
           },
           "zerolinecolor": "white",
           "zerolinewidth": 2
          },
          "yaxis": {
           "automargin": true,
           "gridcolor": "white",
           "linecolor": "white",
           "ticks": "",
           "title": {
            "standoff": 15
           },
           "zerolinecolor": "white",
           "zerolinewidth": 2
          }
         }
        },
        "title": {
         "text": "Moon Surface Model with Log-Scaled Highlights"
        }
       }
      },
      "text/html": [
       "<div>            <script src=\"https://cdnjs.cloudflare.com/ajax/libs/mathjax/2.7.5/MathJax.js?config=TeX-AMS-MML_SVG\"></script><script type=\"text/javascript\">if (window.MathJax && window.MathJax.Hub && window.MathJax.Hub.Config) {window.MathJax.Hub.Config({SVG: {font: \"STIX-Web\"}});}</script>                <script type=\"text/javascript\">window.PlotlyConfig = {MathJaxConfig: 'local'};</script>\n",
       "        <script charset=\"utf-8\" src=\"https://cdn.plot.ly/plotly-3.0.0.min.js\"></script>                <div id=\"d22a0371-0941-449e-8f19-83707cc8aab9\" class=\"plotly-graph-div\" style=\"height:525px; width:100%;\"></div>            <script type=\"text/javascript\">                window.PLOTLYENV=window.PLOTLYENV || {};                                if (document.getElementById(\"d22a0371-0941-449e-8f19-83707cc8aab9\")) {                    Plotly.newPlot(                        \"d22a0371-0941-449e-8f19-83707cc8aab9\",                        [{\"marker\":{\"color\":{\"dtype\":\"f8\",\"bdata\":\"AAD+4ttJwj8AgPMfe6nJPwAAsefaJMc\\u002fAAA6pcJ5mT8AgF33bDqwPwDA+5YvBLW\\u002fAMA96Riyvr8AAESamalzvwAAnHxRAXw\\u002fAIBbtE9jp78AQDhHCEm3vwCAJ1SK3qW\\u002fAIDam+gesj8AgOrJUfepPwCA3xDvXaU\\u002fAADi8O7enT8AQIcBpLS1vwCAd5ggr7K\\u002fAIBYPCG1p78AANgWvl6XvwAATFaoda2\\u002fACB7AOEEwL8AACBSSp6zvwAA3XK3OaM\\u002fAABiuWM8oj8AQIdGXy3HPwBANpA1Eco\\u002fAIBtVeuRxD8AgN0m0kCgPwAAZKLfI64\\u002fAADu\\u002fzCevT8AAFLe0KGLvwAgZX6xhse\\u002fAJCjhkQt1L8A8CYs06jZvwCQuO5zkdm\\u002fAAAg8NdcQb8AAHpPZqagPwAARE0wpHi\\u002fAMCF9vNotr8AAAip0aOlvwAAAh9ev5u\\u002fAIBSyPzyrb8AQLF\\u002f9Q+zvwBAqgF52rK\\u002fAABnGtgEtT8AkALE5M3RPwCQaTnd3dK\\u002fAMC+sQEevb8AgFPQU9mlvwDAaDxO+M2\\u002fAMDSEHUTz78AgPYstUzKPwAA\\u002fJJvnck\\u002fAGDaFH9KyT8AAOCMDGLAPwAAXrIc854\\u002fAAAmalikkb8AgGVbG62+vwBA6KY6BMG\\u002fAAAGh7kFjL8AgDvX9w2tvwCA2ymUk6u\\u002fAAD7aSoatr8AAFjcGBavvwBAmTz9LrA\\u002fAACAzqHqXD8A4PkIHmbevwCwv0nuDOG\\u002fADCj3B2N3r8AgMHcqFHWvwCA1Gk9ib+\\u002fAECYlP5nuT8AwHIz3Y3JPwCALTuun80\\u002fAJCyrJ441j8AANSPjaPYPwBwA5\\u002fvqd8\\u002fAMBUw2knzj8AmN2Xd2viPwAAa6i\\u002fn90\\u002fAMDYNuaAtT8AACnF1JGuPwCgylMiU+E\\u002fAJiKbjeF4D8AkHOlCXXRPwAAS5ELG7s\\u002fAEDZxDB\\u002fxz8AAJvPi8zHPwBAnwyqVrK\\u002fAID2no+szL8AEAe3GiDYvwCArNgS+uK\\u002fAMhgzrkN4r8AIPU+xU7SvwCg5w8cvsM\\u002fAADAySSijb8AgGlgcqq0PwAAGKwBha6\\u002fAGAGKPv5x78AAOm3KTjHvwCAJYbiRay\\u002fAAB35CWkmL8AgJabwdGnvwAgSA42P8M\\u002fAFCaoku30D8AgMNSgcSoPwAA9FwNwb8\\u002fADCmWk6o1z8AEHRHU4zQPwCQki+GheE\\u002fAAC9W9Wm3D8AQNxWS\\u002f60PwAA6BAZ3KU\\u002fAKCdkBxlx78AAIJkXh+HPwCAcDaaeKm\\u002fAKBKkD2T0L8AMOUU5AHVvwBAhBvK5ME\\u002fAADv70+5k78AgCTuST+4PwBAHsKXsbC\\u002fAABuYjEmx78AIKksgEDAvwAA9DLm4Ja\\u002fAABYcMG0lr8AgLo0CcOrvwDg2NbshcU\\u002fACCNy7tpzz8AkBFLMkLgPwDAqNwbLts\\u002fAMAzqNLr1T8A0KPdg2bSPwCA\\u002fw90Csw\\u002fAMCxn1\\u002f7wz8AgCjwsxeyvwBgU3ZtwNW\\u002fAKAXDgg23L8AEDqSUlLhvwDw7Ie6B+G\\u002fAPAllVNX0T8AsFFGK2rQPwBAlbRPJcQ\\u002fAICS3HvOrj8AAK8aK42vvwDgB7Szc8K\\u002fAMAma4KIy78AAPKC0ozMvwAg9rDL0sW\\u002fAAB7eYUKwb8AYFJ2JwXFvwCAOUTE9sa\\u002fAKAIaqzkwb8AgCMD+pXavwDgs2mFcNm\\u002fALB7EgtE3L8AELXX64\\u002fXvwDA7fHvA72\\u002fAIC5RQNhwz8AgEp11GHOPwBAXMPrT9A\\u002fAICu7Ysy2T8AEAzTZK7SPwAA0\\u002fXw4Mk\\u002fAIAI87Kxvz8AwFwPTDa6PwBATlD56rA\\u002fAAAROOiMrb8AAOSZX3SOPwCAatwzDLo\\u002fAEArYrPH078AkLEDX+nhvwAAZ3uNc+G\\u002fAKA9jK+8078AAFziDRa7vwCA2D5szre\\u002fAAB1wYgmvD8AQL5d7r\\u002fDPwDAOf30p7Q\\u002fAKDZNWbH0D8AaNTXd1DgPwC4kLav9eA\\u002fAJA0+8H84D8AIHHs5hjePwBA37mA49g\\u002fAJBKRGdl0z8A4EXSvnfOPwBA\\u002feMSiM8\\u002fAIDplPbduz8AgMnjx4bLvwDALtwsz9q\\u002fAEhcw+bN4b8AeMY0p8vivwCA0KlQHN2\\u002fAAA2unTPlj8AgA7SOme7PwAA4cNKIt0\\u002fAACPJhzA4D8AgBhATjTQPwBAQucH5LA\\u002fAIAAHgq0oj8AAPNJFsG\\u002fvwCAviHuWay\\u002fAACuUbMxk78AAKhDkQdiPwDAWUUmsb6\\u002fAMCBnawBsL8AANhFfSyqPwCAnJLOXLQ\\u002fAKDx\\u002faVGyD8AAP+VBTjFPwCgy323rcQ\\u002fACBvsuo+yT8AAMQvmCe\\u002fPwCAIMFBTKY\\u002fAAC+RhZjmL8AQCtn6ba+vwAAdp\\u002ftZ6W\\u002fAABG1Zgyh78AgBOCVKiovwAAMbl4wbu\\u002fAAC4FQ9IYj8AwPk7hZ+xPwCgXgVl9dm\\u002fAIAb2Um02r8AQOaA9iDbvwBQ6824AdW\\u002fAMCLCeU7tb8AoArsl6vIPwAA5i3o2s0\\u002fAOBRfspIzj8AYBfx1X7YPwCA98tP+M0\\u002fAKD8wm8kzz8AQM9aDeS9PwAAxn+S66M\\u002fAADywJ8OkT8AgOIHq8+oPwCAfdlA6rG\\u002fAABua2Eljb8AACM5onqzPwCAYXw\\u002fQ7M\\u002fAGhZrGg14D8A8GIbTY7gPwCgV2X6OdM\\u002fAECvaGXxtj8AwEz4p3a7PwBAZJXbMLA\\u002fAEC1LrVMtr8AABry+3m0vwCgivKsyc6\\u002fAODyuhug3r8AAPyXJBLhvwCwhLYQZ9S\\u002fAACVjJdPpr8AQAnvHti7vwBAv3wDqr6\\u002fAMD\\u002fei7Atr8AAOCoP9S9vwBAlha9u7q\\u002fAEBU6hqJw78A4ApOEH7GvwAA+IoYj6q\\u002fACBJWnZzwD8AIBJ\\u002fgYDIPwAglv9bf88\\u002fAIALDJ4Ozz8AoPMi\\u002fJrFPwBg2tKBHsg\\u002fAIAQ5pTBpT8AAEx3PamMPwBA2JyzMre\\u002fAEB05LVUvb8AgIhVgrGiPwBAmnMMirK\\u002fAACHI1D5q78AgNTVBWmivwDA9Ji\\u002fUsE\\u002fAIATsI3gtz8AYC6k9GTCPwBQI3jinNE\\u002fAADVnVhtnz8AgDxm+zWlvwCAqy5M0aC\\u002fAAAj3Q0oqr8AQASmKEPKvwCglujVRMK\\u002fAACwg6YzWL8AAH\\u002fRmZizPwAA5GVb24e\\u002fAAAJ64+zxD8AEGO3U0raPwAA2\\u002fSp\\u002fs8\\u002fACClTNxWzz8AILiLMy7FPwBAdToiTre\\u002fAEDo\\u002fzyo1r8AwC3y5kDcvwCA3JZGxNm\\u002fALDxuRA72r8AALyySH+BPwAAqPlIw4Q\\u002fAIA\\u002fM6+rs78AgOhVUnmgPwCAt604sqg\\u002fAACAiO11c78AgPywrOGxPwBgdr7wsMM\\u002fAADpugFX1D8A0FdWuRXcvwBA39HJINy\\u002fAAB0vqfe2L8A0AC\\u002f4lbdvwDQvxvrpdO\\u002fAABhAgpkoL8AgCgvRynLPwAAOrPSndA\\u002fAACCMEfc0D8AwLCty7TZPwBAyzlDN9I\\u002fAAD8zpNi0j8AECrKwSzVPwDgv5Fp5s0\\u002fAIDd98ZApT8AAFHu2rKYvwBA7VTm4bw\\u002fAIBa27Ezyr8A0AfGWUzWvwBgi\\u002fSnhNy\\u002fAAC+7+JF2L8AAJ0BYiLJvwBAvvJe3r2\\u002fAEBLvkqMtL8AAJCSXThvPwAADOMU\\u002f44\\u002fAEAGArIsuD8AMELiTvfSPwDAyEgexN4\\u002fAGB17eA+3j8AYPxcT9nZvwDgTyOOqMy\\u002fAMB7OjSPxD8AQLspFLO+PwAAkD2yDrQ\\u002fAACIJzMIaz8AgN0VANbEvwBAfRrmFsu\\u002fAICp8Tmuur8AgHnOWsqsvwAAWQFQdaa\\u002fAECb1XYEtj8AgKvfb2jRPwAA6jtzDrk\\u002fAAD8dYFBxD8AwOLvvw3APwAAOkN8\\u002fqC\\u002fAACRU6YIs78AAMithxitvwCAmpkOy7G\\u002fAMAYGm3rvr8AgIkfwV+qvwAA8MythVm\\u002fAKCd9kc+wz8AwNNs9xvJPwCgrpxTLsU\\u002fAGjC6dz84D8A0OJaepTdPwAw1TzqNNQ\\u002fACDx9zZczD8AsENVzybRPwDwNqe6aNA\\u002fAADH0auLuL8AwKc\\u002fTEbWvwDgzSU3\\u002fOC\\u002fAHDPVcRr478AAIw275PhvwAAel8\\u002foqQ\\u002fAIBIGakruz8AIBsS99TfPwBAKhWB8uA\\u002fAHDEvw8B0T8AQPxyZcXZvwAQ4SKvd9q\\u002fAPB7HOsG1r8AgO4eqPjGvwDAINKEHMI\\u002fACD2Fo4ZyT8AwGP4z57GPwCgSrI3W84\\u002fAMAnOWaR0D8AAOGk3sS3PwAAFtmVa5C\\u002fAIC5ZjY3tb8AAEEAkb6XvwCAYMYYarU\\u002fAEB9eo4Iur8AANjE9pOavwAAqdL15p8\\u002fAIBndErTyj8AAAPXPvvJPwBAM\\u002fSKncI\\u002fAABC6uqNgz8AAOXDfkGuvwCgwwaSycC\\u002fAID2zWLqvb8AgIpzIGKpvwAACoRbGLK\\u002fAEAf+mk2tb8AgEY\\u002fwG6svwCAUucfFaQ\\u002fAKB39B3x2D8AAExofyHQPwAge8DPss4\\u002fAOA9LZ83wj8AAI1a\\u002fTjAvwDw5SqZ99e\\u002fAHBh09VM3L8AIEQZNirZvwDwL5080tq\\u002fAEDoqCqRtr8AQHdecVHDvwCAZLfz88C\\u002fAMCaDeUKur8AIDUrgcbCvwBAzYnFLcK\\u002fAODRxb7Pxr8AQI119fLGvwAAQtr4XZ2\\u002fAMAZZC+evz8AIJms36TKPwBwx\\u002fB\\u002fu9A\\u002fANADrkOq0D8AED3n5c3iPwDQ+3U4huE\\u002fANAR8fLo2z8AgJjEXcjLPwDAd5hIVcQ\\u002fAEBwotesyz8AAOJg8Ei1PwCg82ivycS\\u002fAFBcX4m10r8AGDhglUHgvwAIzLTeAuS\\u002fAGCUzTwU3b8AYAn0cnLGPwCAMroCcdM\\u002fAAAgXUjYhD8AwINyz\\u002fezvwAAVgoIjo2\\u002fAACPxoQ\\u002fnL8AwG66K\\u002fa8vwAAHNQoary\\u002fAAB4zAB0bj8AAJCPRxCpPwAA2W7PUJc\\u002fAOCF3BEM2L8A4JS4NCTJvwCA7rZ+Gc2\\u002fAACUJKnxxT8AACnbZv+xPwAAtxQ5VrI\\u002fAABinfo8ob8AYJNTiJrHvwCAgt\\u002fEP8q\\u002fAIBP\\u002f8kJub8AgKf2qgmqvwCAdcm4OKm\\u002fAOBqCxWWwz8A8L2B7C\\u002fQPwDQyLvyh9i\\u002fAAAUM1A95L8A+DaCKmHkvwCQBbbgU9u\\u002fAPDR7qpX0r8AABS0vztzvwDAsW02stg\\u002fAEBmieAhzD8A4HcegpXLPwBw4yDjttU\\u002fAKBb58\\u002f64D8AqDCvU0LiPwDA\\u002f42ca8c\\u002fAMDfppQ30j8AwJR2ay3IPwDQhIIF1+E\\u002fAMiLtrrB4D8AIHIgBY7RPwAgDuwfmsU\\u002fAAAXSsTozj8AYFPFGITPPwCA9KXoRbu\\u002fACDWKiUs078A4El2ejjdvwBIAAkp\\u002fuO\\u002fADCe+k2Z4b8A0EjrPHLQvwAAIhz5hrQ\\u002fANA03ao60z8A0K+q7J7RPwAA+rRg4cI\\u002fAAAuKJKWqj8AoDf3d7fOPwDA6eO8a74\\u002fAIBKla4+pr8AQB1IrxmxvwDAQ1hI5L6\\u002fAOAZgKftxb8AoL3cNNTDvwAAIPEFIWY\\u002fAIAciohssD8AgA9n\\u002fMTKPwDgdnvMdsM\\u002fAKCeZaRQyb8AAKDaCtmfPwDASPiAtbq\\u002fAEBATn9L078AQFzjS6i+PwAAUNohe1O\\u002fAICh96ShtT8AwMUHSpi0vwBAQqPZIcm\\u002fAABT8kchw78AgADdiy6kvwAA\\u002fpyScIq\\u002fAMCx85MBsL8AgBxyvQLJPwCg\\u002fjAqK9A\\u002fAMDPAWkS3b8AoMWnt3PdvwBQ0f\\u002f6iNm\\u002fAOAEuIGF3b8AcLI6DJLQvwAAUNUXZ5Y\\u002fAABgJ9jlzT8AwHtUvZ3SPwCgm2ON6dE\\u002fALDjywia2T8AUIOg\\u002frLUPwAwibBbkNM\\u002fAPAbAbb22T8AcHNIeh7VPwCAXu9Ur7Y\\u002fAADuj3mJjr8AQFxK1X+1PwBYpSj8duI\\u002fAHA0h8AU4D8A8DyPlObbPwBAJgnts88\\u002fAKDvdY8EzD8AUC2FmTvWPwDAtjN5s7w\\u002fAODfB+oCz78AoGDr0c\\u002fZvwAg4JY8S+O\\u002fAJDeYcKA5L8AACUovvrcvwCAlFBxtaY\\u002fAOCTYAR4yD8A0FuweLrfPwCQvGcS2Ng\\u002fAEBmLguX1T8AAFjRpmycvwCAXP08drq\\u002fAICk3tDCvb8AgFf+2UK2vwCAT3sXS7y\\u002fAEDwRCaEvL8A4LxOfWHDvwAAImWNmMW\\u002fAIBkKbdGp78AgGCkHRHBPwDA1ycrtMk\\u002fAOA1Gvybzz8AAJ3M7N7PPwDg69Z2SsS\\u002fAIDu+qi6qD8AAEhteJquvwCA89iLvdG\\u002fAICv2GKpuT8AADy3hct9PwCAUxyTebI\\u002fAMBfAbgUtr8AIGRGkd\\u002fJvwAgo\\u002fwhmMC\\u002fAAAjwJf+nr8AABc3qXuUvwCAPYL9jKm\\u002fAGBMEf\\u002fByz8AoG4SM2HOPwAAjasCzNq\\u002fAAAqsHeo2b8AoHjy1I3bvwCA7CT3xNa\\u002fAOC35jAxwL8AwJSGV8u8PwDgdEV929A\\u002fAODAqXuuzj8AsL6GQ9XXPwDAh3OkCNI\\u002fAKAzyWfGzj8AwGg6MMbAPwCATvMEmas\\u002fAADhwq2woz8AAHy4mw+gPwAARJnvzba\\u002fAADQk7J7Yj8AAPOchyutPwCo5MBO1eA\\u002fADCl9pg+2T8AgMXzArrEPwAAsvCsJYY\\u002fAACFZnGqkT8AAFgv+a+bvwAgi002F8C\\u002fAKBamSwpwr8AUNreT+zSvwAgUKFlJ9y\\u002fAHCUViRz2b8AQIc9dnXQvwDgXM+wRcO\\u002fAADQoFDix78AgBYrkDzDvwBAa8ZO4L6\\u002fAKAszDhyyb8AYIWvLrzMvwBglARk3sm\\u002fAIAI9hhMvb8AADYNRuKUvwDAe8WOJ7g\\u002fAMAGfAKWyD8A8JttWeXQPwDgyeVCI9I\\u002fAIBmJaO3pr8AAFi2EwybPwBAO+czkbG\\u002fAAAibMuVlb8AAIQRtTSbPwAAwRJUU7S\\u002fAADybRCWt78AAFQPit53PwCgGOnBNc0\\u002fAEDxiD02yD8A8HJ+z2javwBQ1xXksNm\\u002fAEDAxIEW3L8AAJa6i9bWvwAA2v4aMLu\\u002fAKAdufQfwz8AoAnXadDPPwCgMPxpss8\\u002fAPDJRWKK2T8AAOk76WGXvwDAiAaCArO\\u002fAIAm8V4kvr8AgNrDVD+3vwBA6TrvZry\\u002fAEDcbif+tr8A4L8AFCjDvwBgcftAL8m\\u002fAMAbr+YDsL8AgPsFeTG4PwCA9YwtVMc\\u002fAOBMg2xe0D8AIHRuevfNPwCABhwZAqc\\u002fAAAvgidjxj8A4B9JXwbgPwBAQR7n29s\\u002fAND58gR30j8AQHbjtHXPPwAIxqAzBuI\\u002fACArIsEc3D8AwLwRzkq0PwAAa0zcyKs\\u002fAFAdVFnF0j8AoOCe68bKPwAAMKbaN8w\\u002fAIAAZxDpwT8AYHsC77vHvwCQsht8+da\\u002fANAwDior278AwEnTFLvZvwAwpO4n5Ni\\u002fAADh1x6Dor8AgP5t23+hPwCAS5DVHa2\\u002fAIAjKTxCqL8AAAasMgmMPwBAh5CvhLK\\u002fAEBgSRXAt78AAOh7XCmdvwAghC\\u002f4Qck\\u002fACCBT9Qqyz8AoEH\\u002fPizIvwAAUSAhGL+\\u002fAOCfzb7x078AoNLtyXTGPwAA9Wuq1dI\\u002fAAC0Qij2fb8AgFHrYWqrvwAAPbPbz5q\\u002fAICgGpodsb8AYIP9Q4PHvwBAyBLdGb+\\u002fAAD8\\u002fBcqlz8AAM86hGurPwAA\\u002fA46+Js\\u002fAMCu7pJ8xD8AwIflOw3gPwDgujvxY98\\u002fAIB3KwyB0T8AADVvBWOxPwAArwQQ\\u002fLI\\u002fAIDytwRroz8AQJ45j5G7vwBARBd09Le\\u002fABC4VDHy0L8AEP+pOUHfvwAAx8QA\\u002fd+\\u002fAJDlOn4l0b8AkHo\\u002ff2jcvwAgrEcOiNq\\u002fAEAaMEkK2r8A8DjLlYbdvwCAG2dAnNC\\u002fAADwEa6BUb8AIA2SpOfNPwBATMSDy8w\\u002fAHCKMxhR0T8AEFm617jbPwDA\\u002f73ev9Q\\u002fALAPPj3Y0D8AgL76NnLRPwAgqDl8ycw\\u002fAMBKa2fAsz8AgET01DKmvwCAVPs7P60\\u002fADg9vB244T8AoLRaJF\\u002ffPwBA9dmyVs0\\u002fAMCYyuDOvD8A4Baa3uDEPwDAvRZIJ7g\\u002fAIAATs3nwL8AYBd7QyjLvwCwDcqWLtu\\u002fAMhqMZlL478AIPyUr8rfvwDALTr9pMm\\u002fAIBlc1Oxvz8AoFq7oDDBPwCAAqjG97Y\\u002fAIC3whCcwz8AgFHgef6kPwAAE8OswKS\\u002fAMBDoMsWtL8AAH+ppDyYvwAAHGiOGo+\\u002fAMATXzeGvb8AQERyWYyyvwAAgC4lMzU\\u002fAAB7m4FNkz8A4LtUb7nIPwDgZN\\u002fYpMg\\u002fACAaukLxwj8AoBIiLV7RPwAg2ECSr9A\\u002fAKAlZcsPyD8AgMFMmuq3PwAAQIgUd0q\\u002fAECq8J09tL8AAI9dOUfEvwBgbs3lKM6\\u002fAKA8KNdJ0L8AQF2XOuXJvwCAI+Cwl8K\\u002fAIATwhrYxr8AwHf4DCTMvwBAYSl4gMi\\u002fACBvVrmizT8AoG1fZcvOPwAArb9OcJO\\u002fAABiqBnGq78AAEJLCyeavwAAp1NxTKK\\u002fAOA68wMaxb8AQGOCkZTFvwAAljtFibC\\u002fAEB\\u002fpr59tT8AAPLn\\u002fjSLPwCAaA91n7E\\u002fAMBPkQWbxD8AAAwyivnGPwDgVbAirsk\\u002fAEAAujkRvz8AAPEUzceZPwAA3IWUnpy\\u002fACDXnpfcwL8AgKUgzEXBvwAAA\\u002fNtUq2\\u002fAMA0VA5utr8AgDuMcpOqvwAA5h0ILJq\\u002fAOAEao4Ayj8AADap88DEPwDQlYJBNNm\\u002fAOD6eW+a2b8AEOGhvGXVvwCAfMwwAMy\\u002fAIDEWNoToL8AIDL7sRrEPwDAB98K67Y\\u002fAECKVYUtsD8AwEo41z3JPwCACx4HQ8o\\u002fAIClFxSEpT8AAEW8cUWZvwAAUgXdbrS\\u002fAABowp01YL8AwAvhVvi3PwBA5fqYtbq\\u002fAACipJT3pr8AgDg538CoPwCAJmU18K+\\u002fAIBVbVUxrD8AQOHrqKO0PwDAxMGpFsI\\u002fAADYYG9Nob8AAA\\u002fGfzfLvwBAlzWfFNW\\u002fACAFajYH2r8AAF2xaaqWPwAAahJ9KZU\\u002fAACiIGnugD8AQEZsQFayvwBAhVCwrLK\\u002fAAA8WCYPm78AgD7JDYqrvwAAQEkuFKq\\u002fAAA7wwq6uL8AAMtyegKgPwDAzQHtPtM\\u002fAEByBmysxT8AsMMG5K\\u002fePwAwIKZlntA\\u002fANCrbx6J3z8AEG4qz2bePwAgDaV319A\\u002fAABPFDrxrD8AAOHSB3urPwCAfKYuYt4\\u002fAHB3Ciia1D8AwOMzR5DPPwBQqB2tP9M\\u002fAOD5vSjexz8AACm7S0yXvwAQQTMZUdK\\u002fAHCMkGeL3b8AcPzHeSLavwAQ+j9ibtq\\u002fAHCuVkAM3b8AAL1QWLSxPwAAoNvvMnm\\u002fAIAzZqd3tD8AgB9vpFzUPwBwOknESNo\\u002fAADq8FUE1T8AwBCGXHPSPwBA9HhQr9m\\u002fAGhsFmCg478AqPM\\u002fKrzivwAgcODoFti\\u002fAIA63tIR0L8AABx7iq+6vwAgPHeXxsA\\u002fAAD2xapCzD8AAAYWe4rFPwDgEwxNLMk\\u002fAICaKOiL1z8AgNwqoRbhPwCglqaSMOI\\u002fAAjG7KdK4D8AcBUNWHHgPwCgQMG2b9U\\u002fAMB7FSXsvz8AwJSx0+iyPwAAHpjFFLU\\u002fAAB0mPYLgT8AgEBRvyu5vwBAFKHKO7q\\u002fAIDrUKjo0L8AcNRxXnrfvwD4Nftjb+K\\u002fAPB1OuNR2L8AIBbqiunDvwBArcCPdM6\\u002fAKC+UWv4z78AAImevtrMvwAg+wm4qsu\\u002fAACK0uWXzL8AIIrxjnHLvwDgg09j4ce\\u002fAADzeT2ttb8AADjWH9WdvwAAiCaBt28\\u002fAIDAE03yuT8AwDlJYb\\u002fJPwBA9gxvW9I\\u002fAJBrRz5J1z8AQCBdSULEPwCAonHPscY\\u002fAGD\\u002fZBuUyD8AwJQMLHq5PwCAfO0zb6c\\u002fAABGbE9Igr8AgIqnPLi+vwBA41isS7y\\u002fAADo+yIbaj8AAK3JbZuovwBALodhNrC\\u002fAAAWuGDpur8AAABGq7BjPwAAwQW42bE\\u002fAADihNizsj8AgFsB9xC1PwCAZTxR5am\\u002fAACudyZKr78AgNQb6cSqvwAAKiQ3Po8\\u002fAABsmrZ2nL8AgNlFC7i+vwAAfnb7t6u\\u002fAABtM+eNqj8AgP\\u002foiI+oPwCgNOR5gMc\\u002fAOAMwMCuyD8AIDI+s1XBPwDgAITJbtW\\u002fAGBZJRzSzb8A4Ckqc1TBvwAAhhvQPs6\\u002fAACzBvoTwj8AAN9fMoOcvwBAhG4kA7c\\u002fAABQUrAoc78AwJ3pX72\\u002fvwAAeRiMUcW\\u002fAIB65I0zuL8AAHqDWRCZvwAAgShYF5a\\u002fAID7mBgJsb8AoInuAAvAPwBwsA1s39E\\u002fAEAgG5BSvz8AgEW4rQDDPwBQxlCWQNA\\u002fAABKgKL1oz8AgFpQRculvwDAiipAwrO\\u002fAIC8BHU1vb8AgPYgTpTAvwBg95ZYosC\\u002fAIANyMh3rL8AAJ64UCWHPwDAPGe347E\\u002fAKCvKjE7yj8AwKF0mVHHPwBgvPeRUMY\\u002fAMC7ToH1wD8AwON6pii2PwBAaEWZxL4\\u002fAAA9pIatuj8AgLon23W5vwCgjkSFDNK\\u002fAMDn6UnN178AYOp\\u002ffozavwDwJCcVp9A\\u002fAMAHyM8uxz8AAKodK6yqvwAAkH+UJoq\\u002fAIBzC70YqL8AQMi76+K1vwCAVdsLWNC\\u002fAGDDoJTIw78AADE\\u002frOaWvwAAMPu9D7U\\u002fAAAaO4Khir8A4NGEXCHDPwDg2VqMyMQ\\u002fADC5azPN2z8AgLvgiurQPwBAq2K+DM4\\u002fAADZi62uzz8AQAHgvLuzPwBA5yM2xcm\\u002fAJBOxktS2r8AMJicxqfcvwDgKURKKNm\\u002fACCY1u8p2r8AoKVV\\u002f1rbvwBArRKwUbQ\\u002fAADWuD9lnr8AANxmFEF8PwDgLV8XecE\\u002fAGALGiO+xz8AIA30DDTKPwCgNjP3ss8\\u002fAOAbKsme0z8AwGtU8xC2vwDgYUTKd8S\\u002fAPAsoih21L8AgHgVsavKPwCQ7Cw3NNA\\u002fAAA4DYHdeL8AgEZzhJ24vwAA\\u002fObGDnk\\u002fAABKuUbxoL8AgBPqAzezvwAA2vjCXLu\\u002fAACAooBAq78AAIygFm2JPwAAoyh7oJU\\u002fAIDC1Xm+oj8A+CssQRHhPwDg2XH\\u002fw9w\\u002fACCcNsKs2j8A0POQguvRPwBgNzzA080\\u002fAMDG60yh0D8AoAKPPZPFPwDA4Q8\\u002fqLa\\u002fAECdwnlS1r8AcE6HhNzevwDYnbDT5uG\\u002fAKBIeoSx4b8AMPPtb3\\u002fbvwCgoD4mftm\\u002fAOBgUgYZ078AIEbFObfHvwAAZAD6Joq\\u002fAACT5SldsD8AgIwZUjO0vwCAoWxjp7q\\u002fAGBsEPoJyD8AUFkBY43SPwAAHNkM24G\\u002fAAAigSiSvL8AgD2lIOSkvwCATe6bNqy\\u002fAADV\\u002fmkcnL8AQC+x\\u002fvO6vwCAmFvsQK6\\u002fAACQ3yCglD8AAICGyqB4PwAAY7ROOKA\\u002fACg1\\u002fn9d4j8A+ESViGThPwBgfdqsMNo\\u002fAAAJwKWczj8AQIH2W1XHPwAQoo2T99A\\u002fAMBdWJQlzz8AAOcpMbm1vwDAnI2p89G\\u002fAFB8IVrq2L8AOLA2cb\\u002fjvwBgJerhQOW\\u002fACBHCa7y3b8AENKDZS3TvwDACkMelsa\\u002fAADxGgKkkb8AABecSsahvwAgY7l1lci\\u002fAAAZ\\u002f8iIzD8A4NOS\\u002fmTLPwAAkW0+lpy\\u002fAEC\\u002fRxoTt78AAAr22iaHvwAAsMBbiqq\\u002fAAA2b4vuqr8AgP4EZoi6vwAAzKf646C\\u002fAACW11hcmT8AAAQs8HKMvwCAr4yvIaw\\u002fAOhx6Et24D8AwCmr0oTfPwCQtWqGxdM\\u002fAMASALaluz8AQAZ3MNGzPwDAphj6yrE\\u002fAAA6ClViiL8AABof1jG5vwBAlh6J9L6\\u002fANDTx68A0r8A4IPEzgDgvwCgRPPJGuK\\u002fAKAZYe3X1r8A4GdHW0XCvwCAbxZ6t9m\\u002fAICqO1tT2b8AAP8MiaHTvwAAi3wAEcW\\u002fAADgbfIHdD8AgFcqUV68PwAAHrfw7as\\u002fAACIeN6ZpD8AEKCWesbQPwBAVlKfNr4\\u002fAADY3V0eZ78AwDVEaea4vwAAwcket7C\\u002fAABEugc\\u002fnT8AABSPfy5yPwDAOpIZDLa\\u002fAAAGLZEngL8AAJTNBZKMPwAAGHy99Je\\u002fAMC2UxiSxz8AoHZdQHnKPwCgc1MzXcc\\u002fAICBwNxUqT8AAIDvqG18PwBAbtaqDbe\\u002fACAdYFgzwb8AwMyWm563vwAAPngOk6q\\u002fAMDkWkfVsr8AAN2D7JO0vwBAFqRx9bW\\u002fAABQIlJdkr8AAODlgnuWPwDwO4Cuwdy\\u002fAGAaffpT3r8AAPM3g27cvwBQRd2xztq\\u002fAHBGnzTA3L8A4K22XKzPvwAA8p+OSZE\\u002fAMCKtAFPyD8AwNc7u6fSPwAwuUQ6QNA\\u002fACBROYTJ0z8AAJRVfUTdPwCARULyetm\\u002fANBpRHrW2b8A0OWwj0vWvwBAjrkilc2\\u002fAACwXJdGdr8AYI0SCoLIPwDAf4GCNL4\\u002fAEBAluNvuz8AQAE+K2rKPwCg4A2+t84\\u002fAMCMEsLhtj8AAHyVdUWKPwAAFFackqm\\u002fAADOX0NQoT8AAM07cI6xPwBATa1ivre\\u002fAABwgKycm78AgACefE6tPwDA6Q6BxLW\\u002fAKAuILjvwz8AoCb8fejJPwCAALsqlKk\\u002fAIDD0+szqT8AwFXk2Qm1vwAAo6UeAce\\u002fAEANLNjDxb8AANHGutq7vwCAWX8ecbC\\u002fAADjlNeQpr8AQMNzgE+zPwCgZGxNwNA\\u002fAECjzLHYvj8AkHNSURjevwCg2DDxD+C\\u002fAODTg09H3L8AMLQQQPzavwAwqnrmpdS\\u002fAMBF5doLt78AQNqmWo++PwBgvmfa48w\\u002fAPDhRBmL1D8AwJVGMMjSPwBgwFXOJdg\\u002fACDJKDTt3z8AgPqGXmLLPwDYtnAMmuA\\u002fAICqpIOj3j8AAJPFUg\\u002fBPwAAU6O4xac\\u002fADByxaQk1T8AAJW+OoHNPwCgjb+wxM0\\u002fAMAA7e67yD8AgPHI2wq5vwCgfSumbNS\\u002fACC98Zt+2r8A8GzauvvbvwBQ+UKISti\\u002fAIAqXVojpj8AANihHOR1PwCAvvswsLO\\u002fAADzj1Hylz8AAIPtzwaxPwAA7zMWn5m\\u002fAACyLnmOlD8AgD5DrdG2PwDgZQgjyMo\\u002fAKA5P1N\\u002fzD8AoB\\u002ff2HTQvwCAf4svX9O\\u002fACBY1Yi4178A0FNoWSfXvwAARSbajMy\\u002fAID20IjowL8AYHwUM8HBvwAAUF4kp52\\u002fAAAkgHeBhT8AAGD7IQGLPwBAejCitL8\\u002fAIBGEKiD1D8AAHab2HXfPwBACACg\\u002fd4\\u002fAKDiA8kh4T8AGJMsJrzgPwAwjn+MW9Y\\u002fACBfHUnnxD8A4CD6TFnDPwCgizr9Asg\\u002fAMBNDhmOtD8AADgO4erAvwDAt++HatC\\u002fADBZZ5Jv2r8AaDGZjx\\u002fjvwAQNZk+quK\\u002fAJAPJUdB1r8AQK13ZNG1PwCgFG+pssk\\u002fAACAZRjmyj8AwOX0SSXHPwCASLf9Z6k\\u002fAAAEGSb8jL8AgKtc2eG+vwAAtHg7FsK\\u002fAAA10g1cuL8AgGKyxuqyvwCAxkcrxrW\\u002fAEB37\\u002fP4t78AwEwwZpO7vwAASVg2BKK\\u002fAAAcS6t0ib8AACDRl8LGvwDgpzssLc2\\u002fAKCE55ji2r8A4OteSzDLPwCgZJmBV88\\u002fAABwXOT3Zb8AwGzfNtG0vwAAIrUUgYC\\u002fAAASNFixkb8AADVbEi+6vwCAHwfL9MG\\u002fAIBRI\\u002f7Dqb8AgDFtzhi1PwAA5Fe+6Ha\\u002fAMCfvA3ZtD8AwEy\\u002f013PvwDgIluAMsG\\u002fAAAs45XXqb8A4CJ67dLIvwCAqC8c+7g\\u002fAADV3iXTlb8AQDxDr\\u002f64PwCAPa0JL6S\\u002fAEAt6VmMwr8AQC6BvYC\\u002fvwAAJYHgPaS\\u002fAADKpPpykL8AAOfl4b6svwAAQyhC6Zq\\u002fAIDxaGKsyj8AYHvo+4TPPwCA0Ygyf9S\\u002fAICv6Pc64r8AoImt6+\\u002fkvwCYNkr0wuG\\u002fAIAwsGkZ2L8AoNm\\u002f5LzMvwAAsOKLr7c\\u002fANABJoBw1j8AQH4ZJrvMPwDA3R6xWsw\\u002fAAB2+BfC1D8AEO6MUTfePwDAFoRCtOA\\u002fAGBvotEtwz8AAF79Um6xPwBgOsab5c4\\u002fACDeZ9YZ0T8AoN+mACXJPwDAjZkRvb4\\u002fAAAhPKLykL8AwHceBWnCvwAAH5fw8sm\\u002fAEAHTTswyL8AYPy1b5XEvwBgS+RZg8C\\u002fAKDxx1oPwL8AgISvOSzDvwBggXToeMa\\u002fAODJIdL+wr8A4KMgBanSvwBgIO6DS8G\\u002fAACAuD2FNj8AgHHJiAG9vwCgqDpI08u\\u002fAJBUb7c60T8AADCy+y67PwDAP2ZOXLC\\u002fAACKPWoLqL8AAM41MWqUvwCAe3FMk6+\\u002fAMCOPh7ttr8AgHM33gqzvwAA6PtIv3a\\u002fAACry7x9kz8AAGA\\u002f08KBvwCoYCzv\\u002f+E\\u002fAIhPB6Z04T8AoEW9pUvXPwDgpydbY80\\u002fAKArjAbTyj8AYCKCZj7UPwAgSl0PY8k\\u002fAADmz16qw78AwHeoSbXVvwAQ0tPMgd+\\u002fALDjIM9J5L8AKDC+VKPjvwDAxuH+tti\\u002fAIB4sMTbtz8AwChlNOjQPwAgiiYqa80\\u002fAOCyu615wT8AELzvihDRPwBAs9\\u002f7nMg\\u002fAEDd3lzJxj8AwBwjkQvOPwCAKYDaprS\\u002fACATW+\\u002fd0r8AsCfBSJXYvwCgacQm4dq\\u002fAFBJu9nZ2L8AgLKne\\u002fqlvwAA4f2f\\u002faM\\u002fAIDSX4hrq78AQK5BfGyyvwBAQ17uyLY\\u002fAACnDUpSmr8AQKHZRa60vwCAgXm2PaG\\u002fAICnamWDoT8A4FGfxQvRPwCYVQKsn+C\\u002fAFC1ujyZ4b8AsMU2cbzfvwBQL8MJ+9e\\u002fAECPkXI1yb8AAMAp5liNPwAgy\\u002fLio8U\\u002fAGC1xRxAzD8AcN5tyyfSPwBg4n+ck9U\\u002fAIAgQyLq2D8AIBDaD9LfPwCAOQNPH8Y\\u002fAHBnIcBe1T8AMNhjz7zXPwDAxrLPxrc\\u002fAODXqgjTxD8AoNjkeITKPwBAB82kBLo\\u002fAAAtwQIOnT8AwMGZoDGwvwDg7nYI5MG\\u002fAKBDWaW9wL8AQCG92US9vwBAAD3IFbS\\u002fAICj9q7gpL8AQM3ibkyzPwAg+50sTco\\u002fAMAu06p\\u002fuD8AcIq+Y6XcvwAALGnSPMg\\u002fALCTmhWK0z8AAOT4P5ScPwBAVz+8v7O\\u002fAAACur3NjL8AAGjIkliZvwCAYcuGqsG\\u002fAOBZprZux78AQPai6Ca0vwDABhSUQ7E\\u002fAAAaLWTjmz8AAEN0HLeqPwDg\\u002fBba\\u002fcQ\\u002fAAhC9wBQ4T8AYPnvZ9PZPwBgcPRVmMQ\\u002fAOAp+FMNxT8AwB8sSbXIPwBAWxPnEbS\\u002fAMCvv9ejzr8AcD8WuHbcvwCIDkYYyOO\\u002fAHDq9Hgx3L8AAAmiTQXTvwB4ltFh7uC\\u002fAKC+4R1H478AQEfs\\u002fe7cvwDQCCvd7NC\\u002fAIALqwtexr8AAPM16uqkPwAg8lneoM0\\u002fAGBNwBAsyD8AgGEI20LEPwBA0vGlmNM\\u002fAEDmQdDS4D8AkEbB39rhPwCA65\\u002fGB8E\\u002fAED\\u002fNVCHuj8AgO35zvvCPwCAfaIkv6o\\u002fAODxbHo2w78AAL4J\\u002fZrTvwCwabTj89i\\u002fACAUrqzL2b8AAPud7D3ZvwAQB26D0NK\\u002fAIB7tUnWxL8AABxRCy6BPwCAL85Ue7E\\u002fAIBgBExnor8AQKPx2uKyvwAgVjHCWNM\\u002fAADCcTvlhD8AAHpX\\u002fC26vwAANvWxfaq\\u002fAICrdAMDsL8AAIjNV1eLvwAAnxC9Pri\\u002fAAAMmr\\u002farb8AAArzizqWPwAA4O8PgnI\\u002fAIBTxhKtoz8AAClowebGPwAgVPJ9dMk\\u002fAIA+SokTvz8AAPzRGg5\\u002fvwAAMuM0F6u\\u002fAICq74IXvr8AQNjxczK0vwAA\\u002fW0FE5s\\u002fAAC7BVJ4t78AgHSAvI6rvwAAc9HKoKi\\u002fAIBHEApnwT8AAORMAmi7PwCAxsUUoK8\\u002fAADA6ZXcfz8AQMcMJFe3vwDAeAg1\\u002fbC\\u002fAEA0bc1vsL8AAKAngqqfvwBAltwUE7+\\u002fAED1JFOIwL8AgEt8yOCwvwAAAIRaT0w\\u002fAAB6JVVKvD8AAF8DqYPIPwDguctp1cw\\u002fACANe3DXzD8AMGVUQ1fUPwAQezIFDtA\\u002fAKCxCnK1xj8AQC5pMPaxPwAAwlW87YW\\u002fAADNEsnopb8AQNs9xcO+vwCAvclLHsi\\u002fAACIVP6Eyr8AoD1aaIbNvwCAVRmC9dC\\u002fAIDhw\\u002f3Q0b8AcFm0Mm\\u002fSvwAAKTCWsc6\\u002fAHBivwBO0b8AIMowGJXgvwD4Vhcje+O\\u002fAJBwgtNp3r8AwD7\\u002f5mjSvwCAj2hWVse\\u002fAAAsomzkoz8AgCQcWhfQPwAg4eidrsk\\u002fAGDrxeLwwz8AcG+UZl\\u002fSPwBQDcW0puA\\u002fAACPsxrJ4T8AUNu3cnvjPwBg\\u002fn1rjuI\\u002fAKjudRNo4T8AwHDA5zfZPwCgTHA79s4\\u002fAICvVf1Lyz8AENyp0nnTPwBgDgk+ic8\\u002fAEAxK47IvL8AcHs0Y23VvwCAQzYbPN+\\u002fAGCEcXoe478ACPd4HxPjvwDgsAEnAdq\\u002fAEDZfMEluT8AoH4ex4bVPwDg+B4UNNM\\u002fAIBFVaA0xj8AwMri49bZvwDAMKPEBNq\\u002fAOCeDY1m278AYFAh\\u002f9LXvwDAlR5kks2\\u002fAADMR6P2dj8AQOvAKVLRPwBAnBJI3Mc\\u002fACAZKe2Pyz8AgJjj6WbXPwDAkFrxcs4\\u002fAICaZFMzxz8AwKR9VkzAPwDAT5c+6rc\\u002fAACohpl9qT8AgEO2HNivvwAAlrD2VY6\\u002fAIB4ZQ+nrj8AsEOdo0XXPwAAXgxT080\\u002fAODYCn5pyj8AEOk2VcjRPwAAM9GrF5+\\u002fABCMUJEu0L8AEBu\\u002fIp7YvwAgTa4wmtu\\u002fAJDs5c2U2b8AoGKVXNvYvwDABCJpP7U\\u002fAJBaD+Jo0D8AII1Tlb\\u002fDPwAAxVoagaO\\u002fAABiI10bmL8AAE9aVlmwvwDAf7RX+72\\u002fAEDNcFNtzr8AQDri42XCvwAAhI8814E\\u002fAIA8deF+tD8AAPfogoWxPwAg9bpwUcY\\u002fAEDbWwU9xT8AAIQg\\u002fjGQPwAAHI0nC68\\u002fAEBAV9D\\u002fuD8AwBN6aPaxvwAAAaXw68+\\u002fALCS9ua71b8AAIwr0auPPwAAtO0wM4c\\u002fAACG3RDKgT8AAD5jCFSxvwAAgGqLXLi\\u002fAACUPr9wsb8AAI8YBAeZvwAARICQZ56\\u002fAMBk6gzCsr8AQNseUJSzPwCQPMg1LtI\\u002fAAA\\u002fqgbdwz8AAGjW5Rm2PwAAJb2v5dA\\u002fAAB1rsFUwz8AAMStq8CnvwAAOdvRhZO\\u002fAAA3rGARrL8AQBWCjXK9vwAg65jLHs+\\u002fAABtcMPSwb8AABgtNDSCPwDAjOcGprU\\u002fAIDf9ucjoT8AQCyLbKDGPwAAz6AVytc\\u002fACB7NkFOzj8AwK4Kb3LNPwBA5JZbHc4\\u002fAAA7tF2Dqb8AoPTX2TjTvwDg325yNtq\\u002fANCTFnL1278AUDXpONnYvwDQD0IxlNm\\u002fAIBc473epj8AAMvq6UOePwAAC+kTvKu\\u002fAADaEA1\\u002fir8AgN\\u002fooauwPwAAwBDtZXG\\u002fAADevvTZkD8AwJ6skoy1PwAADi4MN8Y\\u002fAJCJNKHo0D8A8J+Pgc\\u002fUvwBgG4V\\u002fssO\\u002fAMDyX23bs78AYDtqDx3QvwBQBHpJLdO\\u002fAGAM4r7DyD8AYOkcQgvSPwAAUALJcVQ\\u002fAADZ1+BDur8AAPhcwdVkPwCARIGIFKG\\u002fAAD+Qiubsr8AwCmbbMS7vwAA\\u002fmtXT6y\\u002fAACclrzplT8AAAlN8B2SPwAAyvWzO6Q\\u002fALh6WOTw4T8AsENRFCHhPwAQkFwkDdU\\u002fAMCsQ8BAyj8AwAHjV5bKPwAwsJR2wtU\\u002fAACKEao0wD8AQCR6BVfIvwAgozZ+dta\\u002fABAWOqPX4L8AqF9KUxPlvwCAqOYIfOK\\u002fAMAmLDgatD8AgAYn7a7FPwCgEaXJ7cc\\u002fAEC16ONF2L8AcLpcMs3ZvwDwyt7Zsdq\\u002fANC98ugg178AwKw3V7POvwAAUNMR03U\\u002fAKBTsGrsyz8AQGz9BR\\u002fCPwDAYPlapsE\\u002fANDbX7Gj1D8AQBi02+XHPwAAZHN20Lg\\u002fAABQ5M6qkT8AAMuQrTKXPwCAuhqdh68\\u002fAIAjN5lxr78AgA+0TdykvwAA\\u002f4vDVaY\\u002fAIAnsR8iob8AoJD2\\u002fMXRPwBwsOZoR9g\\u002fALjxcLBF4D8AEEj7wyLTPwBw7Saqhds\\u002fAAiGxuG14D8AYK8pJjPTPwAAr\\u002fvEj7A\\u002fAIC5Mimerj8AIA1\\u002f5\\u002fTFPwCAZJqtrMg\\u002fAMD\\u002frFMOvD8AADjFaPRwPwCAR5\\u002fIq6C\\u002fAIBCiNS0vr8AwIc4wLKxvwAAgYFyqp0\\u002fAEAAVjGpsL8AAMtTP\\u002fGqvwCAwY9FZrO\\u002fAIA9nm4ztz8AgAepOI+0PwAQoSr3FtK\\u002fAFj8LDN44L8AGMWcomDivwDAjGJnGdq\\u002fACCdqblpyb8AoEb5mh3DvwAAALfyUCg\\u002fAIA+SkrmxD8AQAzCfl3EPwBgoFq2k8E\\u002fADBQrcaq0z8AOPUtIqbgPwAwTy1XtuE\\u002fAABqep0MoT8AAFj8VRizPwBAPUxRfLg\\u002fAICQGK73s78A8KgWUj3QvwBARG5MVda\\u002fADDvdyEx278AAOKrU1iAvwAA0kXKtp4\\u002fAACAqO\\u002fwgb8AwN22aOa2vwBAcF6xvrS\\u002fAEB3ZWACsL8AAASTGCSQvwCAqCRU96+\\u002fAIBcNT4bp78AYLCypEjEPwDgc3PHg88\\u002fANB5Y1713z8AYOfE6C\\u002fYPwAA8Mn6yNQ\\u002fABB6O2ey0T8AwD\\u002fLAgbKPwCAXuKIkbU\\u002fAEDLLxujxr8AAMVqn8jYvwCQtZU6Udu\\u002fAPD7vmxG3b8AkIRewkfevwCwzgAYO9y\\u002fAADHJ4ZmmT8AAIHZBM63PwBwPUEZLNo\\u002fAODuJ58Z4D8AoKOdl1vVPwDgLyyiqdM\\u002fAAAllWRHtD8AQID91ze5PwAAYPZZd6C\\u002fAAAawqJ2qr8AAHdPbIKsvwAAWyrVWZE\\u002fAIA9ofADor8AgHjGEbq+vwAAkTrOlaS\\u002fAIDWKEAbqT8AQBg\\u002flrCxPwAAg2lSDsg\\u002fAMDPu\\u002f29xz8AIKBbMx3EPwAA7PuOgLw\\u002fAABM5LqJsT8AAEixm+l4vwBAt0g8ZLu\\u002fAAAKntrgrb8AgDR0\\u002fc+svwAAHqxu4YK\\u002fAKCcdzjHwL8AAMnjyKu+vwAAmTb7+5S\\u002fAABnJz6Flz8AwBwRKWrCPwDAXIzBsMk\\u002fAODUmamEyz8AIHVYkBfNPwAA9bMwQJM\\u002fAID1NRsRsT8AkIY9HCDUPwAwWfjGydw\\u002fAKDgcyBx2D8AgHVvxwPUPwAQP5\\u002f73t2\\u002fAIDkcwqt5L8AOFfZKcLivwCwUD0k39a\\u002fAJAfPi220L8AACL5EWqivwBQX9yVTNQ\\u002fAIALw0Hizj8AIF6pIXPJPwBAFPfMt9A\\u002fALBj2K7m3T8AEGrQBYLhPwA4ZCO5b+M\\u002fAADUr9\\u002ftpD8AgEAAD0WjvwAAYAtBSpG\\u002fAACRRTnOsj8AAG4KbA+RvwAg6ybAKMm\\u002fANB5TB9Z078AAPSxZnOPPwAAvOphoXc\\u002fAADAy4GXUz8AgK4MMFKxvwBAilLpnLi\\u002fAAAk0TTFq78AAGBHRfGavwAAfa0cH5y\\u002fAIDJQH6Fr78AgL8JOTC5PwCwqD5fsdE\\u002fAKAPM3oGwz8AALCVo9PRPwCAkapfM7k\\u002fAAB6\\u002fss0jT8AAHwxqa2zvwAAs4GRlaG\\u002fAMB4ULFBsT8AAAECyNikvwAAmSz2WLG\\u002fAACpawm8kT8AAAVscxmcvwDAgBKroMQ\\u002fAEBQMLa8yT8AwM0\\u002fOyrEPwAA5aK0\\u002fJ0\\u002fAACojxGZgz8AAArHha6+vwAArcw1ecG\\u002fAAC5QfRznL8AAE1iiGmxvwCAVAfOKrC\\u002fAIBJ5obBtr8AAMOtl4euvwAAX1jR8JU\\u002fAABvAoeRnL8AAN\\u002fNvUS2PwDADxjNwb4\\u002fAABQSmtJXD8AgOFaMhWmvwBA5lNTp7K\\u002fAAD8EWrohz8AAK6dfgaavwDARdqbt76\\u002fAAD7m\\u002fTmqL8AgP0fbqmoPwAAHbDz960\\u002fAGAPOCS9xz8AIApfVujHPwDAXYQXncI\\u002fAIDfi3rr4D8A0CJtUW\\u002fgPwCQuNkd3tM\\u002fAADetLzSvz8AAJk01lDAPwDAlNGKpMA\\u002fAAD6z8tLjD8AYM6n8KjDvwAgpuagzMi\\u002fAEBGm+Do2b8A0NWVKvvivwB4maDxqeG\\u002fANDszCVh1L8AsI4\\u002fSS\\u002fSvwCoxag0juC\\u002fAHBEwpSE4r8AAEFgM1favwBg8gXs\\u002fMm\\u002fAEA+FkwRxb8AAGLzM0iAPwBgkW54tsY\\u002fAIAMkYrQxD8AQP+Oj\\u002fvCPwBA4STAddQ\\u002fALhn6jTD4D8AMNKp5griPwBw1OfGzts\\u002fADCp8vVu0T8A4CaR7oDMPwBgh6bh\\u002f9A\\u002fAADddHo0sj8AoOqWUR7KvwCQc1Cf29u\\u002fAEDfBnWJ3L8AED0bcljYvwAwOqVNDtu\\u002fALAClDIK0z8AAIuzNAbKPwCARpcZ9L0\\u002fAIBu05v7sD8AAHVCl2mkPwAASEB56n2\\u002fAIDVdFZQsr8AADrvhayDPwCADAkWjKg\\u002fAABx5gTBpT8AAOjrJeOTPwDAycHQOLA\\u002fAMATZufMsr8AwI5e9O7GvwAgAAcPu8G\\u002fAABdvPVuoL8AADNCsbiXvwAAbmUPk6m\\u002fAACwshyCXz8AAF6DMvrRPwDA1i++u8w\\u002fAGATgytuwD8AIExYtxPRPwBAqP8bUrU\\u002fAIDGaODTpb8AAFbFG3KxvwDAJy3FUb2\\u002fAGDH8WO\\u002fwb8AIPDEuSzCvwAAcz2SDLG\\u002fAAAwuArXij8AQDwcbJexPwDASbrUJMo\\u002fAODaZl3Ixz8AoPK64bXMPwCgzhEh0M8\\u002fACBSV+AWxz8AwJp92G+6PwCAo2ziFrK\\u002fAICymEUTy78AIGe1iyLGvwAAwI0K38G\\u002fACBogW+kwr8AQP1TmQO9vwCg73Ztc8C\\u002fAEDG\\u002fFOgw78AIGrAF4XDvwCA95mP6MC\\u002fAECV1gnfyb8AcKlo8fzfvwAoSYlmi+S\\u002fADgJUxvj4b8AUJH+ZYnWvwCgw6dnaM6\\u002fAABIQzeHkj8A8MZGhEbXPwDgLLFs8ss\\u002fAODlI7xayT8AICWO63bRPwDgAtHgWeA\\u002fAAgRowDz4D8AuN\\u002f\\u002fk2DjPwBwEN323No\\u002fAHCP3gt80T8A4PAf8Z3LPwBgW617FNA\\u002fAIAuNJNcqz8AAH+CvI\\u002fKvwBARIqeDN2\\u002fAHDWUgJ53L8A0DOoxc\\u002fXvwBQne4kwtu\\u002fAMB6t4xVvj8AAMNJy\\u002fOTPwAA9tSimZu\\u002fAEB4g69rtj8AAKUXs9jEPwBgmPzei8g\\u002fAMAfo2GqzD8A8KO27O7QPwDwl4ufNNY\\u002fABAJAgMI0D8A4C9ZFiHLPwCALpyQ26i\\u002fAABk5SLNm78AQPCotnywvwBAOmo\\u002fWby\\u002fAIA7B+AZzL8AoGSpsO\\u002fDvwAAMAHmIls\\u002fAEB+NfzTsT8AQLhFKdDCPwBA03Y1m8U\\u002fAKCB3qr3xT8AgHBqtXilvwAASUAaD5K\\u002fAEAyyrGbtT8AwMv6qKCwvwAgnDqJgNC\\u002fAGDUGZwl1b8AAOFy8mKvPwAAwDrrj1q\\u002fAAD8JmmJnj8AAAZcQ7umvwAANL7EbL6\\u002fAEAJmUhAtr8AAHgo2YaVvwAAkNmr63y\\u002fAMCVTFR8t78AAJTdktSQPwCQ\\u002frOmBtM\\u002fAIAHVe0zyD8AEIVYhMXYvwDwK0gQ+du\\u002fACAL8Plixz8AEE10MLnTPwAACOqxYZ0\\u002fAMBHEsYRtL8AAJpVfHGPvwAACz1jHZy\\u002fAMCNLcxaw78AAPVg9mHGvwAA6Diia7G\\u002fAMDsknDotT8AAA42PfiCPwAAVjM4urY\\u002fAEBDTI0cxT8AAKaFBG6BvwAAZ3EhsKE\\u002fAICMsSlPpb8AgK0wjbS7vwAAZkQfVKa\\u002fAICcTLJ8qL8AAHjACO2GvwCAGjn1BLu\\u002fAABA10fTaD8A4DEswVfTPwAgIirIS8c\\u002fAKAkJUfh1b8A0EKWPiTRvwCAhmjiTLa\\u002fAIAtW8bJqD8AADhprK95PwAAUF+JGne\\u002fAMCOm33czz8AAD8M1RbMPwAAEDpYjHU\\u002fAADJTJUnuL8AAJhHap1lPwAAFbp916K\\u002fAADnl8IqsL8AgPMLj\\u002fG7vwCAtDqgDKq\\u002fAAA8x8U3nD8AAGyI62J8vwBQVAcVXeA\\u002fAFCONxDp2T8AgHVDPELTPwBgvKOOodU\\u002fACCbFjfOzT8AoAZRcNzDPwDATuU\\u002f1LC\\u002fALD6CUbS3b8AMGa9FK3bvwAgS7qF89q\\u002fAOB9VX7z3r8AgMFBKl7evwAg\\u002ffbGFc+\\u002fAMBdWsVQx78AoDSYMljUvwCQi1FSd9i\\u002fAEDZ+Wq9yz8AYNuzlrjNPwAAItWZ2YC\\u002fAMBSHit7sr8AAF5QKU6NvwAAhJH0cpO\\u002fAABm+xrkvL8AYLd+h37CvwCA0mB8vaC\\u002fAIBJ+l7huj8AAJJ+PFqdvwCg+4SO4sA\\u002fAADVUJGisz8AABBvC4WBvwDA3N4yFLG\\u002fAAB0HYLLmT8AAI2Ut4qkPwAAYQaO5qc\\u002fAIBavBFeuz8AwCJYlD7HPwAQqdLDOdQ\\u002fANBvoaTs1b8AwJiO8RPHvwBAhewPMra\\u002fAADvhKLlzr8AAD4sbHfUvwDgx13yzsw\\u002fAABB3x6Vyj8AAFzVljKWvwAADFli8LG\\u002fAAAgM7YZhb8AAONU3YmfvwCAhKj3Abq\\u002fAGB8zBoIwL8AAM2I0sqfvwCA8MEKVrg\\u002fAICll5i9oL8AYBNKwNLAPwAwCHdfwt8\\u002fAOCNNKWP1z8A0Il0xy\\u002fUPwBQ1efHctE\\u002fAKBW8EEzyT8AAIx3c\\u002fuwPwDgOk4y582\\u002fAHCzSChP3L8AoGBO8WvavwBQD0D8ed2\\u002fAJAarfWW3b8AAOrcmKi1PwAAsLIuWns\\u002fAECF2kMFuz8AwBkL3kzWPwAAPIt599s\\u002fACCW1ZC71D8AkBuS0YPSPwCgasa2ANu\\u002fAHA9ETJV1b8AAEdrgRzPvwCAei45Lq6\\u002fAEAJhihxtD8AAPURYVm0vwCAXMxLML2\\u002fAOA912cU0T8AQBZMLMO5PwCAr5dZFrO\\u002fAIC97DsGrb8AAJ1akZqivwBAYY\\u002fKTLK\\u002fAABlUNA2ub8AwN50HSuyvwAAWHx+83s\\u002fAAD28BxRgj8AAMqS+GGMPwAABWTCLN4\\u002fALDzeSfT0z8AwKV0MQzNPwCAAWqOQNA\\u002fAMBOhj4Cvj8AgDuIVqS\\u002fvwDgL0VGFtm\\u002fAMA4rPkC3b8A8Nke+yfZvwCw7jh9Ntq\\u002fAMCQuyR+1b8A0C6VBJzRvwCAg4oxUrO\\u002fAIC\\u002fxxm8qz8AQNL\\u002f5UvcvwBQ0OQ6OtY\\u002fAMC5OAyOwT8AAGfrjtCUvwAAqMhHibG\\u002fAACMN3s0q78AQK5f+GazvwBAkl5TXLe\\u002fAECuGUxhtr8AAHawXxeKvwBAoTvIr7A\\u002fAADc\\u002fH+1i78AQCQLmOTDPwAAAkSZ3sY\\u002fAAAMPqnxmD8AwHwJIAq1PwAAxUVwB5A\\u002fAOBPs2E2wr8AgCCRhDPLvwCAjI2SScK\\u002fAIB2x49TtL8AgDHH1dCpvwCAi4yxY6S\\u002fAIBYRzFlyz8AQG4Z4WPLPwAArXkezpA\\u002fAAD8qbxcyb8AoM3xRoPNvwBg2J9B+si\\u002fAIC\\u002fHc7Rxr8AoBJDUnLNvwBgomG7yc2\\u002fAIA+lWp1yb8AwGwH3Fm5vwCATFaZYKC\\u002fAABIu3Nqaz8AAC8gr+m4PwBAkPxxock\\u002fALD3fBbf0z8A0FDFcgPaPwCwe9Pa6tw\\u002fADCCrqZf0z8AAHj+jknPPwBQr6wWBdI\\u002fAIA9UIIxwD8AwJu4S4C4vwBASB2IyNu\\u002fAAB1hCXs3L8AoP0zysHXvwDQQCU\\u002fF9y\\u002fADD4FH2L278AwD7WBvq8PwAAPl011Ye\\u002fAADsg6whjD8A4FZP4IzCPwAgBdNOrc4\\u002fAMCacAW0zz8AILeR0kXQPwCwitgM6NQ\\u002fAOCOL2xMwT8AIFe6KpTQPwAA4TfVf7c\\u002fAIA7RP5zor8AAGg+h7OkvwCAurDpfLW\\u002fAGC9mPRIx78AoKovzq\\u002fKvwAAKFczmrm\\u002fAIDvSJB4qT8AgAwAPbWnPwAgHpG9kso\\u002fAMBF2mPPwz8AQFY6Cq3UPwDANKq2VM8\\u002fAGB88gzDwz8AAB2g+DmkPwAAYCeBBn6\\u002fAADOhe\\u002fzo78A4GfdOvHAvwAAZ2ivqsS\\u002fAOBhnePzx78AYOlj05LUvwBQgDYt4ta\\u002fADA5dzBh078AEClb1STRvwAAqa6969u\\u002fAFAjb+Ny2L8AEJ1t1l3bvwBw8cG0udu\\u002fAMDoeVKo1L8AQFUex5m2vwDAAD9eEsE\\u002fAJAEyGQ30D8AwFBYT2XNPwBwes6YwtM\\u002fANDTy+vM1z8AgAdPbxLQPwAgWgoq+so\\u002fAODgSwexxj8AwFvhQYPAPwAAdA8Mk5s\\u002fAMBh0iS7s78AALXqhnSTPwAAxuXhQrc\\u002fAMBMC4884T8AYMU7tH3gPwCAPWjxXdI\\u002fAEDaisWmuj8AgO8HwjbEPwBQv8f7kdI\\u002fAADG7Rk+xz8AwJsTr9bDvwDQFlnVTtO\\u002fAOBR0jRa3r8AOM8bUdPjvwCwm\\u002fH\\u002fnuK\\u002fAPC47rSg178AgPFL4TqwPwBARxR6Gss\\u002fAEBUq16a1D8A8I1QMjvUPwDQjaPUtNA\\u002fAGCB3uaMzz8AAFC4wWDVPwDAc1f5Sda\\u002fAICLM+4e0r8AgHL4cde5vwCAZ1oMfqA\\u002fANBtIY+0278AkJlYh8LWPwAASgPz9s0\\u002fAAA4Ykhaiz8AQFCaAH23vwAAxXwUSKi\\u002fAIDXtzj4sL8AADr2rZG1vwBA\\u002fepb5by\\u002fAADuBrAPnr8AwP313s62PwAA7RKA9JW\\u002fACAElmkNwD8AYCzwDMXCPwDAQk8hv8g\\u002fAMCt+7juxD8AAMZB1\\u002fyBPwAAVqokEoA\\u002fAMAc6D63vr8AgH\\u002fCZtW8vwAAzFB8SpG\\u002fAIBDA\\u002fVNur8AgMHadjSvvwAASTNhIaO\\u002fAKA4ppYgxj8AsLZbCV3QPwCA1FCc\\u002frM\\u002fAFDWk4Q2478A2A8GELvkvwBIZDymDuC\\u002fAADqkE9t1r8A4EeLZfnEvwAAlboG28I\\u002fAHBm3lZe0D8AoNHdRpjMPwCgfJTmiM4\\u002fAFBzSdhS2T8A8GO\\u002fHtbePwCAOxy1YOE\\u002fAABwBC5yaz8AgNL73BCgPwAABbTBpLc\\u002fAAAXxbh4o78AQND9kTXMvwCQYm7deNS\\u002fAAAjo6Qiqj8AAP6R5deEvwAAivabGY0\\u002fAADGfklLqb8AwG5tFOC6vwBAXntmSLK\\u002fAAAyyMX4mr8AABb0GiiIvwCAzaWkTrW\\u002fAIBsJFu8pD8AcD72CF3TPwBAeh6rc8Y\\u002fAADZSrdAxL8AkHY5LTHZvwBgu59rreO\\u002fAHC2MPTv4L8AEMXhJ7jSvwCg4bimpcO\\u002fAIC2PVCptL8AAPV4\\u002f+bCPwBgJNuha8Y\\u002fAIAhOecFwT8AQL4pwdPNPwCwS1wWldw\\u002fAEA1ORGH4T8A4E1mk6viPwA4\\u002fmIoQeI\\u002fAEjAH84c4T8AoONqYjHXPwBgBg0IQso\\u002fAGBwPCO2yT8AgCKqm4DTPwDgZzmxK8Q\\u002fACCajqacxb8A8NJX25DVvwBotnowOeC\\u002fAOAwnsP35L8ACIXVv7vivwBwW5NWNdW\\u002fAAAjjlWNtT8AAJHwksHLPwDgQHPSVcg\\u002fAECCvIVfwj8AoOQMoJzJPwAA9MJaanY\\u002fAAC+vzIGqr8AAINNq9i3vwAAYM1jopk\\u002fAIAMIDK9sr8AADa7I7S+vwAApNQ3A5K\\u002fAACTapGflD8AgAdXh++7PwCgDmiDFsg\\u002fAEB8djhexD8AwNXNMUXbvwAw6P3q99m\\u002fAHCd\\u002fong2b8AIP9hfqjbvwDgyO\\u002ffxNe\\u002fAACNsKRHyL8AAMIGUJOhPwBA5CERYtE\\u002fAMAIYxpZyz8A8Ews9PDQPwDwtfNNvtQ\\u002fAIAEz060zz8AYIDsz0XHPwAARuawD8I\\u002fAMAC4MP5uj8AAKSdWh51vwCARLLF+6a\\u002fAACqmO8LoT8AAPmx3Wi1PwAAYmzFHZA\\u002fAADdcR3qkT8AALQaIMGFPwDAVR6bbbC\\u002fAEASdjXVuL8AgCMozDOqvwAA1tDEwIq\\u002fAAAutrcwl78AAI2qjjquvwCAq9L0gq4\\u002fAPDkKaQk0T8A4GInfGXDPwCAELPlNs6\\u002fANCKkLZy0b8AYLXVg5fQvwAAhOpj38+\\u002fACBwnJsUzr8AoKgyOdjHvwCAbBpFK8S\\u002fAABBquvFs78AAFzTMI6IvwAAKb0foJM\\u002fAMACUWhgtj8AAPDq+3nNPwAQaB66Vdo\\u002fAKDxDl1b3z8AIKyZCR7NPwDAGL\\u002fNYMo\\u002fAAAO0DSSk78AAC0JWxCxvwAAKqvwD46\\u002fAAAJjNbql78AgPXBleG7vwDAVexwm8G\\u002fAAAk\\u002f0CMnb8AQPZeubG6PwAA5twDoaG\\u002fAOCT7gyRwT8AoOo\\u002fEE\\u002fIPwDAACeloMQ\\u002fAMB0dhV3zj8AAFP1ad+bvwBAxytZu9C\\u002fAOCoeypR178AUEG3gCnavwBgYx9Xv9i\\u002fAADG7ac7lL8AAKqMJauCPwDAhKSyNrO\\u002fAAAKZw9xm78AAGBk95l6PwBABMpNUbG\\u002fAICfRpsqs78AAJX8dne0vwDAWNDW6bg\\u002fALD8CmoR0T8A0CNr2vHhvwDgBTxxAeS\\u002fAHi32dEO4r8A4J13gtLYvwCAz5jX3Mq\\u002fAKBuKxPnwD8AEGJlykbRPwDgssIxEM4\\u002fAPBoIJeh0D8AQFydusPXPwBwhdfdF9o\\u002fAJjuiORL4D8AIGnvw13FPwDQB9oQcNA\\u002fAFBLMO2Z0D8AAKnsSXOzPwCQobvOmtw\\u002fAIAxLaH81T8AgL3YkOfFPwAAv3rOK6I\\u002fAAA+vAPikz8AAGjDp0JzvwAAN0sNWrm\\u002fAEBOBZQRvL8AoBk3fxTKvwCgPP9AO9i\\u002fAIgfkHI24L8A4Oj3DSTbvwAAmg+bkMm\\u002fAADDXmG0rj8AgKf+vSG2PwAAnmwTToO\\u002fAICrZM8btL8AAI9Ir\\u002f+pvwAAyD997IA\\u002fAACA5loJkr8AAN1tkLS+vwDAsok1bLC\\u002fAAB9AgkOrD8AAC38mnasPwAA\\u002fjIzxMc\\u002fAKAPKuEMyT8AAA2IiffGPwAAxtiH45a\\u002fAACyk669mj8AACNvCC6evwBA7KtvELu\\u002fAEBcKCFGtb8AACAAqO6dvwAAgGsDqCk\\u002fAMCMAC3EuL8AAHgvSBCKPwDQhEwtMdM\\u002fAEBlElHIxz8A8AqFU6DcvwCgt6350Ne\\u002fACBjqLWl278AUEbk0oPcvwDQBmqXjdS\\u002fAAAgiOESqb8AgIW75WvFPwDA30DaQ9A\\u002fAKC5rs0Hzz8AgJgCIv\\u002fWPwAg0+YKWNE\\u002fAGCygHQ80T8AwLFJukrRPwAA5I8qp8k\\u002fAAAJLtvrsD8AgC9DFASnvwAAJllwnJ0\\u002fAMB299gmuj8AAAV9\\u002fFDdPwBQhzzgz+A\\u002fAHCjzChM2D8AgHlOFVDEPwCA7KrpaaA\\u002fAACJzap7sT8AADIhb6WfPwDA56P4FLu\\u002fAECgPwNgtL8A4OyPdLrPvwBw6PQxlt+\\u002fAJhHbUZJ478AsBTLJVjYvwCgoHiIZcG\\u002fAAA4+e7LlT8AgB67z\\u002f2qvwDAk1lmRMC\\u002fAACpM+jTvL8AAAl2QRy\\u002fvwDg8gYAJse\\u002fACBC6j8gz78AgGeT23DGvwBAbVwEbLS\\u002fAAD7EH5xn78AgLTMYCWtPwBghGnPqcQ\\u002fAOCT5F59zz8AMCTuV1fVPwCA+aUwO90\\u002fAEALBFeu1D8AsGjPvcnRPwAQ76hvP9E\\u002fAAA+0AQmvD8AwLrkDoK3vwBgLgOGh9m\\u002fAABBai9\\u002f3L8AMPbv5FzXvwAg12bYK92\\u002fAIBqyF1FpD8AAIm422SbvwDAB3qGBLQ\\u002fACDdBOGFwD8AQJaCfW6+PwCAcm3NGsM\\u002fACAOTIa9yj8AYBSAVVnSPwCgvZsOIti\\u002fAFD2nOMv2r8AkH0LLFnYvwAgGRdQP9O\\u002fAAD83dvMvb8AAPU5LwC6PwCAkV3u2r4\\u002fAMA6FM4wsj8AwKEOLJ+5PwAAlvB5xdE\\u002fAEDg5ztHsj8AAAi5LzhkvwDAZjg4Kba\\u002fAAAVcxNhlb8AALcXu3vcPwAAHzmJjtU\\u002fAKD5gtGVxD8AAHhFKuGVPwAADfPN+5M\\u002fAAAc3h1ifb8AQPG4TCq9vwAAqMWMoLq\\u002fAGAYCPSlzL8A0EFvEiHbvwAg\\u002fEsjmOC\\u002fANDtsQOl2L8AQC2ICQfGvwAgGYHD8c+\\u002fAPDbqC2v0b8A0AVU9v7QvwAAadyyrdC\\u002fAECkv4trzL8AQGgzA\\u002fHFvwCgeAg93MO\\u002fAAAeGl3ip78AAOAfPtpIvwAAtuw\\u002fBJA\\u002fAICRRkUVwD8AgCGjrLPTPwAAMJ77m94\\u002fADDbg7Rb3j8AAMCcFICnPwAA+CVH23c\\u002fAACHinXFkz8AwOH38S2wvwDAc3lSAbq\\u002fAMAZ+dNms78AAGtYOSCevwAAkQfjwKK\\u002fAIBRc8DasL8AAMLMRE68PwDgTJcd2tA\\u002fAGC\\u002fAqgDxj8AYPlzBDLJPwAAbJ0PY6C\\u002fAACocMQjrL8AgB3w4Um1vwAACKlIDsC\\u002fAKAfOV64x78AYNzSwInDvwAA2itf\\u002fJA\\u002fAAB1ZVgWrj8AIC3e0PHHPwAAwfkofcU\\u002fACBRljrgxj8AkNpplz\\u002ffPwDAnoiOw9c\\u002fAICT0GZpxz8AAAfZXIGhPwAAW8LXS5s\\u002fAAAA7Nj2Ib8AgCzU3T67vwAAugSe7Lu\\u002fAAB7VufDy78A8L326lbavwAY0Pq+TeC\\u002fANBG8\\u002fEi2L8AwKGfv8jLvwDgHyN1\\u002fN2\\u002fAPjA6SAx5b8AUGyMk7HjvwBA3vp\\u002fLNm\\u002fACAz\\u002fHQQ0r8AgPLeglikvwBQS3GZatM\\u002fAHDi40Zn0D8AoOibyrrKPwDg7DivbNE\\u002fACC+iohW3j8A8JdlexjgPwDI4tj4P+I\\u002fAIAiia15yD8A0PEDca\\u002fXPwBggXRa5c4\\u002fANA+MEeC0D8AYDpf6vrAPwBAlXDwsbu\\u002fALCwhXF81b8AACtITs3avwAA5odgCtu\\u002fAFBB22tR2b8AAFabYIyRPwAATte0N4w\\u002fAIDZS8eBsr8AAGiI1SGBPwCAi68IPq8\\u002fAACBL7ijkD8AwFJupIm0PwBAmDLq\\u002fcY\\u002fAMBrHm9V0z8A4CLJMlrYvwDABvTssdq\\u002fALCXEbpY2r8AMBU4b3fVvwAgCMs7Tsa\\u002fAEA4DIWVuz8AQDT4F73HPwBABEV7UcE\\u002fAKBOs8nQwz8AwPfUeGbGPwBgGT5JIsk\\u002fAMB9bs8evT8AAJoK\\u002f6CBvwAAIr00vqe\\u002fAMCTFyV0vr8AgKd1MIeovwAADd08pJI\\u002fAMAC34RCsb8AAFdz9B+rvwCA4aNle6W\\u002fAIDJjiH4sT8AAHHXYsijPwAA29wr\\u002fq8\\u002fAADfJYJYpb8AAGIRmPa3vwAAphKW1rG\\u002fAMDW+Szkt78AwAAlqLWwvwCAgT55CcO\\u002fACCKhV2Vx78AwDthTo2xvwAAp8mpHbM\\u002fAOBbaYXkxT8AcLegQ2bQPwAANJ8pT88\\u002fALgzM5AL4T8ASHDez5\\u002fgPwAArTFYzNQ\\u002fAMA82tTIwj8AQCI\\u002fdn3FPwBA+VYM1Ms\\u002fAIB9D4yvpj8A4GbFKsHHvwDgoDghV9S\\u002fAPCyTP7Y4L8AkKnoq27kvwAowVq7VeC\\u002fAICFP+hHtz8AQLhnlhHAPwAQagPH9Ny\\u002fAACNpLLJ4L8A0ArkKOnfvwCQPmG879i\\u002fANCFiL5x1L8AoAwbUDjEvwCAHBNR4rQ\\u002fAGBjVWEHyj8AAHgwaHfSPwBwL3RMP9I\\u002fAFDTvqUk1j8AYOFObvzePwDgYOpatM4\\u002fAJCzIqkH3D8ASKue1gngPwCA3eBcgsk\\u002fAAATrnVAqz8AIN\\u002fVoxXRPwDgw9M35Mk\\u002fALC+zkph0T8AgMvA+g6iPwDAFCdckM2\\u002fAOAlppci178AEEtQY7DavwDAJyO3nNm\\u002fAIDZO9Ye378A0L6VI\\u002fbhvwB4M7q9xOC\\u002fAHDd21R12b8AABAoPr7MvwAAAY5LQaG\\u002fACCLI5d0wD8AAEEnJ9vKPwCQJcVvxtI\\u002fAMBovNLB1D8AAA5oghDZPwCw753zlN8\\u002fAPA2QTKS0T8AwL3OUiXgPwCQMikJft8\\u002fAKBhPIAqzT8AAMojnKuqPwAAi30rscg\\u002fAIC4N2ZVyj8AQEevSa3HPwBAnlk3WLE\\u002fAACm\\u002f7Zpk78AILsoOxvBvwDgqqscqMK\\u002fAID5d0yuu78AgOojPZe5vwBAuZKzILi\\u002fAMCcvyZRvb8AoLF9NmPBvwCANcMMgba\\u002fAGAGUXLUy78AIIzR8NHZvwBYpi8CSOC\\u002fANBTbYsC2r8AQGopnKLLvwCAKFTtsLS\\u002fAED8\\u002fGMfs78AQIG3xl62PwDA5RZ+YcE\\u002fAIC4Jx+Stj8AYHbhMwLRPwBIy+X+UeA\\u002fAIDyjhx44T8AYFdHkQniPwBY7PNsD+E\\u002fAIBKVBSi1D8AQOa41OnIPwDgl\\u002f6B1co\\u002fAPC3iJy91j8AgI802CeyPwCgmTXCoM2\\u002fAPAhL0pm2L8AKJHYBCjjvwBQBjSFheS\\u002fADiOczkU4L8AAMgjypbPPwDQ5MJ8z9E\\u002fAODxLEKixj8AYD5w+L\\u002fZvwDA\\u002fHHD0di\\u002fABBSbdv20r8AwEngLzrAvwAABUzFx6g\\u002fAEDuA6hEtz8AAGV\\u002fnbCfPwAAPx\\u002fE0b4\\u002fAMA09xSauz8AwB2C6cfFPwAADPtAG6K\\u002fAAD8bgjQzb8AwABxO\\u002fPVvwDAlOvlZtq\\u002fAACMHCacez8AAK\\u002f1cnqVPwCAsl0vSK+\\u002fAMAMoZVxur8AgF3RSk6tvwCAQbwpkaK\\u002fAICKvjSBob8AgCB5DaWyvwDAtXiCXrg\\u002fAHATlw0\\u002f0T8AACUvbSGxPwAAwJMpFYS\\u002fAIDKR0UUt78AQPQfKQGwvwDAjciQk7S\\u002fAICYLjJfqb8AwGmPeAHCvwCA3XOKCcS\\u002fAAABxlzjrr8AgISqFwmpPwAAW\\u002folf8U\\u002fAIA8OVv3zj8AoEvoDZvOPwBQQgOa5eC\\u002fAHDX\\u002f1T\\u002f478A0MBLRT7ivwDwbOTJvNm\\u002fACBWjcrczL8AAIHAbxO8PwAggSYl888\\u002fAGBquP6+zj8AgBGQ4F\\u002fRPwAQNAEPDtc\\u002fACApOe4t2j8AENmhRizgPwDgL\\u002fd\\u002fFsI\\u002fAFCvBExy0D8AEDVQVoTVPwDAi0w3brY\\u002fAMDL3GYzwj8A4I5UfGLJPwAAjfvV07Y\\u002fAFCzNZhe0r8AAKB1lkC9vwAAPK8sNYI\\u002fAIDvN\\u002fnOx78AUK2S0AjQvwCAEAmQaMg\\u002fACA4L2x50T8AAFx27dWEvwBAFtWA2Li\\u002fAACoUur0cz8AgDosZO+kvwAAZDGozLW\\u002fAEAn62nzu78AAC9ZCjaavwDAIWrJwLA\\u002fAIDvuwqVoL8AgG+875q9PwDgm5BuBM4\\u002fACAlrt03xz8AAO7L+9vNPwCAFTJeIq0\\u002fAOBDic18y78AUM6EVTTWvwCAT8FX3tm\\u002fABDm4fJS2b8AALR9vT+ZvwAAI\\u002fHbYZA\\u002fAEBF\\u002fTWbsr8AAOxcSciavwAAF0s9V5Q\\u002fAAC\\u002f4e7Gsr8AwO9UwyO0vwAAaViwNrK\\u002fAEDSog9MuT8AMLsGaPTQPwCAtmgS\\u002feA\\u002fADDZ38P23T8AsIL+LB\\u002fQPwAAiryDPLU\\u002fAECjEAQivz8AQLKKD8a0PwCApi1YkKq\\u002fAECQxg3Nsb8AAHZMCVfKvwAAnc+ISd2\\u002fAJj78tZl478A4GtftVzdvwCAIn1BlMq\\u002fAMActmka3r8A2Gr9kQ\\u002fivwAooLM9IOG\\u002fAOD+zKby2r8AsIFIuV3TvwDAvGY\\u002fKLS\\u002fAECGdvHUwD8AQCaaU7vKPwDQCbNxhdE\\u002fAJDvGlef0z8AYGOX2NjWPwDwjEp7E98\\u002fAMBb7J1fyD8AIC3HVWjcPwDA\\u002fcbFK9s\\u002fAABdhKRDtj8AgIFQ8RqpPwBg9oJrh8I\\u002fAEBU8FM0yT8AgBD+LgjGPwAADCbCio4\\u002fAABHaHbgpD8AQPHvkbe+vwAgdhO79MC\\u002fAAB5y08Oo78AQCd7suqzvwDAg09\\u002fkbO\\u002fAADGt9sfu78AgFaSOIi\\u002fvwCAhixfSLS\\u002fAKAs6G34xj8A4P2+GMHIPwAANkPlr5i\\u002fAACuOf+crr8AgAPXrbaovwCA9M3oAKY\\u002fAABoA9vvvr8AQL+fY7q+vwAAziKIyqI\\u002fAACeIHAPmz8AACEcFZnFPwAASFmSgco\\u002fAKCinyafyj8AKOm\\u002fDznhPwCQ0dyL1t4\\u002fAMA00wJw2D8AgAX0VynWPwDgOnw9680\\u002fAGASZyv\\u002fxj8AACj2y2yjPwDg7LJ\\u002fPsu\\u002fALB1pwq+2b8AoBdeHG\\u002fbvwDgT44pD9+\\u002fAMCUFkkr3b8AwCn9t1DUPwDgpCDITdQ\\u002fABBolJUm1D8A0FW9lJnaPwDQVNVTCdY\\u002fAADoXAxwvj8AAJR8zvWKvwAA3ABEPXm\\u002fAAAqu9yxsj8AKEM8tNjhPwCwVehJOOE\\u002fAGBq6gDl0z8AQHcCegXLPwCgj+K90cs\\u002fABAls5fU1z8AgF1NRIezPwCgA6KzTM+\\u002fAED9znbj2b8AGNW2JVnivwCAJXKGNeO\\u002fACB+blGQ378A4J6JlKTPPwCQNQsWpdo\\u002fAIC2Zk7Uzz8AYBhT30vQPwCwBs9us9y\\u002fAIDliK\\u002fAxD8AwPhIebrGPwAAOkC3RIk\\u002fAIDw8UZJsT8AAOY8m3+ivwCgq6H0A8e\\u002fAID2c4X4x78AwAXNrnq\\u002fvwAAUHbtCbK\\u002fAACmclTtpr8AAHefURaePwCgfmZG3c8\\u002fAAAkc1Cpvz8A0IMxaQDgvwAI0qhdRuC\\u002fAHDmIRJA278AIAy\\u002f\\u002fnXcvwDQz+FQYtS\\u002fAICacqVXoL8AgAskoinAPwCwgOU5sNA\\u002fACDr4oA10T8AkHJ1\\u002frvSPwDgp6UDYds\\u002fADAupX9H0j8AcNW2jl3ePwAA\\u002fy9OmN8\\u002fAMBJIcX8zT8AAKJxLkupPwCAoDwYtrA\\u002fAMB9vJ98vL8AQP1k7DLBvwAAvNQyzYe\\u002fAIBFinXCvb8AwPw54fzTvwBgoLxJj8I\\u002fAABZmvL9nr8AAMeXILe1PwAAUK4o5HM\\u002fACAfbXFNwb8AAKUc6BnPvwAAOQHvAMG\\u002fAEASNFCftL8AAIqtNVirvwCAKorFbKO\\u002fAOCrZ+ubxD8AYCP7BDPGPwAAG8qvfp8\\u002fAADXLbV+vD8AgMKGTsy4PwAA8hpGprC\\u002fAAAWtRGPsL8AAJdoODeavwAAZFJN7p4\\u002fAIDjyFamvr8AwKBUkJy6vwBAt53ft7A\\u002fAACOLmhPlz8AQGq2KDbHPwAAbBcx+sk\\u002fAMAzXAZGxT8A4H9iirTGPwAAPAddVJQ\\u002fAEATPnyTsj8AAN4FUX+ZPwDgypxeZMG\\u002fAKCisQTeyr8AIIaGB2XDvwDAdU6iFbW\\u002fAICAoYcfq78AgAi51WOjvwCA9HGvhMw\\u002fAGD9csGtyT8A0MlRHwLdvwAAON6tS96\\u002fAFDnGVlH2L8AoNUNpdDcvwBwEvavody\\u002fAOCSBn+Dwb8AgGHKhGWzPwBAbH1io9A\\u002fAKAb6v\\u002feyz8AMGLmvD7RPwBgkr8v39o\\u002fADDq8ro10j8AUOuVKlDYPwDgCHAbOdw\\u002fAJDfSEc+0j8AAHMwLy2pPwAAWKjuloi\\u002fAIDzGl7Wuj8AqKvr0nThPwBAKvMtjOA\\u002fAIDGgb1k0z8AgA52QzDCPwAAKwRhgMc\\u002fAICfrIlAzz8AAHJtanWrPwDAcelzxcm\\u002fADDeZV5H1b8AmLE36VzhvwAAsyD8seS\\u002fAKhGFkC04L8AwK6H7TO4PwAArrHKhsY\\u002fAJDp87Pq0j8A4L0WMMvPPwBAURG4dsM\\u002fAACp6nFpoz8AAHwWF\\u002fCTvwCAfg2e\\u002f6u\\u002fAGDq+ZwMxL8AYLfALbHGvwDAOkvCU8q\\u002fAIAjFVWu078AAAVcwyrWvwAgG6SSZNO\\u002fAMA1IsIYz78AUB0NnxXTPwBg4g8K99A\\u002fACATGiWDyz8AAGPGXqO8PwAAmEK2Zoo\\u002fAICYPdQqqr8AAGWKANG9vwCACrW1SMq\\u002fAKB4xVuZzL8AoOhyZnfNvwAAsHdoVs+\\u002fAPD34zaj0b8A0NXLFlzSvwCAVSyTUM6\\u002fAAAiQJ8VzL8AAMDppk7NvwAAsgEmhsq\\u002fACDolob+zL8AwO6XKKLNvwCgRhh2xMm\\u002fAOBwYoafw78AgNQEw9mnvwAARG3d0Hi\\u002fAACNP8d7nz8AAJeQwOLDPwCgszCjDtQ\\u002fANC6QWz+3D8AAPINlUqmPwCAgpIsFKu\\u002fAIAFu7Ucu78AAF8xlge1vwBAUMYELLu\\u002fAIDARBFit78AAD9T+pzCvwDAwgFrRMq\\u002fAMDfhQGQvb8AAEZ3mMatPwDgTkWBvsI\\u002fAMDCbSiwzT8AsJifZefQPwDQdFGEWdI\\u002fAOB2+6Lp278A0A4WTQjcvwCA1qL4pLg\\u002fABA5p+dO0D8A4I2OhELAPwAALnw\\u002fNaW\\u002fAAAD710HpL8AAIQFMeG1vwAARVNtdsa\\u002fAMAHWkOfyb8AgJ3it7S6vwCAujsoiKY\\u002fAIDtgBciuT8A4BqQW4HKPwDgac1O4MQ\\u002fALC3KJHv2T8AIJncXUHRPwCAuz57o8w\\u002fAGB6hchZyj8AAIkMFD2YvwBw41z\\u002f\\u002f9S\\u002fAPBk2jdT3L8AcP7se1DbvwAgHXxLkNi\\u002fAODqn8Vl278AgHPrAUa0PwAA7pU47om\\u002fAACL3SYDob8AALrL1HutPwAAAzwLqK8\\u002fAEAtx0altD8AgBAMeFvCPwDANL+N\\u002f88\\u002fAKC5OyOszj8A4IDY2cPbvwDwPQc6mNu\\u002fADC\\u002flZ0w2L8AYCHpC7HcvwBgK4KCfdu\\u002fACCqF6LwzL8AANuivbGqPwDg+wqkT80\\u002fACA5oOHUzz8A4IUwxKrPPwAwPov89Nk\\u002fALAkGVa\\u002f1T8AMBz1uebRPwBwywtQA9U\\u002fANCW87ac0T8AwAtyON+\\u002fPwAAjEHwOnS\\u002fAAC4kcLla78AgNRTokW3PwDg4CjxL9I\\u002fAPBO7x8h0T8AQNuVe\\u002fXMPwAAz\\u002fRD278\\u002fAABg2le3nz8AAGH8djCwvwCgvpGROsC\\u002fAIBzY6iwy78AIGKirpjPvwBgFIdY0M2\\u002fAMBonxbfyr8AwFlAi3nPvwDQOVXPa9G\\u002fAOCaSmmQzr8AAHkvYcuYPwAAQ\\u002fYDsLA\\u002fAIBt+L8Sr78AAKQoa4u1vwCAkOxZO6a\\u002fAABLYzBZnL8AgPHjKL2xvwAgbmULssC\\u002fAEAqzbcGtb8AAABLrlUlvwAAtkhda7Q\\u002fAGAi3gjlxz8AoDIpN5bNPwBAyflMusw\\u002fAAAoX8souT8AAHn07EaivwAAzRluhqE\\u002fAKATuZDkxj8A4IxsqtHNPwAgcoaNicw\\u002fAACh8pqqzz8A4IUaNQ3XPwAQmbgD696\\u002fANCseeah5b8AMBhCyCbkvwAQJILgDtq\\u002fAECMMKKB0r8AAJ5BI3KHvwBg\\u002fpdn8dI\\u002fAIBX0nUV0D8AIF2kC2TNPwAgnbILdNU\\u002fAHCfvvOl2T8AMK+1bTPfPwA46pAC5eA\\u002fAIAvo7Kiyj8AANLYZBXPPwBAcvZycbc\\u002fACC\\u002fnwZMxD8AwMeBviHJPwAAXs+NQag\\u002fAIAkdyNuqj8AwEaXVjyzvwCgyeN1nsW\\u002fAKB3sVNGw78AgNs1lDO8vwDAW+6i8LG\\u002fAIA1XtrTob8AoLApB67BPwCg7mrxQ8g\\u002fAICemIoXpD8AgOjxGbvOvwDwZFQOYNe\\u002fALApFLXP278AYPAjzp\\u002fGPwCQTHqkldM\\u002fAICxqHXXoD8AgEEsJUG1vwAAzhU495G\\u002fAADa3qgQiL8AQAu5rP+9vwCgInro38W\\u002fAEBrOPNhsL8AAJ0B3xu3PwAAYMvgR1Y\\u002fAEB\\u002fwZ3muT8AMBqNsIDgPwAYHxD7keA\\u002fAMCqbJj51D8AQEqDQcfAPwCgZ5tg8sA\\u002fAKAAmOnvwT8AALBVviSFPwCgyFIOKce\\u002fAPA950p30L8AEMqiNYzevwB4mRSMxOO\\u002fAGgJbCJX4L8AALz19TrMvwCA8qublLI\\u002fAFCZrJnO078AiMRP9U7ivwDAMSuYveO\\u002fAECrWjx23b8AsA8pHzzUvwBgHuyWQ8O\\u002fAKAM9CFcyT8AAMgKYdLTPwBgrkTj\\u002fco\\u002fAMBz08G1zj8AcDnUDyHaPwCQeq0ixd8\\u002fAPCLpPBj4T8AACqXyHy7PwAAw6SsfK0\\u002fAAArr7LN278AkLuZi4zZvwAANPah58Q\\u002fACCQSWQUxT8AAJjUs01gPwBARO65kbA\\u002fAIBNh6jMqr8AQEFUCn3HvwCgGLea8Ma\\u002fAEBziPA7vb8AwCTaqUexvwAArREzGaW\\u002fAEDtdW1juT8AIBKAKljNPwCAdPlJU7A\\u002fAMB5E\\u002fpWvD8AAIPQ+kW+PwBAsm8osbS\\u002fAICivYzxrb8AABFUtKGkvwCAzcmVyKc\\u002fAIAyQD0GvL8AAIHSjr2+vwCAA2qeXaY\\u002fAADAU6g4mD8AoJmTbTLEPwDgc73D1sk\\u002fAOAl12Ohxj8AcOHDcczePwCwi7bgCdc\\u002fAACcfQzj1T8AYF1\\u002fB+jOPwBg1JLkwsU\\u002fAAACkWg0hr8A0KEvdyDVvwCQoCN3Sty\\u002fABBF9qjD2r8AwJRxbjXevwCQUkjMhNy\\u002fAADApuJDpD8AgK5BcqenPwDAZnz2A88\\u002fAGD84n\\u002fY2T8AINrNvsfXPwAwxwY+nNI\\u002fAHBrmwN81T8A4KnOZNjYvwBgEYXJs9m\\u002fAKDr3Vj51b8AgHOZB97MvwAADr\\u002fdDp+\\u002fAADWBEGlwT8AwLzHAyCxPwAAPic5haE\\u002fAMC+WZd1yj8AQB78avzGPwAAtArjFps\\u002fAIBtdzk2sL8AgMhPLLizvwAAhPK5OoQ\\u002fAAB4qkwGgz8AgGHetK+3vwAAeNQ8iHu\\u002fAAD1CJQclT8AAG7S\\u002fWCKPwBwtIumY9Y\\u002fAAAl9Hiz0T8AgDYV\\u002fuXHPwBAdrn167I\\u002fAAAkTpPpgD8AALh7DJmUvwCA0yiKTLm\\u002fACAQMlNewb8AANYlcZ7GvwCwTzwxDNa\\u002fAND4TsQm278AAHdx3C7YvwDgWhwZIs6\\u002fAMAkLr\\u002fd278AMBapGLTZvwAgAIBfn9m\\u002fANA3pSd+3L8AUI3aNRXYvwDAuW4XocS\\u002fAEAkb1xmtj8AAGa8zEnQPwAAIJ6GX84\\u002fACC35XQ80z8AQF0oT8PUPwBwG14MDNE\\u002fABCN9HE50T8AwMnruRbLPwCADkPydrs\\u002fAACEvySKlL8AAECJH4RmvwDAUYiWP7M\\u002fAFC6iUfC278AgAkRWwLcvwBgn1BB99e\\u002fAPASF7Gz3L8AEKkGjsnbvwBgUwds7cu\\u002fAAD8o37vrD8AgIbAk3zNPwDAfkh+\\u002f88\\u002fAJAG81dT0D8AQCiQrlXaPwDg2kVYwtM\\u002fAPCjgRvS0j8AwBSphMDVPwCAvpzU+tA\\u002fAMB9+W1PtT8AAJxQpT2hvwCAhiWHhKI\\u002fAAAThVv7vT8AQER0olrHvwBA1Bf3Qba\\u002fAIBhabdepr8AYLFEOjvLvwAAY4aVa6c\\u002fAADqCZo3lD8AgFXFGBitPwDAv+S8+rS\\u002fAKDQE2fIx78AwGFh\\u002fvnBvwCAg\\u002fq2dKO\\u002fAABTXerblr8AAF1SSZikvwBAdz\\u002fHaLQ\\u002fABCC+ruj0D8AYIiUyFrAPwAA+sB8faI\\u002fAIDsYDo2wD8AwDNGyUCwPwAAhvKHBaW\\u002fAEDGGbj0sr8AAIBAdMFRPwAA+CzL73K\\u002fAACqkJy0vr8AAPoA4+KvvwAApTTIRqw\\u002fAIDAmaFcrz8AwMB6ig3IPwDgMRYyAsg\\u002fAAApsPZ0xj8AICEtXi3LPwAArbWbMc0\\u002fACCHCHluxj8AQCwlw12xPwDAX5JQH7K\\u002fACBVlN4fy78AwPDg\\u002fCDEvwCAAw+4UMC\\u002fAACBqvbAwr8AQLIoK168vwCg1tG6ZcK\\u002fAGA+abiKx78AYFTYGCbEvwCAeX3A58u\\u002fAHBZBNTR0r8AAGV4BT3VvwAAxMVmXNm\\u002fAJBGJeSH1L8AoE1zWnbFvwBA+DULlb2\\u002fAADXOZItrr8AgMdOX76kPwDAI7ierbM\\u002fAMCAxd1dvD8AMJxGUybVPwBAUvM\\u002fp+A\\u002fAOj4ynhX4D8AkJT4FqXdPwBARvapddc\\u002fAMCKsFSNyD8AgATN37apPwAAgE3ofpQ\\u002fAAB8ykq4iT8AACPBwDm2vwBAO13dTLm\\u002fAAALZH+2yr8AoMqoeyLavwDo7v8+AuK\\u002fAOD3QglY278A4NsmoaHIvwDAorzRl74\\u002fAIAMw02VpT8AEIe37AffPwAAvPkEYNw\\u002fAGCSnW2X0T8AwJ\\u002fI8C23PwCA99LrjKk\\u002fAABUV41Epj8AgP9Kjz2qvwAAVOUxuLe\\u002fACAxGFHYxb8AoBqBSOrXvwCw3leI6uG\\u002fAID866tj378AUJU8C2XQvwAgDtCXwMy\\u002fALAIABNf4L8AqKO2UdDjvwDwkqM0ht+\\u002fADA3f3pB1L8AAF+kDI7GvwAAEIBlAcE\\u002fACCPZuAW1T8AoBcUscLKPwBg96w4E80\\u002fADAbmYyV1z8ACHW\\u002fUa7gPwBYADuimuE\\u002fAEAK2Jf6tz8AAHOCiZegPwCA0Flp388\\u002fABC3ud0D0T8AYCPUePbGPwAAE1Eou7Y\\u002fAAA8gePNor8AADJvqWi5vwBg565GVcm\\u002fAKBz6MB50L8AIAZi2p7NvwCg6JGWqMe\\u002fAOAeEVUMy78AoIKjE1vQvwAgbrj\\u002fTc+\\u002fACAyEhmKyL8A4CYqtn3PvwAgbflWeM6\\u002fACCnCz5Gzb8A4EahTrrNvwCgkHvjzMm\\u002fAKBF5mGNxb8AgH1Xcii3vwAA9HgC2Y6\\u002fAAD7mxv0kz8AQGmPqXu2PwAANTdtgM8\\u002fAGD2qXMb3D8AoNVos0jfPwCQYTJUrdG\\u002fAKCSTTolyL8AwHjPkOm7vwAgE9Wz4s+\\u002fACD2jEA5wj8AgEaS4gmhvwCAkzSsIbk\\u002fAAA3jPkxkb8AAK+ChsDCvwDgg0NBMs2\\u002fAID1NeY5s78AAI9hQsuqvwAAT9dMq5G\\u002fAAD5\\u002fcrEp78A4OWteCvRPwAApP3Qvcs\\u002fAMCzPzdyzr8AcKpZUcDVvwCQcQXRytu\\u002fAADVlpZkxL8AAI\\u002fn8OumvwCAzixSp7g\\u002fAAA+jPUjlr8AYLMicwDCPwDgAb7me+M\\u002fAKi4yv+y4T8AiLDOGRDgPwCwG\\u002fI5Q9E\\u002fAKC4NJnXyT8AAFt7KT3PPwBAvporxtU\\u002fAIDwsLaHor8AwMypY7vTvwCQZIBmbd2\\u002fANgoGwq+4r8AmB+HNobivwBQNT8wIdq\\u002fAMCNta5zsD8A4HTSH7nRPwDAmPRAsdo\\u002fAMD\\u002f6iVjzj8AwEW96lHSPwBgnUmrrNc\\u002fAEA6vFWR0T8A+HvlZgngPwCAOODF39k\\u002fAICkIa2mvj8AAKhQj1ZvPwBA3bnHFLU\\u002fAICyCzrT0D8AINSVtKXQPwDAk+dyIMY\\u002fAMCikWqNsj8AAI458XakvwBA8FsqsLS\\u002fAIBThqjaxr8A4ObbL9vMvwCAmwo\\u002fWs2\\u002fAEAjsdJdzr8AQGm8uTvQvwAgQbfeXtK\\u002fAOCj0b020b8A8GZS1KXSvwCI4v44FeK\\u002fABBR1biR478AIOCbOYzcvwCwTkm4ktO\\u002fAKA\\u002f2xYLwb8A4CfBH9fNPwDAjxE6edI\\u002fAEDPmPGNyj8AAMkQBQ7QPwDQkANQ1tw\\u002fAPAmH03w3z8AAKsLyc7hPwAApVTenLw\\u002fAID9t63Boz8AwDWVXC7EPwAAkA47Psk\\u002fAKAoWbtvwD8AAOMMJvalPwAAdumJBZ2\\u002fACB5+RwBwL8AQHrtCfi\\u002fvwCA9JwHw6m\\u002fAEB7V1gqtr8AgNwMToG1vwCAI2AkE72\\u002fAECNUqvJsr8AgO2xsuOjvwCgwueD1tC\\u002fACAa0Mkq4b8AUAkvf5jjvwAADASAnN2\\u002fALD+0XmU078AACYIOwvDvwDAc62YYMg\\u002fAIDci3Rz0z8AQBZPGXzKPwBgOo1Bpc4\\u002fAGAaCvR72j8AuCKW23vgPwCwZA9f7OE\\u002fAMAtWuGSuT8AwLjBxmTQvwDARuOIXeG\\u002fAIiRdQO\\u002f478AEOraLg7evwCA0to1FtS\\u002fAABpf8CSw78AwFOUk8HIPwCgayXdnNM\\u002fAABFfQ\\u002fOyj8AQGebbhnPPwCwR46LN9s\\u002fAGCdWCjN3z8AKJD75nPhPwCAPgv7Mr4\\u002fAIBlOMgUpT8AAGIdW3zCPwDgs80P5cg\\u002fACC+n+UBwz8AACW3Q3CWPwCATiQ3Q6I\\u002fAIAT7HS7vr8AQNCrRSW\\u002fvwAAAEkChx4\\u002fAAD9t0ZKrb8AAFjf40ewvwBAWCWrjrW\\u002fAABT3NrhnL8AgInUeo6kPwAAKB9Mhdy\\u002fAAAbQenj4L8AYG4umBLgvwAQtI3REtm\\u002fAHDHu3qC1b8AgIH2pfzGvwCA3kgm27M\\u002fACABsXnbyj8AEFm8cyzTPwDgqzIFPdE\\u002fAFBMYCTu1T8AEJG0GC3fPwAg8LWCb9M\\u002fAGA6wL9l1D8AcEJlgCHhPwDAXSqN09Q\\u002fAACyQdv6sD8AAJTZxRCvPwDAHoVldM4\\u002fAKD73y2LzT8AgO\\u002flpiPJPwBA9SXoDsM\\u002fAABQWU13Uj8AID462GXAvwDAn3XMTsi\\u002fAKDhI\\u002fI7wb8AQIgvbum3vwAAE2XvvLq\\u002fAEC4kAULuL8AwGuy5ye+vwCABFHTGKi\\u002fAAAIxLMojT8AAN9TCLSfPwAA\\u002fPyY8HG\\u002fAEAe1+jMs78AwDgx2LaxvwCAhybn2a6\\u002fAAC4zCqUl78AgDW8m129vwDAFGIDtb6\\u002fAAD\\u002fhmnWlr8AgJN99wGjPwBAqk4zBMA\\u002fAIDYwbJzyT8AoCFXt57IPwDwldnMito\\u002fAAD1P+GC0D8A4ELgvZzLPwDw4cDbgtE\\u002fAMCOqkRoyD8AgEUZEVjEPwAAGGjSiGc\\u002fANDd4SSB078AEIQpX8PavwBAIi2\\u002fLOS\\u002fAOAlRv9k5L8AECUn3prXvwBACFQEBMW\\u002fAOAiYc\\u002fkyr8AAL3g0fXSvwDQz+Kx0de\\u002fAHCQU3Zc278AcE7ZIpXTvwDAoEghU8S\\u002fAMBxLf\\u002fju78AAD17ynKgvwAAy0F9yLI\\u002fAIBcsADwtD8A4PRuK5\\u002fCPwCwcEFEbtg\\u002fAMBkjmfz4D8AaBhO1cXgPwCQuLn2qNO\\u002fAEBQI29G0L8AwORGCvrEvwDgUOZAocM\\u002fAACqBk5enL8AAF8DMbm1PwAAqLl7Hmo\\u002fAGDnpXibwb8AAN5eUITPvwAAzBSkZry\\u002fAID9e1cPsb8AAD3IEv2gvwAAXd\\u002fOhqa\\u002fAICOxttgzj8AQNtbipDLPwAwXg3gkdy\\u002fAOAJTJgO3r8AAGOGX9HbvwBgKYNwYNq\\u002fAHC3nT+t3b8A4MYP0arQvwCAvgBlmaK\\u002fAKA7b4yAyD8AQI\\u002fknv3OPwCQhpjYSNA\\u002fABB+mkpc1j8AwItIpHLSPwCgQdIrCt0\\u002fANBJ6AVk2T8AQLiZueTDPwAAHtAp04I\\u002fAICem4vhqD8AoOhFiWzCPwCAzegEE8k\\u002fAABibAHExz8AAIL6ojODPwCAzdl6p7E\\u002fAMDFxNFpvb8AAHLHr7+\\u002fvwAAJLDIDIk\\u002fAIBlQuVmpr8AAClgA0OtvwBAp09UjLi\\u002fAIDUHFTVor8AAOsRLCiuPwBATrbjctm\\u002fAFC\\u002fd1YO2b8AAHtZv87UvwDgGMXReMa\\u002fAABgp4vHjT8AQFwP25i+PwAAHlEmuas\\u002fAABeb1EMpj8AwKx0nK\\u002fGPwAgfvsDyMc\\u002fACCLHLt6yD8AQJYd8UK2PwAA4CHTdUw\\u002fAIBx48qEt78AAFLvTNHBvwCA3273476\\u002fAIBW6+Jst78AgFLiWvi5vwBAZHCJmbu\\u002fAGCWFBgdwb8AAO1lqpi9vwAAd\\u002f75Hbu\\u002fAJCufUPb2r8AgH4rqRzWvwAAb85XLs+\\u002fAIDVXuqBr78AQHFF8em2PwCAKPQvvK2\\u002fAADWffzqur8AMNO8EufQPwCANO5PWLc\\u002fAMC6KPEasr8AAAzWwn2wvwCA3rtkHK2\\u002fAADF6RgNoL8AAGUA5027vwAAyhWkbay\\u002fAADu93calT8AALC2UhJ2vwAADbL1qac\\u002fAKC87T2ewz8AIJtbkaLHPwBAUyx\\u002fjcc\\u002fAIDQzkSMqD8AgBGpa7KuPwCAZtyvxLO\\u002fACCSp8AMwL8AACeW3DClvwCATXE146a\\u002fAAD3wU6irb8AQDlSMSG1vwDAUNUbLbC\\u002fAAAWtCt8hT8AAHgHrNmbvwBQVYRdYti\\u002fAFAYd2Xi2r8AQN+Z3yHavwAA87x87tS\\u002fAIBSWh6uw78AwAqk9y6+PwDAhxwUuMQ\\u002fAMCReSFpvD8AAOnogpHBPwAQR\\u002fPRtNQ\\u002fACDRhrq2xj8AwH27PN+zPwAAoMnUjIq\\u002fAAAzalW5lD8AwA9qgv20PwAAv6Vu77m\\u002fAIBIv+69o78AgBgtmwWwPwCAxt\\u002f5ELK\\u002fAEAOm4KL0L8A4CvJtVfIvwBAIJW\\u002fw7i\\u002fAGA4RpBozb8AgM5VoO+wPwAAuM78C4o\\u002fAABbq284sz8AwKhhgoyzvwCALSRjuse\\u002fAKBzPI2EyL8AwGLiMNiwvwAA+N4EkqW\\u002fAAA3iagFoL8AgApJNuCqPwAARHpGtdE\\u002fAIBAs6z8wT8AwJWxpEzHPwDwPMesp9E\\u002fAADbP7+aqz8AgDGnYzilvwCAzV2FbbS\\u002fAAAXRmoFrL8AAOdat4CovwBAhqBsb76\\u002fAABjicqMl78AAJ\\u002f\\u002fb1WhPwBAbBUKnbY\\u002fAMDxrWZAyD8A4PDc\\u002fTHGPwCAqbi8nMY\\u002fAGj7vmfr4T8AkKnAdFrhPwDwlT+VAtQ\\u002fAMBB377zyj8AoD31uzTMPwAg2C1NX9M\\u002fAAD4TBKItT8AcOdTWGrQvwDwmU7uK9q\\u002fANi4eBL94r8A4NCdfiDjvwCQRzkCD9y\\u002fAABDMAMIpz8AQFMgaxe7PwBALhkEldU\\u002fADAAVDVg2D8AMBTGCW\\u002fTPwDg\\u002fHB0ItE\\u002fAPBqoKIQ2D8AQGDOs8G+PwCQpUpzO9E\\u002fAMAItFnquD8AgAIUjD+mvwAAnQSIUbG\\u002fAMBmWBb\\u002fvb8AYMgrVgvBvwCA3J+9gcC\\u002fAIC9KKfCrL8AAHznzsVwvwBA6980+7U\\u002fAACeA3TpyD8AoB87YOTFPwAgb3hhzcY\\u002fAOAgjSzxxz8AAGG96HbEPwAAQO\\u002f9Gls\\u002fAIDIYStap78AQAg9CVC+vwAAcnUwebO\\u002fAADXtOifnT8AwGygJwWyvwAA8fKsC6q\\u002fAMBUnOKjsb8AALFxneWxPwCA9jiQEqs\\u002fANDcgAjJ2b8A0KeusWXZvwBwNooWkdu\\u002fAKC92pk62L8AsJgb0wzQvwAA4JTA63k\\u002fAICAc+q4zD8AQEmV5rLCPwCA4QX8IsI\\u002fAAAUQ2XUkz8AAIIGRfOvPwAA6GhGoKq\\u002fAIAOl54+qL8AAMX0pl+lPwAAfMAuEKi\\u002fALBSQ8T11D8AAHlkhFTMPwCADv8SEcs\\u002fAOChIlLxyT8AIEAlcrzAvwDAYEgIfNS\\u002fAIB7Y3mA2b8AICX+YGbavwBAcOiYFrG\\u002fAABGlLGBrj8AAGp+Eu\\u002fcvwCIaicyJ+G\\u002fACiebq1W4L8A8K+V07XZvwBgXFZgWda\\u002fAICHu3PbyL8AwBqQ0+qwPwAAKTvb2sk\\u002fALCugxg80j8AgIUH2QrRPwCQAh7urtQ\\u002fAMBpwmJS3j8AoLU6tYDNPwDgiZ4hd+E\\u002fANCUe1v\\u002f2j8AAP50u5y0PwAAsXu03qQ\\u002fAADe7Qi3lz8AAIBQBylGPwAAkFDRPsA\\u002fAAAyy8Ir0D8AcBnuhGLQPwAAUOmWPdA\\u002fAKBryWez1D8AoP2Kw+\\u002fgvwD40RMtFeW\\u002fANDl+9r24r8AUAvaUGvZvwCAJtYQgM+\\u002fAID10g61tz8AIK+r9H7RPwDAlk8IL84\\u002fAADPUf6m0D8AsBDLuSTXPwBAhKAggtk\\u002fADABzFUV4D8AACZA0aG7PwAAJRBfrss\\u002fAPB+uXWv0T8AAKeQfi65PwAwEq1vFeE\\u002fANDan9UZ3D8AAE6KIbXYPwBgZex8udE\\u002fAGCx4MFOzT8AgHa\\u002f8\\u002fXEPwBACSywUbW\\u002fAAB1pSXf1L8AQAjBVdjYvwDgHS3Tc96\\u002fAKAxwgk43r8AAE3rVB+iPwDAY07t2rM\\u002fAHB8N3Xc2D8AQFSXvHrfPwCQ2fQgD9Y\\u002fAPCvSUAI0z8AcC+ZJzfVPwCAWdRCN94\\u002fANAIMoQ60D8AgP+xK9DOPwCgTNpWVt8\\u002fADB5LWEL1D8AwBvucZ+wPwBAxnUIrOA\\u002fAJAMT1LC2z8AIIz\\u002f2NPTPwAwuS3OcdM\\u002fAGA5d+ZFzz8AAGkE5DGpPwDgipjzWMq\\u002fAMCCl8mv3b8AEGZD+2DavwDg6EhOyNm\\u002fAKDsnkRU3L8AcIxPmNHTPwBA43v53ME\\u002fAICVJ\\u002fO1pz8AAKAetcqpvwAAcFDMEnI\\u002fAEAq+O0Auj8AACpwf\\u002fe6vwAAE8GBjqK\\u002fAABxy+UZrj8AgHqFozOqvwAA7Nsd0ZI\\u002fAAAM9YxVc78AgDDP27i1vwCAUC8e+Ko\\u002fAIC3Yga\\u002foz8AAADCKzCvvwAAjUVla5Y\\u002fAMB8bIyKvj8A0Ks2tXjTPwBA5U8xNdW\\u002fAMD9l\\u002f3azb8A4Iggv+7GvwAA6JVK6r4\\u002fAAC8JkjSi78AQF8y53W2PwAA1gzdR6a\\u002fAEAYD50Mxr8AwMOhGK\\u002fNvwBAbN+WALe\\u002fAAD\\u002f0p9mrL8AAENMfD2mvwCA9xHsxqc\\u002fACBI8tSy0T8AwM8KeI2+PwCAdEv1ubk\\u002fAMBGlyul0D8AYF\\u002fn2DrAPwCAQxIUPam\\u002fAACVNH\\u002f+qb8AQD5wMbi4vwAAOOnb0MW\\u002fAMAzFafyxb8AgMO49seyvwAAei9P8J4\\u002fAMDRFbVkuD8A4ND2RlPKPwDgbBa4zMc\\u002fAIAYtXOVpT8AAAZlvkavvwAA5MLE730\\u002fAIABqgavqD8AgERYTJKhPwCAl33z+7Q\\u002fAKDc8MAxwj8AMFCRKN3SPwBwYl1Mqti\\u002fALAJJZLR2r8AUMKXo1bavwAwVbooHNW\\u002fAIChQmn9w78AgA16nVS\\u002fPwBgX8QrLcU\\u002fAMDh6EZHvT8AoJelzfrBPwAgqGzU8NA\\u002fACCnzEdcwj8AAJKSewWpPwAARHI7z3+\\u002fAADfkplptT8AACB02a6EvwAAzYv71rC\\u002fAAAhekQMkz8AAIvjS86VvwDgxJL+V9Q\\u002fAMDS+yfdzz8A4O9cJwXFPwCATK9OOqc\\u002fAACc2V\\u002fCeb8AgLDOCe+ivwCAqosra8G\\u002fAIDU5fDSwr8AIESnMhrLvwDQFJKOw9i\\u002fALD+apxP278AsBtQ\\u002fBDWvwCgEkunvMi\\u002fAKBnmjsuxD8AAB5yowy2PwCAOijvV7w\\u002fAMCdZ4dCsj8AAODl8mu\\u002fvwDQHe8JW9K\\u002fAJABo\\u002fvg2L8AAIZgf66MPwAAdYl0f5g\\u002fAAAYNY9bb78AgKunnk+2vwCAAOTa0ra\\u002fAICXYOX3qr8AAEA0m4tcvwAAL\\u002fsC6bO\\u002fAABmlO\\u002fKib8AgDT6juLPPwBgeWiE\\u002fMk\\u002fAJCORHhJ1L8AoG8V5\\u002ffCvwBAsY1PILG\\u002fAGAptWs80b8AoF+J1kjMPwBAVGFtzck\\u002fAAAGK3Cjob8AgP1T14axvwAA\\u002fCAVGH+\\u002fAACOe2Imp78AwFMtxt24vwCA7rCkIrq\\u002fAAC6SdwZk78AwE9fGA6yPwAAMLFDo2G\\u002fAACKeOLVwT8AwOd5WU\\u002fPPwCg0FYik9A\\u002fAGBmqSezxD8AQOciUA+yPwAA96Tvi66\\u002fAMB2kRFtvb8AAIesj2qzPwDgFYCN38g\\u002fAOAtAKhsxz8AgOY11qLNvwC4k2uVLOC\\u002fAOizC4KL478AAJbRrIfevwBQGOZ8eNO\\u002fAICkC3sqxb8AgJUgK63CPwBAVzJLktQ\\u002fACDWNUKJyj8AALnQ66\\u002fNPwAg6ekzvNg\\u002fADhEVy2G4D8ACFzFSqzhPwAAFEyc0dG\\u002fAACSTr7b4b8AqHLEXhblvwBwuzmhG+G\\u002fAPAoEVFR178AIKB4Hb\\u002fGvwAgwN7uQsg\\u002fAODMwmUO1D8AQDFa\\u002f0vNPwAwPIDETdI\\u002fAKA5l5R62D8AYBCJ5XTcPwBoMjUve+A\\u002fAAAik+\\u002feyT8AwIWFqZbSPwAAbG01t4A\\u002fAADJAYj7qL8AgGWDqqi3vwAATS11j54\\u002fAEC33pwvtL8AgCYGs76+vwAAIwuPwpg\\u002fAIC0++EboD8AQNZwDwPCPwAAqdidp8k\\u002fAGA+ri3HyD8AKBwA73DgPwDwHo6VBtk\\u002fAOAQWQ+r0T8AkKekKB\\u002fSPwAgItNm\\u002fco\\u002fAAAs1CT6pb8AoIwa9AzVvwBQOwxFNd2\\u002fAJAzyOQn2b8AwOnnLkTavwCQ6l11bNu\\u002fAAAA8valnD8AAJJAQrqOvwAAfwfpubs\\u002fAMD82t5+yD8AAJV+6yDJPwDgUxlUxs4\\u002fAHAOGUVr0z8AsK2+ULfavwDwhB0ct9O\\u002fACBnRSjJyb8AANxGpxmSvwAA9Buy13u\\u002fACC9IqRayb8AQBqyZS3IPwAgkthbkdA\\u002fAADKLs\\u002fRmb8AwBmrE8C4vwAA65hYs5a\\u002fAIBslSL6rb8AwAqBoLuzvwBAP6lSzLa\\u002fAAA6lQ1giL8AgN9LvAShPwAAqm\\u002fgZ4e\\u002fACCZWYhdyD8AgPBb4lHKPwDAG9FRS8U\\u002fAABPCuvMkz8AAM+hmp2uvwBgbZ\\u002ftysW\\u002fAGCdpBZtwr8AgKtFQPi6vwBAGtcbbL+\\u002fAEBNEhjyu78AQK6J8gHCvwAAdmiaocW\\u002fAKAZwSXQwr8AEBC91LvQPwAwC6iIA9g\\u002fAECOM5oN2z8A+C4OBVPgPwBgQL1UHMc\\u002fAEB5A6qhyj8AgJ723rW2PwCASkEfmaA\\u002fAICAH4DRsD8AAOD3zEK3PwBAEtaBq7a\\u002fAFDzsQwI0b8AcDlaAdPWvwAADcuG5pE\\u002fAACKgNU0hT8AACA8GWxbvwDAZp7yBbS\\u002fAIDnTV4tuL8AgGxMA6ikvwAAqV4bK5G\\u002fAAAHJL7hrr8AANZg9YaLvwAA6ElncM0\\u002fAIA5BQ6vzD8AAHYEl+vFvwCAoM0ygc2\\u002fACDUdtv7zL8AQAZeYwTMvwAgV3A0Qc6\\u002fAMBL6fmsyr8AgEHMRAHGvwCAplC6ILm\\u002fAACOLvn8j78AAJGTtsqTPwDACKgo6bU\\u002fAIBL5G6e0D8AoIZfYdfdPwDwzmuGZd8\\u002fACBzCqlm4D8AoEiIbvHbPwDAgM39xNQ\\u002fALC0Ycz21D8AIJOqlzjNPwCA860\\u002fprM\\u002fAAAzzsS5yb8AoDz\\u002fKbHdvwBQCs+Q1Nm\\u002fAIDai74y278AkCe+TmLcvwCASyGNTaU\\u002fAABWms0Kjj8AoFjp1x7CPwCAfeoCuNQ\\u002fAAAvd5D01D8AIPDJ7x7RPwAQiXvYdNU\\u002fAACvV6W2vz8AYOyPXgrBPwAAaKyZYq2\\u002fAIB8JyXur78AAGBIqIefvwAAFeGp8p4\\u002fAIAPC8eqvr8AAAjxOkC4vwAAuHcF9Kw\\u002fAICO6UHUpT8AAE5AmqbHPwBgaMxAEsk\\u002fAMDzd9CSyD8ACNiSH+ngPwA4JgDEQOA\\u002fAMCeqgQ\\u002f0T8AAN+Zj2y4PwDgIYgPFcM\\u002fAEDsWWQiwz8AAJkUsnKdvwDAQiXfB8m\\u002fACDXAAAB078AKB7YVKrhvwAow2YQgOS\\u002fAOCH\\u002f01Z3b8AQGrt70+9PwBgepiR4MY\\u002fAOCospLG0j8AAC9FwNmVvwAAD6dQ4qm\\u002fAICpKPEVtr8AAMuJLeKevwCgdhVsT8C\\u002fAIBP8t8uv78AAE4hp3yYvwAAiDrJQWW\\u002fAMCRvVCsyD8AADq+\\u002f6\\u002fIPwBAlw8GMsI\\u002fAEAuimNHvD8AAOg2llaHPwAAQEYl5Fi\\u002fAAAlXaJ4tb8AgDhDLtmgPwAA5Bw1GHg\\u002fAIBCgVVzsr8AgFp7vf+7vwAAKGG3Npu\\u002fACDJZW5Oyz8AwBrTgR3LPwAwGW0\\u002fvNu\\u002fAHDWDrr3178AAMIHbRbcvwBwI3NGpNq\\u002fAJDIFICW0r8AgH4FUJetvwAQcGpm+NE\\u002fAMA8Kfdexj8AYLNKkSTIPwCwZ3emsNc\\u002fAAAUsFhgzz8AAPErXarGPwCA0fEI57w\\u002fAEDw3gkesj8AABgx01x5vwCAvQkUL7K\\u002fAAAGNKXShj8AADVsxMWfPwAgrK48XsY\\u002fAED3T5LpyD8AwCj3XGe5PwAArMs6zIc\\u002fAADo91EXm78AwIRAari+vwCAxWK\\u002ffqG\\u002fAABUfH3PjT8AADvttHykvwAAtyELyba\\u002fAIDY\\u002fgdNsr8AgAnafV6wPwAATJ0hYns\\u002fAMAwZthMyD8AkN\\u002f7wZTRPwAAoFW9G4Q\\u002fAIDqQViypL8AQKNAFsmwvwDA4NiAgsC\\u002fACDXM6xhxr8AAA6KNzfCvwAAYO6zJ1e\\u002fAAAPSeLomz8AQJ1aw+LHPwCA4MdJL8g\\u002fAGDhPMNPxD8AAFU9cQWaPwCAiCj5WKU\\u002fAAAg6MCJtL8AwDA7bAOyvwCAi6dEwLK\\u002fAICJ7SSLq78A4M1Cm7rAvwBg6kPOn8O\\u002fAMAdZD5Yt78AgGkamjuiPwDAWSoqT8Q\\u002fAKCLq9\\u002fSzj8AwEr+C0vQPwDwJqtLOtI\\u002fAFBpOOlN0j8AsOw5SSLQPwBg9ZjIa8Q\\u002fAIAcllZ0pj8AAJvU5q+UvwAAFgPh3qu\\u002fAMDx6MgaxL8AYDFxhrrFvwCgLVDfssu\\u002fAFDS1WAi1r8AkLPqiuPYvwDQudpuHNS\\u002fAOBMNgOzyb8AQO5QdXOxvwCguGNL5sO\\u002fACBC2ZWcwb8AgKYEm+e8vwCAmhNrC8m\\u002fAECkajDHzr8AgPJ+gMrKvwDAlN9O6Le\\u002fAIDAKQo4pL8AAHP63BapPwBgspB9icM\\u002fAKAjDD1ezz8AEMnQgGjVPwBwhntBhNA\\u002fADBKltS90D8AoLFvFiTGPwAABRF0o7I\\u002fAIDquMMXpb8AwJ8eedW0vwAgHBprJce\\u002fAOC+g0sAzL8AIFKn6d7MvwAAv653us+\\u002fAED1PZMm0r8A8IkZxOjSvwBATfEFO8+\\u002fAAAedkFzsT8AgD3llLmpvwCACZc6YLW\\u002fAIB3TEcasr8AQHhHVX6zvwBAdUCAP7q\\u002fAOCB+o3gwr8AgAJLaoXFvwAAz+Anw6a\\u002fAECiT0HBvz8AYCRhSDvJPwAAHiXaK9E\\u002fABAuQyzf0D8AwDLpDkfDPwAg15gphMg\\u002fAMBcM6dFwD8AAGPKAiGePwAAELXllok\\u002fAAChmmu6vr8AAF+iL4O8vwAAol238Ii\\u002fAEAY3IQBsL8AwG2wpdCxvwBAIXu1Dre\\u002fAIDFcU69ob8AAEBGhc02PwBA6C8XNsg\\u002fAIColLU+0j8AAEjkBieKvwAARAPhmZW\\u002fAADsxDwSqb8AgODLPf+1vwBA40\\u002frrc2\\u002fAEBHpsDrw78AAPLANI6BPwDA+LoVfLI\\u002fACAzy4SRyT8AQGdkuzLEPwDAm9U5dcY\\u002fAAAuVe4ktL8AAKxrhPyrPwAAH+LhNKa\\u002fAACU3PSLuL8AgNGQ5IilPwCAiKh3drC\\u002fAIDAoIC\\u002fqL8AQAkituy7vwAA1rQBE5M\\u002fAGAM7cok0z8AQMAeaqPEPwDw8b9s4ty\\u002fAFCYwbVp3r8A0FWoDHXbvwBACnwMBtu\\u002fAOBki1PV3b8AoIOET+jLvwAAKAMRLnO\\u002fACCDmeJIyz8A4JHAP6rMPwDQPzwKIdE\\u002fAODfNIU32D8AIEkLGtDRPwAA0FB4Itw\\u002fANB3gWdF3D8AgO8mBM7NPwAAXooWBp8\\u002fAABdKZYLlj8A4AYWEk3CPwBAl0v6M98\\u002fAJBJfcre4D8A0K3L9E3YPwDgmBIfs8M\\u002fAMD4GSIhuT8AwPDfRrjBPwCAwN5HRqY\\u002fACAaoHjfwb8AAKYKgqrMvwCwbVgq5Nq\\u002fADDM2nxg478AKIJop+PhvwCwmxdNUdO\\u002fAMBXd+bGuT8AoBd\\u002fDlfQvwCILTytF+C\\u002fAKgxxw8L4b8AULQ2Dy\\u002fWvwBAL0iBc8K\\u002fAADzFMXNwL8AgJF03eiqPwDg5SrBD8Q\\u002fAEA9+3MAwj8AwHFhDXjLPwDAzsetQts\\u002fAHAWfuqN4T8AENSfX5LiPwDA84Vh08w\\u002fAIC4tWKG0D8A4GcfkGXHPwBAn9m5Xbs\\u002fAECQH2BzsL8A4ANFhjPFvwDAKgslpMi\\u002fAODpbVolzr8AYBFTyZnMvwBgxVFwP8K\\u002fAEDHuvAcyL8AwDP0No3PvwBgOiN+as2\\u002fAGCQT76Kwz8AAKtCQc\\u002fHPwCAN3PD28c\\u002fAIDDe3P4qj8AgORf9RigPwDAOdbUybW\\u002fAEAce2hPwb8AwBLYEfewvwBAMpr3+rO\\u002fAIAbELp1tL8AQBuPkiO7vwDAoxVss76\\u002fAIB9P53Drb8A4D7bz+vLvwCA3JefdtG\\u002fAECyX+2y0b8AoJ48cn\\u002fSvwDg0rwsENK\\u002fAABciotjxL8AgH8E5avBvwAAGUcVtqu\\u002fAADSFLN7gz8AAOxnuEWdPwDA1rWRMMA\\u002fAACN5ANP1z8AoPdgP\\u002fPgPwBQ9zPviN8\\u002fAKDdp+iQzb8AIAsxPk\\u002fTvwBAy+rxrte\\u002fAAA6RV\\u002fb2b8AUJFwSdfQvwAAZd+dtcC\\u002fAEDIL79dvb8AAOItbGKBPwDAmeCCT7c\\u002fAMAm69JCsD8A4I+FYD7IPwBAMaXcTN0\\u002fAPjqs81l4T8AiL1YR4vhPwBAkWYrr8M\\u002fAOC6Bo4JyT8AoPjrqkXAPwCALrX7RqY\\u002fAAAzfAjznb8A4I+IXh\\u002fAvwBAeMmDHb+\\u002fAIDHpAJgrb8AABJCiji3vwAA3THS2Le\\u002fAMBzjNxTv78AgDwuvOC2vwAAdgdCzLO\\u002fAMDRzBLW4L8AgM9cNePhvwAgFotLFOC\\u002fAIDVfI+r178AwCPeU5LKvwAAV+eiQKe\\u002fAOAPlJhZwD8AQHDaX8bMPwCwESN\\u002f09Q\\u002fANBaXlKa0j8AIJ6obKrYPwAgy0f\\u002faOA\\u002fACDnl9WMyD8A0GZ+5wDYPwDA5aB\\u002fv90\\u002fAMAiRyo4wz8AgBHm7waoPwCgV2QLK+E\\u002fANCMM3Rj3D8AgGjOs0LKPwAAZnyh9qk\\u002fAKC5OUXkwT8AgHkku6O5PwDAtDEVqbS\\u002fAAD5giXlwb8AsAV8zQHUvwCAxjG\\u002fO+K\\u002fAHhAc+m8478A8Jt2pNnYvwCgybPrNcY\\u002fABCaEURx0j8AAIjdU+h7PwAA5+BSJZ+\\u002fAAD\\u002f2slHpr8AAFkW0k20vwBgQiD2DM6\\u002fAKCIIfPbxL8AAGSM3md6vwBA7siV\\u002frE\\u002fAIDD7a5Vxj8AgAuZLLXEPwBAta2k+cY\\u002fAKAhJpUn3j8AwDYvMebSPwDAPaHzlc4\\u002fAGA2B0\\u002fkzj8AgDjLGdeoPwDg8KRZTtG\\u002fAFDmDW5e278AQGn5RRbcvwCw5PHzEdi\\u002fAMB9Af5i2r8AwMsED1q8PwAAkE4MaZw\\u002fAIC2UvkJs78AAK6\\u002fqZeSPwAA5y5DZ6Y\\u002fAAD8OFgBcr8AAPCcOpmpPwDA9APD37g\\u002fAJBCqX8q0j8AAAFvtUmuvwAgd6wRxcK\\u002fAEBArjyOwb8AAN\\u002f\\u002fDGC9vwCAArQEr8a\\u002fAGD0beISzb8AgNM2M3nLvwCAZrukyby\\u002fAIBhL9C7p78AAD49ObOdPwCgw+YKm8A\\u002fAABqDBwuzT8AEAwNojTUPwDgb4url9k\\u002fAECd5muFwj8AwD9UMnPAPwBg1KePuMg\\u002fAABzo90Dsb8AMGLVDHfRvwAwzdn6cte\\u002fAFDF3B2q2r8AAAH1+COhvwCA14xxaqg\\u002fAIDlwgX8oL8AAI3CA8O8vwAA9QT4EqO\\u002fAIDdoDRNp78AAMLutEKCvwDAEIG3Abe\\u002fAAC5dfycqz8AsOI7RFTSPwBg+Cr+PMM\\u002fAIAck\\u002fyWzL8AgP6ek7bRvwAweEBCv9G\\u002fAGCpAawP078AsP4iZKzRvwDgT6iHmsO\\u002fAECnEpVowb8AAEKDSu2nvwAAnTvocpA\\u002fAABXxDv5oz8AIKbaT6HBPwAQEfLnjtg\\u002fAEiUNeoL4T8AwF0RFhHgPwDQH7poNtQ\\u002fAGD4ooVVyz8AwCUswGDMPwAA99fR7sE\\u002fAMArNMYsxr8A0AReWmDVvwAgX8GThtm\\u002fAIDOAx9k2b8AAMoON1ybPwAAKNKGd5S\\u002fAMB\\u002fBP0Yub8AAOtrNeygPwCAH4dk6aG\\u002fAACRcQIcqb8AAP+IeX+7vwAAFsG+aJC\\u002fAAABTslz0j8AQEDbmfjGPwDA66od\\u002f82\\u002fAEDZtbWh0b8AEEgSAx\\u002fRvwDgrIMsk9G\\u002fAOCIK9BGzb8AgPWh5rbDvwDgEZZxgsK\\u002fAABztTh5l78AAH6PgciRPwAAsHJuxZI\\u002fACBuoNzlxT8AAAsoK4LbPwAIvxd\\u002fauE\\u002fADAAlswE3j8AEHhb\\u002f43SPwBADs9wWs4\\u002fAOB5Cugmzz8AgGI7JgWkPwCgWwSNRtK\\u002fALDfV0jA278AcCMWKAbcvwCQCFbuR9i\\u002fAMDxIS7Muz8AALc+pyCRPwAAdFybGra\\u002fAIBRp6GEoD8AAHuueEacPwAAIEbJul+\\u002fAABvtp8xrT8AwNzf266+PwDgVUl4hdA\\u002fACCMt4eLyb8A4PYN87PNvwAg5uNvVsq\\u002fAMDTOW6myr8AAEQZxcbMvwAgfMth88i\\u002fAOAl4WJCxL8AADTrvMikvwAAUGY2\\u002fls\\u002fAABcdDcjlz8AAIqIbrPEPwBQoPuoedg\\u002fAFAug3Yd4T8AcLtKGTvgPwDATL32gNk\\u002fAEBrTZkq1D8A4Oe3+3XSPwDgTGiUVMo\\u002fAAAwa5Lzij8AoOLcmXnVvwDw\\u002f\\u002fWTJd2\\u002fAGDNRijU178AoLSkgindvwBwT78qVNu\\u002fAADgFK01Xz8AAHGGscWkPwAAAYR0c8w\\u002fAJANOaAM1D8AYE+bx1LSPwBAzRIRi9A\\u002fACBno2TF2D8AODdf1SHiPwAwTp7znOE\\u002fAMBZNT9+3j8AAAox8LDQPwBASmvtrsU\\u002fANCMsa1d0D8A8OHbgZPRPwCAPxNHPry\\u002fACApR\\u002fHs1L8A4Ny6Ut7fvwAYU65DreO\\u002fAFhaoobv4b8AAPAXnTfNPwAwCqKJ1dI\\u002fAKBkKt2Yxz8AAHrVcgKHPwBA0lUTMsE\\u002fAMBB+AYktz8AgIeN+HenvwDAm8k1WrK\\u002fAABg4uawQr8AAJg6iFBovwDA3gGvtL6\\u002fAAAHQW6brb8AALmJL2GqPwAAnJAKQbQ\\u002fAEAbUeljyD8A4BNZ65fJPwAgK1PNFcs\\u002fALAPbhE30T8AwKSUOcXOPwBAgEiiTcE\\u002fAACBylyTlT8AAHj5ICqgvwDAvh3wNLa\\u002fAGBNedbMxb8AYPIvUwPHvwBg33rcSNK\\u002fADADxhcr178AIPjCw8\\u002fWvwCAKHenqNG\\u002fAIBRxhkbuD8A4CfIRlfPPwBAR4vXY7Y\\u002fAIAxlO4Vpb8AAI4gvoC1vwAA\\u002fJYHtZK\\u002fAMBmwr0GsL8AAFsOY5e+vwAATDVU74u\\u002fAAC5gcVEkz8AYL3ZYnnAPwCgZQfH0sg\\u002fAADg0oUSwz8AAJp\\u002fTi6cvwAAU66GlZE\\u002fAAAEfbSBoz8AYEKsMdrAvwCAjFiM7dK\\u002fAIDht86rzz8AYJR3NAzPPwCAEIw9zME\\u002fAIAXhjG4pz8AQCWtAMqxvwAAzb94UMG\\u002fAIAMDz2IzL8AwJOX8fbPvwCg\\u002fBpzTM6\\u002fAKD7W4Ndzb8AMKfWFWbRvwAgPJ+QztG\\u002fAADMmLh1kj8AgDxrC8vJPwDgELfegsI\\u002fAICf1tLqoL8AQGqzYcmyvwAA\\u002f1lzUJ2\\u002fAACsRCYmlr8AwNePIYu+vwCAyd7cCKG\\u002fAADG28i+oz8AQGQr9WW3PwCgKxWOg8g\\u002fAGB8PeqJxT8AQHSrY4vGPwBgNCUQ1sc\\u002fAMArGBNUyT8AgKr02Ka\\u002fPwAA\\u002fKulOoC\\u002fAAB36IaxuL8AIJdTvOTDvwDAIB0NlcC\\u002fAID5+Yo7v78AwE\\u002flmKW9vwAAW5iVLsC\\u002fAAB0q8qgxL8AwMt1YafGvwAAPLwhBcI\\u002fANAL1YqN0T8AAObE0KigPwAA0fFBTqe\\u002fAECkH6Ketb8AAJpt14KgvwDAgMIxGby\\u002fAMB0YbF\\u002fvr8AAJGrdniRvwAA0PtJa28\\u002fAGDpCwXpxT8AQMEp+RfJPwAAmwOUMME\\u002fACBN7OxxxT8AoCF2qJzHPwBgxiercsk\\u002fAACwUJ+hcL8AAGC2fRRsPwDA0je1ub6\\u002fAAAO7aJzub8AgEA2la+kPwAAgaCkrZq\\u002fAIAROUSysL8AwMJP5Mm6vwAAoQ+YXpo\\u002fAABkBgAvpD8A4KlZOXvQPwAg6BdRh8c\\u002fAAABwiTvor8AAN0SgQSfvwCAqfucwbS\\u002fAMApZQmoxr8AQAcIxfjIvwDA8BofJLW\\u002fAAA4oR8Upz8AAGkd52m+PwDgIXOYE8o\\u002fAEDn0BG1xz8A0Pshof7TvwDg+zykvcy\\u002fAOBZDdiqxr8AAEjGJS22PwAAdB1xSII\\u002fAMBIfcqwtD8AABogw\\u002fayvwCgplKawsi\\u002fAKAJTD3nyb8AwGUBBF+4vwCAzjQsGay\\u002fAICQX3cRp78AgK0BTZDBPwBgQCPnFc0\\u002fAACqOQV7oD8AwIxP6a\\u002fBPwCQYMdAlNE\\u002fAIBH9VPwtj8AQAkno7OwvwAAAb3VRpW\\u002fAABEZi7slb8AQNqGdPHDvwCgtj6OhcW\\u002fAIB8Ql1npL8AAHjdxPK1PwAA0FUB65m\\u002fAAB+FQbLxj8AACmpfSGjPwAA4RQQSqA\\u002fAIAgd\\u002fBKqT8AADBuLMG4vwBgOK+Gw8q\\u002fAAAU905Xw78AwOO\\u002fhCKxvwAAMgTK5KK\\u002fAIBW0QTpqL8A4EEHba7GPwAAnYXku80\\u002fAICT9leQpT8AoJ2hRxDIPwCAGCCA8LQ\\u002fAIAXKuOgpL8AwEYaTyS1vwAAsTuYApE\\u002fAABbB8qjqr8AwMsF7by+vwAAvOyKRXg\\u002fAIBsF9UooD8AIAC2KEfBPwBAFYuSfck\\u002fAGCEkdTVxj8AgCS094nEPwCgY80KK8s\\u002fAACoSGLVqD8AADxEmFB8vwBAHkNX17u\\u002fAIDSFq9mvL8AACYjRW+iPwDAIOWyObC\\u002fAACmLLKgrb8AgBSMJf67vwCAaORzIbA\\u002fAIDBAKTwrz8AANfip7mrvwBABlDqFLu\\u002fACBhKDLtwb8AAFGo7Hq\\u002fvwAArQk5QsK\\u002fAOAzZD4xy78A4Pk3pHjNvwAA2IKIs8G\\u002fAAB4qSKprL8AAJALeUB0PwCA+6fvr7s\\u002fAEDBmjspyz8AIALAytXTPwCQUoZFm9o\\u002fAKDa6sIHxT8AYFtsMGLIPwCAo\\u002fwSz7c\\u002fAADOfIrLqT8AAMqNIX6nvwCAI0gDfMC\\u002fAIB4mhaIuL8AgN2NRCivvwAAq2oUzbW\\u002fAED4bQimub8AAHgf7zHAvwBAQ4ERxbK\\u002fAGCkq7mpzL8AcNqAb4DZvwCYSvi7UuC\\u002fAPDw\\u002fdwF2b8AgCcw4d7IvwCAet9CqLK\\u002fAABQTMHXh78AoOkgua3APwBglKlCeME\\u002fAGCcpJlCxj8A8APeqt3YPwDw\\u002f1m8RuE\\u002fAABiOyuA4j8AgPPkrF3NPwBAnxO1ls0\\u002fAMBQ37JuxD8AgPUb5gysPwAAWBf+Zba\\u002fACCUszDjyb8AYEUav7PLvwDA9S0EC86\\u002fAGAkICIuyb8A4G10vbHFvwCARmRtrcu\\u002fACBt3uHdz78AgGdpZ4zKvwDgLwZGDd6\\u002fAHA3pCWA5L8AaP4Vd\\u002ffivwDgPCz1stu\\u002fAFD0rdGz0b8AACGKiTOcPwBgKkOSwsc\\u002fAOChES0LzD8AMIej49TRPwCA7gACDtQ\\u002fAAC3wxXf1z8AkKiIlMTfPwCguHZcLsw\\u002fABAeQIdz2D8AwKYoDu\\u002fKPwAAMZDy7aU\\u002fABDKd+Km0j8AwMJNcFXPPwBA7aOjDsI\\u002fAADT0kkXkz8AAIh5gO+OvwCA0zYO+au\\u002fAICNoxc1w78AQNaLsmfCvwAwZruysNC\\u002fAFAWdYmP278AwMKBZLjcvwDQR+7pldK\\u002fAHAl8uea278AYCNk+fravwBAdFR609i\\u002fAPCDspFt3L8AMIdbuNbYvwCgBuVzdse\\u002fAICsPJlvrj8AkPM0KW7RPwAA\\u002fW9sjcs\\u002fABBijC8z0T8AUBhaDIXTPwCwgQsMrdE\\u002fAABGz1D10T8A4LKR6KnIPwCARoecwas\\u002fAAAv6NlasL8AACGB9U2WPwAAiyjrTbc\\u002fABD6Z\\u002fia4D8AkOzoJFPdPwCAITVX888\\u002fAMCMvQrnsj8AYH6UV0fAPwDAzDhcT7o\\u002fAIA5Gh34qL8AIIoL3wXCvwBARDl\\u002fuNG\\u002fAHDTsAs\\u002f4b8AqHwuxkvkvwCAreKEXNy\\u002fAGCvkxxU2r8AoLfe0rDXvwCg4xmg19C\\u002fAEDHIIqDtr8AAGAB+G2zPwCAEwIvfq6\\u002fAIC7OXpqwL8AAJwqYHV2vwCAQGFieag\\u002fAACTBScb4j8AOMcorx3hPwDwg6X8Htc\\u002fAEDwwxJ+yj8AAO9lrIjKPwCQHx9wT9Y\\u002fAED+TZfduD8A4CpIzdvNvwAg11AVsNm\\u002fANCqvEtn4r8AOFnlhO\\u002fivwCwEChuXN2\\u002fAEC9iBsvuT8A4NqXgqHZPwCgJK5vbNY\\u002fAOCRW\\u002fNlyT8AIBTr7aPcvwCAKbbQmMM\\u002fABB0pduP0j8AgCwBEVerPwCA59gojbS\\u002fAAD2ofFgkb8AAHq18h6QvwAAYsooCMO\\u002fAEAe7M\\u002fzw78AAOYddjSYvwAA8sJ2lLc\\u002fAAAqae6qoL8AwDIZgjrGPwBIg+LczuE\\u002fAIBbR2FH4T8AsDRo3frSPwAgBrBFMMs\\u002fACAtIiU\\u002fzT8AwHHnH8bSPwAAhMhilYM\\u002fAMCSBYEg1L8A4Emcbw7dvwAAun3HH+G\\u002fAAiuDSUf4L8AgE\\u002f4tN63PwBw0x4+kt4\\u002fAJDIqoo54j8AwA5jiWHQPwDwi4LC99Y\\u002fANCOWEdG0T8AgLt25uvBPwAAMensF6K\\u002fAIDBSAqsob8AQCEkkCG1vwDgMfs31Mm\\u002fAOCmOyF5yL8AgJAmAvisvwCAo7wJB6o\\u002fAICFx77fwT8AoCVrfOLIPwBgtrWd88Y\\u002fACB2MaW14T8AaJ5eJm\\u002fgPwBQhGnXXdE\\u002fAADpJDCQyj8AMAuF6zLQPwBQcYXEctE\\u002fAAB8ks5npr8AEFZJiobVvwDwcZ4SOt6\\u002fAJhNalEu4b8AAJ31ySjfvwDgngB6Nso\\u002fAHBD5pcz0j8AADLlSHiavwCAJsvwv6e\\u002fAECPzDeSs78AAGyqwSS4vwAARTLtccO\\u002fAMD0e94owL8AAAPakI+QvwAA6HItS2E\\u002fAODgCHoVyT8AIJN0hw\\u002fIPwBgLBDcKcM\\u002f\"},\"colorbar\":{\"title\":{\"text\":\"Elevation\"},\"x\":0.9},\"colorscale\":[[0.0,\"#440154\"],[0.1111111111111111,\"#482878\"],[0.2222222222222222,\"#3e4989\"],[0.3333333333333333,\"#31688e\"],[0.4444444444444444,\"#26828e\"],[0.5555555555555556,\"#1f9e89\"],[0.6666666666666666,\"#35b779\"],[0.7777777777777778,\"#6ece58\"],[0.8888888888888888,\"#b5de2b\"],[1.0,\"#fde725\"]],\"size\":2},\"mode\":\"markers\",\"name\":\"Main Data (Elevation)\",\"x\":{\"dtype\":\"f8\",\"bdata\":\"kaO5EfHDkUCTrLRv+ceRQHd83S7Ny5FA7\\u002fyD10TPkUC13t8mPtORQDXRYZ+61pFAgN\\u002fNnn7akUB1kKJZqd6RQMBIUQqN4pFARJR0iUTmkUDC\\u002fGKG\\u002f+mRQCkUBB367ZFAmSS\\u002f+x\\u002fykUBnYCsv6vWRQBucYvYf9JFAoPxaRVnwkUDjS5tlTeyRQBr516WV6JFAXHKrMOfkkUDuQpH\\u002fNeGRQMFk7cVc3ZFAQBNPemzZkUB8j52hydWRQLwgZVBS0pFAuwjvLozOkUBJV6wDKMuRQAcvzF9wx5FAZQtXGYzDkUDjPwhUFK2RQIE6xWsAsZFA+BCsJP+0kUCYIk6pgLiRQEfORxfmu5FASwAZomO\\u002fkUCgTw+q\\u002f8KRQGYTLlfVxpFAMszadR3VkUBmcszWFNmRQN5YksLZ3JFAOlhV64HgkUDVg\\u002fVOfuSRQFfbMthk6JFAGoJefyzskUCMpgQl\\u002fe+RQEvNss7X85FAC9BQnRv4kUAUWYi5efyRQPjnp2CjuZFA9GD9CWC2kUCx4N+80LKRQJhKE52RrpFAkQ87RcuqkUCsp9gNgMCRQOcEZD5TxJFA1OylQCjIkUApUEfFzsuRQICu1bJhz5FAM6EDpxXTkUDTjujnotaRQNdV6w1t2pFA4dU5OY\\u002fekUDlg27JQuKRQBy\\u002f+McU5pFANtUDhs3pkUAe+2ZQre2RQBVn3FfP8ZFAl\\u002fAq+nH1kUC97m0PJtyRQKfEsXLh15FAKxG+SujTkUB\\u002f0nYIH9CRQBPC68CVzJFAO5eGCQnJkUAyFx1kKcWRQOcsjpUawZFAaB\\u002fL3UK9kUAZhi\\u002fANbmRQITKBrdXtZFAu4WDELb7kUCsNdnoc\\u002fiRQOJ57kv+85FAOJ\\u002fTUdPukUDGK+rHl+qRQJVhguW9uJFA13CS19y8kUBeAnUufsCRQMCPIvdIxJFAG6jTEp\\u002fIkUD1ayhqyMyRQPyKqWpa0JFAzrniFijUkUA17E0q9NeRQF7IMFia25FAhhf2ds3fkUDtsHYxkuSRQDZocverzZFAAzFRl5HRkUA\\u002fAGqGJtaRQIjWJQsc2pFAXEmUuBjekUBSyi\\u002f3beKRQCb1pNsT55FAKIGO6HjrkUDpjnQWue+RQOEaW7uM9JFA9AJARCX5kUAGt+aLDveRQAUtiDqZ+5FAaekqsSUAkkA+Uctbn\\u002fuRQHqSovIm+JFAo4wVxKXzkUBS2D4mb+6RQKDq1\\u002f4U6pFAm8QiYM6tkUCx0IUJobKRQM2dpNLItpFA+VzHqIy6kUAaqisrrb6RQF\\u002f7LLpMzpFALQfbjzvSkUAzVgsh4daRQAtx6JbN2pFAgMCzANfekUBe+prCUeORQAx7BXLt55FAhjWwWkHskUDs0bZrfvCRQKCiTiRn9ZFAIJmTG+z5kUAqGlOiQLKRQGqCkmdftpFA4V6TvH26kUCyIVUnrb6RQMy5Ql7SwpFAGdJvPvrGkUAgNisHs8qRQHY6D\\u002fFNzpFAh4F4d1jSkUA0LEMfYtaRQK+p02q02pFAk8XK\\u002f7y+kUAKRUgbC8ORQM\\u002f\\u002fOYofx5FAv50UAzTLkUDMBm3MNs+RQEpSE7JS05FAnUrxRnXXkUDjHrcqwduRQC3tXMc04JFAZdEtLp3kkUAVHGFH1uiRQGeWRQ0Z7ZFAzjEQu3\\u002fxkUBR\\u002fI+iXNCRQAydnlA0zJFAJaFG3eDHkUD3haR628ORQFdx6uFOwJFAeXcihMe8kUCNNo7IxriRQLJEnEGXtJFAZFAR4bewkUBpjscfF\\u002f2RQEi9VPyd+JFAxhwMqyv0kUAF9VPj3u+RQEqBf+OG65FAwcoeifLmkUCmUJFR4uKRQEBKSqva3pFAjNovIJjlkUCermZ\\u002fueCRQEReJuuM3JFAQmczqPXYkUBRQHnfRdWRQCE\\u002fdzMV0ZFABHCoMmPNkUCOyL3eRMmRQATl7dzWxJFAX7NGeRLBkUBtBP+ieb2RQDZquu9GuZFAi2Jj3D+ykUCIW1ngbLaRQFqaj8yKupFA6rNlgaS+kUBYh7oDy8KRQFoVHEwhx5FA06lb4hTLkUDkRH8Fis6RQHpMYXpO0pFAnh3aLT7WkUDSs19zdNqRQHg4CeoX35FAXSu59UTqkUDgS1Zh1e6RQBBL19EW9JFAI68AIJr4kUBtQibmNvyRQHRZuY0p9JFAen2\\u002fdt7vkUAmlOeUOeuRQMMh08Uu55FAx25pQw3jkUCsnIks4N6RQFWh3TFR2pFAjeIfsjrWkUB3sp\\u002fQSNKRQP6Bk3cczpFAxw4SOibKkUAre5+R1MWRQJFaXApHxJFAhTobr7bIkUAHyke52cyRQJnwhXL60JFABzNSyiHVkUAa49+fNNmRQJrP\\u002f4y73ZFAOiBOWCHikUAs3+fXV+aRQMQAr8996pFAkALTsRXvkUA\\u002fBqwTj\\u002fORQMeXWkpuzpFAvazHSC\\u002fKkUDNJpzH8sWRQAFksfX5wZFAEgWLCmS+kUBMoeDa4LqRQJZq4H2\\u002ftpFAp3I\\u002fDYSykUBd9XvVpq6RQCM+LI\\u002fU\\u002f5FAwfXy8pz7kUABXLzCCPeRQBHM2ACV8pFA90LpbUXukUBOzjBbGeqRQH3ZX0iH5ZFAbmOqpmnhkUBq7CjRYd2RQBN9yAyX+ZFAjupqcNa4kUBwSkAKMr2RQFr6i8TzwJFAWMkYD7jEkUC\\u002fGwTqFMmRQOpWjhVHzZFAieqiqzDRkUCBBunUgtWRQDPYugtj2ZFADvr1fQ3dkUBZrDVhMuGRQObfb6MM5pFAIToDFqPxkUDOaRs5Pe2RQJG2q\\u002fz66JFAje\\u002f0+tPkkUD+ks9RhOCRQI\\u002fUq39O3JFAlMV2GO\\u002fXkUAXAOJen9ORQIwAe2+xz5FAkCcWJOjLkUBV40nTzseRQFGI5t6uw5FA5CNr7ma\\u002fkUCRTLfvbceRQICcnEPQy5FAt5h8E8LPkUDE7pC7AdSRQDHOofkM2JFAqxp9X03ckUBguMQoA+GRQPxHsOkH5ZFAWSebX2HpkUDNQHx5uu2RQI4kggF68pFAuxGruKf2kUC9wvqCkfuRQK1okVKu95FAiPV3Y8vykUDd1DwdXO6RQCewoHYi6pFAVqd1odXlkUBKP9ghLOGRQPlZmJ0T3ZFAn9c6CC\\u002fZkUANLbnLHtWRQLzSfqSd0JFA5iy3AMvMkUBZnhn49K+RQCATc3bZs5FAnF5VBSW4kUADB9XOPbyRQFO8Pm7ev5FA6PYyZHnDkUA6nI\\u002friMeRQOU0L1fsy5FAjTApmi\\u002fQkUCBVz3d\\u002fdqRQMGSxWJU35FAiY239W3jkUDpgEYQC+iRQE3trxho7JFAlCb2WZXwkUAeWpQQGPWRQKRoQiGg+ZFAITjtvV3+kUBRDmbO2taRQPXN8m6h0pFApAbkcInOkUBSqCNJH8qRQF7sellIxpFAeuuBW8PCkUB+iKMHKL+RQG2q4vEHu5FA+\\u002fhDxsm2kUAcrSP+47KRQAmKi11w\\u002fZFAsGrsVjD5kUBBAyu4CvWRQNsmG92E8JFAar\\u002fy+b3rkUBjOotZS+eRQH4+24hg45FAlrKlKlzqkUCyS6A+wOWRQD8FW6xC4ZFAkl5rJTLdkUB3GHgab9mRQLUTzkZl1ZFA4suhhT3RkUAHNdRCNM2RQGe190D5yJFASukVserEkUDWeMjhLMGRQBmma+RhvZFALcTXKRW5kUBrQH6Q8ayRQA8vlja0sZFAtUDacrfLkUB3ug3078+RQPW41cYm1JFAT44Q60XYkUCp4HF2JtyRQPN5nrNU4JFAl4Ht2uvkkUBSpOKGWemRQIPpyEOu7ZFAMPK\\u002fcVHykUC7IKvaGfeRQO0kTrrs+pFARMAi73b1kUBRXqFBIvGRQBN8jDN37JFA7z57AxvokUA3mhJR5eORQBuTGRia35FAkxtl3DPbkUBmPf3jHdeRQAGl38z50pFAO6\\u002fI7hjPkUBBJeSV78qRQMhYudCRxpFAFVh9z8a1kUAvuaTF6bmRQJQJlpbVvZFAvDq6L+TBkUBPGQnnTsaRQImv\\u002ffCRypFA3Phk1u7NkUB8WrZhjdGRQCMbTbJZ1ZFAqCtldG3ZkUA3biL92d2RQEZEg8bT6pFA9B6ZAVLvkUAxxnRLq\\u002fSRQBFZzC0R+ZFADIqMBK78kUC4z57LlMmRQPO6629QxZFAFdQi4kDBkUDlM5UNcL2RQM90PJ4GupFAvHPEfem1kUAxVmWumbGRQLnlmmN+rZFA95+hOIX9kUByR8r50fiRQDsGqpBE9JFA9YfRstLvkUBF+6d\\u002fteuRQN13kRy355FAzPFF4\\u002fHikUDg4Zk43N6RQHaLGc+42pFAt5X0AsXCkUAUursfEseRQHSGj+k7y5FAnf2Ewi\\u002fPkUCGrHJgT9ORQAkpVnZr15FAPu9vkcDbkUC1RMKdOOCRQIOhcJJ05JFAUayTd7XokUBJ2+wBEO2RQNlCQveW8ZFAY0uO1YiwkUARoAN8erSRQB55gMS+uJFAYTu\\u002f38i8kUCuepz7XsCRQECTIPIBxJFAt5ImPhzIkUAzCG66g8yRQCm8\\u002fdy30JFAei5ZnuLwkUA\\u002fCaTLd+yRQB766flC6JFAIBAuVBXkkUDh7u51s9+RQLCw\\u002fS5y25FAYqtPLRTXkUD2xSLxzNKRQI\\u002fSw9LqzpFA6jFkuQjLkUDgFZuB98aRQERe5DnQwpFA8OZGcoO+kUBNKNpOprWRQOWOfQDbuZFATqJCz969kUDo6gtxmcGRQEARfHG+xZFAf\\u002f2mvS\\u002fKkUCJg3FCIM6RQHTIlvjD0ZFAkzD9DrTVkUBG+cUoadmRQNmMzSFf3ZFAB9N9ahbikUDAC6kUH\\u002fyRQDMKRDQz+JFAy8uO6SfzkUBEeWLxpu6RQAriNNuL6pFASP5FxzvmkUAaEI3IueGRQFNRj\\u002fRx3ZFA1hgCJXXZkUCBcatLSNWRQF0ariXq0JFAJnDCXS6tkUBu9Hce7bGRQNSfyqIetpFAEP6eJqnMkUB2VZBAttCRQEnjSAYH1ZFAAuja6w7ZkUCMKAoK99yRQDCQHJ814ZFA69Y6XcnlkUCvbmyEM+qRQBLqh9R97pFACHWp4U7zkUDIe82\\u002f2feRQBH1ZCz24ZFAPuaVjQ7dkUBi6vx5y9iRQEfkw+wX1ZFAXMgPQDTRkUAGlqeUrs2RQP4AI5ZwypFAqfk3+rrFkUDrh0VEccGRQCQbcV98vZFAKZ+ybLO5kUBx0BXng7WRQN22KL\\u002fB+5FAqKDDCrz3kUAvOI80L\\u002fORQDHqn0K+t5FAlX3Im\\u002fS7kUCry5CGmb+RQBqk+oKdw5FAAoGCqRfIkUDhgfCIY8yRQI8cbwq+z5FA9B0TcYLTkUDrpPl3XdeRQJFWmOcv25FA6QDT4KTfkUCFmsAkrOSRQC7etUe775FA\\u002fORgO5\\u002f0kUAdn0Vh3PiRQDyztNPS\\u002fJFAFaItwSb6kUA54LAqZPaRQCBBaZLO8ZFAhBEjsBztkUDAmhkVyOiRQAaFkD5d5JFA3xUECPTfkUC1cLYnt9uRQMMO20nY15FAqapXZ7fTkUCxFt14zc+RQLmHZXFay5FA0w6GgbWukUAgETKKlbORQGewv4eBt5FAm20dpkK7kUDe+O3Zdc6RQLk9VWF10pFAJv\\u002fLov7WkUDFd78C3tqRQLqi3lnd3pFAKaxvzUnjkUAJEOPv3+eRQPODfg887JFAP6mg2WLwkUBax65ZWfWRQNMt2rzG+ZFAOhpjNtvXkUAaVsp7ldORQMuLx0R8z5FAtlJ0BQ\\u002fLkUCHl8MdUseRQC4a5n\\u002fHw5FAS9s++g3AkUD9FGoH7LuRQMKNPjKbt5FAUw4J+qCzkUBXQUu7bf+RQEEJH6UX+5FAoCxq8g\\u002f3kUDadSx\\u002fkPKRQKYpulSg7ZFAR+SlMQzpkUBsWtqv\\u002f+SRQFK4s3fps5FA9DgWRAS4kUA2JD7DI7yRQOx1mVnwv5FASHCZACfEkUBSXNQzxsiRQB1P6tNvzJFA4owZ88fPkUAR4YGnoNORQD6KIMJd15FA5vo+uIbbkUB7upVFR+CRQJ0r833J65FAbPflmK3wkUDublBwA\\u002faRQCpYaygs+pFAqCn56nz+kUDNn2KyrPGRQGnwgN427ZFA9LaK4unokUDcsnKkuOSRQM2FuNVi4JFAgebjMRvckUD\\u002fpLkDuNeRQLhezzpj05FA9I4f1mvPkUAet+V+mMuRQDRMsv54x5FA7n0YikrDkUD485JZ\\u002fb6RQOjgcf5hrpFAWlmLXjKzkUDf6IkyL7eRQLaeB0nhupFAMbPTfezOkUC2FjIf\\u002fdKRQDLPxxZ315FA3miCKlnbkUAiC2bCVt+RQBRQsJzS45FADh9ZqF\\u002fokUDOwEFvr+yRQG9TQt\\u002fi8JFAXCVLkd71kUDCI68uMvqRQF\\u002fsxWvKz5FAnP46IJTLkUBYp4PsPMeRQHMYoJYqw5FA+OA8l36\\u002fkUAjaiK417uRQFZy4570t5FA67DkxJuzkUBYErwmqq+RQJHb38\\u002fP\\u002f5FATA33O2v7kUDMHVub1\\u002faRQBu35shY8pFAoJGTqwLukUBQFIodsemRQPoopDMS5ZFAkcVo\\u002fwDhkUAD+iUM1tyRQLdVaDmZu5FA\\u002fBd85oy\\u002fkUD7MFWGO8ORQIOFEJEfx5FA0aAKTWzLkUAWu4PVlc+RQD6ITZaZ05FAZwbyxtPXkUDE\\u002f5\\u002fqr9uRQPqeEVSR35FAXUuYge\\u002fjkUB151dpj+iRQHPc+VEJ8JFAW3w6B63rkUAjjwSagOeRQMaxGZdO45FA3s\\u002fKutLekUAV0IpGedqRQI4JlSI\\u002f1pFA7IwYyS\\u002fSkUBHASZ+I86RQJk6U\\u002fojypFABtyNvBfGkUD8SX0q+cGRQCTv9UO2vZFAeokWh+3XkUDUDAlya9yRQDsDFUl44JFAHZj9iuTkkUBYcnS5T+mRQB2qWdJR7ZFAVUn08ZHxkUDHPvpGHPaRQPe9ABL6+pFASKLdWCX\\u002fkUDNeu7fH9CRQDCX7FXjy5FAy1p1CoXHkUC6p1HsdcORQMqAZGfWv5FAVEmJ1ji8kUBgb29mMbiRQPIbBPzls5FA4BbkLv+vkUBXHcn8qvKRQMOutFlN7pFAfKgYL\\u002fTpkUAv7F0EyuWRQHu5J0d+4ZFAxILNBk7dkUCEH5rO5diRQOFvSDCF1JFAxazNZ53QkUCb0gB2w8yRQFQe2si5yJFAGkrLu6XEkUDmwqDqUMCRQFvtAGrN65FA7aIMbHHwkUAVARp\\u002fmfWRQDol6py2+ZFAAp7ATJv9kUBOzCiwl\\u002fuRQMbMmYgf+JFAK9EaZHvzkUBwE+JRNu6RQL5DvBfT6ZFAjacj5EaukUCxUbUnVbKRQCi4M3mgtpFA6aahQK26kUBBTgA2Fb6RQOONw7nhwZFA20XiHfXFkUBZT2TWQcqRQFTHU5GHzpFAIxJl6SLXkUCBDkLInduRQPUF0teq35FAeZys2PrjkUAtRcxZbOiRQCSuh+l47JFAJoOuMbHwkUAN3tQ3IvWRQLQhygIA+pFASion9E3+kUCXoT5Xs7aRQKkyvcWXspFAZp1q0c6tkUC4r1kTgvuRQJmp0WyJ95FArUb1jHLykUCZ9de5B+6RQFyBblbO6ZFAu7haJGXlkUAWal6ex+CRQA8NcFWi3JFA904pIbPYkUCb74UndtSRQO865IMR0JFA4adxvxbMkUAZGEVIdbmRQAU2sijIvZFAnPoeOJDBkUDOPRWsXsWRQE2nC4i5yZFALUTx4\\u002fbNkUB5VRF\\u002f6dGRQKyBiFNG1pFA3xycKiXakUCG+UVW392RQCO5rF4n4pFAWUR\\u002f9BLnkUAlBpMm5tWRQIrvRPqz0ZFAZBGxInLNkUA7fftsBcmRQP37KuVDxZFA9tJ9HKfBkUDunQMY+b2RQEwuJ6imuZFAL6l\\u002fhXe1kUCHslx3lbGRQChvVAZ3\\u002fpFAndFb2P\\u002f5kUCUMpBmt\\u002fWRQCL+FBNH8ZFAu39QEpLskUDOYN6l7ueRQK03t6Xf45FA1vd3epy5kUCZneReu72RQHFkrOBUwZFAtiMX3k3FkUCZiXfFtcmRQHIXJIHMzZFAYmTPMnjRkUCyOQXqhNWRQC\\u002fLKkc32ZFA4VqdcP\\u002fckUAchNM1huGRQCKRCk6M5pFAvfIqcfD3kUAunrm6QfyRQFadDnUs95FAxqzjEYDzkUAMqQJfW++RQCCAFpRK65FA41kr\\u002f1bnkUDIGq+QoeORQFw9ZLfL35FAHNs+J6zbkUAX1hLe69eRQHiJazI\\u002f1JFAfkKT92zQkUBXTV5AAs2RQJlpDXkhyZFAkLJsqiLFkUCD14q6hL6RQJEGB69OwpFA9HJS\\u002fu3FkUBSoyjafcmRQA\\u002fBpRQNzZFAJb0gMabQkUDLoMbrPdSRQA7QZ6vV15FAmxR+85PbkUAIGnVtgd+RQEzXSIhx45FAqIlyvyPnkUAA90DBz+qRQNuIqxiq7pFAGrab3FT6kUAdF34DgfaRQOTHJ8718ZFA3pZw\\u002fgHukUAV0MYfOeqRQEJno+dU5pFAzaKpJx\\u002fikUBE6EYTPt6RQK\\u002fx71+k2pFAkNIRFSjXkUBgjnu+FtORQF7sxiJaz5FASXlhA7XLkUCnanQf5MiRQEn+83fDzJFADOLt0V7QkUCQB5xq7dORQORaLRuZ15FAZgxe4yDbkUBogqrw696RQC0\\u002fftLs4pFAASjY86PmkUBOdX3WhuqRQIvEBH9i7pFAd7M5S8bykUCQxOsNc\\u002faRQIG4da4DyJFAYBEYhyfEkUAoRhUYe8CRQHBkN0LvvJFAbTByWJK5kUDNMzNvNbaRQIwEfT0sspFA6gpGhz2ukUDrerXrZ\\u002f+RQCezJx6R+5FABY+7QEX3kUAg0hceOvORQMHfpg8275FAI\\u002fubfYvrkUBaYbL66+eRQClSMfqE45FArNTkncvfkUAYOhr3J9yRQFJlrgb615FAXZpTNA+ukUDH3wPs6bGRQBD\\u002fPWPbtZFAvTUaWC65kUDJLRS4fbyRQC\\u002fFxur1v5FAsacXdofDkUCEAvKclNSRQD1gJ7Fk2JFAOOZT9izckUBrqvzQxt+RQDIAU8aU45FAW5uKPILnkUCqV0xCPeuRQOby7XQL75FAsW+DSbjykUA54LRE2faRQM0pM0la+5FA\\u002fgmOucr+kUAsdSWm+rCRQGxcqodV\\u002fJFAedksphP5kUCEYA1LJvWRQBxC83q08JFA9U9hw0XskUAsgL1LYOiRQA8imInbsZFAzywIrEG1kUAbSkR727iRQE2bxLTLvJFAF4Kv\\u002fUrAkUB8Hiv5h8ORQDjLtBCgxpFALY0advHJkUBNcVhe2c2RQNSc1Aua0ZFAoHceEULVkUAXXuMRzeWRQJ1OFBhs6ZFAkEswPHftkUB1\\u002fDOF5\\u002fGRQKm\\u002fT+Py9ZFAdEX2nof5kUAtk+t4N\\u002f2RQCSf7upI45FA0Nz6NuHekUAvkLmsGtuRQHbzx8nM15FAj6I81UXUkUCRNVxpzNCRQEgiYFiNzZFA\\u002feAjhOvJkUDS+fo+6cWRQGL\\u002fBGEcwpFASK9Efq6+kUC\\u002fgm8GPLuRQGXzy0Vwt5FA2MSqho25kUBjkGKOXr2RQL16sUWzwJFA5YLZFfLDkUCBsbHamseRQP8zG3Fqy5FAVe\\u002f9\\u002fwHPkUCQTGNogtKRQDqTNghH1pFAbKSgsaDZkUBgZMOVzNyRQO2PAldY4JFAXCJUMaHkkUAyjYib\\u002fOiRQGf6H79V7JFAYWj2cXPokUAjd\\u002fXbqOSRQKxnXBrT4JFArqVUO\\u002fHckUCKSnykGdmRQAYv8QRO1ZFAJ7WEzbLRkUCP5Z8Y+M2RQEv8THQtypFAWShM6YzGkUBelVog7cKRQFc23QtDv5FAasqQTpK7kUBFFtkkEcKRQK6TCUfsxZFAG+BZ\\u002fsPJkUBQpiGqUs2RQL7v78L60JFABsvyK6HUkUDUK4nYINiRQPHZzbrw25FAoGQGgwbgkUDoK\\u002fE\\u002fq+ORQJnyXw1o55FAHvSNcBLrkUADRXDVIO+RQGaNywsT85FAIlEZmbz1kUD\\u002fc7aV5vGRQFoHcc2v7ZFA80blIsvpkUDSbkyh8uWRQKIsLr1A4pFAwuVqi0PekUDf0pNJJNqRQEzpIqFu1pFADyJoq9PSkUAQL+ws7c6RQOhKtL1jy5FAlnZDM4XHkUDFAyAFecORQBvTqUqKq5FAn7Uvp5SvkUD7Jl5um7ORQPr09Uwct5FAyo6QpIPOkUBhg\\u002fFH4dGRQM6neCP\\u002f1ZFA3x57go3ZkUA4C53\\u002fCd2RQLxNmZq54JFA\\u002fjlqUrXkkUCMEQZ3r+iRQN7wvjd77JFAR3c85CXwkUCUpfmTcPSRQASb7Kig+JFAnon+q\\u002fz7kUAtqVaHBfiRQHpuS7Zv9JFAsheHx\\u002f\\u002fvkUAwjkq\\u002f6euRQHUpMbby55FA7ZOT8fjjkUDMrhiTDeCRQBVYKlYr3JFA9zNUXnrYkUCBNpTLw9SRQA2MZ28G0ZFAym78aXvNkUBsMh7xhcmRQOznCICZxZFAakdHCG+skUBstYZiGLCRQMGThZj2s5FANVgGe7K3kUCnT1Xx77qRQEdo4XA6vpFAYd+B8MHBkUCo211HaMWRQN8sik0S+ZFAEjPaVv70kUAAk9M6gfCRQHrg3Ay87JFAvzA1ysPokUAYSnMnyOSRQO5\\u002fI\\u002fNy4JFA4O5tydPckUATifbZSNmRQFm6iESq1ZFA5tiNWYTRkUAS5Q1cC86RQAjxQbwsypFAg1P+fKuwkUA3yUJbA7SRQIReZzW4t5FAA8rGcYi7kUCHde4x3b6RQPsJe6LowZFA\\u002fW+dIiDFkUDTIUcKzMiRQCxwyoS0zJFAR9KKfGzQkUA2Uoe7IdSRQLyU0sR34pFAbcNBnf3lkUBSuna14+mRQESETq8I7pFATPBemvbxkUAAV9Udz\\u002fWRQFMyWEO3+ZFAurPlS6n9kUADFU6jtLSRQKBZnOuksJFAd+c9AFuskUCZfvbHfvyRQIJhS8+9+JFAmAndGS70kUDLdjoDEfCRQBzzX\\u002fN07JFAfHUP2HfokUAmmE1neOSRQE422e5+4JFANCODZb7ckUClmeQcBdmRQPglMY0k1ZFA+jL71UfRkUDAp8rtabSRQCwuYE78t5FAnb8FcrC7kUBCSO+uHb+RQPdt3JTGwpFAeplNpJ\\u002fGkUA5NVA+KcqRQE8OYANCzZFARtdNYFfQkUBKqVYTwdORQDfFoNdP15FAfT\\u002ftFhbbkUCWxBcLK9+RQJCg5RGdwZFAG7A5nAK+kUCXROjSb7qRQMVn+bsEt5FA+fhTC1mzkUDrEYLkGa+RQKBoip4oq5FA1ohFpa3+kUCL0Q0tE\\u002fuRQOd7nV9n9pFA4jwhAEHykUBgeUqeju6RQPYYdqOg6pFAMZWXi9DmkUCe9n0DuOKRQFRYLdTw3pFA9GexeT\\u002fbkUAHQCQNT9eRQAybD9V405FAkUFL0aC2kUAkCa+uVrqRQNXSxzDGvZFAqENGrBvBkUAcNfyqvMSRQLH+cQi5yJFA1TwJKW\\u002fMkUAhkdL1Vs+RQEwTlteX0pFAXlt9QhTWkUAO1EYaQNmRQDGq0tLj3JFARlCmySvhkUBVdzOts7yRQGNeK5smuZFA1D33h7O1kUAbRdT7x7GRQL28Q5p9rZFAiitlBAD9kUCUH46OGvmRQDmiJUuU9JFAWssYpIfwkUALYBqF2uyRQLR1h47c6JFAVEKuvPfkkUDRQLai7uCRQJHtW5g43ZFAWkq5nXnZkUBKHRC7dtWRQKjQMb280ZFAnKjiAQq6kUA60WLsxr2RQFGeBtEWwZFA0YV6P1rEkUC997ffDsiRQKn1D7vRy5FAnpn2lWLPkUAHQiDt7tKRQMiMlYyl1pFAkv5Uff7ZkUCKFWq3Lt2RQA7+K3fF4JFAl0xaXRTlkUBGmf1jZumRQIKIpK+dxpFAilM7xsXCkUD+EYVMJL+RQMa4Qjelu5FAtu5dLje4kUDj2AmGnbSRQPQSn12WsJFAmOPw26qskUD6qZxwcf2RQGXaeq8u+ZFAjxrNAfv0kUCyAU0n2PCRQLPhSSQK7ZFAfDXe4WTpkUBlo63tbuWRQCwQ23NL4ZFA0adAipndkUBz4PxYwNmRQJqWSb6+1ZFAYl4TlLTCkUA5raO0kMaRQJzEnL1MypFA+uBV477NkUD1AxrkbNGRQPpBvn711JFAB096WKDYkUAXzgrFhNyRQFWv5yhn4JFA8AOJdR7kkUBt6iXq3ueRQOp732qg65FA2HLWMJLvkUAyL4k2cPORQFz6Bt+W2pFAqcBQ2qrWkUAFTGsz4tKRQI9JdhEWz5FA7fSWXCPLkUAPS5JBzMeRQFE47SGexJFABG5BCDHBkUAuYpOZk72RQEngHMmXuZFAvwdmV9m1kUDG0OedWLKRQLM8YC77yJFAa8Hgsg3FkUD1ySM9SMGRQJeYZX+rvZFA24adeFa6kUDiqVzt7LaRQKKL3GLNspFATFvKzNaukUDig1hGs\\u002f+RQI0uySTc+5FAqQyX\\u002fIb3kUDwsHH8Y\\u002fORQFzXiR1J75FAMp6aOZDrkUBkKqiFteeRQPZEpxhV45FAMfsOlY3fkUBS8NEE0tuRQMczlBx915FAmF6H9gPLkUCnScIl+86RQC2XaSVs0pFAL97QHELWkUCVgejTvtmRQApu6AlS3ZFA3w2rWSzhkUCMRCuHKOWRQIS0\\u002fmgY6ZFAPRjrGPfskUCd0zyBGPGRQOaIKw9m9ZFASDQ5JtX4kUDY327Mc9qRQCZL9w101pFA+g++Q7HSkUBp3B8M086RQK1sUx0oy5FA8NV149bHkUC292ljdMSRQMgujIvLwJFAqmO1uBq9kUANrm1\\u002fFrmRQCqM3fBbtZFAsiO4LrqxkUAAzTpi8vuRQCeE5gjO+JFAgy0Ovr70kUDArL163++RQC0Mkaqu65FA6aRgdoSvkUDWoS0oErORQP9Xt93itpFA5WcZcJe6kUAkp2TTor2RQCdHJt7awJFAUlTwy2fEkUCfAbyII8iRQHRjiJcTzJFA3WKduDPckUCiEirN8N+RQMcJidyO45FAOodenKfnkUBWlp\\u002fOmOuRQOd0dj4u75FATvGm9R7zkUCLhEstH\\u002feRQOs\\u002fGFhB+5FALlbz+Rr\\u002fkUAlAJDfouqRQAmcc5CX5pFAT7GJ\\u002f3vikUBmYWCfk96RQGSKF4UC25FAj2CtVVDXkUCyjPMOXNORQKKk7+60z5FAfAfsP9zLkUBqFAqX6seRQMmZQCtBxJFAauu4PM\\u002fAkUDtYPG+S72RQOPFPqVPuZFApPVzs2e4kUBl3uddMbyRQCshSUuOv5FArIWCROHCkUC61vw8qMaRQNkaS4KPypFAYS\\u002fdSxXOkUCLtTcLU9GRQMlYJmzL1JFARqWENS3YkUCfwAc1e9uRQBru5BNO35FAD6MHLLXjkUAdsTKq8vqRQAwi\\u002fsqIwpFA+XY1il3GkUA48si2HsqRQBZPpAyZzZFAgm3FC0DRkUBkXcFpyNSRQHr+JvuL2JFAdFqYcHvckUCt4YZOWOCRQMFjbt0c5JFA\\u002f3BvnOHnkUDTC2ymoOuRQOwXQfea75FAKL4zd3DzkUCIbspXtbSRQKsK9pWhsJFAStrCbS6skUC5+AjHk\\u002fuRQGJwSti295FAVGkPbhvzkUCfYEqe8e6RQF6wGK0t65FAn1gL7jDnkUDy09BjAOORQD60vP\\u002fu3pFA1xnhujLbkUBLKJx7kteRQCMLfHxc05FAXaTGtJvPkUCxa2onaqyRQNtOZj2AsJFAqTf76YO0kUD+zrBU7reRQHmUpkaGz5FAJA64nwvTkUD15yGcMNeRQGaFsfWn2pFA8pg5CDPekUAGn8\\u002f7E+KRQJtniN4d5pFARovqRP7pkUA753uvsu2RQNVDZbWV8ZFArh2X1QL2kUA1s\\u002fv\\u002f6fmRQEl9YqAi45FAHI+\\u002fApHekUALGD39bdqRQBKwlQrG1pFAxs\\u002fVWFLTkUBvLkEQzM+RQEI9JzezzJFAlxjAfHHJkUA26tszLcWRQJiZPrA6wZFA+gEISI69kUDCHek9\\u002f7mRQJIXt+AttpFAp+Vgxfj5kUCcKi+azfWRQIwuVdMFwJFABlbwmurDkUCkpK2cjceRQAFHdd8ry5FAAwm6XqDOkUBSMF2lGtKRQGxUQNbB1ZFANC5MOJnZkUAQbn3+ed2RQPu2IL9b4ZFA8feO0CnlkUCt4ngk5OiRQIxeZMOc7JFAvgPEKHjwkUCKCs1fx7uRQHp66JdCuJFAKl6zqq60kUCNRBPNc7CRQFTXSk4+rJFAdLl3kZb7kUC+lXnTOPeRQLKiSCHV8pFATk8OU+\\u002fukUDJMPySD+uRQOB9wY0A55FAkz5MUPrikUAy55FcEN+RQDOeP4BJ25FAgrcnFGTXkUClUjufWtORQMHQATB0tpFAd9taZDm6kUDl47PPjr2RQBMd3SwDwZFAlLTHu8PEkUAIvKOf18iRQI+4mTJUzJFA92a\\u002fsTLPkUARDse6f9KRQCAvo6\\u002fh1ZFAwTRLFkrZkUBJBXUvH92RQD5faYB\\u002f4ZFA5c+\\u002fFlvxkUA7PUqhovWRQCXHIxBd+ZFAKt4qS\\u002fD8kUA5iXslua2RQGhR4elTsZFAXvc\\u002fJha1kUAW2kWJBrmRQFWH4\\u002fz8u5FA8nQlSja\\u002fkUBedM0xwsKRQHBXsRdxxpFADWccyUzKkUCTSoG+6diRQBrgKV\\u002f03JFAsXQHgojgkUCUrFmCTeSRQPa3pZuL6JFA6fzI7A3skUBQKfbzt++RQHjDBDam85FAmmowxKH3kUBW3N51DPyRQB1oGxwy3JFAkuxVCjDYkUC1TwvtZtSRQCioU\\u002fjJ0JFADpCbhFHNkUDWc3th7smRQE7B8NBjxpFAnh5\\u002f9ZPCkUDAvE1Jy76RQGqep+f6upFAJlQa1Se3kUDIAQH\\u002ferORQOQFEn1K\\u002fJFAsNBHe8H4kUAlh\\u002fUs5PSRQFtDrggw8JFAJ0T9Jy\\u002fKkUD+yCaTHs6RQIPMkEyo0ZFABT7UO0XVkUBoJb7S19iRQNpv1udy3JFAFjYnaEbgkUARitTjHeSRQPioehcC6JFAhpuplubrkUAm0fJN\\u002f++RQPD2o4Qg9JFALcw7SJ73kUDh\\u002f5IU+quRQN1dP6uC+5FAM0JOet\\u002f3kUD8SKR6MfORQHV7Q1727pFABheq+CvrkUCSlU28L+eRQFJeYBjt4pFACRrFd9fekUC6ZyDeJtuRQObqRd2Q15FA\\u002f8oEGXzTkUDRqE1Xk8+RQFqZaPLjy5FA+LGxiqe6kUACV1aF+76RQN\\u002frLf3swpFAswcRT8DHkUDeIWVlqMyRQIfKrZl60JFAKyuL3bDUkUBM2I17vdiRQFzmBHXl3JFAXUdg4EzikUCLPUmnZ+WRQO6yEGra4JFADBQv0bjckUByj1fJLdmRQCeqo3261ZFA9vHTBATSkUAjIa4doc6RQMP6Hssry5FA\\u002fmF9WRrHkUAecCyTDsORQJX0zul5v5FANRqkRxW8kUDfof1OMbiRQGzs05aMrZFAGNy6KUGxkUC8FkJ3JrWRQMpshFituJFAGLl+Vey7kUBMQBvsSL+RQG7+\\u002fN\\u002fUwpFABOXt6o7GkUDf97tbxsGRQNL+8+0YvpFARcXfnn+6kUB+NHP3\\u002f7aRQKKT17A0s5FAWPKMD\\u002fuukUB7g0wG7aqRQIezfe68+5FAB7DLlgL3kUBLUpp5wfKRQBbVxFvu7pFAlr3hlvDqkUAFo6x8GueRQD0M1Ezr4pFAdgToJgvfkUBK\\u002fLZaR9uRQHxSsUxB15FA2EhCyVzTkUDajvf0FMiRQIZC5Pnwy5FAanoI5YrPkUDgkr7fANORQASe38uu1pFA+jjGxE7akUCFQzFwM96RQNv06SpE4pFAuYSoWr3lkUBl3lq6numRQOSSJ7lp7ZFAVMFnX6zxkUAay25UXvWRQPoHbRaT85FAXyn\\u002fPH3vkUCJyUQhSOuRQCD3Rthl55FAOvZLwXPjkUD6JtJDld+RQLImxbRi25FAvi3f5WbXkUAdafqEmtORQNn2kdPPz5FA6CkxmyDMkUAeTo1bXciRQFCnt6F5xJFABAzYGX7AkUBtrHidP72RQIoFc8\\u002ffwJFAnLcIqnrEkUBk28Mc\\u002fseRQPOdCzqSy5FAENPWCUbPkUDfnzaR2tKRQP4XXoR01pFA8aA2ty7akUAQj8ap5N2RQOQ9iqqS4ZFApozm0E3lkUAtQpqhCumRQFGOuLzt7JFAiEPQWpLlkUAcVkiR+uCRQCTmr5bM3JFAUPx7PDXZkUDqGV5DwdWRQHbNusMU0pFATMzdkbXOkUANy65FT8uRQPZ0ZlI3x5FAvAAnfiLDkUA0xrDSgr+RQOt2t88mvJFA697oJ0W4kUCNLZMXbrSRQC7HG\\u002feutZFAvOnczmG5kUBlBXLSx7yRQPQbdvkqwJFAThZMZuDDkUAdXrXi5MeRQAvqiYyEy5FAauw3QVnOkUArz8ZiiNGRQPTgnizl1JFAop7dFl7YkUB3vGe9INyRQJsXFjth4JFAEupP26fwkUBliEMnF\\u002fWRQDamDQHM+JFAwP+Ok0L8kUAf2RfPl86RQIYcPk6lypFAZH3uV6XGkUB5w6d52MKRQNb\\u002fBEhEv5FAHWX5t+67kUCWUT6aq7iRQBy7NUd9tJFAsvwup5qwkUCkduqpl\\u002f+RQLAOLkdL+5FASKTB0i33kUDs\\u002fHG8EfORQKRc4ncC75FA\\u002fb6fzOvqkUATT0P6peaRQBEblSbL4pFA3gqhLQLfkUB0WZu+WK6RQJDIoRnKsZFAu5WA73+1kUBvGM0edrmRQObuJ7FuvJFA+s\\u002fmSZ+\\u002fkUC4sH0gC8ORQLBh3tOuxpFAln+WLYbKkUBcfyssT86RQE2N21wp\\u002fJFAaoCya6r4kUD6qKyJc\\u002fSRQM\\u002fEikMA8JFAzZQ+mxXskUAd4mGxBeiRQFbs18Ps45FANLvHW6bfkUBdVVkU7duRQCNDsE5Z2JFAkBOqp47UkUCA95DAjNCRQMsOk3DXzJFAuSucBtbIkUC+MAYv6K2RQNOe1G\\u002fLsZFAGxbNpai1kUA1vjBJ\\u002fLiRQGzQ7v5GvJFAk+mnxcy\\u002fkUBUMbjOttORQL6tT8GC15FAOOorj07bkUArhxB2596RQCdoTFig4pFA377Hr33mkUCHGe+ZZOqRQDXYSBsq7pFAOafrHNXxkUDk64qCAfaRQMHJnsxU+pFACFjeXcP9kUB9pfr9QvyRQOeMvb\\u002fI+JFABFujWYn0kUCt20ALEvCRQPFhzPQv7JFAOXPYUiPokUBTkE0\\u002fBuSRQHjFsuK535FAzWkG0AnckUAD9rK6dtiRQOJzB6yv1JFAU413DZbQkUBHKwvD+8yRQLR24J51r5FAGpouUOGykUDCvnZ\\u002fpLaRQAX8iW9vupFAyZDoO3e9kUDyj0A5lsCRQAVQ8L4RxJFAsuzh7MTHkUCFmrr9qcuRQBQQwKZhz5FAM9PbgKzbkUC5LmZKcd+RQDfLOZ0H45FAEs7aRvTmkUAzauTh+OqRQPaOv5uX7pFAVtD8p3DykUD0p05CZ\\u002faRQHm3lT9r+pFAtwP3KHD+kUBgFZuCb7qRQNipwunrtpFA8v5PByizkUD6K2Teu66RQOJLfnKjqpFARHmIvRz9kUAXQndWYfmRQOzeL3Cr9JFAFwcZ12vwkUC0fBJFueyRQBhuH2im6JFA98s5nZDkkUDf3aMkfOCRQF5S1LKi3JFAYeldDtjYkUDCXuTQ1tSRQG6CSczl0JFAuPjeR3a3kUBPuMJIN7uRQMXPzaR9vpFAEYKfXPrBkUDZljMCy8WRQMfvQhfyyZFAEaxxAzDNkUDT\\u002fxo6J9CRQOYxfqqG05FA\\u002fgUH9NrWkUCKmVMLS9qRQIHGLG1K3pFAM4SfqRzzkUDWndjML\\u002feRQF14SU0Q+5FAsceDar7NkUCF84VSuMmRQDJtd2q4xZFAHUMeWebBkUAxbnlhP76RQFrDgfPpupFAisR+2n23kUD9rt29T7ORQLTq3etRr5FAXJ5lb1L+kUBIyjVJ+\\u002fmRQGI88szC9ZFAL3C6FpDxkUC3j6mNlu2RQJpxB5yy6ZFAZ6TPkmDlkUCZQdSfbuGRQFDsRw6n3ZFAtLMimXHZkUBz0+\\u002fUk7eRQCrrtUjZs5FA0YvvHjCwkUB+tT6dmP2RQNrlYtHy+ZFAwlZBrjH2kUCDgfTemvGRQHNO3cj67JFAxMy+y\\u002fXokUCtuXaFkceRQHGtOsFzy5FAgToLvw7PkUBj4LjQmdKRQIFZmW1S1pFAuXAI3+fZkUDZAcvz2d2RQA0yzRvr4ZFAD1vVVnnlkUBrt776TumRQOrRi3IL7ZFAp5rjiEfxkUDG7P9PC\\u002fWRQJ6aqkRA5pFAojc96avhkUAOtbhIi92RQPJK5\\u002fEB2pFAee0chJTWkUBxFGAQutKRQI89WDYiz5FAsW7xp5LLkUDn8hPEkceRQGo5tJuEw5FA+zFKefa\\u002fkUDMgZszhLyRQB+LifeYuJFA7aQxIF2ukUC26IZvRLKRQMQ6PnAdtpFAOIKfC3O5kUBqEfE4xryRQNXC25ROwJFA\\u002fQ0KmuLDkUDqMkGaztSRQBrubra82JFAtyjtG3bckUAzzHH\\u002fEeCRQDvXbQLp45FAI5nUUcbnkUC9c9EJtuuRQMgDcmRl75FA4NDOfj\\u002fzkUAzTG8Hl\\u002feRQCf8YSyf+5FA6qzMefCzkUAV\\u002f5E4breRQBPaBOIXu5FAXouw5cO+kUBcFWyPXsKRQDWM4r3ZxZFAg20bJvTIkUDPvMUvL8yRQBxWlHPcz5FAPPWSDI\\u002fTkUDq1vRkS9eRQCww8ZQl25FAWTzI+nLqkUB12gL9c+6RQK3jvzgc85FAKwnS1C33kUBfwDZXi\\u002fqRQKikTg1K\\u002fpFA8ZGwX032kUCus27ZXfKRQJhMiWgH7pFA9D+O7\\u002fvpkUCVFe8L++WRQPlfam4s4pFALwJ5TgjekUBKxbclztmRQLJOlvoB1pFAgB3jOTvSkUDMl1\\u002fBRM6RQAw1tvaOypFArvqQ94fGkUBhksBSbsKRQOMlqoJn+5FAHgbSQRjzkUChaOBA6e6RQBF0lZum6pFA0+o+RMnmkUAuZJG\\u002fyuKRQOp\\u002f5wjp3pFAthaO0ZXakUAULWbPmtaRQI\\u002fFDz7a0pFA8Elv7PLOkUAPfddDP8uRQIIdEOZex5FAqCPa22DDkUBcR8AkYb+RQOduEm0l6ZFAD9q1yhntkUDZVcECk\\u002fGRQBzzxPvA9ZFALALuYGP5kUCwHHM1BP2RQCAVnpSM4ZFA3r\\u002fWABfdkUA\\u002f5Y4cQtmRQE5Hbp3e1ZFAsUfdaiDSkUD8YdMEuM6RQC62w7yky5FAjrbZpm\\u002fHkUAv+89cUMORQP7Wmex2v5FAzJH3jPy7kUBleMnJLLiRQEyaOEZPtJFAI4kRQfX4kUC\\u002ffFLhyquRQKKTAceir5FAEfZtTKizkUB7dO2gNLeRQPvzjwaEupFAC5btwAO+kUBgKFjM6dKRQIg6aFa21pFAO+rwNoXakUCV3H73J96RQB7XxtPk4ZFAYGMWm9DlkUB9LgXYsemRQIXlLbl+7ZFAjSAXRjTxkUDIbfpcbPWRQKkYmZSw+ZFArT8RdST9kUAM7ey+r\\u002f2RQIJtSEQz+ZFAqpDfk\\u002ff0kUCa5y57tvCRQHgnLDLP7JFASSVSRw\\u002fpkUCGZMsVwOSRQKnegC6n4JFA+SZS4NjckUBHuTRDstiRQFO\\u002fEOkLxJFAeXmCLvjHkUA9At2Iq8uRQI3QhSQlz5FAS0j\\u002fnObSkUDJ6blaXdaRQJNS09Ie2pFA0aHgLjTekUDoA2JR5OGRQDxZx9qx5ZFAbxbTLGrpkUBrrb9WRu2RQNRDcyZF8ZFAd1TPxer0kUAqhcRr5PaRQHZ20Qj88pFAmmzz16vukUBcfpn8jOqRQKiscsl35pFA\\u002fQkyM67ikUAhgTarkd6RQK08ZqxN2pFAePNeJXnWkUB2WeijtNKRQAkPjB21zpFAqb+jOQPLkUDJa+vJ+8aRQDKspQDXwpFAOwKZT3W5kUD2RdlEOr2RQDuRE7SAwJFA0f\\u002fKd9HDkUCPBnvsn8eRQBGpHxxty5FAsE8a5unOkUAv3hk9Q9KRQDg9Lmbw1ZFABEG98irZkUDVfLs2c9yRQPBOsr1U4JFAp8SfkrfkkUBEhnN0LeaRQAHtOUCR4ZFAmrjRI2ndkUB8d05w2tmRQCeytqVm1pFADoSv8n7SkUAW72AA8c6RQINOcrBfy5FAOn8FxlHHkUBwcOtHQ8ORQHBhT0Kwv5FAJSpugDK8kUCfpOzfRbiRQGgtJw1YsZFA+s+Nabe0kUD+dTPUYLiRQOlspThIvJFA4xqB5I+\\u002fkUDZZ1C+n8KRQBJyX4DMxZFAzOSJRYzJkUBfnvSFfc2RQJwSW58l0ZFAyqv0CUn9kUCZ2n4ZBfmRQMnisq7E9JFA8V1CFpzwkUAJP8w7hOyRQN6gCnRd6JFAeYmEDCnkkUAXH5LSVuCRQCtZG\\u002f1m3JFAlO05VkbQkUCZtJzlB9SRQBX1uhn215FAmejMfmnbkUCGiyNj8N6RQMY29aPZ4pFAur9BYO7mkUBGrxwhwOqRQKeoc0N57pFAUJoxo2bykUD\\u002fDnUk7faRQO5D6yqQ+pFA\\u002fqhz8Gn5kUDb4hSXx\\u002fWRQHLMm9dI8ZFAkM2r\\u002f\\u002fHskUCaXbJB3uiRQL\\u002fG33e75JFAEG070qbgkUCJHFbxn9yRQNCz7evK2JFAugQLQvvUkUDeEB8XGNGRQJT9w0xnzZFAE3S8707JkUAFW1u5e8GRQAV\\u002fkh9cxZFAEhWnovrIkUDJEPmllcyRQIElXtTtz5FAzNgI4lzTkUCBLucERdeRQPUxt3Eo25FA2lmzs\\u002fDekUDamnsr0eKRQM7zGg2P5pFAICBBQUTqkUDe4vejCe6RQOop3HTa8ZFA\\u002fW\\u002fKRJDlkUCr+WmHx+CRQIgFxYFn3JFAcwE57p3YkUBPSpvoJtWRQBOlhuJw0ZFAQIyMlhjOkUCpP68d+8qRQAHVhq6TxpFAd8iZcX\\u002fCkUCXBbf9qb6RQM0YroZAu5FApUR1mkO3kUAmHhffa7ORQPZ6F97wsZFABi36qlm1kUBXRRmJ\\u002fbiRQPWZZenevJFA5xlQmSLAkUDsLYgbO8ORQH73O\\u002fBbxpFAwPk4gCfKkUCz7HknHc6RQBQ6XHu30ZFA\\u002fYFO+EThkUAw4sCF0+SRQCNcuqqE6JFA8iu0TqLskUBQ9KNqpPCRQF5jETmG9JFAF3iOW2n4kUBYXoGEUfyRQCUtCi5VAJJAb5j5XQz5kUAaKng37\\u002fSRQEZi6DQ68JFA490L4EPskUAvmMIFJeiRQGVM5TX\\u002f45FAccCjoK7fkUBCq61y0duRQOBn94Ay2JFAY4SzVFbUkUC0owuUf9CRQNXmiZ2CzJFAwnUdz3fIkUAG20DRt6yRQBvXRl2ZsJFA+\\u002fnWRK60kUDfa1UVGriRQD6ew4Rnu5FAdssHrQS\\u002fkUAPXyVO9dCRQLyVRl6l1JFA8jLN\\u002fpTYkUB48ZL+O9yRQMP6cs\\u002fh35FA379oos7jkUA0wqC80eeRQBxE3+aw65FAOl\\u002f7KUzvkUAuMDpqafORQHzFM0n795FAX6g+CoT7kUCdMic+g66RQDZ\\u002fwr5VqpFA6fVX8b77kUDgYoXhCPiRQPSh+7A\\u002f85FAYdtAoerukUAMnR\\u002faB+uRQAokgknx5pFACQmk4o7ikUAT9Uj8bt6RQFfifm2m2pFAg97VA\\u002fzWkUD1UilEttKRQFYe6ufXzpFAw4CtZvbKkUCrRB42gNaRQPlSPtd22pFA0pnnORzekUCWnpbSxuGRQLKwlW3J5ZFAHO8JjpzpkUANEKrCiu2RQOmx9lIf8ZFAyFbQATz1kUB89DhR2vmRQFCxeWxa\\u002fZFAVeBRGIa\\u002fkUAkb3EJ\\u002fbuRQGP2mFYruJFAnUguNXa0kUC2f1bNOLGRQNmHa\\u002f3lrZFAKTJj9Qv5kUBeWcIYvvWRQEO4gAHh8pFAc5UzjbzvkUCXKouBHuyRQLyxwmjT6JFAlS36b4DlkUBIFDs+OeKRQPL7Mj6w3pFAyxXMqxjbkUAYDQkDyNeRQK8TCG8UsZFA4oWPgba0kUD6GPWTW7iRQNOyCv\\u002fivJFAi1xyE4TAkUCkaapcUMSRQE3yyL80x5FAysB0kvXIkUCLJC3Ecs2RQKsWdzLK0ZFAesdg4KrVkUBZ9PH8\\u002fdmRQFAfY3jxtpFAYqT\\u002f3QyzkUAOSOZNpa6RQKreFxlsqpFAoCzoenz7kUBSn9A0eveRQFzLcJHI8pFAfpgetI3ukUCj6FbzpOqRQG+qoM2Q5pFARIwW+D\\u002fikUA7WsTEGN6RQLjndwZR2pFAShzQLJnWkUABtd4KK9KRQFltk5yBzpFAi1ZgpBvfkUAY2dPwueKRQO8a0bxp5pFAAjaRv37qkUBCa66SXu6RQOs7u4838pFAeuYDGjT2kUAEKJ1AOvqRQNAO1uBn\\u002fpFAKVxumvu6kUBWntq4WbeRQHx0StWJs5FA+E6A+xSvkUCMUiXPz6qRQFzTA4Dj+5FAJyKPa8n3kUBl7JuEH\\u002fORQN6Xm2nu7pFAfZ6ABAbrkUBeT+Hh5uaRQOPIOxCk4pFAhiaRT4DekUAhf50yq9qRQOYKAMDq1pFACEtgwH\\u002fSkUBtqZfv1s6RQAZMpFHps5FAxaOUj2O3kUBoj1YcD7uRQIr5Q9TCvpFAIucsnV\\u002fCkUBQnERx18WRQB0v6dDcyJFARmN9ax3MkUCP53HG\\u002fc+RQKzLuAeo05FASHNSA3DXkUA0pvFzPOaRQHzpZyfg6ZFA+0X69vrtkUB\\u002f2sR+dfKRQL7iznOG9pFAyPjFUg76kUBZW8Nqyv2RQDBed6JOw5FAZDpXdX2\\u002fkUDkqd3SrLuRQHhQd64ZuJFAr0ZgAWe0kUCqM5yi66+RQIfkxrHDq5FAtpq18X\\u002f8kUDfztov\\u002f\\u002feRQNt0\\u002fF1485FA3\\u002fXYHnTvkUAKVVukb+uRQBpbrFtE55FAwzq1IB\\u002fjkUCH+0RYHN+RQOSK47k625FA\\u002fEjT2CXXkUCqiR0CEdORQLS5ty64sZFAPejb10u1kUDAWBM4mbiRQJfPNeWFu5FASnfKgAC\\u002fkUAG7g3c1MKRQEUIECfAxpFA79PoGPfJkUC\\u002fSaOnwsyRQLC3ZY7Qz5FAk6XIdU6\\u002fkUDCl70sN7uRQGdhSprft5FAUOfEJCa0kUDb3PjFBq2RQHSkIXv+\\u002fpFAw2KuHXz5kUBng\\u002fm+P\\u002fSRQI1Ijf2V75FAUVBByEDrkUAIPObzt+aRQBgaF8E24pFAzO8q+s7dkUCEsD0lxtmRQHqECbDA1ZFAiv+NVejQkUA0KSwBW82RQG6vIxIXzZFApfo7rYLQkUB291\\u002fNe9SRQG5tUGQg2JFAD9vbUobbkUCu66aJJt+RQKAR8OUj45FAKVuUgRznkUDJVoQB\\u002feqRQLTI4TzQ7pFASwBXM0fzkUBJbXC2EfeRQHwmVktV+pFACmlVRVHukUAWJb9LL+qRQB3Drm065pFAQoW4KzjikUByzIS8Bt6RQDari6312ZFAdQm5WPzVkUCb8MFlLtKRQEGmeIVJzpFATR4MlU7KkUBxt1fyecaRQG9DgW+qwpFAaWUsCt++kUCGTAjmCLuRQK3j3ImsspFAQEduvxa2kUAAGCyVvLmRQMqdcRmhvZFAuM3ugwTBkUC6A\\u002fuXOcSRQKxvZdQfx5FA+LCgxNvKkUC6PLT42M6RQKbcUaJx0pFASQbPrTzWkUBE1tilDOORQIAlp0aM5pFA0G8ZU3DqkUCTMQwHm+6RQJHfpy6s8pFA\\u002fnLRJYL2kUCSpNU9VvqRQKYdfsVV\\u002fpFA2Vw6c3b7kUDFFEXgvPeRQF87teg885FAk0EbwdbukUAFBmR6w+qRQA3r1DeV5pFAz56tIEHikUAqWil9HN6RQFAKfGFS2pFAK+JsDKPWkUDQBD5Ki9KRQHm5K9ThzpFAUgdVNqfKkUA3FB3ljL2RQJxE7kspwZFAEXapubzEkUCMUajSPsiRQEG2LC7ty5FAE4\\u002fTs6TPkUAiaQb0MdORQJCO7Zrp1pFAH9lB2KLakUB+3UgmEt6RQBb+P9HC4ZFAbHejvq\\u002flkUBvEPSRjumRQFg32aw30pFAGMFFqFDOkUA296q5JcqRQAvsx\\u002f8UxpFAvqhgMVHCkUBL1p2o376RQGlCQoRku5FAwvmD9qO3kUC4JxJcgrORQOWOlfCkr5FATQiq6Lr\\u002fkUCHTuugV\\u002fuRQPrQbWwq95FAnfPx5QDzkUDIDkekzO6RQGW+IjJz6pFA3kj1yRfmkUBViVPQQuKRQAFOKo1c3pFAz+hPO8O5kUAuq0AD5byRQNg42KiqwJFAaslXdUbEkUDBxAeIKMeRQIqOgwy8yZFArxp24BfNkUBO7RbmPNGRQG3BpgXB1JFAQr5z4FLYkUCjsp4S0NuRQJaALt+v3pFAVb7dk\\u002fjgkUBUORXvGO2RQLRjyAi475FAPCWKBnbykUAlx4WAiPWRQHYKFUDF+JFA2SVZUN\\u002f7kUAdMO0EqP6RQA7RloWqv5FAYLdVt527kUBHvz0eLriRQBf0eft5tJFAXg9WCYmtkUCc99JJRgCSQLG0xAU++5FActmLJK71kUAuvcVwuPCRQCmr6n+M7JFApie32wrokUAEoEq3heORQMsC1lH33pFAYHUrTf7akUDMaZS9L9eRQD2Yd0Av0pFA4ma7b4XOkUD4V1ztr8SRQJvg38lHyZFAsB1OqmTNkUCAfhLJtdCRQCBT2Mr81JFAe4\\u002fgOnTYkUBkO83fx9yRQOYY9rmo4ZFAgWDpZ2blkUBQktjk8OmRQMAeUYdc7pFAlrt2jvTzkUCAuyjcwPiRQGBQA1Hl+5FAL564nmTdkUAt7zNsK9qRQIU9kqFx1pFAUW18ebTSkUBl3PDe3s6RQEyKC3a2ypFAhhtv\\u002fxLHkUDEQoaJysORQFLBikliwJFAtauF+Zu8kUB16VeLA7mRQKQhV2V7tZFAfmjWg7askUBk9oVClbCRQC1p2z6JtJFAjSv2bPy3kUB5P8OkS7uRQAJlgX7RvpFAj0vRT8PRkUB9QwyUb9WRQEoMkZdU2ZFAcrk3VP3ckUBgcCawquCRQPjhvU2T5JFArOae0YLokUB0iQjzXOyRQHxzb9\\u002f775FAwriGaR70kUAYoZlHnviRQBhc\\u002f70U\\u002fJFAMG4p8bnokUBBtdDqEOSRQLCKer5w35FAai3Imp7bkUDVHw2yMdiRQBFVYriB1JFAzvJTNKTQkUCQjuEDLs2RQCZuOAgwyZFAcEt1zALFkUDL15qLM8GRQHYRLJyvvZFAXlXPPt+5kUDstjSI4rWRQGt0aE1xt5FAh7VG6iu7kUDlobLOib6RQCqYepjwwZFAuoqPPr3FkUAXzTxZ0cmRQEZBty08zZFAmO8ZvizQkUAMpKoth9ORQMU2LBLf1pFA5SR\\u002fo0TakUDQ7aSrPN6RQPbkMkiw4pFAOrnUrHHzkUDBPRefofeRQN4GeWpk+5FAzyGk3er2kUA0+OOyBPORQIACr7lz7pFApSvpnz\\u002fqkUCvrsgRFOaRQFUWa\\u002fdT4pFAxz\\u002fJaQHekUCas0ub0NmRQLCLRB8D1pFAoMjFQAnSkUDq8J0fMc6RQNnSgkxRypFACOjf2ifGkUBC8mwuj9ORQK4jO4mSz5FAjujTfYjLkUAAChr5aceRQEtTvfWFw5FAvIYR\\u002ffG\\u002fkUCHsL9KebyRQJ9dIC0IuZFAIO3cadG0kUB6R43Q4bCRQG5o8ExC\\u002fpFAWd6CGv75kUB7aXp6wPWRQOTweQmT8ZFAQIwRBmjtkUCiT1fgCemRQNbnOfTa5JFANlC9t\\u002frgkUBXlNaABt2RQLUFjIe21JFADyvBihbYkUAUlXtFcNuRQJExux6a3pFAnXsD1d\\u002fhkUCo2GdpW+WRQB5xSVnR6JFAGQFS\\u002fiTskUDKNQkIZe+RQIJQL6kQ85FACJepTfv2kUC8\\u002fQlvAPqRQATv6LpP7ZFAcThTlSrpkUDfcbpZKOWRQFbCmZsj4ZFAbOA6yh\\u002fdkUBr6CxhMtmRQEKmoDo31ZFAZJlmh13RkUARHLTTeM2RQD3SWy18yZFAJOW7P5bFkUDaOwKu48GRQFhMz\\u002fVHvpFAGkMisme6kUBVTUDrgfuRQJVaTjJl95FAcgFzgb7ykUCdo00hj+6RQJUY2eeh6pFA+hppk4rmkUBPlD5ePuKRQHW+iuUX3pFApUs\\u002f+E3akUDLkdguktaRQBaE5qQf0pFAl1Z+qnzOkUCSMEGHUrCRQHsaDvMQtJFA6gTdjhW4kUCc5Z+KNbuRQMmJe+JqvpFAfmbbz\\u002fbBkUAZGLwEqcWRQLUuBhOHyZFAlxjUEgXZkUCjyRa39NyRQJjwMSuX4JFA6fnR+JHkkUACFIKbgeiRQKg21vAn7JFAkPzwz\\u002frvkUBYvLX+zfORQDRSf5Yb+JFAGHqRT2P8kUAC5p1JLN6RQJE6Own12ZFANwdSnhPWkUD7CBnwfNKRQMl7VRXmzpFAgATQm73LkUCSyfD0CciRQLCBvu3gw5FAS9pJJ9+\\u002fkUDJ0iUXF7yRQPuT9NYauJFA6RqWcUm0kUAJwsH1C\\u002fyRQEqFH\\u002fo1+JFA5w50KyL0kUAraJ2oj++RQOo9lmUrvJFADgNzBMG\\u002fkUBwW+pbJ8ORQFvV8iulxpFAD\\u002f4tC3LKkUAhTq6ROM6RQP0CYUHP0ZFAaQaKFp3VkUC0vpzwMdmRQNIIUk6P3JFAmvmc+wrgkUA3tU\\u002flE+SRQJ+y1p576JFAExioO+j2kUBNJS2L7PKRQO1+sRSd7pFAgufQr17qkUDtjuVkYeaRQEtaHHd44pFATqbLQFXekUAmJLBu\\u002fdmRQFA7\\u002f5EP1pFAwJ\\u002fqYEvSkUAtmqTUNs6RQGunABJ4ypFA8uJ41GfGkUCKV6cZRcKRQJtcM+rR1JFA7NZ3JtHYkUDpNG5oidyRQLTEAAAz4JFA5JTtFB7kkUA0\\u002fx12HeiRQEt8gcUL7JFAFQu3baPvkUAWU6LKxfORQHWzf1Ff+JFAetMmAen7kUCYUoi4o9KRQEtwboLIzpFAiMMxdJHKkUA18IiqeMaRQEyyH7y7wpFA2WTGGGG\\u002fkUB18h5e37uRQD6XRBYGuJFAYXFzF+qzkUBZJjIfI7CRQIRKAA32\\u002fJFA5Nxq6uD4kUBTLW\\u002fJzPSRQP7Lsd2H8JFA\\u002faUHLRbskUDq2\\u002fcXtOeRQJFSWenN45FAHCbbeubfkUATw3mUcbiRQLL4+eN8vJFA7zAIzvi\\u002fkUC2W3AcQcORQNrDI1nHxpFAxEwM8rnKkUCnKC5Tes6RQP1HoPn20ZFAkSVuJuDVkUC7zQaLRdmRQJuhnrl13JFAHzbBjQDgkUC+8c00auSRQKXmUAzi6JFAj752NX7zkUCeijmY8u6RQPFREHdm6pFAYC6jQTXmkUBrY1py6uGRQL9\\u002ftT9r3ZFAlDBqMOjYkUAwjL3d6tSRQM3QCzsJ0ZFAZOA7JvbMkUAslVMUCsmRQGx4SScvxZFAIMU44j3BkUANmJzzTr2RQJsWimq2s5FA\\u002fBKgbju3kUAWKIuCxrqRQIowCf1TvpFAb4N16dPBkUCcTZ1tT8WRQCvHZnfByJFAigC5oUfMkUDKXzmy18+RQB0yP9VY05FAbPs2zSTlkUCzQhYStuiRQOy7WEBZ7JFAmg0uiPXvkUDeNSmcivORQKNtRhEj95FAKZNk9736kUCaQ7zOWf6RQFosGuYxy5FAaHcDqgrHkUBZzORDC8ORQG\\u002fRTHstv5FAqYEdApW7kUCVp2+YEbiRQN6KhR4ItJFACmFKBdCvkUDV5o5Iy6uRQLAKb0IB\\u002fZFAAoswI1\\u002f4kUBWihU0FvSRQAbHaWfF75FAkjtBhdnrkUAY7NMzhLyRQMxeqfkcwJFAK3zBNIbDkUCWvZA+B8eRQIV7m83jypFA0Uk+7K3OkUDcG+QxQtKRQObEcbUj1pFA+1H1m6zZkUAHLPqn\\u002ftyRQGv1rB+W4JFAHuR1CcfkkUCX81yaLemRQFijIppr7JFAsnsXJUbokUA4dMxmOeSRQN2kCngn4JFAuoR4civckUDHcZWRNtiRQKNxd9go1JFAZv7ZIVjQkUCss7ShXMyRQLHwjhFNyJFABjsBjnvEkUDpAw8n2MCRQF+X83YsvZFAy3U2qAu5kUDhHcMml9ORQBPtbAdg15FAhVPvDk7bkUBwizUS+d6RQBdnIQTB4pFAxJFtzbPmkUCu0NBMsuqRQLnFAJ6N7pFA+YFPtlnykUA4NWCzsPaRQIyrvWD2+pFA0NJBymv2kUALIQM9lfKRQP5G4yKN7pFA5AOj2KzqkUBNkOucyeaRQEdqDtnk4pFAT2oCG\\u002fvekUCZGk55ItuRQIorOnJk15FAt9L9p4vTkUD+2+Omws+RQJOlWojdy5FAfDAHrPrHkUA04QIsC7yRQOhCR32iv5FAedObH+XCkUC7xG7AVMaRQJGuaYJnypFAbEpvt2LOkUAgGC2KAdKRQNl222oX1pFAA6OI4LLZkUAerz4b59yRQE5fCluL4JFAoT7IXjvlkUB4CQhPCeqRQH652zoH4ZFArWWrZgvdkUCfcZedOdmRQGt1H6yF1ZFAFVhwBr3RkUDfFZ8JC86RQDgsIStpypFAdgyrAYLGkUABHZj1mcKRQBSkh4DEvpFA\\u002fuUuzQW7kUBqONomKLeRQNcSSJ9Qs5FAv0jCkFj1kUArE5CeUrCRQAgpqWDXs5FAhTfn5gS4kUD26e7jiruRQA2hQGGJvpFAn34n15XBkUBtsNI5SsWRQEFx6ktayZFAvkIZVY3NkUD4q+agUNuRQL\\u002fT0XZt35FAK5a4CCnjkUDfSoolpOeRQAM5uCr+65FA\\u002fF+ZL+fvkUBVDfUzTPSRQErRtofZ+JFAbK2TzYD9kUDVe8SoIc2RQHhc3yzuyJFABFmOU9XEkUCM\\u002fo3d6sCRQN0v4YI4vZFAVkNuzdW5kUBRTfyw6bWRQHP6lCSnsZFAlpfoVJKtkUCYiH+6s8eRQBxqEHiny5FADhvjqlPPkUB4cXiq5NKRQAeGuv6s1pFAbrIExV3akUDm6\\u002fwfbt6RQFzq24B64pFABiGkGR\\u002fmkUCoITs7BuqRQDt5eMPq7ZFAKdBJoxLykUD0\\u002fLZi2PWRQB8ueDhU8pFAym66Ou\\u002ftkUAhIle+rOmRQHYAMI6c5ZFAPAcXW2vhkUBEC6dGXN2RQIrdDQsB2ZFA\\u002fIr+HsXUkUBlrw797dCRQL\\u002f+9yUozZFALB+U0kHJkUDhlA3xUsWRQJfVaZ4iwZFAmRU+MKq4kUC16\\u002fQkg7yRQLazQKvhv5FAjhQ03UnDkUALwdQhN8eRQB44rGk2y5FAjlwEU5\\u002fOkUA9Q3xM4NGRQBpjE4hi1ZFAOwJu1q\\u002fYkUDgd5dUPdyRQK7QM8Vr4JFAQ4M2oCT4kUAnTU7fIPyRQF96VeY13ZFAbadK5uXYkUBEGN1H19SRQMINa2j\\u002f0JFADTjelwzNkUBn+K3pVcmRQEyEUWrSxZFARRNUtv7BkUDvXeCkEb6RQLn05FXouZFAuDxTDOm1kUCLRllpHLKRQAWZu4sk\\u002fZFAYimZhIP5kUAXrWvghfWRQL\\u002fef2KQ8JFAlepU3QPskUBUAfFsYbCRQEO8CzIstJFACu\\u002f7mJG4kUD3lkljk7uRQJMWM+BwvpFAX5yTIevBkUCYkCuOu8WRQJfembXeyZFA8P9Adw7dkUDdJxTKGdmRQGpbgyQ51ZFAHn7U7WbRkUBePODUnM2RQAnkl7PUyZFAOm6loAXGkUCtLYHhJ8KRQJOJmbxJvpFAn78SZmC6kUAiGMhnfraRQDN9rHKgspFATd4LKO78kUCH8U\\u002fVLfmRQEMPfFk49ZFAtM7JDg3xkUAG26Vw9OyRQF87i7bYwZFA9gmMRcTFkUD8REw5mMmRQIUoYmQqzZFA8EcLr8\\u002fQkUCMuxpYYdSRQABxEnQ32JFA5+3K4S3ckUDB82IxEOCRQBU+C2jv45FAjDClV7znkUDk2+w7h+uRQDx8CLSA75FAEzIi6kbpkUA6Tpi+pOSRQF5fjuM44JFAMjRUGlnckUAqUmFms9iRQC2jyFPl1JFATq75Eb\\u002fQkUCqIN95Ac2RQKRinwH3yJFAj3MzDqrEkUD\\u002fzxIJ88CRQDrOnHRovZFA3ZoEX1G5kUAm53jPm7eRQIk7ZtFku5FAB5AlH7W+kUD0gT38OsKRQLaxM9UfxpFAuGYVj1rKkUCvmrUJc82RQIPrrDB\\u002f0JFA4qXpefLTkUA\\u002fGOC2N9eRQEX7\\u002fYnx2pFAMEg+ySTfkUDLBBuAhfSRQOFztcl8+JFAQpIqJhr8kUAMdBGk2caRQAi\\u002fXtq6wpFAhT1Ybc6+kUDeb2QKFruRQOHHylhgt5FAF1M7zk+zkUBfgHuJ+q6RQL\\u002fqEkefrpFATXEVxm6ykUBx0Fglb7aRQKAWquu7uZFA+QKk6gy9kUA8h0lFl8CRQK5\\u002fesU7xJFAHC\\u002fFyIjXkUCaLxn3ctuRQIj6RHob35FAUK0J9t3ikUCjPwnV2uaRQFNutf7F6pFAAAkeUaPukUA59ptvZPKRQEZ4L2+w9pFAzhH43\\u002f\\u002f6kUCMLqVvTfORQP+\\u002ffzvv7pFAhmQX1Y3qkUAV1xLZdOaRQIfLBm484pFAJKIlMyPekUBDQeQ3t9mRQMMW4Qh91ZFALoeMiY3RkUBvowXGpc2RQE6NQZbDyZFA6AhLMMLFkUBrHws7jMGRQMgUkaTL3pFABqu1RGDakUAE5VGUWtaRQFTASB2g0pFATkmAeurOkUBAXD10nsuRQOHLKbLNx5FAQReDzpfDkUDcc6IffL+RQIGrM0WGu5FAyVnaW3S3kUCwt7x\\u002fgbORQC+KQH3Q\\u002fJFAiDfZ8uz4kUCt5SF47\\u002fSRQPvVJNkS8JFAKtNea072kUCt3RpfUfqRQDCbh3rj\\u002fZFAoOShDpS7kUDMEIYX2reRQEDzuen9s5FAKFbsvUuvkUAd5ztA8KqRQJhyruvI\\u002fZFAJZ5Eq9L5kUB\\u002fna8j4\\u002fSRQDm8y2R48JFAsw7I1YzskUDVpDHVO+iRQMXTF0zr45FA5BTpbqffkUCa7bFIq9uRQF\\u002fUPj+z15FAbuuwCjvTkUCGpuaIZ8+RQOwi7Nm6r5FASE2QIWuzkUCloharYLeRQEpMwOq8upFAPzFzSdi9kUCgBaDjT8GRQPdghJj4xJFA5xHHYszIkUBK8U8dHtmRQDrgw0kW3ZFAhiU4EbbgkUCPm14EsOSRQMr8nKCo6JFAdlKsuULskUCp\\u002fDTwFvCRQAOvpxXz85FAoC\\u002foGzz4kUDj\\u002fXjagfyRQOSe6PmwupFA5HlFTXi+kUCjmxyNjMGRQIVnoAXWxJFA3Z\\u002f+9Q7JkUApTg6E68yRQOD92olb0JFAdvaAV1DUkUB3\\u002f\\u002fpiuteRQNWY7m6c2pFAE7P2KPbdkUDhSDimp+KRQI2hpb7P55FAtqEb00vekUDPYuOZ4dmRQF6HUZrI1ZFAEKTemOjRkUAOgzrRCs6RQKeWp8NxypFAp32z087GkUBdxkjv0MKRQKyL4LzJvpFAD1N2dK26kUDXkWAfm7aRQHKF\\u002fAK9spFARjBn1i\\u002f8kUAhXo7lp\\u002fiRQDwHYZFl9JFAe86uIkvvkUBa6LIh++qRQIC+CtMBxZFANR+EapvIkUAmd1XfLcyRQOsa6Reyz5FAJlggmkfTkUB5OWF4y9aRQO1NE3dd2pFADt0\\u002fJPfdkUCReBc6h+GRQJLI2eIY5ZFAgX9xmKbokUBk8ScpM+yRQATNIq3C75FAH\\u002fo9tNL2kUC6fVIJifKRQCqXUI5P7ZFARFEt98\\u002fokUBUk4hUguSRQD2PGOSD4JFA4nQHKoDbkUA38RerIdeRQPAyFmVg05FAeJ0rc\\u002fLOkUCrf2LHJMuRQD7VvkHrxpFAPKcPJojCkUAT47x+gbKRQHtUsv8MtpFA4hnQkpO5kUCYmTDDHb2RQG+7ex6hwJFAjHpuICfEkUAf0THVpseRQB7GGv4cy5FAEcgVRpfOkUB2yRNfG9KRQJtFZAee1ZFALTUhKyTZkUCsTfOYybCRQEDDVzE7AJJANgYJI937kUAKcaHx5\\u002feRQL7R4xRB85FAVfr5U\\u002fvtkUBmx5F8FOmRQE1bEWu75JFA\\u002fp7IS6vgkUCdihJpPbeRQDYRHqICu5FAF+apyju+kUAUbBFRycGRQIji\\u002fAWdxZFAaoq8WtTJkUDSqPUc2syRQF5iV0HPz5FAS+NRCS\\u002fTkUA5TDsTiNaRQK9VYyw\\u002f2pFAQdY2tFDekUB5FjNJ2vKRQO6tP2Ij95FAS5lwVof6kUDPuPfvX\\u002f6RQJHOp5kdrZFA0XnzNDjKkUBLz8gWGM6RQNhdp3F+0ZFADfcg1nbVkUDHaWtxA9mRQAnvsctz3JFA1hc3tD\\u002fgkUDXhGi9OuSRQHwVZC0v6JFAFoHJ5w\\u002fskUA55z04EPCRQOHv\\u002fQFz9JFAdDEEhun3kUBSM+6cEdqRQMJVFY7i1ZFAZI9oLvDRkUBgFXzot82RQFdKB\\u002fjfyZFACRNO5HLGkUBxa2a5rcKRQDlBoPHXvpFAjKC+sKu6kUB2jRkTiraRQBR1yemxspFAeZJWZTL9kUAeU8xFgfmRQLb\\u002f9jFc9ZFA6ielFnvwkUDeno5UzOuRQNTdTBOi55FAt3E9hgGskUC\\u002f1saUf6+RQJUdlGgEs5FAxbYvcnq2kUD52ssP7bmRQPRKYkxEzpFA7uPHc8XRkUBs3Y1JX9WRQDs2uKPm2JFA5fUO0WfckUD2vN1m7d+RQHd9CBN\\u002f45FAZ\\u002fmWVA\\u002fnkUCsFc4nmeqRQOjIR+wk7pFAaXNkaLrxkUB7L9XzQPWRQNA5ejm4+JFAobrJqAb1kUCPIIJn0vCRQBveEXo67JFAAIMy3Q3okUB2AneJ+uORQNoGfZjy35FAMIVamF\\u002fbkUAEmuWMO9eRQGNkxUR805FA8kWjNC7PkUBBvEDKZcuRQNtZzWlBx5FAh5chsfXCkUD5jTG62cyRQFffj0ZE0JFA7qljgDvUkUAqKdLx7deRQMxZhhJT25FAoDxi7PHekUBLy2D+6eKRQBIRijjo5pFAilCCtMrqkUCKgUuRoe6RQFzZX+ke85FAmAEQftv2kUCgvJtxadiRQFp6hJA01JFAurR6FkvQkUBAQqIp8suRQHOdK4jKx5FASXWLW3DEkUBK7zm608CRQD5ihjQjvZFALHr33tm4kUDW2MSazbSRQNUJE44DsZFAfaFLA7z9kUCvZsENz\\u002fmRQNJz5GjI9ZFAeryIcC7xkUA9PO+gXuyRQArw3fkD6JFAGdkMCyLkkUAPYxAYCbmRQC1FjcTHvJFArjmfogjAkUAkG+6Ya8ORQL2V5vVVx5FAUnknd0vLkUCxXlwbmM6RQKymIzy30ZFAKH1rOCjVkUAT4HWaYtiRQKo5noTk25FA6ahvvP\\u002ffkUCzg9fF0\\u002faRQJ9enuLf+pFAQrR0v1C+kUDGMdB\\u002fAcKRQMiu6k+UxZFAeRafpRnJkUAofmHrw8yRQJ6qdrh80JFAGJGocAbUkUCTSpoxx9eRQLeq7A5+25FAvwiGQwTfkUB\\u002fkf\\u002fwseKRQEARCImU5pFAew8yo4PqkUCUVM1p9ryRQGZ1TUa0wJFAL9tdDWbEkUDRJHgs8seRQF8qcxZ\\u002fy5FAN+reGyXPkUAAujhoy9KRQIsKMpBd1pFAWPk4bB3akUAafhKo592RQJVu+NGo4ZFAwDMTMmDlkUDc4642I+mRQNxyrYAP7ZFAUR87kKfskUCSqmudfuiRQN\\u002fLmHRp5JFAA2djcDbgkUBP2zwHDNyRQGTUVtD315FAuG1ElO7TkUBui95MDNCRQPi04OT8y5FAk8Xk8+nHkUDr4x2REsSRQABX\\u002fUhPwJFA6g4Ue3+8kUDAJXmkmvKRQPZN3oU27pFAC4QuR\\u002fDpkUBAMieh2uWRQLUa1bmj4ZFAJbsrV4fdkUAbhmjtPdmRQCZ+Zj\\u002ft1JFAGMTsqAHRkUDC4NgETc2RQGJvjsJbyZFAjQ2XT2nFkUCUJMOrUcGRQJTkZSYzvZFAPWSgTvipkUCXULwOxq2RQFUupCX3+5FAWKCp6j74kUCEBtbMxPORQJhO7Cwu75FAyucngwrrkUASNoUbxOaRQHcbWG9g4pFAYecnJCjekUBK55z5P9qRQD28Vrh61pFAEghrVXTSkUCGMNRkk86RQIgfJDpKypFARCtseMyxkUBcUw2URrWRQOvSNOP8uJFAJAgHusO8kUB0hEGm+7+RQHkLupsAw5FAJg46QIPGkUAtfkHeV8qRQJNLW9M9zpFAvHFedOrRkUA7r7EgdOCRQJrptLcR5JFATWtVYN7nkUBCrYVo9uuRQH8itojR75FACt1y9rTzkUBX6mfEtfeRQNGG3BjU+5FAVap1XKD\\u002fkUC4D0xRKtaRQHzgniAN0pFANTTzihDOkUCBkbSXwcmRQD4FFZipxZFAd3d2xA7CkUBvLXoEpL6RQGzgdZX1upFAJg93W922kUAer2S7tbKRQODahQf5rpFAdTR1HTj\\u002fkUDdd3UO6fqRQJOom+Xk9pFALX62HZvykUD0GaWRC+6RQPx9sgWL6ZFA\\u002fEi6c2LlkUAGiPOOduGRQHSr9b4tvZFA0KNEaPvAkUDBISGWucSRQIOzHHFSyJFAyEUywe\\u002fLkUDq8cufis+RQOKPMYY105FAkKJBs8zWkUAGPkypitqRQBWgsGlh3pFAQncSNz\\u002fikUCT67y09eWRQOJ6Fiu06ZFA5n86ZZntkUCCNGJ3IvaRQCDUt\\u002fYc8pFArDErgqbtkUAr1UH8c+mRQL5KMU5s5ZFAsHT+CFPhkUAj2DDYE92RQFMGvPbG2JFAbqR4isLUkUAD85qq0tCRQKPxY+jezJFArlCUBvzIkUDwE8ZP78SRQNRFhAHAwJFAio2Md6rjkUAzjGbXMOeRQBMF7fJA65FAHMl\\u002fTIDvkUAOlZFwf\\u002fORQCiWv99S95FAJm\\u002fWiTr7kUAtCyl3X\\u002f+RQK\\u002fzEays4JFACX\\u002fxKwzckUD3FM8aC9iRQIGFuiiA1JFAyCOjsa7QkUAg7YQJRs2RQJyYgzLvyZFA0MggD6vFkUC+uoi5dsGRQN2QqP6XvZFA+N1vRZy5kUAmm7swrrWRQAjTRHSfsZFAU97nWVX6kUB22vKURfaRQCVTqFi28ZFAYQmgqqjKkUC9\\u002f4bHos6RQAbsGjMe0pFARlPSOgDWkUC4LoMqiNmRQDYlmxMm3ZFAFzhc0A3hkUDoUaxlBOWRQBFmQRr66JFAyAoGBuvskUAViYeVOPGRQJhV+aMy9ZFAmc5VXaP4kUBsW6VP97KRQFq1rqV+rpFAflJPciqqkUDqnwTYovyRQPuC9EXW+JFACO4HEfnzkUBG4nCWhO+RQIk7z+GJ65FAzyb9hGbnkUB47Qer9uKRQHw9Zjep3pFAGVPETcfakUBDo\\u002fBJBNeRQBOK98yc0pFAaAyBzLLOkUCz57krD7mRQPAK2bfwvJFAul98p03AkUA60n9op8ORQI0AU3SEx5FApcUOqWTLkUDBrR9\\u002f6M6RQKAS0ilA0pFAOopMPeXVkUBuzDgYJ9mRQIaXDvOe3JFAhauYRLzgkUCjbbhsVOWRQEDHIDeg+ZFA5YfLQzDkkUA7DcPwWt+RQD7GAAYZ25FAQCS0iV3XkUAKUyvimNORQDIemjHhz5FAJ+RFMaPMkUDruXySxciRQKRCh0xaxJFAcdnsi0PAkUB1vzIsiLyRQF13kryVuJFA8dbkZIe0kUCstDQqzfmRQE66Nax+9ZFAmicdcsCqkUD9Rb\\u002fIr66RQNp8JHJYypFAvInq6D3OkUBvximitdGRQE3Zw5nC1ZFAXPgO+VXZkUBNnU553tyRQLHA02rC4JFApdVE3MzkkUAW+qg4yuiRQExMjQ267JFAz\\u002f0wZfbwkUCR4hyRKfWRQFvxYaGU+JFA1dVeSXj1kUBKF3E7VvGRQMBrMeyn7JFAVWcgn47okUBQHoXJcOSRQOlWkeV\\u002f4JFAXRKmJuvbkUCa8BHft9eRQDiTKUf405FAHkwkrbvPkUBVkhpA5suRQG65dXPTx5FAq0itnJHDkUDh7KllI7WRQCSeaOCyuJFAhUtyX4W8kUClGakPIMCRQABnoSPNw5FAPevEdDDHkUD4RE23NMqRQByYAPvCzZFAU7bRAqzRkUBLBHTYX9WRQK0eUAxJ2ZFAdhtw2gvokUAIX83y9euRQCfnod9g8JFANS8GH7P0kUDgfwAagfiRQIL5r1Es\\u002fJFAAQUQni0AkkD+CyaVH8mRQEmsLbzsxJFA7JfipenAkUBkruaSDL2RQEMhxsFjuZFA+WkzYKi1kUCR442bSrGRQKjBcjAGrZFA\\u002fA5BS0b\\u002fkUCZwjCoB\\u002fuRQE4KJZFy9pFAR\\u002fgpDwfykUAnlEBpz+2RQEL3a6Da6ZFAf+aa6ajlkUBEhu36MuGRQClTZkU63ZFAcOtnCxrZkUAnXyUb4dSRQIviEKzju5FAJGglvJi\\u002fkUDh5MdfQcORQDtDnaTZxpFARYwdiJHKkUCfEU0KYM6RQLe5k5IM0pFAC3jiE9TVkUAsfA+jmNmRQJMRdQ8G3ZFAZ5dcNa3gkUCzApd\\u002fqeSRQIa5nFPl6JFAjJHvZ5fUkUBOgm+PgtCRQLVEEBdVzJFAoqajuAnIkUBAPwYHCsSRQDU7cWZrwJFAovS8UuG8kUB+Z28fH7mRQGqmTWThtJFA6gWAt9iwkUCnI+kJlf6RQMvySbc8+pFAZA0y\\u002fQz2kUCHd2mesvGRQPKM5tA47ZFA5hYEYK7okUBG+lzthOSRQM8QUKeC4JFAy\\u002fvb7ZDWkUDBzsUuYdKRQK37oIpdzpFAVmfx2fzJkUArn9ug1cWRQPHNxS02wpFAhUZK\\u002fbu+kUCyNMmI\\u002fLqRQJfnqTnVtpFA\\u002fsQORqKykUDLrRnM1K6RQGY8jgpW\\u002fpFAoMkcuRf6kUCc\\u002fr43AfaRQFRL0WWZ8ZFAE9uRcuXskUAWpP\\u002fFXuiRQHkEA+RU5JFAVEzHnlHgkUDuuvos6qyRQFtXIqUDsZFAryVJpvq0kUA1ySJ2YLiRQP8N8ZhV0JFAs7UJVynUkUD89NfxJNiRQIIwLQqr25FAO+mabEffkUAh1qDFR+ORQI+YKrZs55FA8JlZwlbrkUAi02SVJ++RQDgh+bRV85FAunucoKv3kUAJH3aNLvuRQNh7cNNS+JFAqeDhOF\\u002f0kUCK6h53AvCRQM00JrmJ65FAwLvN8T7nkUCIf3JBPeORQP9YcrkC35FAjCfVNH\\u002fakUDfzNK6btaRQArn9lOG0pFAN8FSUFDOkUDJIq61bMqRQB7CIIQwxpFAFust0OvBkUBbEWX+BcKRQB5+1Y\\u002fyxZFAwCBKrLHJkUA5fIpmSs2RQNjqAvLM0JFAIGGn703UkUDI2knjT9iRQN3apq5B3JFAa5ivFhLgkUCvkOMoBeSRQGqw9CTL55FApUdGAYjrkUCH6U79cu+RQAQ2I36A7ZFA0EYkpxnpkUAY6R2HzeSRQJ3SrUdt4JFAPskrRG3ckUAn3F+UntiRQNcBLgeM1JFAaEzdc3rQkUC58typhsyRQJEAfBVmyJFAlcoHOkLEkUBhsqsamsCRQHeiSRbdvJFA039yvpm4kUCocTVJiruRQIwm11sqv5FAJEvR8pXCkUAeGIOOGMaRQDHNnfrjyZFA6Dgxhr3NkUBYAPW\\u002fVtGRQOid2MUo1ZFAHbxwL7jYkUBSCY8qC9yRQEfvLM5635FAEkDrEq3jkUDjvzPTIuiRQNch4hNo+5FA7sLm4Pb2kUARVHazV7qRQJ\\u002fc7NkavpFAUUk5rInBkUDoeu+668SRQHEiZFSuyJFATBeFbobMkUA62QjhINCRQPa7oozf05FAQ2lLrIXXkUAio1it1NqRQJ8BNjIu3pFAMxmzYDTikUDkV1ElqOaRQHnPcp7R5ZFARxaDwdrgkUA6EJJ\\u002fW9yRQLhAtSN52JFAdhMuLrnUkUAgOBUA39CRQFTw1zl1zZFAlpk25L7JkUBGT3jKMMWRQAYO\\u002fwL\\u002fwJFAlpo1CR+9kUD6DXmERrmRQASnZvwYtZFAcGjwDNb7kUDO6PHlbPeRQBIApBqvv5FAOPt+X5rDkUAOHPHpP8eRQJSKgrjgypFApakZC2nOkUCJ8M3zG9KRQN7EJlC01ZFAp9eqimbZkUCX\\u002fdTuUd2RQKoyuOJK4ZFAAqeL\\u002fRDlkUCF1Exxx+iRQO3aXH2k7JFAMYvrqyHvkUCM75Vdx+qRQGIN1a2U5pFA412q2GHikUA25JLPJN6RQNZjGmf\\u002f2ZFAOBjpQdjVkUAGxTSNz9GRQKPmj+PDzZFAqhSlM5vJkUCkSmkhisWRQASuDeK0wZFAt5fLTvS9kUAYJE7c07mRQJ+qsuvaq5FAQkfPx+uvkUDIbkVT9LORQBJAjONnt5FALk\\u002fxYWzOkUDL7SUy1dGRQBldp1sN1pFAIsIMDp7ZkUA3QhWTI92RQC7VLpPK4JFA6nskFQzlkUALEQDE9eiRQItS7hfl7JFA7TDBN6jwkUDoqP5zVPWRQDnVjBII+ZFAwHnmpKCzkUBUvhy1IK+RQEXUb2WiqpFAAjn1lFHekUCSElYPXtqRQBQgeM961pFAtwnB8+bRkUCdmk9dD86RQKtJ3VNvtJFA\\u002fP38jyW4kUBY742j3buRQBzQ74Uav5FATxjoLsTCkUAd7zqOtsaRQMDf9WbMypFA31y+kqLNkUDFGOALv9CRQFzzpdQp1JFAWb\\u002fI4KXXkUAOCAwxeNuRQO8RHyO535FAKR712dvukUBQJeTUSfORQK3iiZGF95FAXqJIref6kUBnvOUk4v6RQLIvA00HAJJAIBJJnIX7kUA3vtuQ3PeRQA2ipqJY85FA8YG5b1PukUAF80wzwOmRQJ9qy2Gv5ZFAKAVxMQW\\u002fkUBx232m3cKRQF7xk\\u002f58xpFAMLchHxLKkUD4hkSCns2RQH74ihpZ0ZFAn++0\\u002fuzUkUBvK7XKodiRQFVSrQ5z3JFAnceNQUDgkUCHngtZBuSRQBH2jwvB55FAHLzobpzrkUDDafwtj+SRQGmlYf6b35FAj\\u002fgwMUHbkUD1OL0DdNeRQHDpuseU05FA\\u002fG6WMcfPkUAyGpIuesyRQOjqiqBbyJFAbCpKLODDkUBCAUZbur+RQCFrlEj8u5FANd0689e3kUCPdyutuLORQEqwi56G+5FA5KKACw73kUAf3EGwxcSRQCxnBEe6yJFAdBJKimXMkUDhyrJ\\u002fA9CRQC7qszqr05FAIBG7RkDXkUBftFJyFduRQN9pxHAb35FA3TJ32dbikUAVQZasquaRQEBwvTlo6pFA1mK181PukUBTyWD5OvKRQNu4WsFK5ZFAzOAs1VTgkUD1UlFJ5duRQMtQ4mYK2JFAmxgnXTPUkUBuRpGiW9CRQPvrWX79zJFAnELDbgbJkUCi1yhegsSRQNZVPINSwJFAuAOWA4O8kUDIYoSyf7iRQNd28r5VtJFAiV8IPh\\u002f7kUDX\\u002fyxaFOWRQATNrB8X4JFAxJwGM6fbkUD2bkSCy9eRQJfrhXv005FAoE+VgR\\u002fQkUB41C3dxsyRQGrdB0DPyJFAUerweEnEkUD1PzMzHMCRQNKi1GtQvJFACPzgtzi4kUDJSRnTErSRQK2SyDNs+5FAI1yj4fL2kUC7FRLUHcWRQMeopAcWyZFAEI3Mkc7MkUARMJWWTdCRQEi9\\u002fEks1JFAL9IG8JbXkUDt2\\u002fwdaduRQAdEiKKM35FAfi4aTTfjkUBGDQhaAueRQNQ59+DD6pFAJRDFC7fukUDeUomFsvKRQFD\\u002fhsyc3ZFA20Sy8ynZkUBw6Ime\\u002fdSRQAeFwuAH0ZFADE3Vke\\u002fMkUACu6cjF8mRQFrAGiqBxZFAtyYFSZfBkUA6RsxPj72RQMK1tdA0uZFALtUzQR61kUB2\\u002fPUSOrGRQP5h\\u002fgTW\\u002fpFAnfz7Tpr6kUA7yyDH5\\u002faRQBPpsL8U8pFAtiSkrh7tkUBQz1FO0uiRQPqQlLpUv5FArv7te2fDkUAJCUenWseRQEwbEH00y5FAi2\\u002f1ZovOkUC\\u002fEx4R+NGRQOydFiC\\u002f1ZFAn1rqMijakUANI36Tdt6RQA3lVGZ84pFAeWDgu6DmkUBHPn52kuqRQE78r54B75FAjGdNTGXzkUCzik5kifORQHfqaOSc75FAKlkNq6zrkUDynBZqt+eRQEJ1CXPF45FAyuOKItLfkUA38k\\u002fp2tuRQGmzGOTk15FAMvxZj+vTkUAAG5qB8s+RQPVx0An8y5FAPb+wOwXIkUAUCetaC8SRQEq5gr4ar5FAErDspJWzkUA6zVuinriRQKzEp5wlvpFAo2NJl\\u002fTCkUA+eG6IAsiRQJ0yhQFyzJFARDnq8CDQkUDKUkycv9SRQO7O7cva2JFATYE5lfndkUAERKPkbeSRQHF0tuqQ6pFARqP3JvTskUABNnVofuiRQKQDSAoO5JFA1y1yZKvfkUBpeyU2vtuRQHccxVDj15FAxiarNsXTkUCh3XxPuM+RQOkdxBW\\u002fy5FAwc3hBYHHkUAUNV6cZ8ORQM3f\\u002fDnCv5FAnjjpUd+7kUAajvrxlLeRQCF2ra4yq5FAP5QLlh2vkUBU53maI7ORQEnkxEXWzZFAbDZeYTLRkUAvn4rsU9WRQEMNvbbs2JFAOtLTQGDckUCv0R126N+RQH8hjtUU5JFAckbaKgPokUDxA3au5+uRQICY8t+v75FAA0zHTTv0kUDyPqe4+PeRQJIlJzDK2pFAtHgOYoDWkUBnIgvhXtKRQBihKKMyzpFAjzCsfdPJkUAC8MJfH8aRQEskFr53wpFAcB5CX9G+kUBXuPqus7qRQPkm\\u002fJV4tpFAHd7mUHeykUDm7dbD\\u002f\\u002fuRQMED79Eu+JFAhstcc8bzkUBLtqvq4O6RQIBO+9U56pFARQXjrg\\u002fmkUCDWFJQyMSRQMO4zKC\\u002fyJFAC9xkaIvMkUCeY+uZ58+RQALZF6jk05FAYZzUbjrXkUCA29PRA9uRQBFvS5ot35FAEfY\\u002fctTikUCEJ1TsmeaRQMJXGQNM6pFAzPBvYTzukUDgBUc7R\\u002fKRQFiVWW9syJFA\\u002fYy3xDXEkUAFnLrXKcCRQI\\u002faWeRSvJFACPuR2ZW4kUDPrIKbnrSRQMKYMC00sJFAcqQOKu2rkUBuOrOMccGRQFoZHSVKxZFA4uc4YSHJkUCskClarcyRQL6XHnhE0JFAMXAJP9bTkUBhIiJshteRQOZAvohg25FA2S1i9kDfkUBqM+OmB+ORQMnKpKnL5pFALn\\u002fDzoPqkUDeNUmXV+6RQOFJZjom8pFAaImveEnEkUDJt\\u002fKrQsCRQH4NW3BOvJFArSogJ464kUC1\\u002fcGUt7SRQKdp6sgYsJFAuvGv6byrkUAjW9dsF\\u002f2RQFE6iLxm+JFARX8LsL3zkUBR9XKMhe+RQGl7W3BN65FACkOtxCDnkUCVa11ar+KRQNC6s92S3pFAPDD604XakUCbGS\\u002ffMtaRQNR5AWES0pFA8xWo7o3DkUAP4hZad8eRQPzHH1dLy5FAKb\\u002fyBsPOkUBhMZSkntKRQAZ0k54T1pFAh6RzpcPZkUCajVsFzd2RQMBR9LeW4ZFABNr1TVnlkUBMLQwoFOmRQKeqfH3t7JFAqoNixOjwkUBgAxZRmPSRQE1GQvoHzZFAmy7jz7fIkUCOC6Dxh8SRQLpEV2yHwJFAbk3xQsO8kUD4OqJMQLmRQM7oB2sktZFAG\\u002fpFVcawkUBlaUP6mayRQMElpHNZ\\u002fpFASUri\\u002f7v5kUCDn4XePfWRQJlh00nE8JFANhNM\\u002fZ\\u002fskUCVfrU\\u002fjOiRQGUKiKfR45FAKDmcIb7fkUA1YwRPwtuRQJYtjVwp15FA2B6VBsKrkUBaxup2uq+RQI6rUVTDs5FA+CBXTjO3kUBlRBEouc+RQAPY+Ktq05FA3hC07WvXkUCcVmg62dqRQPNProJi3pFAoe2kLzHikUDy4CYWWOaRQEJeHTU36pFAX81r\\u002fg7ukUC77HMwF\\u002fKRQFUuB7Z79pFArfUchOz5kUB0g1nwWfqRQKZECxdd9pFApFYuPhvxkUCZ2HI6WOyRQFZuIpzQ55FAsd91L4rjkUCyJMDGMd+RQKdR4wWG2pFAhFrEuoXWkUAV\\u002fPOGW9KRQE\\u002fkS1ItzpFAJGIX2izKkUDXXEQztMWRQE4J9ClTwZFAYaduHie3kUCYZo1robqRQJg8Vi5QvpFAqF41wuDBkUDruc\\u002fjUsWRQB26zu2yyJFAOgnI5lDMkUBk210SBNCRQExiEGmN05FAMfohzR3XkUDl8U4nhtqRQMR\\u002fcVPJ3ZFAUpbnalDrkUDjWdxow+6RQEvIhekQ8pFAjH1+d331kUBYPSuv\\u002ffiRQE6JAgF4\\u002fJFAlOJyoNv\\u002fkUCh6AOFN\\u002fqRQHtaaz5p9pFACErjBsHxkUDf8AMnLO2RQGW6qkno6JFAAFNUGY3kkUCTpOx4SuCRQEeyazkT3JFAaYjRNQrYkUD0ZpSE8tORQFz40k7yz5FAppRQW\\u002f3LkUCqaX7Ur8eRQI4E772Xx5FA7dOuonjLkUCsII5dPs+RQODgX+Sr0pFAN1YK22LWkUAUViUuB9qRQBfIlMv43ZFAV\\u002fN2gRLikUCEbUnAoOWRQG3LRBuA6ZFAeh0+x0LtkUBlSLbOb\\u002fGRQKxg7vky9ZFAVLQO6SjPkUBz2sSV+cqRQJJYJ7OtxpFAvFgmk5vCkUCXmJspur6RQB\\u002fhILUuu5FAgmmzKoi3kUD4IkG2G7ORQLmClKXdrpFAtR0DZCjukUAg6qXgCuqRQKGDBCuB5ZFA9kzYe0fhkUBieBAvRt2RQJsurgvM2JFApSuRAuKukUCkNGOabrKRQIIXaWc6tpFAh0mL0AW6kUBtDIIx+LyRQI8ova1JwJFAx5+I4uPDkUC02F\\u002fhp8eRQJqRAbEF2JFANc3sRzfckUC2KTRTyN2RQPEo5VFb2ZFASRycRDjVkUCv5Z6hS9GRQNW5JFk5zZFAn2mgimnJkUDsmCKl4MWRQIHZiUYCwpFANEuS6P69kUAOnV2Qt7mRQJB+yz+htZFA5+y2YsixkUAYhlp0avuRQIdQl20F+JFAjqakvXTzkUCvThBQUe6RQONQjVT46ZFA82erTjzmkUCcBsw9C+qRQLBjyYI+7pFA+1xs8XDykUBdDtbuTvaRQF53LA8p+pFACt1tUDL+kUDY3V83lN+RQDIabUUI25FA2ZBO5\\u002f\\u002fWkUAVkkL8S9ORQLXKpW15z5FAVXJ4jSPMkUBl8084Y8iRQNeWsUAPxJFA0owcXeO\\u002fkUBfPVJf67uRQHq4zm3Gt5FAz9smJ86zkUA\\u002f0c4rZv2RQAedbQ90+ZFAXJlGiF71kUCOccR6qPCRQLK5buNxtJFAFHA+XA+4kUCxeUo+xruRQKplrOBXv5FAVV3u1BDDkUCyqhcgvcaRQBhqb2fuyZFAfyGKXCHNkUAkdKXTzNCRQNBtE6Bl1JFAI6qZIzvYkUDTYdtfDeqRQGqeS7EL7pFAyE\\u002f0KcDykUCg0JnI5vaRQNHqdIdi+pFAICtPYSD+kUDgMkztiLaRQCyZ6telspFAR8eNARP\\u002fkUDLpFSszfqRQAE1ihk495FAMo3vE4HykUCg4+nYme2RQDDiSj30sJFAjBWNKZm0kUBMbAMNJLiRQMxTfxr9u5FAtBmPUrG\\u002fkUD0tK27CMORQBYuK5I3xpFABPbXOWLJkUAiDmoKXc2RQDABdNQ40ZFArRq75\\u002fPUkUDK8ymg8\\u002f2RQFZuxQVD+ZFAnmD07MT0kUBoiuIVRPCRQKOqFpgn7JFAWNd8VSjokUBKmP54WuORQGxldBhG35FAXxc9B0PbkUApAq5wtNaRQD71qozi2pFAZfxa8O\\u002fekUBBiU8ksOKRQMvdNbWZ55FA9ecPRbPrkUC8MpuxUO+RQA\\u002fIXZfp85FAlwpI1pX4kUD35H95u\\u002f2RQL7obw64q5FAkwJTr8+vkUDyVp5lzLORQNqIMhGazpFAy\\u002fQxjyPSkUCwq4rYS9aRQF184GzW2ZFAwLpbkmDdkUCKhPNTGOGRQHQx6CpY5ZFA\\u002fcNDN03pkUABFuHyM+2RQPbhaE9N8ZFAIuFVg8L1kUDxcBY9MvmRQI4TMFfA+5FAU9q4le\\u002f3kUBTt7H9VvORQHZnW+ug7pFA5I3ZnF\\u002fqkUCkFSw3\\u002f+WRQP\\u002f4w+CK4ZFAT2blb0bdkUC9oNCLRNmRQChLywZG1ZFAwJrZhivRkUBAdZNAL82RQKsVkn3ZyJFAUPFvorLhkUBhGg9LUOWRQDCujM9h6ZFAYxBRgF\\u002ftkUDWxjIUOPGRQGnE5FI49ZFA6QfrnUD5kUDLk9nbhf2RQAdsz9BIzZFAkL+sKPPIkUA9u41LuMSRQHws\\u002fgiuwJFAPNssG+O8kUAnehtPXbmRQJGG6vM1tZFAVNYN7M2wkUB4iYkzmqyRQIPAYw8\\u002f\\u002fJFAwggdeaj3kUDxpvGmI\\u002fORQBuFbDm47pFAP+WUHbHqkUAauewYKuaRQNRWWNm84ZFAZkNOeK7dkUCf4gLMSdmRQAJ+rWo5vZFAwAWWhuzAkUCrEG4ylcSRQLTOokMkyJFALKiU\\u002f97LkUDiQO3+p8+RQM38+6VB05FAb+wBUBPXkUAtHT5jwtqRQIT\\u002fgfcl3pFALgZVUOPhkUBDuque8uWRQJivuowt6pFAE\\u002fnbzxeskUBb06+Xwq+RQAYmkVirs5FAVan8zWm3kUBjbmXbvrqRQIJXQE4pvpFApWnZlrrBkUB+vN5Wg9SRQEp2Yypu2JFACKjW60HckUCqMP0p7N+RQFJqxwzL45FAqbTulMXnkUDUDbFgx+uRQDr8OeJx75FApkLE5nvzkUAT2YfKCviRQDZ2kV7H+5FA1+BLtS+7kUAPhU8HWreRQOpfHrRKs5FA3bRieXqukUBFlBXlAf2RQFCPIGau+JFArv9yecfzkUCxd2l4aO+RQO9eyhZJ65FAEQLok+bmkUCwl0i5eeKRQBNWlscq3pFA2jGqbhbakUCiSgNLBdaRQNOi9EyG0ZFAr5PN5ZXNkUBq3CExV8CRQA9UcHtBxJFAwVB7L9\\u002fHkUBDTSOZgsuRQGdmUVQLz5FAXZ12HMPSkUA\\u002fLfW+hfORQPbJkY6595FAkGVdopT7kUC4syhVH+aRQEzu4qc94ZFATSWgE7\\u002fckUAS1J6zzdiRQI0Xi4Dx1JFAtM4A0\\u002f7QkUAYTxeLcs2RQIJqjJOTyZFAuubpbQnFkUDNqiqnz8CRQL2b0O7hvJFA9T1qBuS4kUBqyre0r7SRQFF4vvNK5JFAKvikfSXfkUBApey2iNqRQEGOG3OW1pFA\\u002f4ZhEMTSkUAuEtIyAM+RQKB3PuHCy5FAG2pjBsnHkUD2nXnZMsORQHmgNuEHv5FADqRqUPe6kUDcdAjUzbaRQEVhuNWmspFAV\\u002fAD3i35kUCbH+JbJvWRQFyvBRZx75FAgMUcUL7qkUAoBGuAGuaRQATeEy8z4pFAAkpy60LdkUBTW4GyndiRQPba03jI1JFAdR5AhVnQkUA66pKwXMyRQDayatwiyJFAZrYsZJ\\u002fDkUDPgMee1rCRQMw0YoNetJFA7ut2re63kUDPgVNEzbuRQBy9GKN2v5FAHVeaK6bCkUBSgy8Xv8WRQPM\\u002fraRByZFAR1c6LkTNkUDRNb5LDtGRQNPvqSDW1JFAtguTaWvlkUBc0utbMumRQDfwZhVq7ZFAqMb2gIbxkUAIh8pfa\\u002fWRQGOEAiVp+ZFANMC7hXL9kUAew53TVMKRQOzf1A1PvpFAZ73LYke6kUA5PB+QcLaRQN9wgjomspFAJhiBDlStkUC6x7y90P6RQKbii8Su+pFAkViuI531kUBSmy8WHPGRQOhY7eX87JFAV4BOF5DokUAJQaT8LuSRQNVCrHnS35FAUb994K7bkUDwChN4dteRQP533lIB05FAv\\u002f3SRAnDkUCmM\\u002fDC9MaRQO6YqQO7ypFABbxI8zbOkUC3au6b4NGRQLI9+w101ZFAKrGIHGHZkUAyqtAYVt2RQD4LRPIj4ZFAt1++bgblkUCm6hQjyeiRQD5me1iN7JFAsAg3EHLwkUDHEVyywL+RQLqOVQS1u5FAKdUv93u3kUBkRJWFXbORQNTHU\\u002fD8+pFAh4256Lf2kUDzsJClDfKRQDKMvVf1rZFAeOX9cOOxkUAAMlB3yrWRQJdmq34nuZFA7gkIxoW8kUBtW0B8G8CRQPZeSaBc05FAxU7WIjjXkUC6j37JDtuRQIqfQPG43pFAkiIs3YvikUCykHDSjOaRQOJJOk156pFAgPwCujfukUBOi7EDMvKRQIKMQRWx9pFAEmEy24b6kUBQwc0tLvCRQPAbm8m065FAoHBhXWTnkUCmvA6aFuORQBJT2Dy33pFAci+w13PakUChD8rQNdaRQMbTCCUQ0pFAw0hNiu7NkUDK8hpUrcmRQBmu\\u002f0V\\u002fxZFAryal9ZjBkUCatoodx72RQHqmHu94uZFA5pGiUv+xkUCFtD1Dp7WRQNm0dFA1uZFASkddBA+9kUAw4QgQpMCRQKJNy7oTxJFAz5mHZy7HkUAUyXycUcqRQOP7lshMzpFAwYUOkQ\\u002fSkUCnuG7809WRQIaMVwTI5pFA3QwCBJbqkUAFKZAay+6RQMR0TB0l85FAJZpWbwX3kUCuwnhNufqRQAIpXC\\u002fC\\u002fpFAWAQ9Wdv1kUCjQGtIjfGRQHBfu2y27JFABRN4OVzokUBrSBnHGeSRQNgtzMPp35FA9VRwSCrbkUBUpDOS4NaRQC0iHpLq0pFA3MI4wYPOkUBHC9dwhMqRQOlnwOAtxpFA3n52QcvBkUDv7WR1ErqRQMmgtX3fvZFAJDTEYxnBkUADC0SrfcSRQEjn4o55yJFAi2pXClDMkUArj5Zyrc+RQFSb2jgS05FAHWjF8KDWkUB1mZb1xtmRQMmMKYhc3ZFAk25kW6fhkUAIP6m\\u002fxfqRQL4J3D6q+JFA5cdl3Z70kUAuVyEzcO+RQItQ9w4F65FALldUrpLmkUBn0hPYXeKRQJEFymLB3ZFALnGxZ2nZkUAYbttZTNWRQP+1E+\\u002f80JFAWXEZOyHNkUAInUPEwMiRQCy2tQg9xJFA\\u002feRxhtT6kUC\\u002fEq3hrNqRQPBRbCSB3pFA5cEcISfikUCCKKYHUeaRQJiavw8Z6pFAp52IYr7tkUAio6eYffGRQF0Hw3+N9ZFAmUVAXQT6kUCAwAfF2v2RQOpZqY5f0ZFASoj2qy7NkUC+gt9sqsiRQLs3dgtfxJFAov9xJVnAkUDiARgcmbyRQF6d0RofuZFAbHs3lni0kUB\\u002fIXCWIrCRQFdsgY+j\\u002f5FArtYsD\\u002fL6kUDisI9QZvaRQPk0Prvc8ZFA8PE3+2DtkUC0++D1y+iRQI7Zu4s+5JFAcLBD2BPgkUDU\\u002f9YovtuRQHXL0267x5FAXuUAZ6LLkUA4JBnsOs+RQFhuRZnW0pFAhT8MopTWkUDWLJkzLNqRQFywoK853pFAuBWaqS7ikUAYQnmK2+WRQHK00eqL6ZFAxDVOsWjtkUBLMZyAlPGRQI1Fo4o79ZFAbTl\\u002fkXP6kUDlHou0VPaRQOIdVM1G8ZFAwF3ou8rskUBldcYOXeiRQH1bQ6rV45FAmHe7j1jfkUCGghL\\u002fENuRQMmJkk4R15FAmo0MMMTSkUBxgR12zs6RQF04drNtypFAgXzy9\\u002fXFkUBZsEJODfWRQHttnQDC8JFA39qTNhfskUCCqn1HxeeRQMB+rwlq45FA4J18DB3fkUCxwT7KjdqRQMnKpVQh1pFA9VrSvu3RkUDqGQk95M2RQILfUyvZyZFA5CJoga\\u002fFkUAhGYKQV8GRQPem7JUJvZFApikkKES+kUCJJxjHAcKRQFIUpLSYxZFAvbKQFx\\u002fJkUDdOpt4xMyRQDNteld90JFAPAwdwwfUkUAgqlqCyteRQFmpa2R325FAX0TFBu3ekUBdEAOknOKRQHNNV4yX5pFAVAQMKa\\u002fqkUDmXwDgh\\u002fCRQBRA0X3365FAKR4eFq3nkUAgJTuiZuORQPF+dhnV3pFAxvMMQ13akUBinNW5F9aRQA2gbTgK0pFAHtMt7NHNkUCEWwuDr8mRQAwY166WxZFAMDYbQnbBkUCrcHJvUb2RQOi\\u002fSjQ\\u002fv5FA76IFoRTDkUDaFwenrMaRQO\\u002fqEjw6ypFAI3QaUL7NkUBhlAuncdGRQPXm8Nn81JFARK05A7DYkUCuYHZmedyRQPnBAac14JFAwnQ3ZufjkUCsHeJkqOeRQD4Udp6R65FALYQfUXPykUDphoqEze2RQBD5mmlh6ZFAU4WM5xPlkUCddBrOuOCRQBsgAP1O3JFA3AB9VNbXkUDEWYspbtORQEaYXzBmz5FAz2f71nzLkUAQph2zUMeRQOV4nOAiw5FA\\u002fAyv2L++kUCAye4Au8WRQKL4VMCpyZFABi17wVHNkUABCYFG4NCRQMY7Rvuk1JFAyurhUhnYkUB2zAEK7duRQD5CMxn935FAlqcpPKbjkUCgjbu5aeeRQIfBSNIn65FA49H9mBbvkUB\\u002fXBPv9\\u002fKRQJXyasFG+5FAVI4XjjP3kUCfu612FfKRQOIxeWG67ZFAQK8+jFLpkUCrc8ho4uSRQIlVsagn4JFA06jjVgLckUARiSkFF9iRQJ8F50no05FAfZedeuLPkUCvXrPEacuRQMJzmHUYx5FAQpov08DXkUBmHeH079uRQNiUxMGA35FA8yG90C\\u002fjkUBik2OkXueRQHYpOznm6pFAXm0sCMDukUCJnquEZPKRQGvQ1RuJ9pFA2qpUHRL7kUA+AtMigf6RQE1ajX+z2pFA0jCFSlLWkUCl+dKtHtKRQO3wyXfQzZFAYp+bemDJkUAUbTTHssWRQMjwMgzswZFAp0zuoSi+kUCiiWBl2bmRQEqlyGaetZFAIWaMeo+xkUDA4tmGWf2RQPuPolhv+ZFAnR1N7Bj1kUCaGIBzMvCRQEAePpFO65FARSuxP+3mkUDmc52A5OKRQGrce2CiuJFACB8U0Y28kUA938VL+r+RQNsguVYyw5FA0Cic8dvGkUDc\\u002fS+ExMqRQLozKalQzpFA1eg4aaHRkUAIgMUSM9WRQDCImLZ42JFAjQfES8XbkUDRiqscq9+RQIOEW9kf5JFAcChav8z6kUBHOHuHV+eRQHjXQ6lf4pFANni6RfvdkUAJvuD3J9qRQE71M5xe1pFADtCIkhPSkUD8CikHPM6RQOwkN7YtypFA6El6pszFkUCyt21Vp8GRQNvURG3cvZFAZzcwzdS5kUAIvi9YjrWRQBN1bxTnwJFAEK0\\u002f49HEkUBDoagvc8iRQBLbluASzJFAgxKA7HDPkUBGdHab\\u002fNKRQGFV85651pFAORyrHGzakUCaxIP0QN6RQPVujb9D4pFAqSNPyPDlkUDdzCIGlOmRQD12ZElo7ZFALXueMwDDkUBFw6dS7MaRQFY08RjDypFAHhdAjz3OkUCecKHbA9KRQOHsFjeI1ZFA7WA+bTjZkUCh\\u002f+5JN92RQPANZ0f\\u002f4JFAyi0iaczkkUAwJ5o7iOiRQKgCGDBL7JFAkp+\\u002fAEHwkUDQ26Q\\u002fSO6RQNA+UOjU6ZFA7CMocIXlkUAtimxrLOGRQOjxaKPg3JFA3xV1nOHYkUCbknj+ndSRQMS1nCuC0JFAfDFcylnMkUDQVfH7EMiRQIUjWx\\u002f8w5FA+zbUjUPAkUB5S6veWryRQPqM0RXot5FAg1y6Un3skUD2k1TC\\u002f+eRQGAllTqC45FAXXGPdBzfkUAbrfnqKduRQFZ0eaky15FA5EpDV+rSkUCheIDM6M6RQMHPZVnLypFAZTCvvGLGkUA1TS3oYMKRQOIbYVW+vpFANOIQDqC6kUDLMU0NSbaRQPR6sh8IxZFA+txgzP3IkUC4rtlNqcyRQNTYXU9J0JFAtv1Jqe\\u002fTkUBUkw+xhNeRQIkYOZZc25FAQqoY\\u002flvfkUBzRlrEGOORQEr\\u002fgsTp5pFAGQKzPqbqkUB6sLY1jO6RQCGYc9tj8pFAQdHtjSndkUCKn9r4xNiRQAk8DrOa1JFAYNXW2qLQkUARFDUTvsyRQCdqJbjWyJFALCUB7vbEkUDI0Fwx48CRQEeT4LPQvJFAZdu4q2K4kUBMBQPJSLSRQN7iIV5FsJFAfApH\\u002fVj9kUCPDADxf\\u002fmRQCHbwxll9ZFAMZ32dzfwkUBsA2vml+uRQMWNVN5gu5FAiFnpS\\u002fy+kUA5OsSbNsKRQKlxx\\u002f6oxZFAimkhhbvJkUCW655keM2RQKPGHLzU0JFArYCMnoDUkUB3EDZE4deRQFY32VMH25FAS\\u002fmI7rbekUCekojIIOORQCT1yjGP+5FAyZRArIr3kUDVSMr3d\\u002fKRQFDG3bgM7pFA19xFNbLpkUBtjm7eReWRQBAklrmH4JFAQMd8AWHckUAP+fLCctiRQGb5a4JQ1JFAFTWklDvQkUA2OEhr2MuRQNBVjZyHx5FAShtvOV2wkUDBhXe1wbORQHberupzt5FA4SPwl027kUDv\\u002fxSJor6RQEJEEzGjwZFA6wgL+QzFkUAOeh1Z1siRQCWily\\u002fQzJFAFh5q2IbQkUCEHPX+5t2RQJ1QJxOP4ZFAZapAyCrlkUDQVzzvR+mRQHkdzAU37ZFAfgj2+PLwkUBIBjlJ8\\u002fSRQMNba63s+JFALp\\u002fwjkP9kUCQUlxIJvGRQCGdBIia7JFAQW7hrk\\u002fokUBW+moGDuSRQHGKJiCQ35FAtTPwGBrbkUDeadaDztaRQA5d5vG90pFAuqajt5POkUBawCGPbsqRQOV6ENxZxpFA+YX4vULCkUDRCQBOI76RQJ9wYdH+uZFAVvDKepqvkUD9IPhRZrORQDV0Ku9kt5FASRB6fYu6kUDxMHpl1r2RQF5EG6powZFA31FhZhjFkUDss9LNR9aRQD8f\\u002fhZg2pFAzHqs8AnekUBMF0zqs+GRQK0eJKHD5ZFAlDnE75jpkUBfO6yBje2RQPRLri8z8ZFAp7Z\\u002f\\u002fm71kUDpEyqw5fmRQBO+cGRi\\u002fZFAtBRWRBHukUBEPk+MnemRQNwosxZL5ZFAVu5vlungkUDPr9GRpdyRQOQg42Ck2JFAaJXS31nUkUCvLaRfP9CRQHpaMAMSzJFADDLRPsnHkUD\\u002fzd0yssORQMkqhnD8v5FAL7eG2gW8kUB0UHT6k7eRQHXt2HpGr5FAYi5ZLNqykUAInzKptraRQMr+fy1aupFATr93jGC9kUAiS2oRysCRQOU4R49xxJFAbzgN9kTIkUA1fJioydqRQAZL+IOO3pFAlKXfwD3ikUCw\\u002fIgrdeaRQOAoGc0l6pFAGYS5kPztkUBXXgORs\\u002fGRQKSgicrO9ZFAPaKcVHj6kUB8Fa7uCP6RQIgdPdJK7ZFA8A8x3tzokUBFvyK4juSRQEIGCjA14JFAIBgfr\\u002f7bkUDJSa6J2teRQFlUqVmI05FApH\\u002fNJ4PPkUD+YB3BQ8uRQAMjPtfpxpFAE3bU5vTCkUCgJqXRRb+RQMHj7Sk0u5FAKaMD3HKwkUCo+8tX2bORQFuOd4iPt5FAwiVv+W27kUAAw4jHv76RQFKJ+UW\\u002fwZFAk6vs7TLFkUDwVtKkBcmRQMwkSiYBzZFA1Xn\\u002fh1XekUCfU3a0\\u002feGRQEoYJNqc5ZFAnOJf2tDpkUBJEpi0re2RQM3Vqd148ZFA7EhhAIH1kUAAdOWYivmRQCq9iaDH\\u002fZFASv89vgTukUBzLsjSmOmRQBbBUjZU5ZFA3T8XG\\u002frgkUCGoq64ltyRQLnkZTdR2JFAGU00xRDUkUADiJT7BNCRQKCtsUzFy5FA+Sv7OXXHkUAO5vQedcORQDZqHweqv5FAzFsIP7C7kUDuG\\u002feZILORQK4tHzm3tpFAtJp+uFu6kUCYPDAcJ76RQH7pMZrLwZFAQhvuvCPFkUAkoKALFMiRQM1Ef0yay5FAfddCQanPkUCv\\u002fSleRdORQNjjwHAu15FAaxLVVebnkUBGtHdK5uuRQJeG2P5F8JFAkaZia2f0kUBXb4w8NfiRQKNpjVAD\\u002fJFAv6qR9TkAkkD5lMWHv7WRQF92CCOWuZFACIyYyEG9kUD9kJdLjsCRQKFMMnstxJFARhB81EPIkUCugX63LcyRQKo2hTsIz5FArd6bYVLSkUADLrfhuNWRQIwToOZB2ZFAeBbFQj3dkUBN3SJdXfSRQBTaKkpu+JFA+fn6PAj8kUAm5lRZGPmRQJemlKgP9ZFAsfi\\u002ffJXwkUBLjq1+2uuRQE3r7L5q55FA1vuAkTrjkUAeW51f2N6RQAvJ65Ap2pFA\\u002f2AI2\\u002fDVkUDJfH2v1tGRQKv5h9WCzZFApceCPWXJkUCv2FwfBMWRQFOEr1SjwJFAg3U0Hkm\\u002fkUAhZo6BGcORQK5GCsC1xpFA+a4O30rKkUA3nhm4Bs6RQK81Wye\\u002f0ZFAQNudSmPVkUBhELbCONmRQEhpILzL3JFAWeQay3HgkUAFdUaCTuSRQDvPin9a6JFABZ8+\\u002flv5kUAcTs3fYPWRQKyT3jeT8JFADe\\u002f\\u002fEtjrkUCJyfwOVueRQAjAzyse45FAvi2OLZrekUCPQzSpC9qRQKQmC83r1ZFAGSmjZ5nRkUAiVV1\\u002fec2RQJXpTkU6yZFAdJMMH6\\u002fEkUBLK6x9i62RQBzcuyl8sZFAYo+axVy1kUBqhy\\u002fxyLiRQLqsLv42vJFAg7rGLCnBkUB9xUwDCMWRQFM3CtujyJFAQbOpjEXMkUAo825w18+RQFC6akKJ05FAO9lngyvXkUCuLc3g9dqRQLqreI7Z3pFA1\\u002fb1RbjikUAIk20idOaRQAtoLqJH6pFA3ulhTN35kUAowcQf9fWRQN8Ut6pq8ZFAOrOJIovskUC4E4pSCeiRQL1TB7W\\u002f45FAtOwtslrfkUCKehaRrtqRQNEY7F191pFAEGix10HSkUCukOuv982RQBubAW3NyZFAxjqwI07FkUC\\u002fgZIz48CRQCSxuy0sxJFAREiYDhbIkUBF6mlGxMuRQIdpysRMz5FAJZb5LvDSkUDrC78lptaRQMBJCdCT2pFAkQVG7HTekUCTHPeeU+KRQGb1G7Im5pFAOm9\\u002fhOfpkUAUWxbbs+2RQMQ6L41I+ZFACCh\\u002fDDz1kUCgz62aL\\u002fCRQNQCp3WR65FAj1XnpAznkUBFrcR4xOKRQL3YbhEi3pFAEN6PRa7ZkUA366sGhdWRQGDMfA0j0ZFAAdb+7CLNkUAU7fuYwMiRQHJnnr4kxJFAwzqkov7FkUDGtSj068mRQB0KTrHWzZFAlSTo9y7RkUCIvNFeE9WRQCCg6Y2e2JFA7HtSV4nckUBhQsknw+CRQCzq7l5x5JFAvycw\\u002fDDokUArICnF7uuRQEZesqIe8JFA6ouL5P7zkUBi522MovmRQKwu41UF9ZFA6uVR\\u002fgLwkUDyTChEmuuRQFB6IN4I55FAI2p\\u002f71jikUDw0iE63N2RQJHrcWe32ZFAX6taCJzVkUDJWwV1WtGRQEDUdpYgzZFAOoBiGJ7IkUD5ldekyauRQM6abfrXr5FA0P4Cj8qzkUBvJRrINM+RQHlVdgbh0pFAx4ToU\\u002fDWkUBGDmLUZtqRQHYa86bz3ZFA5z6KZcnhkUAndzRQ7eWRQP\\u002fCFqHi6ZFAeRRYTMPtkUBl5zcHF\\u002fKRQPzlxzUr9pFAu\\u002fGgYH35kUBHPL1U3P2RQPQ02pXN+ZFAy2P3qOH0kUBMuR2mCfCRQCf\\u002f2qC365FAcM0BWUbnkUASN8hJeOKRQLpvUN373ZFAQcnwc9\\u002fZkUB0ggsKvtWRQAXsuVP90JFAOv8rSQ\\u002fNkUA6ru28VdCRQJ5eW3Uy1JFAVqyBSxzYkUDYldR2l9uRQN8Kfj8o35FA\\u002fpOcPivjkUBc3eexPeeRQCQ25yQr65FA1BuStvrukUBxayUAavORQOLaBNBm95FAwm1ot+r4kUAfzAyB4PSRQHY4H+Um8JFApW9UnWLrkUDxdL3Y0+aRQD2k92+l4pFAoA53aQLekUAqkIp2X9mRQJrJ1Bg\\u002f1ZFACjtXcNnQkUArPTVGqMyRQLV0AmhbyJFAdo4lD9LDkUAcPYZgfsqRQMZjBud8zpFAr1bid+nRkUDBnhdendWRQGbkimgw2ZFAfmyMwwXdkUC05PsWPuGRQNTRyWvS5JFAcuSHU6vokUAsFMSEXOyRQMlohBik8JFAM+D0anf0kUBp1q6z+PKRQOHbjMRm7pFAY+4Pdd7pkUD2Mx7QeOWRQNMqI\\u002fH44JFA1hyjrVbckUC5d+MR1teRQNhRA9mf05FAUH6GIWHPkUAmJrY+E8uRQE0m8n\\u002fhxpFAdz9TrK7CkUD1vFItdr6RQGOw6OhCupFANiz13hDGkUAAb8s5\\u002fMmRQGH\\u002fOqaUzZFAhs8ovVHRkUAZJD7n5tSRQItuGAKD2JFAL4c4XWvckUACAgGdVeCRQDdaPQUX5JFAE\\u002fQnmN7nkUDdENNCnOuRQDqE+VyQ75FAOSQOZKDpkUCmyS6Fu+SRQDLcY\\u002fn\\u002f35FABaHmrd7bkUDYCccz8teRQGmupprS05FAgWDEs4TPkUC8Drgsb8uRQMkc+nv9xpFAJAXLlp7CkUASNF73tb6RQOcfDBSiupFAX34KFUG2kUD0NhqoVcKRQPqtqnwrxpFAIyzZBdDJkUAk37VnX82RQCni2F\\u002fS0JFAUKwqu1fUkUCeViifHtiRQEQV2rfj25FAfQ2YQ87fkUA5T1wZsOORQAMTt2Ze55FAxZ4t6BPrkUA3L6lN+e6RQMJvt6xl4JFAgFXg5IHbkUBGv7KpMteRQAvJQBgt05FAxvdKliPPkUAXL0a9fcuRQMsuZYtzx5FAR1J2KhXDkUCgYB6Jxr6RQAOpPXZmupFANOW61xS2kUAnIoFV7bGRQJsVgnDM+pFA8yzNwcL2kUARyI2L0\\u002fGRQJgBKx7p7JFAUlFdY2++kUAtx6lEI8KRQJ7R8LWwxZFAPM9ZEjHJkUDcbOwb7MyRQCVpdBCi0JFARYm0AjLUkUC3ycP9AtiRQODeVGaB25FAU8QrrtvekUCTS\\u002fLSmuKRQC6ff5fP5pFArbBjSeTVkUB5Lo24etGRQIMnyz8hzZFAV5MZMInIkUCT6fynO8SRQIFJiAFSwJFADUnrSoG8kUBO8M4ombiRQLN10Tz8s5FAGFubOKevkUAie6rqHv6RQDIu\\u002fACX+ZFAFay\\u002fjSP1kUCw4Z8IcfCRQB37Q8Ga65FAcFcMFtHmkUD7nRoCkuKRQE98eMdG3pFAtLQLf9K6kUDUFa\\u002fhfL6RQFjZZxzDwZFAKBVRIx7FkUAcydDREcmRQOvrrDbQzJFAP\\u002fQk4DfQkUAdddPhxdORQFjd3eY015FAES7PT03akUA3Ovnb1t2RQLljPqYe4pFAl+CzL5bFkUCTuBxjQMGRQA2MnWgXvZFAyCGq0Rq5kUB0UbQDFbWRQK+k3p1EsJFA+JT9bp+rkUCQxoSjH9aRQH3dX9TH0ZFAzQo86Gm3kUAQMHpmJLuRQGJSB62BvpFAra974unBkUDiTPJkt8WRQKnYKP7hyZFAx+D6YgXNkUAiCzhs8s+RQA0aGK9L05FAqYmby5\\u002fWkUCi1NhGW9qRQMwrrWV63pFAUTQ8\\u002fRLxkUA\\u002fIovrtPWRQEDryZpn+ZFABTPV2tT8kUAUFNQ84quRQOUeJ3K4\\u002fZFAwRqC5aT5kUBM\\u002fY+Yk\\u002fSRQLjaUafG75FAwcN0UX7rkUDVdPFYDOeRQB5Hge884pFAzdLfHcPdkUBvknxVptmRQKSBpJ581ZFAD5G4N6\\u002fQkUBsIveIwcyRQIfOmugdt5FAqJ3AluK6kUChvcBjDr6RQEsFE5SiwZFAWhc4YXfFkUDgDrNebsmRQALH3gl6zJFA50nUj2jPkUAauzEW0tKRQF1\\u002fyCVg1pFApEam0TrakUB+lXjmrO+RQFfunFSF9JFA\\u002fPE0uZf4kUAun1pAlfuRQIy0ides\\u002f5FA0DqzIy\\u002f5kUAc\\u002fQw7Z\\u002fSRQOUwXk+A75FA9W7g6Q7rkUDSAH2+fOaRQMlirL+54ZFAGax8hk3dkUA80FrkM9mRQAEBKq0G1ZFAZQsC6svQkUCTQlqbeMyRQHV7ZiX1x5FAWeBHaN23kUD\\u002fpZsskbuRQGV9fp6+vpFAjD\\u002f\\u002fGl7CkUDyluWQS8aRQJ88ZB8jypFAtpw6VhfNkUDFgV9aHNCRQDwkKO6J05FAmaR+ryTXkUBuKF5wC9uRQHppBc7A+ZFAYml1EYr1kUBy6sh\\u002fSPCRQHfnwg\\u002fM65FA1nFUwEfnkUBXB0woyuKRQEPgMzsx3pFAo+aims7ZkUBJLYjTpNWRQP5dCP070ZFAhZt9j0nNkUBtfwpCzMiRQA8xTOU4xJFA\"},\"y\":{\"dtype\":\"f8\",\"bdata\":\"JoKMXIfefUAC1cQB2OR9QLcxU8zQ6n1AvmJtly\\u002fwfUCtlUgTZ\\u002fZ9QEbgpzrO+31ANUxIrawBfkBjZxMaNwh+QFHAzjxLDn5AbXv7YxQUfkC8dTmW5Rl+QBdWxpAgIH5AchxiH6ImfkAWmWg9jCx+QN3kJJoUOn5ARLthfEwzfkDTdjzNDyx+QCiXMtJhJX5AzOKcwcQefkA1knZnIhh+QDKk68A8EX5AjAzaAi8KfkB0jBH8owN+QFG2WgZi\\u002fX1AaFaWh5r2fUA37qofefB9QP0SJCvL6X1ADmSkD9LifUDittgFvNR+QIufHnYi235ASa2lf6vhfkC7Nf7\\u002fXed+QD8DSN3a7H5AJl8OxoHyfkAstpOoYvh+QNgz5bGh\\u002fn5A7Sz9twuFfUAm4UAqKot9QMWK4wn6kH1Ayrh1m5mWfUCgHc7Jv5x9QBK9ysXDon1A9Wjz1ZOofUASMnOeda59QAmI1r9itH1AaiT9N\\u002fy6fUBjd+ALxMF9QI5MJBdRCn9A+Qiz4TgEf0DL44Ymlf1+QJFWkU+49X5AF3O4p7HufkBY4EhK\\u002f+d9QFwid84H7n1Av8jD1BX0fUAsWkiX0\\u002fl9QEgN7tp2\\u002f31AA2ASi0QFfkCnK7Tu0gp+QGRNl27PEH5ABtXE6GEXfkC7itwwMx1+QGi1C\\u002fc0I35AghUpLg0pfkD\\u002fzRf1Iy9+QFbf4o6vNX5AVlP6tWg7fkAnlKb4gbt+QDL1m7iqs35AsvromFisfkDvrFm1V6V+QGHUHq3Gnn5Az3mxpS6YfkBiSf+tB5F+QKuIqkeOiX5A\\u002ffz\\u002fOHSCfkBmrG9Y\\u002fHp+QNWV3I\\u002fVc35AKrF6rYhhfUCXBEirt1t9QP928QzvU31AxCjRhvhKfUDu92TojkN9QBTClTPQR35AYvPo9vVPfkAn97W0V1Z+QPJK5KNYXX5AtOhhfE5mfkBmFmUAp25+QB6yi4DtdH5AKbq0uQl8fkDjYzkYJIN+QOW9oje+iX5AFqeTEEeSfkDK53QYv5x+QN+U6nuvsX1A6UNStaO3fUDyS8V+wb59QFXTS0nTxH1Ab4dWbPHKfUDoU4WYpdF9QLdQ4m\\u002ff2H1AA\\u002fIgyKvffUBUxT0BOeZ9QEZooaq87X1A8PWyxN30fUC+z9AgojB9QF4\\u002fVet8N31AwP68OX1ufUC3H6yzmGZ9QIfUArpvYH1A4+4XTZRYfUCOqBqblU99QP\\u002f445v7R31APepgPsDtfkAYJ40SufV+QAq78NCE\\u002fH5AzXfYDKACf0BEZouoXQl\\u002fQK\\u002fdS4nEp31AKvWP2tStfUAJghfKFrV9QP6Zw6khu31AIEaXXlzBfUBm6DVcVMh9QACRDfqDz31AMgD1PDvWfUBae+TdzNx9QC2p\\u002f3985H1AaYItKYfrfUBZObnYoHZ+QB9XuItFfX5ArGI0xOmDfkCge5Zpq4p+QBh231dbkX5AUNGKog+YfkAGehj+A55+QHnist3Eo35A7GrTskaqfkDePemxxrB+QDziFIjEt35AeGkUBaoLfkBeGqM5hxJ+QGskNfUBGX5Ag+hwgHwffkAKUh\\u002fD2CV+QIKQ1DJgLH5A30w+I\\u002fMyfkAJHuEuzDl+QHvAFTzpQH5AS+WUtPJHfkCo6uDwq05+QOYjskB1VX5AxhM3\\u002f3tcfkAZmRDZGNt+QMYFKY9\\u002f035AhFJHGJrLfkDAFsLzOsR+QHY6YwCuvX5A246osSm3fkCNJuM0069+QObWS4EtqH5Aky2nOhOhfkD2hPBI+Zh9QMyaHjQzkX1AAccMe3qJfUD6TQjA\\u002foF9QF\\u002fXwWFven1A9LnE3HxyfUBNX2EdZGt9QOPYNtlYZH1AZdQ8zTmPfkDxkecsh4Z+QIW+sRv\\u002ffn5A1kk+j3d4fkDDLyIgx3F+QAjYH\\u002f49an5AaQDdO4pjfkDIlyYmG1x+QPo9ZpUrVH5AO3xXJFVNfkCaCU4rzEZ+QKuWmxg+P35AkCgjKRdtfkBt+g2b5HN+QDbRryuXen5ASjRvtUKBfkDyBD6qBIh+QGxKORkYj35Aupos3IKVfkA3YGI3Ept+QPYOLCsroX5AUUlsnoynfkDwZuL6aa5+QIajQq8Etn5AjDyz4OlLfUBQCgZe\\u002flJ9QAz0R5ozW31Ap7i9njFifUCbi6YUtGd9QK0+DqFRMX5AOApMrbspfkDtoSNlkSF+QB\\u002fUk+1mGn5AAmLB4RYTfkCdt\\u002fUztQt+QL5bx1utA35AcpFe13D8fUAkMYj5cPV9QOIXuuYP7n1A\\u002frmfBArnfUATfHmZat99QMJlRlLU431AidiDpe3qfUDbPB\\u002fpifF9QNu+Wbgf+H1A+SvCnL\\u002f+fUCQWYYmPQV+QJQfNyGCDH5ALRjfZIoTfkDj4+1BRxp+QK8c+1XhIH5AxhDr9T0ofkBfihuBaC9+QFx6BbNI435ABErx7pXbfkDE48VL59N+QGCoQcitzH5AUe7PLyHGfkCoO9d\\u002ftb9+QPhba401uH5AMo3mfIiwfkAQxB6bf6l+QNUuwoqRqX1AP4AqdEaifUAEVfneYJp9QBSwPIywkn1A9a3bKj2LfUAS3J99BIR9QEAZcYQifH1AHqKScgF1fUB8JjZDBW59QBE3ws5kMH1AahbYmXE4fkDp4nJHlj9+QIs+vtm1RX5AfdB+sdlLfkBdKNMRAFN+QHTTlGbeWX5AfDcLsEFgfkCg+kU+Vmd+QP9r++GpbX5A0Zvf06FzfkBLczNuaXp+QJq9fVhkgn5ALrgRY2VMfkCjDiibr0R+QIEk58o2PX5Awe04\\u002f+s1fkCtj+t3XC5+QEQV58v4Jn5A+yIWMk4ffkAKE6qOvhd+QOCGec3UEH5Ap7XWTikKfkBz7Vka9gJ+QHTdobC3+31ArGGiUjX0fUD6uSbUMNZ9QF66nyxJ3X1AHz0NQqbjfUDuduiChOp9QHq8xpAL8X1A\\u002fdB3GOv3fUBOXuJbjv99QGUjC6gKBn5Auo5SOBQNfkCXdS6LHRR+QLVOQVrRG35AcAMrk5EifkDU9yVKGPh9QJFOlW1b8X1AIWtfPvLofUDDnyG8SuF9QDk9N8j82X1AFFxuAY\\u002fSfUBHZRVbhsp9QOq8tKxww31A4U0RL7K8fUDKcvlFqrV9QA5gOHflrX1ABRSq5kSnfUAyYPWAoaN+QBfvNM8nqn5ACaCzkl+xfkCFCvVsP7h+QBs61sNQvn5AQ4+6LVjEfkAqIflcKMt+QK52ytuI0n5AlxDy8bHZfkCNudtdc299QKZq4xZddn1AfP2+6uJ8fUAKq\\u002fwZQIR9QN8M0Vc0i31At08pSdqRfUDTjjx8DJl9QLkLdFhHoH1ARZtOydmnfUAmFB44D9F+QOhv7yyKyX5AZ5UQ2D7CfkB5CO4UZLp+QABXKMiIs35AlcCBWz2tfkBrZosOyqZ+QOudU3tvn35AzUkHTuKXfkCSRfmX7ZB+QNu1ZKmQhH1A8AyUuVp9fUAETEqyT3Z9QNNE3Yembn1AS0pzNpJmfUBA3q+CB199QPg1NjVeWH1A4Mc\\u002fv25\\u002ffkA3YQlZY3d+QLLR1mCMb35AcY6G22xofkCVKmCx02F+QEixgGbAWn5AAFbnCnxTfkCmgeFdaUx+QC1Ek9kBRX5AwmJvCOc9fkD0r6R3VTd+QLwZQgSrMH5ARVH1RCMpfkBdVNJvIgF\\u002fQNd1QdBUCX9AcdUnz1e5fUCX4Xy4OcB9QHR8WlUax31A0ZGkc9LNfUCgOnBoI9R9QP7SYhnz2n1AXCX7EnPifUAcJALdrel9QP2PKTfA8H1AOYQscFL4fUCI1q8qIgB+QHp1FJpbBn5ALEjgnacYfkAsexhjOhF+QKh3PQA+CX5AcpPfY8QBfkAgvOVai\\u002fp9QAD8Gacv831AS8iCdKXrfUAfoN43oeR9QGzCxNKF3X1A311kq9rWfUDKuvDZts99QOfxsho7yH1AXxzWP\\u002fZpfkAGXiLk7XB+QGZvZlKLd35A2\\u002f0ruWJ+fkDOb5ha24V+QBMVl7AOjX5ADIfU1bWSfkDyysRYzph+QOxnbLs0n35AanmjZBSmfkBssCNWja1+QNTHp9AYRn1AtXQ7dFBNfUATyXm\\u002f7lV9QPZZcgL9XH1AUxwXYL1ifUA9lgeGWOx+QFYffR3Q5H5AceTsHKPdfkAh3NZ84tZ+QFFT2r3U0H5AJam8x4\\u002fJfkCk1NS388F+QI1n9ECyun5AEbhzoz23fUA4dba3Wa99QOtvPjO0p31AC9rdTjugfUAcPzXMTpl9QFuZBeaTkn1AuR+llpKKfUAGu84asYN9QOH\\u002fZZK5fH1AvhzZZTXvfUAHyTU8X\\u002fZ9QHY1xCxN\\u002fX1A4elf6N8DfkCpZsmBvQp+QJOjkGqVEX5Avfu1Ls4YfkAzQbfrQSB+QN09Uu1NJ35Ar7S242IufkD44qGGojV+QBUQ9\\u002fAtPX5AM47klg6jfkC7rhki2Kl+QApiQcAxsX5Ak\\u002fnS\\u002fCW4fkDpmidlUL5+QCI+BjWRxH5A8Ol5B6LLfkA72yr0ONN+QD6H41522n5AhhmREeVRfkCrvkCDXUp+QGU4cuYwQ35AhlN5JxA8fkDqIGzBlzR+QEZd3bJVLX5AUfu04uMlfkDH1SNxmB5+QIuyIv32F35Ari3XHVURfkCN4kcjZAp+QP+eXTZOA35AwxQQefn7fUBk8YSZoEp+QI+HSjfQUX5Az\\u002fw5UatYfkDvcWGoCF9+QFahKCIdZn5AFSIKQ7VtfkBE6NV4b3R+QPpYLHClen5ARM5lpV6BfkBXDmNDsod+QFccaul1jn5AuJ6ftoWWfkBjaHrbNeh9QDoPcbOl4X1A4+2PgDrZfUCt8udqtNF9QMksmGLWyn1AVpw7IaDDfUDo7DLIF7x9QIMLCcXvtH1AbZmpz0OufUClH0xWSKd9QJmN\\u002fOr6n31AUY8o0U7\\u002ffkBnvUL6qgd\\u002fQJeb\\u002fdkND39A8+MxTWy5fUCTWtGcM8B9QHI7BlNsx31Ao6LwtCrOfUBVlKq7s9R9QP9iWdDN231AdA4O73bjfUAKi18m2up9QFoIlCAI8n1AeR6DhRj6fUBe6hHJsgF+QMDC\\u002fXWrrH5A5k9PvkKkfkCdHqNW8px+QDjjhd6Wln5AvU1Qq+mPfkCGBsCS3Il+QLDLx7pJhH5AE1itLzZ8fkAQ2WnU2nR+QL34iq0Pbn5AW8Wqv49nfkA9FHnxYGB+QN2UVS17S31APec8suhEfUAcDGt2ez19QMV3GOEeV35AvM1siGNefkDxZBRkrGR+QM8+xJqaa35AKN4+31JzfkBkgIBSvXp+QJA7ljGHgH5ARDBtVwmHfkBRKyakro1+QFNjNatFlH5ArXM37vabfkCKLjnJpKR+QK7xh8BHOX1AguxTS0dBfUBCgE9COUh9QE6fqXW2Tn1A8tu4t5QPfkCeVDNHRwl+QNXtYFOeAX5AO74lhMn5fUD\\u002fo9+\\u002fj\\u002fJ9QK2BPfQs631A9KtgkM\\u002fjfUDIwK+rvNx9QI5heYJE1n1AGP6kg17PfUARUdnr08h9QEcd0EdnwX1AK3BfaujwfkAas4L4gvl+QBh8QFtzAH9Ajv1lYRkHf0AZI2Zliqt9QEKKGTZCsn1AI2odTt+5fUA0GwesYsB9QJaMXcIZx31A32fD84XOfUB5unh9NtZ9QDQfMJqH3X1Ay61R5YHkfUAo+OQY1Ox9QMiCZ+FD9H1AGhyntRDKfkBroHGnvcJ+QEF9ha+0u35An9+ZhRe0fkCMxNXnta1+QJWE\\u002f2qtp35AgDYVAU6hfkCZXZIJPJp+QBY7YAPVkn5Ay17s2wWMfkCukUrfIIB9QFF6vYcNeX1A5JXHtHtyfUABAnGLJGt9QKy7e4QSY31AbRP5FZhbfUAvNE\\u002fl\\u002fFR9QJoxq2jYYX5AUCymkv5ofkC7G8HJLHB+QKyawj7Ndn5A0E\\u002fTJiN+fkCOvbtnK4Z+QLwm+zmQjH5AFwj202mSfkCZ5W6sHpl+QE0DtoKjn35Aee0p1uCmfkCa5wCVIK9+QCKve\\u002fYxRH1AXvK8OlRMfUA04Sl7s1N9QNCGmYYAXX1AfSsIgQpmfUAg0bTLOEp+QCwArsbDQn5AMQrVRJQ7fkB8vd8alDR+QOh+kaBULX5AjaoHhC0mfkDRMTju1x5+QHtjh\\u002fiaF35Aor9WYvwQfkDQ4FqWmgp+QGhYxSm4A35AwTAFcLv8fUCumNbmivV9QEE6XA607H5ACd6QlET1fkATNEIHZfx+QCASd8wDA39AC1tjyPOofUCeExJn2699QG9tZRdxt31AJuqT9Qq+fUDZrpKY0sR9QCqW8xBrzH1Aa7\\u002fU7x\\u002fUfUA90M2Nb9t9QBFlNwmQ4n1AJqhnd\\u002fzqfUCwrh4OUvJ9QDMo5bdd4H5APIhP\\u002fy3ZfkBJzODgxNF+QKU8b8vTyn5A68977ZXEfkBy\\u002fNL2YL5+QNqGf\\u002f\\u002fCt35Awrzdf1ewfkARBrvQn6l+QCVnsIqEpH1AjxGSm2GdfUCnUqGf8JV9QAXPCEuijn1AuQHox5eHfUCjb+iBlIB9QO8vCecQeX1A7xIWKHhyfUBZQ4EntWt9QK+aDHepLX5APcKYcpI0fkBifY0JBjt+QHUm4EDUQX5AHCcCwlNJfkD+HIVsl1B+QB1N49GaV35Ae\\u002fXXffpefkAnufq\\u002fumV+QJJ9AWmEbH5A3Z7XeCF0fkDiF2Y5LXx+QLHYhpLQWX5AMLV0X5RSfkCZ7d7kqUt+QBAhOs21RH5AOW9V5UM9fkDfHpx3DDZ+QNDio+QKL35A8tWBKVIofkAzpyGNniF+QGnWjycAG35A0km7iUwUfkBNPn3geQ1+QJTEr15pBn5Aiu4gCSZ8fUBHOA+FxYN9QLtvKuOqin1AZqm3MC2SfUA7fyZKrZl9QKprHuGAoH1AyreEUbqnfUCPfNGOba99QL9yog6qt31AJRnE6sC+fUBkA\\u002fNuYdt+QBXMBgc31H5ALEU9GtLMfkA\\u002f9+Dm9sV+QNfMEfHev35AFrftM8q5fkC6Eawq\\u002fbJ+QCFYAtq5q35A+XJdBSalfkDK9TsthEp+QCyep21XQ35AW+Re6TI8fkDdcOXVYzV+QN16Me5VLn5A2Fk1jXsnfkCxs7CaPyB+QG0hcmAPGX5ADRoECa4SfkAv\\u002fgMnYAx+QEWPCx7BBX5AnyRhJxT\\u002ffUB0tc5o+\\u002fd9QEgddodrRH1ADn4IdkFMfUDwTgt\\u002f7VR9QIB+fuPkW31A57Yl2H9ifUAN\\u002fl4RjGJ9QBnNEf0aXX1AHKMssr9VfUBv+NfuVk19QEVvrb1kRn1AXD8CfLezfkB+h0rDErt+QO1rdwPcwn5A8H6W9jfKfkAh9DoGdNB+QFoEuIde135AVS6kXMbefkDzdIYFk+Z+QIlQQcdS7n5AxvvciCp\\u002ffUCX7Nwc4YZ9QC084pLhjX1AoPsacVCVfUBopGhd+Jx9QLT6Ncb4o31AbBoYPkGrfUAZzf+w5rJ9QINoNPxAu31Ax601lavCfUDKqxeILQp\\u002fQEUXgnpEA39AHtxqOi37fkAlhctQ8fB9QJ7PdKmY6n1AXXmTlGXifUAmuvK\\u002fT9t9QKQA\\u002f2+K1H1AsKQLt3fNfUAssSMzDsZ9QGKT0FJrv31An1UXDyK5fUCnQGGKWLJ9QDaZ+oJNq31AutY5QfKkfUAucVOr6DF+QJhLnwqgOX5A+FYIZGlAfkBBS6GxPUd+QPwCG4UCT35APHvAspRWfkCykYq2pl1+QPWf\\u002frNuZX5AGdjKKV9sfkDXpbjGEHN+QMykkrC1en5AwQ8y\\u002fHGDfkC9zZDbTdB+QLo\\u002fs0NfyX5AacwXjFXCfkCza45EA7t+QHx4g+vXtH5ACQJ\\u002ffOyufkB9tjPu4ah+QF8OUWK6oX5A37ytg86afkAmkydXZ5R+QDPst1sEi31AxtKWgfyDfUDQAgNvQX19QHt1s5xEdn1AyR3HIthufUAbnCQaiGd9QNY1bEQqYX1AXwPR2DxIfkBtHNfSq09+QCDM77s1Vn5AJk2XtGNdfkBQZkTvT2V+QFQQQ6ywbH5AlgDna1lzfkA7bbrWqHp+QB1hCy9dgX5A3NkpajeIfkAllwLFWJB+QKQFbMNUmX5A+TyJwko5fUBQwHRZr0B9QKb7qHghH35A\\u002fR7zUmEZfkCB9RcF2xJ+QJw1sBp1DH5AmCCyhT4GfkAYSHjXbwB+QDmEVYNr+n1ArjWjy+vzfUBKKiRACu59QOLIoVtK6H1AxV34YErifUDjRC5M+tx9QP4zVfPh1n1A27vIU5jQfUDOtyYA+Ah+QNoeuy\\u002fgD35ArMcuE4AWfkC0X69kBR1+QBuViPGII35AWu1OzBwqfkCaYuIzrjB+QDrQaXo+N35AZst81hI+fkBN6WHfN0V+QJGRt9liTH5ABOJLCiJTfkAmuan71Vl+QHE1hifZYH5ADcWvTv7tfUC4ZyRvDuh9QG2AxZrw4H1AxwDwUM7afUCgsy6c8dR9QAJVk2Dnzn1Aqq86jFfIfUBxX1QLUsJ9QOhF33XDvH1A6E9Xcma3fUC2Fa9DELF9QEblg7hGq31APVw\\u002fcaalfUDZ9l0QR8R9QA6Sah1Fy31AH7v0cs\\u002fRfUDIPvcjRdh9QIPcRIDr3n1AmXHvn1blfUDbR\\u002fRqMex9QA+9s1tn831A0HoF\\u002fyD6fUAFBjqmIwF+QNDsomsaCH5AKDER6fYPfkBcoHg+nhZ+QL515epc+X5A\\u002fh4kvBzzfkBxuIu1Lu1+QFaZ1T54535ActCjthPifkDnTem0sNx+QEVXF48h1n5AvlcibsHPfkAtURSd5rR9QIknAnkGr31AGJ\\u002fGImaofUDrA6L7LqJ9QEze7r4CnH1ANb1xJWmWfUCnAlEe4pB9QCH9NNYSin1AjDrjcF6EfUCZBPgf0H59QFIhUfZdeH1Ajyp1cOHQfkCbHcJqI9h+QJynB2CO335ABfhGfeLlfkAtfpGvMOx+QAKxnenG8n5A6\\u002fC\\u002fFIn5fkBrgagd\\u002foF9QIMG1lDUiH1AtaJIfp2PfUCVE4C6GZZ9QCzQ4eTrnH1AuMgr\\u002fPKjfUAmEopWpap9QOMKbax3sX1AO5\\u002f5FxK4fUDaYcuHbr99QFIwNYlrx31AwpUuPaHNfUCtqGE6o41+QJCgAIl5aX1AyMuk8JtkfUCaozZjp159QFlS1DbbV31AhYtDRxVRfUBjmT9nLkt9QMAq2bQ\\u002fin5AbV7LNauQfkC2erkCbJd+QImD4eTAnn5Ak4RDWlKlfkDQXqh6cqt+QMNSrnBSsX5AmhtpA5O3fkDMrr3t3b5+QD7bzuTixX5AlHupb73MfkAeKUT6h1N9QLTBsdL2WX1AzKspUBhhfUDek1ur4mh9QG9XacgJcH1AKU4k9252fUAMVhKFBH19QBCrDAD0lX5ATUpnFumOfkAsQZLv9Ih+QIf3XbrQg35A59rJRkl+fkC6P+kI23h+QGyuR5XQc35A6fe+5htufkAGblkAwmd+QDdzSPTDYX5AC8gVeWlcfkCplRItB1d+QLR75z0MUX5A03vYfW00fkCM9b6CgDt+QAnP7kXDQX5AACQXkt9HfkDgfk2Dr05+QDXkIlTCVX5AdcMf1HVcfkC3tvtXAmN+QEo9MloCan5AseQPykpwfkCchEEsR3Z+QBZOXqnlfH5Ac2QRLcSEfkBorlh9wox+QMZ8l4qBZX5Ap4PCsnNffkCbDO4Wjll+QBb3W3SUU35ARe0DHIdNfkDHIb8\\u002fjEd+QJM5bwGlQX5A\\u002frSXdxE8fkA4Oxc2SDZ+QMu4rQ1jMH5An4taJccqfkCj6SV8KiV+QNZNj2R7H35A12CvacIZfkC7sFfBm919QPhpbd+x5H1A+axG98HrfUAWLTL8V\\u002fJ9QFg+TVwY+X1AepOJldX\\u002ffUD41fUnUQZ+QNNavUNUDX5An\\u002fCFFM0UfkB+KE6YiBt+QPkzYDNtIn5AFcd0mDEpfkAmdQK6nTB+QIp4m1DYN35ApmYVddwofkC2Wrau+iJ+QMBiMw51HH5ANZmb0HcWfkAw2X1TkBB+QF26v+HqCn5A83KPF8YEfkCaXIw7af59QOO17cm9+H1AK8j56EDzfUByWv6rQu19QG3uYRvi531Ask+91\\u002fDhfUAkPpIbstt9QFqyHZo1935AJJ8XmO7+fkAUjvJPoAZ\\u002fQLjTcMRoDX9AraXLe9yhfUAb1kgyF6h9QN6oKHuQr31AMO0vlRu2fUDC57h0irx9QHkI8TZNw31AKhJyPY\\u002fKfUBfWu2QztF9QCh+D7DA2H1AQCgTR33ffUCkdG70P+d9QPHYNlfW7n1AP8PfFQ31fUBhehAvRRF+QHrNbsfYC35A6\\u002f7yfP4EfkBbt5nqvP59QOT19M2w+H1ALWCgzZ\\u002fyfUDk1Ls+pux9QAUuwf+65n1A3DUaZiLhfUAWETIRg9t9QMDgGkbX1X1A6ix7BIDQfUBknwMBdcp9QJIk+al4xH1AmguGOmzIfkBzJiXrdM9+QBH1mNbZ1n5AsBIbfwPefkBKn98AUuR+QO4gdia36n5A6f0hpIXxfkCDegO8ivh+QD9A1uVO9X1Ak82ythvvfUDba93RN+h9QMgbi8mI4n1AOzTeroXcfUDyJmbDetZ9QHHMPU\\u002faz31A\\u002fI3+BWvKfUCzrosOHcV9QBN59+etv31AqPcNGVy5fUD48Y\\u002faK7R9QAC\\u002fMeRSrn1ACzbQjqKafkBNEmfgF6F+QG8uvwIuqH5AL0CKknOvfkC6\\u002f2eB5rV+QDDU7YbZu35A9QYnWxnCfkCICCMmIMl+QON9UnqO0H5AEukJ9KnXfkCXcoVXwd5+QD3bR6oAYX1AW2CjxHJnfUBLmqgmg259QLKquzL4dX1AM59hNRR9fUAGteY6DIR9QL6SkKYdi31Acj+XPkCSfUCFCwXvAAR\\u002fQKoFGtKG\\u002fX5AHPvrcqf2fkASRemBUtl9QABZmX+2031AkXAFmsDMfUC1qTjficZ9QKZV1pQqwX1A18GsHyq7fUCq2xa7JbV9QH74dL0rr31ARuiSWo+pfUBAP1ExAKR9QFysirEvnn1AKpHqpGWYfUAEx1+KF2p+QCLdTM3scH5ANsMG3\\u002ft3fkAksqiskX5+QJOB5cOMhX5AwTUck9qMfkCrrGRHoJN+QGIofhOlmX5A+Pau9qOffkBUyuaLM6Z+QEFM5BUDrX5A01pvxDC0fkCMwcu35bt+QOtcCuB3BH9AkW2ie87+fkDr81vcLfl+QGed+CbZ835Aw+TxyBnufkAWo5MeVed+QJHI1JYb4X5AmB8nbdXIfUAqdqb3gcN9QHrug3RkvH1A9OtocSi2fUC8vX6wq7B9QEoigPrCqn1AQqa2LxqlfUDo4J5D9559QOie0+xQmX1AwjG8Z9GTfUAuHqWg8I19QF6vR2w3iH1AjNHFPnVRfkCDOkl0iFh+QDMdu3ckX35AJ+pBIZVlfkBlniUgh2x+QKGGG4kadH5ARIFfDTR7fkCldg396YB+QNDRPHg1h35AV5pWxeONfkBUU5VPBZR+QIt++Q32mn5AzM610v6ifkCa7rRL2wV\\u002fQAaZo+JWAH9AX57dlvf6fkAmba77zfR+QFYXBSz\\u002f7X5Ap8JAGTnPfUBFWQeMa8l9QCYuZkuXwn1AsF+ncYu8fUDr2F0KG7d9QGId0sYmsX1AnIv\\u002fvlurfUCkyG2KV6V9QJTGHnXan31AhsnYe0mafUDblnJFU5R9QCn4v+HPjn1AfR67SDQzfkCFi0qHUjp+QN7UIzm3QH5AzD5YjQVHfkDjZAg\\u002fFk5+QKepxXk\\u002fVX5Ad85ORBJcfkDAlhnq3GJ+QOy1axfwaX5AIly+gGJwfkAFIzNUkHZ+QLd3vNtsfX5A32Fu8ISFfkAhUpuAo41+QGrQRUJm\\u002fH5AerYtLk32fkDeSvTsm\\u002fB+QDGM8zUy635AKvTAR\\u002fDlfkAsZw6AZ+B+QAmuUQUg2n5AEQ2I7AXUfkBFq5Rx77Z9QCPKbI2IsH1AyFG\\u002f1jOqfUAcCgOUAaR9QDIfYT9jnn1A8j3n4w6ZfUBIAjrQOJN9QDYlUiMXjX1A60H23rCHfUBppRDrB4J9QAdOwKgcfH1AE05BVRjofUBC0ibnYO99QHujw8py9n1AsFEYuAj9fUC2yMxmAwR+QDZ7JVW9Cn5AlbYVy7ERfkAs56PjBxl+QGglX3xaIH5A1JCrdGUnfkAVZWOqfS5+QCvj6faWNX5ACcr4tgE9fkBDC39YTER+QPw5C2BuyH5AKgy22mXCfkBc\\u002fruWmrx+QBCSRurEtn5A1Rqnga+wfkAMmaOQpat+QGDAx+nhpn5ATRA4ebOhfkC7mB4tL5x+QC6l+G4Kln5A4t2pKlGQfkAMJmyb\\u002f4p+QL6Pfr6i8X5AQQ+Sgo7rfkBFmbmowOV+QGbgCF054H5A51VpWC\\u002fbfkDJF3asANZ+QIZTA16Xz35AhAIibHTJfkDDtQgECq59QNl3YMVwqH1AvWKexQmifUBId2GL85t9QGlmv+rqlX1A\\u002f37UcYSQfUBSDiIG5Yp9QECH3hZrhH1AN0+xIu1+fUBOAMb1gHl9QEZsSroZc31Ap06aRnm5fUAPRvw26MB9QDLa7Fp0x31AXl5swavOfUBfy\\u002fzYS9V9QOdznlgT3H1AJUHPOlHjfUBne9H7x+p9QDpl4Ogp8n1AFDXE3G\\u002f5fUDwIDclJgF+QCBig+wlCX5AkhrTqa8PfkBgxRLORMB+QM56aH4nun5AkEQGZHK0fkBUlpjnjq5+QFIDdNkEqX5A1EV\\u002fUROkfkAE40iHBJ9+QHPBbZ18mX5A5irwe+aTfkC7w6ctwo1+QGhfJ3kbiH5AqV9YOp+CfkAZZTPILV19QMfnWqjMWH1AjyGaJe1SfUC48lEkvEt9QDGjH6GmRX1AXN1TDmWufkCvLdbyZLV+QFBc95DXvH5AQ9oGEx7EfkCk\\u002fOFUOcp+QKh+IiGj0H5AfLhP76DXfkBIKe+q8t5+QI0a1Jub5n5AoPvKcXBufUDDvfkla3V9QM98WxQyfH1AP\\u002ffok8ODfUD1Xk7yFot9QAH0ey7OkX1AavoRsB+ZfUDix55miKB9QDv+gm0qqH1AEolScVSvfUCQJSd5KnV+QOqyEyEXb35ADCny0OVofkAZrunZBWN+QJxSuJS9XX5AOyN1Tj9YfkD6TGi0WFJ+QIEZdAHvTH5A3jb7xClHfkBteVHQO0F+QKsT0W7PO35A+RO347Q2fkCKzgI3gDF+QIT3ja6DK35Av9Yzn05HfkA6Wfv9nE5+QKyg6hc3VX5A3ZIwzbxbfkDYnEvzCWN+QBXjyXGTan5AI6FMcXNxfkDbftaf0nd+QJcTrsiYfn5Atk5oZTuFfkBfDEFrtYt+QDSlSFwUk35AeWkPc3abfkDJGy1Vni99QG+0z85I7H1AvNeJyqHzfUBtMSRkzPp9QJL+nEeFAX5A2yM0xoUIfkBZkQYlVg9+QLI7i5KDFn5A9a2lJPodfkAhIjL\\u002fUyV+QAChR92GLH5Ani3AxLwzfkDMHO2Q7Dp+QLrGKLd8Qn5AKGxPtNRJfkCyL6YFbwx\\u002fQJwebWQfBn9AdhyEJCj\\u002ffkD1WayctuF9QMAA6zcb3H1AfSNOS0LVfUAb4U55J899QPhEGRq4yX1AuBbEwunDfUCBjJx6w719QEHhU8jRt31Ad4tjom6yfUBQJKc5Oq19QDUv9koMp31ACb\\u002fWk6KhfUBumfQqmPB+QOoX0mCl+H5AF7CmAZMAf0C6pPnidQd\\u002fQGtEqq6wnX1AI6isZ2+kfUDNDbvDNax9QI5hpEjdsn1AKDgF36O5fUDQoZL598B9QGPvWt6QyH1Aqgc6f+XPfUBaNssj8dZ9QMQduZZJ3n1AEzP6YYbmfUCERmi15e19QNDXGFjLrH5AJb0XPdClfkBsVYuzk59+QBIKT4cqmn5AYvOpph2VfkD6tATK7o9+QJLZGUN+i35AVvMPVMeGfkBl+xKoUoB+QOIobqFren5AWv23q\\u002fx0fkC7EUhewG9+QDbPw0QRan5AvJMT45s5fUAw9PrJrjN9QEK+XCM8\\u002fH1ALuQIurgDfkAp0E+Oxwp+QISFOFTOEX5AlsIPWo8YfkAN93o8Wh9+QHo1I7pvJn5A3aT0ttUtfkA2DAQWSzV+QFiW2XHDPH5AxiWbcxpEfkC4L5MFUEt+QAMu8tqCUn5AzL8wKfBZfkBPlD6BmwV\\u002fQMw5baZaAH9A2bqnlQD7fkDlMcy8f\\u002fR+QJvkQOII7n5AmANJRD3PfUAetvuL38h9QOgsMz53wn1A2MH1QuG8fUAxpBY4Vrd9QEPbkwB9sX1APQ8G8bCrfUBuKqWrE6Z9QAO7o4uyoH1AIO9MzR2bfUCB0OcTTJV9QEdN3FhjWn5AO1RsasxhfkAgk+qQdmh+QCfzpzZVb35AwqOJGrZ2fkCea3rYo35+QLJjgruOhX5AEKq4SG2LfkBD+ikOB5J+QPtpr6HDmH5AvIF+04uffkB5+VJ0Dad+QKTEAjh9r35ANsGKHiY2fUC+eX3dBj59QIZbp2MERX1AdYzIwsBLfUCmrV5YNrd+QFKTpv91vn5A9te62ffFfkApxSP1yc1+QKyuDQDr035AbUZYK4DafkAJNNCNo+F+QHBUkV8E6X5Amai9a7HwfkCLadiCnXR9QAI7OxM7fH1ASvSxKBaDfUBVDt9QQop9QMfinyw1kn1ANW9srfWYfUDVGg3n9J99QKQuG2Fkp31AsZCKs+mufUD8llsFJLd9QCtd+JO5tX5AV5RiOsavfkC7eOTGNqp+QH5fFKfxpH5A0RQW5+yffkD7EeULC5t+QH7QR97klX5Aactv7UiQfkA+S6HRuYp+QEyuIIIdhX5AU5DD6Hp\\u002ffkD3zOpMHHp+QPsIjYqgUH1AFT8ZkcxLfUCszHQCbkZ9QJTjnqGsP31AL6HZQmjBfUAN5EWr9Mh9QIAa91rdz31AO7CIVOXWfUCZlng92d19QMHAnTzf5H1AXC+KKD7sfUDyPeQ6pPN9QEwnq98l+31AmIQ596YCfkCkIWTAdwp+QG4iUTRYEn5AjjsfxCkZfkBme0UV5gt\\u002fQDyviJhX631AdtBdBUDmfUAbhbGKZt99QJ\\u002fxdBhK2X1AFBBCNunTfUAFrPf4Nc59QKafFjoQyH1AkMAX7THCfUCYgzt6Ar19QES+\\u002fPH+t31AQuPYhCKyfUDMtpHDl6x9QPlExVBtp31ARHxmNxxJfkASgha8xFF+QNVqFNC8WX5AA0ZS1UdjfkAmfaJg92x+QOd\\u002fh2C5dH5Am9SrlS59fkCjBGP5VoV+QFak1wWxjX5A+b6MA0OYfkCswmn+15V+QE5o2twPj35A8hp\\u002fIv6IfkCxDIcE64N+QJXZ0L4Cf35Ab\\u002fGQ76Z5fkBijxpx2HR+QCaQVj3wb35AZqc2OPZpfkBo7uV8CmR+QMcI4ZjqXn5AevL++BdafkBWVYLgcVR+QCauum5Sx35AmNId8dPOfkDBE1+Yp9Z+QPi1AAHc3X5AaACwro3kfkD7duQjdut+QJxkXlOy8n5AffjSsDv6fkD46Cy2Rf9+QIY3czTi+X5AwoLyu5\\u002f0fkAe41Hiie9+QJlTSyPy6X5AEvwMtJnjfkDAwMl8jd1+QDDL4IrLv31AqVaaz\\u002fy4fUAMPrPW9LJ9QFKM2zyhrX1Ajrq36geofUBIgJUtsaJ9QFn25NrHnH1AVDm6WmCXfUCmMkWbJpJ9QIuL1WGAjH1Abu+iuw+HfUCZ\\u002fKrYVsl9QJ\\u002f2Fbri0H1AezxD4P3XfUDsWuuX2d59QHg9tHES5n1ALvn5tzTtfUDU9r1ryvR9QCL6XFms\\u002fH1AhMQpSo4DfkDXUmjAIAt+QIn+452OEn5AZ\\u002f6vM8UafkAC7\\u002fZRByJ+QJmX55ZeOH5AyCLUA4oyfkALkVWLgCx+QPJyskYCJ35AaHk+smkhfkDxyrSz8xt+QIrljYHvFX5AxyoEXUcQfkDgD1lc7gp+QBBjtoOXBX5AgOWdlG4AfkDUJD3+JPt9QBHnT7Kj9X1AyiGtKPzvfUD8y9Xz+BN+QMQ8jN43G35AVl5lw20ifkAp5lxxeil+QPHlYhekMH5AIOB4PAQ4fkDnPH8sLj9+QHXwcSJhRn5AYxxMx8tNfkA2NwusLlV+QKgVdZKDXH5AWdQvevBjfkACMD3sXmt+QHI1LngQc35AK7wtEbSXfkDYi5AI75B+QB5yZ2jcin5Av8MmGsuFfkBmMoD89YB+QPd7rVTAe35A\\u002fNLdgw13fkBywCHYTnJ+QFFuSxFhbH5AHRhJvnlmfkDU+su\\u002fWmF+QJWVNBSuXH5AXOYUJB5XfkD+wraEoVF+QDxTQF3aXX5AvBkmnFFlfkCkSquERWx+QEhHT1Qyc35Ay4u79K56fkCLoT+VsoJ+QLo8tvMHin5A9OriMwCQfkAe50xLlJZ+QHAzg\\u002fF2nX5A14IQL4ukfkBc3X0ZHqx+QKOQTCiKtH5A0JRXlik6fUAooGZ\\u002ffUJ9QJV44JufSX1A3AdOM1xQfUBUSYdYUuV+QK2r4r2R335AZ+h+77nZfkCUTrnfOdR+QE9gQoYaz35A8spo4WjKfkArW19U18V+QAbnjVOxv35AsDkUHAy6fkB2bARye5h9QL29Xad+kn1AiKWz+cyMfUDjjaiiHYd9QFLZ8zGEgX1AnafX7N17fUB2osYw63V9QJEyk3SncH1A8IsZ3oBrfUDpsBK\\u002f56t+QKt1Vw8Es35AlzS3i5e6fkBcBUZYm8J+QByOJGXkyH5AGU0jKpLPfkBij+gHpNZ+QPuwaeAV3n5AnM\\u002ftUeTlfkDE3zxgle1+QPEsAHLg+31ACOIuRyP3fUAumhe3NPF9QJQSVo7h6n1A6f+jNHHlfUCg6Tcmw999QO0fxtQE2n1A6riVcfvTfUAJ8gbI3M59QHvY3Af9yX1ArOWLCMPEfUC04dFALL99QGpRTTgUun1AhBMUUH60fUAHrCIPVNh+QCL+kD1L4H5AoHX2LzDofkCWMjhvJe9+QAZLGygQ9n5A6YEGcFr9fkDAM8yIKYt9QGpgMfiXkn1AROEkNwmafUDzPpvwIKF9QIc8sOxtqH1AjusZxPevfUBcFlHtkrd9QCnPXj75vn1AmiLbEDDGfUDIRlW9PM59QKZnc2+N1n1AJEZTIl\\u002fdfUCxqc955vh9QF6TSrs49H1AQuSn4D\\u002fufUCMzG1T5ud9QDy5RnCH4n1AKCmfJ+TcfUCdajVoINd9QLETlRIQ0X1AejVBkgXMfUAAb+AiJ8d9QGjJn+j8wX1AlQqijzu8fUC0TjRCWLd9QHMWElPnqX5ANSiuBAaxfkCB9gy2uLh+QPsf7O12wH5AKEM3N+TGfkAdXNW0ds1+QGo1DdGq1H5AxSHRnjncfkBZ2FByIeR+QHtPsPO\\u002f635AMOArgbxpfUADyCyoGHF9QJYi684leH1AN2drJr1\\u002ffUCrZjH7eod9QECq9uaSjn1A6rtSggyWfUD1815suZ19QFygIV5\\u002fpX1ASCUCu0etfUCmDkW5fwt\\u002fQBjdfliCBn9AOUcSHBQBf0BPld+Sffp+QFncdTh59H5AAPvaKpfXfUBe2m8TiNJ9QLM2eoLXy31A6TCEPu3FfUBFlpaN7sB9QEzYz2xPu31AQanDWau1fUByuBjYCbB9QBf794TLqn1Au+Rmv6SlfUBtneBxIqB9QAkduVG7mn1ABD7SUF5WfkAHSacfAF5+QF7MqLrRZH5AG9JslQBsfkAF+odNvnN+QBN9DIgOfH5AuRUni9CCfkD9dC1DGYl+QGgwbooUkH5Ae9\\u002fUa\\u002f2WfkDczk\\u002faFJ5+QBujAskgpn5AlHI8pt0zfUAg39kAqjt9QMJ6RikjQ31A4fWz44LwfkBKiObPs+p+QDtkfdPt5H5AyCcv03nffkA+\\u002f7ZTUNp+QEAuAdKz1X5AcdhsuO\\u002fQfkBw8CBQ2Mp+QEkLjtwWxX5AoujJ3KmifUDPujxQqZx9QGHSd2Pcln1AylrMGxqRfUBGEgQutot9QNXXbX92hn1AkyXQKICAfUDEnaj1KHt9QHLl8V8Xdn1AuxTaKk5wfUDNTifeVpN+QNopdOwajn5AbfLoQf2IfkB4cJds32N9QFx\\u002fbh4XX31AduUxpyFafUAx49FkzVN9QMsA2NxoTX1ADlWHrARIfUAKtyUobs59QHlu5i8s1n1A7CJmCHPdfUBLKc\\u002ftn+R9QK70gRoY7H1AeZgRklXzfUAQamnvLPt9QBsdCtc3A35AxRw8cGkKfkABzcZ2ERJ+QE7gXxePGX5ALZO4R+IhfkCkZw6Nail+QAFGb+FbjX5ANVvw8LyGfkCDKQ925IB+QF9z8CsPfH5AEOVo1Gl3fkAkmE+oCXJ+QH15CG0cbX5Al\\u002fHZhj1ofkB5wtElnGJ+QNb\\u002ffk7kXH5ApGs\\u002fzQdYfkBiWxiQW1N+QPO8ZKHeTX5AqDicLp\\u002fVfkB+g7bXsN1+QOlnK2mo5X5ANHkW57zsfkBzx6dBzfN+QHDw\\u002fuc4+35A52JAyrkCf0BYerRyp4l9QH8jF1VlkX1AJiiRTs2YfUCnnRTkBaB9QCerFceep31AVqv\\u002fdkGvfUD66n4XA7d9QCvoMAJbvn1AGtU+b\\u002fnFfUCR5tDJZs59QMRfvEdR1n1AypXvnsp4fkCQBY8ZGoB+QB0fB1uvh35AT2Zc+0WPfkAIkNmMxpZ+QEiUYdMPnn5AHjnapbCkfkCACGUvh6t+QOPXwx0is35Ajhz49se6fkA6uswKh8J+QNwYn5Rlyn5A50zkkClNfUD0a8K+9FR9QJ6kb\\u002fjMXX1AxhHtl7FlfUBZXW+GdGx9QLYeif\\u002fec31AADKBLSgmfkD7reS\\u002fxiB+QD54Q5G3Gn5AskScaywVfkCW5\\u002fEysA9+QFEsLXaLCn5AUugAf9YEfkBshDrG+v59QIhcllfZ+X1AprEqdMT0fUBaQEwDWO99QGmEgQJV6n1A9FDfC9DkfUBalThWJ999QAlK\\u002fdFYMn1A+8rVlnAyfkAi7WwKrCx+QMTMuBjIJn5AcI+ObokhfkB4pBasFxx+QOm5uQfYFn5AkSonN9YQfkCKUuPjagt+QH6EkxthBn5AC6uxuRUBfkAwkvsDI\\u002fx9QLJs7pDk9n1AM\\u002faaknXxfUATgzw+Aux9QHbaTwj+T31ACDUWxsNXfUBSbeQIZmB9QNYNvbeJaH1ALXZ+JspvfUC3rcIfBXd9QOpmL7GZm35AGt0VeESVfkBtqe7sAJB+QGcgS\\u002fd9i35AGcFbSGCGfkDQXmIH1YF+QJUvR83ZfX5AIXrf5fJ3fkBJ0PQkMHJ+QPNEDxzlbH5AM4T6lDxofkDjLFd6AWN+QB2cd42tXX5Ar+AdvG4sfUAYhUKEB9t+QB9sya8c435AeIN2nYLrfkCSZ82uEvN+QFN86Hk4+n5AeRWuOrIBf0CAzYM8cZF9QDsCdXEXmX1A624tCsGgfUAFRFZsIqh9QIzqxcOtr31AK380Q4m3fUCiLdZbUr99QId3tT\\u002f4xn1AaEkZ8HbOfUA5lidFztZ9QAAnH+s6331Aq409y0rmfUA\\u002fnh6Nfq99QJht1nZkqX1A5bupRbOjfUD35CM6+Z19QOr5xALTmH1AcPDD2eyTfUA8v\\u002f7YHI59QIn\\u002feq+liH1AUKeCUaiDfUDxOcU+Gn59QNOR6Sl6431A50jCcG7rfUCu9ZG7AfN9QDFTRiE1+n1AXnGyfuEBfkCeX8hMDgl+QLLjN\\u002fm6EH5AOFumzvQYfkD\\u002fqXlvgyB+QAGTowJEKH5A\\u002fzJiauAvfkDavUvJuTd+QIKkpTHOP35AUYAESEtHfkDrywkgFyN+QFYwsXvXHX5AEMDuDusXfkDAYOlgURJ+QFz1RxbIDH5A51kKnL0HfkA0cks2KAJ+QL6CuLNP\\u002fH1AIHHweDH3fUBuCc\\u002fpLvJ9QF046CTJ7H1Avac\\u002fuOTnfUCylXjOcuJ9QCFWRXzN3H1AY8Wv3W09fkBpWCoKPEV+QNRWTOEwTH5AROtNAjdTfkCj5+fwFFt+QLcyvS3yYn5AcTrIvkNqfkCNMJ2LWXF+QIU7yAn+eH5A41E3udx\\u002ffkC0RX1704Z+QD4HY77Sjn5AvNEvma+XfkArjd+ZK45+QJVMqPqlh35AT9s9ieSBfkCh+D3mJn1+QLugcK6XeH5ARS7Vy0RzfkCuxlOEiW5+QHeeqlTJaX5Ap5dIPTZkfkDJQvwhol5+QLXpXUTfWX5AmbuH3UBVfkDOH0cq5U9+QLXw487QlX5A4Rb1BgmdfkAxdm1kwqR+QENR7zXorH5ASBgtcfmzfkAsNORIprp+QIkTBq+IwX5AMSYiR2vJfkCcIQTEodF+QKui4tRa2X5AoKGgKCmZfUAidMPtgJN9QPfMbIbRjX1ASx+Q+VCIfUCV0QQm8oJ9QCDNISl5fX1AqG6CoOR3fUBz2q9H83J9QCU6x+3RbX1A5CjdBcOhfUCrxPbdaal9QL2cZDhfsX1An8zhwIO4fUDEajjcxb99QIRV6JCyx31AysTVLOPPfUDbBAwWpdd9QFXbM1s+331AmNYA9yznfUAbDaxVIvB9QJuVGkiY931ACg8MzJULfkBA\\u002f+K13QZ+QDhq7Pm4AH5Ab5OtyND6fUCOnOwEW\\u002fV9QCodAfbN731AIoWaiFXqfUAj1UIZ9eR9QO+yaPrs331ApnGolOTafUA6DPGlwdV9QKOtnBn50H1A9yYCGYHLfUD17Y8Xr\\u002fZ9QPLwX6qo\\u002fn1A4UfUIjcGfkBUPnofug1+QIxHFLjNFH5ANrxcswMcfkD6XP7FBCR+QPeveob9K35A7RaxpcczfkAjkKsEvDt+QC\\u002f+gfF2Q35AmjEmgydLfkBZYUGy9FJ+QHVg4qLVWn5ATGXUyNOifkA67c+bBZx+QI5CZgnslX5Ag26R2taQfkAYZs5aT4x+QMkpNv1Zh35ALrtI+QWDfkDEqQwHGH9+QKGRy1LweH5AC2cMTFlzfkDlwCfiL25+QGcY+5LAaX5ACDuYbFJkfkAsIY\\u002fwI19+QIX2N5tRlH5AGGy4G66bfkBHJ341cKN+QGorC\\u002fmaq35AycW7YbeyfkDVbtS5ibl+QBfoNRtqwH5AmEl4gG\\u002fIfkD19OyRvtB+QBH834Vw2H5AbMIeHGVcfUDKYDiarWN9QHpw7tAta31AOJVoQl5zfUA503v2Ynt9QDWXeHwyg31ADT\\u002feZQSLfUA17H8f35J9QIjZWUzmmn1AMF4ogJT7fUDkRqa5HvZ9QM4ThOmp731AzpX8GnXqfUBks2e4++R9QBt7b9N1331AGThIuafZfUCWiG2CnNR9QGxdZfP4z31AWr49O+\\u002fKfUBTYUwx7sV9QPUKgYGtwH1AOxQWjFW7fUCoGVMOS91+QGLw+d6P5X5ARdt8HC3ufkCz44oMpPV+QNvCGGvm\\u002fH5AkjavILMEf0C+X7snPZN9QPsmlhLSmn1Ax6DpG9CifUAfgylbVqp9QPnVx6HasX1AaGTTydS5fUA0YDWm8sF9QIyewuDUyX1AoEmpOUjRfUBarDO3ktl9QEVFQWOd4n1AHrZyP\\u002fLpfUACIayhqgp\\u002fQNgfZbDGBH9AyC0vrsrpfUC6se87CeV9QGAwA8Z73n1ADrUxva\\u002fYfUAN9YI6o9N9QJz3NjRAzn1AF1IExV3IfUDz1Hp56sJ9QB5fnz8Jvn1AZ63ss1u5fUDrQSs3qbN9QCZbeiqkrn1AtAV5FpqpfUBoBkfeqIl9QLL4\\u002fpiykX1A2jkT3zaZfUCvlU5axKB9QE8qb5fiqH1Ad1XJKLOwfUD42oHvr7h9QCqLeqkXwH1An7p5gF\\u002fIfUDyy4d5fNF9QK52pwTD2H1A6vHvnewDf0D9M5v6Wvx+QA8zPOyB+X5AVBWWSqr0fkA26rWl6ud+QFEpiROA3H5AbqJQ63j5fUBHpy\\u002fCl+19QDxxExx52X1AAq70uHDKfUD4pslrL8R9QOLAYMPYt31A0zhN2BCsfUDYdxAyX599QGJ6M5Zal31Ahzgkt0CQfUAjFpVLEIR9QCTyrIv+f35AzAy63IiGfkC2JCuk+ox+QNvmr8M3jn5AdTxZoraUfkBbZ7P5K5p+QEVniDrnpH5ARrztpkG2fkBW4fnBmbd+QEAbAN\\u002fEuX5AVTYmZ6a+fkBK\\u002fdTC2cB+QM5BoqtoDn9AVm1neQ4Jf0D6AjXEzwJ\\u002fQMkTQfXh\\u002fH5ALg2TkzHhfUA9II\\u002fJ+dt9QO7V3JCc1X1AdMTd2gTQfUDGDjP\\u002f98p9QCydSXWixX1AmVU68+e\\u002ffUCIAwsYcrp9QDGYECGdtX1A+X+wVeGwfUAiR4eM9ap9QHBp0+tTpn1AUWGE3kpofUCDR\\u002f\\u002f+vm99QBbubhNPd31AKK8OiYx\\u002ffUDS336gcId9QO+5bXBDj31AOhsMPVSXfUA\\u002fzWl0eZ99QHjb2GTYp31AvGCxs6UMf0DvDveozwd\\u002fQPgEIOClAn9ALObN80v8fkA3ulMYVPZ+QET19YZc2n1AyvgpAQjVfUCIi9srxM59QFfsNzRDyX1AgKiR7UHEfUBFV\\u002fjS5L59QAOHi+ZFuX1APoArY92zfUDoRSR69659QAaZmF40qn1AGzFZo1ikfUD6vNzNu599QFLhL4sien5AmFQnsbKBfkBj9ew5m4l+QEz1NI+LkX5A2zN4d1SZfkCgleQU26B+QGomt1yap35AMPOXIr+ufkAhb68B+LZ+QEySvJ7Vvn5A6Ca2\\u002fOXGfkBNs27xx019QOI2R7JFVX1ALIP+XYJdfUC0DFXPX2Z9QDn8WuGNbn1AiqnLJNl1fUAvm0XifH19QPJZl9lkA39AFrmnPz\\u002f+fkAhagZNGfl+QBWhFMNh9H5A3ptyK3DvfkDIYb1+JOl+QFiV2\\u002fZn435A6tYds1vGfUCQzxhsZsB9QMz0sOtkun1An+7J1ju1fUAuUdsJE7B9QG2FCGGrqn1AI9EA0UmlfUDW2CGNJKB9QFGUoAU3m31AtF199PKVfUDeJHaJsZB9QBTP1c4HjH5A764hkU+SfkDflIeh2Jt+QCoSwoDsqX5AVm0GwjexfkC1PEgqLLR+QOUZOyv6tX5AEPuAZlbAfkCyqeUOxM9+QI4kzv\\u002f+235AKKNTCIcDf0C4GQx6RwF\\u002fQJTW5tm6+X5AwmnGNs\\u002f0fkCM5Ls3yAd\\u002fQMUGF1zFmX1A82ylf0WifUDZQTrVwah9QIWwRmoHq31AskKFdtiqfUBIUz42J6x9QPfSzpAxrX1A+aAkb36tfUDd54baCKt9QLDCaKxqqH1APk9rutGrfUAkMWwPr6V9QOGNhLW2s31AK9NRJAO7fUDMhZ6OPMN9QKmmBzvoyn1AbNh1ZCvSfUCUUAA+0Nl9QL9HQAgS4n1A6vh9WUvqfUBR7IGRW\\u002fJ9QLq+E6hW+n1AfE2n8mMDfkB2n0\\u002fZTgt+QMu4PaVYEn5Af13hqmVgfkAHvrUS8Fp+QK5RAfzFVX5AxzwYFYRQfkCAEL1z80p+QPRu5mWZRX5AgyIzVmdAfkA51TGnfjt+QBoRtSNwNn5AWD2FqzoxfkBwrknARix+QMMJMYNbJ35ApE1ka3cifkBdOzNigB1+QAuwa\\u002fmmiX5AMdLeaiqRfkCt28UcF5l+QFCy+7NwoX5A4VVJmumofkB6ooj4EbB+QP6ST2Wwtn5A1GJq\\u002f8G+fkDXXDxwRcd+QIgM8loaz35AVdLf2EXXfkCzJ1muF1l9QDLxedBsYH1ABOV1MmhofUDEToeU2HB9QASfsjMdeX1AXYw7qv+AfUB5HiUA34h9QFxi4coHkX1AWTpMtZP8fUBshKp56Pd9QL0GWZjy8X1AtTAdrSjsfUD3c0\\u002f05+Z9QDztwj964X1A3T6e3szbfUB4U\\u002fvvb9Z9QMMVF8Gn0X1AllWcpwzNfUAy9uaExcd9QIOv1KY0w31AWf705LG9fUDXyYzcmRh+QG6hKzhdIH5AWIyx\\u002fhEofkCIJ8Z\\u002fqS9+QF1E6DWMN35AJOUzq38\\u002ffkCjIdnyKUd+QKp1xS8bT35A9uETmw5XfkAZPkywg15+QHEYqidoZn5AB6jFY7RufkBArT016HZ+QA1z7ppf3n5AoQikFzDZfkAoAz37i9N+QABX7tQUzn5A5WOcuiLJfkBm245pvsR+QNQ9roBIwH5AtRovPlu7fkDlEbrUxbV+QMI3hxamsH5AKQg3+LGRfUARqHcZCox9QM0t5Dq7hn1AIAn7E3OBfUAeOLewF3x9QCu0dQ2Adn1ANJ9QMeVwfUD\\u002fDEIMJ2x9QMTV2N1MZ31AnGSxt28\\u002ffkDrGHh0WUt+QJO8eKMJT35A5138+6FUfkCboyYolWN+QGud7XoIdn5A8gZapaN+fkDV89OgnH1+QNrZVXBehH5AomceaDeKfkB3+\\u002f1eG5F+QC2TR3mWn35AXsr3qVm1fkC7g\\u002fUOH0h9QGgb0UTxWn1Aj4OvxCJsfUAkx5S0tHh9QOr7Dpcig31AIgdiCEePfUCT7BJOnZ99QOJOQDSRBX9AiBo3VAIDf0B0HChiLPx+QO5Q2Nw0935AdrCB6z0Jf0A11pTmQZp9QIN+L2lpn31AB4YJG4SofUAzoUlAKa19QE6JJj3eq31APjW36gGtfUBmOFjqYq59QP6D687Ir31AoKN96tesfUBEdPB2xqh9QEHRzTmErX1AK6XNxk6ofUCX8FveN919QGFP1Ez93X1AWqbQ3pnhfUCQ+Nm07el9QBYsefKM7H1Ayvnru\\u002fPzfUBM4zm\\u002fNvZ9QPgskrwt9X1AZUCNWtn6fUDw15uwxvt9QDoR1Ith\\u002fX1AEI91rAH4fUAUbuW+Tvd9QLK2V59WAH5AK6qX1KunfkD0Kcrr2Zp+QJkkiPjDln5AttlRBt+SfkBPk6tykJB+QDhLvS\\u002fQk35AxGjOn\\u002fWNfkAbQV+dy4F+QDEHXqjBd35AI1Kg4w10fkBY8TKUKW1+QOqxyfciZX5AZF1SOxTYfkApRH+Wj+B+QHIQF7gu6X5AHrOcge7wfkAcAof\\u002fb\\u002fh+QC24vStQAH9A97ilNcaPfUDNi3XrkJd9QCboFFS4n31AqfU7n3ynfUAkHWk4SK99QMCIfqd1t31AVrHn8q+\\u002ffUA50ZXyxsd9QNxOrnF7z31ALV6gIAnYfUDkkBIoMeF9QPtLVr+i6H1AYx83VWuQfkA4uwSvFYp+QCDASqjNg35AUI\\u002fBNOh+fkBuWT7YrXp+QJH5BswAdn5Ail\\u002fDBwdxfkCjjvBTv2x+QDbXRG2OZ35A6Az0hwxifkBlN7CVLV1+QPXG5qXOWH5AfNIiRe1TfkAyneQNvk5+QAx6skOeT35AC8urd7pXfkCNobonO19+QG4eygvLZn5ALJvF6AhvfkB4Wv3HwHd+QIzsK2JXf35Av+s6RR6GfkCnX749mI1+QCqhn8cNlX5AKh5iJpucfkC0ErmRIqV+QKS0D+l7rn5Aggso8bo3fUCK8AzQO0B9QKfP6GwLSH1ALsQdjAMYfkB5pzlQGxN+QI2wY4UUDX5AUPkKcakHfkDorcNBTAJ+QIME56Gj\\u002fX1ADKtKnwT4fUDZBz7rnfJ9QDIXSQXg7X1ASqrDPNbofUBEEftzBuR9QIwmirEo331AKNGlDM\\u002fZfUA09\\u002frNEuF+QCSb7rrT235Aarf9XHzWfkCOx2iWAdF+QAAebVXry35AlLc5sWLHfkA9vIxbCcN+QJcQ0iW9vn5A3kxy\\u002fRa5fkChbfPM7bN+QAM3kI7qkH1AmdDrNomLfUBr9mQQMoZ9QOjQoUP2gH1AgKzIsL97fUB+ykJlNHZ9QGCF7yz3cH1AqUQNiztsfUCOcaEZXmd9QBIR9wI9gH1A0CIJSmWMfUBMvygMgJh9QEIA5GFXpH1AxADHu1awfUDtvmJnn7x9QH5eq1HcyH1AaPHtWuvUfUAoSAsv3+B9QNSe4Bxh7X1AYtIAAS\\u002f6fUBPtVCf0wV+QNYCxJbkaX5AMcoDSXZkfkA1RIJ1Tl9+QORvW5YoWn5AfCAwWgJVfkDxtEYv\\u002f09+QDWPyY\\u002fuSn5A1FnlyQxGfkDiymw+HEF+QKcNUP8BPH5AxHNEDwM3fkBIAf6SbTJ+QPz0qQf0LX5AVIb9cQspfkAIic+MfN19QEXgzAdM2H1ABcwTRjrSfUAYomas78x9QAoPD2UQyH1AhwLUQuzCfUDpyzjObb19QBONgJAruH1AFu0on4uzfUD36xy8+659QNCGBvQ+qX1A\\u002fk2Nk9qkfUButfaGir1+QEVo2hThxX5AYPhNcrDOfkA1M9F07tV+QCMXukpO3X5AaKncNUXlfkCBVZrmfe1+QP5Z\\u002fb7\\u002f9X5AGWHpLSx9fUAr4Yt7c4V9QKEVki47jX1ALypc0pWVfUDu8\\u002fs\\u002f3Z19QE2TA86qpX1A5NakCsKtfUD11gM72rV9QL0\\u002fsHe+vn1A34DTeZjHfUAsH6MEsKl+QM54piQkpH5A\\u002fGJ1QCaffkBjIMppq5p+QK59qogxln5A2VfL8G+SfkBMz7r1w41+QM+ZlOxPiH5Ap2N8oR+DfkCET8WuUH5+QLIfHvkqeX5A+TpPn0x0fkA6rBksZEl9QCZEMw7LRH1ANYaTutM\\u002ffUDRMM6KCzp9QDW1zsyiJX5Aaoh3noctfkAfr83\\u002fHDV+QFTiGDXcPH5Avw6MBiJFfkBqj\\u002fJPXE1+QEPv\\u002frNCVX5A\\u002f0yK8YddfkDicTGea2V+QI69AzXxbH5AeUUTCKp0fkCbPeP4VH1+QFlR9OWihn5AIPwhdBcofkAAohLOFCN+QMRHb4aHHX5AAJZvZRcYfkATBuanERN+QFyhiDcuDn5A4GeeSeoIfkCo8dx4TgN+QBtjWwdk\\u002fn1As9mCsr75fUBFxLIglPR9QIAYqtv4731AnJAmvtTqfUBp3LBFkOV9QIjpaCv9k31AD0glmW+cfUAU87BKbKR9QPwnjtNQrH1ACVr4Z6K0fUDiELElFb19QKqLeXJqxX1AOzadWjDNfUCC8i0K3tV9QGluLQlT331Am6suUQHnfUCE6\\u002f6UltZ+QF4LReqf0X5Aah8g+wrMfkCGznQCqsZ+QPrK1mvnwX5ADxRJoc29fkBEWWL6cbl+QHlIPp1\\u002ftH5AtL1BXRmvfkBmPFxORqp+QPFbC5wChn1AD+qx\\u002ff6AfUBnDFt2\\u002fHt9QPoqp9+rdn1AJ6JzvxFxfUBIoIU7kGt9QKypHljaZn1AhH8BzyFifUCT3OxUwCd+QEHtgbt7MH5AZuvTkUE4fkBI3f8JsD9+QMbhieKIR35AhaggahtQfkBnzv7bVlh+QE7riKkeYH5ANGaxAqBofkDJ5YrkQHB+QItC7eKFd35A4xkImWZ\\u002ffkDb8HSHxIh+QBTYnn87kn5ASzwebSZEfkAMeWS5WUJ+QJ9lYc+LQH5AyoM6YYc9fkCMHF2\\u002f1Tp+QJWgNWbROH5Axu4Mf9Y2fkCZ8IZsEjN+QHJ5OwvuLn5AB3pgv2orfkA7niGYXyd+QPz5JJ8XI35AAvtGwBIffkCemtgYAxt+QILFR+fBgn5AksidmqWKfkAOWN7FYJR+QLY+BYbdnn5AfbwhQi6mfkAqNKahnKx+QLDTRSXUsH5A6O\\u002fV0n+6fkBOxOqaz8Z+QPqEcOWGz35ALnllxZNdfUDB5U74kmZ9QPGjCowkc31A6ZtVI5N+fUBcVUPCt4h9QO7ExES2k31AZTHoYU+ffUDtTsIiSat9QK7F\\u002fOkf9X5AcLewpqbvfkA6catccup+QHAQi6t45X5AwpOpwPTgfkCnbEXEl9x+QO5wAVJS135ApNltI7zRfkDfOtzGf8x+QG5s8gzprX1ACioGFP6nfUAO\\u002f6oQpaJ9QGHlG0ZAnX1AFvqb8IGYfUDb2F1zlSZ+QFcqO1eVLn5AO3lFrkY2fkCv8E7gFj5+QCoKBtuMRn5ARAZLiehOfkB+gx1u2lZ+QEEV9bRbX35AvMuNbkdnfkA6vq9ex25+QAmlTHDGdn5Al5jGac1\\u002ffkDXJF4fMol+QE3rIBsBan5AfdP4Ob9kfkDQWac6kV9+QAd9xLBuWn5A+6e\\u002fYmxVfkAKMg2RdVB+QLcRR+JbS35A++7IHpxGfkDW8DDZoEF+QOxOUuGEPH5AGcvwns43fkDdHbopYzN+QPrlnrDkLn5AzRGqOqkpfkBRz8ZEE4N9QEub3rw+i31A8A2u16OTfUC6XE9UnJt9QKA8ipjEo31Aa\\u002fRoazGsfUA5NdoWtbR9QN\\u002fC5lX5vH1ALfmthyTFfUD7xST0NM59QKrbwrQn131AerLbrAAVfkBmabPySA5+QDDCwtb6AX5ACCGIzjD6fUAw3d39SfJ9QLyt\\u002fnkN6n1AqqKFQmrhfUDQT0UA0dp9QIz0FlMu131ATmAVh8bQfUC3Dp75Psx9QDnaTNV3xH1AliwJEWG9fUC609dDpyl+QDvhZ8qFMX5AFW9Rfk46fkDWm4IekEJ+QA4fG1rzSH5AJMHnspVPfkD5rQ0cSFd+QCXJjj+ZXX5AmHyWvE9lfkArqFXRJW5+QBrE2RiydX5AA1EccDR6fkCqr9CVVH5+QH+Jo0q0pX5AxmJCif+ZfkBkmxcZoJN+QE7gKC8nkX5AlM6FljWMfkASMEWuLIp+QARmyIxcin5A2FuGaNyBfkCRaHJaWHl+QCDOkjhIc35ANnqJlExwfkCMt+nsd2l+QFR5Uhh7Y35AWh2H3qg6fUD\\u002f8a6qead+QCIvSU+nr35AGNi3su21fkB89m0WDL5+QLm6Kmmrx35AXGjQ2RvRfkDfUU6iqth+QEzlQGMv335A8iExjUvlfkDojTFZ5G59QC7qFL8adX1Aa9xoaml8fUB+Ot0rfYF9QOSJi+Duhn1AsbHKO6uNfUAcLcBM9JJ9QMzhmgvCl31A3DaoMD+cfUCo8VkRuOx+QFiYzDs\\u002f535AKCKTk\\u002fXhfkDawAUW\\u002fdx+QG2bdu1l2H5ArmizuFrUfkC8XrDdXc9+QDa+m\\u002fHJyX5AEjIsd4XEfkBUxgsZE8p9QON2zMyp0n1A\\u002fMq7tMnafUABNmyru+J9QKTIrPAJ631A3dmuzDHzfUBu9TCu9\\u002ft9QBPlAOi3BH5A4S9qVcoMfkDtBzyxSxV+QEUq9NTIHX5A4NvJVrYmfkDpWqM+AC9+QKU\\u002f+8BbPH5AIFlc4cY2fkAd\\u002fZZEbDF+QPf\\u002fRkhoLH5Anu4xCSsnfkB5KuEfJyJ+QBw2k9KiHH5AZcnhtFMXfkDWZn75rhJ+QAN76VsoDn5Ac2thN2sJfkBrsMVSnwR+QIx9YwZk\\u002f31A75BWELNEfkBgu96UQk1+QEzEiFUCVX5AzXmsddJcfkCoar9ShGV+QJpUpDBVbn5A2qLmDiV2fkBr+sqasX1+QNzoRLWthX5A9PHdDU+NfkD7MzOoXJV+QKwMpHN9nn5ABEeek6o0fUA8ieqpFT19QLbnXcXCu35ABRVETi+2fkAu2zFzDLF+QPwB2XtIrH5AZosEPlWnfkBHynyNyqJ+QIxYGDuann5Au7MXE92ZfkBlrHlL9JR+QG7nJWWjj35A17Y7r5uKfkABqn5V64V+QKopOBLeXX1A0nq8yMVZfUBa4AR6FVV9QG8R\\u002f3zMTn1AzkRdxDBJfUD1ItPDh7R+QMNBzpMGvH5A0k979tLBfkByUHIkfMt+QJBu8aiD1X5AIi48d9HdfkABxurNKOV+QCKZoEKW635ABIhSW9a3fkA46izk0q5+QBSnngNPqH5AgNxyrcyjfkDCu4DHSKB+QKR37U4mnX5AyA\\u002f5DGqZfkBitcb91JN+QNR3uGFLjn5AMBGpP6KHfkCVv6AWqYF+QJCCdlmDfH5AvSEy+EhkfUDyV6l9SmJ9QHLUbOcAW31Ae1NsGiZOfUCWu0ESKUN9QMM+VCRl6H1AOPqRx\\u002f7wfUDyb4H9dPl9QCzMFRl8AX5A0+dYip4JfkCV8avqoRF+QD8swa0bGn5A5Xr4EMkifkAwg7nOWCt+QAZGJmnfM35AQfa6NkU8fkAnExEdp0R+QPGEV8dXTX5ANBv3GdSAfkBkzYdK0Xp+QNBFzr4odX5AW+5lPWtwfkAHMeHwD2x+QDAZY0x0Z35AV79g1kRifkC0\\u002fai5xl1+QOaCOEjEWH5A7WAR\\u002flNTfkBQgcxR4k5+QPCNyp+7Sn5AqNuwtaNFfkCj3zfefFN+QJnOM1sGXH5AzVPH1b1jfkCuMf380Wt+QGonbpqJdH5AUaQKhdZ9fkBzeNxqMoV+QBXsZXp2jH5ANj3s12mUfkDOGGGFDZx+QMdoo7l3pH5AfsXjT7OtfkC6Gjgzpj59QH0O7ikeR31ASpU8+wBPfUAbEeVDKPd+QKQfbGnr8X5AqZttKwPtfkDrJTWSdeh+QFVaMA\\u002ft435AnICQP8nefkD+YTRiLNl+QPcmmO31x35AMGIwiKvQfkAmzrrQt9l+QFiZ3TyJ4X5AQc8Uu2HpfkA3xUUNnvF+QOze2\\u002foH+n5Aif0PAruHfUBAbOmoQJB9QIBWpZJYmH1AxPDkY5ugfUB4gm+sQKl9QMgytKLHsX1AXp7o8ze6fUBO+X5RecJ9QKUAfmGhy31AqXRbqc\\u002fUfUAu9agXLjl+QBfYwNe\\u002fM35AOmDmHk0ufkCMdg9GUyl+QIE6E0olJH5Aus3CMSsffkD0HYOvphl+QB4BTTJ2FH5Axau\\u002fPMIPfkAdNwBKHAt+QAJDbv9+Bn5AeLigr60BfkCDd3QphPx9QJ36oK16q35AVoSiGdmlfkCzwkgk5KB+QJwJBqBwnH5AWw1a7gSYfkBWEXc0TZR+QKlRK7Ozj35A5X6UbmyKfkAFHrDWUoV+QOra1cx5gH5A8a9JN3F7fkCXXx3TnXZ+QMFIPqmuS31AFKz60UdHfUCD+ia6tkJ9QJeGTUO7PH1A\\u002fY26Ytw2fUB0Ei3Wbj99QOYnsxRJR31AVJ20sokEf0DKz4Ez\\u002f\\u002f9+QIRq1wA4+35AtddQ3Pz0fkAWmJwDV+9+QIhZybVX0X1AQ5DdgrbMfUDVv8dpecZ9QOvqR0kYwX1A90OuTom8fUARFom7Urd9QMYbJbUdsn1AuGdnVf6sfUA4tgZkVah9QCIDygWyo31AJOJK3TqefUAXYOTA05l9QI4qvIXBuH5AVKrPu0bBfkCaZZmNRMp+QO8BmXA10n5ABJJ5z7TZfkC0QPvA1eF+QN+fErxM6n5AdtW2uA7zfkDPWX7ny3l9QG9R8SNtgn1AarUBKHyKfUDdZI69IJN9QOU5j+XCm31ATJ+rksejfUAEJYG1K6x9QL9Zr1qdtH1AuNuWi8W9fUBXbFHv58Z9QD25+XmENX5AgB2WW\\u002fg8fkCsc4r9W0Z+QPwTcGseT35AR7ja3zFVfkAaljlfRVx+QGleOh2QZH5AzzNAnFtrfkDXESEQq3N+QC8bKcx2fX5ABiSQ4fOFfkDWbp0iqYp+QA4XW83mjX5AdpPHK8y2fkCKZnVDNLF+QJb+YkUhrH5AmNlczHGnfkCtWBS+yKJ+QL2Y9T+Pnn5A8L8MxEeafkAEkwMiYZV+QPcyg6FqkH5AGZeaXFmLfkC1IrKrU4Z+QJsD4smqgX5AQBV9v81WfUA82mlX+1J9QAcX4Lr8TX1A6BcMVKRHfUCLN\\u002fVKk0J9QDLi5cCw1H1AyE2YWj3gfUDQ13cCLup9QKPB3ftW8X1AQEuArFH8fUBcIFnuYgN+QIevMoqMDX5A5C0h6fMZfkAaOUhUfiN+QFZZ3QrmLX5ACqmy\\u002f6Y3fkAkL\\u002fyAp0F+QG6ueZXxTH5AkXFJ3jgSfkCqM1rMGQ9+QJuJl6wfD35AaIwdSK0MfkDI7d1pkwl+QGlYaoZmBX5AdjIDWagEfkCxEdJrtAF+QDMWicmk\\u002fH1AQ0pQ3Nj5fUDMGbsC8vR9QB6kozx18X1Aatv1knzufUCwMo08yml+QCmitV01c35A+jeAg7B7fkBccC90hYV+QBw3BYK3jX5AtnoJ9CeXfkAWyfK8vp5+QJc95AUNpH5ArDpi\\u002fKOqfkBBk+hHoLR+QGmR4yP3vX5AAjyS3BbJfkCgHxeYhKx+QFIMnTa3dX1ArJsJcgBzfUDrbGC63W59QJC9D7EVbX1AqbiEIG1tfUCH3umZemx9QNwlp9ecaX1ACNoNP8JlfUCXpuiTnll+QAh909UxYn5A0b2k89ZpfkADzRb1C3J+QODl5Ru4en5AAElPRgyEfkBdoVOEWIt+QA0wjROJkn5AdHEUs2yafkBEqFQiSKJ+QE\\u002fb0\\u002f3Cqn5A7wbx0dezfkAyKuc3jkJ9QGCodvObS31AVgazpjVTfUA1MezojFt9QEVNLh5wCn9AKvdyhM6ufUDqfUaRYrd9QJWVsEAqv31AuPPBq\\u002fvHfUBfmY5fENB9QGSS\\u002fC7f131A8TSEyTfgfUDdhXcD9Oh9QFvofRef8X1ACjNFCjP6fUBGHYrZAQN+QPlTXeqDDH5AooUyT4YUfkAesDI1ar1+QGcoax8+uH5Af7xjsHuzfkCakhgTO65+QKSs6hmiqX5Att569rWlfkDoU2B2PaF+QBf8YJyjnH5Af86eWXKXfkAdj4vpUZJ+QCU1F3S3jX5Aabxz8WBkfUCgxRBTVWB9QEYgdxaPW31AfS7RxJNVfUCnhdsJ9E99QEbpM4wpS31A8wvybNfjfkBuh+DcMe5+QHgOJg+Z+35AsGMnRD4Ef0D219wO6Ap\\u002fQHNOsu0Co31ALtLtANGpfUD09njonLZ9QGMrS\\u002fxhv31AspXqK+nGfUCSwhi7Es99QDvjNJPj231ACAQu5mTnfUBpIzyOffJ9QLaXYJk2\\u002fX1ARB7B2eMLfkAaTjAJnhZ+QCwm8t0JHn5As8z2tqAffkB1TndqnBp+QDgnYFzvFH5AwUu8lekPfkC0\\u002fNZNEAt+QCQmZ49GBn5AOmFTypMAfkDX8wmnnvt9QHNwPR9X931AK4+8PxzyfUDV2GFgye19QFQJPs3Z6H1AJcvwh6LjfUAoIQjlALF9QAVQ8KnRuH1AZI57QX3BfUALeVdxx8l9QBjfIbWV0X1ANvK7hLrZfUDdgxgkf+J9QPPyIBJG631AfTFIlunzfUCs7Ekddfx9QAQ\\u002f+a0LBn5Af4Sp62gOfkDjBDysSsp+QFci1GcGxX5AeaswakfAfkDpb1U8xbp+QC8eFJ6ctX5AWTXgp9uxfkAZJRidpK1+QLK2rFZTqX5Aj4ltNf+jfkA+6LXVEZ9+QN99N7eZmn5AoWh7fLhzfUB2wvd1Rm99QJ\\u002f\\u002f9Yiran1AvgNGPh5lfUD\\u002f\\u002ff+2O199QJyDcF4gWn1Aw8qLQsdVfUDTLFGRdkd+QFIZ+54BUH5ASANaWbZXfkAuFGAgql9+QNYMcLWCaH5AJBs1NHZxfkAs+bv0R3l+QFBnnsjLgH5AUuMPTdKIfkBhcg\\u002fXgZB+QDpOl86imH5ALDKMK9ChfkDmNX2FozV9QFEGZOpZPn1A5flOvjMTfkCmShUvmht+QMO2O9vSI35AFvo+xvcrfkAPC8BoXDR+QIXhgv\\u002fRPH5AVXwoifNEfkBng+N7dk1+QEqja9zlVX5AYokgFgZefkBUaoSMe2Z+QMWzlhFEb35APr944ht4fkDE5z62CQZ+QPjaR3ugDn5AaenIYREXfkB4T\\u002f32Oh9+QIsqiGpVJ35AjqVuX58vfkA2ee499zd+QL\\u002f7V9xEQH5A6P1WcN9IfkCcfGJbflF+QKjGxqACWn5ArT+cDX5ifkD2tCZN+mp+QFAqcG\\u002fBc35APOVuel5gfkBOh1GfaFt+QLIrM6+RVn5A3\\u002f9oSXxRfkDw83zgckx+QCBDLDqGR35A6fwwWq9CfkC4PnWCKD5+QESHNHRiOX5A3q7krpk0fkABJviXKTB+QPqb9hXMK35AjekEEmEnfkDm1gKYMEF+QFOOGUHWO35AiNAf27Q2fkAKYIJV3jF+QAIMEDHSLH5A91wHx\\u002fEnfkBps2Br0CJ+QLHEWEqbHX5AbTiwmw4ZfkBnCk3k3hR+QKSlMxNGEH5Aod4RVqsLfkDNSMzg2AZ+QKZzP2XyAX5ANiyOTrICf0B25jGwrAt\\u002fQOWHO8Fv\\u002fH1A19KSUU\\u002f4fUBrxD7g6\\u002fJ9QN6S6Fdf7X1A4Z4Ul4zofUAzY0jIguN9QDyFRMlH3n1AwPZb6k3ZfUBJW9SF3tR9QFWQiZ6d0H1A27i93O7LfUDSJw6Bf8d9QMIfXdZpwn1A+7V5N4CXfkDrknvov59+QFSvyXxqqH5AsQLM5yuxfkBbAYdH9Lh+QDWLG1hkwH5AM4ZAjbDIfkAlkE0Pg9F+QNNTJjZ+2n5ALAiFBhbjfkDxeY+zGGV9QMNJKHNNbX1AIxjy8dB1fUBD5XbbyX59QF4fLdNch31AMry96e6PfUBDXOL1qZh9QBjEiWaXoX1AxVpEbP6pfUAsmiEaX9V+QL8HNoFe0H5AfOTM65bLfkAaNLIUPsZ+QLH2meU3wX5AtjuQFSW9fkBscXclUbl+QCk\\u002fqZsNtX5AxPRPThawfkDPncX5Bat+QDV3nkCrpn5AlHz2UTSDfUDhRa2hN359QHDjJq7AeX1A2MckDMd0fUBuW2UXXW99QMINn1MQan1A7aC0MFZlfUC\\u002fjZan92B9QAZ+u7QYAH5AJAeI1soIfkBipTfZXxF+QC7m5AawGX5Ad565sQoifkDFc5aHZSp+QA9HmGPkMn5ARMM6ezM7fkCgJX7gxUN+QEt7U71\\u002fTH5A7NQr8kxVfkCPpONH0V1+QLG1Tk9kZn5AfvtxSTFvfkBKuKbRcTF+QO9v1gLFLH5AQoJVaV0nfkBC5b17aSJ+QLNZB8u8HX5Ac7RHD\\u002fEYfkCy76TD5xN+QI1NX\\u002fLJDn5AOHXE2iAKfkC632PMnwV+QHuRIoEMAX5AGgSZGJP8fUCvVI+\\u002f2\\u002fd9QMT3N3zn8n1AM22Cfd1ZfUAAMXHK32F9QAuGBB27an1ATVXZit5zfUBooey0mXx9QEC8YdgMhX1ATBfFB7CNfUDtsD40y5Z9QNA0FV8zpn5AhOLb+F6gfkBO7ssioZt+QDRigBWql35AGKDAgj2TfkDVWBrjfY9+QHCL\\u002fyTei35AXKLkrKyGfkCRaF7wloF+QB5JJKUUfX5AVHBOb2J4fkDBmUi2w3N+QKUWzkjjbn5A8GYlRqhBfUBQg1kQKD19QNZ3gWzYN31A5FXWqa+0fUC5OoLPkL19QJo7zH+cxX1AenS9FVbOfUDcek3sdtZ9QNwUhTzB3n1AwsmvYYrnfUDG+PjUaPB9QJQYMxtA+X1Ao8nFMhUCfkC2rzlZjAt+QPWckFtzFH5A4FvCIG4cfkAUejrubA1\\u002fQCgU9FG9B39AwHLoY1ACf0Bv4OeoK+J9QJqw93Hx3X1A+1dHmPvXfUB7JdfRuNJ9QDIpOElCzn1AoLIKs4fJfUBLp2pIRsR9QKwIM247v31A4IFR9eW6fUAA\\u002f5uFybZ9QIZmra+YsX1AXQCfTDqtfUA6prF8wjp+QIXn6UauQ35AcqrrOrBLfkBPcjaxs1N+QE8zeq6RXH5AVdRYwnllfkCMQW5Xzm1+QNgJs5DPdX5ALVLiJFx+fkAO5aJHPIZ+QBYTZ2Jwjn5A4pkypb+XfkByuTX336F+QIF3a\\u002f78L31A9C+yYpGdfkCpuJU9aJd+QPfCMKtFkn5ATv4PiQqOfkBS+BsJwIl+QPWAig2GhX5Auq6g9SOCfkCCRmSJrX1+QM7VInJHeH5AJJcVgGpzfkD+wrP6NG9+QGp88p6aan5Ar8zEhMtlfkCGkZpgSzR9QGsLX31yL31AVgiTDUYEf0Asr8Afhg1\\u002fQFfCdDJ9rn1ACbvrm0S3fUDqRr13Vb99QKnoeaxgyH1Adgb+3qXQfUBI3cGq09h9QH7idZqe4X1AekEWCLDqfUC8AuYkovN9QNXMGFx9\\u002fH1AghFGjdgFfkAu5kBoIQ9+QAI3WNklF35AjDMySf4gfkBL90bTNhx+QKKGZEd+Fn5ARyxQzscRfkDD10+cAg1+QPb39hmTCH5AgUdAbQsDfkA6tI9CKP59QOfIcJ8C+n1AhjTOQgv1fUBdSE\\u002f0wfB9QDLCVO0Q7H1AahZG\\u002fBfnfUAaA0zvsHd+QJgGhpklgH5APSSWVgyJfkBF526Qk5F+QANLc3I7mn5AhS1bbmeifkBXk32R7al+QCcMIqhjsn5AuprFtnO7fkAQEKsuJsR+QBvvXdw6zX5AmayN6TFPfUCSQacU31d9QFVIdSFmYX1A8LLDAsVqfUBHOTh7SnN9QPkVf5Cbe31AMBQ1XXKEfUDrOhU09vV+QBM2jC7d8H5AwHeKJRHsfkDeNGwZjed+QKaFRxRk435AfKSmFRrffkCtVWMTtNl+QFVMa6J31H5A4YMphwqzfUBhuzQSM659QJZV\\u002fm3IqH1ARSLQbJ+jfUByPdGg1559QLv5TBl4mn1AwiTezLaVfUB6l2rUfJB9QJQJlqkZjH1AxvQ5BHSHfUBSmdSoq4J9QG2cWC1yFn5AkCTrQwwffkAZHhqYlSd+QI4bRb0QMH5AC+hQUbM4fkBbn4jIgUF+QL50WaAaSn5AGRnzW9xSfkB8BuFDm1t+QG6nVyDIY35AUu53KFRsfkBxflDWaXV+QESsw2Lqfn5Aq3i5+6fYfkAL3p5Z0NN+QG4Jf73Jzn5AmetYM4zJfkBk1FbZ3sR+QPKsfmrRwH5AMe064Oq8fkBqWd2SnLh+QNQ60nt2s35AcQ2gF7SufkBfIRSDxId9QAdweo7Tgn1AiKS3GyV+fUALnVcvLXl9QE7FFuIEdH1AfRWlFsBufUCvVVGjGWp9QCW6PguyZX1AhvErY1XUfkAO8LsTTs9+QCedlvigyn5A0y5+h03FfkAQjNj9WcB+QPCkf5dRvH5AwPcVqYS4fkAbznLsR7R+QJKZLbdWr35A\\u002f1XRwlWqfkCoRnvMA6Z+QJQjaXRugH1ALELew697fUBRTgReKXd9QFJMP6Igcn1AqQAnq5xsfUC48twwY2d9QGwDTa34Yn1AzZBkYZ5efUDVQH9nQux+QGywxFLQ9X5AWdCRhx\\u002f\\u002ffkA2cOJIdwd\\u002fQNcp6ktqn31AQowluyWofUBuypD5IbF9QFVoirpauX1AgYqJpbbBfUCcH1Cvscp9QJ2EAejw031AsYu268fcfUCJPIm0cOV9QALvFZe67n1Aipn9dk34fUCRKt4MdwB+QOet491VIX5AWPkyGu0cfkA++ar14Bd+QGT9VtqbEn5AhDXZPaUNfkCvq0\\u002fyJwl+QCt3kQlUBH5AoxiShQr\\u002ffUBLexync\\u002fp9QMNk7ZIj9n1A5rMp7FHxfUC8Jsb+AO19QGvnipYk6H1AX+3TujjjfUDNlKqA9PB9QKFzHdzz+X1Asp5rx6UCfkDjdvnvEgt+QB80QrtdE35Atou9rasbfkC3P06G0SR+QM0ANV7gLX5AgLaIBrk2fkDfvTggyD9+QPX8Xe+JSH5A3cmi+TtRfkCe\\u002fgs3M1p+QIwGX4NPeH5AkB4L2hRzfkCONvx3Cm5+QCk\\u002fK\\u002fzYaH5AKGmNuVJkfkDVKVb9GGB+QAGLrB54W35ARvVoxNFWfkC3JQCdV1J+QOcpFd+hTX5Asqr0y9tIfkDh8OWg60R+QCB6PA7aQH5AxK2zQeU7fkCnY5ckSiV+QLdQVpPXLX5A6xeEXw82fkDI6vpEbD5+QHolO7lKR35ALHiFZDxQfkC\\u002fa9O\\u002fv1h+QB2anJ6cYX5Ar1s69gxqfkCOMLDkFXJ+QIHLf\\u002fBQen5AiuBJGdiDfkAj5P0V2o1+QDUvXMZfNH1AWzxdxXAvfUDIUd0oDyh+QJwJAz7cMH5ALcn2JBQ5fkAj4K8RQUF+QMcg78MOSn5AAaHwMf9SfkAGUsBFjlt+QFB49vlWZH5A2atphvVsfkAQRNmhAXV+QGzWVCUdfX5AHjZZlV+GfkBa0RO2W5B+QP\\u002feejgZm35AQeR5H+yUfkCgzrtijI9+QC7+Sv8ti35Ag2ICKQ6HfkA1hHcKvIJ+QNKxVyw2f35AbiNDfyd7fkDGg1vlrHV+QKFbaB7OcH5Av3MQZH1sfkAjK8IDOWh+QM7QbphlY35AmgplAKExfUCMj95ovix9QPqotActAH5AOTqyKTwJfkAb7vUDzBF+QPPZlltbGn5AGaWHsLsifkAAHte7bCt+QItNR\\u002fDqM35ASIDPapk8fkCu8CvPpUV+QMzqdpLETn5ApGsSq45XfkAWtlDcO2B+QOTgXJIwaX5AIWd2OfJmfkDul2ye6WF+QCwfo0ETXX5AcGudA0FYfkBksFRLY1N+QIcnK32yTn5AOJF6\\u002fvFJfkDFEjyQaUV+QA0SC7LeQH5AshUIGRw8fkAdsSVghzd+QLvKnP5UM35AUQpLqUQvfkCC2dTflCp+QEXqFmg+8n5AuBV2Qc\\u002f7fkCVKhv1VAV\\u002fQC6YKQrUDX9AF0whmyyifUDZeza1RKp9QEdW3rO0s31Au5nxwAq8fUB4Ahw5UMR9QJ1HlwzMzH1Ao+RaA1DWfUBNrlRuPd99QD20JOQr6H1Az7N1gOXwfUBaPshKGft9QGzzHAWsA35Ap3gJ37sOf0BGZ\\u002fGVNwl\\u002fQOLKfeSyA39AJg7utAm+fUBgUP4lzbl9QG8ptY+ttX1A0amMDm2wfUDRLvMRXax9QA9kOJQjUn5AtwoXhO1afkAG+LWuw2N+QL5BV7a8a35A3gnNAXp0fkDZlWVHsX1+QLJiSgQlh35ASqL9qniOfkCY9Xy0QZZ+QErUM0ONnn5A0RAjfPCmfkB\\u002fiROo769+QPhXGt+zuX5AJo+BvBo6fUDpzyQcuEN9QHBhYkUMTX1AfQA8se9UfUBKJued2l19QK\\u002fTCjaDbn1AeD3SUXxpfUCuYU2Q1WV9QAsKqx7GYH1AOb0m1dtafUDWkWZFuVV9QGQpMHJnUX1AIyyYJI0GfkDVDYxuhg9+QGTDAhsdGH5AJRArD6MgfkAYsjrOFSl+QMmaF8XUMX5AE\\u002f0u2Ew6fkBHzNlF\\u002fEJ+QMWzlAjiS35AbYTs\\u002fLxUfkCSRmqlkl1+QLb59UxUZn5AL7uWv1JvfkCk4YBrgZt+QNjNPOVnlX5AS5Czl1SQfkAxQmE\\u002fNYx+QAMbQwT3h35AS\\u002fJYJNmDfkDuOMEjmYB+QOfHbT\\u002fwe35AzO5KjKd2fkBrg3vW8HF+QGbcKintbX5AUc97YTlpfkA5\\u002fjmPjmR+QPlEfQp2M31ADkVLio8ufUCyu20NUeJ9QEohKPBz631AnWunuxj0fUDpz01Xqvx9QAfXNPJHBX5AWkfLRcgNfkBeeC5frBZ+QNVZlcblH35AYQhicp0ofkCp9wYPhDF+QEvuBb88On5ADg0LtkxDfkAWJy5EUkx+QLvXisUlmn5A6iVTCgqUfkAYVvMH2Y5+QDY6i1Shin5Ae3Zt23eGfkBxlLZhS4J+QG\\u002f\\u002faZ3xfn5A6ARTepd6fkCg\\u002f8dwRXV+QAQKZCSIcH5Ap\\u002ffzwVxsfkBSRY+++Gd+QD3BzP1EY35AJWm5g0cxfUDoZ3UIJ5x+QJASevYBln5ApqcRptSQfkAJNViJoox+QEHIaS93iH5AhuODhlGEfkAsLmGUCYF+QDr7bEKvfH5A2cHhW153fkDbfCngpHJ+QFhDJl2Zbn5AIvVD1whqfkCnft55Y2V+QCW91Q8eNH1ADc7l90AvfUCUz+bWaNd9QDLGd+aP4H1AfTTe6k3pfUCbRDzMqPF9QLgw\\u002f4yd+n1AAg\\u002fKhNsCfkBCGlS5vwt+QJub30EwFX5A5wmFkc8dfkD4bh+VrSZ+QJWVMzJ0L35AH1qOZZY4fkAJxsLywEF+QJhRjGyiu35AKrOPMme2fkD5TLewobF+QGAWGE42rX5A2psxvZ+ofkAomWxzZqR+QBPshnapoH5A8sps6FmcfkDH0zXY2Zd+QOUoXJHEkn5ADI4uFSOOfkCQrtxD4Yl+QJjpSww+YH1Ae\\u002fecLbVbfUCxUmYtF1h9QLLmsbykUn1A\\u002fdRU8OhMfUAAXV9SSEh9QBRd4ULP731AEIz3xFP2fUB0x1UiX\\u002f19QGOQ7rGdBH5Aj8u4hP4NfkCIrkdq8hZ+QHYt9xaCHn5AzoCG0JYjfkBgn6Lm8Ch+QIvd\\u002fN54L35ACDHOyIA1fkDoznKJMjx+QJnDyg0ZQX5AjFd3cQ9GfkAgyqkNykF+QBTdZr4iOX5AVv5DNWIvfkAalHhFJCh+QFaLx2DSIH5A2I\\u002fCrl8afkCxD6gNFBB+QMAVNrxXCH5AW1ckHLcDfkBwXxJE5f19QGfbLpHt+H1AxaQMcYDzfUBUbWliset9QLxvbZWIpX5Ag1HXCn6kfkBk3WVtlKF+QN6KK6cSnX5ADpYumeyafkD8bkMLFJh+QESkn1JQl35AI9VZ8guZfkBwq28GiJd+QJPd\\u002feugl35Ad+nyJI2UfkBEMf44Oo1+QGAXUOoLh35AJ+v+84l6fkAgAGpcb3V+QHrnsxlTcH5A3k6YeUZrfkBGvxHQEGd+QJ4kfDPtYn5AWVWcDmBefkChAJTq61l+QHAuteCeVX5AOg5ittdQfkCcPXG9U0x+QNdNSx+OSH5Au+W\\u002fnWNEfkCoDnEAiz9+QEa+Wtm+9H5Af60\\u002fWTH+fkAP2ReX0Qd\\u002fQI3W09rRpX1As1u12PGtfUDAzRUSWbd9QOAyLzDcv31AyVYxMR\\u002fIfUAysTlIh9B9QHtFQY4A2n1AtyQfwxXjfUDdJol1G+x9QEoUJqDs9H1AMwMvNgn\\u002ffUA3xoe3xQd+QNg\\u002fLigeyX5AEN+uxS3EfkDXOgGEh79+QBWStmjOun5AoPPUEsC1fkD20Rsr27F+QLjeAcj8rX5Am4+QtC2qfkCb28K7jaV+QHst4rGyoH5A\\u002fUWYkD6cfkDozdYGE259QElLLbVHan1AkJK4wYhlfUAI0yEL+F99QLvrFBfIWn1AVWEXKWZWfUADNBbwONJ9QEZPUeNv231AiHpTjl7kfUCrmh6Yjux9QNjd7IbT9X1An5Ee9vj9fUCTD94U3gZ+QPp0nBpnEH5AGzusnxAZfkDwC9FX8SF+QFot7IyoKn5ABUVoldYzfkD8POXZMj1+QFoOHbDE8n5AHZWz6fftfkAEzhdmcul+QMFoTo9F5X5AoRUWG0bhfkD8oZBH39x+QG+cHG+q135AO7DTa7XSfkD5F5hOQeJ9QARdaitH631A0XwpSVL0fUDtjo\\u002f12\\u002fx9QFld0miBBX5Aw159CxMOfkBcZTNS1RZ+QHnYx6vjH35A1eGt1v4ofkAmiEFb6zF+QAbxPZXSOn5AZCt\\u002fHaZDfkA5CciCrEx+QG3rspSkVX5A2wEBCfj9fkD8jOj1c\\u002fl+QCabrbYT9X5Az7TK3wzxfkDNnRTh1Ox+QNxRMZ9L535An\\u002fykbC\\u002fifkBlb5teKL19QJYh2bfht31A1SvZFKWyfUBCCTeWHa59QAEnazqhqX1AR52zbTKlfUBnBvRsWKB9QCkCVAwJnH1AUxiwTNGXfUCXrOLXJZN9QD0sA47Mjn1AQpp5SPbUfUCewtX5Hd59QNaIIosm531AhxZuMorvfUA1qfl1mvh9QHhsVykAAX5AuA5wMskJfkBmkbU0JBN+QH2BBfcSHH5ATMJF2vQkfkDQfADSyC1+QJzWvITMNn5A1NN4FRdAfkBvQCec4Eh+QNanAkno635AGQJuYOzmfkDsdHdVKuJ+QOdFakW33X5AMG6YArLZfkCiz\\u002fVbGtZ+QJkjyL170X5AE01gxGPMfkCnBvWvqMd+QDQNK+47on1AS+Iu+x2dfUDfca9KM5h9QHFA1eFTk31Agac9MfyOfUDjcpSdwop9QFtDYf9yhX1AnW34ujiBfUC9GMwNJn19QHC2SL4OeH1Ash20eaDwfkAWIDbyOfp+QBR2rRTwA39AryxTTJoMf0DANTbgp6R9QLKFTaRjrX1Al2yfUq22fUB3Vozl\\u002fL59QDLMRnNvx31Addd91V3QfUABg5l14tl9QEmdPJTs4n1AD3l4gunrfUDx5g9sNvV9QBVBqncZ\\u002f31Ax8eim24HfkA2v+VIogB+QKFP+onp\\u002fH1AazYHr9L9fUCsku3A3vx9QFP0pF4O+31Ash7MsUP4fUD9cZZBzPV9QCpXFth99H1A5cq0M7DwfUDiDZB9dO19QB6Gy+JA6n1ATc0ieVjmfUAFOjvYKeR9QO4lJU6y4X1A5szx93ZYfkC4cWebnGN+QCy6HFXVaH5APl+BdXpxfkCwgcuzRX1+QLxU2LUOi35AgiMKTJWQfkB1TTD01pJ+QGwwDh1Omn5AuCVka+KgfkAGj85jaax+QHL15+uAvH5AbOFVe7ZGfUCak+\\u002f\\u002flVN9QJBswV9VZX1AAGHpQfxxfUBVyNagV3t9QMq0cQjFhX1A6fVRZiSUfUCsOT6p9Ad+QMem438hBH5AHPwjOtb+fUCIoDkAr\\u002fl9QAKrG24O9X1AooLqZlXwfUAq8zicuut9QMkloa83531APi5Ezf\\u002fifUAqKTTLpd59QEb5ZaZ12n1Ayaj8FFTWfUB5ol79o9F9QJVuTzUuwn1AjMcxxkzLfUBc3t7qSdR9QLzRpe6l3H1AGGzJc4PlfUBdpMxuNe59QByfxrN0931AjgMgBfAAfkDhGY2Ghwl+QFjlzDqrEn5AZ1u6DZgbfkA\\u002fMb8BNiV+QOvH7wMjLn5AGdutmqXofkBKIDz+8eN+QEcfnXsM335A9uaaJoTafkB6c\\u002fcTVtZ+QPjjTk230n5A8HDBDPLOfkBsNeAX1sl+QDkDpMIDxX5AoEWZIvuKfUAUswjPtoZ9QL5qkwrCgX1AWVSfbk99fUAAnQACO3l9QI8TH+phdH1AT7Abq1evfkAmXIdVKLh+QPBREhJuwX5AgH6FUrLKfkB8p+q5fdJ+QDPFFFPz2n5AwviqnuXjfkBxp2RXIu1+QG5pB0JlcX1An4V7evR6fUBSIMC2ZLp+QJpcb45ctX5ANk3E6M6wfkBJkV3qsqx+QPdkjR8\\u002fqH5Art5hfEKkfkAcrCE\\u002fu6B+QKoOBfuknH5A6dBmDFeYfkAb9S3rf5N+QP24m1cMj35AE7mtoPaKfkCXKYwbGFt9QGuLPf0dWH1AFeiXHC1TfUDDVAV2T019QPYibO++SH1Awzs2mM1afUCUmXSMvmN9QP4jG19LbX1AeVlHNNl2fUDWnBFQ2n99QBtn\\u002fL\\u002fViH1ADJovWB2SfUAuovbcJKZ+QF2wcI3yoH5ApfqonZqcfkCTHXty15h+QCUM+MDblH5A9B1uVsCRfkCwWmwk441+QKjB+MoRiX5AfhPNe4GEfkCvj0ClRYB+QJMmjrfCe35A+qhPi4h3fkD7iind+UZ9QKYwm8YaQ31AIQuMTAQ\\u002ffUBwD9t77jl9QJJNUyDaaX5A99vvkslyfkBW8Wap6Ht+QB7aw7rFhH5A7a8HDeaNfkBmZEDi8JZ+QENpKE0pn35AvQfrE2KnfkBEYLY7Z7B+QOF53MFOuX5AGWBbI6PCfkBYV6F3mkl9QJ8b1OHLUn1A5BrR3SZdfUCyY5Y6nGZ9QHuGnt\\u002f4bn1AzP+kmsR3fUD42sK7Wop+QMUxzp9Jhn5AFlyDxAVZfUBdX09emlR9QPDFS+ROUX1A55gafDZMfUC0aSTdxkZ9QCoQe26qeX5AnCoKXLuCfkA0e+DHk4t+QD\\u002fZyG\\u002f5lH5AxWtBBCOefkBJOTRGoqZ+QL\\u002fLbNfkrn5AN8+Pwxe3fkCJOsBCtcB+QFf8shAbyn5AYXhVs0zTfkBUzMa1KqZ9QMhmNGsNoX1AfPEv6zucfUDVojA+Y5d9QP4fSoc3k31AOYOOLTePfUBcu+N23ol9QKsJuWe8hX1AEqaPALeBfUDy8Zsvz3x9QNT7YSUbdX1A0v38bjt8fUBABItulYR9QOIib59fiH1AyQ8iF0OPfUDbWjsHBJh9QLbuxF3vnH1ACqz9rImhfUDxbINAU6R9QIlQCCi19n5Ao8Yz564Af0AF0NQgfwp\\u002fQKd1Q2xMqH1AjHw9r\\u002fWwfUAmgyBsqrp9QNCShdZVw31AuGjSxv\\u002fLfUDG6y9i99R9QCZl7hXQ3n1A6AgdeivofUD6j+uFb\\u002fF9QL6lZA4I+31APksVzUEFfkA1fxf9ww1+QEbDIqHZ\\u002fn1AWF6Uuyb7fUAUAh8NJPZ9QLPGSVLw8H1AmVH\\u002fKHvsfUAuqsMBzud9QGykSCf\\u002f4n1AdgEZIYHefUCIsBQZe9p9QMzST6tw1n1AD4r6NT\\u002fSfUCJccXaO859QN7sLkKkyX1Avbbf3DFpfUBrQdLm7XF9QMfn1kNpe31ABd1ks8KEfUBh1Apa2I19QDO9IF80l31AT2RUy5+gfUD75y3hbqp9QL46Iepn6n5Ajd7awJHlfkCJas+Z5+B+QCDv3LOa3H5AMaI+UanYfkCZRq3RP9V+QI2kgaa90H5A1wyIW9LLfkBYTAVjP8d+QD10glc+nX1Ain\\u002f08FOYfUAHe\\u002fKOk5N9QLd7M5v1jn1AEXbiHgGLfUAL70W4OYZ9QB3aI2aXgX1Av39lv5J9fUDa6iHLAXl9QKDeIrHLE35A5BWuEuccfkACdP5W8yV+QOo9rdfULn5Ag05GcPw3fkBoOPTOPUF+QLBeBj8rSn5ALSruRn5TfkCes2Jcjlx+QJn2vuIgZX5AsJZ2EFRufkDLzugODnh+QEF10EsUgn5AqJWAb4bFfkC5oHNXzM5+QCkYsxx+2H5ATUdmBuPhfkAXg+PAjup+QF7hxjlj835AY8cgBnj8fkAxbelxY4V9QN8DfDO2jn1AQ4k2RuSXfUA3fiDix6B9QJMI0fYDqn1AC\\u002fWqMXOzfUBGwNiu7Lx9QJovbI7SxX1ANvL5mFjPfUDGHxV+vNl9QH1qGFzB4n1Aw+xK\\u002fOQIf0AD2wHW8AR\\u002fQJeciyKLAH9A7BxJW9v6fkAT\\u002fcLLxs99QJwPWIRYy31AX39cSOzFfUD0bHW4YsF9QGxbUaBJvX1A9tuYzsG4fUD4Uj+lIbR9QNjjLDGzr31ATz1IDaOrfUAlr8pnlad9QJgas+vNon1AY19FpfeefUB45NEvsAB+QBVGK6cxCn5AmbvwtjETfkDjna3QOxx+QAnk6ZoUJX5A\\u002fFDK4D4ufkDU\\u002fB\\u002f1aDV9QGCFl8YfP31APxVqtTpIfUDW+yqWjZh+QHoTFvV5kX5ALdFS8beLfkB22Kak4od+QBbcCBhbhH5A4oFXiIKAfkDIO0SEFn5+QIt8iH+Pen5A2ufc4rN0fkCy\\u002fBgv929+QM0N9BBFbH5ACHNNjFhofkBx15k4tmN+QKNEAm7ppX5ARviNn5WhfkALL4gEUp1+QLUwuC4rmX5ANyPk7vyUfkCyCRNf1pB+QBaybsG5jH5AaM\\u002f2hYqIfkAy\\u002fzoLQIR+QBj\\u002fyLsJgH5AsB+FXM57fkAQ25oSkHd+QIOqEaZVc35A+GLBRREFfkB+2K1x4gB+QHO0W1wZBX5AqetV7DQEfkCg90fUAgN+QPiUlmow\\u002fn1AijIUJHz+fUDsYGS7O\\u002f19QOJSo7z5931AAlUntaz1fUCcgBdoC\\u002fF9QAQ6lsCU7X1A2ApuiZHrfUDImpf12YB+QFOgaUDjiX5AdBS\\u002fEviSfkB1+9Mxjpx+QPgVbFHPpX5AzmquwDyufkBUiYIgfLZ+QDaM1lt9v35AGHhAAVbJfkBkKhjkydJ+QM0LYmQ63H5Ay89SqXZefUBLQZuZhmd9QNmnjtRTcX1Aje0cmfZ6fUDR5eHrOYR9QMtMKq6ljX1A0FzFUSmXfUDiYgQg2gR\\u002fQC+fGuSoAH9ArzME+2\\u002f8fkBWZVpHifh+QDpvBlrU835AKGHivDnufkCsfPeU98V9QFBO+VjqwX1AWLQKdUu8fUCw7hkIm7d9QJZnV9iXs31AiHI2SgivfUCQD7ezjKp9QMH6HXsVpn1AIGpLOP2hfUAKbohYxZ19QHswvkwlmX1AuW2uBBfqfUAjHY05nfN9QKbZNWvp\\u002fH1A1L54qLQFfkC6eAQIyQ5+QFQJHxbBF35AZh78lVEhfkDq2eI75yp+QJSHeA1FNH5AIPI2l709fkDrgOS3BEd+QNvDk2FBUH5A3rwL5bZZfkAeWGNplIF+QOmEHERwfX5Af9aSlQR5fkBuE+eev3R+QMzGcMavQH1A25FSHn88fUBOWIdqqzd9QDcgO\\u002f7l1H5A4fj77bLefkAQNVwFfeh+QFEDDFRa8X5A\\u002fJIheCz6fkCzAe8jagN\\u002fQEqA7XBOjX1AjoYB7pWWfUAvpeT62p99QK24ZIjUqH1AiSBxOxuyfUAOM+etsLt9QI3TyGMnxX1AyNNk\\u002fFDOfUDadQj\\u002f39d9QA5r4HtO4n1Aq16Zy6HrfUB7ulDSJmV+QCp2F1BmYH5A83zus+NbfkB4tAyCb1d+QO5k8hTdUn5Ao2cr5XpOfkCOkJAlHUp+QEWBMvrpRX5AEmL1fcFBfkACN0kbWj1+QOdFjy8GOX5AJfng7zU1fkBYiFAzjTF+QONJRScTLX5ACfY4MP50fkBE2ypURX5+QNM5zhthh35AXyC+iQGRfkBcG5y4Kpp+QFFWuXEOo35Az48JBWerfkDkkSutyrN+QMJ9r7OovX5AS5mCSxzHfkBo3QSZl9B+QEPN7nDDU31A60etyupcfUCcAndkvGZ9QNQEcNLCcH1AgA+65wx6fUACwIhmCYN9QFbuy1GSjH1ArFvSJ1AdfkBbQmfz6Bh+QI0W\\u002fZmeE35AYkNYWRUPfkAijGffvgp+QPj+YFSOBn5A8Ca\\u002fFWkBfkAC+\\u002fkqD\\u002f19QGSAB1xG+X1Al\\u002fmyEbn0fUCpG03j4\\u002fB9QM4BCT5p7H1AyH3EL\\u002fHnfUA\\u002fuy8g7Th+QNIPO6lhQn5AR4A9PdxKfkCR\\u002f2HuoVN+QGy3A\\u002fdqXX5A7n6fD\\u002f1mfkAfIwywtW9+QJmGMtt4eH5AAoAVgIKBfkCXV+0G4Yl+QIHB1BH7kn5AjU1xJkydfkArgkALvTN9QBllR2JvCn5A6AxdOogGfkDJxnF\\u002fsgB+QN5PXfgj\\u002fH1AA\\u002fjo8Yf3fUBrIvYOV\\u002fN9QDvpYlt97n1AUVN1hAfqfUAOMs37BOZ9QPgFlfKn4X1A7slWmhPefUCVrXjzodl9QG97KS7v1H1AznB0dB4zfUA2YnPq23R9QAopm1Yufn1AvFtNwTCHfUBnzUXnDJF9QIZx8ihBmn1Axu3Knz+jfUD3MYr0aax9QJ+9i3EWtn1A4P1hXHHAfUBMHN6dxMl9QG6tTpQu4H5AHvyPctfbfkDmFRz169Z+QJMp8+xj0n5AfSVfslbOfkB8fl8Iu8p+QAgWaRKdx35AeiDdUXrCfkDtcT\\u002f8371+QBsY+Ncmk31AfTCHd1aOfUA2g8h0vol9QH9Ku2QwhX1A9PgNm7KAfUCSvhSkDHx9QCbZ4pZzd31ACRXuVHtzfUDES6tePW99QEEMBWsby31AY4t3v7PUfUCWV14+wt19QMfW45LZ5n1AkvwjYSnwfUCBu9BINvl9QC+euWoEA35A1VVFE6oMfkAuermS2RV+QNGdY6UNH35AhBjFwYsofkAKFQXlkjJ+QEuAyXu4O35AJx4Nrjj\\u002ffUBsE8T1Pvt9QEHE9JK69X1AkGe9GCXxfUAXdo7kpex9QDjekw0B6H1AXBaeoW3jfUApQ\\u002fIQMd99QISdjvho231AO6oLcyXXfUAJYDQmcNN9QESkYBUOz31Aqd+eAYLKfUDQW0oZ6zZ+QJOaCU+eMn5AV0vGpbstfkD9NBaxXyl+QINkuQf9JH5AMt0EGakgfkAI1leJ6Bt+QH61obZlF35At1r7ezkTfkAaZJ4UXg9+QHtEtlN3C35AHOF\\u002fRGIHfkDW4MIjBgN+QN\\u002ft5fCs\\u002fn1A0CFxqMQOfkDoLG8LMRh+QI\\u002fWLpRaIX5A6vcnDWsqfkBe7AYyrTN+QFbtM60MPX5AT91nxhxGfkD3ZXrviU9+QGzezBrYWH5AxWio8cNhfkAZe\\u002fxSH2t+QBjRg\\u002fn0dH5ALDYamwh\\u002ffkBrcFLSv05+QHgqvIT8SX5AzdQs\\u002f6lFfkBTf\\u002fgcYUF+QIlu2N2ePH5ASz903wI4fkDuWV4suzN+QJKNXobLL35AUIGfPqErfkCrT\\u002fNQkCd+QNlFFdaWI35A\\u002fvshbJYffkAPTxUFhxt+QCBn8PxLBH5AWYagFd0NfkAcBn2HCBd+QDF\\u002f9gsfIH5AmC9MgSgpfkAntU1BgzJ+QFU8Al+eO35AdwJbSvlEfkDAkbgdeU5+QAkMKgTdV35AoNLk0DFhfkAX6yw1oWp+QDJNFxJXdH5ATPMDMPI2fkDeMk38HDJ+QKx7ITqhLX5AlyxXcVopfkBHdwe09iR+QL4svl2BIH5A9Yynz+8bfkA+J8gpcRd+QHj527abE35AfmVCqfYPfkBKlsn64wt+QONnM3DLB35AcRDx3GADfkADm3yJTdZ9QI4fhzMH4H1Ag8L51EfpfUB0+t1XWvJ9QGO8He3A+31A3pO4zakEfkBvHvzNMw5+QByMSVEdGH5AoDyoTlshfkAGCyAj1Sp+QKoig643NH5AX05ZTO49fkBNJco2k0d+QPbpOPAf8n1A1a61mU7ufUDSCCuYwOh9QKpJfIFy5H1A4u8JqgvgfUCSos1LmNt9QIKqpCS31n1AnjGyIbfSfUBIhofFJc99QAhriicpy31AnNOtF2THfUAVuD3M58J9QDtqZnyqvn1AZVsHsmh0fUCS9EqIXX59QJwEi9VWh31A7K5Y44SQfUAgBTVNgJp9QDnyvstuo31AS9dSSuqsfUDcY6MAD7Z9QAL8brUEwH1AoHNr557KfUAFl6hIZtN9QDk4xNmBxn5AazmfKPLBfkBax2oZtb1+QBk9VqZJuX5Alj6OWKO0fkC8Yio0ULF+QMf2yqPSrX5ADQRW6lOqfkB3MwGE56V+QB+aw4OaoX5AwLdKI56dfkCbTlnSB219QCKoViWaaX1As5nw1HdlfUDHdvFda2B9QLJGm2JiW31ApLrOOTFXfUDoVIa0jVN9QK2i93vQMX5AkbGZPqc7fkDB4d6To0R+QI6CfyY\\u002fTX5A5213vKpWfkBVpFPIemB+QMkty62vaX5A4HDtpoFyfkBheb6xvXt+QF7d8\\u002fd2hH5Avhwkoz6NfkCvTDdDE5d+QC9AFs3QoX5A3sHcjOExfUAsQt9QbYN+QFH0qOn0fX5AD3hYlnp5fkDfYzBC9HV+QO1oZFCBcn5APKYxSTNufkBmrvXIq2p+QASioZbFZn5AMu2J909ifkB3tVUKQF5+QEBiKmTJWn5ALNbM1uhWfkCeJY7FmlJ+QHV8WDsv9n1AecjRffn\\u002ffUAWQ2d7Sgl+QOd3wgmbEn5A2E4cNXcbfkBN2+dIoiR+QL4\\u002fllsZLn5Al1bIxHw3fkAWj\\u002fDqHUF+QLvGwv4JS35AgHASVG5UfkAjD2Eev11+QP0EKPdvZ35ArDK6GK7YfUABkFlTduJ9QHrRHCMe7H1Amit4HS\\u002f1fUDLG8mauf59QDw00qDiB35Akk0XnUcRfkDG8e+nMRt+QKlVAXHBJH5AjdDLalUufkB8ravb0zd+QNoPifZYQX5AmL9NrDRLfkBHuYAhsmt+QDtjWtcqZ35AdJkjKNlifkBCqH4Cgl5+QDB4AnNAWn5AP9VmyH9WfkCPpiE3RFJ+QH1tqEpaTn5AZaFWmlZKfkAZS7HcGEZ+QNTFC8o5Qn5AUGvXDvI+fkALD0QPVzt+QAm1tODUNn5AmqH\\u002f\\u002fHl1fkBoZO3S43B+QE5q9ANObH5AJeTosOJnfkDwHfEgM2R+QDnEP4h\\u002fYH5ACrv3ukNcfkCrSI9SfVh+QDwUacqJVH5AkQyoHxhQfkBFFzUHUkx+QIlP9fovSX5AH\\u002f8wOUBFfkBSmgNX8UB+QE4U3n+Y3n1ALrRfe4fofUCFKeja7vF9QHSuCmNF+31AK+PDTa4EfkBSP5Fz7w1+QM9pJLijF35AKOVFR5YhfkDlRAN6JCt+QI+SiGbRNH5AjxlbB1U+fkD41q6HJ0h+QM\\u002fxTBffUX5ACCWzr36yfkAyb8zbBq5+QJSYCo31qX5AJGL4MDamfkAoxEAGnKJ+QKelZUT5nn5ARTOeWWqbfkDk9uzyfZd+QGFRraKXk35A8utiqwqPfkC\\u002fVoO9Cot+QO+LZLwwh35AqQ\\u002fjaARXfUBXFwzKz1N9QBPXpcsoUH1ALvy5NcNKfUDHp+QnQ0Z9QHtqoFb0Mn5A3ADdw2M8fkDYQqFJMEV+QI8eGQZdTn5AjmlqCZ1YfkDOKG8ESWJ+QGxZNlVPa35Ao616ctp0fkAIT8hQ5n1+QNLBoaeKhn5A+uBr8xiQfkA3H4cl5pp+QIdV0iNj8H1AUb7Atc7sfUAS95nGded9QOFLK88n431AFYCrSv3efUCvb5YJrdp9QEM+y8bb1X1A6MWsSv\\u002fRfUAy00oyhs59QLRYFAGuyn1AsrLCD\\u002fvGfUC8AYKuvMJ9QCghng2cvn1ADcdUJ6STfkBvhLQ+25x+QI086pCZpn5Axm4qBZqwfkADG70\\u002ft7l+QMV4vWU8wn5ALzbzg3bLfkDv6YpGV9V+QD4ZNs2M335AllAc6UzpfkCQ9Osmv2J9QDm6ddcNbH1An1HVPkd1fUCH0zqyV399QN0O\\u002frwXiX1Alfr0n4iSfUDjMlV9Y5x9QAjhUQ0ypn1A4c+e9qGwfUD9JHplGE5+QMJHeNiGSX5AtHHvL2VFfkCTAH+tT0F+QDl56zXWPH5AMYlermQ4fkCvUgQFPDR+QELgBQl+MH5AZzin15MsfkA2zJ\\u002fwqCh+QEOMx1ffJH5A5aO16BAhfkADJyl5NR1+QFFUCTlQGX5ADkXZgfbDfkDZ1rBt881+QETZON9A2H5ARCmy\\u002fiPhfkAa1HBhPup+QKk2A7rY835AFbdnkKb9fkDCKdavJYF9QKxkIV4+i31AG3pdMJ6UfUAmDyq5\\u002fZ19QOJRDTMFqH1APF45O6ixfUAv3KnNhLt9QFTRiNTmxH1AW3tPzELPfUD8siO+\\u002f9l9QOdq5Toc431Ay+3JJwpsfkBfe59ZoWd+QBG3uBNpY35AANWjcBpffkAdE0CT\\u002fFp+QPGpAapUV35A2RtTdy9TfkA4IYfaW09+QEuSfgFkS35APMUMsT9HfkDnQlcscUN+QLFw5zhCQH5AEeZPBa08fkB8i+Z3Qzh+QIiZjbE8sH5ALZmH8Na5fkAakk9p98N+QASaQRGtzX5Aqds62VTWfkDhnwvlrd9+QHcaeVFj6X5AhgJJoG7zfkDZ9hBl93l9QJvgJXyIg31AUpw9RvaMfUDEkvUQT5d9QLiSVUjBoH1AzbcckG6qfUB7wrkY7LN9QJzW4eISvn1AvGP8chrJfUCTyWG1VdJ9QGbnoValaH5A2amoaEZkfkAa9B7TJGB+QC\\u002f0SVPmW35AVOPvO+lXfkAnFfclDFR+QDzzia7gT35AO\\u002fpyEDhMfkA2fG4YHkh+QBhAfiLnQ35Av3nIKVpAfkCu\\u002f+MuNz1+QNyfoTh2OX5AnIB2vdWTfkAQs9yHJJ1+QErRnooAp35ALsNSyh2xfkBCDbK7R7p+QCpC7o7lwn5Avc9LVEbMfkAtxZ5hVdZ+QD9JN2Ok4H5ATz9hRsNjfUCMmC5cKG19QGxrqUB8dn1A1Pf1pMmAfUB15n4mhYp9QABSTjkjlH1AqLQosSSefUCN1FYhK6h9QBV9YS2Csn1AWTZQgDRffkChMRKk41p+QPS02LPTVn5AF7OWPaFSfkC3M3VKZE5+QEKteidSSn5AhqtSg0tGfkBevjWDm0J+QDlQ0uCVPn5ATdkC1nM6fkDJAcJJ1TZ+QO+w4yWXM35Amn8hKgEwfkAILN5sMXZ+QC7BCzvOf35AEuG3ToiJfkDJq5iRfpN+QBLra6Q4nX5AIWIStm+mfkDvNFUZ8a5+QJxWRj52uH5AKmrvAOPCfkA2GugolMx+QAp21t+81n5Abr0QH5NXfUB5xGbDh2F9QC2GHrYcbH1Ak5pMIUF2fUDig8X96H99QJTidcOIiX1Ac+WSI9aTfUBcWiEbQ0R+QBHiXy5OTn5AGll6HxBYfkDu3UIXLWF+QPYitiLSan5AliRsYkV1fkB0C2tybX9+QDgCrn\\u002fEh35AnCuX3dmQfkC53XNXIZp+QJQqKJGko35ANUT3i+utfkDMjWhO6D19QHwA2WbwR31AGlmQ9zBRfUAkyuAXZR9+QHSv5svgG35Aq7GGG5sXfkA2wqoX7RJ+QIXd86ilDn5Aftkho+AKfkARz39+wQZ+QBbLzrcVAn5AV13fbTP+fUDPscX8gvp9QNqT8pyC9n1AUh3H\\u002f9HyfUD0wLdate59QACBMpqT6n1AXIg7Ip8NfkA8fPNYlxd+QEiwAOo1IX5Av84tx8MqfkBJamxhmzR+QFquxRhjPn5AqWIBMABIfkBH0v2k81F+QIqUQoV4W35AiMNn2yJlfkBVXkQGKm9+QH8\\u002fK6+IeX5A3Lb5oocPfkCSND0RJwx+QMTd0shgB35AGJX9XrQCfkBn0w6uZP59QFqmotSV+n1Axt4zRUr2fUCek3nR5\\u002fF9QDq4CFxD7n1ABTBEi0jqfUAK9NlNoeZ9QFxjTGXE4n1Ao\\u002fXt\\u002fnTefUBeh1HEJN5+QLlJ3qvG6H5Atrrba0HzfkAEtguqi\\u002fx+QH9+pzbbBX9AUQuz3nkAfkCGaLWufgp+QJKdfn8UFH5AI6m0zrcdfkDa6vT0QCd+QOLIevABMX5AOGyKdaY6fkByFW+YjkR+QJdi6TClTn5AW0X5V61YfkDuNNpRfmJ+QCVW2QN5bH5AGCJ+hc4UfkAqDAlFjxF+QCVd7YkzDX5A7oVbqloIfkAs9z23EwR+QLoLQ4osAH5AJiOhhhv8fUDkNZU4ivd9QC4FJ+3O831A9DGlsAPwfUBodD9eIOx9QNZOgDlu6H1AZJV2aDLkfUD0Pe6vF+B9QAU7hRI46n1ATODLT1X0fUDqn0eaFP59QCjz3\\u002f+NB35AI8FXTzYRfkC+nS4h\\u002fRp+QOE5C\\u002fkhJX5AVV1oRi4vfkAQKDaAOTl+QGXD7uwoQ35A7x5wagJNfkCiQTXC5VZ+QKatqiD\\u002fCn5AGqOuopQHfkBIs5mLcAJ+QLGT4skI\\u002fn1AfrSen835fUD\\u002fC5719fV9QBgm\\u002fDaD8X1ARjXFmGDtfUBZuKAuvel9QMhFx4K55X1AulzNuVnifUA1+iNNV959QLw0c7rr2X1AKv3elpPEfUBWR9BItc59QG9yQLfN2H1A+l7klfPhfUAfPJd\\u002f\\u002f+t9QEBeO2J39X1AbSzYvY7\\u002ffUCNXsmYMQp+QMDZU5vjE35AA3daHLQdfkCo00YEgid+QO120rcSMn5AGOf62h48fkB38r8T1fN9QO+TIOd5731A\\u002flbUonbqfUDakjTQeuZ9QCuBgD404n1AfZXtP7rdfUCLCcRjmNl9QNMmJ3IH1n1A+5jHQ4TSfUARVUQNw859QDFAbEsLy31AzXI5JtfGfUB6h+tfHvV+QDxEMxfQ\\u002f35Aa3gnRVEKf0DykQVh\\u002fKd9QCqq5riisX1AKp8p2fC7fUD8CJ3pQsV9QAFJ2ES2zn1AJPiL36HYfUCGClPVDeN9QA7WLjEz7X1A70pLRDj3fUCvwMGu+AF+QF8cuM1ODH5APCus62YVfkB\\u002f9nZgG+J9QD06EZu03n1AMlpcX9\\u002fZfUA419OzLNV9QHtgNQRZ0X1AY5rAZFfNfUDzFGU9t8h9QFqxHPSaxH1ARGRRaSXBfUDRSaCxor19QNCoGtobuX1Apm9\\u002f9fK1fUA2TXBrVqJ9QB3jfn9VrH1Abxvo9me2fUC\\u002ftXZqwb99QKdImzs\\u002fyX1AEB8C\\u002f3vTfUAeJTiYzt19QGEoNQfk531AZw+cksXxfUCuSxtnt\\u002fx9QLtzt3vpBn5AEOCwZBEYfkDzId9OqxR+QNa4OJ8hEH5AxdhVnYcLfkBKy58qSQd+QEF9vwypA35AKiazwEz\\u002ffUCoR6KC6vp9QNF9Vp9l931AtHSMWWzzfUBhzDie0O99QOC9Dnj6631A5KpmHcnnfUAUJZ0g9sF9QJ1A9309zH1AF3m9YovVfUDBTIIXWN99QKmG\\u002f0jq6H1A+bRCtOnyfUBVYzAij\\u002f19QIPSik4jB35AY\\u002fNMWikRfkDqrYCy7xp+QHE39h6tJX5AG9FxWa0vfkDib\\u002fQHNE9+QHNykR7hSn5AF7XfK6lGfkDYwaPBrUJ+QLraW1B2Pn5AOeTVRRQ6fkBE0WDh5jV+QGZ2Y3AzMn5AV7120XQufkBT04YynCp+QGLcn8vxJn5A3ap6B0YjfkC6uLJ4jh9+QOgs75XpG35Af4qMqxTdfUA3UR2SSOd9QFRof5nv8H1Afsw0zNf6fUAX+\\u002fEgdgR+QJwKbFAhDn5A5KpPs0sYfkCP9s+leiJ+QOlQmC1nLH5Ay8eebVw2fkCAFSNyREB+QBSHGXWFSn5An7DgeH5+fkCPBei2nnl+QK48Dpf9dH5ABSVRP2pxfkDVSn+7NG5+QFUyDr+Zan5A2wZypctmfkC9AMtER2N+QDcH6QIvX35AuR5aay5bfkAX\\u002fUxy+1d+QA2wK4V9VH5Axht803lQfkCdPzN7U\\u002fd9QOMYd+ltAX5ApxpZFDULfkAJ\\u002fl5G2BR+QM5TNmdLHn5AUmvtwtwnfkCcSyGj3DF+QHP8f2baO35ArTXvPhdGfkAulyCJSlB+QHlr5XceWn5AIxVnHQVkfkD7228jOW5+QKWjyXe3q35APUrLL9KmfkAeeo5f7qJ+QPBaVR18n35ADyFRNQycfkBaD9tMPZl+QJ9NtCHNlX5APDtSFc+RfkCBqYjT5o1+QMvtOYXmiX5AVSMwDvqFfkBtKYXwToJ+QL6Q2sQAS31A6Uixb+NHfUA+HFAeQUN9QJdcHDHFPn1ACrUH650SfkBEoJ2Wjhx+QMibFsA6Jn5AbyTYYtMvfkAzy5mF0Dl+QPEEMX3EQ35AR+8LOXRNfkA99tbNk1d+QI7VyA8oYX5AW8bjdnxqfkCIdm8ye3R+QLOaRLBFf35AFF\\u002fUzaPXfkC8Kwr1g9N+QJpHN5h4z35AAEWc4gXLfkC4mbSvFcd+QC2\\u002fIlbPw35AgeFYPrbAfkByEjbddr1+QDJMepUCuX5ATpm0GA21fkDv88a\\u002fWYN9QHx4G8Rhf31ALCZdeIZ7fUAJDG22Rnd9QJyaNoHOcn1AHsrIL3BufUBjTUjv82p9QJJDdQxyZ31AVhRlb3cvfkCBzTWXZjl+QKmYN4KmQn5AKytt8AlMfkB8tId4clZ+QAztgsOEYH5AwlpeFf5pfkAhYgasuHN+QJooMaM6fX5A9gSVtSaGfkCHJasE2Y9+QMTXDtXUmn5A2J21RNT8fkDlnXcUyvh+QOGM8WgS9X5AzhnNuafxfkCu2uHqK+5+QBIORQRT6X5AcjraOMTkfkBlQNWfSZR9QEBPUM2akH1ALa0PhU5MfkDmp27bYlZ+QP5OrxXWX35AZpQa9l5pfkAc9e8hlHN+QFVkNJZpfn5AwxgtfXmHfkD4shuCKZB+QAwIllSXmX5AUAk3Y\\u002f6ifkBOv56bEa1+QNiT7MPSt35AJ1vUqpA7fUC5qKEZwEZ9QJRWV8xnUH1ADwYgO6BZfUCzWxzrAgx\\u002fQCxfcWuJ3n1AfsGJj0bbfUA8w1gIXdZ9QLktkqbk0X1AU5pYcE\\u002fOfUBT5r8Xbcp9QK0z5Z7uxX1AxQTinv\\u002fBfUCvq+CssL59QJBKM3VKu31AWzqHfdW2fUAvr1NW0rN9QEZa78EeW35AP08FA0hlfkDR6Bq0cm5+QKXZ0thReH5AqD3GvZmCfkAi21cUII1+QFBmLdQUln5AWV9cINiefkBSDShcZ6h+QDdhBh09sn5AbGkEXou8fkBBxut8gkd9QBZz77APU31AwCu9OltdfUBqmmnK6WV9QGpO1uQ4cH1AhWFJCaPxfUBSzcgENu19QBjz+4aO6H1A8dLYkbLkfUBtT8OeluB9QKLi+1gt3H1Ax7qHtFPYfUDYmhbRAtV9QJg3Cl6R0X1Am\\u002fG+bAvOfUD+gdeNXMp9QAyAwQtdxn1AVWovNv9afkCYk1YmEmV+QP4wOC0\\u002fbn5AeUUQJ0l4fkDEv9N0p4J+QLkaO8TwjH5AQCzHfMyVfkCq8D8PuJ5+QO9yj1FTqH5Ac8wkokWyfkBPITCLtLx+QGPROYiRAX5AZjAwuhD+fUA45xiT0\\u002fh9QI8lpeHh9H1AqiW2kuHwfUCKOcSD7Ox9QER2JxTM6H1A1vOFbwTlfUAAWnJcnuF9QASjvGnK3X1AwmtkeMDafUCZfKLczNZ9QKhFtS630n1A\"},\"z\":{\"dtype\":\"f8\",\"bdata\":\"fjemYYcVk0ANOsYeexGTQFaAcSM2DZNAMycKz40Ik0DhwLG4cASTQKNn5Z7O\\u002f5JAvdUDIHn7kkDHISzbj\\u002feSQFdPT+Jb85JArsx1MPnukkCG0okom+qSQEpbJ8995pJAHC1bYo7ikkBZf7LnPt6SQKccFDaL3pJASLDAZr3ikkAQgI4EpuaSQIe6Qo3n6pJASKUNnDLvkkDTG31AevOSQCRqFDyX95JA77wU7pv7kkCcBcTp8v+SQOKJIvl3BJNA7VemqqgIk0CPHmWXQg2TQLG8PlWDEZNA8dWgzZMVk0D4fMYXpxGTQMEr1FuFDZNAPUnKSHgJk0ClZ6Y25ASTQFX17OExAJNAHiSOsJv7kkCaOoU6JPeSQHt1e9Lq8pJAqog9XmQNk0AhmpSPRQmTQPwGHGrzBJNAsEQyXoAAk0DKvjduaPySQAoVG4w6+JJAyr9d4OjzkkAbgOa5oe+SQJAOCr5m65JAyyHvoZjnkkBCquJd5uOSQMn\\u002fSviq\\u002fpJAJVPUkF0Dk0COZEKzwgeTQHbj4E5qC5NA7Q5Pv5QPk0AVrODZKBiTQClVYaH6E5NAaFU2ecwPk0AVMDINbguTQE2FJKb5BpNAM7a2x6kCk0BzG3IUMv6SQFndfFL3+ZJA3NRtyBr2kkCDzWwYyvGSQI59JmeZ7ZJAt3vTBk\\u002fpkkCY0cPqLOWSQFEcI\\u002fRO4ZJADhrem+zckkD5UElwQeWSQJrwyhrA6ZJAVvs2K47ukkAy0u\\u002f2j\\u002fOSQOegXxTW+JJAMdgZVxn+kkAz5bL8AwOTQK5pSY68B5NAwCn7gbAMk0CHG1yjaxGTQBxO9Y1ZFpNA+qf7hMntkkBuLDBFZPOSQCbJwWK595JAJeoiXk\\u002f7kkAy5\\u002fFp4f+SQP8zxlDWF5NAqABkrg4Tk0AQsmtyqA2TQM9Kkh95CJNArjteW\\u002fgDk0CCnuXYQP+SQFw\\u002f8uTN+ZJAssYBGaX0kkCHMffZeu+SQHQoT1wi6pJAyWapBXjlkkA4QprAfeGSQDBHecblEJNAUpYn87YLk0BAeKmURQeTQJHZAccpApNAZV+yLxb9kkB\\u002fn0GjYfiSQA0d0acB9JJAtSBXKlzvkkClRIbZjuqSQKBERA1d5pJAUQCAX+zhkkCFadcM2\\u002fWSQPxyMDhS8ZJA2tMqORTpkkA7Gs4Lg+2SQEzNLxgP85JA8oM+94P3kkB5fs4hOfuSQCi4o8zW\\u002f5JANxdlijkNk0ByMxJ0CgmTQOAEylsiBJNAE8T1ms7+kkCPnZkV3vmSQMZKLpYxEZNA+3nooAUMk0DpyM6wnAeTQIrcV5VtApNAYOav+Fz9kkCWAHe4xPiSQKbE1edP9JJAe5cLXI\\u002fvkkAXYAWQtuqSQJu4UOiR5pJAWg7qyATikkC9sN0dAxmTQGUrmb0NFJNAmvKMRxgPk0ClWC8+NQqTQGlfWpVHBZNAS9EPrVwAk0A6plA\\u002f+\\u002fqSQEw7OqF69ZJA0kNrynHwkkCKbOI\\u002faOuSQFeuQfar5pJA07KLbasWk0CyZc7N5xGTQOD+WQzmDJNAYOBer+QHk0AoLXCs0AKTQIZeYeLX\\u002fZJAAX2eSub4kkDyHgzCIPSSQP9Lk1CF75JANdplzd3qkkAusKRABOaSQKvOxfI04ZJAUVswpIvckkCS8vjaf+2SQPLtH9xI8pJAb5AN2+T2kkCIHYr00\\u002fuSQAh07ZxDAZNALj4StLkGk0DFN+7hrguTQB7geHdxEJNATfi9CooVk0CZw0OvZeeSQPefHSTl65JAQp3wJWvwkkDqUuHUGPWSQHpKM+m6+ZJAvlbAPx3+kkDBBEXDCgOTQLsOYnsBCJNAaYDMG8LhkkBZ3Ykqz+WSQPMPsbGY6pJAUxUFuf\\u002fvkkA\\u002fzGlBTfWSQBqioH8R+pJAIORyXl3\\u002fkkBTT1VHNwSTQAwakPu5CJNAPVz5OfQNk0D2rnVWXBOTQDpmF+AfGJNAarRlNBgak0B\\u002fkag6MxWTQC8ialk+EJNALXftTkULk0Cl9cgWWgaTQGygsdmiAZNA2y2OgIH8kkB+XzS82faSQED3FxKH8ZJArP9eUGPskkBHwCtriueSQO\\u002fZ4e0k45JATWBwwyr\\u002fkkCDfy3tqPqSQC2RNA7j9pJA+7yh7lLykkB7hfWmz+ySQKm\\u002f7S6G35JAMeGQZzHkkkDDoL6dfeiSQF2WB6xs7ZJAnsMdnkPykkDNx+3xDfeSQH6kEjZx+5JAxqlpSFMAk0Cpz\\u002fLxXAWTQPWmEDkoCpNAASmGzSwPk0BjyeM00BOTQPAS2bjNFJNA\\u002fv4VKy0Qk0BxGe\\u002f+OwuTQPfC7H1HBpNAW\\u002fi0NVkBk0DdEbYnVfySQAlrF+bM95JAQ6yXtiHzkkDv\\u002fP+pRe6SQKPiLQBY6ZJAAvHnq+PkkkDQtdY3TuCSQK4TY7WJ7pJAGlOxzz7zkkACMo0u9veSQLCxoqP1\\u002fJJACBxkjV8Ck0DKPbW+3geTQKO61q6zDJNADsKh8WwRk0BlkkjsixaTQPhGuG\\u002fU4pJA5obD8JznkkDQay\\u002f1AuySQFFEyRuK8JJAhGqFPDj1kkASvXrtC\\u002fqSQBhOey9y\\u002fpJAo2dHXVQDk0Bh8TWoTgiTQIx1BYyh85JAS1PlXRIZk0Bl19voYBSTQNY0R2YKD5NAYSgcvrcJk0AoyqzpBwWTQPPeCsYqAJNAZvPFMwD7kkC9NpHLRfaSQHxZPAYS8ZJAy+yLQ6brkkBaYgBGvOaSQF7IO2mR4pJAkW3AeZXekkBdWi8XKeOSQBIscRvi55JAjTZI\\u002fLfskkB+0BnpYvGSQAbqlgUp9pJAI7\\u002ftvsL6kkDFT0l0bf+SQDAx5HKABJNA\\u002fYsHPLsJk0AZc5V+oA6TQJw1rrp+E5NARmJ5\\u002fTEYk0CGOp0nPhOTQM0iAfWRDpNADd6Yi20Jk0AqD8ifnASTQH6g5vGT\\u002f5JAYgphMMT6kkBATr1qcPaSQCcnNZth8ZJA6WZsM6zskkDY1ekj9ueSQIAJDNKr45JA5uWeRcjekkDacZ\\u002fInt6SQIgKXci+45JABwZaStHnkkDi\\u002fYq\\u002fXeySQEMTTqgi8ZJA0\\u002fYWNNP1kkBrjQYrIfqSQAYPizYJ\\u002f5JA5I+1wSgEk0AU6VXPGQmTQAJSqkKSDZNALSLbBsYSk0AYJDToFRaTQB7bbqfnEJNA5fzkXigMk0DHYuaWMgeTQK2JYMW8AZNA8R9kdUH8kkBX65AgQ\\u002feSQKLKNg+e8pJA8YMJ8NbtkkADK9nkBgqTQBuiEZRLBZNASAiBkE8Ak0C1OXTv3vuSQKnIqKEq95JANs4QrEPykkDwQ23Jtu2SQJXvHWov6ZJA+cv5st\\u002fkkkCY6SHzROiSQHvwpC8D7ZJA3dnMeeXxkkC2Gz5FcPaSQGp\\u002fkbaY+5JA4pm\\u002fTBgBk0AORcd\\u002fgQaTQMWnCEJcC5NAopOILxYQk0AtJqE0MBWTQPuPsJME6ZJAKYwMd8btkkApNobcpPKSQP\\u002fDMAkd95JAFm9L8E\\u002f7kkDSDqeo3P+SQFKWpmP5BJNAy45l\\u002fW7fkkB4gcF1yuOSQKMyhPBF6JJAphxynzXtkkBfuV9cd\\u002fKSQClD6G9u95JAFu5Y4UT8kkB8BpcmPQGTQHlcZtn\\u002fBZNATBtjSPIKk0BKbz5APBCTQPfKTRl5FZNAOhbS6Skak0DYeTvsywqTQHECHHiQBpNA7FtkZQMSk0AgMOsJKw2TQI8OHspQCJNAMzh4gl0Dk0B2f63NJ\\u002f6SQFdg\\u002fKZF+ZJAjNX2rdH0kkCIdFVMMvCSQFCwSux365JA00S6sRDnkkDfKz0k0OKSQBbP3IyN3ZJA4vN+\\u002fkbhkkA30S6L8eWSQKRtMypB6pJAa7bnLuPukkB8F94lrvOSQNw7b0pi+JJAqkQ4p\\u002fn8kkAlp7JP5gGTQEQFPvjDBpNACmsCH+oLk0B7JDzjwhCTQHoeSmZjFZNAnidT4SIXk0B14oPJNRKTQNkv9FcRDZNAkIx1oRAIk0CXqpSsdAOTQOzsjaqt\\u002fpJAVT+5lvH4kkCktt6vfPOSQDq9xEA47pJAqnPOSj7pkkBUDkj1ouSSQL9f7uNN\\u002f5JA\\u002fehVLr76kkC9YzavFveSQNr5HyVs8pJAVYtPJOzskkAq\\u002fAMJMPKSQFV4gDTl9pJAYsP8xtL7kkCp8kHHAwGTQE3bgRukBpNAF3bBPYQLk0CuHvAhLhCTQHPUzhsQFZNAp\\u002fyMVNTjkkASkzKXH+iSQK61pV+S7JJABZwTByLxkkAAwHHyCvaSQOszY6QU+5JA00SX30v\\u002fkkC\\u002ff+QlPQSTQKjaf\\u002fYfCZNAmAKLkl0Vk0CnNGs8nhCTQIPoQCy5C5NAXQdb7ZoGk0BpY2AnrAGTQPhK7++5\\u002fJJAFu4qgwT4kkCeEU+Uc\\u002fOSQJt6xcih7pJAjSi3MNXpkkD2Y3C4I+WSQEhtfkqh4JJAeTAe8HwVk0CpgSYtXRCTQOA7NKSWC5NAU1FPu5EGk0CoCoCUEAGTQKa+z\\u002fad+5JA10z5lqv2kkA+PcC5C\\u002fKSQJBPDyY17ZJA+qxrkX3ekkCvTiXOFOOSQEFjosvk55JAXqz6crzskkAsvPPcXPGSQCzNTYMf9pJA5nxG0cP6kkAe4TP3f\\u002f+SQNXGkMmnBJNAkF32nc8Jk0CiEFR1xg6TQFjemIClE5NAUUQ4NlwYk0A23jxusBqTQBlC87XYFZNA9UKBVcwQk0DFGU2ecQuTQNHJdrWJBpNA+TZuvfMBk0A8NRfs0\\u002fySQP4JIoli95JAnbLlJkPykkB2PZqD5eySQAm3A03N55JAEaP75oHjkkCEUBun2d+SQJzTD2L45JJA3g8cvujokkDE3sWJau2SQC6JKZFX8pJArOh5mQz3kkC+zZF6jPuSQEsRDxRKAJNAJwBFOlcFk0AIe4V2MQqTQKT9+F7XDpNAVyb3G+wKk0B3pmwOrwaTQHQsoJvZAZNAo7JpkC8Rk0C7umzdKQyTQBPS7dtsB5NArgvpLGICk0CbSuHYNf2SQAeGYsxl+JJA2JY9VfDzkkBx3c5STu+SQKrfQdaK6pJA1KMFfVXmkkBunoC71eGSQBDPmiXK4ZJAtRqyUdrlkkDFcTTVl+qSQEb6kT3t75JAH0xhChD1kkATv6tMl\\u002fqSQL27grZrAJNAhLRPE7AEk0DF71skZwmTQOENpDd5DpNA+UGRArsTk0A36GnWjhiTQBc0CAaU75JAdafokpz0kkDnAIW4FvmSQBqwKyxWF5NAxMA9LIISk0AeQg9BEg2TQBEztKMICJNAFGOKUn4Dk0BEvflzwf6SQH\\u002fNvHgD+ZJAGxp9\\u002fbbzkkCFf0gjhO6SQKxH0A5I6ZJA5xVfXrjkkkD7P9bywuCSQNWL7uQi\\u002fJJAjtz8JAD4kkDeJYqcK\\u002fOSQGyT0o4M7pJAX8rTkhvdkkB6ScdJZeKSQEelOzHR5pJAjSHCiR3rkkAXQhm\\u002fy++SQKuJW\\u002fVj9JJA27Z9g\\u002fz4kkCuu6jFw\\u002f2SQFGyz5TvApNAk3s9WtUHk0BdO59G9gyTQNyvx5eEEZNAWvOQH\\u002fsLk0D\\u002fro5b4QeTQAKuZf6\\u002fApNA0uScrXH9kkA1R5ESkBCTQJtk03Z7C5NAhBA0mPoGk0AIDtddxAGTQKv6eGCw\\u002fJJA6Ibsqg\\u002f4kkBhD9wHm\\u002fOSQD3wE9zp7pJA6puBvgHqkkBEiBXT8+WSQEmZ4VVV4ZJA2z1mqvLnkkA2OAbfr+ySQGds6cmb8ZJAuohQbS72kkDsnPTQfPuSQPWmvIEDAZNA3VzvhVcGk0B+Ld03OwuTQKHHsjDtD5NAl1oaNfwUk0DrblOex+eSQD3nPtZ97JJAHNL8b4fxkkComQTUEfaSQMpllQMk+pJA3x\\u002f4\\u002fZf+kkAsuNkfnAOTQP3Ggl3vGZNAnltWEf4Uk0AiLdTJEBCTQKcN3yXLCpNAifz6xvYFk0CnNogzkgGTQApsuY4n\\u002fJJAem4tvWb2kkB+GLPVL\\u002fGSQMLMqdjc65JAwXvwmPzmkkCg4MIOvOKSQL04j+ma\\u002fpJAnMV6agr6kkABV62hBfaSQIAXUu2P8JJApHFPKkvrkkA9CS92296SQIMjgVBo45JAZJd9UiHokkAE3E7y9uySQDwxAZOl8ZJAkVEBWWP2kkCoR8cGBPuSQKM2DKWz\\u002f5JA0QyRFMcEk0Cp\\u002fjqHAQqTQOfN2SbrDpNAap+56MMTk0BPSQ3fexiTQPFHExrvDJNAd4UCKMUIk0DofayVtwOTQGODkdJa\\u002fpJAswpaREUQk0AcRCutRAuTQLDQPma0BpNAbYYp2YIBk0AfO0HJbvySQBlSE5Dg95JARfpYWWTzkkBdD7MSp+6SQGLZpAPM6ZJA5mSOb8PlkkCcWTDkCeGSQD9HFCR77ZJAzT6EXkbykkC98UOK7vaSQFq0y3Tg+5JAsPd9HEABk0DXGTzzpQaTQFTl163LC5NA1vfouXIQk0AgKztbiRWTQNtP0+Gd45JAI0LDtELokkA9U8WmteySQLCiBXE+8ZJAyj+vL\\u002fL1kkDquxfVqvqSQJj3A8UQ\\u002f5JAluSFtQ0Ek0A6jS0n7wiTQMZF5G2vF5NAqtH8a5QSk0C+ZOr6Lw2TQEqW8RYFCJNAjBGAWUoDk0B8suMVav6SQExsntFh+ZJAs8QclJP0kkCRA0\\u002flYe+SQKYsTPk16pJAqHcNR47lkkBKhtwuK+GSQEpTFJYk3pJApi4U4M3ikkC\\u002fqDCSqeeSQEhmIXN\\u002f7JJA41DCHAfxkkDPrs8bs\\u002fWSQPQFK1yA+pJARgIhUnv\\u002fkkDByJfueQSTQEMMZGSGCZNAmi4zsoUOk0CcWAA+cROTQGlZSe01GJNAYQIPoF4Lk0Dz8xZv0gaTQPbMBhXOAZNA5XiItS79kkBKEQRhjviSQAVWq+F+85JAcO0cBbHukkB0MUPrMOqSQMKH72kI5pJAQIwDESThkkC\\u002fanivte2SQNKOxoJ88pJAcS8HWB\\u002f3kkAK8FiPFvySQDthodmFAZNAUFc+8fcGk0CEssia+AuTQOTFCTiwEJNA9wIDaNQVk0BUtxxK6d2SQPnX9fd74pJAHW4U9xLnkkD6Sj0L2uuSQKqSHMt\\u002f8JJA9Zp9r0D1kkAjrdgix\\u002fmSQGdBVqlV\\u002fpJAPbOuBWUDk0B47fefhAiTQGBrXnhxDZNATSZuV1ISk0AVq65P7RaTQNe49oWS\\u002fpJAWlVTUC36kkDtnmD6UvaSQIWl3wtg8ZJA8xSVDjLskkCGX2su3O2SQJ2GcMB\\u002f85JAqYR5yOX3kkDyFIVCovuSQNmxQwhNAJNAZ1SSzlsVk0Bx1eHrYBCTQFs8Nt+qC5NADlQU1rEGk0D0sWbPBwGTQORNuKzJ+5JAGF3XKdj2kkBcwekmJfKSQA1PnPpp7ZJAvLoCp90Lk0Dku22oUQeTQLx3+YVQApNAV9fsPpb9kkAI5grx\\u002f\\u002fiSQCoO65z\\u002f85JAaCaspizvkkCd4o6+lOqSQPL9hZVu5pJA\\u002fVm8kbDhkkDFqKW1BgKTQJ8zPoTwBpNAFmaBMSALk0BMhCrXkd+SQHhhB1Kp5JJAOAjZgJPokkBDThDwMu2SQHNCTkEF8pJAu+mLWKb2kkA1zst\\u002fD\\u002fuSQCE1iof3\\u002f5JA14\\u002fXVhkFk0BKU0IX6QmTQFJh\\u002faqODpNATxoni6UTk0Acke80HRmTQAWFildFFJNAQe9OC9gOk0D\\u002f\\u002fhHlcQmTQFRWzV6jBJNA8kyBDLX\\u002fkkBx0yVGd\\u002fqSQBqMutuq9ZJAKFvTuFjwkkCN3gVF4OqSQH94xjj+5ZJAW9RMU8jhkkC+pesDOOmSQJubzLUL7pJAiFn7187ykkCtJ5lAZPeSQJKjuBOw\\u002fJJAZc6DmiMCk0AqyOBVhQeTQODVe4w3DJNAbEmQwg8Rk0BqKsomOxaTQBqKcI+j55JAzNpcpjjskkBjQRnh\\u002fvCSQPgsbEeb9ZJA9dtNo+75kkCLEGAsVP6SQMpBUiJXA5NAwmLx2Q4Xk0AVDZsWIRKTQAAPw0CkDJNAXiCPIY4Hk0CEmm417wKTQMJuOnv5\\u002fZJA3ycDoJH4kkB7vGDBkfOSQHPOqxEy7pJA895Z8+nokkA5mmsMbOSSQP+jI5504JJA9DL5BJ70kkC4rdAf3u+SQI77p4Cc3pJAWZ6TNQvjkkBVIGzQ++aSQJTa434B65JAiiIt8iTvkkDcicB+ifOSQJIS9TjM95JA0kHXuL\\u002f7kkCNvDtYGQCTQBuOYBaHBJNA2yXkRs0Ik0DldyHDgg2TQHThnlK5EZNAKLT76M4Vk0DwPFk1JBeTQEtD21jgEpNA2Iy8Dm8Ok0CMyx0h7QmTQJgNnpNqBZNAgmUjnfIAk0Dg8ii2ePySQDWIozAA+JJAWtxKIrDzkkDS0yPUke+SQHnVzrB165JAbmo+fhjnkkCoZxlutOKSQB3GzzSB3pJAqIXjGk7hkkBhfeoZluWSQDLdE5gd6ZJApAAgGkTtkkAZpy0Rl\\u002fGSQF92EH3N9ZJAZ9vf+635kkBFPrq65v2SQN6wJVlsApNAnBbutxAHk0AH81JdFwuTQGty6zZ3D5NA+dCPkfATk0DxwkWwsBOTQE0vlcODD5NAcqkQeg0Lk0DcegGeigaTQHkaKrQkApNA+IMCcJr9kkCz\\u002fBAfV\\u002fmSQAxL6J5M9ZJA8mwk4fPwkkBs74KIyeySQLXNZ5eX6JJAfsgwDPXkkkC6emPLkOCSQEKszVBh8pJAAL2HHZr2kkCnAUdRBfuSQFwOunWT\\u002f5JA6NKng1QEk0DJ39YvFQmTQMlQpDcdDZNA4qo5H0IRk0CxSWWi6OGSQLaJexMw5pJAtkOgcPzpkkA+boHBDO6SQCPqfGUk8pJAsJZpDJr2kkAyq3CcG\\u002fuSQEobvuzJ\\u002fpJAXOeStS8Dk0D5uVfNrAeTQF+73E2WC5NAQA7pJEQRk0BKv5XZGQ2TQCeztqIHCZNAAOrpQksEk0Dv4pmEi\\u002f+SQCJO8jT3+pJATaP8i372kkB6DNMhUQ6TQDTrXV8TCpNAE+aSY8wFk0C746sOVAGTQGwnQk4T\\u002fZJAiYzCz\\u002fP4kkC4xx4tnvSSQAf2lq1d8JJA5DqWQvnrkkDyORRiEOiSQE5fZY+K5JJADldR3OXfkkCm5OZjuxeTQJiFzwCQ7JJAVFUcrXbxkkCDysd4qfWSQLOX1EhQ+ZJAU9NKZfn8kkBGP6GYMwGTQOLnE9Q6F5NARkPGsJASk0CdRagNHQ6TQLV+dA8FCpNAGEz9S3IFk0CXXY5ZnACTQOTZLj6e+5JA1BCak9\\u002f2kkBkhpm4xfKSQFaeVhmB7pJA9LO19SDqkkB64\\u002foa6QKTQDPJY6ty\\u002fpJAgvU+JW\\u002f6kkAare9w2PaSQCiJFtfZ8pJA1k4jW1zukkCOA4B3\\u002fOmSQFrX+1y84pJA4ZAWYWbmkkDF3nBIuuqSQGU+m2SP75JA1To4mif0kkAEnPg8zviSQBIRfauz\\u002fZJAhcNUADACk0AkgLV2RQaTQL7BuBGUCpNAs8ZFU0gPk0DLsDtF+BOTQKE9jslIGJNAGrWS4dEYk0BWzG73mRSTQBzAHBTdD5NAPKOK2wgLk0B8JXyPpgaTQGhaaAtuApNAoa+IFPn9kkCoAlsmbPmSQLaBcbcn9ZJAy5xcpnHwkkCJXHvZi+uSQI0XeMIL55JAIB+1b1LjkkBKyWkWrN+SQFSzJkn735JA+W89GTXkkkDzLNKyh+iSQFdGZ+TO7JJAnN4AaQnxkkCHFCBNTvWSQDok5rmf+ZJAMQYy0yX+kkCPRPowiQKTQKixInvbBpNAOIJkZlsLk0BY4mg33A+TQFjCLQZSFJNAbzWIi8AYk0BOHUtncxeTQKOC6ZpGE5NAQC+qchUPk0DX361XlgqTQDiFw\\u002fQxBpNAByycNswBk0BXjgkOPf2SQOiJu4cD+ZJA9bhwQxP1kkDoS9DWrPCSQH95Tnte7JJAfaU09PvnkkAeIcZbA+SSQPgcUH3t35JA+4h5eunekkAlNxMoM+OSQLRK9E4W55JAHS8a2U\\u002frkkA4tnBFlu+SQBs+quAF9JJAaiOrQSX4kkAZNRd2IPySQJioniyMAJNA9uQVDBMFk0Csj6MfSwmTQJE8j1rmDZNA2kD9JiUSk0DSaNo0MxaTQCtHmiyADZNAgZbRoosJk0BPeCH9kgWTQGGEHB4LAZNA9\\u002fYoUpMRk0BysBij3AyTQL6hM2HzCJNATgIaLHAEk0DHk+6D2v+SQKcpZuB6+5JA+GFX0mz3kkC6QWDIW\\u002fOSQNkp7+MZ75JAtVr9fbTqkkAcN+ZM9+aSQF2soxwe45JA+l08j2bekkCKBRnvhd+SQGRykU4U5JJA9OSUXb3nkkDGr94SxOuSQH7AOiXr75JAvPbJDRD0kkAdK5usQviSQMvtbGF\\u002f\\u002fJJA6WFzHvEAk0CyxNcKXAWTQLAt34vACZNAEnY0XFsOk0CscwhcgxKTQFo2bl61FpNAFr7OHhEUk0CIyE1nsw+TQFiVKmCNC5NATkM6DEMHk0DbMeLacAKTQB9U0Smt\\u002fZJA6l0YYCv5kkD0VogEyvSSQBSMEsDx4ZJAy59TjfvlkkAzIjlilumSQFx8tIby7ZJALjZIeBnykkCZSgN0PPaSQEUVNk4A+pJADZrc64T+kkDwH49EHwOTQJUfxTOlB5NANeMQhpoLk0DO0X3DRxCTQBmcZqaIFJNA21bJCXYWk0DoldS3vhGTQJB0XsBrDZNA\\u002fkbnWjYJk0DnZ\\u002fgPfASTQFuWqYhz\\u002f5JAqbQCQ5z6kkCH9zW+P\\u002faSQDuSq3Ij8pJAcPV8ItTtkkC4WQitgemSQGjgCCrOBJNAI6PPmz4Ak0CC1GsNGPySQNFdpJ0y+JJAQcZz8RH0kkAvaHKN2++SQPWsU8K065JAPyfGeZjnkkBcxlGBGQWTQNzCJNgdCZNAYUAQI+MMk0AvFvsMKOGSQNp0j3WK5ZJAobP3zhLpkkBOhCIUEu2SQKtFpD2a8ZJAclgUybz1kkCTLH4F3PmSQGdLipgB\\u002fpJAsPEekWMCk0CTDGMWzQaTQIqdn9wMC5NARdEndFAPk0CBVrzAZhiTQHEQi9rtE5NAad8vjZgPk0DMY3S49wqTQOn1PkqWBpNA5R9BdmkCk0BE7hMr5v2SQBMcMa\\u002fr+JJALYcwaO7zkkBbhUo0S++SQHzMhirP6pJAkmDmP47mkkD7kDLbnuKSQFfC\\u002fCM495JAEu7yRb37kkD77\\u002fLJSwCTQJmR83UCBZNAaP1uZnIJk0By8mHmQw2TQF9WuploEZNAIuW25ZXgkkBzOUPxIOWSQIEa7VqO6JJAPF4Ga4TskkDNJhC49vCSQKblqWIt9ZJA+jMNJn35kkDP2r3ygP2SQIZ0c37fAZNAHLwPJFQGk0BeUyxOgwqTQHBaG0XODpNAwFSGywYZk0CTVjfwtBSTQONgZygXEJNANsqx8F8Lk0DYvZam+AaTQLHvw+z1ApNAKUpOb6b+kkD2W+IIevmSQMDWZRur9JJA3UrIkBfwkkAovkm\\u002fLeuSQBH7AkLF5pJAWv\\u002fkngjjkkAwVREuPPySQJBOWfbQAJNA+cVohnwFk0A5u3EBqQmTQKjtYZFwDZNAtwb8osHhkkA6XpJx\\u002fOWSQHkkybmR6ZJAZhay3KXtkkCvPO1BHfKSQAscn0A99pJAfnwS2Xn6kkDa3YrQkv6SQBz7o3kAA5NAh+Prx2MHk0A94tISgguTQHJAwNnrD5NAPFEjC4UYk0DGZlK9NxSTQJGq5wx1D5NA502o\\u002fKQKk0Dse92QTgaTQGolNKIHApNAPpYo34r9kkCPDFbSCfmSQGC4w5e19JJAJMnLzP3vkkCVkGq4G+uSQDJ3Uxam5pJAgAW2w\\u002fPikkAYrSTMQ9+SQNs\\u002frQlW85JAZGPKg5j3kkCBESTeFPySQEi8A7O1AJNAHJFqpWgFk0AxDwHN7AmTQJFsjrD7DZNAw19PnScSk0BFOMee8+OSQMVJM7fO55JAg+qe+7nrkkCwj8jJtu+SQJfEl0EM9JJA33P+w4z4kkDd5+eOt\\u002fySQOrMvJexAJNAgPaKXiMFk0C6PylTbAmTQCgCm2qJDZNAIBQwTfoVk0CmFeI\\u002fzBGTQLR8bzF7DZNAMPpm5doIk0A5dI7iegSTQMhtIOfy\\u002f5JAifnOFpD7kkACXiANaveSQJD2I9NB85JA\\u002fIeal+zukkBpPIxIoeqSQBiq3BJV5pJAklkTrDzikkDDPn8\\u002fD96SQKLIjM2P5ZJACdpYqbzpkkBzxnqeD+6SQHAcOtJe8pJAwyIjM4X2kkAdcFKMUPuSQKt+iQ1IAJNADevo7f0Ek0AiuathfwmTQNXGLA+cDZNAOl3KU\\u002foRk0DbY79RmhaTQCjrorY88pJAJSE7S4L2kkA+kdOF8vqSQHe4lSCO\\u002f5JAnYkonXYEk0DjMwQLSgmTQGT4JVBaDZNAuaSs4pYRk0BGYKvtWuKSQBv1oT3B5pJAoqJ7CqPqkkAe1OAYuO6SQPAzIW3W8pJAb1PTCl33kkCa36SCv\\u002fuSQGzNxJeU\\u002f5JA2E8qSgsEk0C\\u002fsmEJjgiTQLdsqKFsDJNAjkK2g6ASk0DO5OIRdw6TQEYyUBC9CZNAQY\\u002fKL28Fk0CZ2kkgwwCTQHIJjqIt\\u002fJJA1HFngOT3kkC\\u002fXapiv\\u002fOSQEH6NJyN75JAlOYzHUnrkkCZjeItSueSQGwv6EF645JA8dC5c7\\u002fekkC9+tfUZuaSQCVHXYWd6pJAW0si+xTvkkBywJORbvOSQHcU1XkA+JJAKcPZcvD8kkAevci3zwGTQDA2H3BkBpNAqrxFBPAKk0BV6JWIIg+TQKSOtFqkE5NAreLz6j8Yk0CKqcKW3O2SQFcqntUD85JAJKgoWjP3kkAgYvY2h\\u002fqSQOLTNV6T\\u002fpJA\\u002fSEMbvQUk0CIYePsYhCTQJkbLDgaDJNA3bhe3rEHk0DpZqITlAKTQM4FPqGo\\u002fZJA4pD7yhX5kkA9YepstfSSQKfBGL+P8JJASJdA3i8Jk0BsYesCyQSTQHLH1aNBAJNAkLFG+jv8kkCSJtIdDPiSQKG4zRR785JAGRKI50rvkkBcY3L+KuuSQFR02Dku55JA4ODmiePikkCdjF8A6N+SQIWFIqcX5JJATT194zbokkB5aa9ojOySQLMr6eo88ZJApgjRFMr1kkBNdp4UD\\u002fqSQE3fsYCn\\u002fpJAskaY2g4Dk0A\\u002frooEWgeTQJmU+HzwC5NAUsWzm8YQk0Anl9dkiBWTQH+CoofIGZNAtS2gZCoYk0Cy5jgj2hOTQM9A\\u002fzUUD5NAo2tPm0UKk0CI0YGm8gWTQLag333AAZNASEYpmyb9kkAuQ1B2QfiSQFAkT\\u002f+Z85JAPtlbPNrukkAlVQxCBuqSQLXPVa6\\u002f5ZJASdMhyBXikkBoCZF+efKSQN\\u002f32yrSFZNA3VS86pURk0BLy8QxNg2TQCPRn16NCJNAeH1hMBQEk0Bi1lUufP+SQFckeuoe+5JAV2CH+PD2kkDXQk4GsfKSQDH97nVa7pJAexq6RgXqkkBBdyQirOWSQLxUOH2O4ZJAdCBsU07dkkBR3SD6tgOTQFhEtqDdB5NAHoXH7ZwLk0CcB958OeGSQOtEsjCk5ZJA9tT\\u002f7UXpkkDd0pozX+2SQLRYSgHk8ZJAkNLmDC32kkB4Mri4PvqSQASflL1w\\u002fpJA6nCt4\\u002f0Ck0C3SrO4qAeTQOjV3zu0C5NAwBlZPzwQk0BcqYll3w2TQNXxOkjkCZNAQNwLdtQFk0BPMHmpIAGTQE\\u002fsN93JEJNAr6osECoMk0CF+EAUNAiTQG2EAFWFA5NA4eBPOu3+kkDJ2fy5rvqSQKgX0Tqb9pJALTMRu1vykkBoQnvt7e2SQEcd5hix6ZJAIwTafAXmkkCxB8bvy+GSQNvsI\\u002f4G4ZJA4Iz326DkkkDdw54fr+iSQJLvB8Q\\u002f7ZJAgrQ9MAjykkDp+fTbvPaSQPb0DUXn+5JA6gm1+OYAk0Ahcp3q0QSTQDUvdU0UCZNANBJquaENk0C+L7ZiThKTQK5EW6uzFpNA6M4H687ykkChAB\\u002fT3PaSQD+SrNrSFpNAay3fcpwSk0Ay2w+NHw6TQLTZPsqdCZNAi7XWI\\u002fAEk0Aask3VRwCTQDSx7QbQ+5JA0ThSTYv3kkAC0G1hT\\u002fOSQIS856YV75JA1npjeMbqkkDL4PJ8YuaSQBlHslP84ZJAULhxNbvdkkBsDXQ7K\\u002f2SQCpGhZbhAZNAWBfZFIgGk0DInCNxegqTQKYGXt1yDpNAUCxoh13jkkCWaVDGNeeSQKPwF24I65JABFN2nV\\u002fvkkAu9KjfvPOSQIIT+dXn95JAoRGTmhv8kkARhtM7bQCTQNI2ZIXkBJNATD7CCTsJk0BipzgUaw2TQGqCypk8GJNAIkeEFucTk0Ap9W8GGw+TQCvZ5qdvCpNA5tvpIxUGk0B9243cFQKTQPHgstZz\\u002fZJA7ocuyCj4kkBjwenKVPOSQG+rTDyX7pJAXOXtOOHpkkBot\\u002fzDneWSQEYNgwPt4ZJAZYf1Ffr6kkBcQaWmJfeSQBXGKyS+8pJAtZVqwSnukkAd7ZtSXhWTQNHT7qjfEJNAvK6OTIsMk0D7enmCaQiTQGMc7Fg7A5NAFExHEFX+kkAvEfexx\\u002fmSQIxGfpdf9ZJANg95wybxkkD\\u002fg+LoLguTQJCApGMfB5NAHLonQJECk0DDgdS\\u002fN\\u002f6SQNc0bTZd+pJAxS89YLz1kkBoVXJMRfGSQLXlUocW7ZJAVigfj\\u002fXokkAYhO2ISOWSQP8bexWL5ZJACHsv5MHpkkCRu1MGM+6SQL2XOozT8pJA4MX8PJz3kkDpwgWTfPySQLi\\u002fjiM0AZNArlWxzp8Fk0B9hFUhEgqTQEdUaTB9DpNAO1SpmOcSk0Beeqn+dheTQL9lydOD7pJAkBJgkULzkkBkpXzepveSQHJ3DJQp+5JAljvOMasSk0AxGILxgg6TQIY7myrtCZNA+GVahW8Fk0DlfGjP4ACTQKMFQ4Vc\\u002fJJAqKzDiBX4kkAuyfcc0\\u002fOSQKHN1H6c75JAkX9YYWbrkkAB3YUraOeSQNa1UeNy45JAN1bJSNHekkBPphFIWQqTQJ8WHdkz4JJAKPrLwNXkkkALT5zAXeiSQDdc3zph7JJAzd6LNtzwkkAI35tjIPWSQKRHXiQa+ZJAlATSYUT9kkBIsSD61gGTQCB3uXmHBpNAhrHOGrIKk0DKZDWwCA+TQGovyP2cE5NA7Z6oLu4Vk0C4DDeSQxCTQLc+CyxqCpNAIUxmIvoEk0A\\u002feFpwlP+SQCJHEAOr+ZJAKrUGf\\u002fDzkkBT1wH+IO6SQPntta9e6JJAS6IymzXjkkDiLz0MVuGSQGIEmlYA5ZJAe28WaRnpkkDfl7oD0e2SQFcc77Oi8pJAGHke2i33kkC9DoKxEvySQIsoLPHkAJNAigrG\\u002fg0Fk0BAFzoNQAmTQPGCZRbxDZNAkuBnOdQSk0AGl1UbMBeTQK40LcMlE5NACSVxFckOk0AEvzj0oAqTQPMnLY4RBpNAnJ6YVzUBk0CHw1NlefySQAYCpAjx95JA7BuLv5rzkkA+4DMjn\\u002feSQApVFnMv\\u002fJJAx\\u002fWtrdQAk0Aktqb4lQWTQIGHKosGCpNAglSe9v8Nk0D01IUWKBKTQIgChS7v5JJAD7dlVmzokkCK7JOwaOySQEkmOErY8JJAv4pgSBv1kkAS04ZDiPmSQOJYpqOW\\u002fZJAmrrqNPgBk0Ds7zl\\u002feAaTQEpg5rqxCpNAiwQc+Q4Pk0DOqS2P8hOTQJ8GkEC5D5NAG6yy0jgLk0C6VLE2kwaTQG07fTwoApNAIylSda79kkCuwCDYffmSQFB0MeV79ZJAtIVb+tjwkkB6FdLipOySQHifFIlY6JJAZJw\\u002fyIrkkkC47YzUI+CSQMwHio9a35JAnG3VWILjkkAGvJUWieeSQHC+1VLn65JAOx51\\u002fDPwkkAxs4VulvSSQEp+lxSf+JJArIC3MuL8kkAQUWXcVgGTQGny0ArNBZNAKk5XomEKk0B4wqWA4A6TQL4NxWI8E5NA\\u002fELYQ38Xk0ARE+a9gBeTQNU5d0cJE5NAtEZzWYwOk0AwCl8k9gmTQGycmxJyBZNAAEJjQhABk0B+plkMjfySQLj2o0sP+JJAoDi1MbTzkkDzYxIKVe+SQEpgS\\u002fjs6pJA5oeg25LmkkA+2H+WOuKSQKj7DnQK3pJA48BuyyThkkADfBV8weSSQPNtQyPN6JJAyENnsnftkkAW9rcbSPKSQD78GAvd9pJAfp366MP7kkC8EDwmpACTQBPbm0fGBJNAk8zFnesIk0BXKqG6jg2TQH9lbDd6EpNAftCdkdYWk0COxdraPhuTQNiFv6+0GJNAuVyIb1MUk0AgROPEng+TQB7bKlHoCpNAfcWcCokGk0BuxPE7fwKTQOr6d50J\\u002fpJAViD6Vbv4kkBzzsVKzvOSQDblLL8R75JAci0bB3TqkkCgiQmhJOaSQJOJtRFb4pJACkB4A0j7kkCCfKtGpfeSQNVjYsY885JAiBV+6ZLukkDxXGAvMO6SQFrDNOB38pJAtraoIbH2kkC7UVsZIfuSQHGPuSfN\\u002f5JAGZYgI70Ek0BJpbQ+wAmTQMargbrHDZNA9u2D7B4Sk0CEqmOWfOWSQMyE9PNt6ZJANibU7pHtkkAsxolztvGSQOu9jSDo9ZJAc2sy6hH6kkDeDeu5Cf6SQBUrHtdyApNAMktDUe4Gk0BmHeSSehaTQJxsQljUEZNA0WasEXgNk0BBKnTdYQmTQNxJrJM4BJNAuWHcIUz\\u002fkkDahXPMoPqSQN9dzh8y9pJAIRaaNfrxkkBIFL4ps+2SQEyT6YpU3ZJAiKq8liDikkAu7KrUIuaSQCNXUN\\u002fh6ZJAHxvv2TbukkC8SJfMYvKSQMJcmQWE9pJAo+ZGCXP6kkBugm4e\\u002fv6SQPVzDFezA5NAPHeDkSwIk0BrmXmsZwyTQJHSJj\\u002f4EJNAZKrwrDMVk0D6ykF3bhCTQD1L8qFFDJNAbN8A\\u002fRYIk0DOALzeUwOTQO3rp5SH\\u002fpJA+yLjnfr5kkDM+micMw6TQEb\\u002fuv7mCZNASO7bgpoFk0DeOz73GAGTQAE6ZLO5\\u002fJJAk12C9X\\u002f4kkAM9fzyUfSSQGlfbBX\\u002f75JAaJgm2I\\u002frkkC1kgGxqueSQHOq9evs45JAunLc\\u002fD3fkkCxR4WxjN2SQG72mvRY4pJA\\u002fwB\\u002fPlTmkkCB7ixEEOqSQIozDBFu7pJABowCd5zykkB9HgTft\\u002faSQCTnKx+i+pJAY7BS+TD\\u002fkkDqEnEM3wOTQDfFVp1ZCJNAPlC5cnUMk0D\\u002fBecKHhGTQNAJ\\u002ftyxFZNAJT6P\\u002fgkRk0DkFWTqugyTQLnWPPByCJNARO3RL1kDk0BB3qqgVv6SQGl17NC5+ZJARs64qFX1kkC17ELaJvGSQIEfOUzQ7JJA7Is3FyUKk0CwPBJCzwWTQABZtqRGAZNA0vCICRT9kkBBKGwM+\\u002fiSQDFru7J49JJA30tBsDfwkkB8pBevGOySQBbyqWQI6JJALTTt7PbjkkC00Jwgof2SQJCSXuVkApNAv8FEeOMGk0CEPiM7rQqTQKI5YbLQDpNAUPv9cafgkkBDrPwCN+WSQGyIYIG96JJAHSbC7sHskkD2uQlAWvGSQBIaGcGM9ZJAmqoSmbv5kkA6gR827P2SQNab5rxbApNA0JRAg9sGk0ACBqAqIAuTQPu9uFJ2D5NAyEaEsLAXk0DdOGcHTROTQDZOXJNmDpNAD7fYkboJk0Bdlp6FaAWTQNZmVHFyAZNAVyBKZoP8kkA2dQ6tSfeSQBnMXXF+8pJA5ncgVqjtkkCIncmE8OiSQIKQb8fP5JJAyNeVsHP5kkCOy0nkXPWSQJdtu7cQ8ZJA0+hQJvztkkBzMzLlOPKSQBi0L4p79pJATF7E+u76kkDTdNrikP+SQKShRCCLBJNA4PYXXW0Jk0ASaeJcfg2TQCQ26CzCEZNAxurSj3PlkkD0ORquY+mSQN3tdkJz7ZJA+9mrNonxkkAz37yc2vWSQP\\u002fopUFD+pJAUwgstzb+kkD59OBTkAKTQPok6XcWB5NAcNhNAygLk0Byx9ja4w+TQMuh0Il0FJNAgQxCMRgZk0AULuHeIeySQG9jcOnP8JJAcKUFXGH1kkCUiZCkEPmSQK8opC61\\u002fJJA5s3aqP0Ak0Bl1C4X4xOTQKBO3eigD5NAcfL80xILk0BWKCXAcwaTQF98xAcFApNAMXd3GHH9kkBSFxsLP\\u002fmSQD44bOct9ZJAoOceVZLwkkDCoDjCQeySQNESFQDX55JArK83d\\u002fLjkkDz7vipjt+SQMP\\u002faOZ54ZJAT+nykiblkkBfeXUPTemSQJdPoIEU7pJAseOJm\\u002fnykkBlrNula\\u002feSQHQXwIkk\\u002fJJAySKWI+YAk0AH6GTzLgWTQBnDstlpCZNAn0WnMy4Ok0AfdKaREBOTQAeQcHdwF5NA6PzciGEQk0BmRNwTLQyTQHcQMR3pB5NAXYW0aBgDk0CI4iZhRf6SQEK84Sqr+ZJAnbiTKh71kkBJDTIJMQ2TQCHrgLT5CJNAx\\u002fYUQYoEk0CSR9Tx+\\u002f+SQHIdyOus+5JA6zHxzWP3kkCv7Je7LfOSQF0j4wC07pJAdDG9vGbqkkAuFfCeneaSQPX7+K2A4pJAjL5H4y4Xk0DggPDAhRKTQFvtXlYODpNAt7aYzpkJk0BiZ65REQWTQP3eA+NmAJNA4x72YVb7kkCI5eYfavaSQMLiwvD28ZJAeKdx34jtkkAClifxIumSQJ2G+sbh5JJArrwQPuT+kkBtiIzbv\\u002fqSQL6luRlM95JAlj+SuzfzkkD5XQbZZe6SQGIKFh736ZJA+imp4a3ekkDt1gPqEeOSQLKpRp4K55JAZIwRalDrkkA4aRGSn++SQPUEYPck9JJApBwMnVD4kkAvvUIKY\\u002fySQFYvdJDqAJNAaHt+nXcFk0CRUG8T0wmTQAwTQ9d1DpNAt0OvfL4Sk0A7OGVl9BaTQJYdTJzt8ZJANsv1I3HgkkByDU53kOSSQML88fCc6JJAXn87qBLtkkAh3d+XZvGSQNvWAlra9ZJAsK21BdP5kkCn3ZewKv6SQBXsbKDAApNAIWfk2y0Hk0CyfxkY0QuTQL31NztGEJNAle904psUk0DCjC647hiTQMFJPSHQ\\u002f5JAKvyn5Jr7kkCEuuts9feSQEirusz885JAoq8LnnLvkkBo7G6k5uqSQHyTvZZu45JAErec10LnkkBG9fERweuSQN1u68e28JJAbNzNN031kkCAhF4hP\\u002fqSQPmpoA6M\\u002f5JAYm5FmKQDk0AMNjcO1AeTQMrfl3BNDJNAXjTZey0Rk0Avoqv6sRWTQGaS5DEnGpNAtkXyNGr0kkAe12F80BGTQG\\u002fz2r2MDZNAe+Cp83kJk0DaGQhb5ASTQIuncEsNAJNAKAAI+mr7kkBsJexgVw6TQOGUUeD8CZNAbPILOaUFk0CnLo84HgGTQGPJaJ+z\\u002fJJAyycj\\u002f3n4kkDGPSO0NfSSQA1st4vb75JAcPm3DGnrkkAC\\u002f+hMgOeSQJOLNo+i45JAt06M1enekkAJJzmci+SSQKahxO5g6JJAiD1CVnnskkDamQ6bi\\u002fCSQMMG4GH89JJA3SclhJb5kkATFiqSmf2SQAN3QnbVAZNA2O8vQWEGk0BDykOKjgqTQFszwAUNFZNA91g40tcQk0DkYba1ZQyTQDzMLIC1B5NAGv5Gk1IDk0AWy3IboP6SQHnRWbg9+pJAYAGv9DP2kkAKET92vvGSQHR9JGVo7ZJAlNi7I\\u002fvokkCyGiOotOSSQGp3k4+R4JJA\\u002f3JcoBDckkA4AzHod96SQNzcFUvm4pJAqHNnuefmkkD6rmFBHOuSQAceo0Za75JAqFWS5OnzkkBKsNpkIfiSQFpJlZ8u\\u002fJJAaprQZ7EAk0Coo9qwRQWTQDUOn+maCZNAuyFh7EIOk0C\\u002f7SCzjxKTQKeayM28FpNAqtPM+CAYk0DMnX9vxBOTQJRTwWnfDpNAZpCz7gUKk0AowyDYswWTQGkpUS9gAZNAd\\u002fOfRLb8kkCPaLK95veSQJgSQH1y85JAfDaKkIHukkBoqD25oOmSQCYmTFlj5ZJAIjNf9a3hkkDvCyKLdOGSQICKOlMk5ZJAzH7ADk3pkkDqUbwSGO6SQEuOht7\\u002f8pJAEp0DQW33kkCpdhl8OfySQA6k2voCAZNAXIqg8UYFk0DqHn5higmTQLynlLtSDpNAl3Z6eTETk0CIzUUpmReTQIJD\\u002f9RRFpNAFZiGlIsRk0CmdndcFQ2TQGt0X7bfCJNA5FNhVv4Dk0BGr2xy4\\u002f6SQNWzimLm+ZJARNuegYb1kkC1DyMtXfGSQIDwxVXl7JJAfg6RuznnkkDTk+1BS+uSQCuEMMJj75JA6neGb5PzkkCFQfuA0feSQALppvz\\u002f+5JARXmVGyMAk0CB\\u002flOBrASTQIwpdvIVCZNA7Mea52APk0DqX9RQ\\u002fQqTQIFpNxHIBpNAFcU2lhACk0CVVJdab\\u002f2SQPZyn+40+ZJAiHlJLCn1kkDCil\\u002fI1vCSQAJJ+lxp7JJAqn2+fTPokkC+4zrjneSSQNpSF4oX4JJAkj5j0aXekkAanVQQX+OSQGoRUaoy55JAphRbHC3rkkA9HRMVbu+SQBdOeg6f85JA+0nxUt\\u002f3kkBMauzALPySQMKwOM6zAJNAgjCZOjoFk0DL451xsAmTQAQw7FBhDpNAE4KxwqESk0Boc+q26RWTQLtABXCoEZNArvQVlSYNk0D9k5cdmgiTQF6z1O3HA5NAIU1fQQv\\u002fkkCyxeoyzfqSQHP4irOK9pJAx1ac3CrykkD9Ywcx5u2SQNAH4k2A6ZJA47WxlBPlkkAA8QdeuOCSQDZVgiRr3JJAgdt+jGrgkkAVAleP7eOSQN6a5b\\u002fd55JAx4KYRm7skkBexQJQVvGSQKqPUJH79ZJArbKtKwX7kkDKDbL6TgCTQBaZ2Fk3BJNAvD+HOngIk0DgeThX\\u002fAyTQFLx22v1EZNATmdvgU8Wk0DjXTwJ0hqTQHPpWg\\u002fVFZNArSaj3xgRk0CeXHd7mwyTQDNBjuNfCJNAeqTFFHwDk0De32zhaf6SQFrEdtJh+ZJAvwiY4A\\u002f1kkDZigx36vCSQODYBMVj7JJAw5+RhJkGk0B1cjB5\\u002fAGTQNiFX1WE\\u002fZJAZDbSQH75kkDPQMgEW\\u002fWSQD5rr58V8ZJAW\\u002fyvlNHskkAwQkFZkuiSQBLIsPdv5JJAcfsA1UnhkkAEAaRxheWSQLy2v3gi6ZJAGmpO+YbtkkA9ASmhwPGSQCUkqtny9ZJALx8BHvf5kkA9EFwhdv6SQNZmkmM3A5NAMyp0lbcHk0De\\u002fGGSPQyTQDzzU6WaEJNA2yXyT+kUk0Ch7Oz9sxCTQKoXkyJnDJNA0C1H+FAIk0D8srMthQOTQApA6nmZ\\u002fpJAre9HIgP6kkBJg7qpQRCTQCR4+4O2C5NAP6HWQG0Hk0BnTLOT1wKTQN75x+BA\\u002fpJAJRO3XvX5kkAC9HgTwfWSQBF3aYJm8ZJAcrW9ecTskkCgK5MMq+iSQLwwPokL5ZJArFc9ilXgkkBXCTDwdgiTQOoeQ0SoDJNA3R3W9RfgkkBephpX0eSSQLbYfZdo6JJAN+HJu3nskkA8+FFhA\\u002fGSQI5IJWVW9ZJAEvF7CVj5kkBUmvKdoP2SQH1YsYRFApNAYDplegsHk0Bar1X9KguTQIYgiR66D5NAxphf00UUk0DS6wQmmguTQKyOfixaB5NASuh8Z8MCk0A7F07SMv6SQHpLlR7\\u002f+ZJALLhFEpn1kkAx\\u002f5jyTvGSQNuynkOm7JJAGj0URY7okkAaiB4m\\u002fOSSQMsV8CY+4JJA\\u002f+0wnY35kkCIc3J9Df6SQMGxO\\u002ffvApNA\\u002fdOVy6cHk0Bw3ZrIuAuTQExtjzXlD5NABw9ndH3hkkDAte4PpOWSQD0u8aUe6ZJAip+ihgLtkkC7PnMLm\\u002fGSQPsJkBa09ZJAB3Wwzdf5kkCNzE6L6P2SQDb3nhdZApNAG1tHCtwGk0C1Tv0w9AqTQLrEPtcuGZNAS+gSQ44Uk0BuqXIq7w+TQBTDvKLOC5NA3kqKWiwHk0CLUxuLogKTQEUJO2aW\\u002fZJAJ2ylnef3kkBd+8pdv\\u002fOSQKwqwLuC75JAONjCPAHrkkBBYtqywOaSQGY7fVIPAZNAvIPt85MFk0CoqNwKiQmTQP9MquqwDZNAHZseLGPhkkB3LBKJzuWSQODNjYeD6ZJA6qJjdbXtkkDTx1i2PPKSQPyfL3iW9pJAyub52676kkAt6tRg8v6SQOy8gw+cA5NARq9APFgIk0Aa8jv4TgyTQKaEmYwYEZNA63ogYj4Hk0DVSUKsogKTQI3D42MZ\\u002fpJAyN+DU\\u002fn5kkCiLreFofWSQA9eip1D8ZJAIsznqQrtkkCwL0jV2eiSQMeWAI\\u002fT5JJAE93o1+b8kkDayHf3tQGTQJZd2jhSBpNAs1PumToKk0CX23P\\u002fWQ6TQBkRTD+64ZJAa1dHqg7mkkBQIwD1yemSQNHXQyEH7pJAFTynkI\\u002fykkDWgtsr3faSQG8Lq0sH+5JAm3p40FH\\u002fkkAOcpvm7wOTQI+Y7dKjCJNAqWQmj54Mk0B5+TMnbBGTQNs0na4OF5NA3WoQkVgSk0B1ppib1w2TQNJLdsdaCZNAo9hkM8UEk0D\\u002f3WbOBgCTQBjs7PHN+pJAogB31Nb1kkAOHwyliPGSQHPgmWcD7ZJA0jWjcZ7okkA12C+rJAOTQGk7z\\u002fGL\\u002fpJAvyAT9HD6kkA4oyi\\u002fvPaSQLTL5mCZ8pJABndfgOTtkkABEJlvZumSQLvceqab9ZJADswdnTb6kkC7iOaW0f6SQCaXOh6vA5NACrLyzGsIk0CpSIJYUQyTQKw5z+WOEJNANlRzAlzjkkAoRTSSRueSQFgp7fUo65JAWhltnJPvkkC9QdAeAPSSQHYIoC5E+JJAmqvh4Yv8kkC6FxQI+wCTQOBU0A2NBZNAY00BLOcJk0ArpwocQw6TQKbB1j4pF5NAQR30cksSk0AEej1ZzA2TQETP4JrQCZNAXHRZrA4Fk0B6Wsnvzv+SQIxaq\\u002fhs+pJAiYGzOgP2kkCh+jDFKvKSQArHjsb07ZJA7b9P4dT5kkCHb8v4Ov6SQJIdKMBBA5NAOpmj7PYHk0CUnLMz0wmTQEg4aTTT5ZJAfYdbLQfpkkDWK\\u002fY8duySQH+SkS1i8JJAV6oXzZb0kkCpUzJAnfiSQNzLo8Wr\\u002fJJAyJDVJM8Ak0A0Mo\\u002fRQwWTQHoQQBm8CZNA+2GtcH0Nk0Bk3TXcXRKTQJmnIdVhEZNAr90PwZgMk0AHvo5\\u002fZwiTQOWYbdzbA5NAeHOnyg3\\u002fkkDSllaWffqSQL1SqORQ9pJAhAvKgB7ykkAX\\u002fvFp0u2SQHvvXQZ46ZJA+YJaaMrlkkBQti1MZuGSQO4m0mV03JJAROD5V9fekkDKaTGNIOOSQI2phyyZ55JAwiCUnAPskkD2XGTVO\\u002fCSQNVWLhWW9JJAxw8newn5kkAgFj56q\\u002f2SQCDf6Mk0ApNA75kjW6YGk0CCHSU7QQuTQAiumZDhD5NAZmKNFIYUk0BWlxy3HxmTQJJsVgNnFpNAs6USH6IRk0BRhN+lHQ2TQEplNQvdCJNAflFP+BAEk0BqHg8zFP+SQOWOUkbD+ZJAiJFIsFf1kkACtguXMfGSQCiiTjOg7JJAu4w5bUTokkDIavjuNgWTQHAqlGeAAJNAW\\u002fTevTT8kkALlLvgM\\u002fiSQPHxTxEY9JJAOU2yyLzvkkC5P\\u002fd8X+uSQO1hYGQw55JA\\u002fQ+9CTrekkAWD4\\u002fy8uKSQGpPA0Lb5pJAn3Fno97qkkBKtIogOe+SQB48m0F285JAlB9ynIv3kkBwDWbf0vuSQA8NBOV5AJNAClRqsj0Fk0B40KekkgmTQJ\\u002fsLt9cDpNANDqcUIwSk0BROqvUyxaTQAuuEwI6EpNAYtUAZZ4Nk0CN3V4m8AiTQAu55mhyBJNApgirpP7\\u002fkkBShM+NXfuSQPbj1KXp9pJAxJ9+EHfykkAV47ORte2SQL30PFE56ZJA89E3Cv3kkkCpZJt4seCSQOKFK3pM65JAbrzWhM\\u002fvkkDx+JzxCfSSQO2ziM5f+JJApp\\u002fk9wf9kkDCo\\u002fU\\u002fCAKTQMmWtJP+BpNAHqXhUqsLk0DI6nu\\u002f7w+TQODJh998FJNAQ8dCKQ7mkkBouBkVF+qSQDTJRPtX7pJA\\u002fZkz3ZzykkDkq4Yj1vaSQOpVkazn+pJAG2cUmPb+kkBZBbz7kwOTQHmLRgcfCJNAzDP8KbQXk0CQO5P1ehOTQFfgaLpNDpNAmKIhJlcJk0CD\\u002fnO5dgWTQMBslLf2AZNAcYeZwVX9kkC+85gFoPeSQA1tg+jM8pJAFDG5XtztkkCP\\u002fzJdCumSQJ1mJD4T5ZJACy93S+3hkkCQwahaGf2SQCrxllKn+ZJAyZxAawb2kkABYOpv3PGSQHeOK4F17ZJAAIU1TT7pkkAcGjiFf+WSQALThTc3+ZJAyIs\\u002fXKL9kkCMTSmpkwKTQJFXaXtKB5NAiavppEEJk0BO6nX9muSSQFMbAIMx6JJADhAmAFLrkkAlioR89+6SQAG1w+NL85JAD4+35VX3kkAxAM+WXPuSQGPhKgBa\\u002f5JA\\u002fwO6XNkDk0CP6vQWfgiTQCX8T9IVDJNAoLm1O9oQk0Ayk9T5+xSTQEJWq7jkEJNA1zamn4cMk0CEoMVxugeTQDVKwg91A5NAYj5UtL7+kkA5ASPNfvqSQPeQ+JeM9pJAG8QofvfxkkDhNh4u0u2SQHVwDiuc6ZJAiP56TgrmkkCuSKvbBeKSQIjv+rUc3ZJAudxzlF\\u002flkkDag5nYcemSQF+xml817pJAklev8\\u002fzykkAajgwc5PeSQNqukfo9\\u002fZJAf7yJLNsBk0BRARXf9QWTQOpuGC47CpNAWPvdGwMPk0Dwgep7iBOTQNDWvoT1F5NA8BrZKH4Rk0Cm3YkiNA2TQKB9vM4ACZNAFIKOxEIEk0Cf9L6xXv+SQEs3VBm1+pJArlTiJsgPk0CYINehPQuTQHFxTNHvBpNAMGzwxGECk0Cc1oFo2P2SQK6+fA6O+ZJAoE9Qy0r1kkAhEsR48PCSQOOVQMxX7JJAuYYPYEnokkCEPJREnOSSQA7PU8bY35JAf0CNoojfkkAP2Q2IPeOSQJ7QQXH75pJABp26jZPrkkCc9je9lvCSQEDje09T9ZJAfV71et\\u002f5kkCPJtKI2v6SQB841YNEA5NAFnb5GHsHk0DmlZQ+FwyTQMyV1wsEEZNAO2O6MJ8Vk0DkQfISChqTQNES2xZvGJNAfD\\u002f+hPYTk0DH\\u002f3eQGg+TQCsf6N1ICpNAKh4l9uMFk0C0WLn1ywGTQFuyLpX+\\u002fJJAzgHadLD3kkA1D4qi0vKSQHRXt+Dy7ZJAeI\\u002fjuCHpkkDa3ukh6+SSQI1T2Ao34ZJAUdRzW8z4kkC\\u002fAK2\\u002fxfSSQG1utytM8JJAJkY4z9\\u002ffkkB4g0BEZeSSQKBlf0426JJAH3jQ\\u002fmjskkD0f2HFpPCSQG1CJnxS9ZJA5l3TvmP5kkC+dfUUmf2SQKc2EXU4ApNANYGTmagGk0AB+tFNPAuTQFe2QCnID5NAypKLYAUUk0AnrG040emSQAcR4CM57pJAPUElcpLykkCH2pXC1faSQJQv0cRX+5JAjYgddC8Ak0AvnQnAJAWTQM9aWxQjCpNAiclWrEsOk0Bgo3R6whKTQEWkOQpC55JAPwsbBGfrkkDo\\u002fvZIku+SQIyZ3XrO85JAbfj4Ng34kkAaFpQKFfySQLQFS1lOAJNAaKFVY9sEk0CqH2DeUwmTQFQL+4hTDpNATK0Sdf8Jk0D41DDtowWTQMrsp6sWAZNAnWgKj6b8kkCtXgqDbfiSQHK+zpIt9JJA0ixGlcrvkkAZd45uU+uSQKTyIrlJ55JAA0W8RH7jkkDw9GU1y96SQA4uoIif3pJAOhbF6uTikkCkLo6TSeeSQNQ9QNqp65JA\\u002fGny2QzwkkAtXjUmiPSSQC\\u002fFUXry+JJAsOPiSIL9kkAYsM\\u002fhBQKTQEK2MU1wBpNAMUOv8\\u002fYKk0B0LMocrg+TQLjleh2DFJNACamCWAsZk0D9IPipy+GSQPeKmRoZ5pJA4ha2fNLpkkCIJEblCe6SQP13mR2I8pJAcR27D9r2kkDLPMFA9PqSQPro70s2\\u002f5JAa75APdgDk0DmBh8RjQiTQOiRZOp7DJNAzJgdmEkRk0CM8TG44hGTQMaBJ8NnDZNAnOsCVTcJk0CZGUAtDwSTQMcdPPD6\\u002fpJAOrzBZUT6kkAd82bPtvWSQAv6iBdY8ZJA8UttK2MKk0DVWRCdDgaTQOSb7t5nAZNAd1FbMx\\u002f9kkAQxAkEy\\u002fiSQPQWiaAo9JJAju1G7rTvkkCUUVz0QeuSQL9gk2ZQ55JAQQ5oy1fjkkBympaoqOSSQLCaOcDV6JJA5BrfYFntkkDqQhTqMPKSQHlg08oI95JAHG7igVT8kkDNZwzfDQGTQFHqTmpKBZNAWYemQ7EJk0DXMVrAVA6TQLXDlhzCEpNA8sG6f10Xk0CoK\\u002fe5ae+SQHW60RkD9JJAKPb0NF74kkAXXm8dM\\u002fySQDJep3Z\\u002fF5NA+m5hKMwSk0BUvA4u5g2TQGoJgsAZCZNATdtPiKIEk0B7w8+dJACTQBha5D5z+5JAdt+tD\\u002f32kkD3UQ\\u002fvSfKSQEfyTh1c7ZJAMiFXNI\\u002fokkCT99qRV+SSQLz\\u002fbASE4JJAz768p8zdkkAXScu7PeKSQK+tKFlW5pJAq9JfNoHqkkCQDOId8O6SQNB7vER085JAH5dGl7r3kkAgs95IyfuSQPXLoSVIAJNAKvora\\u002fMEk0CYfYClSAmTQLiOfDL6DZNAdp4XVVQSk0BTWfqdmhaTQEZ9pWgYDJNAOV0OQ84Hk0Dyn4o\\u002fOAOTQEMv9yWS\\u002fpJArjY1QjL6kkAdMYus5\\u002fWSQKgadD+K8ZJA6Tm\\u002fl9HskkDrVYh6q+iSQHsNUHgD5ZJAeHGOFDvgkkDszt6ooeuSQLIUpVYy8JJAzfTFk2H0kkDJ4AL9sPiSQFFouTVi\\u002fZJA3O42gXwCk0B5JBNsbgeTQI1tVR8CDJNAd1mk+U0Qk0Ddea599RSTQBDZa9NA6ZJAjT0pvZztkkBpUkhf+fGSQPq\\u002fG1Ai9pJANukyQBz6kkBZ2hElJf6SQFqlw++xApNAB221Rz0Hk0BjfKiSzxqTQGWU5peTFpNA+VoPEL0Rk0BweHKarwyTQJQ\\u002fYE3lB5NAlgF28I4Dk0DmO0+pAv+SQLZrBzEu+pJAzJGljM31kkCh3Xx54PCSQHS+xki765JABD1FGPfmkkALA7p9HuOSQMCicGtU35JAKlp5vwTekkBETQYjGOKSQB6LeZ4p5pJAlakXjYTqkkBCat8gy+6SQDw5MQDm8pJAZ8TGNP32kkC5Hwu1gPuSQKi0O1QaAJNAlq+ucIwEk0CixRTeHQmTQBHa2\\u002fa7DZNAQH0DRkkSk0AqT5Kw1xaTQC1SRwMoFpNA3AVxHVcRk0ClnFYZ0AyTQCla1fpmCJNAaaqfl30Dk0Dm8eJZb\\u002f6SQEz8jicH+ZJA\\u002fPkTVnr0kkDcpWAQV\\u002fCSQEW455ui65JAlcf0MWQCk0C3+oojyP2SQBMlRB+7+ZJAtvT3q3\\u002f1kkAzopWND\\u002fGSQCH5RnXA7JJAUOa91YjokkAjk1FtX+SSQOjbkhzs75JAHQFhRjL0kkADRnspo\\u002fiSQB\\u002fAkTw3\\u002fZJAMK2JkxUCk0Br5FR+CweTQHI\\u002f0GNxC5NA1aVOCqUPk0DAO0pdEBSTQGsSHElY5ZJAHCT49iXpkkCY65AOUe2SQOHgNMZz8ZJAEQsHRQD2kkCA+JZAEheTQCQG2h1SEpNAyht7O2ENk0Bh7RdPigiTQIOi1SUUBJNAbADOhIv\\u002fkkBg7w7QyPqSQJoJL+BX9pJAW7qOO4nxkkD4yPhZgeySQKx1eLnD55JAijl8aafjkkCm3iePwd+SQDVMK3hh35JA\\u002f\\u002f6uwbDjkkC63nnCG+iSQKYFpwaA7JJAHnQEsvvwkkBUQMUnf\\u002fWSQDqU4C\\u002fp+ZJAjNxF75X+kkAPAlc2EwOTQGJhpXl5B5NALP2qSiIMk0AC3pz0\\u002fxCTQMTU4BvUFZNAiG1qEigak0DSuhgNRg+TQLOTDAm2CpNALomvqUkGk0CEAkiOmAGTQL912f4F\\u002fZJA\\u002fnUbLKD4kkC\\u002fkSAbSfSSQNV3EfDI75JAvSfcSzfrkkAOcqMSN+eSQJN\\u002f8V4l45JATvKXY8\\u002fgkkCpAFAhReWSQE6QLjoB6ZJAsEhnP1HtkkA4QnE7nfGSQMkldITc9ZJAC3s83w76kkARn\\u002fExg\\u002f6SQBU4j6RZA5NAONoJN9MHk0D77EewigyTQP98U8DUEJNAdYr4QzUVk0CY2br4cxeTQKFSDOWrEpNAlRENT7ENk0D8lWP00QiTQD04sLVVBJNA2TSuBsv\\u002fkkDalyOIBfuSQLmuFBuJ9pJADDCx9L\\u002fxkkBQbjjrueySQNwZ+BH355JAsOjObdXjkkDkM6zyx9+SQMBLZgjk4pJAyk35n7vmkkBAvjGTQOuSQGHCIaxD8JJAHlzvWvX0kkDnuR46BfqSQFt3Hepd\\u002f5JATnUwbpoDk0CrEtaZ1QeTQEZGj3dgDJNAeabWE08Rk0AU9ZX\\u002fvhWTQCxhSZ1JGpNAS8Au\\u002fVP3kkBsWlMXIRWTQLHbqIpPEJNAMURv5OMLk0D6e9mUEweTQJzuBO\\u002fvAZNAKDcBUNX8kkBqZfquH\\u002fiSQOI6ijyh85JAO02AbjfvkkDHB\\u002f2f0wmTQEEjH4hYBZNAVy1h4KIAk0DBZZLaYfySQHxBG94L+JJA8J1\\u002fw2\\u002fzkkB3ooXBH++SQMJCDWzn6pJA+CEuE77mkkB1sA7h8O6SQLnTk2E885JAVPisraX3kkBr8BbmQPySQICFm+wXAZNAkEoIAEUGk0B0sqFV3gqTQHx2otkaD5NA+jTlaIgTk0AQrQEbNRSTQN+y27rND5NAhjbENBsLk0CEpD+SSgaTQGOodW+2AZNAJdQGOgf9kkDMFkOLvviSQFKb+tdw9JJAEAQZ37XvkkB85mapQeuSQIHPMjfJ5pJA3UyzLZjikkCSL6RK\\u002f92SQOJg8KMk4JJAkwyYCEfkkkCeVqSnjeiSQBDHjlcJ7ZJAHmn1ImLxkkAseHnK3vWSQEQt658K+pJA1a\\u002fF3Vf+kkBWdQynEAOTQJ0oFH3cB5NAYc45sYUMk0At5u4PJhGTQPHw8FB\\u002fFZNAmzos5CoYk0C5r0d3qxOTQA2zD02oDpNAYedNNLAJk0ALeF0vRgWTQFVbxpbvAJNAoMpxEvj7kkCCC0ub1\\u002faSQAZAx4H78ZJATKLVQejskkAcsE09GeiSQB+ulb7045JAH7iZeq70kkA8ejlxSfCSQDVC9fpa5JJA\\u002fQTx9ZTokkAWFeTxE+2SQJ+9g2XN8ZJAqd2wG2r2kkA+FmZxR\\u002fuSQBglmuRbAJNA6Fw0ZRsFk0BAGGmHvwmTQOPrQfciDpNAYM0Gr7MSk0BY22suexeTQGTTXpzO7JJAhOhIC8nxkkDuEYhQYvaSQB8Qvej0+ZJAUJZ1nPX9kkCsxj1SLROTQJ81C9iIDpNA9R2Qp0EKk0DeCMbAIQWTQCWvFE7s\\u002f5JAoY2JfRX7kkDb0vq4cvaSQGLHxBcC8pJABJfPqrTkkkBP8H9W7eiSQBl7qRt17ZJAugQHvDvykkBLWWXZI\\u002feSQOymWwoY\\u002fJJAjapWXvYAk0CmUWOYmQWTQKVz5WA9CpNA1PnouLkOk0Az7zuQUBOTQABDGsz+F5NAXYX6yJXskkD2ofWxqPGSQJarX8kL9pJADrx06bj5kkB48oWepf2SQCityhbMFpNAw0BHlWASk0ATVvaT2w2TQOKbnDgQCZNAfvhuuloEk0A0LefDj\\u002f+SQOk4trEM+5JAgdedzaz2kkBpRj+TNfKSQJqhDIC87ZJAppPTwi\\u002fpkkDqxw63oeSSQCnc8EtD4JJAfbqVUj\\u002fgkkBV6ZKhLeSSQD\\u002fanOZT6JJAJycRDw3tkkDAJR\\u002fDBPKSQO7\\u002fG6zV9pJAAdh5dEn7kkAT1RFgKwCTQOn9QVm6BJNADDe9MAQJk0DEPRpF7w2TQJBt5p4IE5NAqkiLJIsXk0C0y9532xeTQKAdbOFRE5NABaJg5EQOk0DAM9GscwmTQI\\u002f74boHBZNA6YVwVvkAk0CgvGzStfuSQB6bed9j9pJAGClVxXzxkkBRv\\u002fzaY+ySQLQrHzDH55JAOZGECavjkkBtSofKCviSQFBox\\u002fGl85JAw3Vs0t\\u002fukkCVRjQipvOSQGDwtLog+JJATwFsH9L8kkAdLpHAuQGTQEs3l4ukBpNAi2h5\\u002fC8Lk0BWSMImcA+TQGDYzzMEEpNA7EzrdYcNk0D0zkSvPwmTQNb75Qc2BJNAZExiTjH\\u002fkkDNuLCravqSQJ1XwBrA9ZJArfVEaegKk0CmvwGyfQaTQDncOKHMAZNAw2RUJzf9kkAOuZQQ4PiSQK+SpNt19JJAyx6NL\\u002f3vkkCna\\u002fsJZuuSQDcerLhh55JA7oFjoWDjkkDtzQ+ej9+SQPO971zQ45JAHKucMw3okkCIegfmleySQETKzrX88JJAMvHhOob1kkA5fizUtvmSQApO\\u002fU8c\\u002fpJA0ndlKdECk0Cw+1NXjgeTQKXtXLxRDJNA048eqPMQk0C0gk1WXRWTQC+CxoQT5JJAiuJDoETokkAMaGfp4OySQFd94hrN8ZJAdP9rq772kkC92JjuIPySQNH7n7X2AJNAHrFWQ2AFk0Co6G0b5gmTQJvkHQiUDpNAoAMIkiQTk0BjrwIh1heTQAndYL9Q7pJArlv1URjzkkB0EiocxfeSQGtnUgGG+5JADaVYBYH2kkB3sNAhMvKSQA\\u002fWA8Br7ZJAWpMDwH39kkBNK+fHagKTQNV5oGIzB5NAIm8stRYLk0A5rp1lVg+TQD2qADud4JJAFB7z\\u002flDlkkDTeMQd\\u002f+iSQKEyNsA37ZJAw6kZIvbxkkA1\\u002fA9kSvaSQCEDXjCe+pJAFVpmev\\u002f+kkBPv\\u002fH7rAOTQEzir+peCJNAfzCD\\u002fIcMk0AR9xXfYBGTQHP4HbErE5NAYmjUNpYOk0DJ2B83SwqTQBuwWgRbBZNAz4R2oCUAk0BzNd5yU\\u002fuSQGIChSe29pJA7LtTD0fykkAB6igxmAqTQFHtzjhEBpNAdHmalJIBk0D1H6QTQf2SQKfjUkXu+JJAWwq1Ljb0kkBU+OiCvO+SQD3FpcZK65JAnxTJKkznkkAOwp+ASeOSQONpxGjHF5NA1pCAQCwTk0DVSa3bJA6TQCbKAM8+CZNArA0Qa+oEk0BSGt9RXQCTQKSZNXuN+5JA3rhYHw73kkBC1wGgOvKSQPHyBocV7ZJAEpaDnjbokkDyp5\\u002f7JOSSQCpso1Zf4JJAkCsL8rrjkkCmudlW7ueSQCzWDnl67JJAqkJMUEHxkkDn2cu2CfaSQKggFpUe+5JAXeXqJCgAk0Cds2uF0gSTQF\\u002f9\\u002ff5yCZNAskXJ7vgNk0Doci7+ixKTQGBM3BlVF5NACuBX2h3ukkCkJR1BSvOSQMHjII+y95JACnDLsDT7kkAjcStXjP+SQAzzc2SCFZNAbu4kT1IRk0D7HEkg3wyTQEmdm\\u002fz7B5NAX3vonrEDk0C\\u002fz3Dgx\\u002f6SQFCKOlVZ+pJAIA4HWkb2kkCxITomvPGSQEpwL+JV7ZJAMb7IndTokkCZrP4XXuSSQIFScqAb4JJAb29PVL\\u002fgkkDSPw\\u002fkNuWSQNjWwe3r6JJATtwrdjjtkkCSuHuLqfGSQAukD+Nd9pJAj7Wm\\u002fDn6kkBVnTteof6SQDGGcjyMA5NAD3Qc2ukHk0BHKhEkwwyTQOTRVfdDEZNAaZc7BKYVk0AwhvkyOhqTQFQO+YmuFZNA2iTp1v0Qk0AWRggVgwyTQLJdwF\\u002fGB5NAWVT2hDoDk0DKhPkdYv6SQJBXEQIs+ZJATHtJoij0kkALZTzCsO+SQJJC8asc65JAgDxDU9PmkkDhOml25BOTQMJQkbj+55JAZM4uW2bskkAAjVcXI\\u002fGSQIYFcHBP9ZJAlUHFnPn4kkCEAbuh8PySQInvQdBaAZNAIDptMwAGk0AXIoh+jheTQEPyvjsXE5NADjOeYgkOk0BUQmZ4VgmTQJ5woMTuBJNA2owxXvAAk0CDgv7VrvuSQK2aPW5Z9pJAREGDRXfxkkAsCiY0jeySQKoCFpEI6JJAnnsYo+HjkkBaw1VLP\\u002fmSQD73MJtI9ZJAdcjKhF\\u002fwkkCp4dbt8euSQE\\u002fAjoRvCZNAfpbFlXEUk0B7TY+wFBCTQF\\u002fyj\\u002fkzC5NATyT6DvAGk0AGWLbBOQKTQKpSAVVo\\u002fZJAAQVaaPj4kkB+nj9IufSSQGnd1b5u8JJAUbDiww\\u002fskkCwypci0ueSQLCCts7445JASwm3JynfkkC9QroN4uaSQMZsvqBO65JAVxHvQvvvkkA4iOhHX\\u002fSSQBUkP10q+ZJAmp1Fc2j+kkDs6IVeSQOTQNpYD38YCJNACz5SCY0Mk0Dc3q3VChGTQL+HBPnWFZNAFf0S1WLskkDHPXD5XfGSQP3uOG3e9ZJApXU9qpT5kkBcyk19ff2SQKDZxDv4AZNAKa5wSk4Qk0Ao1C9z4guTQIk1oqnzB5NAf7I3wEADk0C7L4ItPf6SQHz9LFq3EZNAyD2UJcgMk0D7BVnM0QiTQJxEJLcyBJNAQZFuw17\\u002fkkDkS+vTo\\u002fqSQIZkSF6l9pJA+PY+g3LykkBeIMkuKe6SQNEZJUzU6ZJARcRyOB3mkkCKR42gxOGSQI8Ft6zo3JJAQgRvzLrgkkAso6ZgJOWSQBcI05wi6ZJA2Fy3uZbtkkDjIxlEJfKSQBHPmfu99pJAoT6hgcH6kkAU3OdMOv+SQAEdn6YhBJNA1nocd28Ik0AEB0fSTA2TQLfXn8HFEZNAYUK8YRMWk0C+ETzC3BGTQLui70sDDZNAsavBZsEIk0Bcxpf6NASTQLKYgAVW\\u002f5JAJbR3FbX6kkC97FsZcPaSQO7w59Iy8pJAv7jd69btkkBWdTZlcemSQB1dQha65ZJAZuJ5OjfhkkAgd275Z+eSQIAiHT3L65JAAXFKUn\\u002fwkkBwy7JEvPSSQKvUwNQr+ZJA7LhXpnb+kkBeWu5UegOTQDnemr1nCJNAr5uFLrEMk0AhxWBrPhGTQBFrhCgQFpNA2m4qpWDqkkBSjlk+Fu+SQI6xQ+Gz85JAO53wgrT3kkDPnOE5efuSQKLRfZq5\\u002f5JA5e02n3cEk0AlAUJinxeTQO4DwFsiE5NAtoj+KB8Ok0B8PQBjQQmTQJAJHMDzBJNASIeoyLIAk0Ceuyrxu\\u002fuSQLc+lEyX9pJADxpe38vxkkCGW57VxuySQGnnaFAM6JJAp4\\u002fO0fPjkkCAI60F2\\u002fWSQB7Lft6k8ZJAIgl08nUWk0BIvXJL7hGTQI1kQ3A9DZNAgk0WGH8Ik0ABRTqz6AOTQIjU4Fth\\u002f5JAuKc78Kr6kkBqTTsFLPaSQMKyy\\u002fiq8ZJAoOcRCvLskkBrJwynZeiSQH4dzIMV5JJAZV0khs7fkkBWq7YQBxmTQIiQ6iuEFJNASvTibvUPk0ClTvOrQQuTQMerp5ySBpNADShWY\\u002fgBk0CIEet8WP2SQMjzvxSo+JJAPPbLlir0kkC\\u002fETpose+SQG8n8eU165JAPikRyKrmkkCaTRoeL+KSQDAO1+Dc3ZJA70\\u002fSJ03gkkBFKwkRseSSQKSfgxcr6ZJAJUjxV4ntkkCWhCM68fGSQFlNuN5y9pJAIoE1CwD7kkA\\u002fEkaJtP+SQD6ePds2BJNAB7f1T7UIk0AfFXNxcQ2TQI2HmLNHEpNAEsUpJQ4Xk0A\\u002frWjrSd+SQK7m3F1x45JAiRp6jrTnkkAgPbr5MOySQBJk2hiK8JJAgDIgsPz0kkCCWuZFOfmSQI5WEUd0\\u002fZJAJUmRSxgCk0CrVj8s+AaTQKqRlJGcC5NApKIlMzwQk0D2J\\u002f5PtBSTQGre2NQkGZNAcFY0czYNk0DBDLwLwgiTQGabEbaJ3ZJA\\u002f71VzWbikkAt6XtIdeaSQMboBSVl6pJAO7SyTs7ukkCnDVtqFPOSQMMXxgM595JAGPEK9Iv7kkDhahIsNACTQCgAt7YBBZNAi6MAnosJk0AnhnoZOg6TQJ1+qGp5EpNAYi6OH5AVk0BQWFfUvBCTQPAptpQnDJNABADRaqcHk0AZkU6XjgKTQGpMLsM+\\u002fZJAZ\\u002fJg1Hb4kkDIr7UEEfSSQO6Y0ZK875JAmF+BJibrkkA+5W5rTQaTQLMHALCVAZNADeR0HRD9kkBfLMjj2PiSQF7nlU9k9JJAhtN5PvvvkkCqW3e4sOuSQD0cJHSD55JABx1ckAPjkkCOD+RPguiSQPxdOjzp7JJA7mboyXPxkkB+X950o\\u002fWSQJFpEqoX+pJALWnQKgr\\u002fkkBuqT2wNASTQAGlKZgTCZNA0ee53H8Nk0Aud3tm3BGTQCeO9repFpNAU57V6MXnkkCxks86A+ySQGBHnOyJ8JJAHNGXI8j0kkBFZe9gwviSQHuaS7fI\\u002fJJAyl6waisBk0C7vj6y0QWTQBHtzKtUGZNANdG6udgUk0Cv+jrHRxCTQNVEKlaGC5NA2jM7xMkGk0DCaj5KDAKTQPfUde9m\\u002fZJAPQV7wrD4kkB5i+q5I\\u002fSSQM82gHK675JATVUVzlPrkkDEyM0IweaSQLk79lcx4pJAOj8dy8zdkkDR7ur3ZN2SQACKkjLs4ZJAoMs8CPrlkkAfJeJaUOqSQB5zEUTT7pJA8NwzOEPzkkBYBOAHh\\u002feSQETimi67+5JAQ\\u002fv7wT0Ak0CYl91P2ASTQDSyqFJzCZNA6O33XyEOk0Di3yCOnxKTQHy3R233FpNA93VCpXkEk0A6cPFVnv+SQM665jNU+5JAklZ\\u002frkH3kkA4L4Bh7\\u002fKSQHoshmxt7pJArnE+DwTqkkA8QXFe1OWSQJdhznYX45JAnwTocfPmkkAZ2+naeeuSQK78PG598JJAYaW49DP1kkDqlRF7XvqSQDa5fJGe\\u002f5JAGqTOc+ADk0COd5laMAiTQGwKZGLZDJNAKrKo1WURk0BpEt6SABaTQMdeL8R6GpNAjbgBuwXykkDJirWMgfaSQDUzFqd3+pJAJ5oNHHETk0AfKsVAFA+TQFuPCmEwCpNAkUmo2rgFk0BtPxJq4wCTQEhmmmUj\\u002fJJALmF1Q7P3kkAnjI1NUfOSQLJm\\u002fkju7pJAKECn1IbqkkBpc06Kf+aSQGBBUTYh4pJAxVhIHzLdkkC5dwVZ4QSTQFz87mTnCJNANJx6OhQNk0BpW4Yx99+SQEJF6Ua+5JJAhvoHAGPokkBWxxB9d+ySQF3ngp8M8ZJAX2mGZ3X1kkD\\u002faWS8jvmSQNrAH\\u002fnL\\u002fZJAZbg1GXsCk0AggQnRSgeTQMB0ns9qC5NAqlnuDhIQk0BRGkRwsBiTQNEDhGw2FJNA9XU99TQPk0BYIBmkKgqTQLYIHb2uBZNA98myJjYBk0AhUF2vV\\u002fySQBvrcwBP95JA2mDxvJXykkAK6vyLdu2SQG52aJqO6JJAj4buEFfkkkBUu2PnoOCSQKKzI\\u002fGe85JADG9hyqLhkkDSd0vSU+WSQKMMPvec6ZJAUX+FRnXukkCGP1qbQ\\u002fOSQPUP\\u002fo8h+JJAv\\u002fcsWIH9kkABEdjPNQKTQP6LoVlRBpNA2FOC7cgKk0BZxyzCow+TQKtW8QBFFJNATjlflscYk0CSsZMlPfOSQCppCIOA95JAizmAQlYMk0DO5iNB8QeTQAAxcildFJNA0Yvdg+EPk0B7llsG7QqTQJD9YhKbBpNA5gpm68UBk0DPjbWQ5vySQARdObRl+JJAKBSlZhD0kkAycjeSre+SQHEV7sE565JATsDEHBbnkkAd51W76+KSQLG2+h3r3ZJAT\\u002f328CrgkkBl6h\\u002fCneSSQORnAwR86JJAT8QEhfbskkCKBu2mbvGSQCR9P1IW9pJAdYcmxg76kkCCfIvbbf6SQKZsc3hKA5NAAWKMf6IHk0D6cm\\u002fKZwyTQK3TCEzrEJNA1p8N\\u002fzoVk0DenaDvExaTQHjfeM48EZNAEL6NSbAMk0AGBbvY5geTQBi2pUwxA5NA+crVMiv+kkCN+ZhLwviSQPLJUgrt85JAYiF1uXfvkkCmUFPzyeqSQCg+Bn1T5pJAy3b5jQsBk0DlkBHajfySQOprRYmU+JJA1P18sYH0kkCpLLkb4++SQIdpflMh65JAbvpuFLfmkkAnN\\u002f7+t\\u002fGSQGBCJcUZ9pJAhGbLz636kkCDPeMSbP+SQIxThFtfBJNAqh9E1T0Jk0Au5LdAcQ2TQOWau7a+EZNAsMpMe0XikkDePgMAouaSQGInEQuk6pJAbKDCHtPukkAN4eAVNfOSQAXD3wDf95JABvvG30n8kkAbyZG2agCTQJUhWv0QBZNAhFtNdIsJk0BghAZF6w2TQDj41Ca0GJNAp67gWv4Tk0CDM+NzOw+TQKN36q5lCpNAGppsG7EFk0B+lU9QFwGTQLvjBQFX\\u002fJJAPwiDXLT3kkB0DIeNDPOSQLRSUI0J7pJAvML4gkXpkkDIL5Aq2uSSQF9O8+Wy4JJAjEqaP6bpkkCQNoZALu6SQO\\u002fjm3Wg8pJAHzHUuO72kkAqx0fki\\u002fuSQJXBjNmRAJNA8T46pq8Fk0CJiN8BkwqTQPcJIF3wDpNAMRaFqIUTk0CYY0iH2OeSQAd6rGgg7JJA9qePe5LwkkAzNRG42fSSQE2Xm7v8+JJApsM9iQ79kkCVM\\u002fsHhwGTQIRFpx0rBpNAUUztujzokkAZBBtNrOySQPXLX4hJ8ZJAakvVBYT1kkClMx4c\\u002fvmSQLO\\u002fXkYG\\u002f5JAJ5sMXDkEk0Boxx8NIwmTQCNzs5qcDZNAcom\\u002fXQsSk0CYqq+s5BaTQP74aK606JJAKCrTSB7tkkCy\\u002fZ5Es\\u002fGSQKkRpHvv9ZJAidu0LuD5kkAqqiww\\u002fP2SQD0+J4adApNA\\u002fBGoQEUHk0B9evl0NA6TQJjn8Aj5CZNAXV9XrZUFk0AEjneemgCTQHtQeL6RD5NApyIeB\\u002f4Kk0B\\u002fJdKOmAaTQNkrvI+xAZNAUyLUFeP8kkA\\u002fSvsDf\\u002fiSQJjXLS1D9JJAWlfZ+MfvkkA34C\\u002fUNeuSQJU8hosD55JA4\\u002fQQvfrikkDVZJbPEN6SQK8qVOz83JJAexS7krXhkkCdosVa\\u002fuWSQCFhSIAo6pJA4jRZTIbukkBaRQJ4L\\u002fOSQHjzR1ue95JAgUwKHLv7kkA5yaIDVQCTQFCbyLgXBZNAdE0aGIsJk0DqXiOqUg6TQPimHny\\u002fEpNA\\u002f8mojiIXk0DIpdJ95xWTQBygdtV0EZNAE+YdJc4Mk0CShExhAAiTQD\\u002fpyhUbA5NAEqEMLDH+kkC2vRnl1PmSQKP1tJdj9ZJA1G5Sds3wkkBUxzRTX+ySQNwIArW855JAglN6fRfjkkCfwKh+n96SQBq5TokX3ZJAwB2xolzhkkAMyoK1ueWSQKvN75UE6pJATbJpkq7ukkDlA14okvOSQHA1ke8p+JJAAskB3sX8kkAWyQsKfgGTQKX1ztcHBpNA\\u002fn+XwpAKk0CMlpDHnQ+TQET9RD2UFJNAjr6ZUvkYk0D7dlR\\u002fNRiTQD\\u002fzqvBxE5NA1TF\\u002f2HMOk0CsXhXSigmTQDeHxU3xBJNADYxswmcAk0DQMS8EnfuSQFBl1LMR95JARQysfT7ykkDaBr\\u002faKO2SQIRHnF8z6JJAWh1CCwzkkkBav5cyKOCSQFH5OQ3H8ZJAa+qSvgX2kkD7eXavKxmTQEfC0eKRFJNAuMlWRZoPk0DOnxd1lgqTQCmOWAf4BZNAVus25XEBk0C5AaEGrPySQCv+aE4K+JJAXOgtKkzzkkD4ZLN0Ne6SQMwchs0p6ZJAVefaa9LkkkBK9Quw8OCSQFodqBLU4JJAkMrpAILkkkBarKyFr+iSQF6MvZKE7ZJAT3bYWHnykkDC+kBaVfeSQMxQB0Oo\\u002fJJAVnRPN6oBk0BozLkVyQWTQI3IUlBKCpNALuCs0SIPk0Axbmq8ARSTQAAwql+HGJNANK58e3zxkkDmLwcLyvWSQPVY6YHLFpNArnfzWVoSk0C7fPQYng2TQOU5OiveCJNAZhxquAQEk0AAVjZHVf+SQBoqetmM+pJAFa39dt71kkB5QxEMbPGSQBP+MwMH7ZJAFFCyLG3okkATo3TXyOOSQKQe8stH35JAgqMX9nHdkkAFNZQYxuGSQPqroBdJ5pJAeGhxu8vqkkBLhaMsRO+SQAoyNu\\u002fR85JAbIY\\u002ffWT4kkD21zw4FP2SQAtUqzXBAZNAd5CgK1EGk0BHlf2+9QqTQIk2TNjZD5NAqCBj79cUk0CnUosSbBmTQOfhQv0LDpNAMlrrrswJk0BsHW+DiAWTQAAdxfimAJNA6ECW6qIRk0C8ck7EqQyTQHgSlcKKCJNAeOtwiroDk0DRZ3nL3v6SQI2GsXUi+pJAFE9fxQ\\u002f2kkA2l+zynfGSQN5wg5427ZJA51xRAJ7okkDyv7Gt+eSSQO3JpYRO4JJAMB2XziQEk0DKf45NTwiTQNEyllyBDJNAaxs6Rk3+kkCxTeR2FQOTQNozGDXwB5NAlwtMpxAMk0ClcRe3+RCTQMJeEOQwG5NA4h5HDY8Wk0DkCgzx7hGTQKLYDYXNDJNAfsm9xSAIk0ArWjtkwgOTQBM1a5GJ\\u002f5JAXMw+wf35kkAQDRmvuvSSQPxhzG\\u002fP75JAmIjz9vTqkkDrBbf6eeaSQAPL\\u002fPFw4pJA+fvLXcr8kkAXtWSM5PiSQNFNtRDJ9JJAQu42v8jvkkAzgyxQa+uSQGwA4PUw6ZJAfPJHEWvtkkCR\\u002foOpi\\u002fKSQNg4S2vC9pJAkD00unP6kkAus\\u002ffAmv6SQEJeCs9MA5NAUiqdTN0Wk0C7tk0vYxKTQATRZd6qDZNAlUW8eugIk0DPNH19HASTQLevUSWE\\u002f5JApZle5MH6kkB6bqmAI\\u002faSQKZW2Mmh8ZJAcEXS9RztkkAH3wLTkOiSQJKfvGz245JAP9o6d4DfkkDDwY77mOGSQH\\u002fDj3pU5ZJA\\u002fMBCHbHpkkCDM+lepO6SQI63iKOE85JA06gtf374kkCcDaGbAv6SQFAlS8emApNAASf0BugGk0AZ9TJ8fguTQMooCkWEEJNARx3KRhwVk0Ao9hK0uRmTQESEaD218ZJA+kZuPAD2kkBEhEwLeBSTQA1315wcEJNAolQlA3ILk0DWg4ZEuwaTQABwE\\u002fIMApNASv\\u002fVv0v9kkDBzwL3z\\u002fiSQP4io5WI9JJAo7bV8u\\u002fvkkD6eWRxcuuSQAFxdk7d5pJAGGaUDHjikkCj42LmDd6SQP9vEgM04ZJA0Yj2DfPkkkDhvcdJO+mSQBcCk\\u002f0m7pJAh6cY3xXzkkA0tJc3BPiSQLDFtqBz\\u002fZJA6l822j8Ck0CGH4w1cwaTQKOAwgUEC5NA6LMpTPkPk0BrkWjYtxSTQIvcFyVOGZNAhC08wTvykkAOYtXIPeGSQMpfj1vx5JJAcZ7jvjvpkkA94y1XJO6SQLxKlfER85JA3Up9iQL4kkA8hsVcdf2SQBvHpHlBApNAs\\u002fVuQ3YGk0C8YLnKBQuTQHCFwe3\\u002fD5NAVMFxoaoUk0Ag1\\u002fvVQBmTQHfIVDbH8ZJA9yCqsQz2kkBsNSbOIxWTQNsWNFXUEJNAVrrYhDwMk0DXXgecbAeTQF1bgrn+ApNA6j28DBb+kkAIENPqmvmSQI0gx9Z39ZJAOlTWAtPwkkA\\u002fVerzUeySQBbLqEXF55JADp5n2G7jkkB6zF3CH9+SQKfb8PUG5JJA5CcQWkrokkDiMSVS2+ySQH45kDmq8ZJAT3HolUv2kkBiFRoWOfuSQF1FRulsAJNAHaioW0UFk0CSfSOk\\u002fgmTQI\\u002foIqZiDpNAtZ58sRATk0Dd7cfs6xeTQBz7MhxV65JAdmO3keHvkkDbtUGe+vSSQEV0kjvf+JJAUyHnBKL8kkCy6XveGQGTQNNIFm6qGJNAVXw9ejIUk0AQIefmoA+TQGXOT8YMC5NAany23SgGk0AYvbdMVAGTQI4bl6yu\\u002fJJAVV2061j4kkAiY5nJ\\u002fvOSQBYtwl9875JAYCgNdQfrkkBkVIznfOaSQJmdPUsy4pJAT2shCuHdkkCzw23uRN6SQD5tcpap4pJAtJHofPTmkkDe+mQXeeuSQL5BaKf775JAhnnjtZD0kkBpK1BDzPiSQD0OLjZC\\u002fZJAzAYS\\u002fwACk0AnYyO7owaTQNC3bTNWC5NAtyS4pP0Pk0AUPeTrbBSTQBQ7pfW0FpNAyqwt+sMRk0DFmSGIIw2TQJR0qlnGCJNA3HOS+QcEk0BqpnwNaf+SQDo4g6xw+pJAI6NwbQz1kkB5Hyr7NPCSQGNn02oc65JAJMVOJIzmkkBu\\u002fdiVuOKSQDQaAI6z3pJAtokk8G7dkkCATiXsr+GSQBE7E+v45ZJAGh\\u002foe0\\u002fqkkC9CaX6Iu+SQC7t+PAG9JJAayoHCqT4kkAoqdLiU\\u002f2SQJSUBzoVApNA1C1NR5MGk0Bovy8ANwuTQCP3ciJVEJNAuC084zMVk0DEgh54ohmTQI8fzNU5DpNAsmVTZe4Jk0AN5LLHuQWTQLl6r2nkEZNARkU4kO4Mk0D8WLMhygiTQCPQcKEeBJNAiic4BUT\\u002fkkCkrKsnf\\u002fqSQP3zeK5n9pJAsOEsRQ3ykkDMLtmxq+2SQFl9lRQn6ZJAqcm7YnPlkkBbxfd25uCSQHcGaLRR5ZJADjADlrzpkkByPfBOTe6SQF0\\u002f\\u002fbDV8pJA2pFR7Sf3kkDUDzGeLvySQLy+GllFAZNAoFI5nlwGk0CJC0Gv8wqTQOgZjw1yD5NATGElpiYUk0D+8RILmeySQA5ZfLyJ8ZJAjOyHWtn1kkBXCNq9o\\u002fmSQAyTstay\\u002fZJAe5KGjEUCk0AGCAF19BWTQJZmh2mnEZNAdLMwaS0Nk0D05ScwOgiTQBG3qEzrA5NAgCxG7e\\u002f+kkDPFGZocvqSQOgVyJxc9pJASqLExLzxkkDoHwvdNu2SQGcaOyig6JJAqavWNFDkkkDr47YtFuCSQLER89Gl8pJArgOHkB\\u002f3kkDAiR8jwPuSQOALU76dAJNAODhrvpcFk0CwBqceVAqTQEHPf\\u002fKVDpNA4z4qf\\u002f0Sk0CTqEEVrxeTQDm+BuJEE5NA4zgj2dQOk0AaSMXEFQqTQLOiXwBiBZNAcesCaKkAk0AyysjCD\\u002fySQMF6gWyl95JAKpFEWEHzkkA0dTXMvu6SQGooZHhC6pJAafdVmbTlkkA+ZH74ReGSQN0VoTfP3JJA1bxg5kH1kkDE+8yU6fmSQJ0mIs6i\\u002fpJADDgJjZUDk0BwfJi1cgiTQNBWSpd2DJNAlgN0v8EQk0AMnZCYr+OSQMZIOqas55JAiLisiq\\u002frkkDdcp1aKvCSQLbwUtOj9JJAp+qJYin5kkAAu7KqZP2SQPDTh0f5AZNAqECHiZ8Gk0Ck0duH+wqTQOSm9mWPD5NAUdOcJ+IWk0ADJ6T6hRKTQEsRDB4QDpNAQcExLDkJk0BAu9K2yQSTQGiY4VDv\\u002f5JAV9r5rVP7kkBlSLfXFPeSQJh+FMqa8pJASAUlMRjukkAtrk1di+mSQCfMuW8b5ZJAXSn5+dHgkkDTORJ9N9ySQICO3oAd75JAgWt7gnPzkkCGh9+y7feSQDVKOjCX\\u002fJJA19dco4EBk0BzIb7DsQaTQApX45Q8C5NAPxNb3IQPk0Dtiy38AxSTQCszNjF55ZJAmSLu1IbpkkBpZc2Ns+2SQHUsz1nm8ZJAIwHAi272kkABHiPrC\\u002fuSQF1HPij5\\u002fpJAMddQv5MDk0BPplk+SgiTQIceBX1VDJNAqGYx3GYOk0Ba3Hd4IQqTQMQd8m3sBZNAFmRBTxQBk0BF43VTvw+TQFmYWJ4jC5NAWMSROdYGk0BKoZDT8QGTQHSw9p8r\\u002fZJALM3hSKz4kkA03+sAivSSQJ5bEu4f8JJAuLA+L6nrkkCaVA2gZeeSQNlO4LmH45JAeirUGqXekkCI7nT0Jt+SQDsbcDDb45JACawSa3znkkDBBgNwjOuSQMotr6XL75JAtjix7kD0kkCPZ0JGoviSQJlSSL\\u002fA\\u002fJJAAOPNGW8Bk0BwB1BZ+wWTQGpghg2FCpNAtjgBwDcPk0CetMF+ghOTQI9jrn3YF5NA7qH93cMXk0DxcNaLUxOTQIT\\u002fdboSDpNABNB\\u002fW04Jk0AToYT59gSTQPQKAETlAJNAWSW6DrT7kkDKK4hzDvaSQCyVSxEb8ZJAm+I44wbskkC6JcZ6nueSQEVLbNXQ45JA2ds2+8\\u002f+kkBxXCV7qfqSQNwevE4l95JAEBoPBO3ykkD5e3e\\u002fQO6SQFYsqem56ZJANIXizbflkkD02dhQMt6SQDel+3YO45JARC7lFwXnkkD1UjCAEeuSQHwXlOVs75JASFytlrnzkkBKqoUzG\\u002fiSQHSkfD6L\\u002fJJALDqSrioBk0BJtp\\u002f1ugWTQIZvrWJmCpNAvxb9Ox8Pk0Dk1mXWdROTQBQveNgYFZNAk\\u002fZXGqQQk0A4BpRTFQyTQFWUpJknB5NAhxGTOIgCk0DDef001\\u002f2SQDdFdN51+ZJAOVOJcEL1kkDljEKze\\u002fCSQAiIl40G7JJAC7amx3jnkkAJC0\\u002fQWOOSQDpYgczH3pJAn2lpDlLtkkBfUVHUxPGSQMy6Geca9pJASDnUTK36kkDfa6eNdf+SQGgJCPGZBJNAMo1+baAJk0AWHP9azw2TQD+UcXY1EpNA\\u002f+8xGV71kkDzkfbh6vmSQMBSGoIG\\u002fpJAvafIH3YCk0C3C3LlIAeTQMpqx5BKC5NA48iibm4Vk0DVyFMpphCTQJucVJwhDJNAYZwPDZ0Hk0B0HebYLAKTQK7AwAoj\\u002fZJALmobqWj4kkCJyO6l2\\u002fOSQGu6D4MxDJNAkEPveA4Ik0ATWBSc9OOSQFVposEq6JJAPdEpO63skkCrFWU3afGSQDq1OeH89ZJAK+5fH9r6kkCHbd0IAQCTQAEIrHvOBJNA6UPhqnQJk0BcwVrH0Q2TQADcoldjEpNAO64Q4zgXk0CNGPi5qe6SQONdl4X685JAtzCyNhL4kkArhAtQi\\u002fuSQPPsqC\\u002fc\\u002f5JAtUskkokBk0DC+FyI9PySQOk\\u002friHJ+JJAg7+ek5v0kkBXaUQlFvCSQEk+zZWK65JAA7FuSTLnkkB+idB73uOSQILmED3z55JA08iXApPskkBjqWqxj\\u002fGSQHr0ndFr9pJAzmSr6cz7kkCXzds4vACTQAr11hENBZNADin9XooJk0AHb8UuPQ6TQI3nXu3AEpNATro\\u002fk3MXk0DBZBwLBu6SQOtPgbHD8pJAfb0HhV\\u002f3kkDSKMVOTfuSQLtnpjpmGJNAoXrXep0Tk0CxNZoO8w6TQOmkxQIeCpNABeNtm3QFk0A3oPLhvQCTQDDxzoWD+5JAlQimiUv2kkDzX3hLlPGSQPOQCArK7JJAsDNURD\\u002fokkDxO6tZq\\u002f+SQClLuDNB+5JAnTB0SpX3kkCRfB3UU\\u002fOSQBC7gxRe7pJAXndTLa\\u002fpkkD9xImYEBKTQPfalNngFpNABWpD0ITrkkDFznKT7u+SQO7ianET9ZJAMo2H1AX5kkDxtAkPw\\u002fySQBxqR078GZNAeH5G2TQVk0AytLqrUxCTQGttHGPFC5NAf8N0Og8Hk0BcZVeq+AGTQB07uWe0\\u002fJJAx9eAJG\\u002f3kkD0AYwjBfOSQN0DDLJ97pJASpfPJ9DpkkAsbUwPY+WSQBsOt4pf6ZJAJi6raZPtkkCuN255w\\u002fGSQBIzL5hf9pJAiD4C2xf7kkAI6HeS9f6SQAB1o9iXA5NA32zN5UoIk0DD0SicaQyTQHyEPeaiCZNAz95TwwIFk0AyDdJQNwCTQLA9Dz0B\\u002fJJALBMtMWL3kkB42anBivKSQHQYbhYu7pJAWb5FNdrpkkDs7RnGvuWSQNsoMeZnDZNASDraxCYJk0AkMNl5wASTQGVAtGzAEJNA8WnhWtYLk0DYLxAZkweTQGvNBf6nApNAfURX8b79kkDmjbM8BvmSQCeXHzDc9JJAtvsmMmXwkkC9avoa2+uSQILyisOI55JA5mWwF5vjkkD6LUMMlt6SQD14pcmG3ZJAWFoq3nHikkA63lWYi+aSQASNCjWF6pJA84M+ivvukkDD0JjAUfOSQLOQAuWS95JAdBwTfgf8kkCRQPCYwACTQD7tx+Z8BZNAaDh8\\u002fBwKk0DOxC9M3A6TQH5HlwM+E5NAOTr4mIYEk0CkWhpEsP+SQM0P2PlS+5JA2151TOH2kkDxcsfkRvKSQGKl2RjY7ZJAajaWXHDpkkD6KVKBSuWSQIyxqlUB75JAKv2cpGDzkkCSHSSI3PeSQLAH7OuL\\u002fJJAtxcHPHsBk0BetMBqswaTQL\\u002fvtbZEC5NAHKSwcJEPk0DSra0SExSTQCfXxVGg55JAlfFkysXrkkCXR2he+++SQBHrHRFL9JJADXMtKQL5kkCzGWh7Nf2SQBYoin6CAZNAqS7JhTEGk0DuQPOzhwqTQEmBwgWLF5NAIHtNG9ASk0Bw5QZBBw6TQGaXcZYmCZNACwuNDnYEk0AOQn8R0v+SQLOHp6j8+pJArxKjRWf2kkDGa65SqPGSQDfr8e6Y7JJApaVjIennkkCHkHXYjuOSQD2WQKNn35JA3YNwVNEUk0BJThFqExCTQLEyz\\u002fiaC5NAMOhxK\\u002fIGk0C4N9de2gGTQCB6HSLU\\u002fJJA9QZbv\\u002fv3kkDiq71KAQ6TQBl\\u002fFC59CZNAIZLeIdkEk0Dqdcb+DwCTQCQV+mWB+5JAr4Xn4An3kkD2ytx5nfKSQMhe99zV7ZJA\\u002f2lK\\u002fXDpkkCQ9TyEluWSQGy\\u002fEiPg4JJAEMY1wj39kkAHaL+LLwKTQJrjM7vgBpNAmTBR2MYKk0AoY8n+ruGSQKYT+3Mg5pJAX3CDqPbpkkDlsdMOXO6SQIQkqTgD85JAD+VvSmL3kkDaAb98tvuSQKb9NkAsAJNARigEzOAEk0DeNhVjmAmTQNIjcsnaDZNAqeR7dLYSk0CpLOrqGxaTQOuFCH2cEZNAsLtBZswMk0AMgtK0\\u002fAeTQGfhTbMPA5NA1xUPz1n+kkAdBkJR5viSQO0HLXSp9JJAgg+yYQ\\u002fwkkA74z9BwuCSQOML4bGG5JJA2sLwzcDokkAuTBqroO2SQMuSfOWb8pJAXWuZmID3kkAZgwe\\u002f2vySQB0kcSnWAZNAu4t1NgQGk0BXYdfrkgqTQBWlaYN7D5NAaGkg9FIUk0AFk5Yb5BiTQMxUwJXe4JJAzusvOpPkkkCvK8J2yeiSQGSQAWGk7ZJA3ES+PaPykkDBR9GBqfeSQD6dd782\\u002fZJAncLEaxACk0BF0M+FTAaTQCDCNiXvCpNAeN9+\\u002fbAPk0BADlotVhSTQGDHTZMCGZNAs+bWhPHfkkBEppkgs+SSQMupQs0U6JJA447svkvskkC5Y5KvjfCSQHQaPolq9ZJA5LYXWGv5kkDMHO49rf2SQHkPWg6eApNA8pVVQAoHk0Diu34E2QuTQDnJ2hd5EJNA5GQZXNYUk0D30wC5VRmTQI+\\u002f3fB1FJNAxld4hZYPk0D7+r3pEAuTQJu8gnZPBpNAT6Wh3QkBk0ChKS3PrPuSQC2Ll\\u002fG+9pJAQGZkUljykkCMlJ2NuO2SQPpIHAYY6ZJAsUVc1\\u002foBk0CJD4aGTP2SQBoGBIUS+ZJAfvk6V7n0kkDmXudgKfCSQLV7xh6165JAzdy0Ck3nkkBmieYLZvaSQHdnmkk3+5JAs15\\u002f4gQAk0C\\u002fWgQxCwWTQMQ3pX+TCZNAtCIjZ4gNk0C5NkxivuCSQAujNgh75ZJANsm0rDjpkkCLhSWri+2SQJawfu5E8pJA\\u002fRHAuLD2kkCNVyaDJ\\u002fuSQFfF4QSh\\u002f5JAsEDi3FsEk0AklhR1\\u002fAiTQPxBlfhaDZNAvpBMf4IVk0D5dG7MAhGTQDBUb+pZDJNAedSd2WMHk0AioomznAKTQENuJj29\\u002fZJASRpBUED5kkD4gaM\\u002fy\\u002fSSQE9wGWos8JJAib8Jq6LrkkDOJU+K9+aSQPj3\\u002fpFO4pJAoWgF3MjdkkDgZT+U9wmTQMxQjiLMDpNAqFA5XG8Tk0ASaYoKLhiTQGKYakpW8ZJA2NXLlPL1kkCwoQA\\u002fJfqSQKiZSDfTEJNAuVNVFGAMk0CpZGjP5QeTQE4GkUfXApNAmKJnQsn9kkA0Qraa+fiSQE2ZjLdVDpNAVlUPQ8gJk0BB5CtLNgWTQB16mxl1AJNAPLmABtz7kkDcEKeUdPeSQD+\\u002fmZ708pJAhIONOEPukkDR0zeb0emSQDzWl2Hq5ZJAMBa7cU\\u002fhkkA13PELv9ySQNSOBIoi4ZJAl3ql5LPlkkBSgso+ROqSQCE1O2HB7pJA\\u002f5DcyF\\u002fzkkCfrc8JA\\u002fiSQC1kDY2\\u002f\\u002fJJA9pbu4IEBk0CSGrZmIAaTQI7mM6bWCpNAYH0y\\u002fdcPk0CMPsWY7xSTQJ++XP+DGZNAfnZf1m8Zk0AseFh7sBSTQBLOc63WD5NA637J2U4Lk0C2+3yNewaTQMMcjqmDAZNAk63Hqi78kkCVvVED5PaSQPzPxpd\\u002f8pJAWiu3DeHtkkAZBhIxQumSQKXY6NLOAZNAkiniDi\\u002f9kkBOY1xi\\u002fPiSQKNZWG7w9JJAXmp0U2LwkkBag5B5puuSQKJWCl9F55JAOFm0Cj7gkkARlkuT0+SSQP7OptXZ6JJALutTD2XtkkBu4Hs6CPKSQM8GmTq\\u002f9pJAKlONfd76kkCzBo\\u002fceP+SQHP2j6ZsBJNAMapfJ+oIk0AkqOo\\u002f1g2TQKgtbOtiEpNAE4oVneIWk0A+br28ABiTQDCGn+5qE5NAWImQUTcOk0AwABlsMAmTQBAFEEnMBJNAw716qUAAk0CAXFbpNPuSQLMwr8cv9pJAIHfdw1nxkkDtJKYVFOySQJpJKGJE55JAEgCnOTXjkkClkwB1afKSQG2U7crD35JAFlXJpqjkkkAPURAbWuiSQP\\u002fmscfS7JJATD1d8UfxkkAQNm\\u002fQ\\u002fPWSQBnJw01B+pJAQyn23M\\u002f+kkAINrxyoAOTQEPRHiw3CJNA716GrEkNk0D3QOMlzxGTQJuRlrUvFpNA\\u002fddFy2TykkACAwMq0QmTQKSffjA\\u002fBZNAWS1853gAk0AbopArQvySQJ+OC4yj95JASgC4Od7ykkC1lt6JNe6SQKV245zh6ZJA3I2CT\\u002f\\u002flkkC5m22mauGSQJUEUQ\\u002ft65JAaisb+qXwkkCHDaSGBfWSQKwlI9Gi+ZJA+GHtfYf+kkDu67ZTuQOTQEiMLK01CZNAFRZXMnMNk0CIpCGwBBKTQNnBLmX95ZJAnmQPYTXqkkAqUF91le6SQF6h1gr28pJA664CFmb3kkBoK9bAvPuSQPo8ZJAaAJNAj0tDieAEk0DnI1iLeAmTQBaKfMMTFJNA3f9t5JwPk0CiTO2j0gqTQC2zMcYNBpNAm\\u002faCVWkBk0AXfaVhnPySQFKciq5R+JJAkWTcmenzkkCGKNfAN++SQFSj9SuI6pJAmOlgpwbmkkCLIyWX1+GSQBR7jq8f3ZJA8HXn+D3fkkCQiJbIC+SSQO7Au6Xf55JATjaYkErskkDejpRPyPCSQAjvGtEn9ZJAdtj8bZP5kkD4iM+pNP6SQAJtUyIjA5NAK+mpTMAHk0CW0BM7ugyTQPI\\u002fFw9CEZNA4pn4zbEVk0CcFJ9c4t2SQCG1ybx94pJAcjT\\u002fZ7XmkkDy407USuuSQO6D3t3U75JA3m5mkW70kkC5yj88wviSQDkvoVI8\\u002fZJASYDyLfIBk0CEQsfu1AaTQG8dJaiyC5NAZBMeuXMQk0AxqYEsARWTQGWjzuGaGZNAODfXd+MWk0BzGbaQSRKTQIWBRL+CDZNAFmg9+qkIk0DG6E2C+AOTQD6M301b\\u002f5JAF8W2bov6kkC4FV7V\\u002fvWSQEy5xgtW8ZJAaHULqG\\u002fskkA6Uv3yw+eSQCQsL2dv45JAQIWKSzDfkkBUUMAXQt+SQKUegZiR45JA4pz72SvokkDMSlo+yeySQHkT8fAZ8ZJA7\\u002fQ0EoT1kkDWZs2BI\\u002fqSQEP8Qmf\\u002f\\u002fpJAymq0dqwDk0BwZTjlcgiTQKy2Gv9BDZNAfpHwZwYSk0B8m8\\u002fmyRaTQBf5zxXZFpNAwx1CBlwSk0BZmX3emQ2TQFM\\u002fDorQCJNAFnR\\u002fEfsDk0C1crz0Wv+SQPMlGg6O+pJAsGiSHu31kkAjSakIX\\u002fGSQL5I8DbH7JJAkrz4BiXokkAIFx+okuOSQNBj8P0t35JAawmDF5rgkkDZcCPA0eSSQFjsl7tE6ZJAgXKv6dbtkkCxo0f0W\\u002fKSQCKLj8jP9pJAuSCnEjf7kkAi2xxhrv+SQA1+n32LBJNAAKlzdYYJk0B4prdYPQ6TQIgP7HvxEpNAvrslp24Xk0DixO8dthSTQN44gphTEJNA3DB9WaMLk0C5nYfF3AaTQHnbRfROApNAQlnO5239kkCBeBKi7\\u002fiSQBrHqHyx9JJAxxdwMwjwkkDh+3tlfeuSQAJc5zDk5pJANn3ky4HikkAwxlzADd6SQEUZDofA35JA1DYIZo\\u002fkkkBd06gOQ+iSQCERNBfF7JJANmIL1DbxkkBoi3szovWSQOb7Owu9+ZJAldw\\u002f+Xf+kkC+XI36bwOTQL1z2r8cCJNAwhr+5PgMk0DIwYIjWRGTQPBvYyzjFZNADkXYExYMk0BsGNqt9QeTQIdfLnUuA5NAm9FaB4b+kkB+Vt+bZfqSQLI9jYyV9ZJAvvRQDhvxkkC1vmXvaOySQKgkAzU76JJAgmJLK3zkkkD\\u002fYSdLjt+SQOsVWfWj5ZJAkO96\\u002fxnqkkD2gb9Ywe6SQDna84RK85JAalFlBa33kkA2nNNR4PySQOUaj1v6AZNAZO7H3hUHk0CnAsVamwuTQDVW0rg4EJNAQM2RoAQVk0Ck1RXGW+uSQNuj1bdV8JJAScAeYdz0kkAcBabayviSQA0d7q+9\\u002fJJAY2ZAvjkBk0BOe2zaEAaTQBWyGdfOGZNA6fc1nmsVk0BC4zORgRCTQHTgi49dC5NAqP2947AGk0DQRYhiSQKTQGDKKjaA\\u002fZJAL8ZTf3X4kkBL4cOqsfOSQK+VRmyc7pJAJleA+YzpkkCKU6HUI+WSQGd0vVtP4ZJAlYQYX3zykkDspQlOmuGSQNBfDKBw5ZJAUuQnst\\u002fpkkC81mWa5+6SQJek8j\\u002f685JA1PBQCYX4kkADL3aPh\\u002f2SQKOByE5QApNAEyDfAcMGk0DwuBsWdQuTQCwD2dSJEJNAImy8QF4Vk0AChAmV8RmTQFcg4NaBFpNAjgKNNRYSk0CWuxX0Wg2TQHwHsGeeCJNAtLX4kp0Dk0Aq8Rb1zf6SQLCQokUz+pJAC6birYr1kkDf9GcZCvGSQPWwTmm57JJAxstBRwvokkCQYlopVOOSQALPXbLQ3pJAWCiPLggXk0DZA+ennBKTQPY4Kg8WDpNAoOH22i4Jk0A96ZW0lgSTQJj2W5y4\\u002f5JAgdr4Wgr7kkA4PaIIsfaSQPPtI\\u002fYb8pJAFLvX+Y3tkkCXPtjO7OiSQGOM8e5T5JJA6EHrPu\\u002ffkkDJrCc+n92SQIb8u1b94ZJA3nmX9HzmkkB8hOYc9+qSQAaujMN875JAEk8OTlX0kkAiAw2Y4\\u002fiSQGbzLP6d\\u002fZJAXX\\u002fV80YCk0C7rLLY0AaTQFkX+LiRC5NAC0EmQ7cQk0BpC1KKphWTQCleZkMEGpNA163Z6kPekkAdtJFDleKSQO39r+3n5pJAmgCDN1DrkkDCIv09N\\u002fCSQPw6494U9ZJAwjJ6SJ\\u002f5kkCPT5J7dv6SQL4IGdYuA5NAWtMaKpcHk0DZIo8ybAyTQLxxbNKlEZNAFqh291oWk0C3hcPU1RqTQHNkCr+RFJNAw2f3riQQk0CCNls\\u002fZwuTQKjMZPedBpNAO\\u002fjomtoBk0AhySU+Bv2SQNEwt115+JJAgJbCaRb0kkDPJBs5a++SQBeFdvnU6pJAt0U7xyzmkkCoxPmaruGSQBsNRLAf3ZJAEsdzZOvkkkBOatB3VemSQPsSyy7\\u002f7ZJAbnIIoN7ykkDVCeys0feSQHGFMcfF\\u002fJJAjSMRu74Bk0AvmZhigAaTQL8T7FFDC5NAnKEtvaQPk0BMjSRaZBSTQFTW5ss4GZNAev1aMgDtkkCVJRXmA\\u002fKSQJoetePF9pJA0rYfwWT6kkC+uVt\\u002fmv6SQNwOLBptF5NAJe2FU5wSk0ChpXr\\u002fXw2TQGHYfwteCJNANZBKSwwEk0CEUK5HW\\u002f+SQKNWuJ5E+pJA26Tt8oX1kkBGF5wTcvCSQJvAP+kh65JAN92ciGrmkkA8scNYdeKSQKCAK52Q35JAOq6eGGfkkkA5Op4GI+iSQOM82AuK7JJAw\\u002fRpAv\\u002fwkkAiwWwqZfWSQAG5yNpz+ZJAzhOYRyb+kkArOp2SEwOTQIY1XV7EB5NAk50hAosMk0CgDD3f+xCTQBlOUOqCFZNA\\u002fgyeXqcXk0D3fEOglRKTQHjLtQbaDZNAqsg+f0YJk0Bj9fp4JgSTQB6CNBmq\\u002fpJAdRq+SKP5kkBiqfd5BfWSQFkLrbyb8JJAsvZU0+nrkkD6Xd\\u002fpGgmTQCbWEjlMBJNA7El\\u002fHW3\\u002fkkDqPO2JGfuSQIbF+x2V9pJACp\\u002f4h9rxkkDBCtD4aO2SQNYYOWDy6JJA5UDPzN3kkkAg5JyPyd6SQFt0p6cP45JAs8JxYZnnkkCM9qILKuySQPYljPx+8JJAndCn+9v0kkBeg4kPY\\u002fmSQCmaUiwp\\u002fpJAR8XH4tQCk0AdPkRXhweTQHHaaAZKDJNAUlJctgkRk0DyIXQLwRWTQD380Lx2GpNA4BsC4KURk0ALlMAEBg2TQNqtkW+iCJNAIY19X1EDk0BGfSBAJP6SQAQrjVJK+ZJAz+gzqYz0kkC2Gg2rfQyTQIrIjhMjCJNArGgFY1MDk0DbTJDbg\\u002f6SQMbL34Mj+pJAnWmu5If1kkBu4uaWCPGSQEE9BWwx7JJAkNcm7vrnkkAvuhf0AuSSQOUfReMB35JAgWEw8MLdkkALr1swIOKSQJR476Kk5pJAaRWGDxrrkkAPEf2Qqu+SQHGC9qWC9JJAOSdQHg\\u002f5kkCwo1TEzf2SQHqdgeR4ApNAQpv5xwUHk0D8i8QpyAuTQGhZ9pT0EJNA56xcEdgVk0BDE9uhOxqTQDgbEk\\u002fpFJNAbcwilwsQk0CVCglyewuTQLkxpfWlBpNADIEEtSkBk0Cy6JihG\\u002fySQBK150pU95JAIM2c1rrykkAAxS0LTgmTQG+cBNKSBJNASgt4V7\\u002f\\u002fkkCL+htJhPuSQFza20O59pJAGqqRRRHykkDKU9zTSO2SQEWhFEDq6JJA78J66CTlkkDiOaSeNuCSQM5T79vG3pJA+Z46Ni\\u002fjkkBQocxSueeSQJrTw9o47JJAf6\\u002f5VtzwkkB5cbhvk\\u002fWSQOkzrvMb+pJAOtWqPPH+kkBs5lpKjwOTQPKDZnwNCJNAXCZl1PcMk0DencnvLhKTQCRw3h\\u002f9FpNA7s+wRYsXk0B\\u002fr5Z\\u002fcBKTQF0y0lizDZNApWGRBR4Jk0CdfcjX7gOTQOMLmZRo\\u002fpJARjIJ62H5kkDLBxa2wPSSQK6brmZM8JJAYNZA5ZYIk0B2oWbGuAOTQGN2jjPS\\u002fpJAaepYBYn6kkAo0yOw6fWSQGDyGUE38ZJAlq0t4cDskkDd56sWTOiSQIzf8RUL5JJAROtDpzzfkkCqxB1TruOSQJUifHRI6JJA877KDs7skkDvJ3SMRvGSQCXu4Jzg9ZJAWpfXinz6kkCuX+DLUv+SQMGcJOzxA5NAoSItz4EIk0Dt1lhYZA2TQI3I8a6AEpNAZxlUm2sXk0DgTXJlPRiTQCwmX0FVE5NAiP7N8n8Ok0Do8gTq0AmTQIr4ahn4BJNAeA2wLdH\\u002fkkANlXgyN\\u002fqSQP53jAZD9ZJA4avtEd7wkkABexj0AeySQHlEnTtz55JAiHkY7ygAk0C6WpNhpfuSQJzC1u+G95JAHDYXPifzkkDSoYC5c+6SQIpvj0O96ZJAxK8Q0nXlkkAGOyjrGxuTQKIP3Nd1FpNA5VOWq6gRk0BVYLHDcwyTQBb3GDKXB5NAu6u96DcDk0C2eoEGpf6SQOQzIUnu+JJAfwGXt6\\u002fzkkDDCmgRku6SQFXftdaa6ZJAyp9AKh3lkkBZ2avyJ\\u002fiSQNlG9tS285JAaiYnsMXukkDmoa2vTdySQPiLxNMz4ZJA7SXGSKHlkkDrP5HhzOmSQJpKwuNG7pJAu\\u002fxu6wPzkkB1a0k0i\\u002feSQDiXQa6++5JAHKnuA3MAk0AIsOCjSAWTQAzzEqriCZNARaNbP7oOk0DRU5+eRBOTQJeBIVTQF5NAC+I1+\\u002fQVk0ARw2QqQxGTQLn7tupYDJNAU8DKvmcHk0Cs81WGogKTQOmL4yLc\\u002fZJAQaIRRwH5kkBnQqChWfSSQGLqfiRs75JASbR+DZLqkkD\\u002fb5bq8OWSQKvgYA+G4ZJAt0bfPRzekkAq5s3lGeOSQBhuxhc855JAPC8YNHLrkkAuq9jO5O+SQLdksY+h9JJAlKodDQ\\u002f5kkCY+JkodP2SQKwHqVVKApNAvVpTCesGk0CBcjgYwwuTQCVJ2Wl6EJNAVLMHJeEUk0CDKUKx7g+TQMb50MhzC5NAwZFU4eYGk0AcrgPAzAGTQCFYmly2\\u002fJJAvqh9CGIVk0B+3Lz6wxCTQNA0BF3dC5NAfbcLdf0Gk0DHrgv4CgKTQCDigOA7\\u002fZJANvXSA1z4kkBxC3F5pvOSQI0VlY0M75JAPnFCHW7qkkB7BpDpquWSQK4PoNv\\u002f4JJAuDzMXqrckkCnXOZ2w+GSQCwjuXwv5pJAxVudDkXqkkCQ3mC\\u002fuu6SQGvaY29s85JArBnXmwL4kkAE3KwJTfySQJrYn0cZAZNAW8FR2tkFk0D6I+KWjAqTQCTx93VfD5NAIRIqRNkTk0CQdhP8ZxiTQI7iBmxqFJNAInhro9cPk0DRDQFZBguTQNkfU1kJBpNAjomaFisBk0DmcJZiYfySQD5UntnT95JAxzssgDfzkkBtFppNme6SQI5B3\\u002fTt6ZJA+t8haTDlkkDtisV+gOCSQFMAMOTm3pJAgnwWftzjkkD1T5lox+eSQOTROzQl7JJAXI8i0Z3wkkCknaKxVvWSQHSGztGz+ZJAJ0Xnqz7+kkBdpX+wFwOTQKCgIaG2B5NA8n1PYr0Mk0DHsGL2XRGTQI1jEiS+FZNAnoAgsUoWk0BnorFDvRGTQPdO1yYtDZNATvBZxf4Hk0DAZDdYZwOTQLYixqxw\\u002fpJARFzuz+D5kkDJCssApfWSQM1lA0vU8JJAWuLe4RXskkBfwYjWVueSQL2iCGwP45JAqrq\\u002f+nLekkDdJ9z2ieGSQA21hozv5ZJAn8IVfevpkkCaBbV+h+6SQH0bz9z68pJAiyHvzEv3kkCvQo6E0\\u002fuSQAeEEBu3AJNAd5SlaKQFk0A6Ii2vagqTQGhAZvU2D5NAUOEbT7oTk0BRHA+GnA2TQNMXs3FCCZNAcazu48kEk0D66rT0BRCTQJKBXgQ1C5NAhx+A7s4Gk0BrF3p4wwGTQAEZW3nR\\u002fJJAknvKUS74kkBYG6+P3POSQJ6RKJZZ75JAEWPsXb7qkkAuV\\u002fRynuaSQKIMmZw74pJAU6jgbwvdkkAzEuE4ld6SQL9HdJ6R45JA2UkxrqnnkkApsFaZ1euSQCGbd9CO8JJAvqdNzSX1kkCM87TUXfmSQIWaWWbs\\u002fZJAkbUhs9sCk0Bh6SPXygeTQOijTygNDJNAtUtUgjARk0Dlagu5PA+TQIKs472eCpNAAPqvGhIGk0BwOWwpDgGTQBYqv10h\\u002fJJAfPPNS633kkChTBiZTPOSQMMlQVHD7pJAF\\u002fCb6xvqkkCb9uC+HOaSQJpQgSWg4ZJANd8OwWHdkkAeI8xtZ+KSQNPVqvO75pJAK4DGqALrkkDRbQR9gO+SQPm2Y85g9JJA\\u002f7Riq8n4kkBDR922Mf2SQD+JMLQiApNAbleuVssGk0DWtYXyqAuTQJQsdrtqEJNAZEUK++8Uk0A0PKU3UBKTQJ6BEQ3gDZNAzWZcSdQIk0DBAdknFQSTQBWOO5I0\\u002f5JAvUBAYpr6kkAlqwinavaSQChyR5WF8ZJAvdoV\\u002f+vskkDqS650KOiSQGX6ZkcE5JJALV2R1WDfkkArDhzO+NySQNf7dhN04ZJAyYtJ0\\u002frlkkBN5p7eo+qSQKZ7Posz75JAO6lPOZzzkkBQ\\u002fSbkKfiSQK9pzOMD\\u002fZJAv11JqtYBk0AHFDvFmAaTQKrm9X13C5NAcrRDXlYQk0D2UWdJMBWTQOVBwA0NGpNAjMItZNATk0CpdYAYTw+TQO3W35ByCpNAyAChKLsFk0DdsZDk3wCTQMhM8SkO\\u002fJJARlFybI\\u002f3kkCQ5B4vD\\u002fOSQCInYvxi7pJAwOOHebvpkkDa0\\u002fPWC+WSQAB5OFWS4JJAUGYyMR3gkkDvHjlIPuSSQKT+PiGM6JJANibakX3tkkDxA2dMo\\u002fKSQJH1XNqS95JAmgsBuVj8kkDTV20oVgGTQGsDohDwBZNAAuo+c6EKk0BOxg1G0A+TQHWuUG\\u002fQFJNA6lJzrn4Zk0D6vRlAFhWTQEciEReIEJNApsZWIsMLk0CTM6e04gaTQAWi6sLoAZNAJAcKmQD9kkColhvLYPiSQCnnE6i685JAAgeILDvvkkDM4+resuqSQCYBZAr25ZJAcTiq4ELhkkDepX5\\u002fxdySQDvH6knf4pJAnNg3wALnkkCcce40v+uSQENd+8jM8JJAksv0K9b1kkCFs6EjSPuSQB5pZ4hQAJNAikOlnP0Ek0D+FTqlvQmTQFY\\u002fAfppDpNAo57a9SgTk0AUFU3tFBiTQG7QrVG\\u002f8JJAu6gq6s31kkBQSUS08PmSQC8Iz\\u002fYO\\u002fpJAHWLbMWIWk0ABgu1+sRGTQNDHrATWDJNA8lTJNOsHk0DqVoLKPgOTQAGNDGWN\\u002fpJAUHRthLL5kkAWdGH5IfWSQKArGlU28JJATBdXcyPrkkDsaVKhfOaSQKdOJ\\u002f1S4pJAPeVC2YzokkC96PouL+2SQKc28h7h8ZJAh8pKWVL2kkActvO6EvuSQND3JLw7AJNA5k2qG34Fk0BN2fRorAqTQEs72RkWD5NAHC36Ls8Tk0CC9nfBmuiSQPeD\\u002fSki7ZJAqjcG38HxkkCfgVGOHfaSQCUDCUdU+pJAvXwJLpj+kkBeyqNBawOTQMY0ByAwCJNAEFpN+i8Yk0C1l5j1cxOTQNccwPBMDpNAEvZ5ozwJk0CO\\u002fC3pzwSTQIEcQ+IpAJNAqNw6XCj7kkBpkCwqUfaSQN9qexRa8ZJAJvHzyAjskkCux540K+eSQFUl1Oca45JAR1hL6DP0kkB8p7Ru6fiSQC6J\\u002f6nK\\u002fZJAzAspHdwCk0B8TbwU5QeTQEbsiQ4XDJNA5eW9gngQk0ApbVUV8QqTQNTbFZiqD5NA9DzQSMMYk0AVd\\u002f7PHxSTQPJKKRERD5NA75I87g8Kk0DACHd1fgWTQO3DsZ5RAZNA1DJ0ZAj8kkCdVxMYhvaSQDImL3R28ZJAn1S43mHskkDlFtqwvueSQK0rYj6F45JArd+JZcD6kkDe6uafBPeSQEFPgyNL8pJAI3PTykbtkkA+WPWZbAqTQC9pttQn35JADYZjrCXkkkCOJxdFF+iSQLUIBcxR7JJAElMwHBfxkkD+AeotrvWSQAuBLBbm+ZJAb5TlEHX+kkBQ3uZ\\u002fZgOTQOMg1A9MCJNA4UjzcIQMk0D6EoqypxGTQBahn82DF5NAK7cCBekSk0CtqacaqQ2TQGZN\\u002furbCJNAPGC1B1gEk0DN4r738v+SQLrQvrWS+pJAmrFnpBX1kkCLvEt6HPCSQF80PzNN65JAioJKRszmkkDCYs+\\u002f5PqSQMsxyNJk95JAfbZuvhDzkkAQxdbLme2SQH+FLUNM6ZJA5gYWxEHikkDczZbJfuaSQCCFsBCa6pJAadJzNzLvkkAydoXYpfOSQE1OxKjk95JA5aXeZ3\\u002f8kkBxP6IxcgGTQPDMdqBQBpNAoeK4aCALk0ABffxU1w+TQEdYLhlbFJNAnySAvdAWk0CyIGihJRKTQE2BMl7lDJNAyEy3siYIk0AN5+9KtAOTQMx8yzMw\\u002f5JAanZfbbj5kkD7ggfvT\\u002fSSQEWS9aNW75JArZTMZpDqkkAODEnlG+aSQHP7YYrC35JAsGsCFZPkkkBEsnIDTuiSQLf4kmDU7JJA0K8zd1PxkkAXqRfJ2vWSQHiNesRD+pJAaithhuj+kkBGiVN1xwOTQBrUNBZkCJNAwfpwC3wNk0CMaek4BBKTQIHgpgp2FpNA\"},\"type\":\"scatter3d\"}],                        {\"scene\":{\"aspectmode\":\"cube\",\"xaxis\":{\"range\":[-1345.092519912852,1345.092519912852],\"title\":{\"text\":\"X\"}},\"yaxis\":{\"range\":[-1345.092519912852,1345.092519912852],\"title\":{\"text\":\"Y\"}},\"zaxis\":{\"range\":[-1345.092519912852,1345.092519912852],\"title\":{\"text\":\"Z\"}}},\"title\":{\"text\":\"Moon Surface Model with Log-Scaled Highlights\"},\"template\":{\"data\":{\"histogram2dcontour\":[{\"type\":\"histogram2dcontour\",\"colorbar\":{\"outlinewidth\":0,\"ticks\":\"\"},\"colorscale\":[[0.0,\"#0d0887\"],[0.1111111111111111,\"#46039f\"],[0.2222222222222222,\"#7201a8\"],[0.3333333333333333,\"#9c179e\"],[0.4444444444444444,\"#bd3786\"],[0.5555555555555556,\"#d8576b\"],[0.6666666666666666,\"#ed7953\"],[0.7777777777777778,\"#fb9f3a\"],[0.8888888888888888,\"#fdca26\"],[1.0,\"#f0f921\"]]}],\"choropleth\":[{\"type\":\"choropleth\",\"colorbar\":{\"outlinewidth\":0,\"ticks\":\"\"}}],\"histogram2d\":[{\"type\":\"histogram2d\",\"colorbar\":{\"outlinewidth\":0,\"ticks\":\"\"},\"colorscale\":[[0.0,\"#0d0887\"],[0.1111111111111111,\"#46039f\"],[0.2222222222222222,\"#7201a8\"],[0.3333333333333333,\"#9c179e\"],[0.4444444444444444,\"#bd3786\"],[0.5555555555555556,\"#d8576b\"],[0.6666666666666666,\"#ed7953\"],[0.7777777777777778,\"#fb9f3a\"],[0.8888888888888888,\"#fdca26\"],[1.0,\"#f0f921\"]]}],\"heatmap\":[{\"type\":\"heatmap\",\"colorbar\":{\"outlinewidth\":0,\"ticks\":\"\"},\"colorscale\":[[0.0,\"#0d0887\"],[0.1111111111111111,\"#46039f\"],[0.2222222222222222,\"#7201a8\"],[0.3333333333333333,\"#9c179e\"],[0.4444444444444444,\"#bd3786\"],[0.5555555555555556,\"#d8576b\"],[0.6666666666666666,\"#ed7953\"],[0.7777777777777778,\"#fb9f3a\"],[0.8888888888888888,\"#fdca26\"],[1.0,\"#f0f921\"]]}],\"contourcarpet\":[{\"type\":\"contourcarpet\",\"colorbar\":{\"outlinewidth\":0,\"ticks\":\"\"}}],\"contour\":[{\"type\":\"contour\",\"colorbar\":{\"outlinewidth\":0,\"ticks\":\"\"},\"colorscale\":[[0.0,\"#0d0887\"],[0.1111111111111111,\"#46039f\"],[0.2222222222222222,\"#7201a8\"],[0.3333333333333333,\"#9c179e\"],[0.4444444444444444,\"#bd3786\"],[0.5555555555555556,\"#d8576b\"],[0.6666666666666666,\"#ed7953\"],[0.7777777777777778,\"#fb9f3a\"],[0.8888888888888888,\"#fdca26\"],[1.0,\"#f0f921\"]]}],\"surface\":[{\"type\":\"surface\",\"colorbar\":{\"outlinewidth\":0,\"ticks\":\"\"},\"colorscale\":[[0.0,\"#0d0887\"],[0.1111111111111111,\"#46039f\"],[0.2222222222222222,\"#7201a8\"],[0.3333333333333333,\"#9c179e\"],[0.4444444444444444,\"#bd3786\"],[0.5555555555555556,\"#d8576b\"],[0.6666666666666666,\"#ed7953\"],[0.7777777777777778,\"#fb9f3a\"],[0.8888888888888888,\"#fdca26\"],[1.0,\"#f0f921\"]]}],\"mesh3d\":[{\"type\":\"mesh3d\",\"colorbar\":{\"outlinewidth\":0,\"ticks\":\"\"}}],\"scatter\":[{\"fillpattern\":{\"fillmode\":\"overlay\",\"size\":10,\"solidity\":0.2},\"type\":\"scatter\"}],\"parcoords\":[{\"type\":\"parcoords\",\"line\":{\"colorbar\":{\"outlinewidth\":0,\"ticks\":\"\"}}}],\"scatterpolargl\":[{\"type\":\"scatterpolargl\",\"marker\":{\"colorbar\":{\"outlinewidth\":0,\"ticks\":\"\"}}}],\"bar\":[{\"error_x\":{\"color\":\"#2a3f5f\"},\"error_y\":{\"color\":\"#2a3f5f\"},\"marker\":{\"line\":{\"color\":\"#E5ECF6\",\"width\":0.5},\"pattern\":{\"fillmode\":\"overlay\",\"size\":10,\"solidity\":0.2}},\"type\":\"bar\"}],\"scattergeo\":[{\"type\":\"scattergeo\",\"marker\":{\"colorbar\":{\"outlinewidth\":0,\"ticks\":\"\"}}}],\"scatterpolar\":[{\"type\":\"scatterpolar\",\"marker\":{\"colorbar\":{\"outlinewidth\":0,\"ticks\":\"\"}}}],\"histogram\":[{\"marker\":{\"pattern\":{\"fillmode\":\"overlay\",\"size\":10,\"solidity\":0.2}},\"type\":\"histogram\"}],\"scattergl\":[{\"type\":\"scattergl\",\"marker\":{\"colorbar\":{\"outlinewidth\":0,\"ticks\":\"\"}}}],\"scatter3d\":[{\"type\":\"scatter3d\",\"line\":{\"colorbar\":{\"outlinewidth\":0,\"ticks\":\"\"}},\"marker\":{\"colorbar\":{\"outlinewidth\":0,\"ticks\":\"\"}}}],\"scattermap\":[{\"type\":\"scattermap\",\"marker\":{\"colorbar\":{\"outlinewidth\":0,\"ticks\":\"\"}}}],\"scattermapbox\":[{\"type\":\"scattermapbox\",\"marker\":{\"colorbar\":{\"outlinewidth\":0,\"ticks\":\"\"}}}],\"scatterternary\":[{\"type\":\"scatterternary\",\"marker\":{\"colorbar\":{\"outlinewidth\":0,\"ticks\":\"\"}}}],\"scattercarpet\":[{\"type\":\"scattercarpet\",\"marker\":{\"colorbar\":{\"outlinewidth\":0,\"ticks\":\"\"}}}],\"carpet\":[{\"aaxis\":{\"endlinecolor\":\"#2a3f5f\",\"gridcolor\":\"white\",\"linecolor\":\"white\",\"minorgridcolor\":\"white\",\"startlinecolor\":\"#2a3f5f\"},\"baxis\":{\"endlinecolor\":\"#2a3f5f\",\"gridcolor\":\"white\",\"linecolor\":\"white\",\"minorgridcolor\":\"white\",\"startlinecolor\":\"#2a3f5f\"},\"type\":\"carpet\"}],\"table\":[{\"cells\":{\"fill\":{\"color\":\"#EBF0F8\"},\"line\":{\"color\":\"white\"}},\"header\":{\"fill\":{\"color\":\"#C8D4E3\"},\"line\":{\"color\":\"white\"}},\"type\":\"table\"}],\"barpolar\":[{\"marker\":{\"line\":{\"color\":\"#E5ECF6\",\"width\":0.5},\"pattern\":{\"fillmode\":\"overlay\",\"size\":10,\"solidity\":0.2}},\"type\":\"barpolar\"}],\"pie\":[{\"automargin\":true,\"type\":\"pie\"}]},\"layout\":{\"autotypenumbers\":\"strict\",\"colorway\":[\"#636efa\",\"#EF553B\",\"#00cc96\",\"#ab63fa\",\"#FFA15A\",\"#19d3f3\",\"#FF6692\",\"#B6E880\",\"#FF97FF\",\"#FECB52\"],\"font\":{\"color\":\"#2a3f5f\"},\"hovermode\":\"closest\",\"hoverlabel\":{\"align\":\"left\"},\"paper_bgcolor\":\"white\",\"plot_bgcolor\":\"#E5ECF6\",\"polar\":{\"bgcolor\":\"#E5ECF6\",\"angularaxis\":{\"gridcolor\":\"white\",\"linecolor\":\"white\",\"ticks\":\"\"},\"radialaxis\":{\"gridcolor\":\"white\",\"linecolor\":\"white\",\"ticks\":\"\"}},\"ternary\":{\"bgcolor\":\"#E5ECF6\",\"aaxis\":{\"gridcolor\":\"white\",\"linecolor\":\"white\",\"ticks\":\"\"},\"baxis\":{\"gridcolor\":\"white\",\"linecolor\":\"white\",\"ticks\":\"\"},\"caxis\":{\"gridcolor\":\"white\",\"linecolor\":\"white\",\"ticks\":\"\"}},\"coloraxis\":{\"colorbar\":{\"outlinewidth\":0,\"ticks\":\"\"}},\"colorscale\":{\"sequential\":[[0.0,\"#0d0887\"],[0.1111111111111111,\"#46039f\"],[0.2222222222222222,\"#7201a8\"],[0.3333333333333333,\"#9c179e\"],[0.4444444444444444,\"#bd3786\"],[0.5555555555555556,\"#d8576b\"],[0.6666666666666666,\"#ed7953\"],[0.7777777777777778,\"#fb9f3a\"],[0.8888888888888888,\"#fdca26\"],[1.0,\"#f0f921\"]],\"sequentialminus\":[[0.0,\"#0d0887\"],[0.1111111111111111,\"#46039f\"],[0.2222222222222222,\"#7201a8\"],[0.3333333333333333,\"#9c179e\"],[0.4444444444444444,\"#bd3786\"],[0.5555555555555556,\"#d8576b\"],[0.6666666666666666,\"#ed7953\"],[0.7777777777777778,\"#fb9f3a\"],[0.8888888888888888,\"#fdca26\"],[1.0,\"#f0f921\"]],\"diverging\":[[0,\"#8e0152\"],[0.1,\"#c51b7d\"],[0.2,\"#de77ae\"],[0.3,\"#f1b6da\"],[0.4,\"#fde0ef\"],[0.5,\"#f7f7f7\"],[0.6,\"#e6f5d0\"],[0.7,\"#b8e186\"],[0.8,\"#7fbc41\"],[0.9,\"#4d9221\"],[1,\"#276419\"]]},\"xaxis\":{\"gridcolor\":\"white\",\"linecolor\":\"white\",\"ticks\":\"\",\"title\":{\"standoff\":15},\"zerolinecolor\":\"white\",\"automargin\":true,\"zerolinewidth\":2},\"yaxis\":{\"gridcolor\":\"white\",\"linecolor\":\"white\",\"ticks\":\"\",\"title\":{\"standoff\":15},\"zerolinecolor\":\"white\",\"automargin\":true,\"zerolinewidth\":2},\"scene\":{\"xaxis\":{\"backgroundcolor\":\"#E5ECF6\",\"gridcolor\":\"white\",\"linecolor\":\"white\",\"showbackground\":true,\"ticks\":\"\",\"zerolinecolor\":\"white\",\"gridwidth\":2},\"yaxis\":{\"backgroundcolor\":\"#E5ECF6\",\"gridcolor\":\"white\",\"linecolor\":\"white\",\"showbackground\":true,\"ticks\":\"\",\"zerolinecolor\":\"white\",\"gridwidth\":2},\"zaxis\":{\"backgroundcolor\":\"#E5ECF6\",\"gridcolor\":\"white\",\"linecolor\":\"white\",\"showbackground\":true,\"ticks\":\"\",\"zerolinecolor\":\"white\",\"gridwidth\":2}},\"shapedefaults\":{\"line\":{\"color\":\"#2a3f5f\"}},\"annotationdefaults\":{\"arrowcolor\":\"#2a3f5f\",\"arrowhead\":0,\"arrowwidth\":1},\"geo\":{\"bgcolor\":\"white\",\"landcolor\":\"#E5ECF6\",\"subunitcolor\":\"white\",\"showland\":true,\"showlakes\":true,\"lakecolor\":\"white\"},\"title\":{\"x\":0.05},\"mapbox\":{\"style\":\"light\"}}}},                        {\"responsive\": true}                    ).then(function(){\n",
       "                            \n",
       "var gd = document.getElementById('d22a0371-0941-449e-8f19-83707cc8aab9');\n",
       "var x = new MutationObserver(function (mutations, observer) {{\n",
       "        var display = window.getComputedStyle(gd).display;\n",
       "        if (!display || display === 'none') {{\n",
       "            console.log([gd, 'removed!']);\n",
       "            Plotly.purge(gd);\n",
       "            observer.disconnect();\n",
       "        }}\n",
       "}});\n",
       "\n",
       "// Listen for the removal of the full notebook cells\n",
       "var notebookContainer = gd.closest('#notebook-container');\n",
       "if (notebookContainer) {{\n",
       "    x.observe(notebookContainer, {childList: true});\n",
       "}}\n",
       "\n",
       "// Listen for the clearing of the current output cell\n",
       "var outputEl = gd.closest('.output');\n",
       "if (outputEl) {{\n",
       "    x.observe(outputEl, {childList: true});\n",
       "}}\n",
       "\n",
       "                        })                };            </script>        </div>"
      ]
     },
     "metadata": {},
     "output_type": "display_data"
    }
   ],
   "source": [
    "import numpy as np\n",
    "import plotly.graph_objects as go\n",
    "import plotly.io as pio\n",
    "import plotly\n",
    "from scipy.spatial import cKDTree\n",
    "from tqdm import tqdm\n",
    "\n",
    "# Ensure Plotly is set up for Jupyter Notebook\n",
    "pio.renderers.default = \"notebook\"\n",
    "\n",
    "def plot_moon_model(points, highlight_points=None):\n",
    "    \"\"\"\n",
    "    Plots a 3D scatter plot of moon surface points with color-mapped elevation.\n",
    "    If a second dataset (highlight_points) is provided, it is plotted with colors based on distance to the nearest point in 'points'.\n",
    "\n",
    "    Parameters:\n",
    "    - points (array-like): A list or NumPy array of shape (n, 3) representing x, y, z coordinates.\n",
    "    - highlight_points (array-like, optional): Another array of shape (m, 3) to be plotted with color mapping based on distance.\n",
    "\n",
    "    Returns:\n",
    "    - None - Displays the interactive plot in Jupyter Notebook.\n",
    "    \"\"\"\n",
    "    if isinstance(points, list):\n",
    "        points = np.array([np.asarray(p).flatten() for p in points])\n",
    "\n",
    "    if points.ndim != 2 or points.shape[1] != 3:\n",
    "        raise ValueError(f\"Expected (n, 3) shape but got {points.shape}\")\n",
    "\n",
    "    # Compute radial distances and elevation (deviation from mean radius)\n",
    "    radii = np.linalg.norm(points, axis=1)\n",
    "    avg_radius = np.mean(radii)\n",
    "    elevations = radii - avg_radius\n",
    "\n",
    "    # Main dataset scatter plot (colored by elevation)\n",
    "    scatter = go.Scatter3d(\n",
    "        x=points[:, 0],\n",
    "        y=points[:, 1],\n",
    "        z=points[:, 2],\n",
    "        mode='markers',\n",
    "        marker=dict(\n",
    "            size=2,\n",
    "            color=elevations,  # No normalization needed\n",
    "            colorscale='Viridis',  # Old one for elevationz\n",
    "            colorbar=dict(title='Elevation', x=0.9),  # Separate legend position\n",
    "        ),\n",
    "        name=\"Main Data (Elevation)\"\n",
    "    )\n",
    "\n",
    "    data = [scatter]  # Store the main plot\n",
    "\n",
    "    # If highlight_points exist, compute distances to the closest main point\n",
    "    if highlight_points is not None:\n",
    "        if isinstance(highlight_points, list):\n",
    "            highlight_points = np.array([np.asarray(p).flatten() for p in highlight_points])\n",
    "\n",
    "        if highlight_points.ndim != 2 or highlight_points.shape[1] != 3:\n",
    "            raise ValueError(f\"Expected (m, 3) shape but got {highlight_points.shape}\")\n",
    "\n",
    "        # Use KD-tree for fast nearest neighbor search\n",
    "        tree = cKDTree(points)\n",
    "        distances, _ = tree.query(highlight_points)  # Get nearest neighbor distances\n",
    "\n",
    "        # Avoid zero distances for log scaling\n",
    "        distances_scaled = np.log10(distances + 1e-6)  # Apply log scale to colors only\n",
    "\n",
    "        highlight_scatter = go.Scatter3d(\n",
    "            x=highlight_points[:, 0],\n",
    "            y=highlight_points[:, 1],\n",
    "            z=highlight_points[:, 2],\n",
    "            mode='markers',\n",
    "            marker=dict(\n",
    "                size=7,  # Slightly larger\n",
    "                color=distances_scaled,  # Log-scale the color but show normal distances\n",
    "                colorscale='Turbo',  # Better color contrast and peaks\n",
    "                colorbar=dict(\n",
    "                    title='Distance to Closest Point',\n",
    "                    tickvals=np.log10([1e-6, 1e-3, 1e-2, 1e-1, 1, 10, 100]),  # Logarithmic scale ticks\n",
    "                    ticktext=[r\"$10^{-6}$\", r\"$10^{-3}$\", r\"$10^{-2}$\", r\"$10^{-1}$\", \"1\", \"10\", \"100\"],  # Normal numbers\n",
    "                    x=1.05,  # Separate legend position\n",
    "                ),\n",
    "                opacity=0.85\n",
    "            ),\n",
    "            name=\"Highlighted Points (Distance)\"\n",
    "        )\n",
    "        data.append(highlight_scatter)\n",
    "\n",
    "    # Set equal axis limits\n",
    "    max_val = np.max(np.abs(points)) * 1.1\n",
    "    axis_range = [-max_val, max_val]\n",
    "\n",
    "    layout = go.Layout(\n",
    "        scene=dict(\n",
    "            xaxis=dict(range=axis_range, title=\"X\"),\n",
    "            yaxis=dict(range=axis_range, title=\"Y\"),\n",
    "            zaxis=dict(range=axis_range, title=\"Z\"),\n",
    "            aspectmode='cube'\n",
    "        ),\n",
    "        title=\"Moon Surface Model with Log-Scaled Highlights\"\n",
    "    )\n",
    "\n",
    "    fig = go.Figure(data=data, layout=layout)\n",
    "    fig.show()\n",
    "\n",
    "# Example usage\n",
    "plotly.offline.init_notebook_mode(connected=True)\n",
    "\n",
    "# Convert sweeper.boresights to NumPy array and filter points\n",
    "#bbb = np.array(sweeper.boresights).reshape((-1, 3))\n",
    "#filtered_points = bbb[(bbb[:, 0] > 0) & (bbb[:, 1] > 0) & (bbb[:, 2] > 0)]\n",
    "#filtered_points = bbb\n",
    "\n",
    "# Create a second set of points to highlight\n",
    "#highlighted_points = np.array(sweeper._target_points).reshape((-1,3))\n",
    "\n",
    "#pts = []\n",
    "#for h in tqdm(highlighted_points):\n",
    "    #h = h.reshape((1, 3))\n",
    "    #if ((np.linalg.norm(filtered_points - h, axis=1)).min() < 1000).any():\n",
    "        #pts.append(h)\n",
    "\n",
    "# Plot with both datasets\n",
    "#plot_moon_model(filtered_points, highlight_points=highlighted_points)\n",
    "#plot_moon_model(filtered_points, highlight_points=pts)\n",
    "plot_moon_model(x, highlight_points=None)\n"
   ]
  },
  {
   "cell_type": "code",
   "execution_count": 12,
   "metadata": {},
   "outputs": [
    {
     "ename": "IndexError",
     "evalue": "list index out of range",
     "output_type": "error",
     "traceback": [
      "\u001b[0;31m---------------------------------------------------------------------------\u001b[0m",
      "\u001b[0;31mIndexError\u001b[0m                                Traceback (most recent call last)",
      "Cell \u001b[0;32mIn[12], line 1\u001b[0m\n\u001b[0;32m----> 1\u001b[0m \u001b[43msweeper\u001b[49m\u001b[38;5;241;43m.\u001b[39;49m\u001b[43m_step_time\u001b[49m\u001b[43m(\u001b[49m\u001b[43m)\u001b[49m\n",
      "File \u001b[0;32m~/skola/DIP/LavaTubeSniffer/src/scripts/SPICE/sweep.py:94\u001b[0m, in \u001b[0;36mSweeper._step_time\u001b[0;34m(self)\u001b[0m\n\u001b[1;32m     92\u001b[0m \u001b[38;5;28mself\u001b[39m\u001b[38;5;241m.\u001b[39mcurrent_simulation_timestamp_et \u001b[38;5;241m=\u001b[39m spice\u001b[38;5;241m.\u001b[39mstr2et(\u001b[38;5;28mself\u001b[39m\u001b[38;5;241m.\u001b[39mcurrent_simulation_timestamp\u001b[38;5;241m.\u001b[39mutc\u001b[38;5;241m.\u001b[39miso)\n\u001b[1;32m     93\u001b[0m \u001b[38;5;28mself\u001b[39m\u001b[38;5;241m.\u001b[39mcurrent_simulation_step \u001b[38;5;241m+\u001b[39m\u001b[38;5;241m=\u001b[39m \u001b[38;5;241m1\u001b[39m\n\u001b[0;32m---> 94\u001b[0m \u001b[38;5;28;43mself\u001b[39;49m\u001b[38;5;241;43m.\u001b[39;49m\u001b[43msweep_iterator\u001b[49m\u001b[38;5;241;43m.\u001b[39;49m\u001b[43mstep\u001b[49m\u001b[43m(\u001b[49m\u001b[38;5;28;43mself\u001b[39;49m\u001b[38;5;241;43m.\u001b[39;49m\u001b[43mcurrent_simulation_timestamp\u001b[49m\u001b[43m)\u001b[49m\n",
      "File \u001b[0;32m~/skola/DIP/LavaTubeSniffer/src/scripts/SPICE/sweep_iterator.py:82\u001b[0m, in \u001b[0;36mSweepIterator.step\u001b[0;34m(self, time)\u001b[0m\n\u001b[1;32m     81\u001b[0m \u001b[38;5;28;01mdef\u001b[39;00m\u001b[38;5;250m \u001b[39m\u001b[38;5;21mstep\u001b[39m(\u001b[38;5;28mself\u001b[39m, time: Time):\n\u001b[0;32m---> 82\u001b[0m     \u001b[38;5;28;01mreturn\u001b[39;00m \u001b[38;5;28mall\u001b[39m([kernel\u001b[38;5;241m.\u001b[39mrefresh_SPICE_for_given_time(time) \u001b[38;5;28;01mfor\u001b[39;00m kernel \u001b[38;5;129;01min\u001b[39;00m \u001b[38;5;28mself\u001b[39m\u001b[38;5;241m.\u001b[39mdynamic_kernels])\n",
      "File \u001b[0;32m~/skola/DIP/LavaTubeSniffer/src/scripts/SPICE/sweep_iterator.py:82\u001b[0m, in \u001b[0;36m<listcomp>\u001b[0;34m(.0)\u001b[0m\n\u001b[1;32m     81\u001b[0m \u001b[38;5;28;01mdef\u001b[39;00m\u001b[38;5;250m \u001b[39m\u001b[38;5;21mstep\u001b[39m(\u001b[38;5;28mself\u001b[39m, time: Time):\n\u001b[0;32m---> 82\u001b[0m     \u001b[38;5;28;01mreturn\u001b[39;00m \u001b[38;5;28mall\u001b[39m([\u001b[43mkernel\u001b[49m\u001b[38;5;241;43m.\u001b[39;49m\u001b[43mrefresh_SPICE_for_given_time\u001b[49m\u001b[43m(\u001b[49m\u001b[43mtime\u001b[49m\u001b[43m)\u001b[49m \u001b[38;5;28;01mfor\u001b[39;00m kernel \u001b[38;5;129;01min\u001b[39;00m \u001b[38;5;28mself\u001b[39m\u001b[38;5;241m.\u001b[39mdynamic_kernels])\n",
      "File \u001b[0;32m~/skola/DIP/LavaTubeSniffer/src/scripts/SPICE/dynamic_kernel_loader.py:52\u001b[0m, in \u001b[0;36mDynamicKernelLoader.refresh_SPICE_for_given_time\u001b[0;34m(self, time)\u001b[0m\n\u001b[1;32m     49\u001b[0m     \u001b[38;5;28;01mreturn\u001b[39;00m \u001b[38;5;28;01mTrue\u001b[39;00m\n\u001b[1;32m     50\u001b[0m kernel_to_load: Optional[SPICEFile] \u001b[38;5;241m=\u001b[39m \u001b[38;5;28;01mNone\u001b[39;00m\n\u001b[1;32m     51\u001b[0m \u001b[38;5;28;01mif\u001b[39;00m (\n\u001b[0;32m---> 52\u001b[0m     \u001b[38;5;28;43mself\u001b[39;49m\u001b[38;5;241;43m.\u001b[39;49m\u001b[43mkernel_pool\u001b[49m\u001b[43m[\u001b[49m\u001b[38;5;28;43mself\u001b[39;49m\u001b[38;5;241;43m.\u001b[39;49m\u001b[43mactive_kernel_id\u001b[49m\u001b[43m \u001b[49m\u001b[38;5;241;43m+\u001b[39;49m\u001b[43m \u001b[49m\u001b[38;5;241;43m1\u001b[39;49m\u001b[43m]\u001b[49m\u001b[38;5;241m.\u001b[39mtime_start\n\u001b[1;32m     53\u001b[0m     \u001b[38;5;241m<\u001b[39m\u001b[38;5;241m=\u001b[39m time\n\u001b[1;32m     54\u001b[0m     \u001b[38;5;241m<\u001b[39m\u001b[38;5;241m=\u001b[39m \u001b[38;5;28mself\u001b[39m\u001b[38;5;241m.\u001b[39mkernel_pool[\u001b[38;5;28mself\u001b[39m\u001b[38;5;241m.\u001b[39mactive_kernel_id \u001b[38;5;241m+\u001b[39m \u001b[38;5;241m1\u001b[39m]\u001b[38;5;241m.\u001b[39mtime_stop\n\u001b[1;32m     55\u001b[0m ):\n\u001b[1;32m     56\u001b[0m     \u001b[38;5;28mself\u001b[39m\u001b[38;5;241m.\u001b[39mactive_kernel_id \u001b[38;5;241m+\u001b[39m\u001b[38;5;241m=\u001b[39m \u001b[38;5;241m1\u001b[39m\n\u001b[1;32m     57\u001b[0m     kernel_to_load \u001b[38;5;241m=\u001b[39m \u001b[38;5;28mself\u001b[39m\u001b[38;5;241m.\u001b[39mkernel_pool[\u001b[38;5;28mself\u001b[39m\u001b[38;5;241m.\u001b[39mactive_kernel_id]\n",
      "\u001b[0;31mIndexError\u001b[0m: list index out of range"
     ]
    }
   ],
   "source": [
    "sweeper._step_time()"
   ]
  },
  {
   "cell_type": "code",
   "execution_count": 6,
   "metadata": {},
   "outputs": [
    {
     "data": {
      "text/plain": [
       "0"
      ]
     },
     "execution_count": 6,
     "metadata": {},
     "output_type": "execute_result"
    }
   ],
   "source": [
    "len(sweeper.boresights)"
   ]
  },
  {
   "cell_type": "code",
   "execution_count": 5,
   "metadata": {},
   "outputs": [
    {
     "data": {
      "text/plain": [
       "9604"
      ]
     },
     "execution_count": 5,
     "metadata": {},
     "output_type": "execute_result"
    }
   ],
   "source": [
    "len(sweeper._failed_timestamps)"
   ]
  },
  {
   "cell_type": "code",
   "execution_count": 7,
   "metadata": {},
   "outputs": [
    {
     "name": "stderr",
     "output_type": "stream",
     "text": [
      "100%|█████████████████████████████████████████████████████████████████████████████████████████████████████████████████████████████████████████████████████| 278/278 [00:00<00:00, 1140.32it/s]\n"
     ]
    }
   ],
   "source": [
    "xxx = []\n",
    "pts = []\n",
    "from tqdm import tqdm\n",
    "for h in tqdm(highlighted_points):\n",
    "    h = h.reshape((1, 3))\n",
    "    if ((np.linalg.norm(filtered_points - h, axis=1)).min() < 1000).any():\n",
    "        pts.append(h)\n",
    "    #xxx.append(np.linalg.norm(filtered_points - h, axis=1))"
   ]
  },
  {
   "cell_type": "code",
   "execution_count": 54,
   "metadata": {},
   "outputs": [],
   "source": [
    "b = np.array(sweeper.boresights).reshape((-1, 1, 3))\n",
    "b.shape\n",
    "p = np.array(pts)"
   ]
  },
  {
   "cell_type": "code",
   "execution_count": 55,
   "metadata": {},
   "outputs": [],
   "source": [
    "p = p.reshape((1, -1, 3))\n",
    "d = np.linalg.norm((b - p).reshape((-1, 3)), axis=1)"
   ]
  },
  {
   "cell_type": "code",
   "execution_count": 56,
   "metadata": {},
   "outputs": [
    {
     "data": {
      "text/plain": [
       "((70820, 1, 3), (1, 217, 3), (15367940,))"
      ]
     },
     "execution_count": 56,
     "metadata": {},
     "output_type": "execute_result"
    }
   ],
   "source": [
    "b.shape, p.shape, d.shape"
   ]
  },
  {
   "cell_type": "code",
   "execution_count": 58,
   "metadata": {},
   "outputs": [
    {
     "data": {
      "text/plain": [
       "array([ 2.40825872,  3.06728077,  3.54037572,  4.69051272,  5.4841231 ,\n",
       "        5.5623859 ,  5.69801118,  5.70208408,  6.2245371 ,  6.22726199,\n",
       "        6.2291961 ,  6.38124078,  6.47132722,  6.63535458,  6.76668959,\n",
       "        6.79709278,  6.80261231,  6.88101376,  7.07131594,  7.31929578,\n",
       "        7.38130983,  7.39137981,  7.43689497,  7.44133103,  7.44319605,\n",
       "        7.57508075,  7.58302937,  7.6289445 ,  7.69277322,  7.69341574,\n",
       "        7.7125289 ,  7.90132585,  8.06548866,  8.15521697,  8.16697768,\n",
       "        8.22000298,  8.34486046,  8.39951556,  8.41105717,  8.45271401,\n",
       "        8.47466354,  8.5868484 ,  8.66005828,  8.71895071,  8.91546381,\n",
       "        8.9459852 ,  8.95316047,  8.96344306,  8.98379215,  8.99829232,\n",
       "        9.0026174 ,  9.06006262,  9.0616007 ,  9.18376841,  9.22938089,\n",
       "        9.24892812,  9.3034    ,  9.42202353,  9.48418003,  9.57582896,\n",
       "        9.66819889,  9.78470069, 10.04702739, 10.05446819, 10.16326534,\n",
       "       10.16483771, 10.22252237, 10.22639227, 10.24805545, 10.29393494,\n",
       "       10.35012169, 10.36466578, 10.37299079, 10.38942177, 10.39074431,\n",
       "       10.68497196, 10.69791748, 10.93717813, 11.06362534, 11.13279973,\n",
       "       11.16861442, 11.21902865, 11.25016608, 11.28627483, 11.30174944,\n",
       "       11.31500168, 11.47488064, 11.62621383, 11.65910966, 11.66544021,\n",
       "       11.74478448, 11.78624762, 12.0075116 , 12.11568504, 12.12737616,\n",
       "       12.13758485, 12.14307271, 12.16128722, 12.1787495 , 12.19638087])"
      ]
     },
     "execution_count": 58,
     "metadata": {},
     "output_type": "execute_result"
    }
   ],
   "source": [
    "dd = np.sort(d)\n",
    "dd[:100]"
   ]
  },
  {
   "cell_type": "code",
   "execution_count": 4,
   "metadata": {},
   "outputs": [
    {
     "ename": "NameError",
     "evalue": "name 'b' is not defined",
     "output_type": "error",
     "traceback": [
      "\u001b[0;31m---------------------------------------------------------------------------\u001b[0m",
      "\u001b[0;31mNameError\u001b[0m                                 Traceback (most recent call last)",
      "Cell \u001b[0;32mIn[4], line 47\u001b[0m\n\u001b[1;32m     43\u001b[0m     fig\u001b[38;5;241m.\u001b[39mshow()\n\u001b[1;32m     45\u001b[0m \u001b[38;5;66;03m# Assuming sweeper.points is your DataFrame\u001b[39;00m\n\u001b[1;32m     46\u001b[0m \u001b[38;5;66;03m#plot_sweeper_points(sweeper._points)\u001b[39;00m\n\u001b[0;32m---> 47\u001b[0m dd \u001b[38;5;241m=\u001b[39m np\u001b[38;5;241m.\u001b[39marray(\u001b[43mb\u001b[49m)\n\u001b[1;32m     48\u001b[0m ddd \u001b[38;5;241m=\u001b[39m {\n\u001b[1;32m     49\u001b[0m     \u001b[38;5;124m'\u001b[39m\u001b[38;5;124mX\u001b[39m\u001b[38;5;124m'\u001b[39m: dd[:, \u001b[38;5;241m0\u001b[39m],\n\u001b[1;32m     50\u001b[0m     \u001b[38;5;124m'\u001b[39m\u001b[38;5;124mY\u001b[39m\u001b[38;5;124m'\u001b[39m: dd[:, \u001b[38;5;241m1\u001b[39m],\n\u001b[1;32m     51\u001b[0m     \u001b[38;5;124m'\u001b[39m\u001b[38;5;124mZ\u001b[39m\u001b[38;5;124m'\u001b[39m: dd[:, \u001b[38;5;241m2\u001b[39m]\n\u001b[1;32m     52\u001b[0m }\n\u001b[1;32m     54\u001b[0m color \u001b[38;5;241m=\u001b[39m np\u001b[38;5;241m.\u001b[39mlinalg\u001b[38;5;241m.\u001b[39mnorm(dd, axis\u001b[38;5;241m=\u001b[39m\u001b[38;5;241m1\u001b[39m)\n",
      "\u001b[0;31mNameError\u001b[0m: name 'b' is not defined"
     ]
    }
   ],
   "source": [
    "import plotly.io as pio\n",
    "import plotly.graph_objects as go\n",
    "import pandas as pd\n",
    "\n",
    "pio.renderers.default = \"vscode\"\n",
    "\n",
    "def plot_sweeper_points(df):\n",
    "    \"\"\"\n",
    "    Plots a 3D scatter plot of X, Y, Z coordinates from the provided DataFrame.\n",
    "    \"\"\"\n",
    "    fig = go.Figure()\n",
    "\n",
    "    fig.add_trace(go.Scatter3d(\n",
    "        x=df[\"X\"], y=df[\"Y\"], z=df[\"Z\"],\n",
    "        mode='markers',\n",
    "        marker=dict(\n",
    "            size=3,\n",
    "            color=color,  # Coloring based on Z values\n",
    "            colorscale='Viridis',\n",
    "            opacity=0.8\n",
    "        ),\n",
    "        name=\"Sweeper Points\"\n",
    "    ))\n",
    "\n",
    "    # Set aspect ratio based on data range\n",
    "    x_diff = df[\"X\"].max() - df[\"X\"].min()\n",
    "    y_diff = df[\"Y\"].max() - df[\"Y\"].min()\n",
    "    z_diff = df[\"Z\"].max() - df[\"Z\"].min()\n",
    "    aspect_ratio = dict(x=1, y=y_diff / x_diff, z=z_diff / x_diff)\n",
    "\n",
    "    fig.update_layout(\n",
    "        title=\"3D Points Visualization - Sweeper Data\",\n",
    "        scene=dict(\n",
    "            xaxis_title=\"X\",\n",
    "            yaxis_title=\"Y\",\n",
    "            zaxis_title=\"Z\",\n",
    "            aspectmode=\"manual\",\n",
    "            aspectratio=aspect_ratio\n",
    "        ),\n",
    "        margin=dict(l=0, r=0, t=40, b=0)\n",
    "    )\n",
    "\n",
    "    fig.show()\n",
    "\n",
    "# Assuming sweeper.points is your DataFrame\n",
    "#plot_sweeper_points(sweeper._points)\n",
    "dd = np.array(b)\n",
    "ddd = {\n",
    "    'X': dd[:, 0],\n",
    "    'Y': dd[:, 1],\n",
    "    'Z': dd[:, 2]\n",
    "}\n",
    "\n",
    "color = np.linalg.norm(dd, axis=1)\n",
    "\n",
    "plot_sweeper_points(pd.DataFrame(ddd))\n",
    "\n"
   ]
  },
  {
   "cell_type": "code",
   "execution_count": 4,
   "metadata": {},
   "outputs": [],
   "source": [
    "b = [bbb[0] for bbb in sweeper.boresights]"
   ]
  },
  {
   "cell_type": "code",
   "execution_count": 10,
   "metadata": {},
   "outputs": [
    {
     "data": {},
     "metadata": {},
     "output_type": "display_data"
    }
   ],
   "source": [
    "import plotly.io as pio\n",
    "import plotly.graph_objects as go\n",
    "import pandas as pd\n",
    "import numpy as np\n",
    "from sklearn.cluster import DBSCAN\n",
    "from sklearn.preprocessing import StandardScaler\n",
    "\n",
    "pio.renderers.default = \"vscode\"\n",
    "\n",
    "def cluster_sweeper_points(df, eps=500, min_samples=5):\n",
    "    \"\"\"\n",
    "    Applies DBSCAN clustering to X, Y, Z points and returns the DataFrame with cluster labels.\n",
    "    \"\"\"\n",
    "    xyz = df[[\"X\", \"Y\", \"Z\"]].values\n",
    "    xyz_scaled = StandardScaler().fit_transform(xyz)  # Normalize data for better clustering\n",
    "\n",
    "    db = DBSCAN(eps=eps, min_samples=min_samples).fit(xyz_scaled)\n",
    "    df[\"Cluster\"] = db.labels_  # Assign cluster labels (-1 means noise)\n",
    "    \n",
    "    return df\n",
    "\n",
    "def plot_clustered_sweeper_points(df):\n",
    "    \"\"\"\n",
    "    Plots a 3D scatter plot of clustered X, Y, Z points using Plotly.\n",
    "    \"\"\"\n",
    "    fig = go.Figure()\n",
    "\n",
    "    unique_clusters = sorted(df[\"Cluster\"].unique())  # Get unique cluster IDs\n",
    "\n",
    "    for cluster in unique_clusters:\n",
    "        cluster_data = df[df[\"Cluster\"] == cluster]\n",
    "        color = \"black\" if cluster == -1 else None  # Black for noise points\n",
    "\n",
    "        fig.add_trace(go.Scatter3d(\n",
    "            x=cluster_data[\"X\"], y=cluster_data[\"Y\"], z=cluster_data[\"Z\"],\n",
    "            mode='markers',\n",
    "            marker=dict(\n",
    "                size=3,\n",
    "                color=cluster_data[\"Cluster\"],  # Color by cluster\n",
    "                colorscale=\"Viridis\" if color is None else None,\n",
    "                opacity=0.8\n",
    "            ),\n",
    "            name=f\"Cluster {cluster}\" if cluster != -1 else \"Noise\"\n",
    "        ))\n",
    "\n",
    "    # Set aspect ratio\n",
    "    x_diff = df[\"X\"].max() - df[\"X\"].min()\n",
    "    y_diff = df[\"Y\"].max() - df[\"Y\"].min()\n",
    "    z_diff = df[\"Z\"].max() - df[\"Z\"].min()\n",
    "    aspect_ratio = dict(x=1, y=y_diff / x_diff, z=z_diff / x_diff)\n",
    "\n",
    "    fig.update_layout(\n",
    "        title=\"3D Clustered Points Visualization\",\n",
    "        scene=dict(\n",
    "            xaxis_title=\"X\",\n",
    "            yaxis_title=\"Y\",\n",
    "            zaxis_title=\"Z\",\n",
    "            aspectmode=\"manual\",\n",
    "            aspectratio=aspect_ratio\n",
    "        ),\n",
    "        margin=dict(l=0, r=0, t=40, b=0)\n",
    "    )\n",
    "\n",
    "    fig.show()\n",
    "\n",
    "# Apply clustering and plot\n",
    "sweeper.points = cluster_sweeper_points(sweeper._points)\n",
    "plot_clustered_sweeper_points(sweeper.points)\n"
   ]
  },
  {
   "cell_type": "code",
   "execution_count": 5,
   "metadata": {},
   "outputs": [
    {
     "name": "stdout",
     "output_type": "stream",
     "text": [
      "_compute_fov_distances() takes 2 positional arguments but 3 were given 100\n"
     ]
    }
   ],
   "source": [
    "for i in range(1):\n",
    "    try:\n",
    "        #sweeper._step_time()\n",
    "        fovs = sweeper._compute_instrument_rays()\n",
    "        distances = sweeper._compute_fov_distances(fovs, None)\n",
    "    except Exception as e:\n",
    "        print(e, sweeper.current_simulation_step)"
   ]
  },
  {
   "cell_type": "code",
   "execution_count": 5,
   "metadata": {},
   "outputs": [
    {
     "data": {
      "text/plain": [
       "(8505, 85, 8505)"
      ]
     },
     "execution_count": 5,
     "metadata": {},
     "output_type": "execute_result"
    }
   ],
   "source": [
    "len(sweeper._failed_timestamps), d, len(sweeper._failed_timestamps)"
   ]
  },
  {
   "cell_type": "code",
   "execution_count": 12,
   "metadata": {},
   "outputs": [],
   "source": [
    "et = sweeper.current_simulation_timestamp_et\n",
    "bnds = sweeper.instruments[0].compute_views_subinstruments_bounds(et)\n",
    "\n",
    "brs = sweeper.instruments[0].compute_views_instrument_boresight(et)\n",
    "_brs = brs['boresight']\n",
    "\n",
    "rv = []\n",
    "for _id, val in bnds.items():\n",
    "    rv.append(np.linalg.norm(val['bounds'] - _brs, axis=1))\n",
    "\n",
    "# bnds"
   ]
  },
  {
   "cell_type": "code",
   "execution_count": 13,
   "metadata": {},
   "outputs": [
    {
     "data": {
      "text/plain": [
       "[array([2.26660674, 2.45364896, 2.4746574 , 2.2849852 ]),\n",
       " array([1.9409709 , 1.98882013, 1.97074455, 1.92273225]),\n",
       " array([1.72723497, 1.75322272, 1.70663236, 1.67577538]),\n",
       " array([1.81557503, 1.75305178, 1.68222367, 1.73678433]),\n",
       " array([2.12917745, 2.03064162, 1.90881517, 2.00452994]),\n",
       " array([2.49254261, 2.37836653, 2.25085864, 2.36157414]),\n",
       " array([2.46265583, 2.32251244, 2.31170245, 2.46662999]),\n",
       " array([1.72405723, 1.70147224, 1.67202814, 1.69150882]),\n",
       " array([2.29635833, 2.50595027, 2.50059233, 2.27370873])]"
      ]
     },
     "execution_count": 13,
     "metadata": {},
     "output_type": "execute_result"
    }
   ],
   "source": [
    "rv"
   ]
  },
  {
   "cell_type": "code",
   "execution_count": 68,
   "metadata": {},
   "outputs": [
    {
     "data": {
      "text/plain": [
       "['/media/mglos/HDD_8TB1/SPICE/ck/lrosc_2009170_2009172_v01.bc',\n",
       " '/media/mglos/HDD_8TB1/SPICE/ck/lrosc_2009172_2009182_v01.bc',\n",
       " '/media/mglos/HDD_8TB1/SPICE/ck/lrosc_2009182_2009192_v01.bc',\n",
       " '/media/mglos/HDD_8TB1/SPICE/ck/lrosc_2009192_2009202_v01.bc',\n",
       " '/media/mglos/HDD_8TB1/SPICE/ck/lrosc_2009202_2009213_v01.bc',\n",
       " '/media/mglos/HDD_8TB1/SPICE/ck/lrosc_2009213_2009223_v01.bc',\n",
       " '/media/mglos/HDD_8TB1/SPICE/ck/lrosc_2009223_2009233_v01.bc',\n",
       " '/media/mglos/HDD_8TB1/SPICE/ck/lrosc_2009233_2009244_v01.bc',\n",
       " '/media/mglos/HDD_8TB1/SPICE/ck/lrosc_2009244_2009254_v01.bc',\n",
       " '/media/mglos/HDD_8TB1/SPICE/ck/lrosc_2009254_2009264_v01.bc',\n",
       " '/media/mglos/HDD_8TB1/SPICE/ck/lrosc_2009264_2009274_v01.bc',\n",
       " '/media/mglos/HDD_8TB1/SPICE/ck/lrosc_2009274_2009284_v01.bc',\n",
       " '/media/mglos/HDD_8TB1/SPICE/ck/lrosc_2009284_2009294_v01.bc',\n",
       " '/media/mglos/HDD_8TB1/SPICE/ck/lrosc_2009294_2009305_v01.bc',\n",
       " '/media/mglos/HDD_8TB1/SPICE/ck/lrosc_2009305_2009315_v01.bc',\n",
       " '/media/mglos/HDD_8TB1/SPICE/ck/lrosc_2009315_2009325_v01.bc',\n",
       " '/media/mglos/HDD_8TB1/SPICE/ck/lrosc_2009325_2009335_v01.bc',\n",
       " '/media/mglos/HDD_8TB1/SPICE/ck/lrosc_2009335_2009345_v01.bc',\n",
       " '/media/mglos/HDD_8TB1/SPICE/ck/lrosc_2009345_2009355_v01.bc',\n",
       " '/media/mglos/HDD_8TB1/SPICE/ck/lrosc_2009355_2010001_v01.bc',\n",
       " '/media/mglos/HDD_8TB1/SPICE/ck/lrosc_2010001_2010011_v01.bc',\n",
       " '/media/mglos/HDD_8TB1/SPICE/ck/lrosc_2010011_2010021_v01.bc',\n",
       " '/media/mglos/HDD_8TB1/SPICE/ck/lrosc_2010021_2010032_v01.bc',\n",
       " '/media/mglos/HDD_8TB1/SPICE/ck/lrosc_2010032_2010040_v01.bc',\n",
       " '/media/mglos/HDD_8TB1/SPICE/ck/lrosc_2010042_2010052_v01.bc',\n",
       " '/media/mglos/HDD_8TB1/SPICE/ck/lrosc_2010052_2010060_v01.bc',\n",
       " '/media/mglos/HDD_8TB1/SPICE/ck/lrosc_2010060_2010070_v01.bc',\n",
       " '/media/mglos/HDD_8TB1/SPICE/ck/lrosc_2010070_2010080_v01.bc',\n",
       " '/media/mglos/HDD_8TB1/SPICE/ck/lrosc_2010080_2010091_v01.bc',\n",
       " '/media/mglos/HDD_8TB1/SPICE/ck/lrosc_2010091_2010101_v01.bc',\n",
       " '/media/mglos/HDD_8TB1/SPICE/ck/lrosc_2010101_2010111_v01.bc',\n",
       " '/media/mglos/HDD_8TB1/SPICE/ck/lrosc_2010111_2010121_v01.bc',\n",
       " '/media/mglos/HDD_8TB1/SPICE/ck/lrosc_2010121_2010131_v01.bc',\n",
       " '/media/mglos/HDD_8TB1/SPICE/ck/lrosc_2010131_2010141_v01.bc',\n",
       " '/media/mglos/HDD_8TB1/SPICE/ck/lrosc_2010141_2010152_v01.bc',\n",
       " '/media/mglos/HDD_8TB1/SPICE/ck/lrosc_2010152_2010162_v01.bc',\n",
       " '/media/mglos/HDD_8TB1/SPICE/ck/lrosc_2010162_2010172_v01.bc',\n",
       " '/media/mglos/HDD_8TB1/SPICE/ck/lrosc_2010172_2010182_v01.bc',\n",
       " '/media/mglos/HDD_8TB1/SPICE/ck/lrosc_2010182_2010192_v01.bc',\n",
       " '/media/mglos/HDD_8TB1/SPICE/ck/lrosc_2010192_2010202_v01.bc',\n",
       " '/media/mglos/HDD_8TB1/SPICE/ck/lrosc_2010202_2010213_v01.bc',\n",
       " '/media/mglos/HDD_8TB1/SPICE/ck/lrosc_2010213_2010223_v01.bc',\n",
       " '/media/mglos/HDD_8TB1/SPICE/ck/lrosc_2010223_2010233_v01.bc',\n",
       " '/media/mglos/HDD_8TB1/SPICE/ck/lrosc_2010233_2010244_v01.bc',\n",
       " '/media/mglos/HDD_8TB1/SPICE/ck/lrosc_2010244_2010254_v01.bc',\n",
       " '/media/mglos/HDD_8TB1/SPICE/ck/lrosc_2010254_2010264_v01.bc',\n",
       " '/media/mglos/HDD_8TB1/SPICE/ck/lrosc_2010264_2010274_v01.bc',\n",
       " '/media/mglos/HDD_8TB1/SPICE/ck/lrosc_2010274_2010284_v01.bc',\n",
       " '/media/mglos/HDD_8TB1/SPICE/ck/lrosc_2010284_2010294_v01.bc',\n",
       " '/media/mglos/HDD_8TB1/SPICE/ck/lrosc_2010294_2010305_v01.bc',\n",
       " '/media/mglos/HDD_8TB1/SPICE/ck/lrosc_2010305_2010315_v01.bc',\n",
       " '/media/mglos/HDD_8TB1/SPICE/ck/lrosc_2010315_2010325_v01.bc',\n",
       " '/media/mglos/HDD_8TB1/SPICE/ck/lrosc_2010325_2010335_v01.bc',\n",
       " '/media/mglos/HDD_8TB1/SPICE/ck/lrosc_2010335_2010345_v01.bc',\n",
       " '/media/mglos/HDD_8TB1/SPICE/ck/lrosc_2010345_2010355_v01.bc',\n",
       " '/media/mglos/HDD_8TB1/SPICE/ck/lrosc_2010355_2011001_v01.bc',\n",
       " '/media/mglos/HDD_8TB1/SPICE/ck/lrosc_2011001_2011011_v01.bc',\n",
       " '/media/mglos/HDD_8TB1/SPICE/ck/lrosc_2011011_2011021_v01.bc',\n",
       " '/media/mglos/HDD_8TB1/SPICE/ck/lrosc_2011021_2011032_v01.bc',\n",
       " '/media/mglos/HDD_8TB1/SPICE/ck/lrosc_2011032_2011042_v01.bc',\n",
       " '/media/mglos/HDD_8TB1/SPICE/ck/lrosc_2011042_2011052_v01.bc',\n",
       " '/media/mglos/HDD_8TB1/SPICE/ck/lrosc_2011052_2011060_v01.bc',\n",
       " '/media/mglos/HDD_8TB1/SPICE/ck/lrosc_2011060_2011070_v01.bc',\n",
       " '/media/mglos/HDD_8TB1/SPICE/ck/lrosc_2011070_2011080_v01.bc',\n",
       " '/media/mglos/HDD_8TB1/SPICE/ck/lrosc_2011080_2011091_v01.bc',\n",
       " '/media/mglos/HDD_8TB1/SPICE/ck/lrosc_2011091_2011101_v01.bc',\n",
       " '/media/mglos/HDD_8TB1/SPICE/ck/lrosc_2011101_2011111_v01.bc',\n",
       " '/media/mglos/HDD_8TB1/SPICE/ck/lrosc_2011111_2011121_v01.bc',\n",
       " '/media/mglos/HDD_8TB1/SPICE/ck/lrosc_2011121_2011131_v01.bc',\n",
       " '/media/mglos/HDD_8TB1/SPICE/ck/lrosc_2011131_2011141_v01.bc',\n",
       " '/media/mglos/HDD_8TB1/SPICE/ck/lrosc_2011141_2011152_v01.bc',\n",
       " '/media/mglos/HDD_8TB1/SPICE/ck/lrosc_2011152_2011162_v01.bc',\n",
       " '/media/mglos/HDD_8TB1/SPICE/ck/lrosc_2011162_2011165_v01.bc',\n",
       " '/media/mglos/HDD_8TB1/SPICE/ck/lrosc_2011166_2011172_v01.bc',\n",
       " '/media/mglos/HDD_8TB1/SPICE/ck/lrosc_2011172_2011182_v01.bc',\n",
       " '/media/mglos/HDD_8TB1/SPICE/ck/lrosc_2011182_2011192_v01.bc',\n",
       " '/media/mglos/HDD_8TB1/SPICE/ck/lrosc_2011192_2011202_v01.bc',\n",
       " '/media/mglos/HDD_8TB1/SPICE/ck/lrosc_2011202_2011213_v01.bc',\n",
       " '/media/mglos/HDD_8TB1/SPICE/ck/lrosc_2011213_2011223_v01.bc',\n",
       " '/media/mglos/HDD_8TB1/SPICE/ck/lrosc_2011223_2011233_v01.bc',\n",
       " '/media/mglos/HDD_8TB1/SPICE/ck/lrosc_2011233_2011244_v01.bc',\n",
       " '/media/mglos/HDD_8TB1/SPICE/ck/lrosc_2011244_2011254_v01.bc',\n",
       " '/media/mglos/HDD_8TB1/SPICE/ck/lrosc_2011254_2011258_v01.bc',\n",
       " '/media/mglos/HDD_8TB1/SPICE/ck/lrosc_2011258_2011264_v01.bc',\n",
       " '/media/mglos/HDD_8TB1/SPICE/ck/lrosc_2011264_2011274_v01.bc',\n",
       " '/media/mglos/HDD_8TB1/SPICE/ck/lrosc_2011274_2011284_v01.bc',\n",
       " '/media/mglos/HDD_8TB1/SPICE/ck/lrosc_2011284_2011294_v01.bc',\n",
       " '/media/mglos/HDD_8TB1/SPICE/ck/lrosc_2011294_2011305_v01.bc',\n",
       " '/media/mglos/HDD_8TB1/SPICE/ck/lrosc_2011305_2011315_v01.bc',\n",
       " '/media/mglos/HDD_8TB1/SPICE/ck/lrosc_2011315_2011325_v01.bc',\n",
       " '/media/mglos/HDD_8TB1/SPICE/ck/lrosc_2011325_2011335_v01.bc',\n",
       " '/media/mglos/HDD_8TB1/SPICE/ck/lrosc_2011335_2011345_v01.bc',\n",
       " '/media/mglos/HDD_8TB1/SPICE/ck/lrosc_2011345_2011349_v01.bc',\n",
       " '/media/mglos/HDD_8TB1/SPICE/ck/lrosc_2011349_2011355_v01.bc',\n",
       " '/media/mglos/HDD_8TB1/SPICE/ck/lrosc_2011355_2012001_v01.bc',\n",
       " '/media/mglos/HDD_8TB1/SPICE/ck/lrosc_2012001_2012011_v02.bc',\n",
       " '/media/mglos/HDD_8TB1/SPICE/ck/lrosc_2012001_2012011_v01.bc',\n",
       " '/media/mglos/HDD_8TB1/SPICE/ck/lrosc_2012011_2012021_v02.bc',\n",
       " '/media/mglos/HDD_8TB1/SPICE/ck/lrosc_2012011_2012021_v01.bc',\n",
       " '/media/mglos/HDD_8TB1/SPICE/ck/lrosc_2012021_2012032_v02.bc',\n",
       " '/media/mglos/HDD_8TB1/SPICE/ck/lrosc_2012021_2012032_v01.bc',\n",
       " '/media/mglos/HDD_8TB1/SPICE/ck/lrosc_2012032_2012042_v02.bc',\n",
       " '/media/mglos/HDD_8TB1/SPICE/ck/lrosc_2012032_2012042_v01.bc',\n",
       " '/media/mglos/HDD_8TB1/SPICE/ck/lrosc_2012042_2012052_v02.bc',\n",
       " '/media/mglos/HDD_8TB1/SPICE/ck/lrosc_2012042_2012052_v01.bc',\n",
       " '/media/mglos/HDD_8TB1/SPICE/ck/lrosc_2012052_2012061_v02.bc',\n",
       " '/media/mglos/HDD_8TB1/SPICE/ck/lrosc_2012052_2012061_v01.bc',\n",
       " '/media/mglos/HDD_8TB1/SPICE/ck/lrosc_2012061_2012071_v02.bc',\n",
       " '/media/mglos/HDD_8TB1/SPICE/ck/lrosc_2012061_2012071_v01.bc',\n",
       " '/media/mglos/HDD_8TB1/SPICE/ck/lrosc_2012071_2012076_v02.bc',\n",
       " '/media/mglos/HDD_8TB1/SPICE/ck/lrosc_2012071_2012076_v01.bc',\n",
       " '/media/mglos/HDD_8TB1/SPICE/ck/lrosc_2012076_2012081_v02.bc',\n",
       " '/media/mglos/HDD_8TB1/SPICE/ck/lrosc_2012076_2012081_v01.bc',\n",
       " '/media/mglos/HDD_8TB1/SPICE/ck/lrosc_2012081_2012092_v02.bc',\n",
       " '/media/mglos/HDD_8TB1/SPICE/ck/lrosc_2012081_2012092_v01.bc',\n",
       " '/media/mglos/HDD_8TB1/SPICE/ck/lrosc_2012092_2012102_v02.bc',\n",
       " '/media/mglos/HDD_8TB1/SPICE/ck/lrosc_2012092_2012102_v01.bc',\n",
       " '/media/mglos/HDD_8TB1/SPICE/ck/lrosc_2012102_2012112_v02.bc',\n",
       " '/media/mglos/HDD_8TB1/SPICE/ck/lrosc_2012102_2012112_v01.bc',\n",
       " '/media/mglos/HDD_8TB1/SPICE/ck/lrosc_2012112_2012122_v02.bc',\n",
       " '/media/mglos/HDD_8TB1/SPICE/ck/lrosc_2012112_2012122_v01.bc',\n",
       " '/media/mglos/HDD_8TB1/SPICE/ck/lrosc_2012122_2012132_v02.bc',\n",
       " '/media/mglos/HDD_8TB1/SPICE/ck/lrosc_2012122_2012132_v01.bc',\n",
       " '/media/mglos/HDD_8TB1/SPICE/ck/lrosc_2012132_2012142_v02.bc',\n",
       " '/media/mglos/HDD_8TB1/SPICE/ck/lrosc_2012132_2012142_v01.bc',\n",
       " '/media/mglos/HDD_8TB1/SPICE/ck/lrosc_2012142_2012153_v02.bc',\n",
       " '/media/mglos/HDD_8TB1/SPICE/ck/lrosc_2012142_2012153_v01.bc',\n",
       " '/media/mglos/HDD_8TB1/SPICE/ck/lrosc_2012153_2012163_v02.bc',\n",
       " '/media/mglos/HDD_8TB1/SPICE/ck/lrosc_2012153_2012163_v01.bc',\n",
       " '/media/mglos/HDD_8TB1/SPICE/ck/lrosc_2012163_2012168_v02.bc',\n",
       " '/media/mglos/HDD_8TB1/SPICE/ck/lrosc_2012163_2012168_v01.bc',\n",
       " '/media/mglos/HDD_8TB1/SPICE/ck/lrosc_2012168_2012173_v02.bc',\n",
       " '/media/mglos/HDD_8TB1/SPICE/ck/lrosc_2012168_2012173_v01.bc',\n",
       " '/media/mglos/HDD_8TB1/SPICE/ck/lrosc_2012173_2012183_v02.bc',\n",
       " '/media/mglos/HDD_8TB1/SPICE/ck/lrosc_2012173_2012183_v01.bc',\n",
       " '/media/mglos/HDD_8TB1/SPICE/ck/lrosc_2012183_2012193_v02.bc',\n",
       " '/media/mglos/HDD_8TB1/SPICE/ck/lrosc_2012183_2012193_v01.bc',\n",
       " '/media/mglos/HDD_8TB1/SPICE/ck/lrosc_2012193_2012203_v02.bc',\n",
       " '/media/mglos/HDD_8TB1/SPICE/ck/lrosc_2012193_2012203_v01.bc',\n",
       " '/media/mglos/HDD_8TB1/SPICE/ck/lrosc_2012203_2012214_v02.bc',\n",
       " '/media/mglos/HDD_8TB1/SPICE/ck/lrosc_2012203_2012214_v01.bc',\n",
       " '/media/mglos/HDD_8TB1/SPICE/ck/lrosc_2012214_2012224_v02.bc',\n",
       " '/media/mglos/HDD_8TB1/SPICE/ck/lrosc_2012214_2012224_v01.bc',\n",
       " '/media/mglos/HDD_8TB1/SPICE/ck/lrosc_2012224_2012234_v02.bc',\n",
       " '/media/mglos/HDD_8TB1/SPICE/ck/lrosc_2012224_2012234_v01.bc',\n",
       " '/media/mglos/HDD_8TB1/SPICE/ck/lrosc_2012234_2012245_v02.bc',\n",
       " '/media/mglos/HDD_8TB1/SPICE/ck/lrosc_2012234_2012245_v01.bc',\n",
       " '/media/mglos/HDD_8TB1/SPICE/ck/lrosc_2012245_2012255_v02.bc',\n",
       " '/media/mglos/HDD_8TB1/SPICE/ck/lrosc_2012245_2012255_v01.bc',\n",
       " '/media/mglos/HDD_8TB1/SPICE/ck/lrosc_2012255_2012259_v02.bc',\n",
       " '/media/mglos/HDD_8TB1/SPICE/ck/lrosc_2012255_2012259_v01.bc',\n",
       " '/media/mglos/HDD_8TB1/SPICE/ck/lrosc_2012259_2012265_v02.bc',\n",
       " '/media/mglos/HDD_8TB1/SPICE/ck/lrosc_2012259_2012265_v01.bc',\n",
       " '/media/mglos/HDD_8TB1/SPICE/ck/lrosc_2012265_2012275_v02.bc',\n",
       " '/media/mglos/HDD_8TB1/SPICE/ck/lrosc_2012265_2012275_v01.bc',\n",
       " '/media/mglos/HDD_8TB1/SPICE/ck/lrosc_2012275_2012285_v02.bc',\n",
       " '/media/mglos/HDD_8TB1/SPICE/ck/lrosc_2012275_2012285_v01.bc',\n",
       " '/media/mglos/HDD_8TB1/SPICE/ck/lrosc_2012285_2012295_v02.bc',\n",
       " '/media/mglos/HDD_8TB1/SPICE/ck/lrosc_2012285_2012295_v01.bc',\n",
       " '/media/mglos/HDD_8TB1/SPICE/ck/lrosc_2012295_2012306_v02.bc',\n",
       " '/media/mglos/HDD_8TB1/SPICE/ck/lrosc_2012295_2012306_v01.bc',\n",
       " '/media/mglos/HDD_8TB1/SPICE/ck/lrosc_2012306_2012316_v02.bc',\n",
       " '/media/mglos/HDD_8TB1/SPICE/ck/lrosc_2012306_2012316_v01.bc',\n",
       " '/media/mglos/HDD_8TB1/SPICE/ck/lrosc_2012316_2012326_v02.bc',\n",
       " '/media/mglos/HDD_8TB1/SPICE/ck/lrosc_2012316_2012326_v01.bc',\n",
       " '/media/mglos/HDD_8TB1/SPICE/ck/lrosc_2012326_2012336_v02.bc',\n",
       " '/media/mglos/HDD_8TB1/SPICE/ck/lrosc_2012326_2012336_v01.bc',\n",
       " '/media/mglos/HDD_8TB1/SPICE/ck/lrosc_2012336_2012346_v02.bc',\n",
       " '/media/mglos/HDD_8TB1/SPICE/ck/lrosc_2012336_2012346_v01.bc',\n",
       " '/media/mglos/HDD_8TB1/SPICE/ck/lrosc_2012346_2012350_v02.bc',\n",
       " '/media/mglos/HDD_8TB1/SPICE/ck/lrosc_2012346_2012350_v01.bc',\n",
       " '/media/mglos/HDD_8TB1/SPICE/ck/lrosc_2012350_2012356_v02.bc',\n",
       " '/media/mglos/HDD_8TB1/SPICE/ck/lrosc_2012350_2012356_v01.bc',\n",
       " '/media/mglos/HDD_8TB1/SPICE/ck/lrosc_2012356_2013001_v02.bc',\n",
       " '/media/mglos/HDD_8TB1/SPICE/ck/lrosc_2012356_2013001_v01.bc',\n",
       " '/media/mglos/HDD_8TB1/SPICE/ck/lrosc_2013001_2013011_v02.bc',\n",
       " '/media/mglos/HDD_8TB1/SPICE/ck/lrosc_2013001_2013011_v01.bc',\n",
       " '/media/mglos/HDD_8TB1/SPICE/ck/lrosc_2013011_2013021_v02.bc',\n",
       " '/media/mglos/HDD_8TB1/SPICE/ck/lrosc_2013011_2013021_v01.bc',\n",
       " '/media/mglos/HDD_8TB1/SPICE/ck/lrosc_2013021_2013032_v02.bc',\n",
       " '/media/mglos/HDD_8TB1/SPICE/ck/lrosc_2013021_2013032_v01.bc',\n",
       " '/media/mglos/HDD_8TB1/SPICE/ck/lrosc_2013032_2013042_v02.bc',\n",
       " '/media/mglos/HDD_8TB1/SPICE/ck/lrosc_2013032_2013042_v01.bc',\n",
       " '/media/mglos/HDD_8TB1/SPICE/ck/lrosc_2013042_2013052_v02.bc',\n",
       " '/media/mglos/HDD_8TB1/SPICE/ck/lrosc_2013042_2013052_v01.bc',\n",
       " '/media/mglos/HDD_8TB1/SPICE/ck/lrosc_2013052_2013060_v02.bc',\n",
       " '/media/mglos/HDD_8TB1/SPICE/ck/lrosc_2013052_2013060_v01.bc',\n",
       " '/media/mglos/HDD_8TB1/SPICE/ck/lrosc_2013060_2013070_v02.bc',\n",
       " '/media/mglos/HDD_8TB1/SPICE/ck/lrosc_2013060_2013070_v01.bc',\n",
       " '/media/mglos/HDD_8TB1/SPICE/ck/lrosc_2013070_2013074_v02.bc',\n",
       " '/media/mglos/HDD_8TB1/SPICE/ck/lrosc_2013070_2013074_v01.bc',\n",
       " '/media/mglos/HDD_8TB1/SPICE/ck/lrosc_2013074_2013080_v02.bc',\n",
       " '/media/mglos/HDD_8TB1/SPICE/ck/lrosc_2013074_2013080_v01.bc',\n",
       " '/media/mglos/HDD_8TB1/SPICE/ck/lrosc_2013080_2013091_v02.bc',\n",
       " '/media/mglos/HDD_8TB1/SPICE/ck/lrosc_2013080_2013091_v01.bc',\n",
       " '/media/mglos/HDD_8TB1/SPICE/ck/lrosc_2013091_2013101_v02.bc',\n",
       " '/media/mglos/HDD_8TB1/SPICE/ck/lrosc_2013091_2013101_v01.bc',\n",
       " '/media/mglos/HDD_8TB1/SPICE/ck/lrosc_2013101_2013111_v02.bc',\n",
       " '/media/mglos/HDD_8TB1/SPICE/ck/lrosc_2013101_2013111_v01.bc',\n",
       " '/media/mglos/HDD_8TB1/SPICE/ck/lrosc_2013111_2013121_v02.bc',\n",
       " '/media/mglos/HDD_8TB1/SPICE/ck/lrosc_2013111_2013121_v01.bc',\n",
       " '/media/mglos/HDD_8TB1/SPICE/ck/lrosc_2013121_2013131_v02.bc',\n",
       " '/media/mglos/HDD_8TB1/SPICE/ck/lrosc_2013121_2013131_v01.bc',\n",
       " '/media/mglos/HDD_8TB1/SPICE/ck/lrosc_2013131_2013141_v02.bc',\n",
       " '/media/mglos/HDD_8TB1/SPICE/ck/lrosc_2013131_2013141_v01.bc',\n",
       " '/media/mglos/HDD_8TB1/SPICE/ck/lrosc_2013141_2013152_v02.bc',\n",
       " '/media/mglos/HDD_8TB1/SPICE/ck/lrosc_2013141_2013152_v01.bc',\n",
       " '/media/mglos/HDD_8TB1/SPICE/ck/lrosc_2013152_2013162_v02.bc',\n",
       " '/media/mglos/HDD_8TB1/SPICE/ck/lrosc_2013152_2013162_v01.bc',\n",
       " '/media/mglos/HDD_8TB1/SPICE/ck/lrosc_2013162_2013166_v02.bc',\n",
       " '/media/mglos/HDD_8TB1/SPICE/ck/lrosc_2013162_2013166_v01.bc',\n",
       " '/media/mglos/HDD_8TB1/SPICE/ck/lrosc_2013166_2013172_v02.bc',\n",
       " '/media/mglos/HDD_8TB1/SPICE/ck/lrosc_2013166_2013172_v01.bc',\n",
       " '/media/mglos/HDD_8TB1/SPICE/ck/lrosc_2013172_2013182_v02.bc',\n",
       " '/media/mglos/HDD_8TB1/SPICE/ck/lrosc_2013172_2013182_v01.bc',\n",
       " '/media/mglos/HDD_8TB1/SPICE/ck/lrosc_2013182_2013192_v01.bc',\n",
       " '/media/mglos/HDD_8TB1/SPICE/ck/lrosc_2013182_2013192_v02.bc',\n",
       " '/media/mglos/HDD_8TB1/SPICE/ck/lrosc_2013192_2013202_v01.bc',\n",
       " '/media/mglos/HDD_8TB1/SPICE/ck/lrosc_2013192_2013202_v02.bc',\n",
       " '/media/mglos/HDD_8TB1/SPICE/ck/lrosc_2013202_2013213_v01.bc',\n",
       " '/media/mglos/HDD_8TB1/SPICE/ck/lrosc_2013202_2013213_v02.bc',\n",
       " '/media/mglos/HDD_8TB1/SPICE/ck/lrosc_2013213_2013223_v02.bc',\n",
       " '/media/mglos/HDD_8TB1/SPICE/ck/lrosc_2013213_2013223_v01.bc',\n",
       " '/media/mglos/HDD_8TB1/SPICE/ck/lrosc_2013223_2013233_v02.bc',\n",
       " '/media/mglos/HDD_8TB1/SPICE/ck/lrosc_2013223_2013233_v01.bc',\n",
       " '/media/mglos/HDD_8TB1/SPICE/ck/lrosc_2013233_2013244_v01.bc',\n",
       " '/media/mglos/HDD_8TB1/SPICE/ck/lrosc_2013233_2013244_v02.bc',\n",
       " '/media/mglos/HDD_8TB1/SPICE/ck/lrosc_2013244_2013254_v01.bc',\n",
       " '/media/mglos/HDD_8TB1/SPICE/ck/lrosc_2013244_2013254_v02.bc',\n",
       " '/media/mglos/HDD_8TB1/SPICE/ck/lrosc_2013254_2013258_v02.bc',\n",
       " '/media/mglos/HDD_8TB1/SPICE/ck/lrosc_2013254_2013258_v01.bc',\n",
       " '/media/mglos/HDD_8TB1/SPICE/ck/lrosc_2013258_2013264_v01.bc',\n",
       " '/media/mglos/HDD_8TB1/SPICE/ck/lrosc_2013258_2013264_v02.bc',\n",
       " '/media/mglos/HDD_8TB1/SPICE/ck/lrosc_2013264_2013274_v01.bc',\n",
       " '/media/mglos/HDD_8TB1/SPICE/ck/lrosc_2013264_2013274_v02.bc',\n",
       " '/media/mglos/HDD_8TB1/SPICE/ck/lrosc_2013274_2013284_v02.bc',\n",
       " '/media/mglos/HDD_8TB1/SPICE/ck/lrosc_2013274_2013284_v01.bc',\n",
       " '/media/mglos/HDD_8TB1/SPICE/ck/lrosc_2013284_2013294_v01.bc',\n",
       " '/media/mglos/HDD_8TB1/SPICE/ck/lrosc_2013284_2013294_v02.bc',\n",
       " '/media/mglos/HDD_8TB1/SPICE/ck/lrosc_2013294_2013305_v02.bc',\n",
       " '/media/mglos/HDD_8TB1/SPICE/ck/lrosc_2013294_2013305_v01.bc',\n",
       " '/media/mglos/HDD_8TB1/SPICE/ck/lrosc_2013305_2013315_v01.bc',\n",
       " '/media/mglos/HDD_8TB1/SPICE/ck/lrosc_2013305_2013315_v02.bc',\n",
       " '/media/mglos/HDD_8TB1/SPICE/ck/lrosc_2013315_2013325_v01.bc',\n",
       " '/media/mglos/HDD_8TB1/SPICE/ck/lrosc_2013315_2013325_v02.bc',\n",
       " '/media/mglos/HDD_8TB1/SPICE/ck/lrosc_2013325_2013334_v01.bc',\n",
       " '/media/mglos/HDD_8TB1/SPICE/ck/lrosc_2013335_2013345_v01.bc',\n",
       " '/media/mglos/HDD_8TB1/SPICE/ck/lrosc_2013345_2013349_v01.bc',\n",
       " '/media/mglos/HDD_8TB1/SPICE/ck/lrosc_2013345_2013349_v02.bc',\n",
       " '/media/mglos/HDD_8TB1/SPICE/ck/lrosc_2013349_2013355_v01.bc',\n",
       " '/media/mglos/HDD_8TB1/SPICE/ck/lrosc_2013349_2013355_v02.bc',\n",
       " '/media/mglos/HDD_8TB1/SPICE/ck/lrosc_2013355_2014001_v01.bc',\n",
       " '/media/mglos/HDD_8TB1/SPICE/ck/lrosc_2013355_2014001_v02.bc',\n",
       " '/media/mglos/HDD_8TB1/SPICE/ck/lrosc_2014001_2014011_v02.bc',\n",
       " '/media/mglos/HDD_8TB1/SPICE/ck/lrosc_2014001_2014011_v01.bc',\n",
       " '/media/mglos/HDD_8TB1/SPICE/ck/lrosc_2014011_2014021_v02.bc',\n",
       " '/media/mglos/HDD_8TB1/SPICE/ck/lrosc_2014011_2014021_v01.bc',\n",
       " '/media/mglos/HDD_8TB1/SPICE/ck/lrosc_2014021_2014032_v02.bc',\n",
       " '/media/mglos/HDD_8TB1/SPICE/ck/lrosc_2014021_2014032_v01.bc',\n",
       " '/media/mglos/HDD_8TB1/SPICE/ck/lrosc_2014032_2014042_v02.bc',\n",
       " '/media/mglos/HDD_8TB1/SPICE/ck/lrosc_2014032_2014042_v01.bc',\n",
       " '/media/mglos/HDD_8TB1/SPICE/ck/lrosc_2014042_2014052_v01.bc',\n",
       " '/media/mglos/HDD_8TB1/SPICE/ck/lrosc_2014042_2014052_v02.bc',\n",
       " '/media/mglos/HDD_8TB1/SPICE/ck/lrosc_2014052_2014060_v01.bc',\n",
       " '/media/mglos/HDD_8TB1/SPICE/ck/lrosc_2014052_2014060_v02.bc',\n",
       " '/media/mglos/HDD_8TB1/SPICE/ck/lrosc_2014060_2014070_v02.bc',\n",
       " '/media/mglos/HDD_8TB1/SPICE/ck/lrosc_2014060_2014070_v01.bc',\n",
       " '/media/mglos/HDD_8TB1/SPICE/ck/lrosc_2014070_2014074_v01.bc',\n",
       " '/media/mglos/HDD_8TB1/SPICE/ck/lrosc_2014070_2014074_v02.bc',\n",
       " '/media/mglos/HDD_8TB1/SPICE/ck/lrosc_2014074_2014080_v02.bc',\n",
       " '/media/mglos/HDD_8TB1/SPICE/ck/lrosc_2014074_2014080_v01.bc',\n",
       " '/media/mglos/HDD_8TB1/SPICE/ck/lrosc_2014080_2014091_v01.bc',\n",
       " '/media/mglos/HDD_8TB1/SPICE/ck/lrosc_2014080_2014091_v02.bc',\n",
       " '/media/mglos/HDD_8TB1/SPICE/ck/lrosc_2014091_2014102_v02.bc',\n",
       " '/media/mglos/HDD_8TB1/SPICE/ck/lrosc_2014091_2014102_v01.bc',\n",
       " '/media/mglos/HDD_8TB1/SPICE/ck/lrosc_2014101_2014111_v01.bc',\n",
       " '/media/mglos/HDD_8TB1/SPICE/ck/lrosc_2014101_2014111_v02.bc',\n",
       " '/media/mglos/HDD_8TB1/SPICE/ck/lrosc_2014111_2014121_v01.bc',\n",
       " '/media/mglos/HDD_8TB1/SPICE/ck/lrosc_2014111_2014121_v02.bc',\n",
       " '/media/mglos/HDD_8TB1/SPICE/ck/lrosc_2014121_2014131_v01.bc',\n",
       " '/media/mglos/HDD_8TB1/SPICE/ck/lrosc_2014121_2014131_v02.bc',\n",
       " '/media/mglos/HDD_8TB1/SPICE/ck/lrosc_2014131_2014141_v02.bc',\n",
       " '/media/mglos/HDD_8TB1/SPICE/ck/lrosc_2014131_2014141_v01.bc',\n",
       " '/media/mglos/HDD_8TB1/SPICE/ck/lrosc_2014141_2014152_v01.bc',\n",
       " '/media/mglos/HDD_8TB1/SPICE/ck/lrosc_2014141_2014152_v02.bc',\n",
       " '/media/mglos/HDD_8TB1/SPICE/ck/lrosc_2014152_2014162_v02.bc',\n",
       " '/media/mglos/HDD_8TB1/SPICE/ck/lrosc_2014152_2014162_v01.bc',\n",
       " '/media/mglos/HDD_8TB1/SPICE/ck/lrosc_2014162_2014166_v02.bc',\n",
       " '/media/mglos/HDD_8TB1/SPICE/ck/lrosc_2014162_2014166_v01.bc',\n",
       " '/media/mglos/HDD_8TB1/SPICE/ck/lrosc_2014166_2014172_v01.bc',\n",
       " '/media/mglos/HDD_8TB1/SPICE/ck/lrosc_2014166_2014172_v02.bc',\n",
       " '/media/mglos/HDD_8TB1/SPICE/ck/lrosc_2014172_2014182_v02.bc',\n",
       " '/media/mglos/HDD_8TB1/SPICE/ck/lrosc_2014172_2014182_v01.bc',\n",
       " '/media/mglos/HDD_8TB1/SPICE/ck/lrosc_2014182_2014192_v02.bc',\n",
       " '/media/mglos/HDD_8TB1/SPICE/ck/lrosc_2014182_2014192_v01.bc',\n",
       " '/media/mglos/HDD_8TB1/SPICE/ck/lrosc_2014192_2014202_v01.bc',\n",
       " '/media/mglos/HDD_8TB1/SPICE/ck/lrosc_2014192_2014202_v02.bc',\n",
       " '/media/mglos/HDD_8TB1/SPICE/ck/lrosc_2014202_2014213_v01.bc',\n",
       " '/media/mglos/HDD_8TB1/SPICE/ck/lrosc_2014202_2014213_v02.bc',\n",
       " '/media/mglos/HDD_8TB1/SPICE/ck/lrosc_2014213_2014223_v01.bc',\n",
       " '/media/mglos/HDD_8TB1/SPICE/ck/lrosc_2014213_2014223_v02.bc',\n",
       " '/media/mglos/HDD_8TB1/SPICE/ck/lrosc_2014223_2014233_v01.bc',\n",
       " '/media/mglos/HDD_8TB1/SPICE/ck/lrosc_2014223_2014233_v02.bc',\n",
       " '/media/mglos/HDD_8TB1/SPICE/ck/lrosc_2014233_2014244_v02.bc',\n",
       " '/media/mglos/HDD_8TB1/SPICE/ck/lrosc_2014233_2014244_v01.bc',\n",
       " '/media/mglos/HDD_8TB1/SPICE/ck/lrosc_2014244_2014254_v01.bc',\n",
       " '/media/mglos/HDD_8TB1/SPICE/ck/lrosc_2014244_2014254_v02.bc',\n",
       " '/media/mglos/HDD_8TB1/SPICE/ck/lrosc_2014254_2014259_v02.bc',\n",
       " '/media/mglos/HDD_8TB1/SPICE/ck/lrosc_2014254_2014259_v01.bc',\n",
       " '/media/mglos/HDD_8TB1/SPICE/ck/lrosc_2014259_2014264_v01.bc',\n",
       " '/media/mglos/HDD_8TB1/SPICE/ck/lrosc_2014259_2014264_v02.bc',\n",
       " '/media/mglos/HDD_8TB1/SPICE/ck/lrosc_2014264_2014274_v02.bc',\n",
       " '/media/mglos/HDD_8TB1/SPICE/ck/lrosc_2014264_2014274_v01.bc',\n",
       " '/media/mglos/HDD_8TB1/SPICE/ck/lrosc_2014274_2014284_v02.bc',\n",
       " '/media/mglos/HDD_8TB1/SPICE/ck/lrosc_2014274_2014284_v01.bc',\n",
       " '/media/mglos/HDD_8TB1/SPICE/ck/lrosc_2014284_2014294_v02.bc',\n",
       " '/media/mglos/HDD_8TB1/SPICE/ck/lrosc_2014284_2014294_v01.bc',\n",
       " '/media/mglos/HDD_8TB1/SPICE/ck/lrosc_2014294_2014305_v02.bc',\n",
       " '/media/mglos/HDD_8TB1/SPICE/ck/lrosc_2014294_2014305_v01.bc',\n",
       " '/media/mglos/HDD_8TB1/SPICE/ck/lrosc_2014305_2014315_v01.bc',\n",
       " '/media/mglos/HDD_8TB1/SPICE/ck/lrosc_2014305_2014315_v02.bc',\n",
       " '/media/mglos/HDD_8TB1/SPICE/ck/lrosc_2014315_2014325_v01.bc',\n",
       " '/media/mglos/HDD_8TB1/SPICE/ck/lrosc_2014315_2014325_v02.bc',\n",
       " '/media/mglos/HDD_8TB1/SPICE/ck/lrosc_2014325_2014335_v02.bc',\n",
       " '/media/mglos/HDD_8TB1/SPICE/ck/lrosc_2014325_2014335_v01.bc',\n",
       " '/media/mglos/HDD_8TB1/SPICE/ck/lrosc_2014335_2014345_v01.bc',\n",
       " '/media/mglos/HDD_8TB1/SPICE/ck/lrosc_2014335_2014345_v02.bc',\n",
       " '/media/mglos/HDD_8TB1/SPICE/ck/lrosc_2014345_2014349_v01.bc',\n",
       " '/media/mglos/HDD_8TB1/SPICE/ck/lrosc_2014345_2014349_v02.bc',\n",
       " '/media/mglos/HDD_8TB1/SPICE/ck/lrosc_2014349_2014355_v01.bc',\n",
       " '/media/mglos/HDD_8TB1/SPICE/ck/lrosc_2014355_2015001_v01.bc',\n",
       " '/media/mglos/HDD_8TB1/SPICE/ck/lrosc_2015001_2015011_v01.bc',\n",
       " '/media/mglos/HDD_8TB1/SPICE/ck/lrosc_2015011_2015021_v01.bc',\n",
       " '/media/mglos/HDD_8TB1/SPICE/ck/lrosc_2015021_2015032_v01.bc',\n",
       " '/media/mglos/HDD_8TB1/SPICE/ck/lrosc_2015032_2015042_v01.bc',\n",
       " '/media/mglos/HDD_8TB1/SPICE/ck/lrosc_2015042_2015052_v01.bc',\n",
       " '/media/mglos/HDD_8TB1/SPICE/ck/lrosc_2015052_2015060_v01.bc',\n",
       " '/media/mglos/HDD_8TB1/SPICE/ck/lrosc_2015060_2015070_v01.bc',\n",
       " '/media/mglos/HDD_8TB1/SPICE/ck/lrosc_2015070_2015074_v01.bc',\n",
       " '/media/mglos/HDD_8TB1/SPICE/ck/lrosc_2015074_2015080_v01.bc',\n",
       " '/media/mglos/HDD_8TB1/SPICE/ck/lrosc_2015080_2015091_v01.bc',\n",
       " '/media/mglos/HDD_8TB1/SPICE/ck/lrosc_2015091_2015101_v01.bc',\n",
       " '/media/mglos/HDD_8TB1/SPICE/ck/lrosc_2015101_2015111_v01.bc',\n",
       " '/media/mglos/HDD_8TB1/SPICE/ck/lrosc_2015111_2015121_v01.bc',\n",
       " '/media/mglos/HDD_8TB1/SPICE/ck/lrosc_2015121_2015131_v01.bc',\n",
       " '/media/mglos/HDD_8TB1/SPICE/ck/lrosc_2015131_2015141_v01.bc',\n",
       " '/media/mglos/HDD_8TB1/SPICE/ck/lrosc_2015141_2015152_v01.bc',\n",
       " '/media/mglos/HDD_8TB1/SPICE/ck/lrosc_2015152_2015162_v01.bc',\n",
       " '/media/mglos/HDD_8TB1/SPICE/ck/lrosc_2015162_2015166_v01.bc',\n",
       " '/media/mglos/HDD_8TB1/SPICE/ck/lrosc_2015166_2015172_v01.bc',\n",
       " '/media/mglos/HDD_8TB1/SPICE/ck/lrosc_2015172_2015182_v01.bc',\n",
       " '/media/mglos/HDD_8TB1/SPICE/ck/lrosc_2015182_2015192_v01.bc',\n",
       " '/media/mglos/HDD_8TB1/SPICE/ck/lrosc_2015192_2015202_v01.bc',\n",
       " '/media/mglos/HDD_8TB1/SPICE/ck/lrosc_2015202_2015213_v01.bc',\n",
       " '/media/mglos/HDD_8TB1/SPICE/ck/lrosc_2015213_2015223_v01.bc',\n",
       " '/media/mglos/HDD_8TB1/SPICE/ck/lrosc_2015223_2015233_v01.bc',\n",
       " '/media/mglos/HDD_8TB1/SPICE/ck/lrosc_2015233_2015244_v01.bc',\n",
       " '/media/mglos/HDD_8TB1/SPICE/ck/lrosc_2015244_2015254_v01.bc',\n",
       " '/media/mglos/HDD_8TB1/SPICE/ck/lrosc_2015254_2015258_v01.bc',\n",
       " '/media/mglos/HDD_8TB1/SPICE/ck/lrosc_2015258_2015264_v01.bc',\n",
       " '/media/mglos/HDD_8TB1/SPICE/ck/lrosc_2015264_2015274_v01.bc',\n",
       " '/media/mglos/HDD_8TB1/SPICE/ck/lrosc_2015274_2015284_v01.bc',\n",
       " '/media/mglos/HDD_8TB1/SPICE/ck/lrosc_2015284_2015294_v01.bc',\n",
       " '/media/mglos/HDD_8TB1/SPICE/ck/lrosc_2015294_2015305_v01.bc',\n",
       " '/media/mglos/HDD_8TB1/SPICE/ck/lrosc_2015305_2015315_v01.bc',\n",
       " '/media/mglos/HDD_8TB1/SPICE/ck/lrosc_2015315_2015325_v01.bc',\n",
       " '/media/mglos/HDD_8TB1/SPICE/ck/lrosc_2015325_2015335_v01.bc',\n",
       " '/media/mglos/HDD_8TB1/SPICE/ck/lrosc_2015335_2015345_v01.bc',\n",
       " '/media/mglos/HDD_8TB1/SPICE/ck/lrosc_2015345_2015349_v01.bc',\n",
       " '/media/mglos/HDD_8TB1/SPICE/ck/lrosc_2015349_2015355_v01.bc',\n",
       " '/media/mglos/HDD_8TB1/SPICE/ck/lrosc_2015355_2016001_v01.bc',\n",
       " '/media/mglos/HDD_8TB1/SPICE/ck/lrosc_2016001_2016011_v01.bc',\n",
       " '/media/mglos/HDD_8TB1/SPICE/ck/lrosc_2016011_2016021_v01.bc',\n",
       " '/media/mglos/HDD_8TB1/SPICE/ck/lrosc_2016021_2016032_v01.bc',\n",
       " '/media/mglos/HDD_8TB1/SPICE/ck/lrosc_2016032_2016042_v01.bc',\n",
       " '/media/mglos/HDD_8TB1/SPICE/ck/lrosc_2016042_2016052_v01.bc',\n",
       " '/media/mglos/HDD_8TB1/SPICE/ck/lrosc_2016052_2016061_v01.bc',\n",
       " '/media/mglos/HDD_8TB1/SPICE/ck/lrosc_2016061_2016071_v01.bc',\n",
       " '/media/mglos/HDD_8TB1/SPICE/ck/lrosc_2016071_2016075_v01.bc',\n",
       " '/media/mglos/HDD_8TB1/SPICE/ck/lrosc_2016075_2016081_v01.bc',\n",
       " '/media/mglos/HDD_8TB1/SPICE/ck/lrosc_2016081_2016092_v01.bc',\n",
       " '/media/mglos/HDD_8TB1/SPICE/ck/lrosc_2016092_2016102_v01.bc',\n",
       " '/media/mglos/HDD_8TB1/SPICE/ck/lrosc_2016102_2016112_v01.bc',\n",
       " '/media/mglos/HDD_8TB1/SPICE/ck/lrosc_2016112_2016122_v01.bc',\n",
       " '/media/mglos/HDD_8TB1/SPICE/ck/lrosc_2016122_2016132_v01.bc',\n",
       " '/media/mglos/HDD_8TB1/SPICE/ck/lrosc_2016132_2016142_v01.bc',\n",
       " '/media/mglos/HDD_8TB1/SPICE/ck/lrosc_2016142_2016153_v01.bc',\n",
       " '/media/mglos/HDD_8TB1/SPICE/ck/lrosc_2016153_2016163_v01.bc',\n",
       " '/media/mglos/HDD_8TB1/SPICE/ck/lrosc_2016163_2016167_v01.bc',\n",
       " '/media/mglos/HDD_8TB1/SPICE/ck/lrosc_2016167_2016173_v01.bc',\n",
       " '/media/mglos/HDD_8TB1/SPICE/ck/lrosc_2016173_2016183_v01.bc',\n",
       " '/media/mglos/HDD_8TB1/SPICE/ck/lrosc_2016183_2016193_v01.bc',\n",
       " '/media/mglos/HDD_8TB1/SPICE/ck/lrosc_2016193_2016203_v01.bc',\n",
       " '/media/mglos/HDD_8TB1/SPICE/ck/lrosc_2016203_2016214_v01.bc',\n",
       " '/media/mglos/HDD_8TB1/SPICE/ck/lrosc_2016214_2016224_v01.bc',\n",
       " '/media/mglos/HDD_8TB1/SPICE/ck/lrosc_2016224_2016234_v01.bc',\n",
       " '/media/mglos/HDD_8TB1/SPICE/ck/lrosc_2016234_2016245_v01.bc',\n",
       " '/media/mglos/HDD_8TB1/SPICE/ck/lrosc_2016245_2016255_v01.bc',\n",
       " '/media/mglos/HDD_8TB1/SPICE/ck/lrosc_2016255_2016259_v01.bc',\n",
       " '/media/mglos/HDD_8TB1/SPICE/ck/lrosc_2016259_2016265_v01.bc',\n",
       " '/media/mglos/HDD_8TB1/SPICE/ck/lrosc_2016265_2016275_v01.bc',\n",
       " '/media/mglos/HDD_8TB1/SPICE/ck/lrosc_2016275_2016285_v01.bc',\n",
       " '/media/mglos/HDD_8TB1/SPICE/ck/lrosc_2016285_2016295_v01.bc',\n",
       " '/media/mglos/HDD_8TB1/SPICE/ck/lrosc_2016295_2016306_v01.bc',\n",
       " '/media/mglos/HDD_8TB1/SPICE/ck/lrosc_2016306_2016316_v01.bc',\n",
       " '/media/mglos/HDD_8TB1/SPICE/ck/lrosc_2016316_2016326_v01.bc',\n",
       " '/media/mglos/HDD_8TB1/SPICE/ck/lrosc_2016326_2016336_v01.bc',\n",
       " '/media/mglos/HDD_8TB1/SPICE/ck/lrosc_2016336_2016346_v01.bc',\n",
       " '/media/mglos/HDD_8TB1/SPICE/ck/lrosc_2016346_2016350_v01.bc',\n",
       " '/media/mglos/HDD_8TB1/SPICE/ck/lrosc_2016350_2016356_v01.bc',\n",
       " '/media/mglos/HDD_8TB1/SPICE/ck/lrosc_2016356_2017001_v01.bc',\n",
       " '/media/mglos/HDD_8TB1/SPICE/ck/lrosc_2017001_2017011_v01.bc',\n",
       " '/media/mglos/HDD_8TB1/SPICE/ck/lrosc_2017011_2017021_v01.bc',\n",
       " '/media/mglos/HDD_8TB1/SPICE/ck/lrosc_2017021_2017032_v01.bc',\n",
       " '/media/mglos/HDD_8TB1/SPICE/ck/lrosc_2017032_2017042_v01.bc',\n",
       " '/media/mglos/HDD_8TB1/SPICE/ck/lrosc_2017042_2017052_v01.bc',\n",
       " '/media/mglos/HDD_8TB1/SPICE/ck/lrosc_2017052_2017060_v01.bc',\n",
       " '/media/mglos/HDD_8TB1/SPICE/ck/lrosc_2017060_2017070_v01.bc',\n",
       " '/media/mglos/HDD_8TB1/SPICE/ck/lrosc_2017070_2017075_v01.bc',\n",
       " '/media/mglos/HDD_8TB1/SPICE/ck/lrosc_2017075_2017080_v01.bc',\n",
       " '/media/mglos/HDD_8TB1/SPICE/ck/lrosc_2017080_2017091_v01.bc',\n",
       " '/media/mglos/HDD_8TB1/SPICE/ck/lrosc_2017091_2017101_v01.bc',\n",
       " '/media/mglos/HDD_8TB1/SPICE/ck/lrosc_2017101_2017111_v01.bc',\n",
       " '/media/mglos/HDD_8TB1/SPICE/ck/lrosc_2017111_2017121_v01.bc',\n",
       " '/media/mglos/HDD_8TB1/SPICE/ck/lrosc_2017121_2017131_v01.bc',\n",
       " '/media/mglos/HDD_8TB1/SPICE/ck/lrosc_2017131_2017141_v01.bc',\n",
       " '/media/mglos/HDD_8TB1/SPICE/ck/lrosc_2017141_2017152_v01.bc',\n",
       " '/media/mglos/HDD_8TB1/SPICE/ck/lrosc_2017152_2017162_v01.bc',\n",
       " '/media/mglos/HDD_8TB1/SPICE/ck/lrosc_2017162_2017166_v01.bc',\n",
       " '/media/mglos/HDD_8TB1/SPICE/ck/lrosc_2017166_2017172_v01.bc',\n",
       " '/media/mglos/HDD_8TB1/SPICE/ck/lrosc_2017172_2017182_v01.bc',\n",
       " '/media/mglos/HDD_8TB1/SPICE/ck/lrosc_2017182_2017192_v01.bc',\n",
       " '/media/mglos/HDD_8TB1/SPICE/ck/lrosc_2017192_2017202_v01.bc',\n",
       " '/media/mglos/HDD_8TB1/SPICE/ck/lrosc_2017202_2017213_v01.bc',\n",
       " '/media/mglos/HDD_8TB1/SPICE/ck/lrosc_2017213_2017223_v01.bc',\n",
       " '/media/mglos/HDD_8TB1/SPICE/ck/lrosc_2017223_2017233_v01.bc',\n",
       " '/media/mglos/HDD_8TB1/SPICE/ck/lrosc_2017233_2017244_v01.bc',\n",
       " '/media/mglos/HDD_8TB1/SPICE/ck/lrosc_2017244_2017254_v01.bc',\n",
       " '/media/mglos/HDD_8TB1/SPICE/ck/lrosc_2017254_2017258_v01.bc',\n",
       " '/media/mglos/HDD_8TB1/SPICE/ck/lrosc_2017258_2017264_v01.bc',\n",
       " '/media/mglos/HDD_8TB1/SPICE/ck/lrosc_2017264_2017274_v01.bc',\n",
       " '/media/mglos/HDD_8TB1/SPICE/ck/lrosc_2017274_2017284_v01.bc',\n",
       " '/media/mglos/HDD_8TB1/SPICE/ck/lrosc_2017284_2017294_v01.bc',\n",
       " '/media/mglos/HDD_8TB1/SPICE/ck/lrosc_2017294_2017305_v01.bc',\n",
       " '/media/mglos/HDD_8TB1/SPICE/ck/lrosc_2017305_2017315_v01.bc',\n",
       " '/media/mglos/HDD_8TB1/SPICE/ck/lrosc_2017315_2017325_v01.bc',\n",
       " '/media/mglos/HDD_8TB1/SPICE/ck/lrosc_2017325_2017335_v01.bc',\n",
       " '/media/mglos/HDD_8TB1/SPICE/ck/lrosc_2017335_2017345_v01.bc',\n",
       " '/media/mglos/HDD_8TB1/SPICE/ck/lrosc_2017345_2017349_v01.bc',\n",
       " '/media/mglos/HDD_8TB1/SPICE/ck/lrosc_2017349_2017355_v01.bc',\n",
       " '/media/mglos/HDD_8TB1/SPICE/ck/lrosc_2017355_2018001_v01.bc',\n",
       " '/media/mglos/HDD_8TB1/SPICE/ck/lrosc_2018001_2018011_v01.bc',\n",
       " '/media/mglos/HDD_8TB1/SPICE/ck/lrosc_2018011_2018021_v01.bc',\n",
       " '/media/mglos/HDD_8TB1/SPICE/ck/lrosc_2018021_2018032_v01.bc',\n",
       " '/media/mglos/HDD_8TB1/SPICE/ck/lrosc_2018032_2018042_v01.bc',\n",
       " '/media/mglos/HDD_8TB1/SPICE/ck/lrosc_2018042_2018052_v01.bc',\n",
       " '/media/mglos/HDD_8TB1/SPICE/ck/lrosc_2018052_2018060_v01.bc',\n",
       " '/media/mglos/HDD_8TB1/SPICE/ck/lrosc_2018060_2018070_v01.bc',\n",
       " '/media/mglos/HDD_8TB1/SPICE/ck/lrosc_2018070_2018074_v01.bc',\n",
       " '/media/mglos/HDD_8TB1/SPICE/ck/lrosc_2018074_2018080_v01.bc',\n",
       " '/media/mglos/HDD_8TB1/SPICE/ck/lrosc_2018080_2018091_v01.bc',\n",
       " '/media/mglos/HDD_8TB1/SPICE/ck/lrosc_2018091_2018101_v01.bc',\n",
       " '/media/mglos/HDD_8TB1/SPICE/ck/lrosc_2018101_2018111_v01.bc',\n",
       " '/media/mglos/HDD_8TB1/SPICE/ck/lrosc_2018111_2018121_v01.bc',\n",
       " '/media/mglos/HDD_8TB1/SPICE/ck/lrosc_2018121_2018131_v01.bc',\n",
       " '/media/mglos/HDD_8TB1/SPICE/ck/lrosc_2018131_2018141_v01.bc',\n",
       " '/media/mglos/HDD_8TB1/SPICE/ck/lrosc_2018141_2018152_v01.bc',\n",
       " '/media/mglos/HDD_8TB1/SPICE/ck/lrosc_2018152_2018162_v01.bc',\n",
       " '/media/mglos/HDD_8TB1/SPICE/ck/lrosc_2018162_2018166_v01.bc',\n",
       " '/media/mglos/HDD_8TB1/SPICE/ck/lrosc_2018166_2018172_v01.bc',\n",
       " '/media/mglos/HDD_8TB1/SPICE/ck/lrosc_2018172_2018182_v01.bc',\n",
       " '/media/mglos/HDD_8TB1/SPICE/ck/lrosc_2018182_2018192_v01.bc',\n",
       " '/media/mglos/HDD_8TB1/SPICE/ck/lrosc_2018192_2018202_v01.bc',\n",
       " '/media/mglos/HDD_8TB1/SPICE/ck/lrosc_2018202_2018213_v01.bc',\n",
       " '/media/mglos/HDD_8TB1/SPICE/ck/lrosc_2018213_2018223_v01.bc',\n",
       " '/media/mglos/HDD_8TB1/SPICE/ck/lrosc_2018223_2018233_v01.bc',\n",
       " '/media/mglos/HDD_8TB1/SPICE/ck/lrosc_2018233_2018244_v01.bc',\n",
       " '/media/mglos/HDD_8TB1/SPICE/ck/lrosc_2018244_2018254_v01.bc',\n",
       " '/media/mglos/HDD_8TB1/SPICE/ck/lrosc_2018254_2018258_v01.bc',\n",
       " '/media/mglos/HDD_8TB1/SPICE/ck/lrosc_2018258_2018264_v01.bc',\n",
       " '/media/mglos/HDD_8TB1/SPICE/ck/lrosc_2018264_2018274_v01.bc',\n",
       " '/media/mglos/HDD_8TB1/SPICE/ck/lrosc_2018274_2018284_v01.bc',\n",
       " '/media/mglos/HDD_8TB1/SPICE/ck/lrosc_2018284_2018294_v01.bc',\n",
       " '/media/mglos/HDD_8TB1/SPICE/ck/lrosc_2018294_2018305_v01.bc',\n",
       " '/media/mglos/HDD_8TB1/SPICE/ck/lrosc_2018305_2018315_v01.bc',\n",
       " '/media/mglos/HDD_8TB1/SPICE/ck/lrosc_2018315_2018325_v01.bc',\n",
       " '/media/mglos/HDD_8TB1/SPICE/ck/lrosc_2018325_2018335_v01.bc',\n",
       " '/media/mglos/HDD_8TB1/SPICE/ck/lrosc_2018335_2018345_v01.bc',\n",
       " '/media/mglos/HDD_8TB1/SPICE/ck/lrosc_2018345_2018349_v01.bc',\n",
       " '/media/mglos/HDD_8TB1/SPICE/ck/lrosc_2018349_2018355_v01.bc',\n",
       " '/media/mglos/HDD_8TB1/SPICE/ck/lrosc_2018355_2019001_v01.bc',\n",
       " '/media/mglos/HDD_8TB1/SPICE/ck/lrosc_2019001_2019011_v01.bc',\n",
       " '/media/mglos/HDD_8TB1/SPICE/ck/lrosc_2019011_2019021_v01.bc',\n",
       " '/media/mglos/HDD_8TB1/SPICE/ck/lrosc_2019021_2019032_v01.bc',\n",
       " '/media/mglos/HDD_8TB1/SPICE/ck/lrosc_2019032_2019042_v01.bc',\n",
       " '/media/mglos/HDD_8TB1/SPICE/ck/lrosc_2019042_2019052_v01.bc',\n",
       " '/media/mglos/HDD_8TB1/SPICE/ck/lrosc_2019052_2019060_v01.bc',\n",
       " '/media/mglos/HDD_8TB1/SPICE/ck/lrosc_2019060_2019070_v01.bc',\n",
       " '/media/mglos/HDD_8TB1/SPICE/ck/lrosc_2019070_2019074_v01.bc',\n",
       " '/media/mglos/HDD_8TB1/SPICE/ck/lrosc_2019074_2019080_v01.bc',\n",
       " '/media/mglos/HDD_8TB1/SPICE/ck/lrosc_2019080_2019091_v01.bc',\n",
       " '/media/mglos/HDD_8TB1/SPICE/ck/lrosc_2019091_2019101_v01.bc',\n",
       " '/media/mglos/HDD_8TB1/SPICE/ck/lrosc_2019101_2019111_v01.bc',\n",
       " '/media/mglos/HDD_8TB1/SPICE/ck/lrosc_2019111_2019121_v01.bc',\n",
       " '/media/mglos/HDD_8TB1/SPICE/ck/lrosc_2019121_2019131_v01.bc',\n",
       " '/media/mglos/HDD_8TB1/SPICE/ck/lrosc_2019131_2019141_v01.bc',\n",
       " '/media/mglos/HDD_8TB1/SPICE/ck/lrosc_2019141_2019152_v01.bc',\n",
       " '/media/mglos/HDD_8TB1/SPICE/ck/lrosc_2019152_2019162_v01.bc',\n",
       " '/media/mglos/HDD_8TB1/SPICE/ck/lrosc_2019162_2019166_v01.bc',\n",
       " '/media/mglos/HDD_8TB1/SPICE/ck/lrosc_2019166_2019172_v01.bc',\n",
       " '/media/mglos/HDD_8TB1/SPICE/ck/lrosc_2019172_2019182_v01.bc',\n",
       " '/media/mglos/HDD_8TB1/SPICE/ck/lrosc_2019182_2019192_v01.bc',\n",
       " '/media/mglos/HDD_8TB1/SPICE/ck/lrosc_2019192_2019202_v01.bc',\n",
       " '/media/mglos/HDD_8TB1/SPICE/ck/lrosc_2019202_2019213_v01.bc',\n",
       " '/media/mglos/HDD_8TB1/SPICE/ck/lrosc_2019213_2019223_v01.bc',\n",
       " '/media/mglos/HDD_8TB1/SPICE/ck/lrosc_2019223_2019233_v01.bc',\n",
       " '/media/mglos/HDD_8TB1/SPICE/ck/lrosc_2019233_2019244_v01.bc',\n",
       " '/media/mglos/HDD_8TB1/SPICE/ck/lrosc_2019244_2019254_v01.bc',\n",
       " '/media/mglos/HDD_8TB1/SPICE/ck/lrosc_2019254_2019258_v01.bc',\n",
       " '/media/mglos/HDD_8TB1/SPICE/ck/lrosc_2019258_2019264_v01.bc',\n",
       " '/media/mglos/HDD_8TB1/SPICE/ck/lrosc_2019264_2019274_v01.bc',\n",
       " '/media/mglos/HDD_8TB1/SPICE/ck/lrosc_2019274_2019284_v01.bc',\n",
       " '/media/mglos/HDD_8TB1/SPICE/ck/lrosc_2019284_2019294_v01.bc',\n",
       " '/media/mglos/HDD_8TB1/SPICE/ck/lrosc_2019294_2019305_v01.bc',\n",
       " '/media/mglos/HDD_8TB1/SPICE/ck/lrosc_2019305_2019315_v01.bc',\n",
       " '/media/mglos/HDD_8TB1/SPICE/ck/lrosc_2019315_2019325_v01.bc',\n",
       " '/media/mglos/HDD_8TB1/SPICE/ck/lrosc_2019325_2019335_v01.bc',\n",
       " '/media/mglos/HDD_8TB1/SPICE/ck/lrosc_2019335_2019345_v01.bc',\n",
       " '/media/mglos/HDD_8TB1/SPICE/ck/lrosc_2019345_2019349_v01.bc',\n",
       " '/media/mglos/HDD_8TB1/SPICE/ck/lrosc_2019349_2019355_v01.bc',\n",
       " '/media/mglos/HDD_8TB1/SPICE/ck/lrosc_2019355_2020001_v01.bc',\n",
       " '/media/mglos/HDD_8TB1/SPICE/ck/lrosc_2020001_2020011_v01.bc',\n",
       " '/media/mglos/HDD_8TB1/SPICE/ck/lrosc_2020011_2020021_v01.bc',\n",
       " '/media/mglos/HDD_8TB1/SPICE/ck/lrosc_2020021_2020032_v01.bc',\n",
       " '/media/mglos/HDD_8TB1/SPICE/ck/lrosc_2020032_2020042_v01.bc',\n",
       " '/media/mglos/HDD_8TB1/SPICE/ck/lrosc_2020042_2020052_v01.bc',\n",
       " '/media/mglos/HDD_8TB1/SPICE/ck/lrosc_2020052_2020061_v01.bc',\n",
       " '/media/mglos/HDD_8TB1/SPICE/ck/lrosc_2020061_2020071_v01.bc',\n",
       " '/media/mglos/HDD_8TB1/SPICE/ck/lrosc_2020071_2020075_v01.bc',\n",
       " '/media/mglos/HDD_8TB1/SPICE/ck/lrosc_2020075_2020081_v01.bc',\n",
       " '/media/mglos/HDD_8TB1/SPICE/ck/lrosc_2020081_2020092_v01.bc',\n",
       " '/media/mglos/HDD_8TB1/SPICE/ck/lrosc_2020092_2020102_v01.bc',\n",
       " '/media/mglos/HDD_8TB1/SPICE/ck/lrosc_2020102_2020112_v01.bc',\n",
       " '/media/mglos/HDD_8TB1/SPICE/ck/lrosc_2020112_2020122_v01.bc',\n",
       " '/media/mglos/HDD_8TB1/SPICE/ck/lrosc_2020122_2020132_v01.bc',\n",
       " '/media/mglos/HDD_8TB1/SPICE/ck/lrosc_2020132_2020142_v01.bc',\n",
       " '/media/mglos/HDD_8TB1/SPICE/ck/lrosc_2020142_2020153_v01.bc',\n",
       " '/media/mglos/HDD_8TB1/SPICE/ck/lrosc_2020153_2020163_v01.bc',\n",
       " '/media/mglos/HDD_8TB1/SPICE/ck/lrosc_2020163_2020167_v01.bc',\n",
       " '/media/mglos/HDD_8TB1/SPICE/ck/lrosc_2020167_2020173_v01.bc',\n",
       " '/media/mglos/HDD_8TB1/SPICE/ck/lrosc_2020173_2020183_v01.bc',\n",
       " '/media/mglos/HDD_8TB1/SPICE/ck/lrosc_2020183_2020193_v01.bc',\n",
       " '/media/mglos/HDD_8TB1/SPICE/ck/lrosc_2020193_2020203_v01.bc',\n",
       " '/media/mglos/HDD_8TB1/SPICE/ck/lrosc_2020203_2020214_v01.bc',\n",
       " '/media/mglos/HDD_8TB1/SPICE/ck/lrosc_2020214_2020224_v01.bc',\n",
       " '/media/mglos/HDD_8TB1/SPICE/ck/lrosc_2020224_2020234_v01.bc',\n",
       " '/media/mglos/HDD_8TB1/SPICE/ck/lrosc_2020234_2020245_v01.bc',\n",
       " '/media/mglos/HDD_8TB1/SPICE/ck/lrosc_2020245_2020255_v01.bc',\n",
       " '/media/mglos/HDD_8TB1/SPICE/ck/lrosc_2020255_2020259_v01.bc',\n",
       " '/media/mglos/HDD_8TB1/SPICE/ck/lrosc_2020259_2020265_v01.bc',\n",
       " '/media/mglos/HDD_8TB1/SPICE/ck/lrosc_2020265_2020275_v01.bc',\n",
       " '/media/mglos/HDD_8TB1/SPICE/ck/lrosc_2020275_2020285_v01.bc',\n",
       " '/media/mglos/HDD_8TB1/SPICE/ck/lrosc_2020285_2020295_v01.bc',\n",
       " '/media/mglos/HDD_8TB1/SPICE/ck/lrosc_2020295_2020306_v01.bc',\n",
       " '/media/mglos/HDD_8TB1/SPICE/ck/lrosc_2020306_2020316_v01.bc',\n",
       " '/media/mglos/HDD_8TB1/SPICE/ck/lrosc_2020316_2020326_v01.bc',\n",
       " '/media/mglos/HDD_8TB1/SPICE/ck/lrosc_2020326_2020336_v01.bc',\n",
       " '/media/mglos/HDD_8TB1/SPICE/ck/lrosc_2020336_2020346_v01.bc',\n",
       " '/media/mglos/HDD_8TB1/SPICE/ck/lrosc_2020346_2020350_v01.bc',\n",
       " '/media/mglos/HDD_8TB1/SPICE/ck/lrosc_2020350_2020356_v01.bc',\n",
       " '/media/mglos/HDD_8TB1/SPICE/ck/lrosc_2020356_2021001_v01.bc',\n",
       " '/media/mglos/HDD_8TB1/SPICE/ck/lrosc_2021001_2021011_v01.bc',\n",
       " '/media/mglos/HDD_8TB1/SPICE/ck/lrosc_2021011_2021021_v01.bc',\n",
       " '/media/mglos/HDD_8TB1/SPICE/ck/lrosc_2021021_2021032_v01.bc',\n",
       " '/media/mglos/HDD_8TB1/SPICE/ck/lrosc_2021032_2021042_v01.bc',\n",
       " '/media/mglos/HDD_8TB1/SPICE/ck/lrosc_2021042_2021052_v01.bc',\n",
       " '/media/mglos/HDD_8TB1/SPICE/ck/lrosc_2021052_2021060_v01.bc',\n",
       " '/media/mglos/HDD_8TB1/SPICE/ck/lrosc_2021060_2021070_v01.bc',\n",
       " '/media/mglos/HDD_8TB1/SPICE/ck/lrosc_2021070_2021074_v01.bc',\n",
       " '/media/mglos/HDD_8TB1/SPICE/ck/lrosc_2021074_2021080_v01.bc',\n",
       " '/media/mglos/HDD_8TB1/SPICE/ck/lrosc_2021080_2021091_v01.bc',\n",
       " '/media/mglos/HDD_8TB1/SPICE/ck/lrosc_2021091_2021101_v01.bc',\n",
       " '/media/mglos/HDD_8TB1/SPICE/ck/lrosc_2021101_2021111_v01.bc',\n",
       " '/media/mglos/HDD_8TB1/SPICE/ck/lrosc_2021111_2021121_v01.bc',\n",
       " '/media/mglos/HDD_8TB1/SPICE/ck/lrosc_2021121_2021131_v01.bc',\n",
       " '/media/mglos/HDD_8TB1/SPICE/ck/lrosc_2021131_2021141_v01.bc',\n",
       " '/media/mglos/HDD_8TB1/SPICE/ck/lrosc_2021141_2021152_v01.bc',\n",
       " '/media/mglos/HDD_8TB1/SPICE/ck/lrosc_2021152_2021162_v01.bc',\n",
       " '/media/mglos/HDD_8TB1/SPICE/ck/lrosc_2021162_2021166_v01.bc',\n",
       " '/media/mglos/HDD_8TB1/SPICE/ck/lrosc_2021166_2021172_v01.bc',\n",
       " '/media/mglos/HDD_8TB1/SPICE/ck/lrosc_2021172_2021182_v01.bc',\n",
       " '/media/mglos/HDD_8TB1/SPICE/ck/lrosc_2021182_2021192_v01.bc',\n",
       " '/media/mglos/HDD_8TB1/SPICE/ck/lrosc_2021192_2021202_v01.bc',\n",
       " '/media/mglos/HDD_8TB1/SPICE/ck/lrosc_2021202_2021213_v01.bc',\n",
       " '/media/mglos/HDD_8TB1/SPICE/ck/lrosc_2021213_2021223_v01.bc',\n",
       " '/media/mglos/HDD_8TB1/SPICE/ck/lrosc_2021223_2021233_v01.bc',\n",
       " '/media/mglos/HDD_8TB1/SPICE/ck/lrosc_2021233_2021244_v01.bc',\n",
       " '/media/mglos/HDD_8TB1/SPICE/ck/lrosc_2021244_2021254_v01.bc',\n",
       " '/media/mglos/HDD_8TB1/SPICE/ck/lrosc_2021254_2021258_v01.bc',\n",
       " '/media/mglos/HDD_8TB1/SPICE/ck/lrosc_2021258_2021264_v01.bc',\n",
       " '/media/mglos/HDD_8TB1/SPICE/ck/lrosc_2021264_2021274_v01.bc',\n",
       " '/media/mglos/HDD_8TB1/SPICE/ck/lrosc_2021274_2021284_v01.bc',\n",
       " '/media/mglos/HDD_8TB1/SPICE/ck/lrosc_2021284_2021294_v01.bc',\n",
       " '/media/mglos/HDD_8TB1/SPICE/ck/lrosc_2021294_2021305_v01.bc',\n",
       " '/media/mglos/HDD_8TB1/SPICE/ck/lrosc_2021305_2021315_v01.bc',\n",
       " '/media/mglos/HDD_8TB1/SPICE/ck/lrosc_2021315_2021325_v01.bc',\n",
       " '/media/mglos/HDD_8TB1/SPICE/ck/lrosc_2021325_2021335_v01.bc',\n",
       " '/media/mglos/HDD_8TB1/SPICE/ck/lrosc_2021335_2021345_v01.bc',\n",
       " '/media/mglos/HDD_8TB1/SPICE/ck/lrosc_2021345_2021349_v01.bc',\n",
       " '/media/mglos/HDD_8TB1/SPICE/ck/lrosc_2021349_2021355_v01.bc',\n",
       " '/media/mglos/HDD_8TB1/SPICE/ck/lrosc_2021355_2022001_v01.bc',\n",
       " '/media/mglos/HDD_8TB1/SPICE/ck/lrosc_2022001_2022011_v01.bc',\n",
       " '/media/mglos/HDD_8TB1/SPICE/ck/lrosc_2022011_2022021_v01.bc',\n",
       " '/media/mglos/HDD_8TB1/SPICE/ck/lrosc_2022021_2022032_v01.bc',\n",
       " '/media/mglos/HDD_8TB1/SPICE/ck/lrosc_2022032_2022042_v01.bc',\n",
       " '/media/mglos/HDD_8TB1/SPICE/ck/lrosc_2022042_2022052_v01.bc',\n",
       " '/media/mglos/HDD_8TB1/SPICE/ck/lrosc_2022052_2022060_v01.bc',\n",
       " '/media/mglos/HDD_8TB1/SPICE/ck/lrosc_2022060_2022070_v01.bc',\n",
       " '/media/mglos/HDD_8TB1/SPICE/ck/lrosc_2022070_2022074_v01.bc',\n",
       " '/media/mglos/HDD_8TB1/SPICE/ck/lrosc_2022074_2022080_v01.bc',\n",
       " '/media/mglos/HDD_8TB1/SPICE/ck/lrosc_2022080_2022091_v01.bc',\n",
       " '/media/mglos/HDD_8TB1/SPICE/ck/lrosc_2022091_2022101_v01.bc',\n",
       " '/media/mglos/HDD_8TB1/SPICE/ck/lrosc_2022101_2022111_v01.bc',\n",
       " '/media/mglos/HDD_8TB1/SPICE/ck/lrosc_2022111_2022121_v01.bc',\n",
       " '/media/mglos/HDD_8TB1/SPICE/ck/lrosc_2022121_2022131_v01.bc',\n",
       " '/media/mglos/HDD_8TB1/SPICE/ck/lrosc_2022131_2022141_v01.bc',\n",
       " '/media/mglos/HDD_8TB1/SPICE/ck/lrosc_2022141_2022152_v01.bc',\n",
       " '/media/mglos/HDD_8TB1/SPICE/ck/lrosc_2022152_2022162_v01.bc',\n",
       " '/media/mglos/HDD_8TB1/SPICE/ck/lrosc_2022162_2022166_v01.bc',\n",
       " '/media/mglos/HDD_8TB1/SPICE/ck/lrosc_2022166_2022172_v01.bc',\n",
       " '/media/mglos/HDD_8TB1/SPICE/ck/lrosc_2022172_2022182_v01.bc',\n",
       " '/media/mglos/HDD_8TB1/SPICE/ck/lrosc_2022182_2022192_v01.bc',\n",
       " '/media/mglos/HDD_8TB1/SPICE/ck/lrosc_2022192_2022202_v01.bc',\n",
       " '/media/mglos/HDD_8TB1/SPICE/ck/lrosc_2022202_2022213_v01.bc',\n",
       " '/media/mglos/HDD_8TB1/SPICE/ck/lrosc_2022213_2022223_v01.bc',\n",
       " '/media/mglos/HDD_8TB1/SPICE/ck/lrosc_2022223_2022233_v01.bc',\n",
       " '/media/mglos/HDD_8TB1/SPICE/ck/lrosc_2022233_2022244_v01.bc',\n",
       " '/media/mglos/HDD_8TB1/SPICE/ck/lrosc_2022244_2022254_v01.bc',\n",
       " '/media/mglos/HDD_8TB1/SPICE/ck/lrosc_2022254_2022258_v01.bc',\n",
       " '/media/mglos/HDD_8TB1/SPICE/ck/lrosc_2022258_2022264_v01.bc',\n",
       " '/media/mglos/HDD_8TB1/SPICE/ck/lrosc_2022264_2022274_v01.bc',\n",
       " '/media/mglos/HDD_8TB1/SPICE/ck/lrosc_2022274_2022284_v01.bc',\n",
       " '/media/mglos/HDD_8TB1/SPICE/ck/lrosc_2022284_2022294_v01.bc',\n",
       " '/media/mglos/HDD_8TB1/SPICE/ck/lrosc_2022294_2022305_v01.bc',\n",
       " '/media/mglos/HDD_8TB1/SPICE/ck/lrosc_2022305_2022315_v01.bc',\n",
       " '/media/mglos/HDD_8TB1/SPICE/ck/lrosc_2022315_2022325_v01.bc',\n",
       " '/media/mglos/HDD_8TB1/SPICE/ck/lrosc_2022325_2022335_v01.bc',\n",
       " '/media/mglos/HDD_8TB1/SPICE/ck/lrosc_2022335_2022345_v01.bc',\n",
       " '/media/mglos/HDD_8TB1/SPICE/ck/lrosc_2022345_2022349_v01.bc',\n",
       " '/media/mglos/HDD_8TB1/SPICE/ck/lrosc_2022349_2022355_v01.bc',\n",
       " '/media/mglos/HDD_8TB1/SPICE/ck/lrosc_2022355_2023001_v01.bc',\n",
       " '/media/mglos/HDD_8TB1/SPICE/ck/lrosc_2023001_2023011_v01.bc',\n",
       " '/media/mglos/HDD_8TB1/SPICE/ck/lrosc_2023011_2023021_v01.bc',\n",
       " '/media/mglos/HDD_8TB1/SPICE/ck/lrosc_2023021_2023032_v01.bc',\n",
       " '/media/mglos/HDD_8TB1/SPICE/ck/lrosc_2023032_2023042_v01.bc',\n",
       " '/media/mglos/HDD_8TB1/SPICE/ck/lrosc_2023042_2023052_v01.bc',\n",
       " '/media/mglos/HDD_8TB1/SPICE/ck/lrosc_2023052_2023060_v01.bc',\n",
       " '/media/mglos/HDD_8TB1/SPICE/ck/lrosc_2023060_2023070_v01.bc',\n",
       " '/media/mglos/HDD_8TB1/SPICE/ck/lrosc_2023070_2023074_v01.bc',\n",
       " '/media/mglos/HDD_8TB1/SPICE/ck/lrosc_2023074_2023080_v01.bc',\n",
       " '/media/mglos/HDD_8TB1/SPICE/ck/lrosc_2023080_2023091_v01.bc',\n",
       " '/media/mglos/HDD_8TB1/SPICE/ck/lrosc_2023091_2023101_v01.bc',\n",
       " '/media/mglos/HDD_8TB1/SPICE/ck/lrosc_2023101_2023111_v01.bc',\n",
       " '/media/mglos/HDD_8TB1/SPICE/ck/lrosc_2023111_2023121_v01.bc',\n",
       " '/media/mglos/HDD_8TB1/SPICE/ck/lrosc_2023121_2023131_v01.bc',\n",
       " '/media/mglos/HDD_8TB1/SPICE/ck/lrosc_2023131_2023141_v01.bc',\n",
       " '/media/mglos/HDD_8TB1/SPICE/ck/lrosc_2023141_2023152_v01.bc',\n",
       " '/media/mglos/HDD_8TB1/SPICE/ck/lrosc_2023152_2023162_v01.bc',\n",
       " '/media/mglos/HDD_8TB1/SPICE/ck/lrosc_2023162_2023166_v01.bc',\n",
       " '/media/mglos/HDD_8TB1/SPICE/ck/lrosc_2023166_2023172_v01.bc',\n",
       " '/media/mglos/HDD_8TB1/SPICE/ck/lrosc_2023172_2023182_v01.bc',\n",
       " '/media/mglos/HDD_8TB1/SPICE/ck/lrosc_2023182_2023192_v01.bc',\n",
       " '/media/mglos/HDD_8TB1/SPICE/ck/lrosc_2023192_2023202_v01.bc',\n",
       " '/media/mglos/HDD_8TB1/SPICE/ck/lrosc_2023202_2023213_v01.bc',\n",
       " '/media/mglos/HDD_8TB1/SPICE/ck/lrosc_2023213_2023223_v01.bc',\n",
       " '/media/mglos/HDD_8TB1/SPICE/ck/lrosc_2023223_2023233_v01.bc',\n",
       " '/media/mglos/HDD_8TB1/SPICE/ck/lrosc_2023233_2023244_v01.bc',\n",
       " '/media/mglos/HDD_8TB1/SPICE/ck/lrosc_2023244_2023254_v01.bc',\n",
       " '/media/mglos/HDD_8TB1/SPICE/ck/lrosc_2023254_2023258_v01.bc',\n",
       " '/media/mglos/HDD_8TB1/SPICE/ck/lrosc_2023258_2023264_v01.bc',\n",
       " '/media/mglos/HDD_8TB1/SPICE/ck/lrosc_2023264_2023274_v01.bc',\n",
       " '/media/mglos/HDD_8TB1/SPICE/ck/lrosc_2023274_2023284_v01.bc',\n",
       " '/media/mglos/HDD_8TB1/SPICE/ck/lrosc_2023284_2023294_v01.bc',\n",
       " '/media/mglos/HDD_8TB1/SPICE/ck/lrosc_2023294_2023305_v01.bc',\n",
       " '/media/mglos/HDD_8TB1/SPICE/ck/lrosc_2023305_2023315_v01.bc',\n",
       " '/media/mglos/HDD_8TB1/SPICE/ck/lrosc_2023315_2023325_v01.bc',\n",
       " '/media/mglos/HDD_8TB1/SPICE/ck/lrosc_2023325_2023335_v01.bc',\n",
       " '/media/mglos/HDD_8TB1/SPICE/ck/lrosc_2023335_2023345_v01.bc',\n",
       " '/media/mglos/HDD_8TB1/SPICE/ck/lrosc_2023345_2023349_v01.bc',\n",
       " '/media/mglos/HDD_8TB1/SPICE/ck/lrosc_2023349_2023355_v01.bc',\n",
       " '/media/mglos/HDD_8TB1/SPICE/ck/lrosc_2023355_2024001_v01.bc',\n",
       " '/media/mglos/HDD_8TB1/SPICE/ck/lrosc_2024001_2024011_v01.bc',\n",
       " '/media/mglos/HDD_8TB1/SPICE/ck/lrosc_2024011_2024021_v01.bc',\n",
       " '/media/mglos/HDD_8TB1/SPICE/ck/lrosc_2024021_2024032_v01.bc',\n",
       " '/media/mglos/HDD_8TB1/SPICE/ck/lrosc_2024032_2024042_v01.bc',\n",
       " '/media/mglos/HDD_8TB1/SPICE/ck/lrosc_2024042_2024052_v01.bc',\n",
       " '/media/mglos/HDD_8TB1/SPICE/ck/lrosc_2024052_2024061_v01.bc',\n",
       " '/media/mglos/HDD_8TB1/SPICE/ck/lrosc_2024061_2024071_v01.bc',\n",
       " '/media/mglos/HDD_8TB1/SPICE/ck/lrosc_2024071_2024075_v01.bc',\n",
       " '/media/mglos/HDD_8TB1/SPICE/ck/lrosc_2024075_2024081_v01.bc',\n",
       " '/media/mglos/HDD_8TB1/SPICE/ck/lrosc_2024081_2024092_v01.bc',\n",
       " '/media/mglos/HDD_8TB1/SPICE/ck/lrosc_2024092_2024102_v01.bc',\n",
       " '/media/mglos/HDD_8TB1/SPICE/ck/lrosc_2024102_2024112_v01.bc',\n",
       " '/media/mglos/HDD_8TB1/SPICE/ck/lrosc_2024112_2024122_v01.bc',\n",
       " '/media/mglos/HDD_8TB1/SPICE/ck/lrosc_2024122_2024132_v01.bc',\n",
       " '/media/mglos/HDD_8TB1/SPICE/ck/lrosc_2024132_2024142_v01.bc',\n",
       " '/media/mglos/HDD_8TB1/SPICE/ck/lrosc_2024142_2024153_v01.bc',\n",
       " '/media/mglos/HDD_8TB1/SPICE/ck/lrosc_2024153_2024163_v01.bc',\n",
       " '/media/mglos/HDD_8TB1/SPICE/ck/lrosc_2024163_2024167_v01.bc',\n",
       " '/media/mglos/HDD_8TB1/SPICE/ck/lrosc_2024167_2024173_v01.bc',\n",
       " '/media/mglos/HDD_8TB1/SPICE/ck/lrosc_2024173_2024183_v01.bc',\n",
       " '/media/mglos/HDD_8TB1/SPICE/ck/lrosc_2024183_2024193_v01.bc',\n",
       " '/media/mglos/HDD_8TB1/SPICE/ck/lrosc_2024193_2024203_v01.bc',\n",
       " '/media/mglos/HDD_8TB1/SPICE/ck/lrosc_2024203_2024214_v01.bc',\n",
       " '/media/mglos/HDD_8TB1/SPICE/ck/lrosc_2024214_2024224_v01.bc',\n",
       " '/media/mglos/HDD_8TB1/SPICE/ck/lrosc_2024224_2024234_v01.bc',\n",
       " '/media/mglos/HDD_8TB1/SPICE/ck/lrosc_2024234_2024245_v01.bc',\n",
       " '/media/mglos/HDD_8TB1/SPICE/ck/lrosc_2024245_2024255_v01.bc',\n",
       " '/media/mglos/HDD_8TB1/SPICE/ck/lrosc_2024255_2024259_v01.bc']"
      ]
     },
     "execution_count": 68,
     "metadata": {},
     "output_type": "execute_result"
    }
   ],
   "source": [
    "kernel_pool"
   ]
  },
  {
   "cell_type": "code",
   "execution_count": 4,
   "metadata": {
    "vscode": {
     "languageId": "javascript"
    }
   },
   "outputs": [
    {
     "name": "stderr",
     "output_type": "stream",
     "text": [
      "2025-02-15 21:12:51,513 - DEBUG - Loading SPICE for ck/lrodv at 2012-03-31T16:50:24.211\n",
      "2025-02-15 21:12:51,519 - DEBUG - Loading SPICE /media/mglos/HDD_8TB1/SPICE/ck/lrodv_2012060_2012092_v01.bc\n",
      "2025-02-15 21:12:51,520 - DEBUG - Loaded SPICE /media/mglos/HDD_8TB1/SPICE/ck/lrodv_2012060_2012092_v01.bc\n",
      "2025-02-15 21:12:51,521 - DEBUG - Loading SPICE for ck/lrosc at 2012-03-31T16:50:24.211\n",
      "2025-02-15 21:12:51,537 - DEBUG - Loading SPICE /media/mglos/HDD_8TB1/SPICE/ck/lrosc_2012081_2012092_v02.bc\n",
      "2025-02-15 21:12:51,539 - DEBUG - Loaded SPICE /media/mglos/HDD_8TB1/SPICE/ck/lrosc_2012081_2012092_v02.bc\n",
      "2025-02-15 21:12:51,540 - DEBUG - Loading SPICE for spk at 2012-03-31T16:50:24.211\n",
      "2025-02-15 21:12:51,543 - DEBUG - Loading SPICE /media/mglos/HDD_8TB1/SPICE/spk/lrorg_2012076_2012169_v01.bsp\n",
      "2025-02-15 21:12:51,544 - DEBUG - Loaded SPICE /media/mglos/HDD_8TB1/SPICE/spk/lrorg_2012076_2012169_v01.bsp\n"
     ]
    },
    {
     "data": {
      "text/plain": [
       "{-85211: Instrument.ProjectedPoint(instrument_id=-85211, et=386484690.3966551, boresight=array([-299.72139795, -419.57003696, 1659.77971413]), boresight_trgepc=386484690.39600927, bounds=[array([-294.06564914, -423.44156778, 1659.84422221]), array([-293.54357447, -422.52823518, 1660.12124121]), array([-305.27009298, -415.55921665, 1659.54631341]), array([-305.78402014, -416.47039994, 1659.24913719])], bounds_trgepc=[386484690.39600897, 386484690.3960087, 386484690.396008, 386484690.39600825]),\n",
       " -85212: Instrument.ProjectedPoint(instrument_id=-85212, et=386484690.3966551, boresight=array([-300.97382214, -421.78046011, 1659.03767198]), boresight_trgepc=386484690.3960097, bounds=[array([-295.13062621, -425.36273152, 1659.16858305]), array([-294.94811421, -425.04090734, 1659.28269311]), array([-306.66802606, -418.14185421, 1658.4841631 ]), array([-306.84122552, -418.44829642, 1658.31399036])], bounds_trgepc=[386484690.3960092, 386484690.3960092, 386484690.3960079, 386484690.3960077]),\n",
       " -85213: Instrument.ProjectedPoint(instrument_id=-85213, et=386484690.3966551, boresight=array([-302.33038334, -424.24913451, 1658.329152  ]), boresight_trgepc=386484690.39601034, bounds=[array([-296.61945312, -428.02213878, 1658.41491611]), array([-296.21517457, -427.31083896, 1658.64885469]), array([-307.78419078, -420.2694908 , 1657.25092021]), array([-308.18447693, -420.97732315, 1656.98653351])], bounds_trgepc=[386484690.39601, 386484690.39600986, 386484690.3960065, 386484690.39600646]),\n",
       " -85214: Instrument.ProjectedPoint(instrument_id=-85214, et=386484690.3966551, boresight=array([-303.56616658, -426.54513481, 1657.5695554 ]), boresight_trgepc=386484690.3960105, bounds=[array([-297.96810315, -430.26856897, 1657.69107751]), array([-297.56166448, -429.55454836, 1657.91147446]), array([-309.02652873, -422.63794405, 1656.58174186]), array([-309.44360146, -423.37495457, 1656.430834  ])], bounds_trgepc=[386484690.3960103, 386484690.39601016, 386484690.39600706, 386484690.39600736]),\n",
       " -85215: Instrument.ProjectedPoint(instrument_id=-85215, et=386484690.3966551, boresight=array([-304.77775812, -428.7348988 , 1656.84442039]), boresight_trgepc=386484690.3960106, bounds=[array([-299.13734672, -432.40136767, 1657.07039757]), array([-298.79905937, -431.81081177, 1657.21989481]), array([-310.2380847 , -424.91594346, 1655.9757069 ]), array([-310.55845879, -425.48108294, 1655.70749484])], bounds_trgepc=[386484690.3960106, 386484690.3960104, 386484690.39600754, 386484690.3960073]),\n",
       " -85216: Instrument.ProjectedPoint(instrument_id=-85216, et=386484690.3966551, boresight=array([-305.89906674, -430.6898771 , 1656.49717352]), boresight_trgepc=386484690.39601153, bounds=[array([-300.29460543, -434.22566519, 1656.43181623]), array([-299.99819839, -433.70497431, 1656.5841798 ]), array([-311.23891889, -426.85481991, 1655.09006061]), array([-311.52539139, -427.35974267, 1654.85652782])], bounds_trgepc=[386484690.39601046, 386484690.39601046, 386484690.3960067, 386484690.39600646]),\n",
       " -85221: Instrument.ProjectedPoint(instrument_id=-85221, et=386484690.3966551, boresight=array([-299.57465479, -419.22186163, 1659.8748976 ]), boresight_trgepc=386484690.39600915, bounds=[array([-305.04825064, -415.55367444, 1659.5586286 ]), array([-305.42924767, -416.22933569, 1659.42665208]), array([-294.04536068, -422.84484834, 1660.01464246]), array([-293.63139605, -422.12276758, 1660.21662019])], bounds_trgepc=[386484690.39600796, 386484690.39600843, 386484690.39600897, 386484690.39600873]),\n",
       " -85222: Instrument.ProjectedPoint(instrument_id=-85222, et=386484690.3966551, boresight=array([-302.6130918 , -424.51812559, 1658.2440958 ]), boresight_trgepc=386484690.3960105, bounds=[array([-308.02578466, -420.44077011, 1657.12553711]), array([-308.57335668, -421.408897  , 1656.77499141]), array([-297.05407038, -428.36443622, 1658.25458267]), array([-296.5018537 , -427.39331691, 1658.56865756])], bounds_trgepc=[386484690.39600635, 386484690.3960064, 386484690.39601004, 386484690.39600986]),\n",
       " -85223: Instrument.ProjectedPoint(instrument_id=-85223, et=386484690.3966551, boresight=array([-306.03171896, -430.40716802, 1656.54634276]), boresight_trgepc=386484690.39601153, bounds=[array([-311.55883702, -426.174819  , 1655.06022445]), array([-312.1337296 , -427.18736588, 1654.60152813]), array([-300.45069886, -434.28980498, 1656.39205343]), array([-299.86333749, -433.25419107, 1656.72441961])], bounds_trgepc=[386484690.3960062, 386484690.3960058, 386484690.3960105, 386484690.3960105])}"
      ]
     },
     "execution_count": 4,
     "metadata": {},
     "output_type": "execute_result"
    }
   ],
   "source": [
    "\"\"\"\n",
    "This script processes SPICE data to identify time intervals when LRO DIVINER\n",
    "is within areas of interest.\n",
    "\"\"\"\n",
    "\n",
    "import logging\n",
    "import sys\n",
    "from typing import Optional, Generator\n",
    "\n",
    "sys.path.insert(0, \"/\".join(__file__.split(\"/\")[:-4]))\n",
    "\n",
    "import numpy as np\n",
    "from astropy.time import Time, TimeDelta\n",
    "import spiceypy as spice\n",
    "from tqdm import tqdm\n",
    "from scipy.spatial import cKDTree\n",
    "\n",
    "from src.global_config import TQDM_NCOLS\n",
    "from src.scripts.SPICE.instruments import DIVINERInstrument\n",
    "from src.scripts.SPICE.config import TIME_STEP, MOON_STR_ID, LRO_SPEED, MAX_TIME_STEP\n",
    "from src.db.mongo.interface import Sessions\n",
    "from src.scripts.SPICE.sweep_iterator import SweepIterator\n",
    "\n",
    "logger = logging.getLogger(__name__)\n",
    "\n",
    "\n",
    "class Sweeper:\n",
    "    \"\"\"\n",
    "    Iterates through SPICE data to update instrument distances to areas of interest.\n",
    "    \"\"\"\n",
    "\n",
    "    def __init__(self):\n",
    "        self.sweep_iterator = SweepIterator()\n",
    "        self.computation_timedelta = TimeDelta(TIME_STEP, format=\"sec\")\n",
    "        self.current_simulation_timestamp = self.sweep_iterator.min_loaded_time + self.computation_timedelta\n",
    "        self.current_simulation_timestamp_et = spice.str2et(self.current_simulation_timestamp.utc.iso)\n",
    "        self.current_simulation_step = 0\n",
    "\n",
    "        # Load instruments\n",
    "        self.instruments = [DIVINERInstrument()]\n",
    "\n",
    "        # Get points of interest and build a KD-Tree for fast spatial searches\n",
    "        self._points = self._get_crater_points_df()\n",
    "        self._target_points = self._points[[\"X\", \"Y\", \"Z\"]].values\n",
    "        self._target_ids = np.arange(len(self._target_points))\n",
    "        self.kd_tree = cKDTree(self._target_points)\n",
    "\n",
    "        # Set simulation start time considering instrument offset\n",
    "        offset = max(instrument.offset_days for instrument in self.instruments)\n",
    "        self._set_time(self.sweep_iterator.min_loaded_time + TimeDelta(offset, format=\"jd\"))\n",
    "        self.sweep_iterator.initiate_sweep(self.current_simulation_timestamp)\n",
    "\n",
    "        self._failed_timestamps = []\n",
    "        self._failed_timestamps_kernel_loads = []\n",
    "        self.adjusted_timesteps = []\n",
    "        self.min_distances = []\n",
    "\n",
    "    @property\n",
    "    def min_time(self):\n",
    "        return self.sweep_iterator.min_loaded_time\n",
    "\n",
    "    @property\n",
    "    def max_time(self):\n",
    "        return self.sweep_iterator.max_loaded_time\n",
    "\n",
    "    def _get_crater_points_df(self):\n",
    "        points = Sessions.get_all_pits_points()\n",
    "        lat_rad = points[\"latitude\"] * spice.rpd()\n",
    "        lon_rad = points[\"longitude\"] * spice.rpd()\n",
    "\n",
    "        # Convert lat/lon to Cartesian coordinates\n",
    "        cartesian_points = lat_rad.combine(\n",
    "            lon_rad,\n",
    "            lambda lat, lon: spice.srfrec(spice.bodn2c(MOON_STR_ID), lon, lat),\n",
    "        )\n",
    "        points[\"X\"] = cartesian_points.apply(lambda xyz: xyz[0])\n",
    "        points[\"Y\"] = cartesian_points.apply(lambda xyz: xyz[1])\n",
    "        points[\"Z\"] = cartesian_points.apply(lambda xyz: xyz[2])\n",
    "        return points\n",
    "\n",
    "    def _step_time(self):\n",
    "        self.current_simulation_timestamp += self.computation_timedelta\n",
    "        self.current_simulation_timestamp_et = spice.str2et(self.current_simulation_timestamp.utc.iso)\n",
    "        self.current_simulation_step += 1\n",
    "\n",
    "    def _set_time(self, time: Time, timestep: Optional[int] = None):\n",
    "        self.current_simulation_timestamp = time\n",
    "        self.current_simulation_timestamp_et = spice.str2et(time.utc.iso)\n",
    "        self.current_simulation_step = 0 if timestep is None else timestep\n",
    "        self.sweep_iterator.step(self.current_simulation_timestamp)\n",
    "\n",
    "    def compute_instrument_rough_distances(self, points, boresight):\n",
    "        \"\"\"\n",
    "        Compute distances from the instrument's boresight to given points.\n",
    "        \"\"\"\n",
    "        return np.linalg.norm(points - boresight, axis=1)\n",
    "\n",
    "    def find_nearby_pits(self, instrument):\n",
    "        \"\"\"\n",
    "        Use the KD-Tree to find pits within the instrument's rough threshold.\n",
    "        \"\"\"\n",
    "        intersection = instrument.compute_views_instrument_boresight(self.current_simulation_timestamp_et)\n",
    "        boresight = intersection[\"boresight\"]\n",
    "        nearby_indices = self.kd_tree.query_ball_point(boresight, instrument.rough_treshold)\n",
    "        return self._target_points[nearby_indices], self._target_ids[nearby_indices], boresight\n",
    "\n",
    "    def adjust_timestep(self, boresights):\n",
    "        min_distance = min(self.kd_tree.query(boresight)[0] for boresight in boresights)\n",
    "        new_time_step = min_distance / LRO_SPEED\n",
    "        self.computation_timedelta = TimeDelta(min(max(TIME_STEP, new_time_step), MAX_TIME_STEP), format=\"sec\")\n",
    "        self.adjusted_timesteps.append(new_time_step)\n",
    "        self.min_distances.append(min_distance)\n",
    "\n",
    "    def run_simulation(self, max_steps: Optional[int] = None):\n",
    "        self.found = 0\n",
    "        self.boresights = []\n",
    "        total_seconds = (self.max_time - self.min_time).to_value(\"sec\")\n",
    "        total_seconds = min(total_seconds, max_steps * TIME_STEP) if max_steps is not None else total_seconds\n",
    "        with tqdm(total=total_seconds, ncols=TQDM_NCOLS, desc=\"Running simulation\") as pbar:\n",
    "            while self.current_simulation_timestamp <= self.max_time:\n",
    "                if max_steps is not None and self.current_simulation_step >= max_steps:\n",
    "                    break\n",
    "                try:\n",
    "                    pbar.update(self.computation_timedelta.to_value(\"sec\"))\n",
    "                    self._step_time()\n",
    "\n",
    "                    boresights = []\n",
    "                    for instrument in self.instruments:\n",
    "                        feasible_points, feasible_ids, boresight = self.find_nearby_pits(instrument)\n",
    "                        new_distances = self.compute_instrument_rough_distances(\n",
    "                            feasible_points, boresight\n",
    "                        )\n",
    "                        boresights.append(boresight)\n",
    "                        if any(new_distances < instrument.rough_treshold):\n",
    "                            self.found += 1\n",
    "                            # logging.info(\"Found!\")\n",
    "                    self.adjust_timestep(boresights)\n",
    "                    self.boresights.append(boresights)\n",
    "                except Exception as e:\n",
    "                    # logger.exception(\n",
    "                    #     f\"Error at step {self.current_simulation_step}: {e}\"\n",
    "                    # )\n",
    "                    self._failed_timestamps.append((self.current_simulation_timestamp, self.current_simulation_step))\n",
    "        return\n"
   ]
  },
  {
   "cell_type": "code",
   "execution_count": 4,
   "metadata": {},
   "outputs": [],
   "source": [
    "from influxdb_client import InfluxDBClient, Point, WritePrecision\n",
    "\n",
    "class InfluxInterface:\n",
    "    def __init__(self, url: str, token: str, org: str, bucket: str):\n",
    "        self.client = InfluxDBClient(url=url, token=token, org=org)\n",
    "        self.write_api = self.client.write_api()\n",
    "        self.org = org\n",
    "        self.bucket = bucket\n",
    "\n",
    "    def write_simulation_result(self, instrument: str, astro_timestamp, simulation_step: int, boresight, min_distance: float):\n",
    "        \"\"\"\n",
    "        Writes a simulation hit to InfluxDB.\n",
    "        \n",
    "        Parameters:\n",
    "          - instrument: Instrument name (used as a tag).\n",
    "          - astro_timestamp: An astropy Time object (converted to ISO string).\n",
    "          - simulation_step: Simulation step number.\n",
    "          - boresight: A 3D vector (x, y, z) representing the hit location.\n",
    "          - min_distance: The computed minimum distance.\n",
    "        \"\"\"\n",
    "        # Use the provided astro timestamp in ISO format\n",
    "        timestamp_iso = astro_timestamp.utc.iso\n",
    "        point = (\n",
    "            Point(\"simulation_results\")\n",
    "            .tag(\"instrument\", instrument)\n",
    "            .field(\"min_distance\", float(min_distance))\n",
    "            .field(\"x\", float(boresight[0]))\n",
    "            .field(\"y\", float(boresight[1]))\n",
    "            .field(\"z\", float(boresight[2]))\n",
    "            .field(\"simulation_step\", simulation_step)\n",
    "            .time(timestamp_iso, WritePrecision.NS)\n",
    "        )\n",
    "        self.write_api.write(bucket=self.bucket, org=self.org, record=point)\n",
    "\n",
    "    def close(self):\n",
    "        self.client.close()\n"
   ]
  },
  {
   "cell_type": "code",
   "execution_count": 14,
   "metadata": {},
   "outputs": [],
   "source": [
    "influx_db = InfluxInterface(\n",
    "    url=\"http://localhost:8086\",\n",
    "    token=\"supersecrettoken\",\n",
    "    org=\"sat_tracking\",\n",
    "    bucket=\"telemetry\"\n",
    ")\n",
    "\n",
    "url=\"http://localhost:8086\"\n",
    "token=\"supersecrettoken\"\n",
    "org=\"sat_tracking\"\n",
    "bucket=\"telemetry\""
   ]
  },
  {
   "cell_type": "code",
   "execution_count": 15,
   "metadata": {},
   "outputs": [
    {
     "name": "stdout",
     "output_type": "stream",
     "text": [
      "Simulation data written to InfluxDB.\n"
     ]
    }
   ],
   "source": [
    "import random\n",
    "from astropy.time import Time\n",
    "\n",
    "# Generate 10 random simulation results\n",
    "for i in range(10):\n",
    "    instrument = f\"Instrument-{i%3}\"  # Simulating 3 different instruments\n",
    "    astro_timestamp = Time.now()  # Current timestamp\n",
    "    simulation_step = i\n",
    "    boresight = (\n",
    "        random.uniform(-100, 100),  # x\n",
    "        random.uniform(-100, 100),  # y\n",
    "        random.uniform(-100, 100)   # z\n",
    "    )\n",
    "    min_distance = random.uniform(0, 50)  # Random distance\n",
    "\n",
    "    # Write the data to InfluxDB\n",
    "    influx_db.write_simulation_result(instrument, astro_timestamp, simulation_step, boresight, min_distance)\n",
    "\n",
    "print(\"Simulation data written to InfluxDB.\")"
   ]
  },
  {
   "cell_type": "code",
   "execution_count": 22,
   "metadata": {},
   "outputs": [
    {
     "data": {
      "text/html": [
       "<div>\n",
       "<style scoped>\n",
       "    .dataframe tbody tr th:only-of-type {\n",
       "        vertical-align: middle;\n",
       "    }\n",
       "\n",
       "    .dataframe tbody tr th {\n",
       "        vertical-align: top;\n",
       "    }\n",
       "\n",
       "    .dataframe thead th {\n",
       "        text-align: right;\n",
       "    }\n",
       "</style>\n",
       "<table border=\"1\" class=\"dataframe\">\n",
       "  <thead>\n",
       "    <tr style=\"text-align: right;\">\n",
       "      <th></th>\n",
       "      <th>result</th>\n",
       "      <th>table</th>\n",
       "      <th>_start</th>\n",
       "      <th>_stop</th>\n",
       "      <th>_time</th>\n",
       "      <th>_value</th>\n",
       "      <th>_field</th>\n",
       "      <th>_measurement</th>\n",
       "      <th>instrument</th>\n",
       "    </tr>\n",
       "  </thead>\n",
       "  <tbody>\n",
       "    <tr>\n",
       "      <th>0</th>\n",
       "      <td>_result</td>\n",
       "      <td>0</td>\n",
       "      <td>2025-02-21 21:29:31.243259+00:00</td>\n",
       "      <td>2025-02-21 22:29:31.243259+00:00</td>\n",
       "      <td>2025-02-21 22:08:54.813000+00:00</td>\n",
       "      <td>20.836144</td>\n",
       "      <td>min_distance</td>\n",
       "      <td>simulation_results</td>\n",
       "      <td>Instrument-0</td>\n",
       "    </tr>\n",
       "    <tr>\n",
       "      <th>1</th>\n",
       "      <td>_result</td>\n",
       "      <td>0</td>\n",
       "      <td>2025-02-21 21:29:31.243259+00:00</td>\n",
       "      <td>2025-02-21 22:29:31.243259+00:00</td>\n",
       "      <td>2025-02-21 22:08:54.816000+00:00</td>\n",
       "      <td>14.781655</td>\n",
       "      <td>min_distance</td>\n",
       "      <td>simulation_results</td>\n",
       "      <td>Instrument-0</td>\n",
       "    </tr>\n",
       "    <tr>\n",
       "      <th>2</th>\n",
       "      <td>_result</td>\n",
       "      <td>0</td>\n",
       "      <td>2025-02-21 21:29:31.243259+00:00</td>\n",
       "      <td>2025-02-21 22:29:31.243259+00:00</td>\n",
       "      <td>2025-02-21 22:08:54.818000+00:00</td>\n",
       "      <td>48.536656</td>\n",
       "      <td>min_distance</td>\n",
       "      <td>simulation_results</td>\n",
       "      <td>Instrument-0</td>\n",
       "    </tr>\n",
       "    <tr>\n",
       "      <th>3</th>\n",
       "      <td>_result</td>\n",
       "      <td>0</td>\n",
       "      <td>2025-02-21 21:29:31.243259+00:00</td>\n",
       "      <td>2025-02-21 22:29:31.243259+00:00</td>\n",
       "      <td>2025-02-21 22:08:54.819000+00:00</td>\n",
       "      <td>0.919719</td>\n",
       "      <td>min_distance</td>\n",
       "      <td>simulation_results</td>\n",
       "      <td>Instrument-0</td>\n",
       "    </tr>\n",
       "    <tr>\n",
       "      <th>4</th>\n",
       "      <td>_result</td>\n",
       "      <td>0</td>\n",
       "      <td>2025-02-21 21:29:31.243259+00:00</td>\n",
       "      <td>2025-02-21 22:29:31.243259+00:00</td>\n",
       "      <td>2025-02-21 22:13:30.520000+00:00</td>\n",
       "      <td>45.504203</td>\n",
       "      <td>min_distance</td>\n",
       "      <td>simulation_results</td>\n",
       "      <td>Instrument-0</td>\n",
       "    </tr>\n",
       "    <tr>\n",
       "      <th>...</th>\n",
       "      <td>...</td>\n",
       "      <td>...</td>\n",
       "      <td>...</td>\n",
       "      <td>...</td>\n",
       "      <td>...</td>\n",
       "      <td>...</td>\n",
       "      <td>...</td>\n",
       "      <td>...</td>\n",
       "      <td>...</td>\n",
       "    </tr>\n",
       "    <tr>\n",
       "      <th>195</th>\n",
       "      <td>_result</td>\n",
       "      <td>14</td>\n",
       "      <td>2025-02-21 21:29:31.243259+00:00</td>\n",
       "      <td>2025-02-21 22:29:31.243259+00:00</td>\n",
       "      <td>2025-02-21 22:13:32.716000+00:00</td>\n",
       "      <td>73.395161</td>\n",
       "      <td>z</td>\n",
       "      <td>simulation_results</td>\n",
       "      <td>Instrument-2</td>\n",
       "    </tr>\n",
       "    <tr>\n",
       "      <th>196</th>\n",
       "      <td>_result</td>\n",
       "      <td>14</td>\n",
       "      <td>2025-02-21 21:29:31.243259+00:00</td>\n",
       "      <td>2025-02-21 22:29:31.243259+00:00</td>\n",
       "      <td>2025-02-21 22:13:32.722000+00:00</td>\n",
       "      <td>88.884587</td>\n",
       "      <td>z</td>\n",
       "      <td>simulation_results</td>\n",
       "      <td>Instrument-2</td>\n",
       "    </tr>\n",
       "    <tr>\n",
       "      <th>197</th>\n",
       "      <td>_result</td>\n",
       "      <td>14</td>\n",
       "      <td>2025-02-21 21:29:31.243259+00:00</td>\n",
       "      <td>2025-02-21 22:29:31.243259+00:00</td>\n",
       "      <td>2025-02-21 22:15:53.191000+00:00</td>\n",
       "      <td>33.539454</td>\n",
       "      <td>z</td>\n",
       "      <td>simulation_results</td>\n",
       "      <td>Instrument-2</td>\n",
       "    </tr>\n",
       "    <tr>\n",
       "      <th>198</th>\n",
       "      <td>_result</td>\n",
       "      <td>14</td>\n",
       "      <td>2025-02-21 21:29:31.243259+00:00</td>\n",
       "      <td>2025-02-21 22:29:31.243259+00:00</td>\n",
       "      <td>2025-02-21 22:15:53.194000+00:00</td>\n",
       "      <td>-76.714593</td>\n",
       "      <td>z</td>\n",
       "      <td>simulation_results</td>\n",
       "      <td>Instrument-2</td>\n",
       "    </tr>\n",
       "    <tr>\n",
       "      <th>199</th>\n",
       "      <td>_result</td>\n",
       "      <td>14</td>\n",
       "      <td>2025-02-21 21:29:31.243259+00:00</td>\n",
       "      <td>2025-02-21 22:29:31.243259+00:00</td>\n",
       "      <td>2025-02-21 22:15:53.197000+00:00</td>\n",
       "      <td>-43.009442</td>\n",
       "      <td>z</td>\n",
       "      <td>simulation_results</td>\n",
       "      <td>Instrument-2</td>\n",
       "    </tr>\n",
       "  </tbody>\n",
       "</table>\n",
       "<p>200 rows × 9 columns</p>\n",
       "</div>"
      ],
      "text/plain": [
       "      result  table                           _start  \\\n",
       "0    _result      0 2025-02-21 21:29:31.243259+00:00   \n",
       "1    _result      0 2025-02-21 21:29:31.243259+00:00   \n",
       "2    _result      0 2025-02-21 21:29:31.243259+00:00   \n",
       "3    _result      0 2025-02-21 21:29:31.243259+00:00   \n",
       "4    _result      0 2025-02-21 21:29:31.243259+00:00   \n",
       "..       ...    ...                              ...   \n",
       "195  _result     14 2025-02-21 21:29:31.243259+00:00   \n",
       "196  _result     14 2025-02-21 21:29:31.243259+00:00   \n",
       "197  _result     14 2025-02-21 21:29:31.243259+00:00   \n",
       "198  _result     14 2025-02-21 21:29:31.243259+00:00   \n",
       "199  _result     14 2025-02-21 21:29:31.243259+00:00   \n",
       "\n",
       "                               _stop                            _time  \\\n",
       "0   2025-02-21 22:29:31.243259+00:00 2025-02-21 22:08:54.813000+00:00   \n",
       "1   2025-02-21 22:29:31.243259+00:00 2025-02-21 22:08:54.816000+00:00   \n",
       "2   2025-02-21 22:29:31.243259+00:00 2025-02-21 22:08:54.818000+00:00   \n",
       "3   2025-02-21 22:29:31.243259+00:00 2025-02-21 22:08:54.819000+00:00   \n",
       "4   2025-02-21 22:29:31.243259+00:00 2025-02-21 22:13:30.520000+00:00   \n",
       "..                               ...                              ...   \n",
       "195 2025-02-21 22:29:31.243259+00:00 2025-02-21 22:13:32.716000+00:00   \n",
       "196 2025-02-21 22:29:31.243259+00:00 2025-02-21 22:13:32.722000+00:00   \n",
       "197 2025-02-21 22:29:31.243259+00:00 2025-02-21 22:15:53.191000+00:00   \n",
       "198 2025-02-21 22:29:31.243259+00:00 2025-02-21 22:15:53.194000+00:00   \n",
       "199 2025-02-21 22:29:31.243259+00:00 2025-02-21 22:15:53.197000+00:00   \n",
       "\n",
       "        _value        _field        _measurement    instrument  \n",
       "0    20.836144  min_distance  simulation_results  Instrument-0  \n",
       "1    14.781655  min_distance  simulation_results  Instrument-0  \n",
       "2    48.536656  min_distance  simulation_results  Instrument-0  \n",
       "3     0.919719  min_distance  simulation_results  Instrument-0  \n",
       "4    45.504203  min_distance  simulation_results  Instrument-0  \n",
       "..         ...           ...                 ...           ...  \n",
       "195  73.395161             z  simulation_results  Instrument-2  \n",
       "196  88.884587             z  simulation_results  Instrument-2  \n",
       "197  33.539454             z  simulation_results  Instrument-2  \n",
       "198 -76.714593             z  simulation_results  Instrument-2  \n",
       "199 -43.009442             z  simulation_results  Instrument-2  \n",
       "\n",
       "[200 rows x 9 columns]"
      ]
     },
     "execution_count": 22,
     "metadata": {},
     "output_type": "execute_result"
    }
   ],
   "source": [
    "import pandas as pd\n",
    "query_api = influx_db.client.query_api()\n",
    "# Query data from the last 1 hour\n",
    "query = f\"\"\"\n",
    "from(bucket: \"{bucket}\")\n",
    "  |> range(start: -1h)\n",
    "  |> filter(fn: (r) => r._measurement == \"simulation_results\")\n",
    "\"\"\"\n",
    "\n",
    "# Execute query\n",
    "tables = query_api.query(query)\n",
    "\n",
    "# Convert to DataFrame for better readability\n",
    "data = []\n",
    "for table in tables:\n",
    "    for record in table.records:\n",
    "        data.append(record.values)\n",
    "\n",
    "df = pd.DataFrame(data)\n",
    "\n",
    "df"
   ]
  },
  {
   "cell_type": "code",
   "execution_count": 20,
   "metadata": {},
   "outputs": [
    {
     "data": {
      "text/html": [
       "<div>\n",
       "<style scoped>\n",
       "    .dataframe tbody tr th:only-of-type {\n",
       "        vertical-align: middle;\n",
       "    }\n",
       "\n",
       "    .dataframe tbody tr th {\n",
       "        vertical-align: top;\n",
       "    }\n",
       "\n",
       "    .dataframe thead th {\n",
       "        text-align: right;\n",
       "    }\n",
       "</style>\n",
       "<table border=\"1\" class=\"dataframe\">\n",
       "  <thead>\n",
       "    <tr style=\"text-align: right;\">\n",
       "      <th></th>\n",
       "    </tr>\n",
       "  </thead>\n",
       "  <tbody>\n",
       "  </tbody>\n",
       "</table>\n",
       "</div>"
      ],
      "text/plain": [
       "Empty DataFrame\n",
       "Columns: []\n",
       "Index: []"
      ]
     },
     "execution_count": 20,
     "metadata": {},
     "output_type": "execute_result"
    }
   ],
   "source": [
    "query = f\"\"\"\n",
    "from(bucket: \"{bucket}\")\n",
    "  |> range(start: -24h)\n",
    "  |> filter(fn: (r) => r._measurement == \"simulation_results\")\n",
    "  |> filter(fn: (r) => r.min_distance <= 200)\n",
    "\"\"\"\n",
    "\n",
    "tables = query_api.query(query)\n",
    "\n",
    "data = [record.values for table in tables for record in table.records]\n",
    "df = pd.DataFrame(data)\n",
    "df"
   ]
  },
  {
   "cell_type": "code",
   "execution_count": null,
   "metadata": {},
   "outputs": [],
   "source": []
  }
 ],
 "metadata": {
  "kernelspec": {
   "display_name": "Python 3 (ipykernel)",
   "language": "python",
   "name": "python3"
  },
  "language_info": {
   "codemirror_mode": {
    "name": "ipython",
    "version": 3
   },
   "file_extension": ".py",
   "mimetype": "text/x-python",
   "name": "python",
   "nbconvert_exporter": "python",
   "pygments_lexer": "ipython3",
   "version": "3.9.21"
  }
 },
 "nbformat": 4,
 "nbformat_minor": 4
}
