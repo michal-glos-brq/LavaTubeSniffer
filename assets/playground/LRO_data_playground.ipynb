{
 "cells": [
  {
   "cell_type": "markdown",
   "id": "41a12adc-161c-4f98-8f5f-163b09885a9a",
   "metadata": {},
   "source": [
    "# Recursive downloader for fileservers (sync local storage)\n",
    "Mounting HDD: `sudo mount -o uid=$(id -u),gid=$(id -g),umask=0000 /dev/sda /media/mglos/HDD1_8TB/`"
   ]
  },
  {
   "cell_type": "code",
   "execution_count": 1,
   "id": "4b114c76-fac2-40be-a4fa-702dfcc54312",
   "metadata": {},
   "outputs": [],
   "source": [
    "import sys\n",
    "\n",
    "# Add the src directory to the Python path, update if necessary\n",
    "sys.path.insert(0, '/home/mglos/skola/DIP/LavaTubeSniffer/')"
   ]
  },
  {
   "cell_type": "code",
   "execution_count": 2,
   "id": "0c813810",
   "metadata": {},
   "outputs": [
    {
     "ename": "ModuleNotFoundError",
     "evalue": "No module named 'src.dataset.base_dataset'",
     "output_type": "error",
     "traceback": [
      "\u001b[0;31m---------------------------------------------------------------------------\u001b[0m",
      "\u001b[0;31mModuleNotFoundError\u001b[0m                       Traceback (most recent call last)",
      "Cell \u001b[0;32mIn[2], line 1\u001b[0m\n\u001b[0;32m----> 1\u001b[0m \u001b[38;5;28;01mfrom\u001b[39;00m \u001b[38;5;21;01msrc\u001b[39;00m\u001b[38;5;21;01m.\u001b[39;00m\u001b[38;5;21;01mdataset\u001b[39;00m\u001b[38;5;21;01m.\u001b[39;00m\u001b[38;5;21;01mdatasets\u001b[39;00m \u001b[38;5;28;01mimport\u001b[39;00m DivinerGHRM\n\u001b[1;32m      3\u001b[0m diviner \u001b[38;5;241m=\u001b[39m DivinerGHRM()\n\u001b[1;32m      4\u001b[0m \u001b[38;5;66;03m#await diviner.print_local_ds_state()\u001b[39;00m\n",
      "File \u001b[0;32m~/skola/DIP/LavaTubeSniffer/src/dataset/datasets/__init__.py:1\u001b[0m\n\u001b[0;32m----> 1\u001b[0m \u001b[38;5;28;01mfrom\u001b[39;00m \u001b[38;5;21;01m.\u001b[39;00m\u001b[38;5;21;01mdiviner_ghrm\u001b[39;00m \u001b[38;5;28;01mimport\u001b[39;00m DivinerGHRM\n",
      "File \u001b[0;32m~/skola/DIP/LavaTubeSniffer/src/dataset/datasets/diviner_ghrm.py:8\u001b[0m\n\u001b[1;32m      4\u001b[0m \u001b[38;5;28;01mfrom\u001b[39;00m \u001b[38;5;21;01murllib\u001b[39;00m\u001b[38;5;21;01m.\u001b[39;00m\u001b[38;5;21;01mparse\u001b[39;00m \u001b[38;5;28;01mimport\u001b[39;00m urljoin\n\u001b[1;32m      6\u001b[0m \u001b[38;5;28;01mfrom\u001b[39;00m \u001b[38;5;21;01mbs4\u001b[39;00m \u001b[38;5;28;01mimport\u001b[39;00m BeautifulSoup\n\u001b[0;32m----> 8\u001b[0m \u001b[38;5;28;01mfrom\u001b[39;00m \u001b[38;5;21;01msrc\u001b[39;00m\u001b[38;5;21;01m.\u001b[39;00m\u001b[38;5;21;01mdataset\u001b[39;00m\u001b[38;5;21;01m.\u001b[39;00m\u001b[38;5;21;01mbase_dataset\u001b[39;00m \u001b[38;5;28;01mimport\u001b[39;00m AbstractDatasetLRO\n\u001b[1;32m     11\u001b[0m \u001b[38;5;66;03m# GHRM provides gridded high resolution data of the lunar surface\u001b[39;00m\n\u001b[1;32m     12\u001b[0m \u001b[38;5;66;03m# LVL2 data would provide calibrated a corrected data from 9 channels for more thorough analysis\u001b[39;00m\n\u001b[1;32m     15\u001b[0m \u001b[38;5;28;01mclass\u001b[39;00m \u001b[38;5;21;01mDivinerGHRM\u001b[39;00m(AbstractDatasetLRO):\n",
      "\u001b[0;31mModuleNotFoundError\u001b[0m: No module named 'src.dataset.base_dataset'"
     ]
    }
   ],
   "source": [
    "from src.dataset.datasets import DivinerGHRM\n",
    "\n",
    "diviner = DivinerGHRM()\n",
    "#await diviner.print_local_ds_state()"
   ]
  },
  {
   "cell_type": "code",
   "execution_count": 3,
   "id": "64dca29f",
   "metadata": {},
   "outputs": [
    {
     "name": "stdout",
     "output_type": "stream",
     "text": [
      "Downloading 1 files (3150 MB)\n"
     ]
    },
    {
     "name": "stderr",
     "output_type": "stream",
     "text": [
      "Downloading files: 100%|██████████| 3.30G/3.30G [26:30<00:00, 2.08MB/s]   \n"
     ]
    }
   ],
   "source": [
    "await diviner.download_dataset()"
   ]
  },
  {
   "cell_type": "code",
   "execution_count": null,
   "id": "c662c6fa",
   "metadata": {},
   "outputs": [],
   "source": []
  }
 ],
 "metadata": {
  "kernelspec": {
   "display_name": "lts-dev",
   "language": "python",
   "name": "python3"
  },
  "language_info": {
   "codemirror_mode": {
    "name": "ipython",
    "version": 3
   },
   "file_extension": ".py",
   "mimetype": "text/x-python",
   "name": "python",
   "nbconvert_exporter": "python",
   "pygments_lexer": "ipython3",
   "version": "3.12.7"
  }
 },
 "nbformat": 4,
 "nbformat_minor": 5
}
