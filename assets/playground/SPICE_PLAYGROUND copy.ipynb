{
 "cells": [
  {
   "cell_type": "code",
   "execution_count": 2,
   "metadata": {},
   "outputs": [
    {
     "name": "stdout",
     "output_type": "stream",
     "text": [
      "Objects in DSK file: <SpiceCell dtype = 2, length = 0, size = 10000, card = 1, is_set = 1, adjust = 0, init = 1, base = 572726800, data = 572726824>\n",
      "Available surfaces for body: <SpiceCell dtype = 2, length = 0, size = 10000, card = 1, is_set = 1, adjust = 0, init = 1, base = 572766832, data = 572766856>\n",
      "DSK Descriptor: <spiceypy.utils.support_types.SpiceDSKDescr object at 0x7971602511c0>\n"
     ]
    }
   ],
   "source": [
    "import spiceypy as spice\n",
    "import numpy as np\n",
    "\n",
    "# Load the required kernels (including DSK)\n",
    "dsk_file = \"/media/mglos/HDD_8TB1/SPICE/moon_lowres.bds\"\n",
    "ids = spice.dskobj(dsk_file)\n",
    "\n",
    "print(\"Objects in DSK file:\", ids)\n",
    "\n",
    "body_id = 301  # Moon\n",
    "surfaces = spice.dsksrf(dsk_file, body_id)\n",
    "\n",
    "print(\"Available surfaces for body:\", surfaces)\n",
    "\n",
    "# Open the DSK file\n",
    "handle = spice.dasopr(dsk_file)\n",
    "\n",
    "# Begin traversing DLA (Data Linked Array) segments\n",
    "dladsc = spice.dlabfs(handle)  # This returns a single SpiceDLADescr object\n",
    "\n",
    "if dladsc is not None:\n",
    "    # Retrieve DSK descriptor\n",
    "    dskdsc = spice.dskgd(handle, dladsc)\n",
    "    print(\"DSK Descriptor:\", dskdsc)\n",
    "else:\n",
    "    print(\"No valid DLA descriptor found in the DSK file.\")\n",
    "\n",
    "spice.dascls(handle)\n"
   ]
  },
  {
   "cell_type": "code",
   "execution_count": 3,
   "metadata": {},
   "outputs": [
    {
     "ename": "SpiceFILENOTFOUND",
     "evalue": "\n================================================================================\n\nToolkit version: CSPICE_N0067\n\nSPICE(FILENOTFOUND) --\n\nThe file 'path_to_dsk_file.bds' does not exist.\n\ndasopr_c --> DASOPR --> ZZDDHOPN\n\n================================================================================",
     "output_type": "error",
     "traceback": [
      "\u001b[0;31m---------------------------------------------------------------------------\u001b[0m",
      "\u001b[0;31mSpiceFILENOTFOUND\u001b[0m                         Traceback (most recent call last)",
      "\u001b[0;32m/tmp/ipykernel_451371/1167980841.py\u001b[0m in \u001b[0;36m?\u001b[0;34m()\u001b[0m\n\u001b[0;32m----> 2\u001b[0;31m \u001b[0;31m# Open the DSK file for read access\u001b[0m\u001b[0;34m\u001b[0m\u001b[0;34m\u001b[0m\u001b[0m\n\u001b[0m\u001b[1;32m      3\u001b[0m \u001b[0mhandle\u001b[0m \u001b[0;34m=\u001b[0m \u001b[0mspice\u001b[0m\u001b[0;34m.\u001b[0m\u001b[0mdasopr\u001b[0m\u001b[0;34m(\u001b[0m\u001b[0;34m\"path_to_dsk_file.bds\"\u001b[0m\u001b[0;34m)\u001b[0m\u001b[0;34m\u001b[0m\u001b[0;34m\u001b[0m\u001b[0m\n\u001b[1;32m      4\u001b[0m \u001b[0mdladsc\u001b[0m \u001b[0;34m=\u001b[0m \u001b[0mspice\u001b[0m\u001b[0;34m.\u001b[0m\u001b[0mdlabfs\u001b[0m\u001b[0;34m(\u001b[0m\u001b[0mhandle\u001b[0m\u001b[0;34m)\u001b[0m\u001b[0;34m\u001b[0m\u001b[0;34m\u001b[0m\u001b[0m\n\u001b[1;32m      5\u001b[0m \u001b[0;34m\u001b[0m\u001b[0m\n",
      "\u001b[0;32m~/anaconda3/envs/lavatubesniffer/lib/python3.9/site-packages/spiceypy/spiceypy.py\u001b[0m in \u001b[0;36m?\u001b[0;34m(*args, **kwargs)\u001b[0m\n\u001b[1;32m    138\u001b[0m             \u001b[0mres\u001b[0m \u001b[0;34m=\u001b[0m \u001b[0mf\u001b[0m\u001b[0;34m(\u001b[0m\u001b[0;34m*\u001b[0m\u001b[0margs\u001b[0m\u001b[0;34m,\u001b[0m \u001b[0;34m**\u001b[0m\u001b[0mkwargs\u001b[0m\u001b[0;34m)\u001b[0m\u001b[0;34m\u001b[0m\u001b[0;34m\u001b[0m\u001b[0m\n\u001b[1;32m    139\u001b[0m             \u001b[0mcheck_for_spice_error\u001b[0m\u001b[0;34m(\u001b[0m\u001b[0mf\u001b[0m\u001b[0;34m)\u001b[0m\u001b[0;34m\u001b[0m\u001b[0;34m\u001b[0m\u001b[0m\n\u001b[1;32m    140\u001b[0m             \u001b[0;32mreturn\u001b[0m \u001b[0mres\u001b[0m\u001b[0;34m\u001b[0m\u001b[0;34m\u001b[0m\u001b[0m\n\u001b[1;32m    141\u001b[0m         \u001b[0;32mexcept\u001b[0m \u001b[0mBaseException\u001b[0m\u001b[0;34m:\u001b[0m\u001b[0;34m\u001b[0m\u001b[0;34m\u001b[0m\u001b[0m\n\u001b[0;32m--> 142\u001b[0;31m             \u001b[0;32mraise\u001b[0m\u001b[0;34m\u001b[0m\u001b[0;34m\u001b[0m\u001b[0m\n\u001b[0m",
      "\u001b[0;32m~/anaconda3/envs/lavatubesniffer/lib/python3.9/site-packages/spiceypy/spiceypy.py\u001b[0m in \u001b[0;36m?\u001b[0;34m(f)\u001b[0m\n\u001b[1;32m    118\u001b[0m         \u001b[0mexplain\u001b[0m \u001b[0;34m=\u001b[0m \u001b[0mgetmsg\u001b[0m\u001b[0;34m(\u001b[0m\u001b[0;34m\"EXPLAIN\"\u001b[0m\u001b[0;34m,\u001b[0m \u001b[0;36m100\u001b[0m\u001b[0;34m)\u001b[0m\u001b[0;34m.\u001b[0m\u001b[0mstrip\u001b[0m\u001b[0;34m(\u001b[0m\u001b[0;34m)\u001b[0m\u001b[0;34m\u001b[0m\u001b[0;34m\u001b[0m\u001b[0m\n\u001b[1;32m    119\u001b[0m         \u001b[0mlong\u001b[0m \u001b[0;34m=\u001b[0m \u001b[0mgetmsg\u001b[0m\u001b[0;34m(\u001b[0m\u001b[0;34m\"LONG\"\u001b[0m\u001b[0;34m,\u001b[0m \u001b[0;36m1841\u001b[0m\u001b[0;34m)\u001b[0m\u001b[0;34m.\u001b[0m\u001b[0mstrip\u001b[0m\u001b[0;34m(\u001b[0m\u001b[0;34m)\u001b[0m\u001b[0;34m\u001b[0m\u001b[0;34m\u001b[0m\u001b[0m\n\u001b[1;32m    120\u001b[0m         \u001b[0mtraceback\u001b[0m \u001b[0;34m=\u001b[0m \u001b[0mqcktrc\u001b[0m\u001b[0;34m(\u001b[0m\u001b[0;36m200\u001b[0m\u001b[0;34m)\u001b[0m\u001b[0;34m\u001b[0m\u001b[0;34m\u001b[0m\u001b[0m\n\u001b[1;32m    121\u001b[0m         \u001b[0mreset\u001b[0m\u001b[0;34m(\u001b[0m\u001b[0;34m)\u001b[0m\u001b[0;34m\u001b[0m\u001b[0;34m\u001b[0m\u001b[0m\n\u001b[0;32m--> 122\u001b[0;31m         raise dynamically_instantiate_spiceyerror(\n\u001b[0m\u001b[1;32m    123\u001b[0m             \u001b[0mshort\u001b[0m\u001b[0;34m=\u001b[0m\u001b[0mshort\u001b[0m\u001b[0;34m,\u001b[0m \u001b[0mexplain\u001b[0m\u001b[0;34m=\u001b[0m\u001b[0mexplain\u001b[0m\u001b[0;34m,\u001b[0m \u001b[0mlong\u001b[0m\u001b[0;34m=\u001b[0m\u001b[0mlong\u001b[0m\u001b[0;34m,\u001b[0m \u001b[0mtraceback\u001b[0m\u001b[0;34m=\u001b[0m\u001b[0mtraceback\u001b[0m\u001b[0;34m\u001b[0m\u001b[0;34m\u001b[0m\u001b[0m\n\u001b[1;32m    124\u001b[0m         )\n",
      "\u001b[0;31mSpiceFILENOTFOUND\u001b[0m: \n================================================================================\n\nToolkit version: CSPICE_N0067\n\nSPICE(FILENOTFOUND) --\n\nThe file 'path_to_dsk_file.bds' does not exist.\n\ndasopr_c --> DASOPR --> ZZDDHOPN\n\n================================================================================"
     ]
    }
   ],
   "source": [
    "# Open the DSK file for read access\n",
    "handle = spice.dasopr(dsk_file)\n",
    "dladsc = spice.dlabfs(handle)\n",
    "\n",
    "if dladsc:\n",
    "    # Get the number of vertices and plates\n",
    "    nv, _np = spice.dskz02(handle, dladsc)\n",
    "    print(f\"Number of vertices: {nv}\")\n",
    "    print(f\"Number of plates: {_np}\")\n",
    "\n",
    "    # Read all vertices\n",
    "    vertices = []\n",
    "    for start in range(1, nv + 1, 1000):\n",
    "        n = min(1000, nv - start + 1)\n",
    "        verts = spice.dskv02(handle, dladsc, start, n)\n",
    "        vertices.extend(verts)\n",
    "\n",
    "    # Read all plates\n",
    "    plates = []\n",
    "    for start in range(1, _np + 1, 1000):\n",
    "        n = min(1000, _np - start + 1)\n",
    "        pls = spice.dskp02(handle, dladsc, start, n)\n",
    "        plates.extend(pls)\n",
    "\n",
    "    # Convert to numpy arrays for easier manipulation\n",
    "    vertices = np.array(vertices)\n",
    "    plates = np.array(plates) - 1  # Convert to 0-based indexing for Python\n",
    "\n",
    "    print(\"Sample vertices:\", vertices[:5])\n",
    "    print(\"Sample plates:\", plates[:5])\n",
    "else:\n",
    "    print(\"No segment found in DSK file.\")\n",
    "\n",
    "# Close the DSK file\n",
    "spice.dascls(handle)"
   ]
  },
  {
   "cell_type": "code",
   "execution_count": 5,
   "metadata": {},
   "outputs": [
    {
     "data": {
      "text/plain": [
       "['__class__',\n",
       " '__ctypes_from_outparam__',\n",
       " '__delattr__',\n",
       " '__dict__',\n",
       " '__dir__',\n",
       " '__doc__',\n",
       " '__eq__',\n",
       " '__format__',\n",
       " '__ge__',\n",
       " '__getattribute__',\n",
       " '__gt__',\n",
       " '__hash__',\n",
       " '__init__',\n",
       " '__init_subclass__',\n",
       " '__le__',\n",
       " '__lt__',\n",
       " '__module__',\n",
       " '__ne__',\n",
       " '__new__',\n",
       " '__reduce__',\n",
       " '__reduce_ex__',\n",
       " '__repr__',\n",
       " '__setattr__',\n",
       " '__setstate__',\n",
       " '__sizeof__',\n",
       " '__str__',\n",
       " '__subclasshook__',\n",
       " '__weakref__',\n",
       " '_b_base_',\n",
       " '_b_needsfree_',\n",
       " '_bwdptr',\n",
       " '_cbase',\n",
       " '_csize',\n",
       " '_dbase',\n",
       " '_dsize',\n",
       " '_fields_',\n",
       " '_fwdptr',\n",
       " '_ibase',\n",
       " '_isize',\n",
       " '_objects',\n",
       " 'bwdptr',\n",
       " 'cbase',\n",
       " 'csize',\n",
       " 'dbase',\n",
       " 'dsize',\n",
       " 'fwdptr',\n",
       " 'ibase',\n",
       " 'isize']"
      ]
     },
     "execution_count": 5,
     "metadata": {},
     "output_type": "execute_result"
    }
   ],
   "source": [
    "x = spice.dlabfs(handle)\n",
    "dir(x)"
   ]
  },
  {
   "cell_type": "code",
   "execution_count": 10,
   "metadata": {},
   "outputs": [
    {
     "name": "stdout",
     "output_type": "stream",
     "text": [
      "Loading SPICE Kernels...\n"
     ]
    },
    {
     "ename": "SpiceDASFILEREADFAILED",
     "evalue": "\n================================================================================\n\nToolkit version: CSPICE_N0067\n\nSPICE(DASFILEREADFAILED) --\n\nCould not read DAS integer record. File = /media/mglos/HDD_8TB1/LOLA_DSK/Lunar_4_percent.dsk Record number = 2. IOSTAT = -1.\n\nfurnsh_c --> FURNSH --> ZZLDKER --> ZZDSKLSF --> DASOPR --> ZZDASGRI\n\n================================================================================",
     "output_type": "error",
     "traceback": [
      "\u001b[0;31m---------------------------------------------------------------------------\u001b[0m",
      "\u001b[0;31mSpiceDASFILEREADFAILED\u001b[0m                    Traceback (most recent call last)",
      "\u001b[0;32m/tmp/ipykernel_261784/1798210153.py\u001b[0m in \u001b[0;36m?\u001b[0;34m()\u001b[0m\n\u001b[0;32m---> 14\u001b[0;31m \u001b[0;32mimport\u001b[0m \u001b[0mspiceypy\u001b[0m \u001b[0;32mas\u001b[0m \u001b[0mspice\u001b[0m\u001b[0;34m\u001b[0m\u001b[0;34m\u001b[0m\u001b[0m\n\u001b[0m\u001b[1;32m     15\u001b[0m \u001b[0;32mimport\u001b[0m \u001b[0mnumpy\u001b[0m \u001b[0;32mas\u001b[0m \u001b[0mnp\u001b[0m\u001b[0;34m\u001b[0m\u001b[0;34m\u001b[0m\u001b[0m\n\u001b[1;32m     16\u001b[0m \u001b[0;32mimport\u001b[0m \u001b[0mplotly\u001b[0m\u001b[0;34m.\u001b[0m\u001b[0mgraph_objects\u001b[0m \u001b[0;32mas\u001b[0m \u001b[0mgo\u001b[0m\u001b[0;34m\u001b[0m\u001b[0;34m\u001b[0m\u001b[0m\n\u001b[1;32m     17\u001b[0m \u001b[0;32mimport\u001b[0m \u001b[0mmatplotlib\u001b[0m\u001b[0;34m.\u001b[0m\u001b[0mpyplot\u001b[0m \u001b[0;32mas\u001b[0m \u001b[0mplt\u001b[0m\u001b[0;34m\u001b[0m\u001b[0;34m\u001b[0m\u001b[0m\n",
      "\u001b[0;32m~/anaconda3/envs/lavatubesniffer/lib/python3.9/site-packages/spiceypy/spiceypy.py\u001b[0m in \u001b[0;36m?\u001b[0;34m(*args, **kwargs)\u001b[0m\n\u001b[1;32m    138\u001b[0m             \u001b[0mres\u001b[0m \u001b[0;34m=\u001b[0m \u001b[0mf\u001b[0m\u001b[0;34m(\u001b[0m\u001b[0;34m*\u001b[0m\u001b[0margs\u001b[0m\u001b[0;34m,\u001b[0m \u001b[0;34m**\u001b[0m\u001b[0mkwargs\u001b[0m\u001b[0;34m)\u001b[0m\u001b[0;34m\u001b[0m\u001b[0;34m\u001b[0m\u001b[0m\n\u001b[1;32m    139\u001b[0m             \u001b[0mcheck_for_spice_error\u001b[0m\u001b[0;34m(\u001b[0m\u001b[0mf\u001b[0m\u001b[0;34m)\u001b[0m\u001b[0;34m\u001b[0m\u001b[0;34m\u001b[0m\u001b[0m\n\u001b[1;32m    140\u001b[0m             \u001b[0;32mreturn\u001b[0m \u001b[0mres\u001b[0m\u001b[0;34m\u001b[0m\u001b[0;34m\u001b[0m\u001b[0m\n\u001b[1;32m    141\u001b[0m         \u001b[0;32mexcept\u001b[0m \u001b[0mBaseException\u001b[0m\u001b[0;34m:\u001b[0m\u001b[0;34m\u001b[0m\u001b[0;34m\u001b[0m\u001b[0m\n\u001b[0;32m--> 142\u001b[0;31m             \u001b[0;32mraise\u001b[0m\u001b[0;34m\u001b[0m\u001b[0;34m\u001b[0m\u001b[0m\n\u001b[0m",
      "\u001b[0;32m~/anaconda3/envs/lavatubesniffer/lib/python3.9/site-packages/spiceypy/spiceypy.py\u001b[0m in \u001b[0;36m?\u001b[0;34m(f)\u001b[0m\n\u001b[1;32m    118\u001b[0m         \u001b[0mexplain\u001b[0m \u001b[0;34m=\u001b[0m \u001b[0mgetmsg\u001b[0m\u001b[0;34m(\u001b[0m\u001b[0;34m\"EXPLAIN\"\u001b[0m\u001b[0;34m,\u001b[0m \u001b[0;36m100\u001b[0m\u001b[0;34m)\u001b[0m\u001b[0;34m.\u001b[0m\u001b[0mstrip\u001b[0m\u001b[0;34m(\u001b[0m\u001b[0;34m)\u001b[0m\u001b[0;34m\u001b[0m\u001b[0;34m\u001b[0m\u001b[0m\n\u001b[1;32m    119\u001b[0m         \u001b[0mlong\u001b[0m \u001b[0;34m=\u001b[0m \u001b[0mgetmsg\u001b[0m\u001b[0;34m(\u001b[0m\u001b[0;34m\"LONG\"\u001b[0m\u001b[0;34m,\u001b[0m \u001b[0;36m1841\u001b[0m\u001b[0;34m)\u001b[0m\u001b[0;34m.\u001b[0m\u001b[0mstrip\u001b[0m\u001b[0;34m(\u001b[0m\u001b[0;34m)\u001b[0m\u001b[0;34m\u001b[0m\u001b[0;34m\u001b[0m\u001b[0m\n\u001b[1;32m    120\u001b[0m         \u001b[0mtraceback\u001b[0m \u001b[0;34m=\u001b[0m \u001b[0mqcktrc\u001b[0m\u001b[0;34m(\u001b[0m\u001b[0;36m200\u001b[0m\u001b[0;34m)\u001b[0m\u001b[0;34m\u001b[0m\u001b[0;34m\u001b[0m\u001b[0m\n\u001b[1;32m    121\u001b[0m         \u001b[0mreset\u001b[0m\u001b[0;34m(\u001b[0m\u001b[0;34m)\u001b[0m\u001b[0;34m\u001b[0m\u001b[0;34m\u001b[0m\u001b[0m\n\u001b[0;32m--> 122\u001b[0;31m         raise dynamically_instantiate_spiceyerror(\n\u001b[0m\u001b[1;32m    123\u001b[0m             \u001b[0mshort\u001b[0m\u001b[0;34m=\u001b[0m\u001b[0mshort\u001b[0m\u001b[0;34m,\u001b[0m \u001b[0mexplain\u001b[0m\u001b[0;34m=\u001b[0m\u001b[0mexplain\u001b[0m\u001b[0;34m,\u001b[0m \u001b[0mlong\u001b[0m\u001b[0;34m=\u001b[0m\u001b[0mlong\u001b[0m\u001b[0;34m,\u001b[0m \u001b[0mtraceback\u001b[0m\u001b[0;34m=\u001b[0m\u001b[0mtraceback\u001b[0m\u001b[0;34m\u001b[0m\u001b[0;34m\u001b[0m\u001b[0m\n\u001b[1;32m    124\u001b[0m         )\n",
      "\u001b[0;31mSpiceDASFILEREADFAILED\u001b[0m: \n================================================================================\n\nToolkit version: CSPICE_N0067\n\nSPICE(DASFILEREADFAILED) --\n\nCould not read DAS integer record. File = /media/mglos/HDD_8TB1/LOLA_DSK/Lunar_4_percent.dsk Record number = 2. IOSTAT = -1.\n\nfurnsh_c --> FURNSH --> ZZLDKER --> ZZDSKLSF --> DASOPR --> ZZDASGRI\n\n================================================================================"
     ]
    }
   ],
   "source": [
    "import spiceypy as spice\n",
    "import numpy as np\n",
    "import plotly.graph_objects as go\n",
    "import matplotlib.pyplot as plt\n",
    "import os\n",
    "\n",
    "# 🔹 Define input DSK file\n",
    "DSK_FILE = \"/media/mglos/HDD_8TB1/LOLA_DSK/Lunar_4_percent.dsk\"\n",
    "CACHE_DIR = \"/media/mglos/HDD_8TB1/LOLA_DSK/CACHE/\"\n",
    "os.makedirs(CACHE_DIR, exist_ok=True)\n",
    "\n",
    "# 🔹 Load SPICE Kernels\n",
    "print(\"Loading SPICE Kernels...\")\n",
    "spice.furnsh(DSK_FILE)\n",
    "print(\"✅ Kernels Loaded.\")\n",
    "\n",
    "# 🔹 Extract Shape Model Data\n",
    "print(\"Extracting DSK data...\")\n",
    "dladsc = spice.dlabfs(DSK_FILE)  # Find first segment\n",
    "nv, vrtces = spice.dskv02(DSK_FILE, dladsc, 1, 10000000)  # Load vertices\n",
    "np, plates = spice.dskp02(DSK_FILE, dladsc, 1, 10000000)  # Load plates\n",
    "print(f\"✅ Loaded {nv} vertices and {np} plates.\")\n",
    "\n",
    "# 🔹 Convert Vertices to Numpy Array\n",
    "vrtces = np.array(vrtces)\n",
    "lon, lat, radius = spice.reclat(vrtces.T)\n",
    "lon, lat, radius = np.degrees(lon), np.degrees(lat), radius\n",
    "\n",
    "# 🔹 3D Globe Visualization\n",
    "print(\"Generating 3D Globe Visualization...\")\n",
    "fig_3d = go.Figure(data=[\n",
    "    go.Scatter3d(\n",
    "        x=vrtces[:, 0], y=vrtces[:, 1], z=vrtces[:, 2],\n",
    "        mode='markers',\n",
    "        marker=dict(size=1, color=radius, colorscale='Viridis', opacity=1)\n",
    "    )\n",
    "])\n",
    "fig_3d.update_layout(\n",
    "    title=\"3D Lunar Shape Model\",\n",
    "    scene=dict(\n",
    "        xaxis_title=\"X (km)\",\n",
    "        yaxis_title=\"Y (km)\",\n",
    "        zaxis_title=\"Z (km)\",\n",
    "        aspectmode='data'\n",
    "    )\n",
    ")\n",
    "fig_3d.show()\n",
    "\n",
    "# 🔹 2D Cylindrical Projection Map\n",
    "print(\"Generating 2D Cylindrical Projection...\")\n",
    "fig, ax = plt.subplots(figsize=(12, 6))\n",
    "sc = ax.scatter(lon, lat, c=radius, cmap='viridis', s=0.5)\n",
    "ax.set_xlabel(\"Longitude (°)\")\n",
    "ax.set_ylabel(\"Latitude (°)\")\n",
    "ax.set_title(\"Simple Cylindrical Projection of Lunar Surface\")\n",
    "plt.colorbar(sc, label=\"Elevation (km)\")\n",
    "plt.show()\n",
    "\n",
    "# Cleanup\n",
    "spice.kclear()\n",
    "print(\"✅ Visualization Completed.\")\n"
   ]
  },
  {
   "cell_type": "code",
   "execution_count": 1,
   "metadata": {},
   "outputs": [
    {
     "name": "stderr",
     "output_type": "stream",
     "text": [
      "Processing ck: 100%|████████████████████████████████████████████████████████████████████████████████████████████████████████████████████████████████████████████████| 185/185 [00:00<00:00, 2961.99it/s]\n",
      "Processing ck: 100%|████████████████████████████████████████████████████████████████████████████████████████████████████████████████████████████████████████████████| 719/719 [00:00<00:00, 2957.85it/s]\n",
      "Processing spk: 100%|█████████████████████████████████████████████████████████████████████████████████████████████████████████████████████████████████████████████████| 60/60 [00:00<00:00, 2388.60it/s]\n",
      "Loading static SPICE kernels: 100%|█████████████████████████████████████████████████████████████████████████████████████████████████████████████████████████████████████| 77/77 [00:06<00:00, 11.24it/s]\n"
     ]
    }
   ],
   "source": [
    "import sys\n",
    "import importlib\n",
    "from datetime import timedelta\n",
    "import spiceypy\n",
    "from pprint import pprint\n",
    "from astropy.time import TimeDelta\n",
    "\n",
    "sys.path.insert(0, \"/home/mglos/skola/DIP/LavaTubeSniffer\")\n",
    "from src.scripts.SPICE.config import TIME_STEP, DIVINER_INSTRUMENT_IDS\n",
    "from src.mongo.interface import Sessions\n",
    "from src.scripts.SPICE import utils\n",
    "\n",
    "importlib.reload(utils)\n",
    "\n",
    "DIVINER_INSTRUMENT_IDS = [-85211,-85212,-85213,-85214,-85215,-85216,-85221,-85222,-85223]\n",
    "sweep_iterator = utils.SweepIterator()\n",
    "\n",
    "computation_start = sweep_iterator.min_loaded_time\n",
    "computation_end = sweep_iterator.max_loaded_time\n",
    "\n",
    "computation_timedelta = timedelta(days=1000)\n",
    "computation_now = computation_start + computation_timedelta\n",
    "\n",
    "sweep_iterator.initiate_sweep(computation_now)"
   ]
  },
  {
   "cell_type": "code",
   "execution_count": 2,
   "metadata": {},
   "outputs": [],
   "source": [
    "spiceypy.furnsh(\"/media/mglos/HDD_8TB1/SPICE/moon_pa_de440_200625.bpc\")\n",
    "spiceypy.furnsh(\"/media/mglos/HDD_8TB1/SPICE/pck00011.tpc\")\n",
    "spiceypy.furnsh(\"/media/mglos/HDD_8TB1/SPICE/de441_part-1.bsp\")\n",
    "spiceypy.furnsh(\"/media/mglos/HDD_8TB1/SPICE/de441_part-2.bsp\")\n",
    "spiceypy.furnsh(\"/media/mglos/HDD_8TB1/LOLA_DSK/Lunar_LDEM_118m.dsk\")"
   ]
  },
  {
   "cell_type": "code",
   "execution_count": null,
   "metadata": {},
   "outputs": [],
   "source": [
    "# dsk_public = \"/media/mglos/HDD_8TB1/SPICE/moon_lowres.bds\"\n",
    "# dsk_my = \"/media/mglos/HDD_8TB1/LOLA_DSK/Lunar_LDEM_118m.dsk\""
   ]
  },
  {
   "cell_type": "code",
   "execution_count": 20,
   "metadata": {},
   "outputs": [
    {
     "name": "stdout",
     "output_type": "stream",
     "text": [
      "My DSK: 423660 vertices, 844560 plates\n",
      "NASA DSK: 1036802 vertices, 2073600 plates\n",
      "My DSK X range: -1741.5482129372003 to 1736.629830636686\n",
      "NASA DSK X range: -1741.2182901571475 to 1736.6702340361821\n",
      "My DSK Y range: -1737.9811480796482 to 1737.8392936213113\n",
      "NASA DSK Y range: -1739.6183206848473 to 1734.4791794582102\n",
      "My DSK Z range: -1742.9273975305987 to 1742.4274441726163\n",
      "NASA DSK Z range: -1739.0668613194475 to 1737.6348647273535\n",
      "Mean position difference: 1.281602591918171 km\n"
     ]
    }
   ],
   "source": [
    "# import spiceypy as spice\n",
    "# import numpy as np\n",
    "\n",
    "# # Open both DSK files\n",
    "# handle1 = spice.dasopr(dsk_my)\n",
    "# handle2 = spice.dasopr(dsk_public)\n",
    "\n",
    "# # Read the first segment of each DSK\n",
    "# dladsc1 = spice.dlabfs(handle1)\n",
    "# dladsc2 = spice.dlabfs(handle2)\n",
    "\n",
    "# # Get vertex and plate counts\n",
    "# nv1, np1 = spice.dskz02(handle1, dladsc1)\n",
    "# nv2, np2 = spice.dskz02(handle2, dladsc2)\n",
    "\n",
    "# print(f\"My DSK: {nv1} vertices, {np1} plates\")\n",
    "# print(f\"NASA DSK: {nv2} vertices, {np2} plates\")\n",
    "\n",
    "# # Read vertices and plates\n",
    "# vertices1 = np.array(spice.dskv02(handle1, dladsc1, 1, nv1))\n",
    "# plates1 = np.array(spice.dskp02(handle1, dladsc1, 1, np1)) - 1  # Convert to 0-based indexing\n",
    "\n",
    "# vertices2 = np.array(spice.dskv02(handle2, dladsc2, 1, nv2))\n",
    "# plates2 = np.array(spice.dskp02(handle2, dladsc2, 1, np2)) - 1\n",
    "\n",
    "# # Close files\n",
    "# spice.dascls(handle1)\n",
    "# spice.dascls(handle2)\n",
    "\n",
    "# # Compare Min/Max values\n",
    "# print(f\"My DSK X range: {vertices1[:,0].min()} to {vertices1[:,0].max()}\")\n",
    "# print(f\"NASA DSK X range: {vertices2[:,0].min()} to {vertices2[:,0].max()}\")\n",
    "\n",
    "# print(f\"My DSK Y range: {vertices1[:,1].min()} to {vertices1[:,1].max()}\")\n",
    "# print(f\"NASA DSK Y range: {vertices2[:,1].min()} to {vertices2[:,1].max()}\")\n",
    "\n",
    "# print(f\"My DSK Z range: {vertices1[:,2].min()} to {vertices1[:,2].max()}\")\n",
    "# print(f\"NASA DSK Z range: {vertices2[:,2].min()} to {vertices2[:,2].max()}\")\n",
    "\n",
    "# # Compute vertex mean distance\n",
    "# mean_dist = np.linalg.norm(vertices1.mean(axis=0) - vertices2.mean(axis=0))\n",
    "# print(f\"Mean position difference: {mean_dist} km\")\n"
   ]
  },
  {
   "cell_type": "code",
   "execution_count": null,
   "metadata": {},
   "outputs": [],
   "source": [
    "# import spiceypy as spice\n",
    "# import numpy as np\n",
    "\n",
    "# # 🔹 Load both DSK files\n",
    "# dsk1 = \"/path/to/your_generated.dsk\"\n",
    "# dsk2 = \"/path/to/NASA_reference.dsk\"\n",
    "\n",
    "\n",
    "\n",
    "# handles = []\n",
    "# handles.append(spice.dasopr(dsk1))\n",
    "# handles.append(spice.dasopr(dsk2))\n",
    "\n",
    "# # 🔹 Get segment information\n",
    "# dladsc1 = spice.dlabfs(handles[0])  # First segment\n",
    "# dladsc2 = spice.dlabfs(handles[1])\n",
    "\n",
    "# # 🔹 Define test query points (lon, lat in radians)\n",
    "# test_lonlat = [\n",
    "#     (np.radians(-90), np.radians(0)),  # Prime meridian, equator\n",
    "#     (np.radians(0), np.radians(45)),   # 45° North\n",
    "#     (np.radians(90), np.radians(-30)), # 30° South, 90° East\n",
    "# ]\n",
    "\n",
    "# # 🔹 Convert lon/lat into ray vectors (for DSK query)\n",
    "# target_body = 301  # Moon\n",
    "# frame = \"MOON_ME\"\n",
    "# abcorr = \"NONE\"\n",
    "# observer = 0  # Assume we are querying from center of Moon\n",
    "# radii = [1737400, 1737400, 1737400]  # Moon reference ellipsoid\n",
    "\n",
    "# for lon, lat in test_lonlat:\n",
    "#     raydir = spice.srfrec(target_body, lon, lat, radii[0])  # Convert to XYZ vector\n",
    "\n",
    "#     # 🔹 Query both DSKs at the same location\n",
    "#     xpt1, found1 = spice.dskxv(False, handles[0], dladsc1, frame, raydir, observer, abcorr)\n",
    "#     xpt2, found2 = spice.dskxv(False, handles[1], dladsc2, frame, raydir, observer, abcorr)\n",
    "\n",
    "#     if found1 and found2:\n",
    "#         print(f\"📍 Query at Lon: {np.degrees(lon)}, Lat: {np.degrees(lat)}\")\n",
    "#         print(f\"  My DSK Elevation: {xpt1[-1]:.3f} km\")\n",
    "#         print(f\"  NASA DSK Elevation: {xpt2[-1]:.3f} km\")\n",
    "#         print(f\"  Difference: {abs(xpt1[-1] - xpt2[-1]):.3f} km\\n\")\n",
    "\n",
    "# # 🔹 Close the DSK files\n",
    "# spice.dascls(handles[0])\n",
    "# spice.dascls(handles[1])\n"
   ]
  },
  {
   "cell_type": "code",
   "execution_count": 17,
   "metadata": {},
   "outputs": [
    {
     "name": "stdout",
     "output_type": "stream",
     "text": [
      "My point [-8.77905235e-13 -1.73732000e+03 -1.75581047e-12]; other point [   0.            0.         1737.29807847]\n"
     ]
    }
   ],
   "source": [
    "# print(f\"My point {vertices1[0]}; other point {vertices2[0]}\")"
   ]
  },
  {
   "cell_type": "code",
   "execution_count": 18,
   "metadata": {},
   "outputs": [
    {
     "name": "stdout",
     "output_type": "stream",
     "text": [
      "My point [-1.06393028e-13  1.73753000e+03  2.12786055e-13]; other point [    0.            0.        -1737.4311316]\n"
     ]
    }
   ],
   "source": [
    "# print(f\"My point {vertices1[-1]}; other point {vertices2[-1]}\")"
   ]
  },
  {
   "cell_type": "code",
   "execution_count": 19,
   "metadata": {},
   "outputs": [
    {
     "name": "stdout",
     "output_type": "stream",
     "text": [
      "My point [-1.74059981e+03  5.95672867e+00 -1.75913549e-12]; other point [1736.67023404    3.78883271   -3.78884173]\n"
     ]
    }
   ],
   "source": [
    "# print(f\"My point {vertices1[int(len(vertices1)/2)]}; other point {vertices2[int(len(vertices2)/2)]}\")"
   ]
  },
  {
   "cell_type": "code",
   "execution_count": 2,
   "metadata": {},
   "outputs": [
    {
     "name": "stderr",
     "output_type": "stream",
     "text": [
      "Processing ck: 100%|████████████████████████████████████████████████████████████████████████████████████████████████████████████████████████████████████████████████| 185/185 [00:00<00:00, 2238.80it/s]\n",
      "Processing ck: 100%|████████████████████████████████████████████████████████████████████████████████████████████████████████████████████████████████████████████████| 719/719 [00:00<00:00, 2792.21it/s]\n",
      "Processing spk: 100%|█████████████████████████████████████████████████████████████████████████████████████████████████████████████████████████████████████████████████| 60/60 [00:00<00:00, 2637.32it/s]\n",
      "Loading static SPICE kernels: 100%|█████████████████████████████████████████████████████████████████████████████████████████████████████████████████████████████████████| 77/77 [00:07<00:00, 10.71it/s]\n"
     ]
    },
    {
     "name": "stdout",
     "output_type": "stream",
     "text": [
      "[-4.70541289e-04  3.48390510e-02 -9.99392825e-01]\n",
      "[-4.70508474e-04  2.11845630e-02 -9.99775471e-01]\n",
      "[-2.62134746e-04  6.20422281e-03 -9.99980719e-01]\n",
      "[ 3.15274790e-05 -7.84337655e-03 -9.99969240e-01]\n",
      "[ 1.63894230e-04 -2.13255346e-02 -9.99772571e-01]\n",
      "[ 1.54082347e-04 -3.30422543e-02 -9.99453944e-01]\n",
      "[-6.99791693e-04  3.68294807e-02 -9.99321320e-01]\n",
      "[-8.44512893e-04  4.23016546e-03 -9.99990696e-01]\n",
      "[-0.00116639 -0.03207335 -0.99948484]\n"
     ]
    },
    {
     "data": {
      "text/plain": [
       "(array([-308.60738153, -421.4701902 , 1656.99854354]),\n",
       " 386484690.3960072,\n",
       " array([  28.20908259,   50.81622861, -185.34341701]))"
      ]
     },
     "execution_count": 2,
     "metadata": {},
     "output_type": "execute_result"
    }
   ],
   "source": [
    "import spiceypy as spice\n",
    "import spiceypy\n",
    "spiceypy.tkvrsn('TOOLKIT')\n",
    "\n",
    "import sys\n",
    "import importlib\n",
    "from datetime import timedelta\n",
    "\n",
    "from pprint import pprint\n",
    "from astropy.time import TimeDelta\n",
    "\n",
    "sys.path.insert(0, \"/home/mglos/skola/DIP/LavaTubeSniffer\")\n",
    "from src.scripts.SPICE.config import TIME_STEP, DIVINER_INSTRUMENT_IDS\n",
    "from src.mongo.interface import Sessions\n",
    "from src.scripts.SPICE import utils\n",
    "\n",
    "importlib.reload(utils)\n",
    "\n",
    "DIVINER_INSTRUMENT_IDS = [-85211,-85212,-85213,-85214,-85215,-85216,-85221,-85222,-85223]\n",
    "sweep_iterator = utils.SweepIterator()\n",
    "\n",
    "computation_start = sweep_iterator.min_loaded_time\n",
    "computation_end = sweep_iterator.max_loaded_time\n",
    "\n",
    "computation_timedelta = timedelta(days=1000)\n",
    "computation_now = computation_start + computation_timedelta\n",
    "\n",
    "sweep_iterator.initiate_sweep(computation_now)\n",
    "spiceypy.furnsh(\"/media/mglos/HDD_8TB1/SPICE/moon_pa_de440_200625.bpc\")\n",
    "spiceypy.furnsh(\"/media/mglos/HDD_8TB1/SPICE/pck00011.tpc\")\n",
    "spiceypy.furnsh(\"/media/mglos/HDD_8TB1/SPICE/de441_part-1.bsp\")\n",
    "spiceypy.furnsh(\"/media/mglos/HDD_8TB1/SPICE/de441_part-2.bsp\")\n",
    "spiceypy.furnsh(\"/media/mglos/HDD_8TB1/SPICE/moon_lowres.bds\")\n",
    "\n",
    "\n",
    "points = Sessions.get_all_pits_points()\n",
    "\n",
    "from astropy.time import Time\n",
    "import spiceypy as spice\n",
    "\n",
    "time_utc = computation_start.utc.iso\n",
    "computation_now = computation_start + computation_timedelta\n",
    "et = spice.str2et(computation_now.utc.iso)\n",
    "\n",
    "# Store FOV parameters for each channel\n",
    "fov_data = {}\n",
    "for naif_id in DIVINER_INSTRUMENT_IDS:\n",
    "    # Get FOV shape, boresight, and boundary vectors\n",
    "    shape, frame, boresight, n, bounds = spice.getfov(naif_id, room=100)\n",
    "    fov_data[naif_id] = {\n",
    "        \"shape\": shape,\n",
    "        \"boresight\": boresight,\n",
    "        \"bounds\": bounds,\n",
    "        \"frame\": frame,\n",
    "    }\n",
    "\n",
    "for fov in fov_data.values():\n",
    "    print(fov['boresight'])\n",
    "\n",
    "\n",
    "spice.sincpt('DSK/UNPRIORITIZED', 'MOON', et, \"MOON_ME\", 'CN+S', 'LUNAR RECONNAISSANCE ORBITER', 'LRO_DLRE_FP_A', fov_data[-85222]['bounds'][1])\n",
    "#spice.spkpos('MOON', et, 'J2000', 'NONE', 'LRO')"
   ]
  },
  {
   "cell_type": "code",
   "execution_count": 8,
   "metadata": {},
   "outputs": [
    {
     "name": "stdout",
     "output_type": "stream",
     "text": [
      "[-4.70541289e-04  3.48390510e-02 -9.99392825e-01]\n",
      "[-4.70508474e-04  2.11845630e-02 -9.99775471e-01]\n",
      "[-2.62134746e-04  6.20422281e-03 -9.99980719e-01]\n",
      "[ 3.15274790e-05 -7.84337655e-03 -9.99969240e-01]\n",
      "[ 1.63894230e-04 -2.13255346e-02 -9.99772571e-01]\n",
      "[ 1.54082347e-04 -3.30422543e-02 -9.99453944e-01]\n",
      "[-6.99791693e-04  3.68294807e-02 -9.99321320e-01]\n",
      "[-8.44512893e-04  4.23016546e-03 -9.99990696e-01]\n",
      "[-0.00116639 -0.03207335 -0.99948484]\n"
     ]
    },
    {
     "data": {
      "text/plain": [
       "(array([-294.02761628, -423.39811147, 1659.68186213]),\n",
       " 386484690.39600843,\n",
       " array([  42.78848705,   48.88795965, -182.65877747]))"
      ]
     },
     "execution_count": 8,
     "metadata": {},
     "output_type": "execute_result"
    }
   ],
   "source": [
    "points = Sessions.get_all_pits_points()\n",
    "\n",
    "from astropy.time import Time\n",
    "import spiceypy as spice\n",
    "\n",
    "time_utc = computation_start.utc.iso\n",
    "computation_now = computation_start + computation_timedelta\n",
    "et = spice.str2et(computation_now.utc.iso)\n",
    "\n",
    "# Store FOV parameters for each channel\n",
    "fov_data = {}\n",
    "for naif_id in DIVINER_INSTRUMENT_IDS:\n",
    "    # Get FOV shape, boresight, and boundary vectors\n",
    "    shape, frame, boresight, n, bounds = spice.getfov(naif_id, room=100)\n",
    "    fov_data[naif_id] = {\n",
    "        \"shape\": shape,\n",
    "        \"boresight\": boresight,\n",
    "        \"bounds\": bounds,\n",
    "        \"frame\": frame,\n",
    "    }\n",
    "\n",
    "for fov in fov_data.values():\n",
    "    print(fov['boresight'])\n",
    "\n",
    "\n",
    "spice.sincpt('DSK/UNPRIORITIZED', 'MOON', et, \"MOON_ME\", 'CN+S', 'LUNAR RECONNAISSANCE ORBITER', 'LRO_DLRE_FP_A', diviner_bounds[0])\n",
    "#spice.spkpos('MOON', et, 'J2000', 'NONE', 'LRO')"
   ]
  },
  {
   "cell_type": "code",
   "execution_count": 4,
   "metadata": {},
   "outputs": [
    {
     "data": {
      "text/plain": [
       "array([-3.55946048e-02,  8.25994569e-04, -9.99365970e-01])"
      ]
     },
     "execution_count": 4,
     "metadata": {},
     "output_type": "execute_result"
    }
   ],
   "source": [
    "fov_data[-85222]['bounds'][1]"
   ]
  },
  {
   "cell_type": "code",
   "execution_count": 5,
   "metadata": {},
   "outputs": [],
   "source": [
    "# Load the instrument data. TODO: Maybe \n",
    "diviner_bounds = []\n",
    "for naif_id in DIVINER_INSTRUMENT_IDS:\n",
    "    # Get FOV shape, boresight, and boundary vectors\n",
    "    shape, frame, boresight, n, bounds = spice.getfov(naif_id, room=100)\n",
    "    diviner_bounds.extend(bounds.copy())"
   ]
  },
  {
   "cell_type": "code",
   "execution_count": 7,
   "metadata": {},
   "outputs": [
    {
     "data": {
      "text/plain": [
       "array([ 0.03480622,  0.03204172, -0.9988803 ])"
      ]
     },
     "execution_count": 7,
     "metadata": {},
     "output_type": "execute_result"
    }
   ],
   "source": [
    "diviner_bounds[0]"
   ]
  },
  {
   "cell_type": "code",
   "execution_count": 9,
   "metadata": {},
   "outputs": [
    {
     "data": {
      "text/plain": [
       "{-85211: {'shape': 'POLYGON',\n",
       "  'boresight': array([-4.70541289e-04,  3.48390510e-02, -9.99392825e-01]),\n",
       "  'bounds': array([[ 0.03480622,  0.03204172, -0.9988803 ],\n",
       "         [ 0.03480597,  0.03763517, -0.9986852 ],\n",
       "         [-0.03560505,  0.03814578, -0.99863766],\n",
       "         [-0.03560531,  0.03255259, -0.99883562]]),\n",
       "  'frame': 'LRO_DLRE_FP_A'},\n",
       " -85212: {'shape': 'POLYGON',\n",
       "  'boresight': array([-4.70508474e-04,  2.11845630e-02, -9.99775471e-01]),\n",
       "  'bounds': array([[ 0.03491917,  0.02018487, -0.99918628],\n",
       "         [ 0.03491912,  0.0221833 , -0.99914391],\n",
       "         [-0.03533702,  0.02205985, -0.99913195],\n",
       "         [-0.03533707,  0.02006145, -0.99917407]]),\n",
       "  'frame': 'LRO_DLRE_FP_A'},\n",
       " -85213: {'shape': 'POLYGON',\n",
       "  'boresight': array([-2.62134746e-04,  6.20422281e-03, -9.99980719e-01]),\n",
       "  'bounds': array([[ 0.03506375,  0.00400503, -0.99937705],\n",
       "         [ 0.03506371,  0.00840245, -0.99934976],\n",
       "         [-0.03494741,  0.00833187, -0.99935442],\n",
       "         [-0.03494744,  0.00393446, -0.99938141]]),\n",
       "  'frame': 'LRO_DLRE_FP_A'},\n",
       " -85214: {'shape': 'POLYGON',\n",
       "  'boresight': array([ 3.15274790e-05, -7.84337655e-03, -9.99969240e-01]),\n",
       "  'bounds': array([[ 0.03474555, -0.01004252, -0.99934573],\n",
       "         [ 0.03474559, -0.00564512, -0.99938025],\n",
       "         [-0.03451221, -0.00582143, -0.99938732],\n",
       "         [-0.03451217, -0.01021884, -0.99935203]]),\n",
       "  'frame': 'LRO_DLRE_FP_A'},\n",
       " -85215: {'shape': 'POLYGON',\n",
       "  'boresight': array([ 1.63894230e-04, -2.13255346e-02, -9.99772571e-01]),\n",
       "  'bounds': array([[ 0.03495304, -0.02301882, -0.99912383],\n",
       "         [ 0.03495315, -0.01942166, -0.99920022],\n",
       "         [-0.03416136, -0.01943929, -0.99922726],\n",
       "         [-0.03416127, -0.02303652, -0.9991508 ]]),\n",
       "  'frame': 'LRO_DLRE_FP_A'},\n",
       " -85216: {'shape': 'POLYGON',\n",
       "  'boresight': array([ 1.54082347e-04, -3.30422543e-02, -9.99453944e-01]),\n",
       "  'bounds': array([[ 0.03439153, -0.03465853, -0.99880729],\n",
       "         [ 0.03439166, -0.03146204, -0.99891309],\n",
       "         [-0.0337197 , -0.03147967, -0.99893544],\n",
       "         [-0.03371958, -0.03467622, -0.99882959]]),\n",
       "  'frame': 'LRO_DLRE_FP_A'},\n",
       " -85221: {'shape': 'POLYGON',\n",
       "  'boresight': array([-6.99791693e-04,  3.68294807e-02, -9.99321320e-01]),\n",
       "  'bounds': array([[-0.03462341,  0.03872073, -0.99865005],\n",
       "         [-0.03462359,  0.03472566, -0.99879694],\n",
       "         [ 0.03338278,  0.03491344, -0.99883264],\n",
       "         [ 0.03338259,  0.03930812, -0.99866935]]),\n",
       "  'frame': 'LRO_DLRE_FP_A'},\n",
       " -85222: {'shape': 'POLYGON',\n",
       "  'boresight': array([-8.44512893e-04,  4.23016546e-03, -9.99990696e-01]),\n",
       "  'bounds': array([[-3.55945749e-02,  6.82241211e-03, -9.99343025e-01],\n",
       "         [-3.55946048e-02,  8.25994569e-04, -9.99365970e-01],\n",
       "         [ 3.39826453e-02,  1.23134565e-03, -9.99421665e-01],\n",
       "         [ 3.39826148e-02,  7.22805786e-03, -9.99396287e-01]]),\n",
       "  'frame': 'LRO_DLRE_FP_A'},\n",
       " -85223: {'shape': 'POLYGON',\n",
       "  'boresight': array([-0.00116639, -0.03207335, -0.99948484]),\n",
       "  'bounds': array([[-0.03687225, -0.0293707 , -0.99888828],\n",
       "         [-0.03687187, -0.03576336, -0.99867985],\n",
       "         [ 0.0338532 , -0.03537596, -0.99880053],\n",
       "         [ 0.03385345, -0.0289827 , -0.99900648]]),\n",
       "  'frame': 'LRO_DLRE_FP_A'}}"
      ]
     },
     "execution_count": 9,
     "metadata": {},
     "output_type": "execute_result"
    }
   ],
   "source": [
    "fov_data"
   ]
  },
  {
   "cell_type": "code",
   "execution_count": null,
   "metadata": {},
   "outputs": [],
   "source": [
    "import spiceypy as spice\n",
    "import numpy as np\n",
    "import plotly.graph_objects as go\n",
    "import matplotlib.pyplot as plt\n",
    "import os\n",
    "\n",
    "# 🔹 Define input DSK file\n",
    "DSK_FILE = \"/media/mglos/HDD_8TB1/LOLA_DSK/Lunar_4_percent.dsk\"\n",
    "CACHE_DIR = \"/media/mglos/HDD_8TB1/LOLA_DSK/CACHE/\"\n",
    "os.makedirs(CACHE_DIR, exist_ok=True)\n",
    "\n",
    "# 🔹 Load SPICE Kernels\n",
    "print(\"Loading SPICE Kernels...\")\n",
    "spice.furnsh(DSK_FILE)\n",
    "print(\"✅ Kernels Loaded.\")\n",
    "\n",
    "# 🔹 Extract Shape Model Data\n",
    "print(\"Extracting DSK data...\")\n",
    "dladsc = spice.dlabfs(DSK_FILE)  # Find first segment\n",
    "nv, vrtces = spice.dskv02(DSK_FILE, dladsc, 1, 10000000)  # Load vertices\n",
    "np, plates = spice.dskp02(DSK_FILE, dladsc, 1, 10000000)  # Load plates\n",
    "print(f\"✅ Loaded {nv} vertices and {np} plates.\")\n",
    "\n",
    "# 🔹 Convert Vertices to Numpy Array\n",
    "vrtces = np.array(vrtces)\n",
    "lon, lat, radius = spice.reclat(vrtces.T)\n",
    "lon, lat, radius = np.degrees(lon), np.degrees(lat), radius\n",
    "\n",
    "# 🔹 3D Globe Visualization\n",
    "print(\"Generating 3D Globe Visualization...\")\n",
    "fig_3d = go.Figure(data=[\n",
    "    go.Scatter3d(\n",
    "        x=vrtces[:, 0], y=vrtces[:, 1], z=vrtces[:, 2],\n",
    "        mode='markers',\n",
    "        marker=dict(size=1, color=radius, colorscale='Viridis', opacity=1)\n",
    "    )\n",
    "])\n",
    "fig_3d.update_layout(\n",
    "    title=\"3D Lunar Shape Model\",\n",
    "    scene=dict(\n",
    "        xaxis_title=\"X (km)\",\n",
    "        yaxis_title=\"Y (km)\",\n",
    "        zaxis_title=\"Z (km)\",\n",
    "        aspectmode='data'\n",
    "    )\n",
    ")\n",
    "fig_3d.show()\n",
    "\n",
    "# 🔹 2D Cylindrical Projection Map\n",
    "print(\"Generating 2D Cylindrical Projection...\")\n",
    "fig, ax = plt.subplots(figsize=(12, 6))\n",
    "sc = ax.scatter(lon, lat, c=radius, cmap='viridis', s=0.5)\n",
    "ax.set_xlabel(\"Longitude (°)\")\n",
    "ax.set_ylabel(\"Latitude (°)\")\n",
    "ax.set_title(\"Simple Cylindrical Projection of Lunar Surface\")\n",
    "plt.colorbar(sc, label=\"Elevation (km)\")\n",
    "plt.show()\n",
    "\n",
    "# Cleanup\n",
    "spice.kclear()\n",
    "print(\"✅ Visualization Completed.\")\n"
   ]
  }
 ],
 "metadata": {
  "kernelspec": {
   "display_name": "lavatubesniffer",
   "language": "python",
   "name": "python3"
  },
  "language_info": {
   "codemirror_mode": {
    "name": "ipython",
    "version": 3
   },
   "file_extension": ".py",
   "mimetype": "text/x-python",
   "name": "python",
   "nbconvert_exporter": "python",
   "pygments_lexer": "ipython3",
   "version": "3.9.21"
  }
 },
 "nbformat": 4,
 "nbformat_minor": 4
}
